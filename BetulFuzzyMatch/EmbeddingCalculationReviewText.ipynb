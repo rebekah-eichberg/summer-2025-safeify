{
 "cells": [
  {
   "cell_type": "code",
   "execution_count": 1,
   "id": "cd54ca0d-2ace-4fc8-b8a4-9948a91ebc9b",
   "metadata": {},
   "outputs": [
    {
     "name": "stdout",
     "output_type": "stream",
     "text": [
      "GPU available: True\n",
      "GPU name: NVIDIA GeForce RTX 4070\n"
     ]
    }
   ],
   "source": [
    "import torch\n",
    "print(\"GPU available:\", torch.cuda.is_available())\n",
    "print(\"GPU name:\", torch.cuda.get_device_name(0) if torch.cuda.is_available() else \"No GPU\")"
   ]
  },
  {
   "cell_type": "markdown",
   "id": "c82f793a-0359-4304-9281-174ded462576",
   "metadata": {},
   "source": [
    "## Amazon Reviews Data"
   ]
  },
  {
   "cell_type": "code",
   "execution_count": 12,
   "id": "d3cb5e7f-e61d-431e-9bf1-a20fe2dcb7c0",
   "metadata": {},
   "outputs": [],
   "source": [
    "import pandas as pd\n",
    "file_path = 'Data/amazon_reviews.json'  \n",
    "amazon_df = pd.read_json(file_path, lines=True, compression=None)"
   ]
  },
  {
   "cell_type": "code",
   "execution_count": 13,
   "id": "1d55b6fd-0d7c-44f7-8ec4-0300cc270f45",
   "metadata": {},
   "outputs": [
    {
     "data": {
      "text/plain": [
       "(8201231, 12)"
      ]
     },
     "execution_count": 13,
     "metadata": {},
     "output_type": "execute_result"
    }
   ],
   "source": [
    "amazon_df.shape"
   ]
  },
  {
   "cell_type": "code",
   "execution_count": 14,
   "id": "3b8cd8b8-dd1d-481a-ab14-8999b8ae6dfa",
   "metadata": {},
   "outputs": [
    {
     "data": {
      "text/plain": [
       "Index(['overall', 'vote', 'verified', 'reviewTime', 'reviewerID', 'asin',\n",
       "       'reviewerName', 'reviewText', 'summary', 'unixReviewTime', 'image',\n",
       "       'style'],\n",
       "      dtype='object')"
      ]
     },
     "execution_count": 14,
     "metadata": {},
     "output_type": "execute_result"
    }
   ],
   "source": [
    "amazon_df.columns"
   ]
  },
  {
   "cell_type": "code",
   "execution_count": 18,
   "id": "378e3b08-d08c-4ea0-9397-ff93e30d28fa",
   "metadata": {},
   "outputs": [
    {
     "data": {
      "text/plain": [
       "overall                 0\n",
       "vote              7239598\n",
       "verified                0\n",
       "reviewTime              0\n",
       "reviewerID              0\n",
       "asin                    0\n",
       "reviewerName          502\n",
       "reviewText           7117\n",
       "summary              2531\n",
       "unixReviewTime          0\n",
       "image             7999253\n",
       "style             6211781\n",
       "dtype: int64"
      ]
     },
     "execution_count": 18,
     "metadata": {},
     "output_type": "execute_result"
    }
   ],
   "source": [
    "amazon_df.isna().sum()"
   ]
  },
  {
   "cell_type": "code",
   "execution_count": 21,
   "id": "ed71d561-5d85-4389-88c2-5b0b9e420ed8",
   "metadata": {},
   "outputs": [
    {
     "data": {
      "text/html": [
       "<div>\n",
       "<style scoped>\n",
       "    .dataframe tbody tr th:only-of-type {\n",
       "        vertical-align: middle;\n",
       "    }\n",
       "\n",
       "    .dataframe tbody tr th {\n",
       "        vertical-align: top;\n",
       "    }\n",
       "\n",
       "    .dataframe thead th {\n",
       "        text-align: right;\n",
       "    }\n",
       "</style>\n",
       "<table border=\"1\" class=\"dataframe\">\n",
       "  <thead>\n",
       "    <tr style=\"text-align: right;\">\n",
       "      <th></th>\n",
       "      <th>review_len_words</th>\n",
       "      <th>review_len_chars</th>\n",
       "    </tr>\n",
       "  </thead>\n",
       "  <tbody>\n",
       "    <tr>\n",
       "      <th>count</th>\n",
       "      <td>8.201231e+06</td>\n",
       "      <td>8.201231e+06</td>\n",
       "    </tr>\n",
       "    <tr>\n",
       "      <th>mean</th>\n",
       "      <td>3.650901e+01</td>\n",
       "      <td>1.935326e+02</td>\n",
       "    </tr>\n",
       "    <tr>\n",
       "      <th>std</th>\n",
       "      <td>5.710543e+01</td>\n",
       "      <td>3.096152e+02</td>\n",
       "    </tr>\n",
       "    <tr>\n",
       "      <th>min</th>\n",
       "      <td>0.000000e+00</td>\n",
       "      <td>1.000000e+00</td>\n",
       "    </tr>\n",
       "    <tr>\n",
       "      <th>25%</th>\n",
       "      <td>8.000000e+00</td>\n",
       "      <td>4.100000e+01</td>\n",
       "    </tr>\n",
       "    <tr>\n",
       "      <th>50%</th>\n",
       "      <td>2.100000e+01</td>\n",
       "      <td>1.090000e+02</td>\n",
       "    </tr>\n",
       "    <tr>\n",
       "      <th>75%</th>\n",
       "      <td>4.300000e+01</td>\n",
       "      <td>2.230000e+02</td>\n",
       "    </tr>\n",
       "    <tr>\n",
       "      <th>max</th>\n",
       "      <td>5.905000e+03</td>\n",
       "      <td>3.256300e+04</td>\n",
       "    </tr>\n",
       "  </tbody>\n",
       "</table>\n",
       "</div>"
      ],
      "text/plain": [
       "       review_len_words  review_len_chars\n",
       "count      8.201231e+06      8.201231e+06\n",
       "mean       3.650901e+01      1.935326e+02\n",
       "std        5.710543e+01      3.096152e+02\n",
       "min        0.000000e+00      1.000000e+00\n",
       "25%        8.000000e+00      4.100000e+01\n",
       "50%        2.100000e+01      1.090000e+02\n",
       "75%        4.300000e+01      2.230000e+02\n",
       "max        5.905000e+03      3.256300e+04"
      ]
     },
     "execution_count": 21,
     "metadata": {},
     "output_type": "execute_result"
    }
   ],
   "source": [
    "# Word count (good proxy for token count)\n",
    "amazon_df['review_len_words'] = amazon_df['reviewText'].astype(str).apply(lambda x: len(x.split()))\n",
    "\n",
    "# Character count\n",
    "amazon_df['review_len_chars'] = amazon_df['reviewText'].astype(str).apply(len)\n",
    "\n",
    "# Stats\n",
    "amazon_df[['review_len_words', 'review_len_chars']].describe()"
   ]
  },
  {
   "cell_type": "code",
   "execution_count": 25,
   "id": "20af6981-e177-4d9b-a955-54ff7210e728",
   "metadata": {},
   "outputs": [],
   "source": [
    "import re\n",
    "\n",
    "def clean_text(text):\n",
    "    text = str(text).strip()\n",
    "    text = re.sub(r'\\s+', ' ', text)\n",
    "    text = re.sub(r'<.*?>', '', text)  # if HTML present\n",
    "    return text"
   ]
  },
  {
   "cell_type": "code",
   "execution_count": 27,
   "id": "9c49cfd8-399c-4c58-8489-e0c0d5a59899",
   "metadata": {},
   "outputs": [
    {
     "data": {
      "application/vnd.jupyter.widget-view+json": {
       "model_id": "627bdc036a274a7e9fef1a555d7feef7",
       "version_major": 2,
       "version_minor": 0
      },
      "text/plain": [
       "modules.json:   0%|          | 0.00/349 [00:00<?, ?B/s]"
      ]
     },
     "metadata": {},
     "output_type": "display_data"
    },
    {
     "data": {
      "application/vnd.jupyter.widget-view+json": {
       "model_id": "766a1b070a0e481c8ff9558bdbc3e406",
       "version_major": 2,
       "version_minor": 0
      },
      "text/plain": [
       "config_sentence_transformers.json:   0%|          | 0.00/116 [00:00<?, ?B/s]"
      ]
     },
     "metadata": {},
     "output_type": "display_data"
    },
    {
     "data": {
      "application/vnd.jupyter.widget-view+json": {
       "model_id": "b79901f99c474611a9105e605f572786",
       "version_major": 2,
       "version_minor": 0
      },
      "text/plain": [
       "README.md:   0%|          | 0.00/10.5k [00:00<?, ?B/s]"
      ]
     },
     "metadata": {},
     "output_type": "display_data"
    },
    {
     "data": {
      "application/vnd.jupyter.widget-view+json": {
       "model_id": "15c346ab4f84459bbf848a22894759d7",
       "version_major": 2,
       "version_minor": 0
      },
      "text/plain": [
       "sentence_bert_config.json:   0%|          | 0.00/53.0 [00:00<?, ?B/s]"
      ]
     },
     "metadata": {},
     "output_type": "display_data"
    },
    {
     "data": {
      "application/vnd.jupyter.widget-view+json": {
       "model_id": "f277ee0902d74198a33b06b0c6a86c44",
       "version_major": 2,
       "version_minor": 0
      },
      "text/plain": [
       "config.json:   0%|          | 0.00/612 [00:00<?, ?B/s]"
      ]
     },
     "metadata": {},
     "output_type": "display_data"
    },
    {
     "data": {
      "application/vnd.jupyter.widget-view+json": {
       "model_id": "b393b4fafaa64892b74c3a7978a3f1f4",
       "version_major": 2,
       "version_minor": 0
      },
      "text/plain": [
       "model.safetensors:   0%|          | 0.00/90.9M [00:00<?, ?B/s]"
      ]
     },
     "metadata": {},
     "output_type": "display_data"
    },
    {
     "name": "stderr",
     "output_type": "stream",
     "text": [
      "C:\\Users\\Betul\\anaconda3\\envs\\pytorch_env\\Lib\\site-packages\\transformers\\tokenization_utils_base.py:1601: FutureWarning: `clean_up_tokenization_spaces` was not set. It will be set to `True` by default. This behavior will be depracted in transformers v4.45, and will be then set to `False` by default. For more details check this issue: https://github.com/huggingface/transformers/issues/31884\n",
      "  warnings.warn(\n"
     ]
    },
    {
     "data": {
      "application/vnd.jupyter.widget-view+json": {
       "model_id": "97a4f813e9604efb86c9a337527a59c0",
       "version_major": 2,
       "version_minor": 0
      },
      "text/plain": [
       "config.json:   0%|          | 0.00/190 [00:00<?, ?B/s]"
      ]
     },
     "metadata": {},
     "output_type": "display_data"
    }
   ],
   "source": [
    "from sentence_transformers import SentenceTransformer\n",
    "model = SentenceTransformer('all-MiniLM-L6-v2', device='cuda')\n",
    "model.max_seq_length = 256  # safe default for 75–90% of your reviews\n"
   ]
  },
  {
   "cell_type": "code",
   "execution_count": null,
   "id": "43332ea2-de85-4efe-9cc3-0349c29688b1",
   "metadata": {},
   "outputs": [],
   "source": []
  },
  {
   "cell_type": "code",
   "execution_count": null,
   "id": "3747f0ec-c79b-4524-9a82-03e02c93461b",
   "metadata": {},
   "outputs": [],
   "source": [
    "#clean_reviews = [clean_text(t) for t in reviews if isinstance(t, str) and len(t.strip()) > 10]\n",
    "#embeddings = model.encode(clean_reviews, batch_size=128, show_progress_bar=True)"
   ]
  },
  {
   "cell_type": "code",
   "execution_count": 29,
   "id": "114e3dc7-baac-417e-aea2-3ec164d3d78a",
   "metadata": {},
   "outputs": [
    {
     "name": "stderr",
     "output_type": "stream",
     "text": [
      "C:\\Users\\Betul\\anaconda3\\envs\\pytorch_env\\Lib\\site-packages\\transformers\\tokenization_utils_base.py:1601: FutureWarning: `clean_up_tokenization_spaces` was not set. It will be set to `True` by default. This behavior will be depracted in transformers v4.45, and will be then set to `False` by default. For more details check this issue: https://github.com/huggingface/transformers/issues/31884\n",
      "  warnings.warn(\n",
      "  0%|                                                                                        | 0/64073 [00:00<?, ?it/s]C:\\Users\\Betul\\anaconda3\\envs\\pytorch_env\\Lib\\site-packages\\transformers\\models\\bert\\modeling_bert.py:439: UserWarning: 1Torch was not compiled with flash attention. (Triggered internally at C:\\cb\\pytorch_1000000000000\\work\\aten\\src\\ATen\\native\\transformers\\cuda\\sdp_utils.cpp:555.)\n",
      "  attn_output = torch.nn.functional.scaled_dot_product_attention(\n",
      "100%|████████████████████████████████████████████████████████████████████████████| 64073/64073 [47:31<00:00, 22.47it/s]\n"
     ]
    }
   ],
   "source": [
    "import pandas as pd\n",
    "import numpy as np\n",
    "from tqdm import tqdm\n",
    "from sentence_transformers import SentenceTransformer\n",
    "import re\n",
    "\n",
    "# Load model\n",
    "model = SentenceTransformer('all-MiniLM-L6-v2', device='cuda')\n",
    "model.max_seq_length = 256\n",
    "\n",
    "# Clean function\n",
    "def clean_text(text):\n",
    "    text = str(text).strip()\n",
    "    text = re.sub(r'\\s+', ' ', text)\n",
    "    text = re.sub(r'<.*?>', '', text)\n",
    "    return text\n",
    "\n",
    "# Clean the review text\n",
    "amazon_df['reviewText_clean'] = amazon_df['reviewText'].apply(lambda x: clean_text(x) if pd.notnull(x) else None)\n",
    "\n",
    "# Initialize embedding list\n",
    "embeddings = []\n",
    "\n",
    "# Generate embeddings in batches\n",
    "BATCH_SIZE = 128\n",
    "texts = amazon_df['reviewText_clean'].tolist()\n",
    "\n",
    "for i in tqdm(range(0, len(texts), BATCH_SIZE)):\n",
    "    batch = texts[i:i+BATCH_SIZE]\n",
    "    \n",
    "    # Separate valid (non-null) and null\n",
    "    valid_indices = [j for j, t in enumerate(batch) if t]\n",
    "    valid_texts = [batch[j] for j in valid_indices]\n",
    "    \n",
    "    # Generate embeddings for non-null\n",
    "    if valid_texts:\n",
    "        batch_embeddings = model.encode(valid_texts)\n",
    "    else:\n",
    "        batch_embeddings = []\n",
    "    \n",
    "    # Insert into full list with placeholder None for nulls\n",
    "    batch_result = [None] * len(batch)\n",
    "    for j, idx in enumerate(valid_indices):\n",
    "        batch_result[idx] = batch_embeddings[j]\n",
    "    \n",
    "    embeddings.extend(batch_result)\n"
   ]
  },
  {
   "cell_type": "code",
   "execution_count": 30,
   "id": "eb6e14f9-31bf-41f6-9a4b-5c1dd3b1604a",
   "metadata": {},
   "outputs": [],
   "source": [
    "amazon_df['embedding'] = embeddings\n",
    "\n",
    "# Save as Parquet (efficient binary format)\n",
    "amazon_df.to_parquet(\"amazon_reviews_with_embeddings.parquet\", index=True)"
   ]
  },
  {
   "cell_type": "code",
   "execution_count": 33,
   "id": "6808e140-0a8f-4501-9eb3-33354233bb2c",
   "metadata": {},
   "outputs": [
    {
     "data": {
      "text/plain": [
       "(8201231,)"
      ]
     },
     "execution_count": 33,
     "metadata": {},
     "output_type": "execute_result"
    }
   ],
   "source": [
    "amazon_df['embedding'].shape"
   ]
  },
  {
   "cell_type": "code",
   "execution_count": 37,
   "id": "37d45a40-3d1b-466b-8e87-22bef0a4de17",
   "metadata": {},
   "outputs": [
    {
     "data": {
      "text/plain": [
       "array([-1.65801088e-03,  1.09449439e-02,  2.27515437e-02, -7.84764439e-02,\n",
       "       -1.71768758e-02, -2.43904255e-02,  3.96318696e-02,  3.94715294e-02,\n",
       "        8.01011994e-02,  2.62124576e-02, -3.35558429e-02,  5.36860414e-02,\n",
       "        2.68798973e-02,  1.24948928e-02, -1.79120973e-02,  1.41302152e-02,\n",
       "        9.96875092e-02, -1.13082975e-01, -1.67907160e-02,  2.17386484e-02,\n",
       "        2.89422162e-02, -9.44497064e-02,  2.92110862e-03, -7.31409639e-02,\n",
       "       -4.73110657e-03,  3.81219126e-02, -2.46449895e-02,  3.96338813e-02,\n",
       "       -1.10096419e-02, -9.60111171e-02, -4.38720360e-03,  8.51178765e-02,\n",
       "       -3.05877271e-04,  1.90579649e-02, -4.34743538e-02, -2.97613237e-02,\n",
       "       -2.21696496e-02,  5.40518016e-03, -3.09613328e-02, -4.86020148e-02,\n",
       "       -3.72039154e-02,  9.26720276e-02,  3.07666417e-02,  8.48193988e-02,\n",
       "        1.22561073e-02, -3.92790809e-02, -5.93561344e-02, -2.35227831e-02,\n",
       "        1.46206506e-02, -2.80780308e-02, -3.84305194e-02,  1.67447962e-02,\n",
       "        3.05327345e-02,  1.28238974e-02,  5.61198145e-02, -9.11940180e-04,\n",
       "        5.33023737e-02,  4.18601893e-02, -6.29058331e-02, -7.92596769e-03,\n",
       "        5.48249893e-02,  3.28678451e-02, -3.07679027e-02,  1.18665919e-02,\n",
       "        8.71725529e-02, -4.84205298e-02,  2.84589804e-03, -2.30771862e-02,\n",
       "       -5.82943596e-02,  2.97979941e-03, -3.73812765e-02, -2.91287173e-02,\n",
       "       -2.41470663e-03, -5.05131960e-04,  1.37095666e-02, -1.01110660e-01,\n",
       "       -5.76707572e-02, -1.00436918e-01,  2.68824659e-02, -9.98769142e-03,\n",
       "        8.51184949e-02,  4.33348157e-02, -1.04681645e-02,  7.95150995e-02,\n",
       "       -5.15072756e-02, -1.01868447e-03,  5.25492895e-03, -5.72278649e-02,\n",
       "        2.78144162e-02,  2.37847827e-02,  5.88952862e-02, -1.18873343e-02,\n",
       "       -8.03114250e-02,  2.31446158e-02, -3.81548516e-02, -1.77501086e-02,\n",
       "       -3.99760902e-03, -6.33653775e-02, -1.98500995e-02,  4.83680740e-02,\n",
       "        3.34906317e-02,  4.28864658e-02,  4.83018048e-02,  8.84363987e-03,\n",
       "       -1.48326112e-02, -8.71946141e-02,  5.46317063e-02, -2.30391347e-03,\n",
       "       -5.32656126e-02,  1.13432691e-01,  5.60355745e-02,  6.93779588e-02,\n",
       "       -5.14137140e-03,  1.15828626e-01, -2.67064348e-02, -2.56580766e-02,\n",
       "       -9.57476906e-03, -5.31189293e-02,  8.97318199e-02, -2.53291912e-02,\n",
       "       -1.67264734e-04,  2.30484828e-02,  1.64798554e-02, -1.99106918e-03,\n",
       "       -1.93699971e-02, -1.58995986e-02, -4.96371463e-02, -4.32083208e-34,\n",
       "        8.68651830e-03, -1.12688914e-02, -3.24870162e-02,  2.79330332e-02,\n",
       "        5.95276430e-02, -2.17339862e-03, -1.44400485e-02,  1.23777658e-01,\n",
       "        7.71564990e-02, -2.97258683e-02, -2.91844066e-02, -1.33891171e-02,\n",
       "        8.19996223e-02,  5.25255129e-02,  7.03438595e-02, -2.98841633e-02,\n",
       "        1.29112294e-02,  5.76009564e-02, -3.51749510e-02,  3.36533003e-02,\n",
       "       -5.65651096e-02, -8.53720009e-02, -3.31804976e-02, -3.62461247e-02,\n",
       "       -2.68660299e-02,  1.30488619e-01, -2.84515973e-02,  5.84157631e-02,\n",
       "        2.22073384e-02,  1.20603377e-02, -1.43533587e-01,  4.77083446e-03,\n",
       "        3.81712839e-02, -8.30403194e-02,  3.34314555e-02,  4.27528983e-03,\n",
       "       -9.81115773e-02, -2.44432334e-02,  1.59635153e-02, -3.20780799e-02,\n",
       "       -1.33200720e-01,  2.21458208e-02,  9.92440968e-04, -2.02123094e-02,\n",
       "       -6.68475404e-02,  1.71828065e-02,  5.34062758e-02, -7.89658129e-02,\n",
       "       -7.31020272e-02,  2.30379105e-02,  4.45367843e-02, -1.60124525e-02,\n",
       "        2.42792685e-02, -4.69529293e-02, -2.08697859e-02, -1.31229647e-02,\n",
       "       -1.53932227e-02, -1.49208620e-01,  9.19195078e-03, -6.63670059e-03,\n",
       "       -2.06871554e-02, -3.17645557e-02, -2.55962145e-02,  8.52007940e-02,\n",
       "        1.89470053e-02,  8.36058632e-02, -1.13193747e-02,  3.88243189e-03,\n",
       "       -3.08011994e-02, -4.13329117e-02, -7.09423572e-02, -4.02889550e-02,\n",
       "       -8.00077338e-03, -4.11961749e-02,  5.22337388e-03, -1.01750232e-02,\n",
       "        1.12400390e-01, -2.26565115e-02,  2.91846804e-02, -2.77881920e-02,\n",
       "        3.99811305e-02, -5.94507195e-02,  2.93927975e-02, -1.22456007e-01,\n",
       "        1.69651657e-02, -2.24518636e-03,  6.82550669e-02, -7.72572160e-02,\n",
       "       -7.37983659e-02, -1.94550119e-02, -4.74604554e-02, -7.93949589e-02,\n",
       "       -1.95800513e-02,  1.60082113e-02, -2.66783964e-02, -1.72677163e-33,\n",
       "       -9.14377570e-02, -2.08939612e-03, -8.40231925e-02,  3.05833351e-02,\n",
       "        3.81313674e-02,  2.25209910e-02, -1.22553483e-02,  6.85421303e-02,\n",
       "        2.90330071e-02,  2.35331766e-02, -3.56379151e-03,  6.68921322e-02,\n",
       "       -6.51751384e-02,  3.22020501e-02,  2.07061879e-02, -1.14630284e-02,\n",
       "       -6.16509141e-03, -7.18384385e-02, -9.04870927e-02, -1.83471125e-02,\n",
       "        1.15138434e-01,  6.15899935e-02, -9.81087144e-03,  9.83678736e-03,\n",
       "       -5.08393310e-02,  5.12400642e-02, -9.36657339e-02, -3.67745496e-02,\n",
       "        5.55379540e-02,  9.50097889e-02,  1.16901964e-01, -6.68734759e-02,\n",
       "       -4.31821384e-02,  6.81144325e-03,  1.80264767e-02, -3.28712016e-02,\n",
       "        3.95642221e-02,  5.76269329e-02, -5.99649027e-02,  7.78001845e-02,\n",
       "        2.46065459e-03,  6.26606569e-02, -6.33246005e-02,  6.89585358e-02,\n",
       "        4.78888340e-02,  7.96766281e-02,  4.37905267e-02, -3.63516361e-02,\n",
       "       -1.52772870e-02,  2.66585946e-02, -3.39830555e-02, -1.99369006e-02,\n",
       "        5.04764132e-02, -1.01720886e-02, -3.93400192e-02,  1.40809612e-02,\n",
       "       -1.36991907e-02,  8.62726271e-02,  7.97117408e-03,  2.74456292e-02,\n",
       "        4.63380478e-02,  8.50100163e-03, -8.66251886e-02, -5.86802065e-02,\n",
       "       -9.79573838e-03,  3.58802937e-02,  1.50912656e-02,  1.13029078e-01,\n",
       "       -1.10205337e-01,  4.60463129e-02,  2.45104786e-02,  2.26347800e-02,\n",
       "       -5.62432446e-02, -3.59740146e-02, -2.45201569e-02,  1.48684204e-01,\n",
       "        4.36609089e-02, -1.46379489e-02,  3.64206396e-02,  2.48360764e-02,\n",
       "       -1.12886010e-02, -3.20720486e-02, -2.21272875e-02,  1.20358290e-02,\n",
       "        2.73826271e-02, -4.72779432e-03, -3.73537317e-02, -7.58283585e-02,\n",
       "       -9.65588763e-02,  4.43673432e-02,  2.17962153e-02,  2.91215349e-02,\n",
       "        6.88349316e-03,  2.37665046e-02,  4.24953131e-03, -4.72381956e-08,\n",
       "       -2.29244791e-02, -1.26162842e-02,  5.52917235e-02, -5.47220334e-02,\n",
       "       -6.29520863e-02, -1.18295841e-01,  6.71183094e-02,  3.14713418e-02,\n",
       "        7.75061548e-02, -4.93402518e-02,  5.87184653e-02, -6.85399473e-02,\n",
       "       -1.42820045e-01, -1.31012974e-02,  4.87670787e-02,  1.67960040e-02,\n",
       "       -4.25878679e-03, -2.79910374e-03, -6.79905787e-02,  3.09886690e-02,\n",
       "        2.34389007e-02, -2.38623526e-02, -6.20453060e-03, -1.06556803e-01,\n",
       "       -2.15659272e-02, -1.96844023e-02,  8.54362845e-02,  7.49872485e-03,\n",
       "       -3.40792872e-02, -5.49689867e-02,  6.19778270e-03,  4.14456651e-02,\n",
       "        4.11272198e-02,  3.57715338e-02, -3.79377301e-03, -1.20241307e-02,\n",
       "        2.68819500e-02, -2.23243851e-02,  6.58977702e-02,  8.16304535e-02,\n",
       "       -2.42860913e-02, -9.08746496e-02,  1.69558693e-02,  7.19615594e-02,\n",
       "       -2.41226843e-03,  3.39922942e-02,  1.09757232e-02, -8.11636150e-02,\n",
       "       -3.76344137e-02, -1.08348783e-02, -7.58078927e-03,  4.00077216e-02,\n",
       "       -1.50637254e-02, -4.11365293e-02,  6.75843155e-04,  2.62989644e-02,\n",
       "        5.02306595e-02,  7.14529082e-02, -5.96467145e-02,  1.29930081e-03,\n",
       "        1.92221068e-02, -1.53939864e-02, -4.08366546e-02,  5.84211051e-02],\n",
       "      dtype=float32)"
      ]
     },
     "execution_count": 37,
     "metadata": {},
     "output_type": "execute_result"
    }
   ],
   "source": [
    "embeddings[0]"
   ]
  },
  {
   "cell_type": "code",
   "execution_count": null,
   "id": "a657e045-c7e2-49f7-9ae2-7fab41cbfc79",
   "metadata": {},
   "outputs": [],
   "source": []
  }
 ],
 "metadata": {
  "kernelspec": {
   "display_name": "Python (pytorch_env)",
   "language": "python",
   "name": "pytorch_env"
  },
  "language_info": {
   "codemirror_mode": {
    "name": "ipython",
    "version": 3
   },
   "file_extension": ".py",
   "mimetype": "text/x-python",
   "name": "python",
   "nbconvert_exporter": "python",
   "pygments_lexer": "ipython3",
   "version": "3.11.9"
  }
 },
 "nbformat": 4,
 "nbformat_minor": 5
}
