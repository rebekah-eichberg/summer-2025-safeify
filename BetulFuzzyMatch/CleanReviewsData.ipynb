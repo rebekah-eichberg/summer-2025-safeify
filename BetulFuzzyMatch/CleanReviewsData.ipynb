{
 "cells": [
  {
   "cell_type": "code",
   "execution_count": 5,
   "id": "90b645b8-6fcd-4c53-92e6-768b970772c1",
   "metadata": {},
   "outputs": [],
   "source": [
    "import pandas as pd"
   ]
  },
  {
   "cell_type": "code",
   "execution_count": null,
   "id": "35eb1ac0-1644-415f-b9e7-809823849997",
   "metadata": {},
   "outputs": [],
   "source": [
    "amazon_df = pd.read_parquet(\"amazon_reviews_with_embeddings.parquet\")"
   ]
  },
  {
   "cell_type": "code",
   "execution_count": null,
   "id": "b6e05526-f93b-4a4c-9678-9343f2ef04ed",
   "metadata": {},
   "outputs": [],
   "source": [
    "print(f\"Shape of Amazon Reviews Data: {amazon_df.shape}\")\n",
    "print(f\"Columns of Amazon Reviews Data: {amazon_df.columns}\")"
   ]
  },
  {
   "cell_type": "markdown",
   "id": "13bd69b4-80bc-4f30-a67c-128a8bc6afa3",
   "metadata": {},
   "source": [
    "## Drop Null Values"
   ]
  },
  {
   "cell_type": "code",
   "execution_count": null,
   "id": "46696338-d635-42e5-bb3f-f5345632266f",
   "metadata": {},
   "outputs": [],
   "source": [
    "amazon_df.dropna(subset=['summary','reviewText', 'reviewerName'],inplace=True)"
   ]
  },
  {
   "cell_type": "code",
   "execution_count": null,
   "id": "09008d36-12eb-4ff6-92b0-dfbd6de7a629",
   "metadata": {},
   "outputs": [],
   "source": [
    "amazon_df.drop(columns=['image', 'vote', 'style', 'reviewTime'],inplace=True)"
   ]
  },
  {
   "cell_type": "code",
   "execution_count": null,
   "id": "88d9ecb7-5fb6-4f9a-b6c9-9f6baecf33c8",
   "metadata": {},
   "outputs": [],
   "source": [
    "amazon_df.shape"
   ]
  },
  {
   "cell_type": "markdown",
   "id": "10216e4b-369d-47e5-96e5-300180f91570",
   "metadata": {},
   "source": [
    "After dropping null review Text, we will see how embeddings are:"
   ]
  },
  {
   "cell_type": "code",
   "execution_count": null,
   "id": "8a199fe9-1f2f-49dc-835e-17f5370d17f3",
   "metadata": {},
   "outputs": [],
   "source": [
    "amazon_df['embedding'].isna().sum()"
   ]
  },
  {
   "cell_type": "markdown",
   "id": "8c52491e-2059-421a-ab8e-93a9c05df9f0",
   "metadata": {},
   "source": [
    "There are still 156 rows with null embeddings:"
   ]
  },
  {
   "cell_type": "code",
   "execution_count": null,
   "id": "2c7247be-f940-4187-961d-0793340295c0",
   "metadata": {},
   "outputs": [],
   "source": [
    "print(amazon_df.loc[amazon_df['embedding'].isna(), 'reviewText'])"
   ]
  },
  {
   "cell_type": "code",
   "execution_count": null,
   "id": "4714387f-dcf2-4085-9a82-2f81a484495a",
   "metadata": {},
   "outputs": [],
   "source": [
    "print(amazon_df.loc[32620,'reviewText'])"
   ]
  },
  {
   "cell_type": "markdown",
   "id": "2107b93b-2149-4ef0-8c75-a84d2fee605a",
   "metadata": {},
   "source": [
    "This is Video reivew, so we will drop these rows. "
   ]
  },
  {
   "cell_type": "code",
   "execution_count": null,
   "id": "c5854500-49ca-4d4a-a16e-ce1a6823b31e",
   "metadata": {},
   "outputs": [],
   "source": [
    "amazon_df.dropna(subset=['embedding'], inplace=True)"
   ]
  },
  {
   "cell_type": "markdown",
   "id": "365051a8-1f6b-48ae-bde4-2a7909ec5710",
   "metadata": {},
   "source": [
    "## Analyze One Review Products"
   ]
  },
  {
   "cell_type": "markdown",
   "id": "2e2bc429-7b5f-4e21-a3f2-b3f5b656b0e1",
   "metadata": {},
   "source": [
    "#### Print Some Reviews Belong to One Review Products"
   ]
  },
  {
   "cell_type": "code",
   "execution_count": null,
   "id": "d07a2540-92bb-4205-b937-a6b0c4236477",
   "metadata": {},
   "outputs": [],
   "source": [
    "review_counts = amazon_df.groupby('asin')['reviewText'].count()\n",
    "one_review_asins = review_counts[review_counts == 1].index\n",
    "one_review_df = amazon_df[amazon_df['asin'].isin(one_review_asins)].copy()"
   ]
  },
  {
   "cell_type": "code",
   "execution_count": null,
   "id": "7d3c90bd-af26-426c-a941-9afcfc6b82f6",
   "metadata": {},
   "outputs": [],
   "source": [
    "for i, review in enumerate(one_review_df['reviewText'].head(20), 1):\n",
    "    print(f\"--- Review {i} ---\\n{review}\\n\")"
   ]
  },
  {
   "cell_type": "markdown",
   "id": "df209899-a160-41d5-a88c-93be7f29b383",
   "metadata": {},
   "source": [
    "Most of these reviews has a lot of information, Let's print one word one review products. "
   ]
  },
  {
   "cell_type": "code",
   "execution_count": null,
   "id": "2c52cd90-8d52-4742-befb-aaefdf96142b",
   "metadata": {},
   "outputs": [],
   "source": [
    "one_review_df['word_count'] = amazon_df_one_review['reviewText'].str.split().apply(len)\n",
    "\n",
    "amazon_df_sorted = one_review_df.sort_values(by='word_count')\n",
    "\n",
    "amazon_df_sorted = amazon_df_sorted.reset_index(drop=True)\n",
    "\n",
    "for i, row in amazon_df_sorted.head(10).iterrows():\n",
    "    print(f\"--- Review {i+1} ---\")\n",
    "    print(f\"Word Count: {row['word_count']}\")\n",
    "    print(f\"{row['reviewText']}\\n\")"
   ]
  },
  {
   "cell_type": "markdown",
   "id": "08ba8447-6aec-40c0-8549-4c596fbf28d9",
   "metadata": {},
   "source": [
    "Since we use sentence embeddings, one-word reviews from single-review products provide little meaningful information and instead introduce noise. Therefore, we will eliminate such products from our dataset."
   ]
  },
  {
   "cell_type": "code",
   "execution_count": null,
   "id": "aadd8bc0-6b40-478b-82d9-d4c0b3d71054",
   "metadata": {},
   "outputs": [],
   "source": [
    "one_word_review_asins = one_review_df[one_review_df['word_count'] <= 1]['asin']\n",
    "\n",
    "amazon_df_cleaned = amazon_df[~amazon_df['asin'].isin(one_word_review_asins)]"
   ]
  },
  {
   "cell_type": "code",
   "execution_count": null,
   "id": "378f7ad3-5184-485f-81f2-a913bf6fcfbe",
   "metadata": {},
   "outputs": [],
   "source": [
    "amazon_df_cleaned.shape"
   ]
  },
  {
   "cell_type": "code",
   "execution_count": null,
   "id": "a3b23dd2-8e67-499d-bfeb-ce70b12cf6ef",
   "metadata": {},
   "outputs": [],
   "source": [
    "unique_asins = amazon_df_cleaned['asin'].unique()"
   ]
  },
  {
   "cell_type": "code",
   "execution_count": null,
   "id": "80310935-e776-4ed9-896d-01308adc12fc",
   "metadata": {},
   "outputs": [],
   "source": [
    "# upload labels\n",
    "amazon_df_labels = pd.read_pickle(\"Data/amazon_df_labels.pkl\")"
   ]
  },
  {
   "cell_type": "code",
   "execution_count": null,
   "id": "f2b6c9e2-b349-47cc-a040-d38a79988c69",
   "metadata": {},
   "outputs": [],
   "source": [
    "# Merge amazon_df_labels with amazon_df_cleaned on 'asin'\n",
    "asin_labels_clean_review_df = amazon_df_labels[amazon_df_labels['asin'].isin(amazon_df_cleaned['asin'].unique())]"
   ]
  },
  {
   "cell_type": "code",
   "execution_count": null,
   "id": "03c7a17e-4302-48c7-b7da-d7f4010036b3",
   "metadata": {},
   "outputs": [],
   "source": [
    "asin_labels_clean_review_df = asin_labels_clean_review_df.drop_duplicates(subset='asin')"
   ]
  },
  {
   "cell_type": "code",
   "execution_count": null,
   "id": "a1b4357e-1910-4eee-96c9-00f8f83ee076",
   "metadata": {},
   "outputs": [],
   "source": [
    "print(f\"After dropping, the size of the data is: {len(ains_labels_clean_review_df)}\")"
   ]
  },
  {
   "cell_type": "code",
   "execution_count": null,
   "id": "610683c0-c2b4-413f-9403-582585191a50",
   "metadata": {},
   "outputs": [],
   "source": [
    "asin_labels_clean_review_df['match'].value_counts()"
   ]
  },
  {
   "cell_type": "code",
   "execution_count": null,
   "id": "33a28335-caf2-414e-aac5-f719fcf9800d",
   "metadata": {},
   "outputs": [],
   "source": [
    "asin_labels_clean_review_df.shape"
   ]
  },
  {
   "cell_type": "code",
   "execution_count": null,
   "id": "0d83da7b-8e3d-46a8-9c91-eed9ea46a521",
   "metadata": {},
   "outputs": [],
   "source": [
    "# Save cleaned asins and labels:\n",
    "asin_labels_clean_review_df.to_csv(\"Data/asin_labels_clean_review_df.csv\", index=False)"
   ]
  }
 ],
 "metadata": {
  "kernelspec": {
   "display_name": "Python (pytorch_env)",
   "language": "python",
   "name": "pytorch_env"
  },
  "language_info": {
   "codemirror_mode": {
    "name": "ipython",
    "version": 3
   },
   "file_extension": ".py",
   "mimetype": "text/x-python",
   "name": "python",
   "nbconvert_exporter": "python",
   "pygments_lexer": "ipython3",
   "version": "3.11.9"
  }
 },
 "nbformat": 4,
 "nbformat_minor": 5
}
