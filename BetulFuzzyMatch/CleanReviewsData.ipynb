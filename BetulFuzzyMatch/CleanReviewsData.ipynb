{
 "cells": [
  {
   "cell_type": "code",
   "execution_count": 5,
   "id": "90b645b8-6fcd-4c53-92e6-768b970772c1",
   "metadata": {},
   "outputs": [],
   "source": [
    "import pandas as pd"
   ]
  },
  {
   "cell_type": "code",
   "execution_count": 6,
   "id": "35eb1ac0-1644-415f-b9e7-809823849997",
   "metadata": {},
   "outputs": [],
   "source": [
    "amazon_df = pd.read_parquet(\"amazon_reviews_with_embeddings.parquet\")"
   ]
  },
  {
   "cell_type": "code",
   "execution_count": 7,
   "id": "b6e05526-f93b-4a4c-9678-9343f2ef04ed",
   "metadata": {},
   "outputs": [
    {
     "name": "stdout",
     "output_type": "stream",
     "text": [
      "Shape of Amazon Reviews Data: (8201231, 16)\n",
      "Columns of Amazon Reviews Data: Index(['overall', 'vote', 'verified', 'reviewTime', 'reviewerID', 'asin',\n",
      "       'reviewerName', 'reviewText', 'summary', 'unixReviewTime', 'image',\n",
      "       'style', 'review_len_words', 'review_len_chars', 'reviewText_clean',\n",
      "       'embedding'],\n",
      "      dtype='object')\n"
     ]
    }
   ],
   "source": [
    "print(f\"Shape of Amazon Reviews Data: {amazon_df.shape}\")\n",
    "print(f\"Columns of Amazon Reviews Data: {amazon_df.columns}\")"
   ]
  },
  {
   "cell_type": "markdown",
   "id": "13bd69b4-80bc-4f30-a67c-128a8bc6afa3",
   "metadata": {},
   "source": [
    "## Drop Null Values"
   ]
  },
  {
   "cell_type": "code",
   "execution_count": 9,
   "id": "46696338-d635-42e5-bb3f-f5345632266f",
   "metadata": {},
   "outputs": [],
   "source": [
    "amazon_df.dropna(subset=['summary','reviewText', 'reviewerName'],inplace=True)"
   ]
  },
  {
   "cell_type": "code",
   "execution_count": 10,
   "id": "09008d36-12eb-4ff6-92b0-dfbd6de7a629",
   "metadata": {},
   "outputs": [],
   "source": [
    "amazon_df.drop(columns=['image', 'vote', 'style', 'reviewTime'],inplace=True)"
   ]
  },
  {
   "cell_type": "code",
   "execution_count": 11,
   "id": "88d9ecb7-5fb6-4f9a-b6c9-9f6baecf33c8",
   "metadata": {},
   "outputs": [
    {
     "data": {
      "text/plain": [
       "(8191295, 12)"
      ]
     },
     "execution_count": 11,
     "metadata": {},
     "output_type": "execute_result"
    }
   ],
   "source": [
    "amazon_df.shape"
   ]
  },
  {
   "cell_type": "markdown",
   "id": "10216e4b-369d-47e5-96e5-300180f91570",
   "metadata": {},
   "source": [
    "After dropping null review Text, we will see how embeddings are:"
   ]
  },
  {
   "cell_type": "code",
   "execution_count": 13,
   "id": "8a199fe9-1f2f-49dc-835e-17f5370d17f3",
   "metadata": {},
   "outputs": [
    {
     "data": {
      "text/plain": [
       "156"
      ]
     },
     "execution_count": 13,
     "metadata": {},
     "output_type": "execute_result"
    }
   ],
   "source": [
    "amazon_df['embedding'].isna().sum()"
   ]
  },
  {
   "cell_type": "markdown",
   "id": "8c52491e-2059-421a-ab8e-93a9c05df9f0",
   "metadata": {},
   "source": [
    "There are still 156 rows with null embeddings:"
   ]
  },
  {
   "cell_type": "code",
   "execution_count": 15,
   "id": "2c7247be-f940-4187-961d-0793340295c0",
   "metadata": {},
   "outputs": [
    {
     "name": "stdout",
     "output_type": "stream",
     "text": [
      "32620      <div id=\"video-block-RZJE0FUS9Q294\" class=\"a-s...\n",
      "39561      <div id=\"video-block-R140VRJ98DUX7I\" class=\"a-...\n",
      "141368     <div id=\"video-block-RWO16ORWOSEG\" class=\"a-se...\n",
      "480058     <div id=\"video-block-R3OS0H9AM1JAE2\" class=\"a-...\n",
      "550180     <div id=\"video-block-R1T6JKTB1KCZ0F\" class=\"a-...\n",
      "                                 ...                        \n",
      "7994999    <div id=\"video-block-R2V63EVDOHZLHF\" class=\"a-...\n",
      "8055368                                                     \n",
      "8084287    <div id=\"video-block-RBEWWMCKKIY6M\" class=\"a-s...\n",
      "8128175                                                     \n",
      "8186277    <div id=\"video-block-R7NSNC4PCI6VZ\" class=\"a-s...\n",
      "Name: reviewText, Length: 156, dtype: object\n"
     ]
    }
   ],
   "source": [
    "print(amazon_df.loc[amazon_df['embedding'].isna(), 'reviewText'])"
   ]
  },
  {
   "cell_type": "code",
   "execution_count": 16,
   "id": "4714387f-dcf2-4085-9a82-2f81a484495a",
   "metadata": {},
   "outputs": [
    {
     "name": "stdout",
     "output_type": "stream",
     "text": [
      "<div id=\"video-block-RZJE0FUS9Q294\" class=\"a-section a-spacing-small a-spacing-top-mini video-block\"></div><input type=\"hidden\" name=\"\" value=\"https://images-na.ssl-images-amazon.com/images/I/B1m9qVXPZTS.mp4\" class=\"video-url\"><input type=\"hidden\" name=\"\" value=\"https://images-na.ssl-images-amazon.com/images/I/51YwxGYUp6S.png\" class=\"video-slate-img-url\">\n"
     ]
    }
   ],
   "source": [
    "print(amazon_df.loc[32620,'reviewText'])"
   ]
  },
  {
   "cell_type": "markdown",
   "id": "2107b93b-2149-4ef0-8c75-a84d2fee605a",
   "metadata": {},
   "source": [
    "This is Video reivew, so we will drop these rows. "
   ]
  },
  {
   "cell_type": "code",
   "execution_count": 18,
   "id": "c5854500-49ca-4d4a-a16e-ce1a6823b31e",
   "metadata": {},
   "outputs": [],
   "source": [
    "amazon_df.dropna(subset=['embedding'], inplace=True)"
   ]
  },
  {
   "cell_type": "markdown",
   "id": "365051a8-1f6b-48ae-bde4-2a7909ec5710",
   "metadata": {},
   "source": [
    "## Analyze One Review Products"
   ]
  },
  {
   "cell_type": "markdown",
   "id": "2e2bc429-7b5f-4e21-a3f2-b3f5b656b0e1",
   "metadata": {},
   "source": [
    "#### Print Some Reviews Belong to One Review Products"
   ]
  },
  {
   "cell_type": "code",
   "execution_count": 21,
   "id": "d07a2540-92bb-4205-b937-a6b0c4236477",
   "metadata": {},
   "outputs": [],
   "source": [
    "review_counts = amazon_df.groupby('asin')['reviewText'].count()\n",
    "one_review_asins = review_counts[review_counts == 1].index\n",
    "one_review_df = amazon_df[amazon_df['asin'].isin(one_review_asins)].copy()"
   ]
  },
  {
   "cell_type": "code",
   "execution_count": 22,
   "id": "7d3c90bd-af26-426c-a941-9afcfc6b82f6",
   "metadata": {},
   "outputs": [
    {
     "name": "stdout",
     "output_type": "stream",
     "text": [
      "--- Review 1 ---\n",
      "After being inundated with Barbie, I had not paid much attention to these dolls and their accessories until my child recently pointed them out in the newspaper insert and then wanted to look at them online.  This one was specifically liked because of the appealing clothing.  After receiving it and seeing just how cute it is, I don't mind investing a little in the My Scene stuff.  I think I might even have fun playing with the stuff.\n",
      "\n",
      "--- Review 2 ---\n",
      "Great product, thank you! Our son loved the puzzles.  They have large pieces yet they are still challenging for a 4 year old.\n",
      "\n",
      "--- Review 3 ---\n",
      "A1\n",
      "\n",
      "--- Review 4 ---\n",
      "A very cute little toy, though very expensive for its size.\n",
      "\n",
      "--- Review 5 ---\n",
      "This book has so many reviews mine is not necessary; but I feel so strongly about this book I had to share.  I have two boys- 3yrs & 1yr- They have actually read our book so much it fell apart.  I am purchasing  another copy.  They LOVE this book.  A great gift idea for baby showers--  how wonderful it is when your child curls up in your lap to have storytime.  This is a book they will get first everytime.  This book is amazing there  are few words and numerous things to discuss.  It is simply A MUST!\n",
      "\n",
      "--- Review 6 ---\n",
      "so we've only had this for one day and the new of it is fun...but it is hard to do! I bought it for my 4 year old and he can do it, but you have to have everything lined up PERFECTLY and then it still won't work a lot of times. you have to concentrate so hard on the pen you barely can concentrate on the story or images. the books might be find for reading but just not worth it to me\n",
      "\n",
      "--- Review 7 ---\n",
      "Kids love making these cute cards... quality paper stock and stickers adhere well. Encourages creativity and helps develop fine motor skills... Recommend!\n",
      "\n",
      "--- Review 8 ---\n",
      "We spent a very pleasant rainy day indoors putting these non-pthalate vinyl stickers on my 3 year old's windows. She can arrange them any way she wishes and they don't lose their cling. We did hold back the guns and the cutlasses because we felt uncomfortable giving these to our toddler. But overall a great afternoon's adventure and a ton of fun! A side benefit, it keeps the birds from hitting our windows during migration time. Soy-based inks. Crocodile great is awesome.\n",
      "\n",
      "--- Review 9 ---\n",
      "Cute activity for young children with a nautical theme\n",
      "\n",
      "--- Review 10 ---\n",
      "too cute!\n",
      "\n",
      "--- Review 11 ---\n",
      "Perfect little puzzle for my 2 year old. He loves to do both sides and loves the trucks. In a nice sturdy case, easy enough to pack up and take other places. Great quality puzzle.\n",
      "\n",
      "--- Review 12 ---\n",
      "I bought this for my daughter who loves puzzles but some of the 100 - 150 piece ones are too difficult and the pieces are small.  The 63 piece is perfect but she normally doesn't like puzzles that are not pictures of something \"real\"...she doesn't like cartoons, etc.  These are just great.  I have gotten 2 and will buy more....  The container  they come in is also wonderful and easy to keep up with.  M.Stout\n",
      "\n",
      "--- Review 13 ---\n",
      "My young nephew loves his dominoes.\n",
      "\n",
      "--- Review 14 ---\n",
      "The ethnic diversity of the dancers in this book made my niece very happy. She kept saying that looking at the ballerinas in the book makes her feel like she's looking at her ballet class.\n",
      "\n",
      "--- Review 15 ---\n",
      "Really cute!  My granddaughter loves it!\n",
      "\n",
      "--- Review 16 ---\n",
      "I got these for my friend's son who just turned one. He likes dinosaurs and thought he might like to look at them while Mom is in the kitchen trying to clean up. She keeps them in the box since he's still young and doesnt want him to put them in his mouth. Different dinos and other little surprises to make a little scene if you desire. Very cute.\n",
      "\n",
      "--- Review 17 ---\n",
      "I've been a fan of Pomegranate for years, and really enjoy working their marvelous animal-theme puzzles. This one was a real winner. It looks dark and difficult but in fact it worked quickly. The pieces are sturdy, with little puzzle dust, and have varied shapes without being too crazy (wink). Before receiving the puzzle, I wasn't aware that there are two secret owls lurking in the background as well!\n",
      "\n",
      "--- Review 18 ---\n",
      "I love the pomegranate puzzles. There is a small variance at times in how strongly the pieces fit together. This one was looser. But at the price point I still feel these are great puzzles. This particular picture was wonderful. I love this artist and it was quite fun putting it together.\n",
      "\n",
      "--- Review 19 ---\n",
      "Bought this as a gift for a history buff boyfriend but I was surprised at how much fun I had playing it!  I found myself really getting into the game ordering my troops around and cussing at the enemy when I lost. It is a great game for anyone who loves RISK or the axis and allies series. This is a game that takes a long time to play, took us about 3 hours to complete, so I recommend playing on a table and not on the floor.\n",
      "\n",
      "--- Review 20 ---\n",
      "Purchased for a gift, my son loves the Axis and Allies series of games and this was most appreciated.\n",
      "\n"
     ]
    }
   ],
   "source": [
    "for i, review in enumerate(one_review_df['reviewText'].head(20), 1):\n",
    "    print(f\"--- Review {i} ---\\n{review}\\n\")"
   ]
  },
  {
   "cell_type": "markdown",
   "id": "df209899-a160-41d5-a88c-93be7f29b383",
   "metadata": {},
   "source": [
    "Most of these reviews has a lot of information, Let's print one word one review products. "
   ]
  },
  {
   "cell_type": "code",
   "execution_count": 28,
   "id": "2c52cd90-8d52-4742-befb-aaefdf96142b",
   "metadata": {},
   "outputs": [
    {
     "name": "stdout",
     "output_type": "stream",
     "text": [
      "--- Review 1 ---\n",
      "Word Count: 1\n",
      "AWESOME!!!!\n",
      "\n",
      "--- Review 2 ---\n",
      "Word Count: 1\n",
      "JOKE\n",
      "\n",
      "--- Review 3 ---\n",
      "Word Count: 1\n",
      "A++++++\n",
      "\n",
      "--- Review 4 ---\n",
      "Word Count: 1\n",
      "good\n",
      "\n",
      "--- Review 5 ---\n",
      "Word Count: 1\n",
      "Stunning.\n",
      "\n",
      "--- Review 6 ---\n",
      "Word Count: 1\n",
      "Darling.\n",
      "\n",
      "--- Review 7 ---\n",
      "Word Count: 1\n",
      "good.\n",
      "\n",
      "--- Review 8 ---\n",
      "Word Count: 1\n",
      "nice\n",
      "\n",
      "--- Review 9 ---\n",
      "Word Count: 1\n",
      "AA\n",
      "\n",
      "--- Review 10 ---\n",
      "Word Count: 1\n",
      "Perfect!\n",
      "\n"
     ]
    }
   ],
   "source": [
    "one_review_df['word_count'] = one_review_df['reviewText'].str.split().apply(len)\n",
    "\n",
    "amazon_df_sorted = one_review_df.sort_values(by='word_count')\n",
    "\n",
    "amazon_df_sorted = amazon_df_sorted.reset_index(drop=True)\n",
    "\n",
    "for i, row in amazon_df_sorted.head(10).iterrows():\n",
    "    print(f\"--- Review {i+1} ---\")\n",
    "    print(f\"Word Count: {row['word_count']}\")\n",
    "    print(f\"{row['reviewText']}\\n\")"
   ]
  },
  {
   "cell_type": "markdown",
   "id": "08ba8447-6aec-40c0-8549-4c596fbf28d9",
   "metadata": {},
   "source": [
    "Since we use sentence embeddings, one-word reviews from single-review products provide little meaningful information and instead introduce noise. Therefore, we will eliminate such products from our dataset."
   ]
  },
  {
   "cell_type": "code",
   "execution_count": 30,
   "id": "aadd8bc0-6b40-478b-82d9-d4c0b3d71054",
   "metadata": {},
   "outputs": [],
   "source": [
    "one_word_review_asins = one_review_df[one_review_df['word_count'] <= 1]['asin']\n",
    "\n",
    "amazon_df_cleaned = amazon_df[~amazon_df['asin'].isin(one_word_review_asins)]"
   ]
  },
  {
   "cell_type": "code",
   "execution_count": 32,
   "id": "378f7ad3-5184-485f-81f2-a913bf6fcfbe",
   "metadata": {},
   "outputs": [
    {
     "data": {
      "text/plain": [
       "(8181798, 12)"
      ]
     },
     "execution_count": 32,
     "metadata": {},
     "output_type": "execute_result"
    }
   ],
   "source": [
    "amazon_df_cleaned.shape"
   ]
  },
  {
   "cell_type": "code",
   "execution_count": 34,
   "id": "a3b23dd2-8e67-499d-bfeb-ce70b12cf6ef",
   "metadata": {},
   "outputs": [],
   "source": [
    "unique_asins = amazon_df_cleaned['asin'].unique()"
   ]
  },
  {
   "cell_type": "code",
   "execution_count": 36,
   "id": "80310935-e776-4ed9-896d-01308adc12fc",
   "metadata": {},
   "outputs": [],
   "source": [
    "# upload labels\n",
    "amazon_df_labels = pd.read_pickle(\"Data/amazon_df_labels.pkl\")"
   ]
  },
  {
   "cell_type": "code",
   "execution_count": 38,
   "id": "f2b6c9e2-b349-47cc-a040-d38a79988c69",
   "metadata": {},
   "outputs": [],
   "source": [
    "# Merge amazon_df_labels with amazon_df_cleaned on 'asin'\n",
    "asin_labels_clean_review_df = amazon_df_labels[amazon_df_labels['asin'].isin(amazon_df_cleaned['asin'].unique())]"
   ]
  },
  {
   "cell_type": "code",
   "execution_count": 40,
   "id": "03c7a17e-4302-48c7-b7da-d7f4010036b3",
   "metadata": {},
   "outputs": [],
   "source": [
    "asin_labels_clean_review_df = asin_labels_clean_review_df.drop_duplicates(subset='asin')"
   ]
  },
  {
   "cell_type": "code",
   "execution_count": 44,
   "id": "a1b4357e-1910-4eee-96c9-00f8f83ee076",
   "metadata": {},
   "outputs": [
    {
     "name": "stdout",
     "output_type": "stream",
     "text": [
      "After dropping, the size of the data is: 614658\n"
     ]
    }
   ],
   "source": [
    "print(f\"After dropping, the size of the data is: {len(asin_labels_clean_review_df)}\")"
   ]
  },
  {
   "cell_type": "code",
   "execution_count": 46,
   "id": "610683c0-c2b4-413f-9403-582585191a50",
   "metadata": {},
   "outputs": [
    {
     "data": {
      "text/plain": [
       "match\n",
       "0    613217\n",
       "1      1441\n",
       "Name: count, dtype: int64"
      ]
     },
     "execution_count": 46,
     "metadata": {},
     "output_type": "execute_result"
    }
   ],
   "source": [
    "asin_labels_clean_review_df['match'].value_counts()"
   ]
  },
  {
   "cell_type": "code",
   "execution_count": 48,
   "id": "33a28335-caf2-414e-aac5-f719fcf9800d",
   "metadata": {},
   "outputs": [
    {
     "data": {
      "text/plain": [
       "(614658, 3)"
      ]
     },
     "execution_count": 48,
     "metadata": {},
     "output_type": "execute_result"
    }
   ],
   "source": [
    "asin_labels_clean_review_df.shape"
   ]
  },
  {
   "cell_type": "code",
   "execution_count": 50,
   "id": "0d83da7b-8e3d-46a8-9c91-eed9ea46a521",
   "metadata": {},
   "outputs": [],
   "source": [
    "# Save cleaned asins and labels:\n",
    "asin_labels_clean_review_df.to_csv(\"Data/asin_labels_clean_review_df.csv\", index=False)"
   ]
  }
 ],
 "metadata": {
  "kernelspec": {
   "display_name": "Python (pytorch_env)",
   "language": "python",
   "name": "pytorch_env"
  },
  "language_info": {
   "codemirror_mode": {
    "name": "ipython",
    "version": 3
   },
   "file_extension": ".py",
   "mimetype": "text/x-python",
   "name": "python",
   "nbconvert_exporter": "python",
   "pygments_lexer": "ipython3",
   "version": "3.11.9"
  }
 },
 "nbformat": 4,
 "nbformat_minor": 5
}
