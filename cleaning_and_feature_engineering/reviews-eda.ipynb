{
 "cells": [
  {
   "cell_type": "markdown",
   "id": "7821b14a",
   "metadata": {},
   "source": [
    "# Documentation for reviews-eda.ipynb\n",
    "\n",
    "This Jupyter Notebook performs exploratory data analysis (EDA) on a dataset of product reviews, with a focus on identifying suspicious activity (potential bots), understanding review patterns, and extracting safety-related information.\n"
   ]
  },
  {
   "cell_type": "code",
   "execution_count": 1,
   "id": "e3857ca3",
   "metadata": {},
   "outputs": [],
   "source": [
    "import pandas as pd\n",
    "import numpy as np\n",
    "import seaborn as sns\n",
    "import matplotlib.pyplot as plt"
   ]
  },
  {
   "cell_type": "markdown",
   "id": "b2fa465c",
   "metadata": {},
   "source": [
    "### Load the dataset"
   ]
  },
  {
   "cell_type": "code",
   "execution_count": 2,
   "id": "37ee60d3",
   "metadata": {},
   "outputs": [
    {
     "data": {
      "application/vnd.microsoft.datawrangler.viewer.v0+json": {
       "columns": [
        {
         "name": "index",
         "rawType": "int64",
         "type": "integer"
        },
        {
         "name": "overall",
         "rawType": "int64",
         "type": "integer"
        },
        {
         "name": "vote",
         "rawType": "object",
         "type": "unknown"
        },
        {
         "name": "verified",
         "rawType": "bool",
         "type": "boolean"
        },
        {
         "name": "reviewTime",
         "rawType": "object",
         "type": "string"
        },
        {
         "name": "reviewerID",
         "rawType": "object",
         "type": "string"
        },
        {
         "name": "asin",
         "rawType": "object",
         "type": "string"
        },
        {
         "name": "reviewerName",
         "rawType": "object",
         "type": "unknown"
        },
        {
         "name": "reviewText",
         "rawType": "object",
         "type": "unknown"
        },
        {
         "name": "summary",
         "rawType": "object",
         "type": "unknown"
        },
        {
         "name": "unixReviewTime",
         "rawType": "int64",
         "type": "integer"
        },
        {
         "name": "image",
         "rawType": "object",
         "type": "unknown"
        },
        {
         "name": "style",
         "rawType": "object",
         "type": "unknown"
        }
       ],
       "ref": "c67cf459-9e4b-4f68-b690-fd1d6d7c3ea0",
       "rows": [
        [
         "0",
         "2",
         "12",
         "False",
         "09 22, 2016",
         "A1IDMI31WEANAF",
         "0020232233",
         "Mackenzie Kent",
         "When it comes to a DM's screen, the space on the screen itself is at an absolute premium. The fact that 50% of this space is wasted on art (and not terribly informative or needed art as well) makes it completely useless. The only reason that I gave it 2 stars and not 1 was that, technically speaking, it can at least still stand up to block your notes and dice rolls. Other than that, it drops the ball completely.",
         "The fact that 50% of this space is wasted on art (and not terribly informative or needed art ...",
         "1474502400",
         null,
         null
        ],
        [
         "1",
         "1",
         "21",
         "False",
         "09 18, 2016",
         "A4BCEVVZ4Y3V3",
         "0020232233",
         "Jonathan Christian",
         "An Open Letter to GaleForce9*:\n\nYour unpainted miniatures are very not bad. Your spell cards are great. Your board games are \"meh\". Your DM screens, however, are freaking terrible. I'm still waiting for a single screen that isn't polluted with pointless artwork where useful, reference-able tables should be. Once again, you've created a single use screen that is only useful when running the \"Storm King's Thunder\" adventure. Even despite the fact that it's geared to that adventure path, it's usefulness negligible, at best. I massive swath of the inner panel is wasted on artwork and a bloated overland map, which could have been easily reduced to a single panel in size. And the few table you have are nigh-useless themselves.\n\nIn short, stop making crap DM screens.",
         "Another worthless Dungeon Master's screen from GaleForce9",
         "1474156800",
         null,
         null
        ],
        [
         "2",
         "3",
         "19",
         "True",
         "09 12, 2016",
         "A2EZ9PY1IHHBX0",
         "0020232233",
         "unpreparedtodie",
         "Nice art, nice printing.  Why two panels are filled with a general Forgotten Realms map is beyond me.  Most of one of them is all blue ocean.  Such a waste.\n\nI don't understand why they can't make these DM Screens more useful for these \"kinds of adventures\" rather than solely the specific adventure.  You're supposed to be able to transpose this adventure to other lands outside the Forgotten Realms.  So even just a list of new monsters or NPCs would at least be useful than the map.  Even more would just be stuff related to running the game but broad-use stuff related to giants.\n\nSame thing with Curse of Strahd.  Why not make it useful for raven loft, undead or horror campaigns in general... instead a huge amount of screen space is solely mapping out Castle Ravenloft, which is only useful during a small fraction of the time even for the Curse of Strahd adventure, let alone various other Ravenloft adventuring.\n\nThey really kill the extended use of these screens by not thinking about their potential use, both for the adventure in question, as well as use in a broader sense.\n\nThe Rage of Demons screen is far more useful for broad under dark adventuring - covering a lot of rules for the various conditions you may suffer... and the map is only one panel.\n\nThis Storm Giants one is decent for a few tables it includes - but really misses the mark.  Maybe they should ask a few DMs what they would use?",
         "pretty, but also pretty useless",
         "1473638400",
         null,
         null
        ],
        [
         "3",
         "5",
         null,
         "True",
         "03 2, 2017",
         "A139PXTTC2LGHZ",
         "0020232233",
         "Ashley",
         "Amazing buy! Bought it as a gift for our new dm and it's perfect!",
         "Five Stars",
         "1488412800",
         null,
         null
        ],
        [
         "4",
         "1",
         "3",
         "True",
         "02 8, 2017",
         "A3IB33V29XIL8O",
         "0020232233",
         "Oghma_EM",
         "As my review of GF9's previous screens these were completely unnecessary and nearly useless. Skip them, this is the definition of a waste of money.",
         "Money trap",
         "1486512000",
         null,
         null
        ],
        [
         "5",
         "5",
         null,
         "True",
         "01 27, 2017",
         "A1J86V48S4KRJE",
         "0020232233",
         "Cynthia A. Evoniuk",
         "Grandson loves",
         "Five Stars",
         "1485475200",
         null,
         null
        ],
        [
         "6",
         "5",
         null,
         "False",
         "01 2, 2017",
         "A14J12PRBLGHF4",
         "0020232233",
         "Amazon Customer",
         "I have bought many gm screens over the years, but this one is the best I have ever seen. It has all the relevant information I need , and no crap filler on it. Very happy with this screen.",
         "Best gm screen ever",
         "1483315200",
         null,
         null
        ],
        [
         "7",
         "5",
         null,
         "True",
         "12 17, 2016",
         "A2UKOWP9ICU416",
         "0020232233",
         "anon9df0",
         "Came in perfect condition.",
         "Five Stars",
         "1481932800",
         null,
         null
        ],
        [
         "8",
         "4",
         null,
         "False",
         "12 15, 2016",
         "A2ONKKDETRWT79",
         "0020232233",
         "Consumer Dad",
         "Could be better but its still great. I love the things on the DM's side of the screen and I actually like the map in the middle makes it easy to reference whats around at any given time.",
         "Great but could be even better",
         "1481760000",
         null,
         null
        ],
        [
         "9",
         "3",
         "13",
         "True",
         "12 9, 2016",
         "AK9GN9KZZNTEP",
         "0020232233",
         "Dallas Gamer Family",
         "My review will mirror others in that this kind of misses the mark and there are some lost opportunities to help DM's.  I wouldn't advise new DM's to use this by itself.  They should stick to the generic 5e DM screen and just copy/print the other useful information for SKT.\nI do like that the information they did put in the screen was relevant to the game and makes accessible some of the frequently visited tables from the adventure book.  I also like the map from the perspective that it contains the page references to the cities and locations. This is pretty useful, especially during Ch 3 of the adventure.\nHowever, there is a very Large amount of wasted space that could easily have been utilized instead of having the whole map take up 2 panels of the screen. The middle of the ocean could have contained info on the Giant hierarchy, the Giant Rune symbols, the Random encounters at Sea table from the DMG, trap tables, or any number of other usefully applicable information to the story.  I would have done away with the Sea portion of the map completely and used that space more efficiently.  In all actuality, the entire map could have been an extra insert, freeing up far more space and making this product far more appealing...or the Adventure book could have included it as a tear out.  There should have been better collaboration on this product.\nOn a different note, the printing on my copy of the screen was not sized correctly.  The Left and right creases are right over the edge of the words...especially on the Right side.  It is almost illegible when the screen is up and in it's general position at the gaming table.(See attached pic)\n\nI can understand the idea and desire to produce tailored DM Screens for these adventure books, but I don't feel they've truly taken the time to get feedback on their ideas from enough sources before printing. It's coming across as licensed money grab instead of a Value Add product to the adventure line.",
         "Another missed opportunity.  Not a value add to the product line.",
         "1481241600",
         "['https://images-na.ssl-images-amazon.com/images/I/718LAfAbT2L._SY88.jpg', 'https://images-na.ssl-images-amazon.com/images/I/718LAfAbT2L._SY88.jpg']",
         null
        ],
        [
         "10",
         "5",
         null,
         "True",
         "12 7, 2016",
         "A26HO01PDWN6O5",
         "0020232233",
         "Amazon Customer",
         "Works very well",
         "Five Stars",
         "1481068800",
         null,
         null
        ],
        [
         "11",
         "5",
         null,
         "True",
         "11 5, 2016",
         "A8PF4X87CS3ZZ",
         "0020232233",
         "B. Felkins",
         "Can't wait to use it!",
         "Love the map!",
         "1478304000",
         null,
         null
        ],
        [
         "12",
         "5",
         "2",
         "False",
         "11 4, 2016",
         "A28QGCUNS22JPH",
         "0020232233",
         "Daniel Gabriel Horton",
         "This is a campaign specific DM screen meant to work with The Storm Kings Thunder adventure.  It is not a general use screen.  The reason I'm  giving it 5 stars is that every named place on the map also has the page number of locations entry in TSKT. That feature has saved me time in Adventures League play. Other AL DMs will tell you how precious every minute is in the standard 2 hour format.",
         "Not a general DM screen",
         "1478217600",
         null,
         null
        ],
        [
         "13",
         "2",
         "3",
         "False",
         "04 24, 2017",
         "A2X2RJWNAV4FM0",
         "038536539X",
         "J Person",
         "This is one of the worst games I have ever played.  You basically have to come up with puns on the spot.  Not only are puns generally pretty bad, you have to generate puns that are worse than your run of the mill groaners.  I can't imagine many people enjoying it, but it is slow paced and generally does not generate any level of enjoyment unless you're very skilled with the English language.",
         "Very weak game",
         "1492992000",
         null,
         null
        ],
        [
         "14",
         "2",
         "6",
         "True",
         "04 17, 2017",
         "A1DIRJ8YNI5TKL",
         "038536539X",
         "ZacWolf",
         "It sounded like a really amazing concept, but when we tried to play it, it fell completely flat. Maybe if we were fans of the television show that the game is originally based upon? But having no \"prior experience\", we tried three rounds (even using the \"hints\" to get people started) and everyone just looked at each other and we decided to play something else. This was a high IQ group, and we often use puns in day to day banter, but the game just fell completely flat. :-(\n\nSad, because the quality of the box set is very nice, and comes with everything needed to play (pads, pencils, etc.).",
         "Fell completely flat...",
         "1492387200",
         null,
         null
        ],
        [
         "15",
         "5",
         null,
         "True",
         "01 26, 2017",
         "A2G5IDD919P2DK",
         "038536539X",
         "Marcy A. Danenmann",
         "Very fun game for my family",
         "Five Stars",
         "1485388800",
         null,
         null
        ],
        [
         "16",
         "4",
         "13",
         "False",
         "03 16, 2004",
         "AGCAAWP1AVVZR",
         "0486277577",
         "M. P. Schiesl",
         "Pretty good book with a variety of unique card sleights (palming, manipulating cards in the deck, etc.). These sleights are the 'real work', so it will take a little perseverance. Many of these utility sleights are ones that you ought to know if you want to be a card sleight-of-hand worker.\nThe instructions are generally clear, but sometimes a detail here and there gets a little confusing. There's a fair number of photos showing how to do many of the sleights.\nSometimes a sleight is a little more complicated than it needs to be. My recommendation is to follow the author's steps in slow-motion with a deck of cards in hand. After you are familiar with the overall effect, you can make adjustments based on what your comfortable with. There may also be other newer methods for learning these sleights if you want to invest in newer card sleight instruction (such as the Daryl Encyclopedia of Card Sleights videos, etc.).\nRight now, I'm working on the side steal sleight. He gives a T. Nelson Downs version which has some merit, but it is much more complicated than necessary. The author's own version is a little more do-able. But even the author's method becomes a little too fidgety, so I've made minor modifications to make it work well for me. I start in slow-motion, counting through the substeps to keep pace while I do the move (1..2..3..4). Then I repeat it until I can bring it up to full speed.\nIf you want to learn sleights for cheap, try this book. You may have to pick and choose through the sleights, and there may be better methods to perform some of these sleights now, but it's not bad for under $10.",
         "Good book",
         "1079395200",
         null,
         "{'Format:': ' Paperback'}"
        ],
        [
         "17",
         "5",
         "16",
         "False",
         "04 28, 2002",
         "AD2CIUI4TSVY7",
         "0486277577",
         "Mark Thomas",
         "When I unexpectedly came across a picture of Buckley on the first page of the book, and after hearing the other reviews of how difficult and advanced the techniques in the book were, I couldn't believe my eyes. I was surprised to see the face of a handsome teenager, of which my previous impression was COMPLETELY the opposite to the one I held in my hands. And this guy was a professional card magician at the age of 18, and able to do tricks infront of hundreds of people on-stage in 1908!\nI have a feeling that this guy's mystery and skill probably gained him significant success with girls his age. The mysterious effects of these difficult to execute sleights are priceless and dazzling beyond belief. If a 3 columns card trick can make girls believe in magic.. then Buckley's stuff probably knocked their socks off... literally! Believe me, this guy would be able to blow David Blaine out of the water and make him look like Bob Longe.\nThat being said and out of the way, the book itself is amazing. There are very clearcut photos of Buckley's hands and very impressive card tricks, or as he calls them in the fourth section, \"Card Experiments\". Best of all, this book isn't like most others where the authors seem to purposely be vague (S.W. Erdnase) and not give the best descriptions. Mr. Buckley gives you every detail and is your friend throughout the book, showing you exactly how everything is done without any confusion.\nAnd there is SO much different good stuff in here, that you'll probably never need another book for advanced materials.\nIt is a great book and a great reference to help you on your way to card excellence and showmanship. You will not be disappointed with this purchase.",
         "Buckley was a card mommer",
         "1019952000",
         null,
         "{'Format:': ' Paperback'}"
        ],
        [
         "18",
         "5",
         "14",
         "False",
         "08 3, 2001",
         "APTEPFKL03QA0",
         "0486277577",
         "Christian A. Fisanick",
         "If you've mastered Hugard and Braue's stuff, if you can do 60 classic passes per minute, if you have all the time in the world to devote to card sleight of hand, then this is the book for you!  Seriously, this is a truly excellent book.  Buckley's sleights, though not for the faint of heart, are superb.  (He must've been one heckuva cardician!) This is a serious, serious card magic book.  But if you are serious yourself, you'll get it.  Of course, you'll overlook the antiquated prose and Buckley's tremendous ego throughout.  (When you read this material you'll forgive Buckley's self-congratulatory tone.) This is a splendid work for those who want to be the best...",
         "Very advanced, but as good as it gets",
         "996796800",
         null,
         "{'Format:': ' Paperback'}"
        ],
        [
         "19",
         "5",
         "21",
         "False",
         "10 15, 2000",
         "A14FXEKB1PXTZG",
         "0486277577",
         "Jose Berlin",
         "I've yet to see a bad review for this book, and there's a reason. This book is terrific. There is however one issue to be addressed. This book is hard!!! Definitely not for beginners, it has some of what I believe are the greatest but hardest card manipulations out there. I definitely recommend it however to the serious card magic enthusiast. There are enough valuable ideas in here to last you a lifetime.",
         "You better know what you're getting into",
         "971568000",
         null,
         "{'Format:': ' Paperback'}"
        ],
        [
         "20",
         "1",
         "2",
         "False",
         "09 21, 2007",
         "A1X9QQFMPGDW70",
         "0486402029",
         "Justabuyer",
         "I don't know how well they work, if they're a miracle, they're too expensive for the quantity.  When I opened it, I thought they'd forgotten to send the tatoos.\n10 for 3.50 makes this the ultimate \"skimpy product\".",
         "Don't bother",
         "1190332800",
         null,
         "{'Format:': ' Paperback'}"
        ],
        [
         "21",
         "1",
         "2",
         "False",
         "01 16, 2007",
         "A1NTAPB1XPB6KK",
         "0486402029",
         "Mandible",
         "These are cute tatoos for those who love pirates, however, the retail price is $1.50 and Amazon's price is MORE THAN DOUBLE.  I have never paid OVER the retail price for an item at Amazon.  I was shocked.  There are only a handful of tatoos, and for 1.50 I wouldn't mind, but to charge 3.50 for an item that sells anywhere else for 1.50 is criminal.  Find it at a local drugstore and save your $.",
         "The worst value I've ever seen",
         "1168905600",
         null,
         "{'Format:': ' Paperback'}"
        ],
        [
         "22",
         "2",
         "2",
         "True",
         "01 12, 2007",
         "A34S86H4OJGGVR",
         "0486402029",
         "An Aerospace Engineer",
         "While my 3 year old son liked th tattos you'd think that a few more could be supplied.  I think there were something akin to 8-10 total.  A few more skull and cross bone flags would be nice.\n\nThe tattoos did seem to transfer well but didn't last longer or less than most other temporary tattoos.",
         "Not enough product",
         "1168560000",
         null,
         "{'Format:': ' Paperback'}"
        ],
        [
         "23",
         "4",
         "4",
         "False",
         "01 10, 2007",
         "A2SGKF4BT5NWYO",
         "0486402029",
         "Mauricio De Maria Campos",
         "There are only few tatoos so in one week they are gone, it could be better if there were more so they can share with brothers or friends. the alternative is to buy like 4 or 5 of these so the kid doesn't get upset when they are gone to quick. Also with one bath they are gone, so they don't last enough like other tatoos (2 TO 5 DAYS).",
         "Good product but...",
         "1168387200",
         null,
         "{'Format:': ' Paperback'}"
        ],
        [
         "24",
         "5",
         "2",
         "True",
         "11 3, 2006",
         "AVPT4Q2E2PK9O",
         "0486402029",
         "Derrick",
         "I'd buy again as a gift for a young kid obsessed with pirates.  However, I never actually had any hands-on time with the tattoos.  The tattoos reminded me of my favorite Cracker Jack prize.",
         "Temporary Tattoos were good gift.",
         "1162512000",
         null,
         "{'Format:': ' Paperback'}"
        ],
        [
         "25",
         "5",
         "7",
         "False",
         "09 20, 2005",
         "A17AF3GZQEKMYC",
         "0486402029",
         "J. Mag",
         "My young son was thrilled to have tattoos just like a real pirate.  These are easy to use and remove.  I great find!",
         "Huge Hit",
         "1127174400",
         null,
         "{'Format:': ' Paperback'}"
        ],
        [
         "26",
         "5",
         null,
         "True",
         "01 13, 2015",
         "A2GH1A5JGI8PUN",
         "0486427706",
         "Tara",
         "Gorgeous, I love the book and the pictures are beautiful!",
         "Gorgeous pictures!",
         "1421107200",
         null,
         "{'Format:': ' Paperback'}"
        ],
        [
         "27",
         "5",
         null,
         "True",
         "08 21, 2014",
         "AOJTIHPYWGGHQ",
         "0486427706",
         "Kindalyn Phelps",
         "Beautiful art work",
         "Five Stars",
         "1408579200",
         null,
         "{'Format:': ' Paperback'}"
        ],
        [
         "28",
         "5",
         "2",
         "True",
         "08 14, 2014",
         "A38U7ERUZCBOJ5",
         "0486427706",
         "Joanne Philip Battiston",
         "These are intricate designs for older children and adults. This book is full of beautiful designs just waiting to be awakened by your choice of colors. Great for creativity.",
         "Wonderful designs.",
         "1407974400",
         null,
         "{'Format:': ' Paperback'}"
        ],
        [
         "29",
         "5",
         "4",
         "True",
         "08 7, 2014",
         "A12VWMI909LC3Y",
         "0486427706",
         "sharon wheeler",
         "This coloring book was so much fun to color.  I love the fact that you can color both sides & blend the colors!!!!  I would recommend this book for anyone that loves Wizards & Dragons & loves to color with fantastic results!!!!!!!!!!\nSharon",
         "WOW, GREAT COLORING BOOK!!!!!!",
         "1407369600",
         null,
         "{'Format:': ' Paperback'}"
        ],
        [
         "30",
         "5",
         "3",
         "True",
         "10 6, 2013",
         "A2LSCFZM2FBZK7",
         "0486427706",
         "Ginger",
         "The stained glass pages are pretty cool. And it is nice how the black outlines are super dark and thick. And that the dragons aren't all fighting with the wizards.",
         "Nice book",
         "1381017600",
         null,
         "{'Format:': ' Paperback'}"
        ],
        [
         "31",
         "5",
         "9",
         "True",
         "08 9, 2013",
         "A3IXP5VS847GE5",
         "0486427706",
         "Dragonflies &amp; Autumn Leaves",
         "My 11 y.o. loved this...and so do I (you know I really bought this because I wanted to see the pictures myself...I'm just lucky enough to have someone I could justify buying it as a present for.)\nDragons and Wizards...says it all!  With the wonderful see-through vellum like pages, that make it \"stained glass.\"  Color it with marker, or anything else really (colored pencil, watercolors maybe), and the light shining through the page makes it look luminous and gorgeous!\n\nEven the perfectionist that gets intimidated with art and drawing tends to find these stained glass books easy to get results they are happy with, so it tends to be an enjoyable and confidence building experience. :)",
         "Great pictures",
         "1376006400",
         null,
         "{'Format:': ' Paperback'}"
        ],
        [
         "32",
         "5",
         null,
         "False",
         "12 25, 2012",
         "A22WPJ8XFBR00Z",
         "0486427706",
         "Douglas B. McFarling",
         "Awesome! My 8 year old's favorite Xmas gift! It's 9:15 am xmas morning and he's already colored three of these!!",
         "Perfect!",
         "1356393600",
         null,
         "{'Format:': ' Paperback'}"
        ],
        [
         "33",
         "5",
         "5",
         "True",
         "08 18, 2010",
         "AYLMHOQOT0S4N",
         "0486427706",
         "C. Murphy",
         "This book has wonderful pictures in it, from dragons to wizards. It is much more than just a coloring book. Very pleased and do recommend it for all ages.",
         "Well done....",
         "1282089600",
         null,
         "{'Format:': ' Paperback'}"
        ],
        [
         "34",
         "5",
         "10",
         "False",
         "09 16, 2008",
         "AJ8YOQ9V6WTQM",
         "0486427706",
         "Kimberely J. Hardy",
         "I loved this book. the pictures are suitable to hang in windows or glass doors and the pictures really reflect the light. I recomend this for all ages who love art.",
         "My relaxation",
         "1221523200",
         null,
         "{'Format:': ' Paperback'}"
        ],
        [
         "35",
         "5",
         "5",
         "True",
         "02 6, 2007",
         "A1GGAQIGLJ9PJ0",
         "0486427706",
         "A. Freeman",
         "I bought this for my son who loves to draw.  The pictures are simply beautiful and it is a unique way to produce a coloring book.",
         "Beautiful coloring book",
         "1170720000",
         null,
         "{'Format:': ' Paperback'}"
        ],
        [
         "36",
         "5",
         null,
         "True",
         "04 5, 2016",
         "A1274GG1EB2JLJ",
         "0486427706",
         "barbara ann",
         "The pictures are great , I've done one and gave it to a friend of mine who likes dragons.",
         "The pictures are great, I've done one and gave it to a ...",
         "1459814400",
         null,
         "{'Format:': ' Paperback'}"
        ],
        [
         "37",
         "5",
         null,
         "True",
         "03 20, 2016",
         "AY0ZTKGL6YRVP",
         "0486427706",
         "Samantha A.",
         "Great buy! Can't wait to work on this book. The dragon images are lovely.  Once I'm done coloring, I will frame and hang in a window to let the sun shines through.",
         "Great buy! Can't wait to work on this book",
         "1458432000",
         null,
         "{'Format:': ' Paperback'}"
        ],
        [
         "38",
         "5",
         "3",
         "True",
         "03 4, 2016",
         "A2UJW1N1C1EWZ1",
         "0486427706",
         "Cassiopeia",
         "Holy cow! Ok, so we use Sharpies to color, and this book is AMAZING! We color one side, and the colors transform on the other side. It's so cool, even my husband colors! The designs are great (and I'm a snob) and the price is VERY good for such a cool product.",
         "Stained Glass Perfection!",
         "1457049600",
         null,
         "{'Format:': ' Paperback'}"
        ],
        [
         "39",
         "4",
         null,
         "True",
         "02 18, 2016",
         "A3BUUV7JLOVSF9",
         "0486427706",
         "SF",
         "I gave this as a Christmas present and it seems it went over quite well.",
         "Four Stars",
         "1455753600",
         null,
         "{'Format:': ' Paperback'}"
        ],
        [
         "40",
         "5",
         "3",
         "True",
         "02 13, 2016",
         "A30X5EGBYAZQQK",
         "0486427706",
         "Samantha",
         "I absolutely love this book! Its translucent paper make it super fun to use. I have been using Paint Brush Markers and Sakura Gel Pens on it with excellent quality. The only thing that I would recommend is a blank white sheet of paper to make the lines easier to see.",
         "So beautiful!",
         "1455321600",
         null,
         "{'Format:': ' Paperback'}"
        ],
        [
         "41",
         "5",
         null,
         "True",
         "02 2, 2016",
         "A3N2A0YZYWZJ55",
         "0486427706",
         "Phil Pickett",
         "Wow, great images on vellum, got this for my husband. He used a combination of colored pencil and marker for pictures, they are beautiful.",
         "Great pictures",
         "1454371200",
         null,
         "{'Format:': ' Paperback'}"
        ],
        [
         "42",
         "5",
         null,
         "True",
         "01 4, 2016",
         "A1FI4XG4R6BCB4",
         "0486427706",
         "MRMoore",
         "Very nice book. Just wished there was more pages. Can't wait too start using it.",
         "Very Nice!",
         "1451865600",
         null,
         "{'Format:': ' Paperback'}"
        ],
        [
         "43",
         "5",
         null,
         "True",
         "12 10, 2015",
         "A3U6UNXLAUY6ZV",
         "0486427706",
         "CP in Texas",
         "I love it!",
         "Five Stars",
         "1449705600",
         null,
         "{'Format:': ' Paperback'}"
        ],
        [
         "44",
         "5",
         null,
         "True",
         "11 9, 2015",
         "A11Z603ZIPLVWN",
         "0486427706",
         "Amazon Customer",
         "Absolutely great pictures even before coloring!",
         "Five Stars",
         "1447027200",
         null,
         "{'Format:': ' Paperback'}"
        ],
        [
         "45",
         "5",
         null,
         "True",
         "11 7, 2015",
         "AO4V4WNNOIO1",
         "0486427706",
         "Menolly",
         "Great purchase and got it in good time.",
         "Five Stars",
         "1446854400",
         null,
         "{'Format:': ' Paperback'}"
        ],
        [
         "46",
         "5",
         null,
         "True",
         "10 26, 2015",
         "A1SAJF5SNM6WJS",
         "0486427706",
         "LOIS LABIER",
         "MY HUSBAND LOVED IT. HE IS IN TO DRAGONS.",
         "Five Stars",
         "1445817600",
         null,
         "{'Format:': ' Paperback'}"
        ],
        [
         "47",
         "5",
         null,
         "True",
         "10 17, 2015",
         "A6K7LYRKJDBSC",
         "0486427706",
         "swiftysue",
         "The dragons are really interesting and fun to color.",
         "Five Stars",
         "1445040000",
         null,
         "{'Format:': ' Paperback'}"
        ],
        [
         "48",
         "5",
         null,
         "True",
         "10 12, 2015",
         "A2HK5AVQW6AUQ5",
         "0486427706",
         "scootergirl1952",
         "love it",
         "Five Stars",
         "1444608000",
         null,
         "{'Format:': ' Paperback'}"
        ],
        [
         "49",
         "4",
         null,
         "True",
         "09 15, 2015",
         "AHJWO3SI0S0OR",
         "0486427706",
         "Saundra Hatley",
         "cool",
         "Four Stars",
         "1442275200",
         null,
         "{'Format:': ' Paperback'}"
        ]
       ],
       "shape": {
        "columns": 12,
        "rows": 8201231
       }
      },
      "text/html": [
       "<div>\n",
       "<style scoped>\n",
       "    .dataframe tbody tr th:only-of-type {\n",
       "        vertical-align: middle;\n",
       "    }\n",
       "\n",
       "    .dataframe tbody tr th {\n",
       "        vertical-align: top;\n",
       "    }\n",
       "\n",
       "    .dataframe thead th {\n",
       "        text-align: right;\n",
       "    }\n",
       "</style>\n",
       "<table border=\"1\" class=\"dataframe\">\n",
       "  <thead>\n",
       "    <tr style=\"text-align: right;\">\n",
       "      <th></th>\n",
       "      <th>overall</th>\n",
       "      <th>vote</th>\n",
       "      <th>verified</th>\n",
       "      <th>reviewTime</th>\n",
       "      <th>reviewerID</th>\n",
       "      <th>asin</th>\n",
       "      <th>reviewerName</th>\n",
       "      <th>reviewText</th>\n",
       "      <th>summary</th>\n",
       "      <th>unixReviewTime</th>\n",
       "      <th>image</th>\n",
       "      <th>style</th>\n",
       "    </tr>\n",
       "  </thead>\n",
       "  <tbody>\n",
       "    <tr>\n",
       "      <th>0</th>\n",
       "      <td>2</td>\n",
       "      <td>12</td>\n",
       "      <td>False</td>\n",
       "      <td>09 22, 2016</td>\n",
       "      <td>A1IDMI31WEANAF</td>\n",
       "      <td>0020232233</td>\n",
       "      <td>Mackenzie Kent</td>\n",
       "      <td>When it comes to a DM's screen, the space on t...</td>\n",
       "      <td>The fact that 50% of this space is wasted on a...</td>\n",
       "      <td>1474502400</td>\n",
       "      <td>NaN</td>\n",
       "      <td>NaN</td>\n",
       "    </tr>\n",
       "    <tr>\n",
       "      <th>1</th>\n",
       "      <td>1</td>\n",
       "      <td>21</td>\n",
       "      <td>False</td>\n",
       "      <td>09 18, 2016</td>\n",
       "      <td>A4BCEVVZ4Y3V3</td>\n",
       "      <td>0020232233</td>\n",
       "      <td>Jonathan Christian</td>\n",
       "      <td>An Open Letter to GaleForce9*:\\n\\nYour unpaint...</td>\n",
       "      <td>Another worthless Dungeon Master's screen from...</td>\n",
       "      <td>1474156800</td>\n",
       "      <td>NaN</td>\n",
       "      <td>NaN</td>\n",
       "    </tr>\n",
       "    <tr>\n",
       "      <th>2</th>\n",
       "      <td>3</td>\n",
       "      <td>19</td>\n",
       "      <td>True</td>\n",
       "      <td>09 12, 2016</td>\n",
       "      <td>A2EZ9PY1IHHBX0</td>\n",
       "      <td>0020232233</td>\n",
       "      <td>unpreparedtodie</td>\n",
       "      <td>Nice art, nice printing.  Why two panels are f...</td>\n",
       "      <td>pretty, but also pretty useless</td>\n",
       "      <td>1473638400</td>\n",
       "      <td>NaN</td>\n",
       "      <td>NaN</td>\n",
       "    </tr>\n",
       "    <tr>\n",
       "      <th>3</th>\n",
       "      <td>5</td>\n",
       "      <td>NaN</td>\n",
       "      <td>True</td>\n",
       "      <td>03 2, 2017</td>\n",
       "      <td>A139PXTTC2LGHZ</td>\n",
       "      <td>0020232233</td>\n",
       "      <td>Ashley</td>\n",
       "      <td>Amazing buy! Bought it as a gift for our new d...</td>\n",
       "      <td>Five Stars</td>\n",
       "      <td>1488412800</td>\n",
       "      <td>NaN</td>\n",
       "      <td>NaN</td>\n",
       "    </tr>\n",
       "    <tr>\n",
       "      <th>4</th>\n",
       "      <td>1</td>\n",
       "      <td>3</td>\n",
       "      <td>True</td>\n",
       "      <td>02 8, 2017</td>\n",
       "      <td>A3IB33V29XIL8O</td>\n",
       "      <td>0020232233</td>\n",
       "      <td>Oghma_EM</td>\n",
       "      <td>As my review of GF9's previous screens these w...</td>\n",
       "      <td>Money trap</td>\n",
       "      <td>1486512000</td>\n",
       "      <td>NaN</td>\n",
       "      <td>NaN</td>\n",
       "    </tr>\n",
       "    <tr>\n",
       "      <th>...</th>\n",
       "      <td>...</td>\n",
       "      <td>...</td>\n",
       "      <td>...</td>\n",
       "      <td>...</td>\n",
       "      <td>...</td>\n",
       "      <td>...</td>\n",
       "      <td>...</td>\n",
       "      <td>...</td>\n",
       "      <td>...</td>\n",
       "      <td>...</td>\n",
       "      <td>...</td>\n",
       "      <td>...</td>\n",
       "    </tr>\n",
       "    <tr>\n",
       "      <th>8201226</th>\n",
       "      <td>5</td>\n",
       "      <td>NaN</td>\n",
       "      <td>False</td>\n",
       "      <td>12 7, 2017</td>\n",
       "      <td>A3OCDEVI6FGUWU</td>\n",
       "      <td>B01HJBAKIO</td>\n",
       "      <td>wilson</td>\n",
       "      <td>My son is happy!!!</td>\n",
       "      <td>Five Stars</td>\n",
       "      <td>1512604800</td>\n",
       "      <td>NaN</td>\n",
       "      <td>NaN</td>\n",
       "    </tr>\n",
       "    <tr>\n",
       "      <th>8201227</th>\n",
       "      <td>5</td>\n",
       "      <td>2</td>\n",
       "      <td>True</td>\n",
       "      <td>01 23, 2016</td>\n",
       "      <td>A1KTVUVADLKWZO</td>\n",
       "      <td>B01HJHA7GI</td>\n",
       "      <td>Raven the Maven</td>\n",
       "      <td>E My ten month old has had this for a few mont...</td>\n",
       "      <td>Fun for ten month old</td>\n",
       "      <td>1453507200</td>\n",
       "      <td>[https://images-na.ssl-images-amazon.com/image...</td>\n",
       "      <td>NaN</td>\n",
       "    </tr>\n",
       "    <tr>\n",
       "      <th>8201228</th>\n",
       "      <td>5</td>\n",
       "      <td>NaN</td>\n",
       "      <td>True</td>\n",
       "      <td>02 8, 2015</td>\n",
       "      <td>A2QCA9OE62IPZ4</td>\n",
       "      <td>B01HJHA7GI</td>\n",
       "      <td>crhug</td>\n",
       "      <td>perfect toy to keep baby amused</td>\n",
       "      <td>Five Stars</td>\n",
       "      <td>1423353600</td>\n",
       "      <td>NaN</td>\n",
       "      <td>NaN</td>\n",
       "    </tr>\n",
       "    <tr>\n",
       "      <th>8201229</th>\n",
       "      <td>5</td>\n",
       "      <td>NaN</td>\n",
       "      <td>True</td>\n",
       "      <td>12 31, 2014</td>\n",
       "      <td>A3N28JAZYS4L9O</td>\n",
       "      <td>B01HJHA7GI</td>\n",
       "      <td>Cindy Volk</td>\n",
       "      <td>Perfect</td>\n",
       "      <td>Five Stars</td>\n",
       "      <td>1419984000</td>\n",
       "      <td>NaN</td>\n",
       "      <td>NaN</td>\n",
       "    </tr>\n",
       "    <tr>\n",
       "      <th>8201230</th>\n",
       "      <td>5</td>\n",
       "      <td>NaN</td>\n",
       "      <td>True</td>\n",
       "      <td>11 11, 2014</td>\n",
       "      <td>A2OGYZRYRSVQZJ</td>\n",
       "      <td>B01HJHA7GI</td>\n",
       "      <td>Ostinato_Parody</td>\n",
       "      <td>I am based in the UK and I bought this item as...</td>\n",
       "      <td>Cracking gift</td>\n",
       "      <td>1415664000</td>\n",
       "      <td>NaN</td>\n",
       "      <td>NaN</td>\n",
       "    </tr>\n",
       "  </tbody>\n",
       "</table>\n",
       "<p>8201231 rows × 12 columns</p>\n",
       "</div>"
      ],
      "text/plain": [
       "         overall vote  verified   reviewTime      reviewerID        asin  \\\n",
       "0              2   12     False  09 22, 2016  A1IDMI31WEANAF  0020232233   \n",
       "1              1   21     False  09 18, 2016   A4BCEVVZ4Y3V3  0020232233   \n",
       "2              3   19      True  09 12, 2016  A2EZ9PY1IHHBX0  0020232233   \n",
       "3              5  NaN      True   03 2, 2017  A139PXTTC2LGHZ  0020232233   \n",
       "4              1    3      True   02 8, 2017  A3IB33V29XIL8O  0020232233   \n",
       "...          ...  ...       ...          ...             ...         ...   \n",
       "8201226        5  NaN     False   12 7, 2017  A3OCDEVI6FGUWU  B01HJBAKIO   \n",
       "8201227        5    2      True  01 23, 2016  A1KTVUVADLKWZO  B01HJHA7GI   \n",
       "8201228        5  NaN      True   02 8, 2015  A2QCA9OE62IPZ4  B01HJHA7GI   \n",
       "8201229        5  NaN      True  12 31, 2014  A3N28JAZYS4L9O  B01HJHA7GI   \n",
       "8201230        5  NaN      True  11 11, 2014  A2OGYZRYRSVQZJ  B01HJHA7GI   \n",
       "\n",
       "               reviewerName  \\\n",
       "0            Mackenzie Kent   \n",
       "1        Jonathan Christian   \n",
       "2           unpreparedtodie   \n",
       "3                    Ashley   \n",
       "4                  Oghma_EM   \n",
       "...                     ...   \n",
       "8201226              wilson   \n",
       "8201227     Raven the Maven   \n",
       "8201228               crhug   \n",
       "8201229          Cindy Volk   \n",
       "8201230     Ostinato_Parody   \n",
       "\n",
       "                                                reviewText  \\\n",
       "0        When it comes to a DM's screen, the space on t...   \n",
       "1        An Open Letter to GaleForce9*:\\n\\nYour unpaint...   \n",
       "2        Nice art, nice printing.  Why two panels are f...   \n",
       "3        Amazing buy! Bought it as a gift for our new d...   \n",
       "4        As my review of GF9's previous screens these w...   \n",
       "...                                                    ...   \n",
       "8201226                                 My son is happy!!!   \n",
       "8201227  E My ten month old has had this for a few mont...   \n",
       "8201228                    perfect toy to keep baby amused   \n",
       "8201229                                            Perfect   \n",
       "8201230  I am based in the UK and I bought this item as...   \n",
       "\n",
       "                                                   summary  unixReviewTime  \\\n",
       "0        The fact that 50% of this space is wasted on a...      1474502400   \n",
       "1        Another worthless Dungeon Master's screen from...      1474156800   \n",
       "2                          pretty, but also pretty useless      1473638400   \n",
       "3                                               Five Stars      1488412800   \n",
       "4                                               Money trap      1486512000   \n",
       "...                                                    ...             ...   \n",
       "8201226                                         Five Stars      1512604800   \n",
       "8201227                              Fun for ten month old      1453507200   \n",
       "8201228                                         Five Stars      1423353600   \n",
       "8201229                                         Five Stars      1419984000   \n",
       "8201230                                      Cracking gift      1415664000   \n",
       "\n",
       "                                                     image style  \n",
       "0                                                      NaN   NaN  \n",
       "1                                                      NaN   NaN  \n",
       "2                                                      NaN   NaN  \n",
       "3                                                      NaN   NaN  \n",
       "4                                                      NaN   NaN  \n",
       "...                                                    ...   ...  \n",
       "8201226                                                NaN   NaN  \n",
       "8201227  [https://images-na.ssl-images-amazon.com/image...   NaN  \n",
       "8201228                                                NaN   NaN  \n",
       "8201229                                                NaN   NaN  \n",
       "8201230                                                NaN   NaN  \n",
       "\n",
       "[8201231 rows x 12 columns]"
      ]
     },
     "execution_count": 2,
     "metadata": {},
     "output_type": "execute_result"
    }
   ],
   "source": [
    "reviews_df_raw = pd.read_pickle('../Data/reviews_raw.pkl')\n",
    "reviews_df_raw"
   ]
  },
  {
   "cell_type": "markdown",
   "id": "75236835",
   "metadata": {},
   "source": [
    "Column Title Meanings"
   ]
  },
  {
   "cell_type": "code",
   "execution_count": 3,
   "id": "b82a3e66",
   "metadata": {},
   "outputs": [
    {
     "data": {
      "text/plain": [
       "Index(['overall', 'vote', 'verified', 'reviewTime', 'reviewerID', 'asin',\n",
       "       'reviewerName', 'reviewText', 'summary', 'unixReviewTime', 'image',\n",
       "       'style'],\n",
       "      dtype='object')"
      ]
     },
     "execution_count": 3,
     "metadata": {},
     "output_type": "execute_result"
    }
   ],
   "source": [
    "reviews_df_raw.columns"
   ]
  },
  {
   "cell_type": "code",
   "execution_count": 4,
   "id": "f8cd44cc",
   "metadata": {},
   "outputs": [
    {
     "data": {
      "application/vnd.microsoft.datawrangler.viewer.v0+json": {
       "columns": [
        {
         "name": "index",
         "rawType": "int64",
         "type": "integer"
        },
        {
         "name": "overall",
         "rawType": "int64",
         "type": "integer"
        },
        {
         "name": "vote",
         "rawType": "object",
         "type": "unknown"
        },
        {
         "name": "verified",
         "rawType": "bool",
         "type": "boolean"
        },
        {
         "name": "reviewTime",
         "rawType": "object",
         "type": "string"
        },
        {
         "name": "reviewerID",
         "rawType": "object",
         "type": "string"
        },
        {
         "name": "asin",
         "rawType": "object",
         "type": "string"
        },
        {
         "name": "reviewerName",
         "rawType": "object",
         "type": "string"
        },
        {
         "name": "reviewText",
         "rawType": "object",
         "type": "string"
        },
        {
         "name": "summary",
         "rawType": "object",
         "type": "string"
        },
        {
         "name": "unixReviewTime",
         "rawType": "int64",
         "type": "integer"
        },
        {
         "name": "image",
         "rawType": "object",
         "type": "unknown"
        },
        {
         "name": "style",
         "rawType": "object",
         "type": "unknown"
        }
       ],
       "ref": "a5924063-03d5-461f-af39-b222dcf69e40",
       "rows": [
        [
         "0",
         "2",
         "12",
         "False",
         "09 22, 2016",
         "A1IDMI31WEANAF",
         "0020232233",
         "Mackenzie Kent",
         "When it comes to a DM's screen, the space on the screen itself is at an absolute premium. The fact that 50% of this space is wasted on art (and not terribly informative or needed art as well) makes it completely useless. The only reason that I gave it 2 stars and not 1 was that, technically speaking, it can at least still stand up to block your notes and dice rolls. Other than that, it drops the ball completely.",
         "The fact that 50% of this space is wasted on art (and not terribly informative or needed art ...",
         "1474502400",
         null,
         null
        ],
        [
         "1",
         "1",
         "21",
         "False",
         "09 18, 2016",
         "A4BCEVVZ4Y3V3",
         "0020232233",
         "Jonathan Christian",
         "An Open Letter to GaleForce9*:\n\nYour unpainted miniatures are very not bad. Your spell cards are great. Your board games are \"meh\". Your DM screens, however, are freaking terrible. I'm still waiting for a single screen that isn't polluted with pointless artwork where useful, reference-able tables should be. Once again, you've created a single use screen that is only useful when running the \"Storm King's Thunder\" adventure. Even despite the fact that it's geared to that adventure path, it's usefulness negligible, at best. I massive swath of the inner panel is wasted on artwork and a bloated overland map, which could have been easily reduced to a single panel in size. And the few table you have are nigh-useless themselves.\n\nIn short, stop making crap DM screens.",
         "Another worthless Dungeon Master's screen from GaleForce9",
         "1474156800",
         null,
         null
        ],
        [
         "2",
         "3",
         "19",
         "True",
         "09 12, 2016",
         "A2EZ9PY1IHHBX0",
         "0020232233",
         "unpreparedtodie",
         "Nice art, nice printing.  Why two panels are filled with a general Forgotten Realms map is beyond me.  Most of one of them is all blue ocean.  Such a waste.\n\nI don't understand why they can't make these DM Screens more useful for these \"kinds of adventures\" rather than solely the specific adventure.  You're supposed to be able to transpose this adventure to other lands outside the Forgotten Realms.  So even just a list of new monsters or NPCs would at least be useful than the map.  Even more would just be stuff related to running the game but broad-use stuff related to giants.\n\nSame thing with Curse of Strahd.  Why not make it useful for raven loft, undead or horror campaigns in general... instead a huge amount of screen space is solely mapping out Castle Ravenloft, which is only useful during a small fraction of the time even for the Curse of Strahd adventure, let alone various other Ravenloft adventuring.\n\nThey really kill the extended use of these screens by not thinking about their potential use, both for the adventure in question, as well as use in a broader sense.\n\nThe Rage of Demons screen is far more useful for broad under dark adventuring - covering a lot of rules for the various conditions you may suffer... and the map is only one panel.\n\nThis Storm Giants one is decent for a few tables it includes - but really misses the mark.  Maybe they should ask a few DMs what they would use?",
         "pretty, but also pretty useless",
         "1473638400",
         null,
         null
        ],
        [
         "3",
         "5",
         null,
         "True",
         "03 2, 2017",
         "A139PXTTC2LGHZ",
         "0020232233",
         "Ashley",
         "Amazing buy! Bought it as a gift for our new dm and it's perfect!",
         "Five Stars",
         "1488412800",
         null,
         null
        ],
        [
         "4",
         "1",
         "3",
         "True",
         "02 8, 2017",
         "A3IB33V29XIL8O",
         "0020232233",
         "Oghma_EM",
         "As my review of GF9's previous screens these were completely unnecessary and nearly useless. Skip them, this is the definition of a waste of money.",
         "Money trap",
         "1486512000",
         null,
         null
        ]
       ],
       "shape": {
        "columns": 12,
        "rows": 5
       }
      },
      "text/html": [
       "<div>\n",
       "<style scoped>\n",
       "    .dataframe tbody tr th:only-of-type {\n",
       "        vertical-align: middle;\n",
       "    }\n",
       "\n",
       "    .dataframe tbody tr th {\n",
       "        vertical-align: top;\n",
       "    }\n",
       "\n",
       "    .dataframe thead th {\n",
       "        text-align: right;\n",
       "    }\n",
       "</style>\n",
       "<table border=\"1\" class=\"dataframe\">\n",
       "  <thead>\n",
       "    <tr style=\"text-align: right;\">\n",
       "      <th></th>\n",
       "      <th>overall</th>\n",
       "      <th>vote</th>\n",
       "      <th>verified</th>\n",
       "      <th>reviewTime</th>\n",
       "      <th>reviewerID</th>\n",
       "      <th>asin</th>\n",
       "      <th>reviewerName</th>\n",
       "      <th>reviewText</th>\n",
       "      <th>summary</th>\n",
       "      <th>unixReviewTime</th>\n",
       "      <th>image</th>\n",
       "      <th>style</th>\n",
       "    </tr>\n",
       "  </thead>\n",
       "  <tbody>\n",
       "    <tr>\n",
       "      <th>0</th>\n",
       "      <td>2</td>\n",
       "      <td>12</td>\n",
       "      <td>False</td>\n",
       "      <td>09 22, 2016</td>\n",
       "      <td>A1IDMI31WEANAF</td>\n",
       "      <td>0020232233</td>\n",
       "      <td>Mackenzie Kent</td>\n",
       "      <td>When it comes to a DM's screen, the space on t...</td>\n",
       "      <td>The fact that 50% of this space is wasted on a...</td>\n",
       "      <td>1474502400</td>\n",
       "      <td>NaN</td>\n",
       "      <td>NaN</td>\n",
       "    </tr>\n",
       "    <tr>\n",
       "      <th>1</th>\n",
       "      <td>1</td>\n",
       "      <td>21</td>\n",
       "      <td>False</td>\n",
       "      <td>09 18, 2016</td>\n",
       "      <td>A4BCEVVZ4Y3V3</td>\n",
       "      <td>0020232233</td>\n",
       "      <td>Jonathan Christian</td>\n",
       "      <td>An Open Letter to GaleForce9*:\\n\\nYour unpaint...</td>\n",
       "      <td>Another worthless Dungeon Master's screen from...</td>\n",
       "      <td>1474156800</td>\n",
       "      <td>NaN</td>\n",
       "      <td>NaN</td>\n",
       "    </tr>\n",
       "    <tr>\n",
       "      <th>2</th>\n",
       "      <td>3</td>\n",
       "      <td>19</td>\n",
       "      <td>True</td>\n",
       "      <td>09 12, 2016</td>\n",
       "      <td>A2EZ9PY1IHHBX0</td>\n",
       "      <td>0020232233</td>\n",
       "      <td>unpreparedtodie</td>\n",
       "      <td>Nice art, nice printing.  Why two panels are f...</td>\n",
       "      <td>pretty, but also pretty useless</td>\n",
       "      <td>1473638400</td>\n",
       "      <td>NaN</td>\n",
       "      <td>NaN</td>\n",
       "    </tr>\n",
       "    <tr>\n",
       "      <th>3</th>\n",
       "      <td>5</td>\n",
       "      <td>NaN</td>\n",
       "      <td>True</td>\n",
       "      <td>03 2, 2017</td>\n",
       "      <td>A139PXTTC2LGHZ</td>\n",
       "      <td>0020232233</td>\n",
       "      <td>Ashley</td>\n",
       "      <td>Amazing buy! Bought it as a gift for our new d...</td>\n",
       "      <td>Five Stars</td>\n",
       "      <td>1488412800</td>\n",
       "      <td>NaN</td>\n",
       "      <td>NaN</td>\n",
       "    </tr>\n",
       "    <tr>\n",
       "      <th>4</th>\n",
       "      <td>1</td>\n",
       "      <td>3</td>\n",
       "      <td>True</td>\n",
       "      <td>02 8, 2017</td>\n",
       "      <td>A3IB33V29XIL8O</td>\n",
       "      <td>0020232233</td>\n",
       "      <td>Oghma_EM</td>\n",
       "      <td>As my review of GF9's previous screens these w...</td>\n",
       "      <td>Money trap</td>\n",
       "      <td>1486512000</td>\n",
       "      <td>NaN</td>\n",
       "      <td>NaN</td>\n",
       "    </tr>\n",
       "  </tbody>\n",
       "</table>\n",
       "</div>"
      ],
      "text/plain": [
       "   overall vote  verified   reviewTime      reviewerID        asin  \\\n",
       "0        2   12     False  09 22, 2016  A1IDMI31WEANAF  0020232233   \n",
       "1        1   21     False  09 18, 2016   A4BCEVVZ4Y3V3  0020232233   \n",
       "2        3   19      True  09 12, 2016  A2EZ9PY1IHHBX0  0020232233   \n",
       "3        5  NaN      True   03 2, 2017  A139PXTTC2LGHZ  0020232233   \n",
       "4        1    3      True   02 8, 2017  A3IB33V29XIL8O  0020232233   \n",
       "\n",
       "         reviewerName                                         reviewText  \\\n",
       "0      Mackenzie Kent  When it comes to a DM's screen, the space on t...   \n",
       "1  Jonathan Christian  An Open Letter to GaleForce9*:\\n\\nYour unpaint...   \n",
       "2     unpreparedtodie  Nice art, nice printing.  Why two panels are f...   \n",
       "3              Ashley  Amazing buy! Bought it as a gift for our new d...   \n",
       "4            Oghma_EM  As my review of GF9's previous screens these w...   \n",
       "\n",
       "                                             summary  unixReviewTime image  \\\n",
       "0  The fact that 50% of this space is wasted on a...      1474502400   NaN   \n",
       "1  Another worthless Dungeon Master's screen from...      1474156800   NaN   \n",
       "2                    pretty, but also pretty useless      1473638400   NaN   \n",
       "3                                         Five Stars      1488412800   NaN   \n",
       "4                                         Money trap      1486512000   NaN   \n",
       "\n",
       "  style  \n",
       "0   NaN  \n",
       "1   NaN  \n",
       "2   NaN  \n",
       "3   NaN  \n",
       "4   NaN  "
      ]
     },
     "execution_count": 4,
     "metadata": {},
     "output_type": "execute_result"
    }
   ],
   "source": [
    "reviews_df_raw.head()"
   ]
  },
  {
   "cell_type": "markdown",
   "id": "a3af5cd0",
   "metadata": {},
   "source": [
    "- overall - rating of the product\n",
    "- vote - helpful votes of the review (so people that gave a thumbs up)\n",
    "- verified - a boolean of whether the data was verified or not\n",
    "- reviewTime - time of the review (raw)\n",
    "- reviewerID - ID of the reviewer\n",
    "- asin - ID of the product\n",
    "- reviewerName - name of the reviewer\n",
    "- reviewText - text of the review\n",
    "- summary - review title\n",
    "- unixReviewTime - time of the review (unix time)\n",
    "- image - images that users post after they have received the product\n",
    "- style - a dictionary of the product metadata, e.g., \"Format\" is \"Hardcover\"\n",
    "- summary - summary of the review"
   ]
  },
  {
   "cell_type": "markdown",
   "id": "f522cd28",
   "metadata": {},
   "source": [
    "### Begin EDA"
   ]
  },
  {
   "cell_type": "markdown",
   "id": "9f0826fb",
   "metadata": {},
   "source": [
    "Look at the data NaN values. Drop the following columns:\n",
    "- drop vote\n",
    "- drop image\n",
    "- drop style\n",
    "- drop reviewTime bc unix is easier to work with"
   ]
  },
  {
   "cell_type": "code",
   "execution_count": 5,
   "id": "e3c2a517",
   "metadata": {},
   "outputs": [
    {
     "name": "stdout",
     "output_type": "stream",
     "text": [
      "Missing Values Overview:\n",
      "              Missing Count  Missing Percentage\n",
      "image               7999253           97.537223\n",
      "vote                7239598           88.274529\n",
      "style               6211781           75.742056\n",
      "reviewText             7117            0.086780\n",
      "summary                2531            0.030861\n",
      "reviewerName            502            0.006121\n"
     ]
    }
   ],
   "source": [
    "# count and percentage of missing values in each column\n",
    "missing_counts = reviews_df_raw.isna().sum()\n",
    "missing_percentages = reviews_df_raw.isna().mean() * 100\n",
    "missing_df = pd.DataFrame({\n",
    "    'Missing Count': missing_counts,\n",
    "    'Missing Percentage': missing_percentages\n",
    "})\n",
    "missing_df = missing_df[missing_df['Missing Count'] > 0]\n",
    "missing_df = missing_df.sort_values(by='Missing Percentage', ascending=False)\n",
    "print(\"Missing Values Overview:\")\n",
    "print(missing_df)"
   ]
  },
  {
   "cell_type": "markdown",
   "id": "3c352cb2",
   "metadata": {},
   "source": [
    "Duplicates in the dataset"
   ]
  },
  {
   "cell_type": "code",
   "execution_count": 6,
   "id": "231664f2",
   "metadata": {},
   "outputs": [
    {
     "name": "stdout",
     "output_type": "stream",
     "text": [
      "Number of duplicate reviews: 392279\n",
      "Duplicate Reviews:\n"
     ]
    },
    {
     "data": {
      "application/vnd.microsoft.datawrangler.viewer.v0+json": {
       "columns": [
        {
         "name": "index",
         "rawType": "int64",
         "type": "integer"
        },
        {
         "name": "reviewerID",
         "rawType": "object",
         "type": "string"
        },
        {
         "name": "asin",
         "rawType": "object",
         "type": "string"
        },
        {
         "name": "reviewTime",
         "rawType": "object",
         "type": "string"
        },
        {
         "name": "overall",
         "rawType": "int64",
         "type": "integer"
        },
        {
         "name": "reviewText",
         "rawType": "object",
         "type": "unknown"
        }
       ],
       "ref": "463db48a-e81a-4f30-989a-2a0003d9e0c0",
       "rows": [
        [
         "1144",
         "ABWSQI9992Q29",
         "0786955554",
         "09 25, 2016",
         "5",
         "nice"
        ],
        [
         "1145",
         "ABWSQI9992Q29",
         "0786955554",
         "09 25, 2016",
         "5",
         "nice"
        ],
        [
         "1154",
         "A115TZEJ3U3AER",
         "0786955554",
         "05 11, 2016",
         "5",
         "On-time and nice item."
        ],
        [
         "1155",
         "A115TZEJ3U3AER",
         "0786955554",
         "05 11, 2016",
         "5",
         "On-time and nice item."
        ],
        [
         "1266",
         "AN82BJBT7QNT7",
         "0786955554",
         "06 26, 2011",
         "4",
         "This set is slightly worse than earlier ones (in the old sets colors are more detailed), but at all I am satisfied with this purchase. There are a lot of material for the game."
        ],
        [
         "1267",
         "AN82BJBT7QNT7",
         "0786955554",
         "06 26, 2011",
         "4",
         "This set is slightly worse than earlier ones (in the old sets colors are more detailed), but at all I am satisfied with this purchase. There are a lot of material for the game."
        ],
        [
         "1901",
         "A189DMLOX25RK",
         "0963469150",
         "09 23, 2017",
         "5",
         "A very good purchase, well packaged and delivered promptly.\nA Happy Customer!"
        ],
        [
         "1902",
         "A189DMLOX25RK",
         "0963469150",
         "09 23, 2017",
         "5",
         "Exellent little dictionary, much needed when playing Quiddler.\nWell packed items and delivered promptly.\nA Happy Customer!"
        ],
        [
         "1914",
         "A1IVNIH0Z1NWLY",
         "0963469150",
         "09 10, 2017",
         "5",
         "super for playing quiddler!"
        ],
        [
         "1915",
         "A1IVNIH0Z1NWLY",
         "0963469150",
         "09 10, 2017",
         "5",
         "fun game"
        ],
        [
         "1959",
         "AKSGHIBNBP0IK",
         "0963469150",
         "06 1, 2017",
         "5",
         "We love playing this game, whether there are just two of us or a group.  This is my replacement set in case my original deck gets too dirty from constant use.  Add in the Quiddler dictionary and there you go...a party!"
        ],
        [
         "1960",
         "AKSGHIBNBP0IK",
         "0963469150",
         "06 1, 2017",
         "5",
         "We are avid Quiddler players and this dictionary is a great asset to the game.  We have a list of 2 letter words, but no definitions, which makes the words seem dubious at best.  However, this dictionary gives short definitions for all the words.  I ordered two so that we can have one at each end of the table."
        ],
        [
         "1964",
         "A2TF0908BORN1D",
         "0963469150",
         "05 23, 2017",
         "5",
         "Fun.  Good service."
        ],
        [
         "1965",
         "A2TF0908BORN1D",
         "0963469150",
         "05 23, 2017",
         "5",
         "Lots of fun to play with the grandchildren!"
        ],
        [
         "2148",
         "A31P6DT9P8UL0A",
         "0963469150",
         "07 25, 2016",
         "5",
         "A fun game for adults and older children"
        ],
        [
         "2149",
         "A31P6DT9P8UL0A",
         "0963469150",
         "07 25, 2016",
         "5",
         "The kids and parents loved it. A good learning tool."
        ],
        [
         "2583",
         "A2534XA4DU1H4Y",
         "0963469150",
         "09 8, 2014",
         "4",
         "All Good"
        ],
        [
         "2584",
         "A2534XA4DU1H4Y",
         "0963469150",
         "09 8, 2014",
         "4",
         "All Good"
        ],
        [
         "2590",
         "A2OY6AMY2MAB0H",
         "0963469150",
         "08 30, 2014",
         "5",
         "Great game! One of my family's favorites. It's also educational for the kids."
        ],
        [
         "2591",
         "A2OY6AMY2MAB0H",
         "0963469150",
         "08 30, 2014",
         "5",
         "Great card game for the whole family. A lot of fun to play with the kids and their friends, too. A fun way for the kids to learn to spell without even realizing it."
        ],
        [
         "2754",
         "ABOEPX673Z1F0",
         "0963469150",
         "08 23, 2013",
         "5",
         "Play this game with my group of seniors. Great way to gather and socialize while helping each other out to spell the best hands."
        ],
        [
         "2755",
         "ABOEPX673Z1F0",
         "0963469150",
         "08 23, 2013",
         "5",
         "Fun game to play with friends even if they can't spell. :-) Helping each other out is half the fun."
        ],
        [
         "8821",
         "AJ3F96VQ9EIFR",
         "0976990709",
         "10 29, 2015",
         "5",
         "Grandchildren loved this book. It came in excellent shape."
        ],
        [
         "8822",
         "AJ3F96VQ9EIFR",
         "0976990709",
         "10 29, 2015",
         "5",
         "Very good condition. Was pleased with this purchase."
        ],
        [
         "10803",
         "A2R92WY3LPKNTF",
         "0976990709",
         "11 28, 2009",
         "4",
         "We really love the little story and elf, it is so adorable and my 4yo daughter loves it. My only complaint is the way they beat into your head that it's going to be your new family tradition. A tradition is started when you do something fun and decide to do it again the next year, not when someone hands you a box with the words \"your new family tradition\" written all over it lol. At the end of the book they make you write down the day you start your new tradition. But even though that part is annoying, as a whole it is cute and we will use him again next year, we did name him Robert after all hehe :)"
        ],
        [
         "10804",
         "A2R92WY3LPKNTF",
         "0976990709",
         "11 28, 2009",
         "4",
         "We really love the little story and elf, it is so adorable and my 4yo daughter loves it. My only complaint is the way they beat into your head that it's going to be your new family tradition. A tradition is started when you do something fun and decide to do it again the next year, not when someone hands you a box with the words \"your new family tradition\" written all over it lol. At the end of the book they make you write down the day you start your new tradition. But even though that part is annoying, as a whole it is cute and we will use him again next year, we did name him Robert after all hehe :)"
        ],
        [
         "14338",
         "A20M6NKPW5Z81B",
         "1579823645",
         "12 13, 2017",
         "5",
         "The puppet is perfect to go along with the story!"
        ],
        [
         "14339",
         "A20M6NKPW5Z81B",
         "1579823645",
         "12 13, 2017",
         "5",
         "So lovable."
        ],
        [
         "14368",
         "A2X30O2CZG21JN",
         "1579823645",
         "05 30, 2017",
         "5",
         "our granddaughter loves him"
        ],
        [
         "14369",
         "A2X30O2CZG21JN",
         "1579823645",
         "05 30, 2017",
         "5",
         "a bedtime favorite"
        ],
        [
         "14401",
         "A3771WYFXR8ZQG",
         "1579823645",
         "11 30, 2016",
         "5",
         "Cute"
        ],
        [
         "14402",
         "A3771WYFXR8ZQG",
         "1579823645",
         "11 30, 2016",
         "5",
         "Cute"
        ],
        [
         "14417",
         "A2EVAEJU340BWV",
         "1579823645",
         "08 19, 2016",
         "5",
         "Gift for 5 yr old grandson"
        ],
        [
         "14418",
         "A2EVAEJU340BWV",
         "1579823645",
         "08 19, 2016",
         "5",
         "I bought it for my 5 year old grandson."
        ],
        [
         "14488",
         "A8RSCZ3GO9BIW",
         "1579822770",
         "10 26, 2011",
         "1",
         "My son loves the book \"How Rocket Learned to Read\" so much that he asked for a Rocket themed birthday party. When I saw that a plush Rocket dog was being released I knew we just had to get one. Boy was I surprised when this arrived in the mail. Instead of being a soft cuddly toy for my little boy I received a dog with stiff, crusty, PAINTED ON, black spots! Only the very surface of the spots are black, and there are even some marks where the paint was smeared!!! The fur on the tail looks like in was dipped in paint and is as stiff as a board. I've never seen anything like it! Hopefully there are some of these being made that actually have soft black fur spots like a normal stuffed animal rather than globs of black paint as spots, but I couldn't help but share my experience so that others might be aware."
        ],
        [
         "14489",
         "A8RSCZ3GO9BIW",
         "1579822770",
         "10 26, 2011",
         "1",
         "My son loves the book \"How Rocket Learned to Read\" so much that he asked for a Rocket themed birthday party. When I saw that a plush Rocket dog was being released I knew we just had to get one. Boy was I surprised when this arrived in the mail. Instead of being a soft cuddly toy for my little boy I received a dog with stiff, crusty, PAINTED ON, black spots! Only the very surface of the spots are black, and there are even some marks where the paint was smeared!!! The fur on the tail looks like in was dipped in paint and is as stiff as a board. I've never seen anything like it! Hopefully there are some of these being made that actually have soft black fur spots like a normal stuffed animal rather than globs of black paint as spots, but I couldn't help but share my experience so that others might be aware"
        ],
        [
         "15158",
         "A33O34FPE2R5VH",
         "157982319X",
         "07 3, 2017",
         "5",
         "Can't wait to use it! love it!"
        ],
        [
         "15159",
         "A33O34FPE2R5VH",
         "157982319X",
         "07 3, 2017",
         "5",
         "love the paper!"
        ],
        [
         "15705",
         "A28YCUG02B9059",
         "157982319X",
         "07 8, 2015",
         "5",
         "I bought these for my dogs because the like small toys and tend to not tear them up. These are pretty sturdy and my dogs love, just don't give them to dogs without supervision."
        ],
        [
         "15706",
         "A28YCUG02B9059",
         "157982319X",
         "07 8, 2015",
         "5",
         "These work great to save on dishes, very sturdy won't get soggy and limp like other plates."
        ],
        [
         "17269",
         "AKS5HAY723VQN",
         "1589942388",
         "08 26, 2007",
         "2",
         "Just play the computer game.  This game is long, contains hundreds of little cardboard bits (but not enough of certain ones), and has way too many rules.  If you like games with those values, it is a good game.  I didn't find it particularly enjoyable.  The rules are VERY well crafted, there were no \"rule says this, no it doesn't\" fights.  For as many as there are, they were straight forward and easy to understand.  But good mechanics do not change the tedious nature of the game play.  We spent 6 hours playing the 30 rounds of the game, and I left before the PVP section started.\n\nOne thing that really needs to change is the way the blue monsters are handled.  Only quests give you anything and blue monsters aren't associated with quests, so everyone avoids them and they become pointless roadblocks everywhere.\n\nFor the price, the minis should have been painted.  They are well sculpted but many were badly molded and trimmed.  The Wizards minis are farm better quality.\n\nThis game is made by the same company that did Arkham Horror, and they are rather similar.  WOW has better rules, but Arkham Horror is far more fun (subjectively speaking, that one still takes forever too but I enjoy it much more)."
        ],
        [
         "17270",
         "AKS5HAY723VQN",
         "1589942388",
         "08 26, 2007",
         "2",
         "Just play the computer game.  This game is long, contains hundreds of little cardboard bits (but not enough of certain ones), and has way too many rules.  If you like games with those values it is a great game.  I didn't find it particularly enjoyable.  The rules are VERY well crafted, there were no \"rule says this, no it doesn't\" fights.  For as many as there are, they were straight forward and easy to understand.  But good mechanics do not change the tedious nature of the game play.  We spent 6 hours playing the 30 rounds of the game and I left before the PVP section started.\n\nOne thing that really needs to change is the way the blue monsters are handled.  Only quests give you anything and blue monsters aren't associated with quests, so everyone avoids them and they become pointless roadblocks everywhere.\n\nFor the price, the minis should have been painted.  They are well sculpted but many were badly molded and trimmed.  The Wizards minis are farm better quality.\n\nThis game is made by the same company that did Arkham Horror, and they are rather similar.  WOW has better rules, but Arkham Horror is far more fun (subjectively speaking, that one still takes forever too but I enjoy it much more)."
        ],
        [
         "23254",
         "A3PC0L6BU3ZF8T",
         "1932188126",
         "07 23, 2013",
         "5",
         "My wife and I continuously return to Bananagrams for its originality and speed. Players are given several letters and make words out of the all the given existing letters upon which the player says, \"Peel.\" Every player receives several new letter tiles until they are likewise used up in words and the player says, \"Peel.\" The process continues until all the tiles from the draw pile are gone, when the first player to use all the letters says, \"Bananagrams\" instead of \"Peel.\" Game over.\nThe game requires quick problem solving, a wide vocabulary, the ability to adapt, and the ability to start over if you can't fit in the newly acquired tiles. It's lots of fun amongst two people or a large group of friends; it doesn't become boring; and it is fast if you have a hankering for a quick word game! Any family or guest-entertainer needs it!"
        ],
        [
         "23255",
         "A3PC0L6BU3ZF8T",
         "1932188126",
         "07 23, 2013",
         "5",
         "My wife and I continuously return to Bananagrams for its originality and speed. Players are given several letters and make words out of the all the given existing letters upon which the player says, \"Peel.\" Every player receives several new letter tiles until they are likewise used up in words and the player says, \"Peel.\" The process continues until all the tiles from the draw pile are gone, when the first player to use all the letters says, \"Bananagrams\" instead of \"Peel.\" Game over.\nThe game requires quick problem solving, a wide vocabulary, the ability to adapt, and the ability to start over if you can't fit in the newly acquired tiles. It's lots of fun amongst two people or a large group of friends; it doesn't become boring; and it is fast if you have a hankering for a quick word game! Any family or guest-entertainer needs it!"
        ],
        [
         "28303",
         "A2W00XKTTF1G0Z",
         "1933318236",
         "04 21, 2009",
         "5",
         "I must say - I probably have 15 versions of Scene-It and have always asked - for the past few years - why not Star Trek?\nHere it is!\nThe gameboard is a little plain - considering there are lots of things they could have done with the imagery and playing spaces - but the questions, the game tokens and even the cards are detialed and amazing.\nThe DVD is completely all encompasing with great graphics of the TNG bridge - where you literally go from station to station answering questions about Clips, Trivia Scarmbles, Word Jumbles, distorted Images and more. Even the Tie-Breakers are fun. (You get to fight a Romulan Warbird!)\nI also really enjoy their version of the Final Cut - it could be people, images, episodes, characters, alien races, ships, shuttles - so much more.\nThe questions cover Star Trek, ST:The Next Generation, Deep Space 9, Voyager, Enterprise and all 10 Films!\nThe game pieces represent the varios starships throughout the years and the questions are relatively detailed and difficult for the Star Trek fan. (Who wants easy questions anyway!)\nOverall the first time I opened this up - we played four times - needless to say I won all four! (But it took over five hours (and didnner in between) to win them!\nThe board is high quality. The DVD is amazing and extremely fun. The tin in comes in is also amazingly colorful and detailed.\nI just hope they do more Trek just for each of the five series seperately and then all the movies by themselves!\nWhether you are a STAR TREK fan or not - but it does help - this is fun for the whole family! 4-21-09"
        ],
        [
         "28304",
         "A2W00XKTTF1G0Z",
         "1933318236",
         "04 21, 2009",
         "5",
         "I must say - I probably have 15 versions of Scene-It and have always asked - for the past few years - why not Star Trek?\nHere it is!\nThe gameboard is a little plain - considering there are lots of things they could have done with the imagery and playing spaces - but the questions, the game tokens and even the cards are detialed and amazing.\nThe DVD is completely all encompasing with great graphics of the TNG bridge - where you literally go from station to station answering questions about Clips, Trivia Scarmbles, Word Jumbles, distorted Images and more. Even the Tie-Breakers are fun. (You get to fight a Romulan Warbird!)\nI also really enjoy their version of the Final Cut - it could be people, images, episodes, characters, alien races, ships, shuttles - so much more.\nThe questions cover Star Trek, ST:The Next Generation, Deep Space 9, Voyager, Enterprise and all 10 Films!\nThe game pieces represent the varios starships throughout the years and the questions are relatively detailed and difficult for the Star Trek fan. (Who wants easy questions anyway!)\nOverall the first time I opened this up - we played four times - needless to say I won all four! (But it took over five hours (and didnner in between) to win them!\nThe board is high quality. The DVD is amazing and extremely fun. The tin in comes in is also amazingly colorful and detailed.\nI just hope they do more Trek just for each of the five series seperately and then all the movies by themselves!\nWhether you are a STAR TREK fan or not - but it does help - this is fun for the whole family! 4-21-09"
        ],
        [
         "33742",
         "A20HWFBP2NE7PL",
         "B00000DMD2",
         "11 5, 2017",
         "5",
         "We liked this so much we baought a nother one our grand kids love it"
        ],
        [
         "33743",
         "A20HWFBP2NE7PL",
         "B00000DMD2",
         "11 5, 2017",
         "5",
         "My grand daughters love this"
        ],
        [
         "39588",
         "A3PC3LSYOKAQ3N",
         "B00000DMF5",
         "10 24, 2006",
         "5",
         "As a child, I myself grew up with Candyland.  Now that I have children of my own, my house wouldn't be the same without it.\n\nWe got this game when my son was 3 and my daughter was 2.  Both of the kids understand the concept of the game and enjoy playing it.\n\nThe best thing about this game is that there's nothing really complicated.  The kids don't even have to know their colors to play.  They just need to match up the color on the card with the color on the board.\n\nThe game is simple enough that the kids often win which makes the game more enjoyable for them."
        ],
        [
         "39589",
         "A3PC3LSYOKAQ3N",
         "B00000DMF5",
         "10 24, 2006",
         "5",
         "As a child, I myself grew up with Candyland.  Now that I have children of my own, my house wouldn't be the same without it.\n\nWe got this game when my son was 3 and my daughter was 2.  Both of the kids understand the concept of the game and enjoy playing it.\n\nThe best thing about this game is that there's nothing really complicated.  The kids don't even have to know their colors to play.  They just need to match up the color on the card with the color on the board.\n\nThe game is simple enough that the kids often win which makes the game more enjoyable for them."
        ]
       ],
       "shape": {
        "columns": 5,
        "rows": 392279
       }
      },
      "text/html": [
       "<div>\n",
       "<style scoped>\n",
       "    .dataframe tbody tr th:only-of-type {\n",
       "        vertical-align: middle;\n",
       "    }\n",
       "\n",
       "    .dataframe tbody tr th {\n",
       "        vertical-align: top;\n",
       "    }\n",
       "\n",
       "    .dataframe thead th {\n",
       "        text-align: right;\n",
       "    }\n",
       "</style>\n",
       "<table border=\"1\" class=\"dataframe\">\n",
       "  <thead>\n",
       "    <tr style=\"text-align: right;\">\n",
       "      <th></th>\n",
       "      <th>reviewerID</th>\n",
       "      <th>asin</th>\n",
       "      <th>reviewTime</th>\n",
       "      <th>overall</th>\n",
       "      <th>reviewText</th>\n",
       "    </tr>\n",
       "  </thead>\n",
       "  <tbody>\n",
       "    <tr>\n",
       "      <th>1144</th>\n",
       "      <td>ABWSQI9992Q29</td>\n",
       "      <td>0786955554</td>\n",
       "      <td>09 25, 2016</td>\n",
       "      <td>5</td>\n",
       "      <td>nice</td>\n",
       "    </tr>\n",
       "    <tr>\n",
       "      <th>1145</th>\n",
       "      <td>ABWSQI9992Q29</td>\n",
       "      <td>0786955554</td>\n",
       "      <td>09 25, 2016</td>\n",
       "      <td>5</td>\n",
       "      <td>nice</td>\n",
       "    </tr>\n",
       "    <tr>\n",
       "      <th>1154</th>\n",
       "      <td>A115TZEJ3U3AER</td>\n",
       "      <td>0786955554</td>\n",
       "      <td>05 11, 2016</td>\n",
       "      <td>5</td>\n",
       "      <td>On-time and nice item.</td>\n",
       "    </tr>\n",
       "    <tr>\n",
       "      <th>1155</th>\n",
       "      <td>A115TZEJ3U3AER</td>\n",
       "      <td>0786955554</td>\n",
       "      <td>05 11, 2016</td>\n",
       "      <td>5</td>\n",
       "      <td>On-time and nice item.</td>\n",
       "    </tr>\n",
       "    <tr>\n",
       "      <th>1266</th>\n",
       "      <td>AN82BJBT7QNT7</td>\n",
       "      <td>0786955554</td>\n",
       "      <td>06 26, 2011</td>\n",
       "      <td>4</td>\n",
       "      <td>This set is slightly worse than earlier ones (...</td>\n",
       "    </tr>\n",
       "    <tr>\n",
       "      <th>...</th>\n",
       "      <td>...</td>\n",
       "      <td>...</td>\n",
       "      <td>...</td>\n",
       "      <td>...</td>\n",
       "      <td>...</td>\n",
       "    </tr>\n",
       "    <tr>\n",
       "      <th>8189354</th>\n",
       "      <td>A5FVEFQ55OHRS</td>\n",
       "      <td>B01H25XJ76</td>\n",
       "      <td>07 20, 2017</td>\n",
       "      <td>5</td>\n",
       "      <td>She is happy</td>\n",
       "    </tr>\n",
       "    <tr>\n",
       "      <th>8189355</th>\n",
       "      <td>A5FVEFQ55OHRS</td>\n",
       "      <td>B01H25XJ76</td>\n",
       "      <td>07 20, 2017</td>\n",
       "      <td>5</td>\n",
       "      <td>everyone is happpy</td>\n",
       "    </tr>\n",
       "    <tr>\n",
       "      <th>8189356</th>\n",
       "      <td>A5FVEFQ55OHRS</td>\n",
       "      <td>B01H25XJ76</td>\n",
       "      <td>07 20, 2017</td>\n",
       "      <td>5</td>\n",
       "      <td>The 6 year old loves it</td>\n",
       "    </tr>\n",
       "    <tr>\n",
       "      <th>8199065</th>\n",
       "      <td>AY6VLC56K8CVX</td>\n",
       "      <td>B01HGKDE22</td>\n",
       "      <td>12 6, 2016</td>\n",
       "      <td>5</td>\n",
       "      <td>very pleased with promptness and quality</td>\n",
       "    </tr>\n",
       "    <tr>\n",
       "      <th>8199066</th>\n",
       "      <td>AY6VLC56K8CVX</td>\n",
       "      <td>B01HGKDE22</td>\n",
       "      <td>12 6, 2016</td>\n",
       "      <td>5</td>\n",
       "      <td>very pleased with promptness and quality</td>\n",
       "    </tr>\n",
       "  </tbody>\n",
       "</table>\n",
       "<p>392279 rows × 5 columns</p>\n",
       "</div>"
      ],
      "text/plain": [
       "             reviewerID        asin   reviewTime  overall  \\\n",
       "1144      ABWSQI9992Q29  0786955554  09 25, 2016        5   \n",
       "1145      ABWSQI9992Q29  0786955554  09 25, 2016        5   \n",
       "1154     A115TZEJ3U3AER  0786955554  05 11, 2016        5   \n",
       "1155     A115TZEJ3U3AER  0786955554  05 11, 2016        5   \n",
       "1266      AN82BJBT7QNT7  0786955554  06 26, 2011        4   \n",
       "...                 ...         ...          ...      ...   \n",
       "8189354   A5FVEFQ55OHRS  B01H25XJ76  07 20, 2017        5   \n",
       "8189355   A5FVEFQ55OHRS  B01H25XJ76  07 20, 2017        5   \n",
       "8189356   A5FVEFQ55OHRS  B01H25XJ76  07 20, 2017        5   \n",
       "8199065   AY6VLC56K8CVX  B01HGKDE22   12 6, 2016        5   \n",
       "8199066   AY6VLC56K8CVX  B01HGKDE22   12 6, 2016        5   \n",
       "\n",
       "                                                reviewText  \n",
       "1144                                                  nice  \n",
       "1145                                                  nice  \n",
       "1154                                On-time and nice item.  \n",
       "1155                                On-time and nice item.  \n",
       "1266     This set is slightly worse than earlier ones (...  \n",
       "...                                                    ...  \n",
       "8189354                                       She is happy  \n",
       "8189355                                 everyone is happpy  \n",
       "8189356                            The 6 year old loves it  \n",
       "8199065           very pleased with promptness and quality  \n",
       "8199066           very pleased with promptness and quality  \n",
       "\n",
       "[392279 rows x 5 columns]"
      ]
     },
     "execution_count": 6,
     "metadata": {},
     "output_type": "execute_result"
    }
   ],
   "source": [
    "# check for duplicates in the reviews\n",
    "duplicates = reviews_df_raw.duplicated(subset=['reviewerID', 'asin', 'reviewTime', 'overall'], keep=False)\n",
    "print(f\"Number of duplicate reviews: {duplicates.sum()}\")\n",
    "# show the duplicate reviews\n",
    "duplicate_reviews = reviews_df_raw[duplicates]\n",
    "print(\"Duplicate Reviews:\")\n",
    "duplicate_reviews[['reviewerID', 'asin', 'reviewTime', 'overall', 'reviewText']]\n"
   ]
  },
  {
   "cell_type": "markdown",
   "id": "740cf4bf",
   "metadata": {},
   "source": [
    "Data type in each column"
   ]
  },
  {
   "cell_type": "code",
   "execution_count": 7,
   "id": "9edab993",
   "metadata": {},
   "outputs": [
    {
     "name": "stdout",
     "output_type": "stream",
     "text": [
      "<class 'pandas.core.frame.DataFrame'>\n",
      "RangeIndex: 8201231 entries, 0 to 8201230\n",
      "Data columns (total 12 columns):\n",
      " #   Column          Dtype \n",
      "---  ------          ----- \n",
      " 0   overall         int64 \n",
      " 1   vote            object\n",
      " 2   verified        bool  \n",
      " 3   reviewTime      object\n",
      " 4   reviewerID      object\n",
      " 5   asin            object\n",
      " 6   reviewerName    object\n",
      " 7   reviewText      object\n",
      " 8   summary         object\n",
      " 9   unixReviewTime  int64 \n",
      " 10  image           object\n",
      " 11  style           object\n",
      "dtypes: bool(1), int64(2), object(9)\n",
      "memory usage: 696.1+ MB\n"
     ]
    }
   ],
   "source": [
    "reviews_df_raw.info()"
   ]
  },
  {
   "cell_type": "code",
   "execution_count": 8,
   "id": "c8448480",
   "metadata": {},
   "outputs": [],
   "source": [
    "# convert dates to datetime objects\n",
    "reviews_df_raw['date'] = pd.to_datetime(reviews_df_raw['unixReviewTime'], unit='s')\n"
   ]
  },
  {
   "cell_type": "code",
   "execution_count": 9,
   "id": "11771999",
   "metadata": {},
   "outputs": [
    {
     "data": {
      "application/vnd.microsoft.datawrangler.viewer.v0+json": {
       "columns": [
        {
         "name": "index",
         "rawType": "int64",
         "type": "integer"
        },
        {
         "name": "overall",
         "rawType": "int64",
         "type": "integer"
        },
        {
         "name": "vote",
         "rawType": "object",
         "type": "unknown"
        },
        {
         "name": "verified",
         "rawType": "bool",
         "type": "boolean"
        },
        {
         "name": "reviewTime",
         "rawType": "object",
         "type": "string"
        },
        {
         "name": "reviewerID",
         "rawType": "object",
         "type": "string"
        },
        {
         "name": "asin",
         "rawType": "object",
         "type": "string"
        },
        {
         "name": "reviewerName",
         "rawType": "object",
         "type": "unknown"
        },
        {
         "name": "reviewText",
         "rawType": "object",
         "type": "unknown"
        },
        {
         "name": "summary",
         "rawType": "object",
         "type": "unknown"
        },
        {
         "name": "unixReviewTime",
         "rawType": "int64",
         "type": "integer"
        },
        {
         "name": "image",
         "rawType": "object",
         "type": "unknown"
        },
        {
         "name": "style",
         "rawType": "object",
         "type": "unknown"
        },
        {
         "name": "date",
         "rawType": "datetime64[ns]",
         "type": "datetime"
        }
       ],
       "ref": "dee3e302-b6bd-4d10-b85f-fb3988f09bb0",
       "rows": [
        [
         "0",
         "2",
         "12",
         "False",
         "09 22, 2016",
         "A1IDMI31WEANAF",
         "0020232233",
         "Mackenzie Kent",
         "When it comes to a DM's screen, the space on the screen itself is at an absolute premium. The fact that 50% of this space is wasted on art (and not terribly informative or needed art as well) makes it completely useless. The only reason that I gave it 2 stars and not 1 was that, technically speaking, it can at least still stand up to block your notes and dice rolls. Other than that, it drops the ball completely.",
         "The fact that 50% of this space is wasted on art (and not terribly informative or needed art ...",
         "1474502400",
         null,
         null,
         "2016-09-22 00:00:00"
        ],
        [
         "1",
         "1",
         "21",
         "False",
         "09 18, 2016",
         "A4BCEVVZ4Y3V3",
         "0020232233",
         "Jonathan Christian",
         "An Open Letter to GaleForce9*:\n\nYour unpainted miniatures are very not bad. Your spell cards are great. Your board games are \"meh\". Your DM screens, however, are freaking terrible. I'm still waiting for a single screen that isn't polluted with pointless artwork where useful, reference-able tables should be. Once again, you've created a single use screen that is only useful when running the \"Storm King's Thunder\" adventure. Even despite the fact that it's geared to that adventure path, it's usefulness negligible, at best. I massive swath of the inner panel is wasted on artwork and a bloated overland map, which could have been easily reduced to a single panel in size. And the few table you have are nigh-useless themselves.\n\nIn short, stop making crap DM screens.",
         "Another worthless Dungeon Master's screen from GaleForce9",
         "1474156800",
         null,
         null,
         "2016-09-18 00:00:00"
        ],
        [
         "2",
         "3",
         "19",
         "True",
         "09 12, 2016",
         "A2EZ9PY1IHHBX0",
         "0020232233",
         "unpreparedtodie",
         "Nice art, nice printing.  Why two panels are filled with a general Forgotten Realms map is beyond me.  Most of one of them is all blue ocean.  Such a waste.\n\nI don't understand why they can't make these DM Screens more useful for these \"kinds of adventures\" rather than solely the specific adventure.  You're supposed to be able to transpose this adventure to other lands outside the Forgotten Realms.  So even just a list of new monsters or NPCs would at least be useful than the map.  Even more would just be stuff related to running the game but broad-use stuff related to giants.\n\nSame thing with Curse of Strahd.  Why not make it useful for raven loft, undead or horror campaigns in general... instead a huge amount of screen space is solely mapping out Castle Ravenloft, which is only useful during a small fraction of the time even for the Curse of Strahd adventure, let alone various other Ravenloft adventuring.\n\nThey really kill the extended use of these screens by not thinking about their potential use, both for the adventure in question, as well as use in a broader sense.\n\nThe Rage of Demons screen is far more useful for broad under dark adventuring - covering a lot of rules for the various conditions you may suffer... and the map is only one panel.\n\nThis Storm Giants one is decent for a few tables it includes - but really misses the mark.  Maybe they should ask a few DMs what they would use?",
         "pretty, but also pretty useless",
         "1473638400",
         null,
         null,
         "2016-09-12 00:00:00"
        ],
        [
         "3",
         "5",
         null,
         "True",
         "03 2, 2017",
         "A139PXTTC2LGHZ",
         "0020232233",
         "Ashley",
         "Amazing buy! Bought it as a gift for our new dm and it's perfect!",
         "Five Stars",
         "1488412800",
         null,
         null,
         "2017-03-02 00:00:00"
        ],
        [
         "4",
         "1",
         "3",
         "True",
         "02 8, 2017",
         "A3IB33V29XIL8O",
         "0020232233",
         "Oghma_EM",
         "As my review of GF9's previous screens these were completely unnecessary and nearly useless. Skip them, this is the definition of a waste of money.",
         "Money trap",
         "1486512000",
         null,
         null,
         "2017-02-08 00:00:00"
        ],
        [
         "5",
         "5",
         null,
         "True",
         "01 27, 2017",
         "A1J86V48S4KRJE",
         "0020232233",
         "Cynthia A. Evoniuk",
         "Grandson loves",
         "Five Stars",
         "1485475200",
         null,
         null,
         "2017-01-27 00:00:00"
        ],
        [
         "6",
         "5",
         null,
         "False",
         "01 2, 2017",
         "A14J12PRBLGHF4",
         "0020232233",
         "Amazon Customer",
         "I have bought many gm screens over the years, but this one is the best I have ever seen. It has all the relevant information I need , and no crap filler on it. Very happy with this screen.",
         "Best gm screen ever",
         "1483315200",
         null,
         null,
         "2017-01-02 00:00:00"
        ],
        [
         "7",
         "5",
         null,
         "True",
         "12 17, 2016",
         "A2UKOWP9ICU416",
         "0020232233",
         "anon9df0",
         "Came in perfect condition.",
         "Five Stars",
         "1481932800",
         null,
         null,
         "2016-12-17 00:00:00"
        ],
        [
         "8",
         "4",
         null,
         "False",
         "12 15, 2016",
         "A2ONKKDETRWT79",
         "0020232233",
         "Consumer Dad",
         "Could be better but its still great. I love the things on the DM's side of the screen and I actually like the map in the middle makes it easy to reference whats around at any given time.",
         "Great but could be even better",
         "1481760000",
         null,
         null,
         "2016-12-15 00:00:00"
        ],
        [
         "9",
         "3",
         "13",
         "True",
         "12 9, 2016",
         "AK9GN9KZZNTEP",
         "0020232233",
         "Dallas Gamer Family",
         "My review will mirror others in that this kind of misses the mark and there are some lost opportunities to help DM's.  I wouldn't advise new DM's to use this by itself.  They should stick to the generic 5e DM screen and just copy/print the other useful information for SKT.\nI do like that the information they did put in the screen was relevant to the game and makes accessible some of the frequently visited tables from the adventure book.  I also like the map from the perspective that it contains the page references to the cities and locations. This is pretty useful, especially during Ch 3 of the adventure.\nHowever, there is a very Large amount of wasted space that could easily have been utilized instead of having the whole map take up 2 panels of the screen. The middle of the ocean could have contained info on the Giant hierarchy, the Giant Rune symbols, the Random encounters at Sea table from the DMG, trap tables, or any number of other usefully applicable information to the story.  I would have done away with the Sea portion of the map completely and used that space more efficiently.  In all actuality, the entire map could have been an extra insert, freeing up far more space and making this product far more appealing...or the Adventure book could have included it as a tear out.  There should have been better collaboration on this product.\nOn a different note, the printing on my copy of the screen was not sized correctly.  The Left and right creases are right over the edge of the words...especially on the Right side.  It is almost illegible when the screen is up and in it's general position at the gaming table.(See attached pic)\n\nI can understand the idea and desire to produce tailored DM Screens for these adventure books, but I don't feel they've truly taken the time to get feedback on their ideas from enough sources before printing. It's coming across as licensed money grab instead of a Value Add product to the adventure line.",
         "Another missed opportunity.  Not a value add to the product line.",
         "1481241600",
         "['https://images-na.ssl-images-amazon.com/images/I/718LAfAbT2L._SY88.jpg', 'https://images-na.ssl-images-amazon.com/images/I/718LAfAbT2L._SY88.jpg']",
         null,
         "2016-12-09 00:00:00"
        ],
        [
         "10",
         "5",
         null,
         "True",
         "12 7, 2016",
         "A26HO01PDWN6O5",
         "0020232233",
         "Amazon Customer",
         "Works very well",
         "Five Stars",
         "1481068800",
         null,
         null,
         "2016-12-07 00:00:00"
        ],
        [
         "11",
         "5",
         null,
         "True",
         "11 5, 2016",
         "A8PF4X87CS3ZZ",
         "0020232233",
         "B. Felkins",
         "Can't wait to use it!",
         "Love the map!",
         "1478304000",
         null,
         null,
         "2016-11-05 00:00:00"
        ],
        [
         "12",
         "5",
         "2",
         "False",
         "11 4, 2016",
         "A28QGCUNS22JPH",
         "0020232233",
         "Daniel Gabriel Horton",
         "This is a campaign specific DM screen meant to work with The Storm Kings Thunder adventure.  It is not a general use screen.  The reason I'm  giving it 5 stars is that every named place on the map also has the page number of locations entry in TSKT. That feature has saved me time in Adventures League play. Other AL DMs will tell you how precious every minute is in the standard 2 hour format.",
         "Not a general DM screen",
         "1478217600",
         null,
         null,
         "2016-11-04 00:00:00"
        ],
        [
         "13",
         "2",
         "3",
         "False",
         "04 24, 2017",
         "A2X2RJWNAV4FM0",
         "038536539X",
         "J Person",
         "This is one of the worst games I have ever played.  You basically have to come up with puns on the spot.  Not only are puns generally pretty bad, you have to generate puns that are worse than your run of the mill groaners.  I can't imagine many people enjoying it, but it is slow paced and generally does not generate any level of enjoyment unless you're very skilled with the English language.",
         "Very weak game",
         "1492992000",
         null,
         null,
         "2017-04-24 00:00:00"
        ],
        [
         "14",
         "2",
         "6",
         "True",
         "04 17, 2017",
         "A1DIRJ8YNI5TKL",
         "038536539X",
         "ZacWolf",
         "It sounded like a really amazing concept, but when we tried to play it, it fell completely flat. Maybe if we were fans of the television show that the game is originally based upon? But having no \"prior experience\", we tried three rounds (even using the \"hints\" to get people started) and everyone just looked at each other and we decided to play something else. This was a high IQ group, and we often use puns in day to day banter, but the game just fell completely flat. :-(\n\nSad, because the quality of the box set is very nice, and comes with everything needed to play (pads, pencils, etc.).",
         "Fell completely flat...",
         "1492387200",
         null,
         null,
         "2017-04-17 00:00:00"
        ],
        [
         "15",
         "5",
         null,
         "True",
         "01 26, 2017",
         "A2G5IDD919P2DK",
         "038536539X",
         "Marcy A. Danenmann",
         "Very fun game for my family",
         "Five Stars",
         "1485388800",
         null,
         null,
         "2017-01-26 00:00:00"
        ],
        [
         "16",
         "4",
         "13",
         "False",
         "03 16, 2004",
         "AGCAAWP1AVVZR",
         "0486277577",
         "M. P. Schiesl",
         "Pretty good book with a variety of unique card sleights (palming, manipulating cards in the deck, etc.). These sleights are the 'real work', so it will take a little perseverance. Many of these utility sleights are ones that you ought to know if you want to be a card sleight-of-hand worker.\nThe instructions are generally clear, but sometimes a detail here and there gets a little confusing. There's a fair number of photos showing how to do many of the sleights.\nSometimes a sleight is a little more complicated than it needs to be. My recommendation is to follow the author's steps in slow-motion with a deck of cards in hand. After you are familiar with the overall effect, you can make adjustments based on what your comfortable with. There may also be other newer methods for learning these sleights if you want to invest in newer card sleight instruction (such as the Daryl Encyclopedia of Card Sleights videos, etc.).\nRight now, I'm working on the side steal sleight. He gives a T. Nelson Downs version which has some merit, but it is much more complicated than necessary. The author's own version is a little more do-able. But even the author's method becomes a little too fidgety, so I've made minor modifications to make it work well for me. I start in slow-motion, counting through the substeps to keep pace while I do the move (1..2..3..4). Then I repeat it until I can bring it up to full speed.\nIf you want to learn sleights for cheap, try this book. You may have to pick and choose through the sleights, and there may be better methods to perform some of these sleights now, but it's not bad for under $10.",
         "Good book",
         "1079395200",
         null,
         "{'Format:': ' Paperback'}",
         "2004-03-16 00:00:00"
        ],
        [
         "17",
         "5",
         "16",
         "False",
         "04 28, 2002",
         "AD2CIUI4TSVY7",
         "0486277577",
         "Mark Thomas",
         "When I unexpectedly came across a picture of Buckley on the first page of the book, and after hearing the other reviews of how difficult and advanced the techniques in the book were, I couldn't believe my eyes. I was surprised to see the face of a handsome teenager, of which my previous impression was COMPLETELY the opposite to the one I held in my hands. And this guy was a professional card magician at the age of 18, and able to do tricks infront of hundreds of people on-stage in 1908!\nI have a feeling that this guy's mystery and skill probably gained him significant success with girls his age. The mysterious effects of these difficult to execute sleights are priceless and dazzling beyond belief. If a 3 columns card trick can make girls believe in magic.. then Buckley's stuff probably knocked their socks off... literally! Believe me, this guy would be able to blow David Blaine out of the water and make him look like Bob Longe.\nThat being said and out of the way, the book itself is amazing. There are very clearcut photos of Buckley's hands and very impressive card tricks, or as he calls them in the fourth section, \"Card Experiments\". Best of all, this book isn't like most others where the authors seem to purposely be vague (S.W. Erdnase) and not give the best descriptions. Mr. Buckley gives you every detail and is your friend throughout the book, showing you exactly how everything is done without any confusion.\nAnd there is SO much different good stuff in here, that you'll probably never need another book for advanced materials.\nIt is a great book and a great reference to help you on your way to card excellence and showmanship. You will not be disappointed with this purchase.",
         "Buckley was a card mommer",
         "1019952000",
         null,
         "{'Format:': ' Paperback'}",
         "2002-04-28 00:00:00"
        ],
        [
         "18",
         "5",
         "14",
         "False",
         "08 3, 2001",
         "APTEPFKL03QA0",
         "0486277577",
         "Christian A. Fisanick",
         "If you've mastered Hugard and Braue's stuff, if you can do 60 classic passes per minute, if you have all the time in the world to devote to card sleight of hand, then this is the book for you!  Seriously, this is a truly excellent book.  Buckley's sleights, though not for the faint of heart, are superb.  (He must've been one heckuva cardician!) This is a serious, serious card magic book.  But if you are serious yourself, you'll get it.  Of course, you'll overlook the antiquated prose and Buckley's tremendous ego throughout.  (When you read this material you'll forgive Buckley's self-congratulatory tone.) This is a splendid work for those who want to be the best...",
         "Very advanced, but as good as it gets",
         "996796800",
         null,
         "{'Format:': ' Paperback'}",
         "2001-08-03 00:00:00"
        ],
        [
         "19",
         "5",
         "21",
         "False",
         "10 15, 2000",
         "A14FXEKB1PXTZG",
         "0486277577",
         "Jose Berlin",
         "I've yet to see a bad review for this book, and there's a reason. This book is terrific. There is however one issue to be addressed. This book is hard!!! Definitely not for beginners, it has some of what I believe are the greatest but hardest card manipulations out there. I definitely recommend it however to the serious card magic enthusiast. There are enough valuable ideas in here to last you a lifetime.",
         "You better know what you're getting into",
         "971568000",
         null,
         "{'Format:': ' Paperback'}",
         "2000-10-15 00:00:00"
        ],
        [
         "20",
         "1",
         "2",
         "False",
         "09 21, 2007",
         "A1X9QQFMPGDW70",
         "0486402029",
         "Justabuyer",
         "I don't know how well they work, if they're a miracle, they're too expensive for the quantity.  When I opened it, I thought they'd forgotten to send the tatoos.\n10 for 3.50 makes this the ultimate \"skimpy product\".",
         "Don't bother",
         "1190332800",
         null,
         "{'Format:': ' Paperback'}",
         "2007-09-21 00:00:00"
        ],
        [
         "21",
         "1",
         "2",
         "False",
         "01 16, 2007",
         "A1NTAPB1XPB6KK",
         "0486402029",
         "Mandible",
         "These are cute tatoos for those who love pirates, however, the retail price is $1.50 and Amazon's price is MORE THAN DOUBLE.  I have never paid OVER the retail price for an item at Amazon.  I was shocked.  There are only a handful of tatoos, and for 1.50 I wouldn't mind, but to charge 3.50 for an item that sells anywhere else for 1.50 is criminal.  Find it at a local drugstore and save your $.",
         "The worst value I've ever seen",
         "1168905600",
         null,
         "{'Format:': ' Paperback'}",
         "2007-01-16 00:00:00"
        ],
        [
         "22",
         "2",
         "2",
         "True",
         "01 12, 2007",
         "A34S86H4OJGGVR",
         "0486402029",
         "An Aerospace Engineer",
         "While my 3 year old son liked th tattos you'd think that a few more could be supplied.  I think there were something akin to 8-10 total.  A few more skull and cross bone flags would be nice.\n\nThe tattoos did seem to transfer well but didn't last longer or less than most other temporary tattoos.",
         "Not enough product",
         "1168560000",
         null,
         "{'Format:': ' Paperback'}",
         "2007-01-12 00:00:00"
        ],
        [
         "23",
         "4",
         "4",
         "False",
         "01 10, 2007",
         "A2SGKF4BT5NWYO",
         "0486402029",
         "Mauricio De Maria Campos",
         "There are only few tatoos so in one week they are gone, it could be better if there were more so they can share with brothers or friends. the alternative is to buy like 4 or 5 of these so the kid doesn't get upset when they are gone to quick. Also with one bath they are gone, so they don't last enough like other tatoos (2 TO 5 DAYS).",
         "Good product but...",
         "1168387200",
         null,
         "{'Format:': ' Paperback'}",
         "2007-01-10 00:00:00"
        ],
        [
         "24",
         "5",
         "2",
         "True",
         "11 3, 2006",
         "AVPT4Q2E2PK9O",
         "0486402029",
         "Derrick",
         "I'd buy again as a gift for a young kid obsessed with pirates.  However, I never actually had any hands-on time with the tattoos.  The tattoos reminded me of my favorite Cracker Jack prize.",
         "Temporary Tattoos were good gift.",
         "1162512000",
         null,
         "{'Format:': ' Paperback'}",
         "2006-11-03 00:00:00"
        ],
        [
         "25",
         "5",
         "7",
         "False",
         "09 20, 2005",
         "A17AF3GZQEKMYC",
         "0486402029",
         "J. Mag",
         "My young son was thrilled to have tattoos just like a real pirate.  These are easy to use and remove.  I great find!",
         "Huge Hit",
         "1127174400",
         null,
         "{'Format:': ' Paperback'}",
         "2005-09-20 00:00:00"
        ],
        [
         "26",
         "5",
         null,
         "True",
         "01 13, 2015",
         "A2GH1A5JGI8PUN",
         "0486427706",
         "Tara",
         "Gorgeous, I love the book and the pictures are beautiful!",
         "Gorgeous pictures!",
         "1421107200",
         null,
         "{'Format:': ' Paperback'}",
         "2015-01-13 00:00:00"
        ],
        [
         "27",
         "5",
         null,
         "True",
         "08 21, 2014",
         "AOJTIHPYWGGHQ",
         "0486427706",
         "Kindalyn Phelps",
         "Beautiful art work",
         "Five Stars",
         "1408579200",
         null,
         "{'Format:': ' Paperback'}",
         "2014-08-21 00:00:00"
        ],
        [
         "28",
         "5",
         "2",
         "True",
         "08 14, 2014",
         "A38U7ERUZCBOJ5",
         "0486427706",
         "Joanne Philip Battiston",
         "These are intricate designs for older children and adults. This book is full of beautiful designs just waiting to be awakened by your choice of colors. Great for creativity.",
         "Wonderful designs.",
         "1407974400",
         null,
         "{'Format:': ' Paperback'}",
         "2014-08-14 00:00:00"
        ],
        [
         "29",
         "5",
         "4",
         "True",
         "08 7, 2014",
         "A12VWMI909LC3Y",
         "0486427706",
         "sharon wheeler",
         "This coloring book was so much fun to color.  I love the fact that you can color both sides & blend the colors!!!!  I would recommend this book for anyone that loves Wizards & Dragons & loves to color with fantastic results!!!!!!!!!!\nSharon",
         "WOW, GREAT COLORING BOOK!!!!!!",
         "1407369600",
         null,
         "{'Format:': ' Paperback'}",
         "2014-08-07 00:00:00"
        ],
        [
         "30",
         "5",
         "3",
         "True",
         "10 6, 2013",
         "A2LSCFZM2FBZK7",
         "0486427706",
         "Ginger",
         "The stained glass pages are pretty cool. And it is nice how the black outlines are super dark and thick. And that the dragons aren't all fighting with the wizards.",
         "Nice book",
         "1381017600",
         null,
         "{'Format:': ' Paperback'}",
         "2013-10-06 00:00:00"
        ],
        [
         "31",
         "5",
         "9",
         "True",
         "08 9, 2013",
         "A3IXP5VS847GE5",
         "0486427706",
         "Dragonflies &amp; Autumn Leaves",
         "My 11 y.o. loved this...and so do I (you know I really bought this because I wanted to see the pictures myself...I'm just lucky enough to have someone I could justify buying it as a present for.)\nDragons and Wizards...says it all!  With the wonderful see-through vellum like pages, that make it \"stained glass.\"  Color it with marker, or anything else really (colored pencil, watercolors maybe), and the light shining through the page makes it look luminous and gorgeous!\n\nEven the perfectionist that gets intimidated with art and drawing tends to find these stained glass books easy to get results they are happy with, so it tends to be an enjoyable and confidence building experience. :)",
         "Great pictures",
         "1376006400",
         null,
         "{'Format:': ' Paperback'}",
         "2013-08-09 00:00:00"
        ],
        [
         "32",
         "5",
         null,
         "False",
         "12 25, 2012",
         "A22WPJ8XFBR00Z",
         "0486427706",
         "Douglas B. McFarling",
         "Awesome! My 8 year old's favorite Xmas gift! It's 9:15 am xmas morning and he's already colored three of these!!",
         "Perfect!",
         "1356393600",
         null,
         "{'Format:': ' Paperback'}",
         "2012-12-25 00:00:00"
        ],
        [
         "33",
         "5",
         "5",
         "True",
         "08 18, 2010",
         "AYLMHOQOT0S4N",
         "0486427706",
         "C. Murphy",
         "This book has wonderful pictures in it, from dragons to wizards. It is much more than just a coloring book. Very pleased and do recommend it for all ages.",
         "Well done....",
         "1282089600",
         null,
         "{'Format:': ' Paperback'}",
         "2010-08-18 00:00:00"
        ],
        [
         "34",
         "5",
         "10",
         "False",
         "09 16, 2008",
         "AJ8YOQ9V6WTQM",
         "0486427706",
         "Kimberely J. Hardy",
         "I loved this book. the pictures are suitable to hang in windows or glass doors and the pictures really reflect the light. I recomend this for all ages who love art.",
         "My relaxation",
         "1221523200",
         null,
         "{'Format:': ' Paperback'}",
         "2008-09-16 00:00:00"
        ],
        [
         "35",
         "5",
         "5",
         "True",
         "02 6, 2007",
         "A1GGAQIGLJ9PJ0",
         "0486427706",
         "A. Freeman",
         "I bought this for my son who loves to draw.  The pictures are simply beautiful and it is a unique way to produce a coloring book.",
         "Beautiful coloring book",
         "1170720000",
         null,
         "{'Format:': ' Paperback'}",
         "2007-02-06 00:00:00"
        ],
        [
         "36",
         "5",
         null,
         "True",
         "04 5, 2016",
         "A1274GG1EB2JLJ",
         "0486427706",
         "barbara ann",
         "The pictures are great , I've done one and gave it to a friend of mine who likes dragons.",
         "The pictures are great, I've done one and gave it to a ...",
         "1459814400",
         null,
         "{'Format:': ' Paperback'}",
         "2016-04-05 00:00:00"
        ],
        [
         "37",
         "5",
         null,
         "True",
         "03 20, 2016",
         "AY0ZTKGL6YRVP",
         "0486427706",
         "Samantha A.",
         "Great buy! Can't wait to work on this book. The dragon images are lovely.  Once I'm done coloring, I will frame and hang in a window to let the sun shines through.",
         "Great buy! Can't wait to work on this book",
         "1458432000",
         null,
         "{'Format:': ' Paperback'}",
         "2016-03-20 00:00:00"
        ],
        [
         "38",
         "5",
         "3",
         "True",
         "03 4, 2016",
         "A2UJW1N1C1EWZ1",
         "0486427706",
         "Cassiopeia",
         "Holy cow! Ok, so we use Sharpies to color, and this book is AMAZING! We color one side, and the colors transform on the other side. It's so cool, even my husband colors! The designs are great (and I'm a snob) and the price is VERY good for such a cool product.",
         "Stained Glass Perfection!",
         "1457049600",
         null,
         "{'Format:': ' Paperback'}",
         "2016-03-04 00:00:00"
        ],
        [
         "39",
         "4",
         null,
         "True",
         "02 18, 2016",
         "A3BUUV7JLOVSF9",
         "0486427706",
         "SF",
         "I gave this as a Christmas present and it seems it went over quite well.",
         "Four Stars",
         "1455753600",
         null,
         "{'Format:': ' Paperback'}",
         "2016-02-18 00:00:00"
        ],
        [
         "40",
         "5",
         "3",
         "True",
         "02 13, 2016",
         "A30X5EGBYAZQQK",
         "0486427706",
         "Samantha",
         "I absolutely love this book! Its translucent paper make it super fun to use. I have been using Paint Brush Markers and Sakura Gel Pens on it with excellent quality. The only thing that I would recommend is a blank white sheet of paper to make the lines easier to see.",
         "So beautiful!",
         "1455321600",
         null,
         "{'Format:': ' Paperback'}",
         "2016-02-13 00:00:00"
        ],
        [
         "41",
         "5",
         null,
         "True",
         "02 2, 2016",
         "A3N2A0YZYWZJ55",
         "0486427706",
         "Phil Pickett",
         "Wow, great images on vellum, got this for my husband. He used a combination of colored pencil and marker for pictures, they are beautiful.",
         "Great pictures",
         "1454371200",
         null,
         "{'Format:': ' Paperback'}",
         "2016-02-02 00:00:00"
        ],
        [
         "42",
         "5",
         null,
         "True",
         "01 4, 2016",
         "A1FI4XG4R6BCB4",
         "0486427706",
         "MRMoore",
         "Very nice book. Just wished there was more pages. Can't wait too start using it.",
         "Very Nice!",
         "1451865600",
         null,
         "{'Format:': ' Paperback'}",
         "2016-01-04 00:00:00"
        ],
        [
         "43",
         "5",
         null,
         "True",
         "12 10, 2015",
         "A3U6UNXLAUY6ZV",
         "0486427706",
         "CP in Texas",
         "I love it!",
         "Five Stars",
         "1449705600",
         null,
         "{'Format:': ' Paperback'}",
         "2015-12-10 00:00:00"
        ],
        [
         "44",
         "5",
         null,
         "True",
         "11 9, 2015",
         "A11Z603ZIPLVWN",
         "0486427706",
         "Amazon Customer",
         "Absolutely great pictures even before coloring!",
         "Five Stars",
         "1447027200",
         null,
         "{'Format:': ' Paperback'}",
         "2015-11-09 00:00:00"
        ],
        [
         "45",
         "5",
         null,
         "True",
         "11 7, 2015",
         "AO4V4WNNOIO1",
         "0486427706",
         "Menolly",
         "Great purchase and got it in good time.",
         "Five Stars",
         "1446854400",
         null,
         "{'Format:': ' Paperback'}",
         "2015-11-07 00:00:00"
        ],
        [
         "46",
         "5",
         null,
         "True",
         "10 26, 2015",
         "A1SAJF5SNM6WJS",
         "0486427706",
         "LOIS LABIER",
         "MY HUSBAND LOVED IT. HE IS IN TO DRAGONS.",
         "Five Stars",
         "1445817600",
         null,
         "{'Format:': ' Paperback'}",
         "2015-10-26 00:00:00"
        ],
        [
         "47",
         "5",
         null,
         "True",
         "10 17, 2015",
         "A6K7LYRKJDBSC",
         "0486427706",
         "swiftysue",
         "The dragons are really interesting and fun to color.",
         "Five Stars",
         "1445040000",
         null,
         "{'Format:': ' Paperback'}",
         "2015-10-17 00:00:00"
        ],
        [
         "48",
         "5",
         null,
         "True",
         "10 12, 2015",
         "A2HK5AVQW6AUQ5",
         "0486427706",
         "scootergirl1952",
         "love it",
         "Five Stars",
         "1444608000",
         null,
         "{'Format:': ' Paperback'}",
         "2015-10-12 00:00:00"
        ],
        [
         "49",
         "4",
         null,
         "True",
         "09 15, 2015",
         "AHJWO3SI0S0OR",
         "0486427706",
         "Saundra Hatley",
         "cool",
         "Four Stars",
         "1442275200",
         null,
         "{'Format:': ' Paperback'}",
         "2015-09-15 00:00:00"
        ]
       ],
       "shape": {
        "columns": 13,
        "rows": 8201231
       }
      },
      "text/html": [
       "<div>\n",
       "<style scoped>\n",
       "    .dataframe tbody tr th:only-of-type {\n",
       "        vertical-align: middle;\n",
       "    }\n",
       "\n",
       "    .dataframe tbody tr th {\n",
       "        vertical-align: top;\n",
       "    }\n",
       "\n",
       "    .dataframe thead th {\n",
       "        text-align: right;\n",
       "    }\n",
       "</style>\n",
       "<table border=\"1\" class=\"dataframe\">\n",
       "  <thead>\n",
       "    <tr style=\"text-align: right;\">\n",
       "      <th></th>\n",
       "      <th>overall</th>\n",
       "      <th>vote</th>\n",
       "      <th>verified</th>\n",
       "      <th>reviewTime</th>\n",
       "      <th>reviewerID</th>\n",
       "      <th>asin</th>\n",
       "      <th>reviewerName</th>\n",
       "      <th>reviewText</th>\n",
       "      <th>summary</th>\n",
       "      <th>unixReviewTime</th>\n",
       "      <th>image</th>\n",
       "      <th>style</th>\n",
       "      <th>date</th>\n",
       "    </tr>\n",
       "  </thead>\n",
       "  <tbody>\n",
       "    <tr>\n",
       "      <th>0</th>\n",
       "      <td>2</td>\n",
       "      <td>12</td>\n",
       "      <td>False</td>\n",
       "      <td>09 22, 2016</td>\n",
       "      <td>A1IDMI31WEANAF</td>\n",
       "      <td>0020232233</td>\n",
       "      <td>Mackenzie Kent</td>\n",
       "      <td>When it comes to a DM's screen, the space on t...</td>\n",
       "      <td>The fact that 50% of this space is wasted on a...</td>\n",
       "      <td>1474502400</td>\n",
       "      <td>NaN</td>\n",
       "      <td>NaN</td>\n",
       "      <td>2016-09-22</td>\n",
       "    </tr>\n",
       "    <tr>\n",
       "      <th>1</th>\n",
       "      <td>1</td>\n",
       "      <td>21</td>\n",
       "      <td>False</td>\n",
       "      <td>09 18, 2016</td>\n",
       "      <td>A4BCEVVZ4Y3V3</td>\n",
       "      <td>0020232233</td>\n",
       "      <td>Jonathan Christian</td>\n",
       "      <td>An Open Letter to GaleForce9*:\\n\\nYour unpaint...</td>\n",
       "      <td>Another worthless Dungeon Master's screen from...</td>\n",
       "      <td>1474156800</td>\n",
       "      <td>NaN</td>\n",
       "      <td>NaN</td>\n",
       "      <td>2016-09-18</td>\n",
       "    </tr>\n",
       "    <tr>\n",
       "      <th>2</th>\n",
       "      <td>3</td>\n",
       "      <td>19</td>\n",
       "      <td>True</td>\n",
       "      <td>09 12, 2016</td>\n",
       "      <td>A2EZ9PY1IHHBX0</td>\n",
       "      <td>0020232233</td>\n",
       "      <td>unpreparedtodie</td>\n",
       "      <td>Nice art, nice printing.  Why two panels are f...</td>\n",
       "      <td>pretty, but also pretty useless</td>\n",
       "      <td>1473638400</td>\n",
       "      <td>NaN</td>\n",
       "      <td>NaN</td>\n",
       "      <td>2016-09-12</td>\n",
       "    </tr>\n",
       "    <tr>\n",
       "      <th>3</th>\n",
       "      <td>5</td>\n",
       "      <td>NaN</td>\n",
       "      <td>True</td>\n",
       "      <td>03 2, 2017</td>\n",
       "      <td>A139PXTTC2LGHZ</td>\n",
       "      <td>0020232233</td>\n",
       "      <td>Ashley</td>\n",
       "      <td>Amazing buy! Bought it as a gift for our new d...</td>\n",
       "      <td>Five Stars</td>\n",
       "      <td>1488412800</td>\n",
       "      <td>NaN</td>\n",
       "      <td>NaN</td>\n",
       "      <td>2017-03-02</td>\n",
       "    </tr>\n",
       "    <tr>\n",
       "      <th>4</th>\n",
       "      <td>1</td>\n",
       "      <td>3</td>\n",
       "      <td>True</td>\n",
       "      <td>02 8, 2017</td>\n",
       "      <td>A3IB33V29XIL8O</td>\n",
       "      <td>0020232233</td>\n",
       "      <td>Oghma_EM</td>\n",
       "      <td>As my review of GF9's previous screens these w...</td>\n",
       "      <td>Money trap</td>\n",
       "      <td>1486512000</td>\n",
       "      <td>NaN</td>\n",
       "      <td>NaN</td>\n",
       "      <td>2017-02-08</td>\n",
       "    </tr>\n",
       "    <tr>\n",
       "      <th>...</th>\n",
       "      <td>...</td>\n",
       "      <td>...</td>\n",
       "      <td>...</td>\n",
       "      <td>...</td>\n",
       "      <td>...</td>\n",
       "      <td>...</td>\n",
       "      <td>...</td>\n",
       "      <td>...</td>\n",
       "      <td>...</td>\n",
       "      <td>...</td>\n",
       "      <td>...</td>\n",
       "      <td>...</td>\n",
       "      <td>...</td>\n",
       "    </tr>\n",
       "    <tr>\n",
       "      <th>8201226</th>\n",
       "      <td>5</td>\n",
       "      <td>NaN</td>\n",
       "      <td>False</td>\n",
       "      <td>12 7, 2017</td>\n",
       "      <td>A3OCDEVI6FGUWU</td>\n",
       "      <td>B01HJBAKIO</td>\n",
       "      <td>wilson</td>\n",
       "      <td>My son is happy!!!</td>\n",
       "      <td>Five Stars</td>\n",
       "      <td>1512604800</td>\n",
       "      <td>NaN</td>\n",
       "      <td>NaN</td>\n",
       "      <td>2017-12-07</td>\n",
       "    </tr>\n",
       "    <tr>\n",
       "      <th>8201227</th>\n",
       "      <td>5</td>\n",
       "      <td>2</td>\n",
       "      <td>True</td>\n",
       "      <td>01 23, 2016</td>\n",
       "      <td>A1KTVUVADLKWZO</td>\n",
       "      <td>B01HJHA7GI</td>\n",
       "      <td>Raven the Maven</td>\n",
       "      <td>E My ten month old has had this for a few mont...</td>\n",
       "      <td>Fun for ten month old</td>\n",
       "      <td>1453507200</td>\n",
       "      <td>[https://images-na.ssl-images-amazon.com/image...</td>\n",
       "      <td>NaN</td>\n",
       "      <td>2016-01-23</td>\n",
       "    </tr>\n",
       "    <tr>\n",
       "      <th>8201228</th>\n",
       "      <td>5</td>\n",
       "      <td>NaN</td>\n",
       "      <td>True</td>\n",
       "      <td>02 8, 2015</td>\n",
       "      <td>A2QCA9OE62IPZ4</td>\n",
       "      <td>B01HJHA7GI</td>\n",
       "      <td>crhug</td>\n",
       "      <td>perfect toy to keep baby amused</td>\n",
       "      <td>Five Stars</td>\n",
       "      <td>1423353600</td>\n",
       "      <td>NaN</td>\n",
       "      <td>NaN</td>\n",
       "      <td>2015-02-08</td>\n",
       "    </tr>\n",
       "    <tr>\n",
       "      <th>8201229</th>\n",
       "      <td>5</td>\n",
       "      <td>NaN</td>\n",
       "      <td>True</td>\n",
       "      <td>12 31, 2014</td>\n",
       "      <td>A3N28JAZYS4L9O</td>\n",
       "      <td>B01HJHA7GI</td>\n",
       "      <td>Cindy Volk</td>\n",
       "      <td>Perfect</td>\n",
       "      <td>Five Stars</td>\n",
       "      <td>1419984000</td>\n",
       "      <td>NaN</td>\n",
       "      <td>NaN</td>\n",
       "      <td>2014-12-31</td>\n",
       "    </tr>\n",
       "    <tr>\n",
       "      <th>8201230</th>\n",
       "      <td>5</td>\n",
       "      <td>NaN</td>\n",
       "      <td>True</td>\n",
       "      <td>11 11, 2014</td>\n",
       "      <td>A2OGYZRYRSVQZJ</td>\n",
       "      <td>B01HJHA7GI</td>\n",
       "      <td>Ostinato_Parody</td>\n",
       "      <td>I am based in the UK and I bought this item as...</td>\n",
       "      <td>Cracking gift</td>\n",
       "      <td>1415664000</td>\n",
       "      <td>NaN</td>\n",
       "      <td>NaN</td>\n",
       "      <td>2014-11-11</td>\n",
       "    </tr>\n",
       "  </tbody>\n",
       "</table>\n",
       "<p>8201231 rows × 13 columns</p>\n",
       "</div>"
      ],
      "text/plain": [
       "         overall vote  verified   reviewTime      reviewerID        asin  \\\n",
       "0              2   12     False  09 22, 2016  A1IDMI31WEANAF  0020232233   \n",
       "1              1   21     False  09 18, 2016   A4BCEVVZ4Y3V3  0020232233   \n",
       "2              3   19      True  09 12, 2016  A2EZ9PY1IHHBX0  0020232233   \n",
       "3              5  NaN      True   03 2, 2017  A139PXTTC2LGHZ  0020232233   \n",
       "4              1    3      True   02 8, 2017  A3IB33V29XIL8O  0020232233   \n",
       "...          ...  ...       ...          ...             ...         ...   \n",
       "8201226        5  NaN     False   12 7, 2017  A3OCDEVI6FGUWU  B01HJBAKIO   \n",
       "8201227        5    2      True  01 23, 2016  A1KTVUVADLKWZO  B01HJHA7GI   \n",
       "8201228        5  NaN      True   02 8, 2015  A2QCA9OE62IPZ4  B01HJHA7GI   \n",
       "8201229        5  NaN      True  12 31, 2014  A3N28JAZYS4L9O  B01HJHA7GI   \n",
       "8201230        5  NaN      True  11 11, 2014  A2OGYZRYRSVQZJ  B01HJHA7GI   \n",
       "\n",
       "               reviewerName  \\\n",
       "0            Mackenzie Kent   \n",
       "1        Jonathan Christian   \n",
       "2           unpreparedtodie   \n",
       "3                    Ashley   \n",
       "4                  Oghma_EM   \n",
       "...                     ...   \n",
       "8201226              wilson   \n",
       "8201227     Raven the Maven   \n",
       "8201228               crhug   \n",
       "8201229          Cindy Volk   \n",
       "8201230     Ostinato_Parody   \n",
       "\n",
       "                                                reviewText  \\\n",
       "0        When it comes to a DM's screen, the space on t...   \n",
       "1        An Open Letter to GaleForce9*:\\n\\nYour unpaint...   \n",
       "2        Nice art, nice printing.  Why two panels are f...   \n",
       "3        Amazing buy! Bought it as a gift for our new d...   \n",
       "4        As my review of GF9's previous screens these w...   \n",
       "...                                                    ...   \n",
       "8201226                                 My son is happy!!!   \n",
       "8201227  E My ten month old has had this for a few mont...   \n",
       "8201228                    perfect toy to keep baby amused   \n",
       "8201229                                            Perfect   \n",
       "8201230  I am based in the UK and I bought this item as...   \n",
       "\n",
       "                                                   summary  unixReviewTime  \\\n",
       "0        The fact that 50% of this space is wasted on a...      1474502400   \n",
       "1        Another worthless Dungeon Master's screen from...      1474156800   \n",
       "2                          pretty, but also pretty useless      1473638400   \n",
       "3                                               Five Stars      1488412800   \n",
       "4                                               Money trap      1486512000   \n",
       "...                                                    ...             ...   \n",
       "8201226                                         Five Stars      1512604800   \n",
       "8201227                              Fun for ten month old      1453507200   \n",
       "8201228                                         Five Stars      1423353600   \n",
       "8201229                                         Five Stars      1419984000   \n",
       "8201230                                      Cracking gift      1415664000   \n",
       "\n",
       "                                                     image style       date  \n",
       "0                                                      NaN   NaN 2016-09-22  \n",
       "1                                                      NaN   NaN 2016-09-18  \n",
       "2                                                      NaN   NaN 2016-09-12  \n",
       "3                                                      NaN   NaN 2017-03-02  \n",
       "4                                                      NaN   NaN 2017-02-08  \n",
       "...                                                    ...   ...        ...  \n",
       "8201226                                                NaN   NaN 2017-12-07  \n",
       "8201227  [https://images-na.ssl-images-amazon.com/image...   NaN 2016-01-23  \n",
       "8201228                                                NaN   NaN 2015-02-08  \n",
       "8201229                                                NaN   NaN 2014-12-31  \n",
       "8201230                                                NaN   NaN 2014-11-11  \n",
       "\n",
       "[8201231 rows x 13 columns]"
      ]
     },
     "execution_count": 9,
     "metadata": {},
     "output_type": "execute_result"
    }
   ],
   "source": [
    "reviews_df_raw"
   ]
  },
  {
   "cell_type": "markdown",
   "id": "a0eb2c7e",
   "metadata": {},
   "source": [
    "EDA on Overall"
   ]
  },
  {
   "cell_type": "code",
   "execution_count": 10,
   "id": "5b7fdcd4",
   "metadata": {},
   "outputs": [
    {
     "data": {
      "image/png": "[encoded data removed]",
      "text/plain": [
       "<Figure size 640x480 with 1 Axes>"
      ]
     },
     "metadata": {},
     "output_type": "display_data"
    }
   ],
   "source": [
    "sns.countplot(x='overall', data=reviews_df_raw)\n",
    "plt.title('Histogram of Ratings')\n",
    "plt.xlabel('Rating')\n",
    "plt.ylabel('Count')\n",
    "plt.show()"
   ]
  },
  {
   "cell_type": "code",
   "execution_count": 11,
   "id": "763a31b2",
   "metadata": {},
   "outputs": [
    {
     "data": {
      "application/vnd.microsoft.datawrangler.viewer.v0+json": {
       "columns": [
        {
         "name": "index",
         "rawType": "int64",
         "type": "integer"
        },
        {
         "name": "('asin', '')",
         "rawType": "object",
         "type": "string"
        },
        {
         "name": "('overall', 'mean')",
         "rawType": "float64",
         "type": "float"
        },
        {
         "name": "('overall', 'std')",
         "rawType": "float64",
         "type": "float"
        },
        {
         "name": "('overall', 'min')",
         "rawType": "int64",
         "type": "integer"
        },
        {
         "name": "('overall', 'max')",
         "rawType": "int64",
         "type": "integer"
        },
        {
         "name": "('overall', 'median')",
         "rawType": "float64",
         "type": "float"
        },
        {
         "name": "('overall', 'count')",
         "rawType": "int64",
         "type": "integer"
        }
       ],
       "ref": "3d695be5-7177-4141-b84b-dd45f58ed3cf",
       "rows": [
        [
         "0",
         "0000191639",
         "5.0",
         null,
         "5",
         "5",
         "5.0",
         "1"
        ],
        [
         "1",
         "0004950763",
         "5.0",
         null,
         "5",
         "5",
         "5.0",
         "1"
        ],
        [
         "2",
         "0004983289",
         "4.8",
         "0.44721359549995787",
         "4",
         "5",
         "5.0",
         "5"
        ],
        [
         "3",
         "0005069491",
         "4.0",
         null,
         "4",
         "4",
         "4.0",
         "1"
        ],
        [
         "4",
         "0006466222",
         "5.0",
         null,
         "5",
         "5",
         "5.0",
         "1"
        ],
        [
         "5",
         "0020232233",
         "4.130434782608695",
         "1.391674851853202",
         "1",
         "5",
         "5.0",
         "23"
        ],
        [
         "6",
         "0096737581",
         "2.3333333333333335",
         "2.3094010767585034",
         "1",
         "5",
         "1.0",
         "3"
        ],
        [
         "7",
         "014002316X",
         "1.0",
         null,
         "1",
         "1",
         "1.0",
         "1"
        ],
        [
         "8",
         "0152014764",
         "4.923076923076923",
         "0.2773500981126145",
         "4",
         "5",
         "5.0",
         "13"
        ],
        [
         "9",
         "019848710X",
         "5.0",
         null,
         "5",
         "5",
         "5.0",
         "1"
        ],
        [
         "10",
         "0198487126",
         "1.0",
         null,
         "1",
         "1",
         "1.0",
         "1"
        ],
        [
         "11",
         "0298752530",
         "5.0",
         "0.0",
         "5",
         "5",
         "5.0",
         "3"
        ],
        [
         "12",
         "0298752697",
         "5.0",
         null,
         "5",
         "5",
         "5.0",
         "1"
        ],
        [
         "13",
         "0298765705",
         "4.75",
         "0.4629100498862757",
         "4",
         "5",
         "5.0",
         "8"
        ],
        [
         "14",
         "0298770016",
         "5.0",
         null,
         "5",
         "5",
         "5.0",
         "1"
        ],
        [
         "15",
         "0298770377",
         "5.0",
         "0.0",
         "5",
         "5",
         "5.0",
         "2"
        ],
        [
         "16",
         "0298770415",
         "5.0",
         null,
         "5",
         "5",
         "5.0",
         "1"
        ],
        [
         "17",
         "0298770504",
         "5.0",
         "0.0",
         "5",
         "5",
         "5.0",
         "2"
        ],
        [
         "18",
         "0298771357",
         "5.0",
         null,
         "5",
         "5",
         "5.0",
         "1"
        ],
        [
         "19",
         "0298771861",
         "5.0",
         "0.0",
         "5",
         "5",
         "5.0",
         "3"
        ],
        [
         "20",
         "0298772221",
         "5.0",
         "0.0",
         "5",
         "5",
         "5.0",
         "2"
        ],
        [
         "21",
         "038536539X",
         "3.6153846153846154",
         "1.5021352323976214",
         "1",
         "5",
         "4.0",
         "13"
        ],
        [
         "22",
         "0399232133",
         "5.0",
         null,
         "5",
         "5",
         "5.0",
         "1"
        ],
        [
         "23",
         "0425066169",
         "4.666666666666667",
         "0.816496580927726",
         "3",
         "5",
         "5.0",
         "6"
        ],
        [
         "24",
         "0439838649",
         "4.714285714285714",
         "0.7559289460184545",
         "3",
         "5",
         "5.0",
         "7"
        ],
        [
         "25",
         "0439927277",
         "4.75",
         "0.4999999999999999",
         "4",
         "5",
         "5.0",
         "4"
        ],
        [
         "26",
         "0448447088",
         "5.0",
         null,
         "5",
         "5",
         "5.0",
         "1"
        ],
        [
         "27",
         "0486277577",
         "4.357142857142857",
         "1.1507283885330302",
         "1",
         "5",
         "5.0",
         "14"
        ],
        [
         "28",
         "0486284115",
         "3.9",
         "1.3703203194062976",
         "1",
         "5",
         "4.0",
         "10"
        ],
        [
         "29",
         "0486402029",
         "3.6875",
         "1.6214705259938171",
         "1",
         "5",
         "4.5",
         "16"
        ],
        [
         "30",
         "0486427706",
         "4.8",
         "0.5638694156883471",
         "3",
         "5",
         "5.0",
         "40"
        ],
        [
         "31",
         "0486448789",
         "3.8556701030927836",
         "1.4360658840623217",
         "1",
         "5",
         "4.0",
         "97"
        ],
        [
         "32",
         "0545020832",
         "1.0",
         null,
         "1",
         "1",
         "1.0",
         "1"
        ],
        [
         "33",
         "0545325234",
         "2.533333333333333",
         "1.245945806357946",
         "1",
         "5",
         "3.0",
         "15"
        ],
        [
         "34",
         "0545346193",
         "4.3",
         "0.952311163288627",
         "2",
         "5",
         "5.0",
         "30"
        ],
        [
         "35",
         "0545449448",
         "4.0",
         "2.0",
         "1",
         "5",
         "5.0",
         "4"
        ],
        [
         "36",
         "0545561647",
         "3.9507389162561575",
         "1.3078350888459296",
         "1",
         "5",
         "4.0",
         "203"
        ],
        [
         "37",
         "0545647770",
         "3.4444444444444446",
         "1.130388330520878",
         "1",
         "5",
         "4.0",
         "9"
        ],
        [
         "38",
         "0545647789",
         "3.3333333333333335",
         "1.5275252316519468",
         "2",
         "5",
         "3.0",
         "3"
        ],
        [
         "39",
         "0545747325",
         "5.0",
         "0.0",
         "5",
         "5",
         "5.0",
         "3"
        ],
        [
         "40",
         "0545858437",
         "4.5",
         "0.7071067811865476",
         "4",
         "5",
         "4.5",
         "2"
        ],
        [
         "41",
         "0545862582",
         "5.0",
         "0.0",
         "5",
         "5",
         "5.0",
         "2"
        ],
        [
         "42",
         "0547775520",
         "1.0",
         null,
         "1",
         "1",
         "1.0",
         "1"
        ],
        [
         "43",
         "0615343287",
         "3.5",
         "1.6431676725154984",
         "1",
         "5",
         "4.0",
         "6"
        ],
        [
         "44",
         "0615638996",
         "4.651515151515151",
         "0.7299069736100595",
         "1",
         "5",
         "5.0",
         "198"
        ],
        [
         "45",
         "064157388X",
         "4.8",
         "0.4472135954999579",
         "4",
         "5",
         "5.0",
         "5"
        ],
        [
         "46",
         "0641742126",
         "2.0",
         "1.4142135623730951",
         "1",
         "3",
         "2.0",
         "2"
        ],
        [
         "47",
         "0641832613",
         "4.8",
         "0.44721359549995787",
         "4",
         "5",
         "5.0",
         "5"
        ],
        [
         "48",
         "0641869665",
         "4.333333333333333",
         "1.0744633752322355",
         "1",
         "5",
         "5.0",
         "42"
        ],
        [
         "49",
         "0681309016",
         "5.0",
         null,
         "5",
         "5",
         "5.0",
         "1"
        ]
       ],
       "shape": {
        "columns": 7,
        "rows": 624792
       }
      },
      "text/html": [
       "<div>\n",
       "<style scoped>\n",
       "    .dataframe tbody tr th:only-of-type {\n",
       "        vertical-align: middle;\n",
       "    }\n",
       "\n",
       "    .dataframe tbody tr th {\n",
       "        vertical-align: top;\n",
       "    }\n",
       "\n",
       "    .dataframe thead tr th {\n",
       "        text-align: left;\n",
       "    }\n",
       "</style>\n",
       "<table border=\"1\" class=\"dataframe\">\n",
       "  <thead>\n",
       "    <tr>\n",
       "      <th></th>\n",
       "      <th>asin</th>\n",
       "      <th colspan=\"6\" halign=\"left\">overall</th>\n",
       "    </tr>\n",
       "    <tr>\n",
       "      <th></th>\n",
       "      <th></th>\n",
       "      <th>mean</th>\n",
       "      <th>std</th>\n",
       "      <th>min</th>\n",
       "      <th>max</th>\n",
       "      <th>median</th>\n",
       "      <th>count</th>\n",
       "    </tr>\n",
       "  </thead>\n",
       "  <tbody>\n",
       "    <tr>\n",
       "      <th>0</th>\n",
       "      <td>0000191639</td>\n",
       "      <td>5.000000</td>\n",
       "      <td>NaN</td>\n",
       "      <td>5</td>\n",
       "      <td>5</td>\n",
       "      <td>5.0</td>\n",
       "      <td>1</td>\n",
       "    </tr>\n",
       "    <tr>\n",
       "      <th>1</th>\n",
       "      <td>0004950763</td>\n",
       "      <td>5.000000</td>\n",
       "      <td>NaN</td>\n",
       "      <td>5</td>\n",
       "      <td>5</td>\n",
       "      <td>5.0</td>\n",
       "      <td>1</td>\n",
       "    </tr>\n",
       "    <tr>\n",
       "      <th>2</th>\n",
       "      <td>0004983289</td>\n",
       "      <td>4.800000</td>\n",
       "      <td>0.447214</td>\n",
       "      <td>4</td>\n",
       "      <td>5</td>\n",
       "      <td>5.0</td>\n",
       "      <td>5</td>\n",
       "    </tr>\n",
       "    <tr>\n",
       "      <th>3</th>\n",
       "      <td>0005069491</td>\n",
       "      <td>4.000000</td>\n",
       "      <td>NaN</td>\n",
       "      <td>4</td>\n",
       "      <td>4</td>\n",
       "      <td>4.0</td>\n",
       "      <td>1</td>\n",
       "    </tr>\n",
       "    <tr>\n",
       "      <th>4</th>\n",
       "      <td>0006466222</td>\n",
       "      <td>5.000000</td>\n",
       "      <td>NaN</td>\n",
       "      <td>5</td>\n",
       "      <td>5</td>\n",
       "      <td>5.0</td>\n",
       "      <td>1</td>\n",
       "    </tr>\n",
       "    <tr>\n",
       "      <th>...</th>\n",
       "      <td>...</td>\n",
       "      <td>...</td>\n",
       "      <td>...</td>\n",
       "      <td>...</td>\n",
       "      <td>...</td>\n",
       "      <td>...</td>\n",
       "      <td>...</td>\n",
       "    </tr>\n",
       "    <tr>\n",
       "      <th>624787</th>\n",
       "      <td>B01HJDFWDK</td>\n",
       "      <td>4.400000</td>\n",
       "      <td>1.069966</td>\n",
       "      <td>1</td>\n",
       "      <td>5</td>\n",
       "      <td>5.0</td>\n",
       "      <td>30</td>\n",
       "    </tr>\n",
       "    <tr>\n",
       "      <th>624788</th>\n",
       "      <td>B01HJDGVFS</td>\n",
       "      <td>4.200000</td>\n",
       "      <td>1.788854</td>\n",
       "      <td>1</td>\n",
       "      <td>5</td>\n",
       "      <td>5.0</td>\n",
       "      <td>5</td>\n",
       "    </tr>\n",
       "    <tr>\n",
       "      <th>624789</th>\n",
       "      <td>B01HJDUNRU</td>\n",
       "      <td>4.222222</td>\n",
       "      <td>1.221501</td>\n",
       "      <td>1</td>\n",
       "      <td>5</td>\n",
       "      <td>5.0</td>\n",
       "      <td>36</td>\n",
       "    </tr>\n",
       "    <tr>\n",
       "      <th>624790</th>\n",
       "      <td>B01HJFAGJI</td>\n",
       "      <td>3.753425</td>\n",
       "      <td>1.441265</td>\n",
       "      <td>1</td>\n",
       "      <td>5</td>\n",
       "      <td>4.0</td>\n",
       "      <td>73</td>\n",
       "    </tr>\n",
       "    <tr>\n",
       "      <th>624791</th>\n",
       "      <td>B01HJHA7GI</td>\n",
       "      <td>5.000000</td>\n",
       "      <td>0.000000</td>\n",
       "      <td>5</td>\n",
       "      <td>5</td>\n",
       "      <td>5.0</td>\n",
       "      <td>4</td>\n",
       "    </tr>\n",
       "  </tbody>\n",
       "</table>\n",
       "<p>624792 rows × 7 columns</p>\n",
       "</div>"
      ],
      "text/plain": [
       "              asin   overall                               \n",
       "                        mean       std min max median count\n",
       "0       0000191639  5.000000       NaN   5   5    5.0     1\n",
       "1       0004950763  5.000000       NaN   5   5    5.0     1\n",
       "2       0004983289  4.800000  0.447214   4   5    5.0     5\n",
       "3       0005069491  4.000000       NaN   4   4    4.0     1\n",
       "4       0006466222  5.000000       NaN   5   5    5.0     1\n",
       "...            ...       ...       ...  ..  ..    ...   ...\n",
       "624787  B01HJDFWDK  4.400000  1.069966   1   5    5.0    30\n",
       "624788  B01HJDGVFS  4.200000  1.788854   1   5    5.0     5\n",
       "624789  B01HJDUNRU  4.222222  1.221501   1   5    5.0    36\n",
       "624790  B01HJFAGJI  3.753425  1.441265   1   5    4.0    73\n",
       "624791  B01HJHA7GI  5.000000  0.000000   5   5    5.0     4\n",
       "\n",
       "[624792 rows x 7 columns]"
      ]
     },
     "execution_count": 11,
     "metadata": {},
     "output_type": "execute_result"
    }
   ],
   "source": [
    "# aggregation of ratings\n",
    "reviews_df_raw.groupby('asin').agg({'overall': ['mean', 'std', 'min', 'max', 'median', 'count']}).reset_index()"
   ]
  },
  {
   "cell_type": "code",
   "execution_count": 12,
   "id": "c4bdbb69",
   "metadata": {},
   "outputs": [
    {
     "data": {
      "application/vnd.microsoft.datawrangler.viewer.v0+json": {
       "columns": [
        {
         "name": "index",
         "rawType": "int64",
         "type": "integer"
        },
        {
         "name": "asin",
         "rawType": "object",
         "type": "string"
        },
        {
         "name": "pct_positive",
         "rawType": "float64",
         "type": "float"
        },
        {
         "name": "pct_negative",
         "rawType": "float64",
         "type": "float"
        }
       ],
       "ref": "6c9e06e2-aa21-4974-b375-f6407c983bb1",
       "rows": [
        [
         "0",
         "0000191639",
         "1.0",
         "0.0"
        ],
        [
         "1",
         "0004950763",
         "1.0",
         "0.0"
        ],
        [
         "2",
         "0004983289",
         "1.0",
         "0.0"
        ],
        [
         "3",
         "0005069491",
         "1.0",
         "0.0"
        ],
        [
         "4",
         "0006466222",
         "1.0",
         "0.0"
        ],
        [
         "5",
         "0020232233",
         "0.7391304347826086",
         "0.17391304347826086"
        ],
        [
         "6",
         "0096737581",
         "0.3333333333333333",
         "0.6666666666666666"
        ],
        [
         "7",
         "014002316X",
         "0.0",
         "1.0"
        ],
        [
         "8",
         "0152014764",
         "1.0",
         "0.0"
        ],
        [
         "9",
         "019848710X",
         "1.0",
         "0.0"
        ],
        [
         "10",
         "0198487126",
         "0.0",
         "1.0"
        ],
        [
         "11",
         "0298752530",
         "1.0",
         "0.0"
        ],
        [
         "12",
         "0298752697",
         "1.0",
         "0.0"
        ],
        [
         "13",
         "0298765705",
         "1.0",
         "0.0"
        ],
        [
         "14",
         "0298770016",
         "1.0",
         "0.0"
        ],
        [
         "15",
         "0298770377",
         "1.0",
         "0.0"
        ],
        [
         "16",
         "0298770415",
         "1.0",
         "0.0"
        ],
        [
         "17",
         "0298770504",
         "1.0",
         "0.0"
        ],
        [
         "18",
         "0298771357",
         "1.0",
         "0.0"
        ],
        [
         "19",
         "0298771861",
         "1.0",
         "0.0"
        ],
        [
         "20",
         "0298772221",
         "1.0",
         "0.0"
        ],
        [
         "21",
         "038536539X",
         "0.5384615384615384",
         "0.3076923076923077"
        ],
        [
         "22",
         "0399232133",
         "1.0",
         "0.0"
        ],
        [
         "23",
         "0425066169",
         "0.8333333333333334",
         "0.0"
        ],
        [
         "24",
         "0439838649",
         "0.8571428571428571",
         "0.0"
        ],
        [
         "25",
         "0439927277",
         "1.0",
         "0.0"
        ],
        [
         "26",
         "0448447088",
         "1.0",
         "0.0"
        ],
        [
         "27",
         "0486277577",
         "0.8571428571428571",
         "0.07142857142857142"
        ],
        [
         "28",
         "0486284115",
         "0.8",
         "0.2"
        ],
        [
         "29",
         "0486402029",
         "0.625",
         "0.25"
        ],
        [
         "30",
         "0486427706",
         "0.925",
         "0.0"
        ],
        [
         "31",
         "0486448789",
         "0.7010309278350515",
         "0.21649484536082475"
        ],
        [
         "32",
         "0545020832",
         "0.0",
         "1.0"
        ],
        [
         "33",
         "0545325234",
         "0.2",
         "0.4666666666666667"
        ],
        [
         "34",
         "0545346193",
         "0.8",
         "0.06666666666666667"
        ],
        [
         "35",
         "0545449448",
         "0.75",
         "0.25"
        ],
        [
         "36",
         "0545561647",
         "0.6995073891625616",
         "0.1625615763546798"
        ],
        [
         "37",
         "0545647770",
         "0.5555555555555556",
         "0.1111111111111111"
        ],
        [
         "38",
         "0545647789",
         "0.3333333333333333",
         "0.3333333333333333"
        ],
        [
         "39",
         "0545747325",
         "1.0",
         "0.0"
        ],
        [
         "40",
         "0545858437",
         "1.0",
         "0.0"
        ],
        [
         "41",
         "0545862582",
         "1.0",
         "0.0"
        ],
        [
         "42",
         "0547775520",
         "0.0",
         "1.0"
        ],
        [
         "43",
         "0615343287",
         "0.6666666666666666",
         "0.3333333333333333"
        ],
        [
         "44",
         "0615638996",
         "0.9343434343434344",
         "0.03535353535353535"
        ],
        [
         "45",
         "064157388X",
         "1.0",
         "0.0"
        ],
        [
         "46",
         "0641742126",
         "0.0",
         "0.5"
        ],
        [
         "47",
         "0641832613",
         "1.0",
         "0.0"
        ],
        [
         "48",
         "0641869665",
         "0.8333333333333334",
         "0.07142857142857142"
        ],
        [
         "49",
         "0681309016",
         "1.0",
         "0.0"
        ]
       ],
       "shape": {
        "columns": 3,
        "rows": 624792
       }
      },
      "text/html": [
       "<div>\n",
       "<style scoped>\n",
       "    .dataframe tbody tr th:only-of-type {\n",
       "        vertical-align: middle;\n",
       "    }\n",
       "\n",
       "    .dataframe tbody tr th {\n",
       "        vertical-align: top;\n",
       "    }\n",
       "\n",
       "    .dataframe thead th {\n",
       "        text-align: right;\n",
       "    }\n",
       "</style>\n",
       "<table border=\"1\" class=\"dataframe\">\n",
       "  <thead>\n",
       "    <tr style=\"text-align: right;\">\n",
       "      <th></th>\n",
       "      <th>asin</th>\n",
       "      <th>pct_positive</th>\n",
       "      <th>pct_negative</th>\n",
       "    </tr>\n",
       "  </thead>\n",
       "  <tbody>\n",
       "    <tr>\n",
       "      <th>0</th>\n",
       "      <td>0000191639</td>\n",
       "      <td>1.000000</td>\n",
       "      <td>0.000000</td>\n",
       "    </tr>\n",
       "    <tr>\n",
       "      <th>1</th>\n",
       "      <td>0004950763</td>\n",
       "      <td>1.000000</td>\n",
       "      <td>0.000000</td>\n",
       "    </tr>\n",
       "    <tr>\n",
       "      <th>2</th>\n",
       "      <td>0004983289</td>\n",
       "      <td>1.000000</td>\n",
       "      <td>0.000000</td>\n",
       "    </tr>\n",
       "    <tr>\n",
       "      <th>3</th>\n",
       "      <td>0005069491</td>\n",
       "      <td>1.000000</td>\n",
       "      <td>0.000000</td>\n",
       "    </tr>\n",
       "    <tr>\n",
       "      <th>4</th>\n",
       "      <td>0006466222</td>\n",
       "      <td>1.000000</td>\n",
       "      <td>0.000000</td>\n",
       "    </tr>\n",
       "    <tr>\n",
       "      <th>...</th>\n",
       "      <td>...</td>\n",
       "      <td>...</td>\n",
       "      <td>...</td>\n",
       "    </tr>\n",
       "    <tr>\n",
       "      <th>624787</th>\n",
       "      <td>B01HJDFWDK</td>\n",
       "      <td>0.866667</td>\n",
       "      <td>0.100000</td>\n",
       "    </tr>\n",
       "    <tr>\n",
       "      <th>624788</th>\n",
       "      <td>B01HJDGVFS</td>\n",
       "      <td>0.800000</td>\n",
       "      <td>0.200000</td>\n",
       "    </tr>\n",
       "    <tr>\n",
       "      <th>624789</th>\n",
       "      <td>B01HJDUNRU</td>\n",
       "      <td>0.694444</td>\n",
       "      <td>0.083333</td>\n",
       "    </tr>\n",
       "    <tr>\n",
       "      <th>624790</th>\n",
       "      <td>B01HJFAGJI</td>\n",
       "      <td>0.616438</td>\n",
       "      <td>0.191781</td>\n",
       "    </tr>\n",
       "    <tr>\n",
       "      <th>624791</th>\n",
       "      <td>B01HJHA7GI</td>\n",
       "      <td>1.000000</td>\n",
       "      <td>0.000000</td>\n",
       "    </tr>\n",
       "  </tbody>\n",
       "</table>\n",
       "<p>624792 rows × 3 columns</p>\n",
       "</div>"
      ],
      "text/plain": [
       "              asin  pct_positive  pct_negative\n",
       "0       0000191639      1.000000      0.000000\n",
       "1       0004950763      1.000000      0.000000\n",
       "2       0004983289      1.000000      0.000000\n",
       "3       0005069491      1.000000      0.000000\n",
       "4       0006466222      1.000000      0.000000\n",
       "...            ...           ...           ...\n",
       "624787  B01HJDFWDK      0.866667      0.100000\n",
       "624788  B01HJDGVFS      0.800000      0.200000\n",
       "624789  B01HJDUNRU      0.694444      0.083333\n",
       "624790  B01HJFAGJI      0.616438      0.191781\n",
       "624791  B01HJHA7GI      1.000000      0.000000\n",
       "\n",
       "[624792 rows x 3 columns]"
      ]
     },
     "execution_count": 12,
     "metadata": {},
     "output_type": "execute_result"
    }
   ],
   "source": [
    "# percent positive reviews -- rating >= 4\n",
    "# percent negative reviews -- rating <= 2\n",
    "\n",
    "reviews_df_raw['is_positive'] = (reviews_df_raw['overall'] >= 4).astype(int)\n",
    "reviews_df_raw['is_negative'] = (reviews_df_raw['overall'] <= 2).astype(int)\n",
    "\n",
    "reviews_df_raw.groupby('asin')[['is_positive', 'is_negative']].mean().reset_index().rename(columns={'is_positive': 'pct_positive', 'is_negative': 'pct_negative'})"
   ]
  },
  {
   "cell_type": "code",
   "execution_count": 13,
   "id": "c8ef88b3",
   "metadata": {},
   "outputs": [
    {
     "data": {
      "application/vnd.microsoft.datawrangler.viewer.v0+json": {
       "columns": [
        {
         "name": "index",
         "rawType": "object",
         "type": "string"
        },
        {
         "name": "overall",
         "rawType": "float64",
         "type": "float"
        }
       ],
       "ref": "e926670c-f48c-4d44-90c1-02d44a4b786a",
       "rows": [
        [
         "count",
         "8201231.0"
        ],
        [
         "mean",
         "4.229313623771846"
        ],
        [
         "std",
         "1.2804961701048305"
        ],
        [
         "min",
         "1.0"
        ],
        [
         "25%",
         "4.0"
        ],
        [
         "50%",
         "5.0"
        ],
        [
         "75%",
         "5.0"
        ],
        [
         "max",
         "5.0"
        ]
       ],
       "shape": {
        "columns": 1,
        "rows": 8
       }
      },
      "text/plain": [
       "count    8.201231e+06\n",
       "mean     4.229314e+00\n",
       "std      1.280496e+00\n",
       "min      1.000000e+00\n",
       "25%      4.000000e+00\n",
       "50%      5.000000e+00\n",
       "75%      5.000000e+00\n",
       "max      5.000000e+00\n",
       "Name: overall, dtype: float64"
      ]
     },
     "execution_count": 13,
     "metadata": {},
     "output_type": "execute_result"
    }
   ],
   "source": [
    "reviews_df_raw['overall'] = reviews_df_raw['overall'].astype(int)\n",
    "reviews_df_raw['overall'].describe()"
   ]
  },
  {
   "cell_type": "markdown",
   "id": "4b4f48a0",
   "metadata": {},
   "source": [
    "EDA Verified Reviews"
   ]
  },
  {
   "cell_type": "code",
   "execution_count": 14,
   "id": "255da853",
   "metadata": {},
   "outputs": [
    {
     "data": {
      "text/plain": [
       "<Axes: xlabel='verified', ylabel='count'>"
      ]
     },
     "execution_count": 14,
     "metadata": {},
     "output_type": "execute_result"
    },
    {
     "data": {
      "image/png": "[encoded data removed]",
      "text/plain": [
       "<Figure size 640x480 with 1 Axes>"
      ]
     },
     "metadata": {},
     "output_type": "display_data"
    }
   ],
   "source": [
    "# majority of reviewers are verified\n",
    "sns.countplot(reviews_df_raw, x='verified')"
   ]
  },
  {
   "cell_type": "code",
   "execution_count": 15,
   "id": "a4781c37",
   "metadata": {},
   "outputs": [
    {
     "data": {
      "application/vnd.microsoft.datawrangler.viewer.v0+json": {
       "columns": [
        {
         "name": "asin",
         "rawType": "object",
         "type": "string"
        },
        {
         "name": "verified",
         "rawType": "float64",
         "type": "float"
        }
       ],
       "ref": "904de2c8-b3ae-421e-bfbe-a75de6794004",
       "rows": [
        [
         "0000191639",
         "1.0"
        ],
        [
         "0004950763",
         "1.0"
        ],
        [
         "0004983289",
         "1.0"
        ],
        [
         "0005069491",
         "1.0"
        ],
        [
         "0006466222",
         "1.0"
        ],
        [
         "0020232233",
         "0.782608695652174"
        ],
        [
         "0096737581",
         "0.6666666666666666"
        ],
        [
         "014002316X",
         "1.0"
        ],
        [
         "0152014764",
         "0.9230769230769231"
        ],
        [
         "019848710X",
         "0.0"
        ],
        [
         "0198487126",
         "1.0"
        ],
        [
         "0298752530",
         "1.0"
        ],
        [
         "0298752697",
         "1.0"
        ],
        [
         "0298765705",
         "0.875"
        ],
        [
         "0298770016",
         "1.0"
        ],
        [
         "0298770377",
         "1.0"
        ],
        [
         "0298770415",
         "1.0"
        ],
        [
         "0298770504",
         "1.0"
        ],
        [
         "0298771357",
         "1.0"
        ],
        [
         "0298771861",
         "0.6666666666666666"
        ],
        [
         "0298772221",
         "1.0"
        ],
        [
         "038536539X",
         "0.9230769230769231"
        ],
        [
         "0399232133",
         "0.0"
        ],
        [
         "0425066169",
         "0.5"
        ],
        [
         "0439838649",
         "1.0"
        ],
        [
         "0439927277",
         "1.0"
        ],
        [
         "0448447088",
         "1.0"
        ],
        [
         "0486277577",
         "0.5"
        ],
        [
         "0486284115",
         "0.8"
        ],
        [
         "0486402029",
         "0.625"
        ],
        [
         "0486427706",
         "0.95"
        ],
        [
         "0486448789",
         "0.9175257731958762"
        ],
        [
         "0545020832",
         "0.0"
        ],
        [
         "0545325234",
         "0.8666666666666667"
        ],
        [
         "0545346193",
         "0.9666666666666667"
        ],
        [
         "0545449448",
         "1.0"
        ],
        [
         "0545561647",
         "0.8817733990147784"
        ],
        [
         "0545647770",
         "1.0"
        ],
        [
         "0545647789",
         "1.0"
        ],
        [
         "0545747325",
         "0.6666666666666666"
        ],
        [
         "0545858437",
         "1.0"
        ],
        [
         "0545862582",
         "1.0"
        ],
        [
         "0547775520",
         "1.0"
        ],
        [
         "0615343287",
         "0.6666666666666666"
        ],
        [
         "0615638996",
         "0.9595959595959596"
        ],
        [
         "064157388X",
         "1.0"
        ],
        [
         "0641742126",
         "0.0"
        ],
        [
         "0641832613",
         "0.8"
        ],
        [
         "0641869665",
         "0.9523809523809523"
        ],
        [
         "0681309016",
         "1.0"
        ]
       ],
       "shape": {
        "columns": 1,
        "rows": 624792
       }
      },
      "text/plain": [
       "asin\n",
       "0000191639    1.000000\n",
       "0004950763    1.000000\n",
       "0004983289    1.000000\n",
       "0005069491    1.000000\n",
       "0006466222    1.000000\n",
       "                ...   \n",
       "B01HJDFWDK    0.966667\n",
       "B01HJDGVFS    1.000000\n",
       "B01HJDUNRU    0.944444\n",
       "B01HJFAGJI    0.876712\n",
       "B01HJHA7GI    1.000000\n",
       "Name: verified, Length: 624792, dtype: float64"
      ]
     },
     "execution_count": 15,
     "metadata": {},
     "output_type": "execute_result"
    }
   ],
   "source": [
    "reviews_df_raw.groupby('asin')['verified'].mean()"
   ]
  },
  {
   "cell_type": "markdown",
   "id": "107f42e2",
   "metadata": {},
   "source": [
    "Time Features EDA"
   ]
  },
  {
   "cell_type": "code",
   "execution_count": 16,
   "id": "aa3685d6",
   "metadata": {},
   "outputs": [],
   "source": [
    "# compute product lifespan\n",
    "reviews_df_raw['min_date'] = reviews_df_raw.groupby('asin')['date'].transform('min') \n",
    "reviews_df_raw['max_date'] = reviews_df_raw.groupby('asin')['date'].transform('max') \n",
    "reviews_df_raw['product_lifespan'] = reviews_df_raw['max_date']-reviews_df_raw['min_date']"
   ]
  },
  {
   "cell_type": "markdown",
   "id": "4e1603fb",
   "metadata": {},
   "source": [
    "product lifespan distribution"
   ]
  },
  {
   "cell_type": "code",
   "execution_count": 17,
   "id": "34808cb2",
   "metadata": {},
   "outputs": [
    {
     "data": {
      "application/vnd.microsoft.datawrangler.viewer.v0+json": {
       "columns": [
        {
         "name": "index",
         "rawType": "object",
         "type": "string"
        },
        {
         "name": "product_lifespan",
         "rawType": "object",
         "type": "unknown"
        }
       ],
       "ref": "229243e5-06ef-4f45-a475-f961257c1294",
       "rows": [
        [
         "count",
         "8201231"
        ],
        [
         "mean",
         "1756 days 14:21:28.258018688"
        ],
        [
         "std",
         "1182 days 11:19:53.444443792"
        ],
        [
         "min",
         "0 days 00:00:00"
        ],
        [
         "25%",
         "944 days 00:00:00"
        ],
        [
         "50%",
         "1452 days 00:00:00"
        ],
        [
         "75%",
         "2341 days 00:00:00"
        ],
        [
         "max",
         "6786 days 00:00:00"
        ]
       ],
       "shape": {
        "columns": 1,
        "rows": 8
       }
      },
      "text/plain": [
       "count                         8201231\n",
       "mean     1756 days 14:21:28.258018688\n",
       "std      1182 days 11:19:53.444443792\n",
       "min                   0 days 00:00:00\n",
       "25%                 944 days 00:00:00\n",
       "50%                1452 days 00:00:00\n",
       "75%                2341 days 00:00:00\n",
       "max                6786 days 00:00:00\n",
       "Name: product_lifespan, dtype: object"
      ]
     },
     "execution_count": 17,
     "metadata": {},
     "output_type": "execute_result"
    }
   ],
   "source": [
    "reviews_df_raw['product_lifespan'].describe()"
   ]
  },
  {
   "cell_type": "markdown",
   "id": "7da62afa",
   "metadata": {},
   "source": [
    "Finding Suspicious Activity"
   ]
  },
  {
   "cell_type": "code",
   "execution_count": 18,
   "id": "77444bb1",
   "metadata": {},
   "outputs": [],
   "source": [
    "all_fives = reviews_df_raw[reviews_df_raw['overall'] == 5].groupby('reviewerID').size().reset_index(name='five_count')\n",
    "all_ones = reviews_df_raw[reviews_df_raw['overall'] == 1].groupby('reviewerID').size().reset_index(name='one_count')\n",
    "all_ratings = reviews_df_raw.groupby('reviewerID').size().reset_index(name='total_ratings')\n",
    "\n"
   ]
  },
  {
   "cell_type": "code",
   "execution_count": 19,
   "id": "b068b069",
   "metadata": {},
   "outputs": [],
   "source": [
    "all_ratings = all_ratings.merge(all_fives, on='reviewerID', how='left')\n",
    "all_ratings = all_ratings.merge(all_ones, on='reviewerID', how='left')"
   ]
  },
  {
   "cell_type": "code",
   "execution_count": 20,
   "id": "ba21d371",
   "metadata": {},
   "outputs": [
    {
     "data": {
      "application/vnd.microsoft.datawrangler.viewer.v0+json": {
       "columns": [
        {
         "name": "index",
         "rawType": "int64",
         "type": "integer"
        },
        {
         "name": "reviewerID",
         "rawType": "object",
         "type": "string"
        },
        {
         "name": "total_ratings",
         "rawType": "int64",
         "type": "integer"
        },
        {
         "name": "five_count",
         "rawType": "int64",
         "type": "integer"
        },
        {
         "name": "one_count",
         "rawType": "int64",
         "type": "integer"
        }
       ],
       "ref": "068c84b9-8414-436a-85ef-c3ceb58e53cd",
       "rows": [
        [
         "0",
         "A0000040I1OM9N4SGBD8",
         "1",
         "1",
         "0"
        ],
        [
         "1",
         "A0000862BTSWL73O3J0Y",
         "1",
         "1",
         "0"
        ],
        [
         "2",
         "A00009928J2TXTYX144F",
         "1",
         "1",
         "0"
        ],
        [
         "3",
         "A0001528BGUBOEVR6T5U",
         "5",
         "5",
         "0"
        ],
        [
         "4",
         "A0001618R2MA7GE14QDZ",
         "2",
         "2",
         "0"
        ],
        [
         "5",
         "A0001624UKLQG4OFIM8X",
         "1",
         "1",
         "0"
        ],
        [
         "6",
         "A0002090WKEMAO8KOWKM",
         "2",
         "2",
         "0"
        ],
        [
         "7",
         "A0004308GGXSGC3XLKV9",
         "1",
         "1",
         "0"
        ],
        [
         "8",
         "A0004452GTRISQ34RQP0",
         "1",
         "1",
         "0"
        ],
        [
         "9",
         "A0007592X8OLJMUNOSUG",
         "1",
         "0",
         "0"
        ],
        [
         "10",
         "A000763836C9U9B95VGN",
         "1",
         "0",
         "1"
        ],
        [
         "11",
         "A0008502JBVXGXR31MIU",
         "1",
         "1",
         "0"
        ],
        [
         "12",
         "A000929885LNJ9R1Q4U7",
         "1",
         "1",
         "0"
        ],
        [
         "13",
         "A0009478CBXKUCALUC7U",
         "2",
         "2",
         "0"
        ],
        [
         "14",
         "A0009988MRFQ3TROTQPI",
         "1",
         "1",
         "0"
        ],
        [
         "15",
         "A0010158IH80M4C0LOJ1",
         "3",
         "2",
         "0"
        ],
        [
         "16",
         "A001170867ZBE9FORRQL",
         "5",
         "5",
         "0"
        ],
        [
         "17",
         "A0011756FPL8K71Q5TAQ",
         "2",
         "2",
         "0"
        ],
        [
         "18",
         "A0013346O7Y8B4DKHKAG",
         "2",
         "2",
         "0"
        ],
        [
         "19",
         "A0013404O63U415NQX6X",
         "1",
         "0",
         "0"
        ],
        [
         "20",
         "A0014482Y26DJ8NH0ABV",
         "1",
         "1",
         "0"
        ],
        [
         "21",
         "A0014958J6WGO905GVK1",
         "1",
         "1",
         "0"
        ],
        [
         "22",
         "A00151369FKV8TB1AYFR",
         "1",
         "0",
         "1"
        ],
        [
         "23",
         "A0015188MMYTOC3V4U11",
         "1",
         "0",
         "0"
        ],
        [
         "24",
         "A001524696SLA34399M4",
         "2",
         "0",
         "2"
        ],
        [
         "25",
         "A0017346PBGPU10T0YXL",
         "1",
         "1",
         "0"
        ],
        [
         "26",
         "A0017882XAS5VJGSZF5R",
         "9",
         "5",
         "0"
        ],
        [
         "27",
         "A00181346BRAW2MAGLKX",
         "1",
         "1",
         "0"
        ],
        [
         "28",
         "A0019516GET49B9DBP7A",
         "1",
         "1",
         "0"
        ],
        [
         "29",
         "A0020356UF96ZV361ST",
         "2",
         "0",
         "0"
        ],
        [
         "30",
         "A0020954134O8CK454FY",
         "2",
         "0",
         "2"
        ],
        [
         "31",
         "A0021786CEBZLI1F89KH",
         "1",
         "1",
         "0"
        ],
        [
         "32",
         "A00222906VX8GH7X6J6B",
         "7",
         "7",
         "0"
        ],
        [
         "33",
         "A0022678B6GE9F3FOSBS",
         "4",
         "3",
         "0"
        ],
        [
         "34",
         "A0022944ZQBCYWAQICVO",
         "2",
         "1",
         "1"
        ],
        [
         "35",
         "A0023324AMPKZW44ZCYF",
         "1",
         "0",
         "1"
        ],
        [
         "36",
         "A00233327H4R7PV7NGK",
         "3",
         "0",
         "1"
        ],
        [
         "37",
         "A0023916TEZ4LM4JUMJT",
         "2",
         "2",
         "0"
        ],
        [
         "38",
         "A0024080VZWWZYUURK0A",
         "1",
         "1",
         "0"
        ],
        [
         "39",
         "A0024320PFCKHZ0HWVFN",
         "1",
         "0",
         "0"
        ],
        [
         "40",
         "A00248829WWQKSE7VM0N",
         "2",
         "2",
         "0"
        ],
        [
         "41",
         "A0027496Q3MU9F9EPDW6",
         "1",
         "0",
         "0"
        ],
        [
         "42",
         "A0028244HRIMADGU787R",
         "1",
         "1",
         "0"
        ],
        [
         "43",
         "A002842479MGIG3JDCCZ",
         "1",
         "1",
         "0"
        ],
        [
         "44",
         "A0028632WMXDE8JGKIZT",
         "1",
         "0",
         "1"
        ],
        [
         "45",
         "A002968225I61V7XTI63",
         "1",
         "0",
         "0"
        ],
        [
         "46",
         "A0029940Q7SM06JC3VJ6",
         "1",
         "1",
         "0"
        ],
        [
         "47",
         "A0030562Y4F3JVHEYSO9",
         "1",
         "1",
         "0"
        ],
        [
         "48",
         "A0030928LQNLXB75HCYJ",
         "1",
         "0",
         "0"
        ],
        [
         "49",
         "A0032680S944E645KZH2",
         "1",
         "0",
         "1"
        ]
       ],
       "shape": {
        "columns": 4,
        "rows": 4204994
       }
      },
      "text/html": [
       "<div>\n",
       "<style scoped>\n",
       "    .dataframe tbody tr th:only-of-type {\n",
       "        vertical-align: middle;\n",
       "    }\n",
       "\n",
       "    .dataframe tbody tr th {\n",
       "        vertical-align: top;\n",
       "    }\n",
       "\n",
       "    .dataframe thead th {\n",
       "        text-align: right;\n",
       "    }\n",
       "</style>\n",
       "<table border=\"1\" class=\"dataframe\">\n",
       "  <thead>\n",
       "    <tr style=\"text-align: right;\">\n",
       "      <th></th>\n",
       "      <th>reviewerID</th>\n",
       "      <th>total_ratings</th>\n",
       "      <th>five_count</th>\n",
       "      <th>one_count</th>\n",
       "    </tr>\n",
       "  </thead>\n",
       "  <tbody>\n",
       "    <tr>\n",
       "      <th>0</th>\n",
       "      <td>A0000040I1OM9N4SGBD8</td>\n",
       "      <td>1</td>\n",
       "      <td>1</td>\n",
       "      <td>0</td>\n",
       "    </tr>\n",
       "    <tr>\n",
       "      <th>1</th>\n",
       "      <td>A0000862BTSWL73O3J0Y</td>\n",
       "      <td>1</td>\n",
       "      <td>1</td>\n",
       "      <td>0</td>\n",
       "    </tr>\n",
       "    <tr>\n",
       "      <th>2</th>\n",
       "      <td>A00009928J2TXTYX144F</td>\n",
       "      <td>1</td>\n",
       "      <td>1</td>\n",
       "      <td>0</td>\n",
       "    </tr>\n",
       "    <tr>\n",
       "      <th>3</th>\n",
       "      <td>A0001528BGUBOEVR6T5U</td>\n",
       "      <td>5</td>\n",
       "      <td>5</td>\n",
       "      <td>0</td>\n",
       "    </tr>\n",
       "    <tr>\n",
       "      <th>4</th>\n",
       "      <td>A0001618R2MA7GE14QDZ</td>\n",
       "      <td>2</td>\n",
       "      <td>2</td>\n",
       "      <td>0</td>\n",
       "    </tr>\n",
       "    <tr>\n",
       "      <th>...</th>\n",
       "      <td>...</td>\n",
       "      <td>...</td>\n",
       "      <td>...</td>\n",
       "      <td>...</td>\n",
       "    </tr>\n",
       "    <tr>\n",
       "      <th>4204989</th>\n",
       "      <td>AZZZVQOG9SG7V</td>\n",
       "      <td>1</td>\n",
       "      <td>1</td>\n",
       "      <td>0</td>\n",
       "    </tr>\n",
       "    <tr>\n",
       "      <th>4204990</th>\n",
       "      <td>AZZZWV7EIR8PG</td>\n",
       "      <td>1</td>\n",
       "      <td>0</td>\n",
       "      <td>0</td>\n",
       "    </tr>\n",
       "    <tr>\n",
       "      <th>4204991</th>\n",
       "      <td>AZZZYAYJQSDOJ</td>\n",
       "      <td>7</td>\n",
       "      <td>4</td>\n",
       "      <td>0</td>\n",
       "    </tr>\n",
       "    <tr>\n",
       "      <th>4204992</th>\n",
       "      <td>AZZZZS162JNL0</td>\n",
       "      <td>4</td>\n",
       "      <td>4</td>\n",
       "      <td>0</td>\n",
       "    </tr>\n",
       "    <tr>\n",
       "      <th>4204993</th>\n",
       "      <td>AZZZZS5Z6MEWC</td>\n",
       "      <td>1</td>\n",
       "      <td>1</td>\n",
       "      <td>0</td>\n",
       "    </tr>\n",
       "  </tbody>\n",
       "</table>\n",
       "<p>4204994 rows × 4 columns</p>\n",
       "</div>"
      ],
      "text/plain": [
       "                   reviewerID  total_ratings  five_count  one_count\n",
       "0        A0000040I1OM9N4SGBD8              1           1          0\n",
       "1        A0000862BTSWL73O3J0Y              1           1          0\n",
       "2        A00009928J2TXTYX144F              1           1          0\n",
       "3        A0001528BGUBOEVR6T5U              5           5          0\n",
       "4        A0001618R2MA7GE14QDZ              2           2          0\n",
       "...                       ...            ...         ...        ...\n",
       "4204989         AZZZVQOG9SG7V              1           1          0\n",
       "4204990         AZZZWV7EIR8PG              1           0          0\n",
       "4204991         AZZZYAYJQSDOJ              7           4          0\n",
       "4204992         AZZZZS162JNL0              4           4          0\n",
       "4204993         AZZZZS5Z6MEWC              1           1          0\n",
       "\n",
       "[4204994 rows x 4 columns]"
      ]
     },
     "execution_count": 20,
     "metadata": {},
     "output_type": "execute_result"
    }
   ],
   "source": [
    "all_ratings['five_count'] = all_ratings['five_count'].fillna(0).astype(int)\n",
    "all_ratings['one_count'] = all_ratings['one_count'].fillna(0).astype(int)\n",
    "all_ratings\n"
   ]
  },
  {
   "cell_type": "code",
   "execution_count": 21,
   "id": "54556921",
   "metadata": {},
   "outputs": [
    {
     "data": {
      "application/vnd.microsoft.datawrangler.viewer.v0+json": {
       "columns": [
        {
         "name": "index",
         "rawType": "int64",
         "type": "integer"
        },
        {
         "name": "reviewerID",
         "rawType": "object",
         "type": "string"
        },
        {
         "name": "total_ratings",
         "rawType": "int64",
         "type": "integer"
        },
        {
         "name": "five_count",
         "rawType": "int64",
         "type": "integer"
        },
        {
         "name": "one_count",
         "rawType": "int64",
         "type": "integer"
        },
        {
         "name": "prop_five",
         "rawType": "float64",
         "type": "float"
        },
        {
         "name": "prop_one",
         "rawType": "float64",
         "type": "float"
        }
       ],
       "ref": "c220e5eb-3b1d-43d1-98e2-9b97f2b447c2",
       "rows": [
        [
         "0",
         "A0000040I1OM9N4SGBD8",
         "1",
         "1",
         "0",
         "1.0",
         "0.0"
        ],
        [
         "1",
         "A0000862BTSWL73O3J0Y",
         "1",
         "1",
         "0",
         "1.0",
         "0.0"
        ],
        [
         "2",
         "A00009928J2TXTYX144F",
         "1",
         "1",
         "0",
         "1.0",
         "0.0"
        ],
        [
         "3",
         "A0001528BGUBOEVR6T5U",
         "5",
         "5",
         "0",
         "1.0",
         "0.0"
        ],
        [
         "4",
         "A0001618R2MA7GE14QDZ",
         "2",
         "2",
         "0",
         "1.0",
         "0.0"
        ],
        [
         "5",
         "A0001624UKLQG4OFIM8X",
         "1",
         "1",
         "0",
         "1.0",
         "0.0"
        ],
        [
         "6",
         "A0002090WKEMAO8KOWKM",
         "2",
         "2",
         "0",
         "1.0",
         "0.0"
        ],
        [
         "7",
         "A0004308GGXSGC3XLKV9",
         "1",
         "1",
         "0",
         "1.0",
         "0.0"
        ],
        [
         "8",
         "A0004452GTRISQ34RQP0",
         "1",
         "1",
         "0",
         "1.0",
         "0.0"
        ],
        [
         "9",
         "A0007592X8OLJMUNOSUG",
         "1",
         "0",
         "0",
         "0.0",
         "0.0"
        ],
        [
         "10",
         "A000763836C9U9B95VGN",
         "1",
         "0",
         "1",
         "0.0",
         "1.0"
        ],
        [
         "11",
         "A0008502JBVXGXR31MIU",
         "1",
         "1",
         "0",
         "1.0",
         "0.0"
        ],
        [
         "12",
         "A000929885LNJ9R1Q4U7",
         "1",
         "1",
         "0",
         "1.0",
         "0.0"
        ],
        [
         "13",
         "A0009478CBXKUCALUC7U",
         "2",
         "2",
         "0",
         "1.0",
         "0.0"
        ],
        [
         "14",
         "A0009988MRFQ3TROTQPI",
         "1",
         "1",
         "0",
         "1.0",
         "0.0"
        ],
        [
         "15",
         "A0010158IH80M4C0LOJ1",
         "3",
         "2",
         "0",
         "0.6666666666666666",
         "0.0"
        ],
        [
         "16",
         "A001170867ZBE9FORRQL",
         "5",
         "5",
         "0",
         "1.0",
         "0.0"
        ],
        [
         "17",
         "A0011756FPL8K71Q5TAQ",
         "2",
         "2",
         "0",
         "1.0",
         "0.0"
        ],
        [
         "18",
         "A0013346O7Y8B4DKHKAG",
         "2",
         "2",
         "0",
         "1.0",
         "0.0"
        ],
        [
         "19",
         "A0013404O63U415NQX6X",
         "1",
         "0",
         "0",
         "0.0",
         "0.0"
        ],
        [
         "20",
         "A0014482Y26DJ8NH0ABV",
         "1",
         "1",
         "0",
         "1.0",
         "0.0"
        ],
        [
         "21",
         "A0014958J6WGO905GVK1",
         "1",
         "1",
         "0",
         "1.0",
         "0.0"
        ],
        [
         "22",
         "A00151369FKV8TB1AYFR",
         "1",
         "0",
         "1",
         "0.0",
         "1.0"
        ],
        [
         "23",
         "A0015188MMYTOC3V4U11",
         "1",
         "0",
         "0",
         "0.0",
         "0.0"
        ],
        [
         "24",
         "A001524696SLA34399M4",
         "2",
         "0",
         "2",
         "0.0",
         "1.0"
        ],
        [
         "25",
         "A0017346PBGPU10T0YXL",
         "1",
         "1",
         "0",
         "1.0",
         "0.0"
        ],
        [
         "26",
         "A0017882XAS5VJGSZF5R",
         "9",
         "5",
         "0",
         "0.5555555555555556",
         "0.0"
        ],
        [
         "27",
         "A00181346BRAW2MAGLKX",
         "1",
         "1",
         "0",
         "1.0",
         "0.0"
        ],
        [
         "28",
         "A0019516GET49B9DBP7A",
         "1",
         "1",
         "0",
         "1.0",
         "0.0"
        ],
        [
         "29",
         "A0020356UF96ZV361ST",
         "2",
         "0",
         "0",
         "0.0",
         "0.0"
        ],
        [
         "30",
         "A0020954134O8CK454FY",
         "2",
         "0",
         "2",
         "0.0",
         "1.0"
        ],
        [
         "31",
         "A0021786CEBZLI1F89KH",
         "1",
         "1",
         "0",
         "1.0",
         "0.0"
        ],
        [
         "32",
         "A00222906VX8GH7X6J6B",
         "7",
         "7",
         "0",
         "1.0",
         "0.0"
        ],
        [
         "33",
         "A0022678B6GE9F3FOSBS",
         "4",
         "3",
         "0",
         "0.75",
         "0.0"
        ],
        [
         "34",
         "A0022944ZQBCYWAQICVO",
         "2",
         "1",
         "1",
         "0.5",
         "0.5"
        ],
        [
         "35",
         "A0023324AMPKZW44ZCYF",
         "1",
         "0",
         "1",
         "0.0",
         "1.0"
        ],
        [
         "36",
         "A00233327H4R7PV7NGK",
         "3",
         "0",
         "1",
         "0.0",
         "0.3333333333333333"
        ],
        [
         "37",
         "A0023916TEZ4LM4JUMJT",
         "2",
         "2",
         "0",
         "1.0",
         "0.0"
        ],
        [
         "38",
         "A0024080VZWWZYUURK0A",
         "1",
         "1",
         "0",
         "1.0",
         "0.0"
        ],
        [
         "39",
         "A0024320PFCKHZ0HWVFN",
         "1",
         "0",
         "0",
         "0.0",
         "0.0"
        ],
        [
         "40",
         "A00248829WWQKSE7VM0N",
         "2",
         "2",
         "0",
         "1.0",
         "0.0"
        ],
        [
         "41",
         "A0027496Q3MU9F9EPDW6",
         "1",
         "0",
         "0",
         "0.0",
         "0.0"
        ],
        [
         "42",
         "A0028244HRIMADGU787R",
         "1",
         "1",
         "0",
         "1.0",
         "0.0"
        ],
        [
         "43",
         "A002842479MGIG3JDCCZ",
         "1",
         "1",
         "0",
         "1.0",
         "0.0"
        ],
        [
         "44",
         "A0028632WMXDE8JGKIZT",
         "1",
         "0",
         "1",
         "0.0",
         "1.0"
        ],
        [
         "45",
         "A002968225I61V7XTI63",
         "1",
         "0",
         "0",
         "0.0",
         "0.0"
        ],
        [
         "46",
         "A0029940Q7SM06JC3VJ6",
         "1",
         "1",
         "0",
         "1.0",
         "0.0"
        ],
        [
         "47",
         "A0030562Y4F3JVHEYSO9",
         "1",
         "1",
         "0",
         "1.0",
         "0.0"
        ],
        [
         "48",
         "A0030928LQNLXB75HCYJ",
         "1",
         "0",
         "0",
         "0.0",
         "0.0"
        ],
        [
         "49",
         "A0032680S944E645KZH2",
         "1",
         "0",
         "1",
         "0.0",
         "1.0"
        ]
       ],
       "shape": {
        "columns": 6,
        "rows": 4204994
       }
      },
      "text/html": [
       "<div>\n",
       "<style scoped>\n",
       "    .dataframe tbody tr th:only-of-type {\n",
       "        vertical-align: middle;\n",
       "    }\n",
       "\n",
       "    .dataframe tbody tr th {\n",
       "        vertical-align: top;\n",
       "    }\n",
       "\n",
       "    .dataframe thead th {\n",
       "        text-align: right;\n",
       "    }\n",
       "</style>\n",
       "<table border=\"1\" class=\"dataframe\">\n",
       "  <thead>\n",
       "    <tr style=\"text-align: right;\">\n",
       "      <th></th>\n",
       "      <th>reviewerID</th>\n",
       "      <th>total_ratings</th>\n",
       "      <th>five_count</th>\n",
       "      <th>one_count</th>\n",
       "      <th>prop_five</th>\n",
       "      <th>prop_one</th>\n",
       "    </tr>\n",
       "  </thead>\n",
       "  <tbody>\n",
       "    <tr>\n",
       "      <th>0</th>\n",
       "      <td>A0000040I1OM9N4SGBD8</td>\n",
       "      <td>1</td>\n",
       "      <td>1</td>\n",
       "      <td>0</td>\n",
       "      <td>1.000000</td>\n",
       "      <td>0.0</td>\n",
       "    </tr>\n",
       "    <tr>\n",
       "      <th>1</th>\n",
       "      <td>A0000862BTSWL73O3J0Y</td>\n",
       "      <td>1</td>\n",
       "      <td>1</td>\n",
       "      <td>0</td>\n",
       "      <td>1.000000</td>\n",
       "      <td>0.0</td>\n",
       "    </tr>\n",
       "    <tr>\n",
       "      <th>2</th>\n",
       "      <td>A00009928J2TXTYX144F</td>\n",
       "      <td>1</td>\n",
       "      <td>1</td>\n",
       "      <td>0</td>\n",
       "      <td>1.000000</td>\n",
       "      <td>0.0</td>\n",
       "    </tr>\n",
       "    <tr>\n",
       "      <th>3</th>\n",
       "      <td>A0001528BGUBOEVR6T5U</td>\n",
       "      <td>5</td>\n",
       "      <td>5</td>\n",
       "      <td>0</td>\n",
       "      <td>1.000000</td>\n",
       "      <td>0.0</td>\n",
       "    </tr>\n",
       "    <tr>\n",
       "      <th>4</th>\n",
       "      <td>A0001618R2MA7GE14QDZ</td>\n",
       "      <td>2</td>\n",
       "      <td>2</td>\n",
       "      <td>0</td>\n",
       "      <td>1.000000</td>\n",
       "      <td>0.0</td>\n",
       "    </tr>\n",
       "    <tr>\n",
       "      <th>...</th>\n",
       "      <td>...</td>\n",
       "      <td>...</td>\n",
       "      <td>...</td>\n",
       "      <td>...</td>\n",
       "      <td>...</td>\n",
       "      <td>...</td>\n",
       "    </tr>\n",
       "    <tr>\n",
       "      <th>4204989</th>\n",
       "      <td>AZZZVQOG9SG7V</td>\n",
       "      <td>1</td>\n",
       "      <td>1</td>\n",
       "      <td>0</td>\n",
       "      <td>1.000000</td>\n",
       "      <td>0.0</td>\n",
       "    </tr>\n",
       "    <tr>\n",
       "      <th>4204990</th>\n",
       "      <td>AZZZWV7EIR8PG</td>\n",
       "      <td>1</td>\n",
       "      <td>0</td>\n",
       "      <td>0</td>\n",
       "      <td>0.000000</td>\n",
       "      <td>0.0</td>\n",
       "    </tr>\n",
       "    <tr>\n",
       "      <th>4204991</th>\n",
       "      <td>AZZZYAYJQSDOJ</td>\n",
       "      <td>7</td>\n",
       "      <td>4</td>\n",
       "      <td>0</td>\n",
       "      <td>0.571429</td>\n",
       "      <td>0.0</td>\n",
       "    </tr>\n",
       "    <tr>\n",
       "      <th>4204992</th>\n",
       "      <td>AZZZZS162JNL0</td>\n",
       "      <td>4</td>\n",
       "      <td>4</td>\n",
       "      <td>0</td>\n",
       "      <td>1.000000</td>\n",
       "      <td>0.0</td>\n",
       "    </tr>\n",
       "    <tr>\n",
       "      <th>4204993</th>\n",
       "      <td>AZZZZS5Z6MEWC</td>\n",
       "      <td>1</td>\n",
       "      <td>1</td>\n",
       "      <td>0</td>\n",
       "      <td>1.000000</td>\n",
       "      <td>0.0</td>\n",
       "    </tr>\n",
       "  </tbody>\n",
       "</table>\n",
       "<p>4204994 rows × 6 columns</p>\n",
       "</div>"
      ],
      "text/plain": [
       "                   reviewerID  total_ratings  five_count  one_count  \\\n",
       "0        A0000040I1OM9N4SGBD8              1           1          0   \n",
       "1        A0000862BTSWL73O3J0Y              1           1          0   \n",
       "2        A00009928J2TXTYX144F              1           1          0   \n",
       "3        A0001528BGUBOEVR6T5U              5           5          0   \n",
       "4        A0001618R2MA7GE14QDZ              2           2          0   \n",
       "...                       ...            ...         ...        ...   \n",
       "4204989         AZZZVQOG9SG7V              1           1          0   \n",
       "4204990         AZZZWV7EIR8PG              1           0          0   \n",
       "4204991         AZZZYAYJQSDOJ              7           4          0   \n",
       "4204992         AZZZZS162JNL0              4           4          0   \n",
       "4204993         AZZZZS5Z6MEWC              1           1          0   \n",
       "\n",
       "         prop_five  prop_one  \n",
       "0         1.000000       0.0  \n",
       "1         1.000000       0.0  \n",
       "2         1.000000       0.0  \n",
       "3         1.000000       0.0  \n",
       "4         1.000000       0.0  \n",
       "...            ...       ...  \n",
       "4204989   1.000000       0.0  \n",
       "4204990   0.000000       0.0  \n",
       "4204991   0.571429       0.0  \n",
       "4204992   1.000000       0.0  \n",
       "4204993   1.000000       0.0  \n",
       "\n",
       "[4204994 rows x 6 columns]"
      ]
     },
     "execution_count": 21,
     "metadata": {},
     "output_type": "execute_result"
    }
   ],
   "source": [
    "all_ratings['prop_five'] = all_ratings['five_count'] / all_ratings['total_ratings']\n",
    "all_ratings['prop_one'] = all_ratings['one_count'] / all_ratings['total_ratings']\n",
    "all_ratings"
   ]
  },
  {
   "cell_type": "code",
   "execution_count": 22,
   "id": "607f3564",
   "metadata": {},
   "outputs": [
    {
     "data": {
      "application/vnd.microsoft.datawrangler.viewer.v0+json": {
       "columns": [
        {
         "name": "index",
         "rawType": "object",
         "type": "string"
        },
        {
         "name": "total_ratings",
         "rawType": "float64",
         "type": "float"
        },
        {
         "name": "five_count",
         "rawType": "float64",
         "type": "float"
        },
        {
         "name": "one_count",
         "rawType": "float64",
         "type": "float"
        },
        {
         "name": "prop_five",
         "rawType": "float64",
         "type": "float"
        },
        {
         "name": "prop_one",
         "rawType": "float64",
         "type": "float"
        }
       ],
       "ref": "7ff4d2ff-e0da-4da4-b045-3ae4b88a3e84",
       "rows": [
        [
         "count",
         "4204994.0",
         "4204994.0",
         "4204994.0",
         "4204994.0",
         "4204994.0"
        ],
        [
         "mean",
         "1.9503549826706055",
         "1.2784717409822701",
         "0.1681398356335348",
         "0.6226085339206336",
         "0.11664839039024036"
        ],
        [
         "std",
         "3.1786702169074426",
         "2.4739763365433936",
         "0.45328056021866914",
         "0.4509550265445816",
         "0.30520823388093926"
        ],
        [
         "min",
         "1.0",
         "0.0",
         "0.0",
         "0.0",
         "0.0"
        ],
        [
         "25%",
         "1.0",
         "0.0",
         "0.0",
         "0.0",
         "0.0"
        ],
        [
         "50%",
         "1.0",
         "1.0",
         "0.0",
         "1.0",
         "0.0"
        ],
        [
         "75%",
         "2.0",
         "1.0",
         "0.0",
         "1.0",
         "0.0"
        ],
        [
         "max",
         "1217.0",
         "1215.0",
         "96.0",
         "1.0",
         "1.0"
        ]
       ],
       "shape": {
        "columns": 5,
        "rows": 8
       }
      },
      "text/html": [
       "<div>\n",
       "<style scoped>\n",
       "    .dataframe tbody tr th:only-of-type {\n",
       "        vertical-align: middle;\n",
       "    }\n",
       "\n",
       "    .dataframe tbody tr th {\n",
       "        vertical-align: top;\n",
       "    }\n",
       "\n",
       "    .dataframe thead th {\n",
       "        text-align: right;\n",
       "    }\n",
       "</style>\n",
       "<table border=\"1\" class=\"dataframe\">\n",
       "  <thead>\n",
       "    <tr style=\"text-align: right;\">\n",
       "      <th></th>\n",
       "      <th>total_ratings</th>\n",
       "      <th>five_count</th>\n",
       "      <th>one_count</th>\n",
       "      <th>prop_five</th>\n",
       "      <th>prop_one</th>\n",
       "    </tr>\n",
       "  </thead>\n",
       "  <tbody>\n",
       "    <tr>\n",
       "      <th>count</th>\n",
       "      <td>4.204994e+06</td>\n",
       "      <td>4.204994e+06</td>\n",
       "      <td>4.204994e+06</td>\n",
       "      <td>4.204994e+06</td>\n",
       "      <td>4.204994e+06</td>\n",
       "    </tr>\n",
       "    <tr>\n",
       "      <th>mean</th>\n",
       "      <td>1.950355e+00</td>\n",
       "      <td>1.278472e+00</td>\n",
       "      <td>1.681398e-01</td>\n",
       "      <td>6.226085e-01</td>\n",
       "      <td>1.166484e-01</td>\n",
       "    </tr>\n",
       "    <tr>\n",
       "      <th>std</th>\n",
       "      <td>3.178670e+00</td>\n",
       "      <td>2.473976e+00</td>\n",
       "      <td>4.532806e-01</td>\n",
       "      <td>4.509550e-01</td>\n",
       "      <td>3.052082e-01</td>\n",
       "    </tr>\n",
       "    <tr>\n",
       "      <th>min</th>\n",
       "      <td>1.000000e+00</td>\n",
       "      <td>0.000000e+00</td>\n",
       "      <td>0.000000e+00</td>\n",
       "      <td>0.000000e+00</td>\n",
       "      <td>0.000000e+00</td>\n",
       "    </tr>\n",
       "    <tr>\n",
       "      <th>25%</th>\n",
       "      <td>1.000000e+00</td>\n",
       "      <td>0.000000e+00</td>\n",
       "      <td>0.000000e+00</td>\n",
       "      <td>0.000000e+00</td>\n",
       "      <td>0.000000e+00</td>\n",
       "    </tr>\n",
       "    <tr>\n",
       "      <th>50%</th>\n",
       "      <td>1.000000e+00</td>\n",
       "      <td>1.000000e+00</td>\n",
       "      <td>0.000000e+00</td>\n",
       "      <td>1.000000e+00</td>\n",
       "      <td>0.000000e+00</td>\n",
       "    </tr>\n",
       "    <tr>\n",
       "      <th>75%</th>\n",
       "      <td>2.000000e+00</td>\n",
       "      <td>1.000000e+00</td>\n",
       "      <td>0.000000e+00</td>\n",
       "      <td>1.000000e+00</td>\n",
       "      <td>0.000000e+00</td>\n",
       "    </tr>\n",
       "    <tr>\n",
       "      <th>max</th>\n",
       "      <td>1.217000e+03</td>\n",
       "      <td>1.215000e+03</td>\n",
       "      <td>9.600000e+01</td>\n",
       "      <td>1.000000e+00</td>\n",
       "      <td>1.000000e+00</td>\n",
       "    </tr>\n",
       "  </tbody>\n",
       "</table>\n",
       "</div>"
      ],
      "text/plain": [
       "       total_ratings    five_count     one_count     prop_five      prop_one\n",
       "count   4.204994e+06  4.204994e+06  4.204994e+06  4.204994e+06  4.204994e+06\n",
       "mean    1.950355e+00  1.278472e+00  1.681398e-01  6.226085e-01  1.166484e-01\n",
       "std     3.178670e+00  2.473976e+00  4.532806e-01  4.509550e-01  3.052082e-01\n",
       "min     1.000000e+00  0.000000e+00  0.000000e+00  0.000000e+00  0.000000e+00\n",
       "25%     1.000000e+00  0.000000e+00  0.000000e+00  0.000000e+00  0.000000e+00\n",
       "50%     1.000000e+00  1.000000e+00  0.000000e+00  1.000000e+00  0.000000e+00\n",
       "75%     2.000000e+00  1.000000e+00  0.000000e+00  1.000000e+00  0.000000e+00\n",
       "max     1.217000e+03  1.215000e+03  9.600000e+01  1.000000e+00  1.000000e+00"
      ]
     },
     "execution_count": 22,
     "metadata": {},
     "output_type": "execute_result"
    }
   ],
   "source": [
    "all_ratings.describe()"
   ]
  },
  {
   "cell_type": "markdown",
   "id": "b42f57de",
   "metadata": {},
   "source": [
    "- it seems that most people wrote almost 2 reviews. there is the max which is suspicious...but we can either think about\n",
    "doing x many standard deviations from the mean or a hard cutoff -- depends on the threshold we are seeking\n",
    "- most people are leaving 5 star reviews and so prop_five == 1 for bot\n",
    "- most people are not leaving 1 star reviews so a high prop_one like >0.8"
   ]
  },
  {
   "cell_type": "code",
   "execution_count": 23,
   "id": "e1350c63",
   "metadata": {},
   "outputs": [],
   "source": [
    "reviewer_dates = reviews_df_raw.groupby('reviewerID')['date'].agg(['min', 'max']).reset_index()"
   ]
  },
  {
   "cell_type": "code",
   "execution_count": 24,
   "id": "ec3194d2",
   "metadata": {},
   "outputs": [],
   "source": [
    "reviewer_dates['review_span'] = reviewer_dates['max']-reviewer_dates['min']"
   ]
  },
  {
   "cell_type": "code",
   "execution_count": 25,
   "id": "f459c1ac",
   "metadata": {},
   "outputs": [
    {
     "data": {
      "application/vnd.microsoft.datawrangler.viewer.v0+json": {
       "columns": [
        {
         "name": "index",
         "rawType": "object",
         "type": "string"
        },
        {
         "name": "min",
         "rawType": "object",
         "type": "unknown"
        },
        {
         "name": "max",
         "rawType": "object",
         "type": "unknown"
        },
        {
         "name": "review_span",
         "rawType": "object",
         "type": "unknown"
        }
       ],
       "ref": "0090b97d-f73f-4b71-bef1-8d3c5b9f9a56",
       "rows": [
        [
         "count",
         "4204994",
         "4204994",
         "4204994"
        ],
        [
         "mean",
         "2015-05-31 18:55:02.775698432",
         "2015-10-23 11:52:11.877763072",
         "144 days 16:57:09.102062916"
        ],
        [
         "min",
         "1999-10-06 00:00:00",
         "1999-10-06 00:00:00",
         "0 days 00:00:00"
        ],
        [
         "25%",
         "2014-07-04 00:00:00",
         "2014-12-24 00:00:00",
         "0 days 00:00:00"
        ],
        [
         "50%",
         "2015-11-13 00:00:00",
         "2016-03-23 00:00:00",
         "0 days 00:00:00"
        ],
        [
         "75%",
         "2017-01-02 00:00:00",
         "2017-04-05 00:00:00",
         "0 days 00:00:00"
        ],
        [
         "max",
         "2018-10-04 00:00:00",
         "2018-10-05 00:00:00",
         "6552 days 00:00:00"
        ],
        [
         "std",
         null,
         null,
         "423 days 09:16:33.163975120"
        ]
       ],
       "shape": {
        "columns": 3,
        "rows": 8
       }
      },
      "text/html": [
       "<div>\n",
       "<style scoped>\n",
       "    .dataframe tbody tr th:only-of-type {\n",
       "        vertical-align: middle;\n",
       "    }\n",
       "\n",
       "    .dataframe tbody tr th {\n",
       "        vertical-align: top;\n",
       "    }\n",
       "\n",
       "    .dataframe thead th {\n",
       "        text-align: right;\n",
       "    }\n",
       "</style>\n",
       "<table border=\"1\" class=\"dataframe\">\n",
       "  <thead>\n",
       "    <tr style=\"text-align: right;\">\n",
       "      <th></th>\n",
       "      <th>min</th>\n",
       "      <th>max</th>\n",
       "      <th>review_span</th>\n",
       "    </tr>\n",
       "  </thead>\n",
       "  <tbody>\n",
       "    <tr>\n",
       "      <th>count</th>\n",
       "      <td>4204994</td>\n",
       "      <td>4204994</td>\n",
       "      <td>4204994</td>\n",
       "    </tr>\n",
       "    <tr>\n",
       "      <th>mean</th>\n",
       "      <td>2015-05-31 18:55:02.775698432</td>\n",
       "      <td>2015-10-23 11:52:11.877763072</td>\n",
       "      <td>144 days 16:57:09.102062916</td>\n",
       "    </tr>\n",
       "    <tr>\n",
       "      <th>min</th>\n",
       "      <td>1999-10-06 00:00:00</td>\n",
       "      <td>1999-10-06 00:00:00</td>\n",
       "      <td>0 days 00:00:00</td>\n",
       "    </tr>\n",
       "    <tr>\n",
       "      <th>25%</th>\n",
       "      <td>2014-07-04 00:00:00</td>\n",
       "      <td>2014-12-24 00:00:00</td>\n",
       "      <td>0 days 00:00:00</td>\n",
       "    </tr>\n",
       "    <tr>\n",
       "      <th>50%</th>\n",
       "      <td>2015-11-13 00:00:00</td>\n",
       "      <td>2016-03-23 00:00:00</td>\n",
       "      <td>0 days 00:00:00</td>\n",
       "    </tr>\n",
       "    <tr>\n",
       "      <th>75%</th>\n",
       "      <td>2017-01-02 00:00:00</td>\n",
       "      <td>2017-04-05 00:00:00</td>\n",
       "      <td>0 days 00:00:00</td>\n",
       "    </tr>\n",
       "    <tr>\n",
       "      <th>max</th>\n",
       "      <td>2018-10-04 00:00:00</td>\n",
       "      <td>2018-10-05 00:00:00</td>\n",
       "      <td>6552 days 00:00:00</td>\n",
       "    </tr>\n",
       "    <tr>\n",
       "      <th>std</th>\n",
       "      <td>NaN</td>\n",
       "      <td>NaN</td>\n",
       "      <td>423 days 09:16:33.163975120</td>\n",
       "    </tr>\n",
       "  </tbody>\n",
       "</table>\n",
       "</div>"
      ],
      "text/plain": [
       "                                 min                            max  \\\n",
       "count                        4204994                        4204994   \n",
       "mean   2015-05-31 18:55:02.775698432  2015-10-23 11:52:11.877763072   \n",
       "min              1999-10-06 00:00:00            1999-10-06 00:00:00   \n",
       "25%              2014-07-04 00:00:00            2014-12-24 00:00:00   \n",
       "50%              2015-11-13 00:00:00            2016-03-23 00:00:00   \n",
       "75%              2017-01-02 00:00:00            2017-04-05 00:00:00   \n",
       "max              2018-10-04 00:00:00            2018-10-05 00:00:00   \n",
       "std                              NaN                            NaN   \n",
       "\n",
       "                       review_span  \n",
       "count                      4204994  \n",
       "mean   144 days 16:57:09.102062916  \n",
       "min                0 days 00:00:00  \n",
       "25%                0 days 00:00:00  \n",
       "50%                0 days 00:00:00  \n",
       "75%                0 days 00:00:00  \n",
       "max             6552 days 00:00:00  \n",
       "std    423 days 09:16:33.163975120  "
      ]
     },
     "execution_count": 25,
     "metadata": {},
     "output_type": "execute_result"
    }
   ],
   "source": [
    "reviewer_dates.describe()"
   ]
  },
  {
   "cell_type": "code",
   "execution_count": 26,
   "id": "73f250b0",
   "metadata": {},
   "outputs": [],
   "source": [
    "suspicious_activity_df = all_ratings.merge(reviewer_dates[['reviewerID', 'review_span']], on='reviewerID', how='left')"
   ]
  },
  {
   "cell_type": "code",
   "execution_count": 27,
   "id": "ece08b3e",
   "metadata": {},
   "outputs": [],
   "source": [
    "products_reviewed = reviews_df_raw.groupby('reviewerID')['asin'].nunique().reset_index()"
   ]
  },
  {
   "cell_type": "code",
   "execution_count": 28,
   "id": "ef5f4241",
   "metadata": {},
   "outputs": [],
   "source": [
    "products_reviewed = products_reviewed.rename(columns={'asin':'num_unique_products'})"
   ]
  },
  {
   "cell_type": "code",
   "execution_count": 29,
   "id": "9c4739fd",
   "metadata": {},
   "outputs": [],
   "source": [
    "suspicious_activity_df = suspicious_activity_df.merge(products_reviewed, on='reviewerID', how='left')"
   ]
  },
  {
   "cell_type": "code",
   "execution_count": 30,
   "id": "96e50456",
   "metadata": {},
   "outputs": [],
   "source": [
    "suspicious_activity_df['reviews_per_day'] = suspicious_activity_df['total_ratings'] / (suspicious_activity_df['review_span'].dt.days + 1 )\n"
   ]
  },
  {
   "cell_type": "code",
   "execution_count": 31,
   "id": "6f959ce3",
   "metadata": {},
   "outputs": [
    {
     "data": {
      "text/plain": [
       "Index(['reviewerID', 'total_ratings', 'five_count', 'one_count', 'prop_five',\n",
       "       'prop_one', 'review_span', 'num_unique_products', 'reviews_per_day'],\n",
       "      dtype='object')"
      ]
     },
     "execution_count": 31,
     "metadata": {},
     "output_type": "execute_result"
    }
   ],
   "source": [
    "suspicious_activity_df.columns"
   ]
  },
  {
   "cell_type": "code",
   "execution_count": 32,
   "id": "1fb465ac",
   "metadata": {},
   "outputs": [
    {
     "data": {
      "application/vnd.microsoft.datawrangler.viewer.v0+json": {
       "columns": [
        {
         "name": "index",
         "rawType": "object",
         "type": "string"
        },
        {
         "name": "reviews_per_day",
         "rawType": "float64",
         "type": "float"
        }
       ],
       "ref": "9226d7c5-131b-4eea-9bb6-6b365f07b0c6",
       "rows": [
        [
         "count",
         "4204994.0"
        ],
        [
         "mean",
         "0.9856467065893864"
        ],
        [
         "std",
         "0.8995382196452261"
        ],
        [
         "min",
         "0.0003052037234854265"
        ],
        [
         "25%",
         "1.0"
        ],
        [
         "50%",
         "1.0"
        ],
        [
         "75%",
         "1.0"
        ],
        [
         "max",
         "108.0"
        ]
       ],
       "shape": {
        "columns": 1,
        "rows": 8
       }
      },
      "text/plain": [
       "count    4.204994e+06\n",
       "mean     9.856467e-01\n",
       "std      8.995382e-01\n",
       "min      3.052037e-04\n",
       "25%      1.000000e+00\n",
       "50%      1.000000e+00\n",
       "75%      1.000000e+00\n",
       "max      1.080000e+02\n",
       "Name: reviews_per_day, dtype: float64"
      ]
     },
     "execution_count": 32,
     "metadata": {},
     "output_type": "execute_result"
    }
   ],
   "source": [
    "suspicious_activity_df['reviews_per_day'].describe()"
   ]
  },
  {
   "cell_type": "code",
   "execution_count": 33,
   "id": "cf408d61",
   "metadata": {},
   "outputs": [
    {
     "data": {
      "application/vnd.microsoft.datawrangler.viewer.v0+json": {
       "columns": [
        {
         "name": "index",
         "rawType": "object",
         "type": "string"
        },
        {
         "name": "num_unique_products",
         "rawType": "float64",
         "type": "float"
        }
       ],
       "ref": "c185776a-4f35-4616-91ec-55af210acb12",
       "rows": [
        [
         "count",
         "4204994.0"
        ],
        [
         "mean",
         "1.9022545573192258"
        ],
        [
         "std",
         "3.085026103821447"
        ],
        [
         "min",
         "1.0"
        ],
        [
         "25%",
         "1.0"
        ],
        [
         "50%",
         "1.0"
        ],
        [
         "75%",
         "2.0"
        ],
        [
         "max",
         "1092.0"
        ]
       ],
       "shape": {
        "columns": 1,
        "rows": 8
       }
      },
      "text/plain": [
       "count    4.204994e+06\n",
       "mean     1.902255e+00\n",
       "std      3.085026e+00\n",
       "min      1.000000e+00\n",
       "25%      1.000000e+00\n",
       "50%      1.000000e+00\n",
       "75%      2.000000e+00\n",
       "max      1.092000e+03\n",
       "Name: num_unique_products, dtype: float64"
      ]
     },
     "execution_count": 33,
     "metadata": {},
     "output_type": "execute_result"
    }
   ],
   "source": [
    "suspicious_activity_df['num_unique_products'].describe()"
   ]
  },
  {
   "cell_type": "code",
   "execution_count": 34,
   "id": "1518f451",
   "metadata": {},
   "outputs": [],
   "source": [
    "bots_df = suspicious_activity_df[\n",
    "    (suspicious_activity_df['total_ratings'] > 10) & \n",
    "    (suspicious_activity_df['reviews_per_day'] > 3) & \n",
    "    (suspicious_activity_df['num_unique_products'] > 10) & \n",
    "    ((suspicious_activity_df['prop_five'] == 1) | (suspicious_activity_df['prop_one'] > 0.8))\n",
    "]"
   ]
  },
  {
   "cell_type": "code",
   "execution_count": 35,
   "id": "325a2ed6",
   "metadata": {},
   "outputs": [],
   "source": [
    "bots = list(bots_df['reviewerID'].unique())"
   ]
  },
  {
   "cell_type": "code",
   "execution_count": 36,
   "id": "b6aeda95",
   "metadata": {},
   "outputs": [],
   "source": [
    "reviews_df_raw['is_bot'] = 0\n",
    "reviews_df_raw.loc[reviews_df_raw['reviewerID'].isin(bots), 'is_bot'] = 1"
   ]
  },
  {
   "cell_type": "code",
   "execution_count": 37,
   "id": "0d9d93c9",
   "metadata": {},
   "outputs": [],
   "source": [
    "reviews_df_raw['num_bots_per_asin'] = reviews_df_raw.groupby('asin')['is_bot'].transform('sum')"
   ]
  },
  {
   "cell_type": "code",
   "execution_count": 38,
   "id": "ffe5a077",
   "metadata": {},
   "outputs": [
    {
     "data": {
      "application/vnd.microsoft.datawrangler.viewer.v0+json": {
       "columns": [
        {
         "name": "index",
         "rawType": "object",
         "type": "string"
        },
        {
         "name": "num_bots_per_asin",
         "rawType": "float64",
         "type": "float"
        }
       ],
       "ref": "ab20f369-d848-45c8-be61-5c6b5d09a40d",
       "rows": [
        [
         "count",
         "8201231.0"
        ],
        [
         "mean",
         "0.6415152798403069"
        ],
        [
         "std",
         "1.6864608230263645"
        ],
        [
         "min",
         "0.0"
        ],
        [
         "25%",
         "0.0"
        ],
        [
         "50%",
         "0.0"
        ],
        [
         "75%",
         "1.0"
        ],
        [
         "max",
         "20.0"
        ]
       ],
       "shape": {
        "columns": 1,
        "rows": 8
       }
      },
      "text/plain": [
       "count    8.201231e+06\n",
       "mean     6.415153e-01\n",
       "std      1.686461e+00\n",
       "min      0.000000e+00\n",
       "25%      0.000000e+00\n",
       "50%      0.000000e+00\n",
       "75%      1.000000e+00\n",
       "max      2.000000e+01\n",
       "Name: num_bots_per_asin, dtype: float64"
      ]
     },
     "execution_count": 38,
     "metadata": {},
     "output_type": "execute_result"
    }
   ],
   "source": [
    "reviews_df_raw['num_bots_per_asin'].describe()"
   ]
  },
  {
   "cell_type": "markdown",
   "id": "c846d5c9",
   "metadata": {},
   "source": [
    "Review Text Length Distribution"
   ]
  },
  {
   "cell_type": "code",
   "execution_count": 39,
   "id": "546a07f4",
   "metadata": {},
   "outputs": [
    {
     "data": {
      "image/png": "[encoded data removed]",
      "text/plain": [
       "<Figure size 640x480 with 1 Axes>"
      ]
     },
     "metadata": {},
     "output_type": "display_data"
    }
   ],
   "source": [
    "# review text length\n",
    "reviews_df_raw['review_length'] = reviews_df_raw['reviewText'].apply(lambda x: len(x) if isinstance(x, str) else 0)\n",
    "sns.histplot(reviews_df_raw['review_length'], bins=50)\n",
    "plt.title('Distribution of Review Text Length')\n",
    "plt.xlabel('Review Length')\n",
    "plt.ylabel('Frequency')\n",
    "plt.show()"
   ]
  },
  {
   "cell_type": "code",
   "execution_count": 40,
   "id": "1b6011bf",
   "metadata": {},
   "outputs": [
    {
     "data": {
      "application/vnd.microsoft.datawrangler.viewer.v0+json": {
       "columns": [
        {
         "name": "index",
         "rawType": "object",
         "type": "string"
        },
        {
         "name": "review_length",
         "rawType": "float64",
         "type": "float"
        }
       ],
       "ref": "d06026bf-00d4-486d-9166-b32277ec479f",
       "rows": [
        [
         "count",
         "8201231.0"
        ],
        [
         "mean",
         "193.52999287545978"
        ],
        [
         "std",
         "309.6167844842234"
        ],
        [
         "min",
         "0.0"
        ],
        [
         "25%",
         "41.0"
        ],
        [
         "50%",
         "109.0"
        ],
        [
         "75%",
         "223.0"
        ],
        [
         "max",
         "32563.0"
        ]
       ],
       "shape": {
        "columns": 1,
        "rows": 8
       }
      },
      "text/plain": [
       "count    8.201231e+06\n",
       "mean     1.935300e+02\n",
       "std      3.096168e+02\n",
       "min      0.000000e+00\n",
       "25%      4.100000e+01\n",
       "50%      1.090000e+02\n",
       "75%      2.230000e+02\n",
       "max      3.256300e+04\n",
       "Name: review_length, dtype: float64"
      ]
     },
     "execution_count": 40,
     "metadata": {},
     "output_type": "execute_result"
    }
   ],
   "source": [
    "# Length distribution (number of characters or words)\n",
    "reviews_df_raw['review_length'].describe()"
   ]
  },
  {
   "cell_type": "markdown",
   "id": "73f2f6ce",
   "metadata": {},
   "source": [
    "Unique Number of Products and Reviews Per Product"
   ]
  },
  {
   "cell_type": "code",
   "execution_count": 41,
   "id": "d7b7e9da",
   "metadata": {},
   "outputs": [
    {
     "name": "stdout",
     "output_type": "stream",
     "text": [
      "There are 624792 unique products.\n"
     ]
    }
   ],
   "source": [
    "print(f\"There are {len(reviews_df_raw['asin'].unique())} unique products.\")"
   ]
  },
  {
   "cell_type": "code",
   "execution_count": 42,
   "id": "a6d83987",
   "metadata": {},
   "outputs": [
    {
     "name": "stdout",
     "output_type": "stream",
     "text": [
      "        review_count\n",
      "count  624792.000000\n",
      "mean       13.126338\n",
      "std        66.866361\n",
      "min         1.000000\n",
      "25%         1.000000\n",
      "50%         2.000000\n",
      "75%         6.000000\n",
      "max     12680.000000\n"
     ]
    },
    {
     "data": {
      "text/plain": [
       "<Axes: xlabel='review_count', ylabel='Count'>"
      ]
     },
     "execution_count": 42,
     "metadata": {},
     "output_type": "execute_result"
    },
    {
     "data": {
      "image/png": "[encoded data removed]",
      "text/plain": [
       "<Figure size 640x480 with 1 Axes>"
      ]
     },
     "metadata": {},
     "output_type": "display_data"
    }
   ],
   "source": [
    "# count the number of reviews per product\n",
    "reviews_per_product = reviews_df_raw.groupby('asin').size().reset_index(name='review_count')\n",
    "# look at summary statistics for the number of reviews per product\n",
    "print(reviews_per_product.describe())\n",
    "# plot the distribution of the number of reviews per product\n",
    "sns.histplot(reviews_per_product['review_count'], bins=100)\n",
    "\n"
   ]
  },
  {
   "cell_type": "code",
   "execution_count": 43,
   "id": "08e8cb7f",
   "metadata": {},
   "outputs": [
    {
     "data": {
      "text/plain": [
       "<Axes: xlabel='review_count'>"
      ]
     },
     "execution_count": 43,
     "metadata": {},
     "output_type": "execute_result"
    },
    {
     "data": {
      "image/png": "[encoded data removed]",
      "text/plain": [
       "<Figure size 640x480 with 1 Axes>"
      ]
     },
     "metadata": {},
     "output_type": "display_data"
    }
   ],
   "source": [
    "# overview of the number of reviews per product\n",
    "reviews_per_product['review_count'].value_counts().sort_index().head(20).plot(kind='bar')"
   ]
  },
  {
   "cell_type": "code",
   "execution_count": 44,
   "id": "7d79c12b",
   "metadata": {},
   "outputs": [
    {
     "data": {
      "application/vnd.microsoft.datawrangler.viewer.v0+json": {
       "columns": [
        {
         "name": "index",
         "rawType": "int64",
         "type": "integer"
        },
        {
         "name": "asin",
         "rawType": "object",
         "type": "string"
        },
        {
         "name": "review_count",
         "rawType": "int64",
         "type": "integer"
        }
       ],
       "ref": "8c6f2e45-920e-4e36-8477-cd07e08fcdcc",
       "rows": [
        [
         "67864",
         "B000YDDF6O",
         "12680"
        ],
        [
         "182924",
         "B004S8F7QM",
         "8816"
        ],
        [
         "517297",
         "B010TQY7A8",
         "7487"
        ],
        [
         "499642",
         "B00WR5357G",
         "6617"
        ],
        [
         "157352",
         "B003UCODIA",
         "6188"
        ],
        [
         "428799",
         "B00MNG37C2",
         "4639"
        ],
        [
         "64063",
         "B000WD3XBI",
         "4590"
        ],
        [
         "621560",
         "B01H1NV1RE",
         "4340"
        ],
        [
         "484192",
         "B00U78NQHO",
         "4225"
        ],
        [
         "517316",
         "B010TU7LP2",
         "4197"
        ],
        [
         "280",
         "0975277324",
         "4169"
        ],
        [
         "322257",
         "B00CS16EJU",
         "4007"
        ],
        [
         "69248",
         "B000ZKPOTM",
         "3920"
        ],
        [
         "279038",
         "B009T45XDW",
         "3915"
        ],
        [
         "325239",
         "B00D3IN11Q",
         "3915"
        ],
        [
         "34907",
         "B000GUGY1S",
         "3914"
        ],
        [
         "81959",
         "B001794YO6",
         "3886"
        ],
        [
         "250233",
         "B007GE75HY",
         "3771"
        ],
        [
         "68005",
         "B000YFSZU8",
         "3706"
        ],
        [
         "79875",
         "B00166ES9G",
         "3664"
        ]
       ],
       "shape": {
        "columns": 2,
        "rows": 20
       }
      },
      "text/html": [
       "<div>\n",
       "<style scoped>\n",
       "    .dataframe tbody tr th:only-of-type {\n",
       "        vertical-align: middle;\n",
       "    }\n",
       "\n",
       "    .dataframe tbody tr th {\n",
       "        vertical-align: top;\n",
       "    }\n",
       "\n",
       "    .dataframe thead th {\n",
       "        text-align: right;\n",
       "    }\n",
       "</style>\n",
       "<table border=\"1\" class=\"dataframe\">\n",
       "  <thead>\n",
       "    <tr style=\"text-align: right;\">\n",
       "      <th></th>\n",
       "      <th>asin</th>\n",
       "      <th>review_count</th>\n",
       "    </tr>\n",
       "  </thead>\n",
       "  <tbody>\n",
       "    <tr>\n",
       "      <th>67864</th>\n",
       "      <td>B000YDDF6O</td>\n",
       "      <td>12680</td>\n",
       "    </tr>\n",
       "    <tr>\n",
       "      <th>182924</th>\n",
       "      <td>B004S8F7QM</td>\n",
       "      <td>8816</td>\n",
       "    </tr>\n",
       "    <tr>\n",
       "      <th>517297</th>\n",
       "      <td>B010TQY7A8</td>\n",
       "      <td>7487</td>\n",
       "    </tr>\n",
       "    <tr>\n",
       "      <th>499642</th>\n",
       "      <td>B00WR5357G</td>\n",
       "      <td>6617</td>\n",
       "    </tr>\n",
       "    <tr>\n",
       "      <th>157352</th>\n",
       "      <td>B003UCODIA</td>\n",
       "      <td>6188</td>\n",
       "    </tr>\n",
       "    <tr>\n",
       "      <th>428799</th>\n",
       "      <td>B00MNG37C2</td>\n",
       "      <td>4639</td>\n",
       "    </tr>\n",
       "    <tr>\n",
       "      <th>64063</th>\n",
       "      <td>B000WD3XBI</td>\n",
       "      <td>4590</td>\n",
       "    </tr>\n",
       "    <tr>\n",
       "      <th>621560</th>\n",
       "      <td>B01H1NV1RE</td>\n",
       "      <td>4340</td>\n",
       "    </tr>\n",
       "    <tr>\n",
       "      <th>484192</th>\n",
       "      <td>B00U78NQHO</td>\n",
       "      <td>4225</td>\n",
       "    </tr>\n",
       "    <tr>\n",
       "      <th>517316</th>\n",
       "      <td>B010TU7LP2</td>\n",
       "      <td>4197</td>\n",
       "    </tr>\n",
       "    <tr>\n",
       "      <th>280</th>\n",
       "      <td>0975277324</td>\n",
       "      <td>4169</td>\n",
       "    </tr>\n",
       "    <tr>\n",
       "      <th>322257</th>\n",
       "      <td>B00CS16EJU</td>\n",
       "      <td>4007</td>\n",
       "    </tr>\n",
       "    <tr>\n",
       "      <th>69248</th>\n",
       "      <td>B000ZKPOTM</td>\n",
       "      <td>3920</td>\n",
       "    </tr>\n",
       "    <tr>\n",
       "      <th>279038</th>\n",
       "      <td>B009T45XDW</td>\n",
       "      <td>3915</td>\n",
       "    </tr>\n",
       "    <tr>\n",
       "      <th>325239</th>\n",
       "      <td>B00D3IN11Q</td>\n",
       "      <td>3915</td>\n",
       "    </tr>\n",
       "    <tr>\n",
       "      <th>34907</th>\n",
       "      <td>B000GUGY1S</td>\n",
       "      <td>3914</td>\n",
       "    </tr>\n",
       "    <tr>\n",
       "      <th>81959</th>\n",
       "      <td>B001794YO6</td>\n",
       "      <td>3886</td>\n",
       "    </tr>\n",
       "    <tr>\n",
       "      <th>250233</th>\n",
       "      <td>B007GE75HY</td>\n",
       "      <td>3771</td>\n",
       "    </tr>\n",
       "    <tr>\n",
       "      <th>68005</th>\n",
       "      <td>B000YFSZU8</td>\n",
       "      <td>3706</td>\n",
       "    </tr>\n",
       "    <tr>\n",
       "      <th>79875</th>\n",
       "      <td>B00166ES9G</td>\n",
       "      <td>3664</td>\n",
       "    </tr>\n",
       "  </tbody>\n",
       "</table>\n",
       "</div>"
      ],
      "text/plain": [
       "              asin  review_count\n",
       "67864   B000YDDF6O         12680\n",
       "182924  B004S8F7QM          8816\n",
       "517297  B010TQY7A8          7487\n",
       "499642  B00WR5357G          6617\n",
       "157352  B003UCODIA          6188\n",
       "428799  B00MNG37C2          4639\n",
       "64063   B000WD3XBI          4590\n",
       "621560  B01H1NV1RE          4340\n",
       "484192  B00U78NQHO          4225\n",
       "517316  B010TU7LP2          4197\n",
       "280     0975277324          4169\n",
       "322257  B00CS16EJU          4007\n",
       "69248   B000ZKPOTM          3920\n",
       "279038  B009T45XDW          3915\n",
       "325239  B00D3IN11Q          3915\n",
       "34907   B000GUGY1S          3914\n",
       "81959   B001794YO6          3886\n",
       "250233  B007GE75HY          3771\n",
       "68005   B000YFSZU8          3706\n",
       "79875   B00166ES9G          3664"
      ]
     },
     "execution_count": 44,
     "metadata": {},
     "output_type": "execute_result"
    }
   ],
   "source": [
    "# show the product with the most reviews\n",
    "reviews_per_product.sort_values(by='review_count', ascending=False).head(20)"
   ]
  },
  {
   "cell_type": "code",
   "execution_count": 45,
   "id": "32377670",
   "metadata": {},
   "outputs": [
    {
     "data": {
      "application/vnd.microsoft.datawrangler.viewer.v0+json": {
       "columns": [
        {
         "name": "index",
         "rawType": "object",
         "type": "string"
        },
        {
         "name": "reviewText",
         "rawType": "float64",
         "type": "float"
        }
       ],
       "ref": "eddd453b-dbe5-4494-a763-72f203265cbc",
       "rows": [
        [
         "count",
         "624792.0"
        ],
        [
         "mean",
         "13.126338045301477"
        ],
        [
         "std",
         "66.86636107996195"
        ],
        [
         "min",
         "1.0"
        ],
        [
         "25%",
         "1.0"
        ],
        [
         "50%",
         "2.0"
        ],
        [
         "75%",
         "6.0"
        ],
        [
         "max",
         "12680.0"
        ]
       ],
       "shape": {
        "columns": 1,
        "rows": 8
       }
      },
      "text/plain": [
       "count    624792.000000\n",
       "mean         13.126338\n",
       "std          66.866361\n",
       "min           1.000000\n",
       "25%           1.000000\n",
       "50%           2.000000\n",
       "75%           6.000000\n",
       "max       12680.000000\n",
       "Name: reviewText, dtype: float64"
      ]
     },
     "execution_count": 45,
     "metadata": {},
     "output_type": "execute_result"
    }
   ],
   "source": [
    "# look at number of reviews per product and the distribution\n",
    "review_counts = reviews_df_raw.groupby('asin')['reviewText'].size()\n",
    "review_counts.describe()"
   ]
  },
  {
   "cell_type": "code",
   "execution_count": 46,
   "id": "ccc61744",
   "metadata": {},
   "outputs": [
    {
     "data": {
      "application/vnd.microsoft.datawrangler.viewer.v0+json": {
       "columns": [
        {
         "name": "index",
         "rawType": "float64",
         "type": "float"
        },
        {
         "name": "reviewText",
         "rawType": "float64",
         "type": "float"
        }
       ],
       "ref": "0234611d-5fb5-46a9-99c1-7138dd13d9e1",
       "rows": [
        [
         "0.05",
         "1.0"
        ],
        [
         "0.1",
         "1.0"
        ],
        [
         "0.2",
         "1.0"
        ],
        [
         "0.25",
         "1.0"
        ],
        [
         "0.5",
         "2.0"
        ],
        [
         "0.6",
         "3.0"
        ],
        [
         "0.75",
         "6.0"
        ],
        [
         "0.8",
         "9.0"
        ],
        [
         "0.9",
         "22.0"
        ],
        [
         "0.95",
         "48.0"
        ],
        [
         "0.99",
         "193.0"
        ]
       ],
       "shape": {
        "columns": 1,
        "rows": 11
       }
      },
      "text/plain": [
       "0.05      1.0\n",
       "0.10      1.0\n",
       "0.20      1.0\n",
       "0.25      1.0\n",
       "0.50      2.0\n",
       "0.60      3.0\n",
       "0.75      6.0\n",
       "0.80      9.0\n",
       "0.90     22.0\n",
       "0.95     48.0\n",
       "0.99    193.0\n",
       "Name: reviewText, dtype: float64"
      ]
     },
     "execution_count": 46,
     "metadata": {},
     "output_type": "execute_result"
    }
   ],
   "source": [
    "review_counts.quantile([0.05,0.1,0.2,0.25,0.5,0.6,0.75,0.8,0.9,0.95,0.99])"
   ]
  },
  {
   "cell_type": "markdown",
   "id": "82fffee5",
   "metadata": {},
   "source": [
    "Heatmap of Some of the Columns"
   ]
  },
  {
   "cell_type": "code",
   "execution_count": 47,
   "id": "4abea527",
   "metadata": {},
   "outputs": [
    {
     "data": {
      "image/png": "[encoded data removed]",
      "text/plain": [
       "<Figure size 640x480 with 2 Axes>"
      ]
     },
     "metadata": {},
     "output_type": "display_data"
    }
   ],
   "source": [
    "# correlation matrix (only numeric columns)\n",
    "correlation_matrix = reviews_df_raw.select_dtypes(include=[np.number]).corr()\n",
    "sns.heatmap(correlation_matrix, annot=True, cmap='coolwarm', fmt='.2f')\n",
    "plt.title('Correlation Matrix')\n",
    "plt.show()"
   ]
  },
  {
   "cell_type": "markdown",
   "id": "869f84e3",
   "metadata": {},
   "source": [
    "Copying the Article"
   ]
  },
  {
   "cell_type": "code",
   "execution_count": 48,
   "id": "faff2981",
   "metadata": {},
   "outputs": [
    {
     "data": {
      "image/png": "[encoded data removed]",
      "text/plain": [
       "<Figure size 640x480 with 1 Axes>"
      ]
     },
     "metadata": {},
     "output_type": "display_data"
    }
   ],
   "source": [
    "# look for certain keywords in the review text and summary\n",
    "keywords = ['dangerous', 'hazardous', 'unsafe', 'risk', 'warning', 'alert']\n",
    "\n",
    "for keyword in keywords:\n",
    "    reviews_df_raw[f'contains_{keyword}'] = reviews_df_raw['reviewText'].str.contains(keyword, case=False, na=False) | \\\n",
    "                                             reviews_df_raw['summary'].str.contains(keyword, case=False, na=False)\n",
    "# count the number of reviews containing each keyword\n",
    "keyword_counts = {keyword: reviews_df_raw[f'contains_{keyword}'].sum() for keyword in keywords}\n",
    "# create a DataFrame for keyword counts \n",
    "keyword_counts_df = pd.DataFrame(list(keyword_counts.items()), columns=['Keyword', 'Count'])\n",
    "# plot the keyword counts\n",
    "sns.barplot(x='Count', y='Keyword', data=keyword_counts_df)\n",
    "plt.title('Keyword Counts in Reviews')\n",
    "plt.xlabel('Count')\n",
    "plt.ylabel('Keyword')\n",
    "plt.show()"
   ]
  },
  {
   "cell_type": "code",
   "execution_count": 49,
   "id": "fc93af84",
   "metadata": {},
   "outputs": [
    {
     "data": {
      "image/png": "[encoded data removed]",
      "text/plain": [
       "<Figure size 640x480 with 1 Axes>"
      ]
     },
     "metadata": {},
     "output_type": "display_data"
    },
    {
     "data": {
      "image/png": "[encoded data removed]",
      "text/plain": [
       "<Figure size 640x480 with 1 Axes>"
      ]
     },
     "metadata": {},
     "output_type": "display_data"
    },
    {
     "data": {
      "image/png": "[encoded data removed]",
      "text/plain": [
       "<Figure size 640x480 with 1 Axes>"
      ]
     },
     "metadata": {},
     "output_type": "display_data"
    },
    {
     "data": {
      "image/png": "[encoded data removed]",
      "text/plain": [
       "<Figure size 640x480 with 1 Axes>"
      ]
     },
     "metadata": {},
     "output_type": "display_data"
    },
    {
     "data": {
      "image/png": "[encoded data removed]",
      "text/plain": [
       "<Figure size 640x480 with 1 Axes>"
      ]
     },
     "metadata": {},
     "output_type": "display_data"
    },
    {
     "data": {
      "image/png": "[encoded data removed]",
      "text/plain": [
       "<Figure size 640x480 with 1 Axes>"
      ]
     },
     "metadata": {},
     "output_type": "display_data"
    }
   ],
   "source": [
    "# show the overall for each keyword\n",
    "for keyword in keywords:\n",
    "    overall_counts = reviews_df_raw[reviews_df_raw[f'contains_{keyword}']]['overall'].value_counts().sort_index()\n",
    "    sns.barplot(x=overall_counts.index, y=overall_counts.values)\n",
    "    plt.title(f'Overall Ratings for Reviews Containing \"{keyword}\"')\n",
    "    plt.xlabel('Overall Rating')\n",
    "    plt.ylabel('Count')\n",
    "    plt.xticks(rotation=45)\n",
    "    plt.show()"
   ]
  },
  {
   "cell_type": "code",
   "execution_count": 50,
   "id": "0e75c044",
   "metadata": {},
   "outputs": [
    {
     "name": "stdout",
     "output_type": "stream",
     "text": [
      "Number of reviews containing 'hazardous': 697\n"
     ]
    }
   ],
   "source": [
    "# return all rows that contain the keyword 'hazardous' in the review text or summary\n",
    "# because we are in a toys and games context, there are some reviews that mention 'hazardous' in a non-negative context, so we will filter them\n",
    "hazardous_reviews = reviews_df_raw[reviews_df_raw['contains_hazardous']]\n",
    "print(f\"Number of reviews containing 'hazardous': {len(hazardous_reviews)}\")\n",
    "# display the first few rows of hazardous reviews\n",
    "hazardous_reviews[['reviewerID', 'asin', 'reviewTime', 'overall', 'reviewText', 'summary']].to_clipboard()"
   ]
  },
  {
   "cell_type": "code",
   "execution_count": 51,
   "id": "fd288990",
   "metadata": {},
   "outputs": [
    {
     "name": "stdout",
     "output_type": "stream",
     "text": [
      "Unique ASINs for hazardous reviews: 625\n",
      "Hazardous ASINs:\n",
      "1589944623\n",
      "1940825911\n",
      "B00000DMFD\n",
      "B00000ISOQ\n",
      "B00000IUXC\n",
      "B00000IV8D\n",
      "B00000IS6G\n",
      "B00000IZOR\n",
      "B00000K3BR\n",
      "B00001P4QK\n"
     ]
    }
   ],
   "source": [
    "# show the asins for the hazardous reviews\n",
    "hazardous_asins = hazardous_reviews['asin'].unique()\n",
    "print(f\"Unique ASINs for hazardous reviews: {len(hazardous_asins)}\")\n",
    "# display the first few hazardous ASINs\n",
    "print(\"Hazardous ASINs:\")\n",
    "for asin in hazardous_asins[:10]:\n",
    "    print(asin)"
   ]
  },
  {
   "cell_type": "code",
   "execution_count": 52,
   "id": "abae8317",
   "metadata": {},
   "outputs": [
    {
     "name": "stdout",
     "output_type": "stream",
     "text": [
      "Number of reviews containing 'recall': 3957\n"
     ]
    }
   ],
   "source": [
    "# check if the reviews or summaries contain the keyword 'recall'\n",
    "recall_reviews = reviews_df_raw[reviews_df_raw['reviewText'].str.contains('recall', case=False, na=False) | \n",
    "                                 reviews_df_raw['summary'].str.contains('recall', case=False, na=False)]\n",
    "print(f\"Number of reviews containing 'recall': {len(recall_reviews)}\")\n",
    "# display the first few rows of recall reviews\n",
    "recall_reviews[['reviewerID', 'asin', 'reviewTime', 'overall', 'reviewText', 'summary']].sample(100).to_clipboard()\n",
    "\n",
    "# some of these talk about an item recall but some are just using the word 'recall' in a different context"
   ]
  },
  {
   "cell_type": "code",
   "execution_count": 53,
   "id": "74377bf9",
   "metadata": {},
   "outputs": [],
   "source": [
    "# how long are people writing reviews for products that have 1 star ratings\n",
    "one_star_reviews = reviews_df_raw[reviews_df_raw['overall'] == 1].copy()\n",
    "one_star_reviews\n",
    "\n",
    "# groupby asin and see how many months the reviews span\n",
    "one_star_reviews['reviewTime']=pd.to_datetime(one_star_reviews['reviewTime'])\n",
    "one_star_reviews['review_month'] = one_star_reviews['reviewTime'].dt.to_period('M')\n",
    "one_star_reviews_grouped = one_star_reviews.groupby('asin')['review_month'].nunique().reset_index()\n",
    "one_star_reviews_grouped.rename(columns={'review_month': 'months_reviewed'}, inplace=True)\n",
    "# merge this back to the one_star_reviews DataFrame\n",
    "one_star_reviews = one_star_reviews.merge(one_star_reviews_grouped, on='asin', how='left')\n",
    "\n"
   ]
  },
  {
   "cell_type": "code",
   "execution_count": 54,
   "id": "d92100b9",
   "metadata": {},
   "outputs": [
    {
     "data": {
      "application/vnd.microsoft.datawrangler.viewer.v0+json": {
       "columns": [
        {
         "name": "index",
         "rawType": "object",
         "type": "string"
        },
        {
         "name": "months_reviewed",
         "rawType": "float64",
         "type": "float"
        }
       ],
       "ref": "a5117d9c-8295-4a65-8698-a9310d1269b1",
       "rows": [
        [
         "count",
         "707027.0"
        ],
        [
         "mean",
         "14.506520967374655"
        ],
        [
         "std",
         "15.84990110051702"
        ],
        [
         "min",
         "1.0"
        ],
        [
         "25%",
         "3.0"
        ],
        [
         "50%",
         "8.0"
        ],
        [
         "75%",
         "21.0"
        ],
        [
         "max",
         "104.0"
        ]
       ],
       "shape": {
        "columns": 1,
        "rows": 8
       }
      },
      "text/plain": [
       "count    707027.000000\n",
       "mean         14.506521\n",
       "std          15.849901\n",
       "min           1.000000\n",
       "25%           3.000000\n",
       "50%           8.000000\n",
       "75%          21.000000\n",
       "max         104.000000\n",
       "Name: months_reviewed, dtype: float64"
      ]
     },
     "execution_count": 54,
     "metadata": {},
     "output_type": "execute_result"
    }
   ],
   "source": [
    "one_star_reviews['months_reviewed'].describe()"
   ]
  },
  {
   "cell_type": "code",
   "execution_count": 55,
   "id": "f3bac234",
   "metadata": {},
   "outputs": [
    {
     "data": {
      "application/vnd.microsoft.datawrangler.viewer.v0+json": {
       "columns": [
        {
         "name": "asin",
         "rawType": "object",
         "type": "string"
        },
        {
         "name": "count",
         "rawType": "int64",
         "type": "integer"
        }
       ],
       "ref": "ab38d494-7ebb-4cf8-b4d5-221b5590e63e",
       "rows": [
        [
         "B00166ES9G",
         "823"
        ],
        [
         "B00LK1YMD4",
         "769"
        ]
       ],
       "shape": {
        "columns": 1,
        "rows": 2
       }
      },
      "text/plain": [
       "asin\n",
       "B00166ES9G    823\n",
       "B00LK1YMD4    769\n",
       "Name: count, dtype: int64"
      ]
     },
     "execution_count": 55,
     "metadata": {},
     "output_type": "execute_result"
    }
   ],
   "source": [
    "one_star_reviews['asin'].value_counts().head(2)"
   ]
  },
  {
   "cell_type": "code",
   "execution_count": 56,
   "id": "6c55961a",
   "metadata": {},
   "outputs": [
    {
     "name": "stdout",
     "output_type": "stream",
     "text": [
      "Number of products with all 1-star reviews: 26964\n"
     ]
    }
   ],
   "source": [
    "# find products in reviews_df_raw that have had overall 1 for all reviews\n",
    "one_star_products = reviews_df_raw.groupby('asin').filter(lambda x: (x['overall'] == 1).all())\n",
    "print(f\"Number of products with all 1-star reviews: {len(one_star_products['asin'].unique())}\")"
   ]
  },
  {
   "cell_type": "code",
   "execution_count": 57,
   "id": "8674bad7",
   "metadata": {},
   "outputs": [
    {
     "data": {
      "application/vnd.microsoft.datawrangler.viewer.v0+json": {
       "columns": [
        {
         "name": "index",
         "rawType": "int64",
         "type": "integer"
        },
        {
         "name": "overall",
         "rawType": "int64",
         "type": "integer"
        },
        {
         "name": "vote",
         "rawType": "object",
         "type": "unknown"
        },
        {
         "name": "verified",
         "rawType": "bool",
         "type": "boolean"
        },
        {
         "name": "reviewTime",
         "rawType": "object",
         "type": "string"
        },
        {
         "name": "reviewerID",
         "rawType": "object",
         "type": "string"
        },
        {
         "name": "asin",
         "rawType": "object",
         "type": "string"
        },
        {
         "name": "reviewerName",
         "rawType": "object",
         "type": "unknown"
        },
        {
         "name": "reviewText",
         "rawType": "object",
         "type": "unknown"
        },
        {
         "name": "summary",
         "rawType": "object",
         "type": "unknown"
        },
        {
         "name": "unixReviewTime",
         "rawType": "int64",
         "type": "integer"
        },
        {
         "name": "image",
         "rawType": "object",
         "type": "unknown"
        },
        {
         "name": "style",
         "rawType": "object",
         "type": "unknown"
        },
        {
         "name": "date",
         "rawType": "datetime64[ns]",
         "type": "datetime"
        },
        {
         "name": "is_positive",
         "rawType": "int64",
         "type": "integer"
        },
        {
         "name": "is_negative",
         "rawType": "int64",
         "type": "integer"
        },
        {
         "name": "min_date",
         "rawType": "datetime64[ns]",
         "type": "datetime"
        },
        {
         "name": "max_date",
         "rawType": "datetime64[ns]",
         "type": "datetime"
        },
        {
         "name": "product_lifespan",
         "rawType": "timedelta64[ns]",
         "type": "unknown"
        },
        {
         "name": "is_bot",
         "rawType": "int64",
         "type": "integer"
        },
        {
         "name": "num_bots_per_asin",
         "rawType": "int64",
         "type": "integer"
        },
        {
         "name": "review_length",
         "rawType": "int64",
         "type": "integer"
        },
        {
         "name": "contains_dangerous",
         "rawType": "bool",
         "type": "boolean"
        },
        {
         "name": "contains_hazardous",
         "rawType": "bool",
         "type": "boolean"
        },
        {
         "name": "contains_unsafe",
         "rawType": "bool",
         "type": "boolean"
        },
        {
         "name": "contains_risk",
         "rawType": "bool",
         "type": "boolean"
        },
        {
         "name": "contains_warning",
         "rawType": "bool",
         "type": "boolean"
        },
        {
         "name": "contains_alert",
         "rawType": "bool",
         "type": "boolean"
        }
       ],
       "ref": "9033dd11-11c7-439e-9cf1-220ff1a621b2",
       "rows": [
        [
         "1253564",
         "1",
         null,
         "False",
         "12 31, 2010",
         "A1B9X0G6FS8J2K",
         "B001NLQIMY",
         "SnGMommy2010",
         "Failed to research this before buying it at Toys R Us, huge mistake. It comes with lots of cool accessories but we could never get the microscope to focus on anything, and everything feels very cheaply made. Going to return it....don't waste your money.",
         "Huge Disapointment!!",
         "1293753600",
         null,
         null,
         "2010-12-31 00:00:00",
         "0",
         "1",
         "2009-12-06 00:00:00",
         "2016-08-07 00:00:00",
         "2436 days 00:00:00",
         "0",
         "0",
         "253",
         "False",
         "False",
         "False",
         "False",
         "False",
         "False"
        ],
        [
         "1253565",
         "1",
         "10",
         "False",
         "12 26, 2009",
         "A1M2C3Y0EBYFW8",
         "B001NLQIMY",
         "K. Bartlett",
         "I purchased this microscope at Toys R Us, where it was not on display; only in the box on the shelf.  Had I been able to look at it and handle it up close, I would have experienced what a cheap product this is.  This microscope is as lightweight as any plastic toy because that's what it is made out of; nearly entirely of plastic.  Not what I expect in a microscope, and certainly not for almost $100.  The product description claims that the lenses are glass, but that is hard to believe, as not anything could be seen through them.\n\nNot one specimen could be brought into focus on any of the magnifications...neither any of the prepared slides that were included, nor any \"fresh\" slides we made like pond water or a stem cross-section.  We were lucky if we even got a blurred shadow of the specimen in our field of vision.\n\nI feel so silly that I was fooled by this company's packaging design strategy.  The microscope comes with a very professional-looking case and many scientific-looking tools and equipment.  At first glance it seems like you're getting a good value, but as soon as you pick up the microscope you'll realize you've been had.  This is so not worth it.  If your child would like a microscope, go to Carolina Biological Supply for one that is slightly higher priced but MUCH higher quality and actually useable.",
         "This is a terrible microscope!",
         "1261785600",
         null,
         null,
         "2009-12-26 00:00:00",
         "0",
         "1",
         "2009-12-06 00:00:00",
         "2016-08-07 00:00:00",
         "2436 days 00:00:00",
         "0",
         "0",
         "1332",
         "False",
         "False",
         "False",
         "False",
         "False",
         "False"
        ],
        [
         "1253566",
         "1",
         "8",
         "False",
         "12 25, 2009",
         "A36PSQCZFBJK87",
         "B001NLQIMY",
         "Micheal Hicky",
         "If this company had any quality controls they would never put this microscope on the market. I bought this for my son and after his fustration I spent some time with it. After a few minutes I quickly realized how awful it was. Simply by adjusting the focus the plastic stand bends out of shape and slowly moves back somewhere to its original position. The 150x power lens worked but no matter what I tried I could not view anything through the two higher powered lenses. This should not be sold at all and is a quick way for kids to loose interest in science. Its very sad.",
         "Do not buy",
         "1261699200",
         null,
         null,
         "2009-12-25 00:00:00",
         "0",
         "1",
         "2009-12-06 00:00:00",
         "2016-08-07 00:00:00",
         "2436 days 00:00:00",
         "0",
         "0",
         "573",
         "False",
         "False",
         "False",
         "False",
         "False",
         "False"
        ],
        [
         "1253567",
         "1",
         "14",
         "False",
         "12 6, 2009",
         "A6RO196CVEHGA",
         "B001NLQIMY",
         "Jay A. Fisher",
         "Upon opening the box it looks pretty cool. This illusion fades quickly as you try to set the focus on some of the prepared slides that come with the microscope. The construction of the microscope is flimsy and the lens assembly is very loose resulting in a loss of focus at the slightest touch or bump. This product is geared towards children, but as an adult I had trouble using it. My 9 year old daughter lost interest quickly due to the fact that she could not see anything through the microscope. If you want a microscope, spend a little more and buy one that is usable.",
         "Save your money",
         "1260057600",
         null,
         null,
         "2009-12-06 00:00:00",
         "0",
         "1",
         "2009-12-06 00:00:00",
         "2016-08-07 00:00:00",
         "2436 days 00:00:00",
         "0",
         "0",
         "574",
         "False",
         "False",
         "False",
         "False",
         "False",
         "False"
        ],
        [
         "1274822",
         "1",
         "3",
         "True",
         "02 18, 2016",
         "A2RK26ULF482RQ",
         "B001Q5TUTK",
         "S. Berg",
         "Very misleading.  Thought there was six like the photo but only one ring is included.",
         "Misleading",
         "1455753600",
         null,
         null,
         "2016-02-18 00:00:00",
         "0",
         "1",
         "2013-10-28 00:00:00",
         "2017-06-08 00:00:00",
         "1319 days 00:00:00",
         "0",
         "0",
         "85",
         "False",
         "False",
         "False",
         "False",
         "False",
         "False"
        ],
        [
         "1274823",
         "1",
         "2",
         "True",
         "11 19, 2015",
         "A26K54WGDT47JW",
         "B001Q5TUTK",
         "Amazon Customer",
         "What a  RIP-OFF!!! Scam is right. The picture shows six and you only get one.",
         "RIP-OFF",
         "1447891200",
         null,
         null,
         "2015-11-19 00:00:00",
         "0",
         "1",
         "2013-10-28 00:00:00",
         "2017-06-08 00:00:00",
         "1319 days 00:00:00",
         "0",
         "0",
         "77",
         "False",
         "False",
         "False",
         "False",
         "False",
         "False"
        ],
        [
         "1274824",
         "1",
         "4",
         "True",
         "03 17, 2015",
         "A1A4BV6D60A5G",
         "B001Q5TUTK",
         "Emma",
         "Only 1 ring comes with the purchase - not the 6 like the picture shows",
         "... ring comes with the purchase - not the 6 like the picture",
         "1426550400",
         null,
         null,
         "2015-03-17 00:00:00",
         "0",
         "1",
         "2013-10-28 00:00:00",
         "2017-06-08 00:00:00",
         "1319 days 00:00:00",
         "0",
         "0",
         "70",
         "False",
         "False",
         "False",
         "False",
         "False",
         "False"
        ],
        [
         "1274825",
         "1",
         "4",
         "True",
         "10 28, 2013",
         "AMKY03D1U0YUB",
         "B001Q5TUTK",
         "Lance",
         "The picture included all rings. There was only a purple ring in the package.  I am very disappointed with this purchase",
         "Only the purple ring",
         "1382918400",
         null,
         null,
         "2013-10-28 00:00:00",
         "0",
         "1",
         "2013-10-28 00:00:00",
         "2017-06-08 00:00:00",
         "1319 days 00:00:00",
         "0",
         "0",
         "119",
         "False",
         "False",
         "False",
         "False",
         "False",
         "False"
        ],
        [
         "1622706",
         "1",
         "3",
         "False",
         "10 4, 2010",
         "A32UONBFRUM8JJ",
         "B003TSD1PG",
         "Amanda B",
         "As others have stated....WORST TOY EVER!!! My son was so upset when he opened this. He said I think Garry (cousin double party) got my good plastic arena and I got this paper one. NOPE. Sorry son. I did not see the reviews as this was a gift from his grandma. This is just paper and tape!!! DO NOT BUY!! I hate this toy so much I am banning the other toys this company makes from house. They make Bratz, Moxie Girlz, Little Tikes, Pet Rescue, MGA games, and Legend of Nara",
         "Can I give it 0 stars?",
         "1286150400",
         null,
         null,
         "2010-10-04 00:00:00",
         "0",
         "1",
         "2010-09-07 00:00:00",
         "2012-12-22 00:00:00",
         "837 days 00:00:00",
         "0",
         "0",
         "472",
         "False",
         "False",
         "False",
         "False",
         "False",
         "False"
        ],
        [
         "1622707",
         "1",
         null,
         "True",
         "10 2, 2010",
         "A3N8SRZDD57GXX",
         "B003TSD1PG",
         "Benjamin E. Lee",
         "At the time of my purchase, there were no reviews for this item and I typically rely heavily on reviews but took a chance since my son's birthday was in a couple weeks and he really wanted it. Now there are 4 reviews and all give it 1 star and all have the same complaints I have. This is absolutely, by far, the worst toy I have ever purchased!  I felt so deceived and frustrated and horrible for my son that I felt I must post a review to warn others. You and your child will not enjoy this - I can guarantee it. It is just some thin cardboard pieces that are supposed to fit together and have tape keep it in place. The edge rails are thin plastic that is supposed to fit in slots in the cardboard. This is a miserable design. The parts could not cost more than $1 - seriously. No matter what the cost, you will not get your $ worth, I promise you. Please save your $. Do not buy!",
         "Do not buy!",
         "1285977600",
         null,
         null,
         "2010-10-02 00:00:00",
         "0",
         "1",
         "2010-09-07 00:00:00",
         "2012-12-22 00:00:00",
         "837 days 00:00:00",
         "0",
         "0",
         "883",
         "False",
         "False",
         "False",
         "False",
         "False",
         "False"
        ],
        [
         "1622708",
         "1",
         null,
         "False",
         "09 18, 2010",
         "A2HBRINA3F9YHV",
         "B003TSD1PG",
         "En Trance",
         "If you looked at the fancy artwork on the box front, it would appear you're getting some durable plastic track inside, for your Nara bugs to battle on.  Think again.  This is nothing but a set of cardboard tracks, and most pieces aren't even flat, which makes it all the more difficult for it to stay together.  Set aside hours of frustration for this one, and that's even building the easiest version of the diagrams.  After putting one together, I highly doubt anyone will even think about reassembling it to make another.\n\nOne of the most pitifully designed toys I've ever seen.  Avoid at all costs, and I would even recommend buying the sturdy Nano Hex bugs tracks for the bugs to use rather than this toy, even if these Nara bugs are a little big for it.  They assemble in seconds.",
         "Not all like the box photo! Fifteen bucks for piles of cardboard!",
         "1284768000",
         null,
         null,
         "2010-09-18 00:00:00",
         "0",
         "1",
         "2010-09-07 00:00:00",
         "2012-12-22 00:00:00",
         "837 days 00:00:00",
         "0",
         "0",
         "786",
         "False",
         "False",
         "False",
         "False",
         "False",
         "False"
        ],
        [
         "1622709",
         "1",
         null,
         "True",
         "09 16, 2010",
         "A1XF65QAQ1H1PN",
         "B003TSD1PG",
         "Debbie Rose",
         "I wish I would have read the reviews before I got this. My son really wanted it and his birthday is today. We just spent an hour trying to set up the track with the \"reusable\" tape and then it kept falling apart, so we gave up. NOT WORTH IT!",
         "what a pain!!!",
         "1284595200",
         null,
         null,
         "2010-09-16 00:00:00",
         "0",
         "1",
         "2010-09-07 00:00:00",
         "2012-12-22 00:00:00",
         "837 days 00:00:00",
         "0",
         "0",
         "241",
         "False",
         "False",
         "False",
         "False",
         "False",
         "False"
        ],
        [
         "1622710",
         "1",
         "3",
         "True",
         "09 8, 2010",
         "A2Z8CCYTBMUAQR",
         "B003TSD1PG",
         "Heather Guinn",
         "I thought this would be a more durable toy. It was cardboard and it has many pieces to be assembled. They require a cardboard piece in between the paths and they do not hold together even with the removable tape that is included. It might be usable if you used duct tape underneath but then you wouldn't be able to take it apart or rearrange the pieces. The company obviously knew it was faulty as they added the tape and extra instructions apart from the regular instructions. Extremely disappointing! I couldn't even get it together long enough to add the thin plastic strips that serve as the walls. I just piled it up and am leaving it for my husband to try to put together. Not worth the money I paid, not sure it would be worth my time if it were free! It would probably be better using a plastic ball or the zhu zhu pets arena.",
         "Disappointing!",
         "1283904000",
         null,
         null,
         "2010-09-08 00:00:00",
         "0",
         "1",
         "2010-09-07 00:00:00",
         "2012-12-22 00:00:00",
         "837 days 00:00:00",
         "0",
         "0",
         "834",
         "False",
         "False",
         "False",
         "False",
         "False",
         "False"
        ],
        [
         "1622711",
         "1",
         "21",
         "False",
         "09 7, 2010",
         "A3KZG7H18WLO3U",
         "B003TSD1PG",
         "Christina D.",
         "I have never been so disappointed in or frustrated by a toy. My 5 year old really wanted this, and even used his own money he saved to buy this. The track is merely thin strips of cardboard. It is supposed to hold together like puzzle pieces, but does not remotely stick together. You put two pieces together in one place and it slips out somewhere else. After 20 minutes fruitlessly trying to assemble a track, it just kept coming apart. I told my son we could tape it with strong packing tape on the backside, but then the whole \"interchangeable\" aspect become mute.  In the box, they included 2 small pages of \"removable tape\" squares (clearly an afterthought), but these proved to be about as effective as a small post it note holding the pieces together. They just got crumbled up in between the pieces. Even my 5 year old realized it was terrible, and not at all what he thought it would be. He said \"Mommy, it doesn't look anything like it does on TV, \" and was so disappointed.  He left for a while and I continued to work on this darn thing to try to make him happy. The edges are straight plastic strips that are supposed to bend and stick vertically into slits along the edges of the cardboard track. They do not work. Not in the slightest. If you try to curve them, guess what happens? The pressure pushes out the track. The frustration I felt attempting this about made me lose my mind. I finally got it to a point where a mini-track was sort of half done, and my son came back in. I warned him it was very fragile and to try not to touch it.  (Ridiculous instructions to play with a toy, huh??) Needless to say, once you put the moving bugs on it for 15 seconds, it all rips apart. Beyond disappointing. Save your money. The only \"positive\" in this whole experience was a decent lesson for my son about the falseness of toy commercials.  (This from a former advertising art director!)  The bugs are fine, he enjoys them. Use them on a train table with edges, use some blocks as obstacles and create bug mazes... works a whole lot better and is a lot more fun than this fragile nightmare.",
         "AWFUL!  Have never hated a toy more.",
         "1283817600",
         null,
         null,
         "2010-09-07 00:00:00",
         "0",
         "1",
         "2010-09-07 00:00:00",
         "2012-12-22 00:00:00",
         "837 days 00:00:00",
         "0",
         "0",
         "2101",
         "False",
         "False",
         "False",
         "False",
         "False",
         "False"
        ],
        [
         "1622712",
         "1",
         null,
         "True",
         "12 26, 2010",
         "A3F828ALYLFFNX",
         "B003TSD1PG",
         "Virginia Heisler",
         "We're going to do our best to build an arena out of hot wheels tracks.  Based on pictures and commercials, expected this to be plastic, snap together pieces.  It is flimsy, cardboard and after an hour of building the arena for my 7 year old son, he placed his bugs on it and it fell apart within 15 seconds.  Big waste of money, big waste of time, big disappointment for my son on Christmas!",
         "Biggest waste of money, ever!",
         "1293321600",
         null,
         null,
         "2010-12-26 00:00:00",
         "0",
         "1",
         "2010-09-07 00:00:00",
         "2012-12-22 00:00:00",
         "837 days 00:00:00",
         "0",
         "0",
         "391",
         "False",
         "False",
         "False",
         "False",
         "False",
         "False"
        ],
        [
         "1622713",
         "1",
         null,
         "False",
         "12 25, 2010",
         "A16I03QZR56ME8",
         "B003TSD1PG",
         "EMI CHASE",
         "I knew when I opened the box I was in trouble and as I sat there trying to make sence of what I was doing all I could think of was, Here was ANOTHER TOY COMPANY making a commerical about a toy that has NO! resembles to the commercial. You should be ashamed of yourself. I will NEVER buy another toy made by your company. Just the fact that am writing this is stupid because there is no doudt that your company does not give a, and you know what I mean. I will spread that word about this toy and your company. It is my wish that your company go BANKRUPT!!",
         "So very disappointing!!",
         "1293235200",
         null,
         null,
         "2010-12-25 00:00:00",
         "0",
         "1",
         "2010-09-07 00:00:00",
         "2012-12-22 00:00:00",
         "837 days 00:00:00",
         "0",
         "0",
         "555",
         "False",
         "False",
         "False",
         "False",
         "False",
         "False"
        ],
        [
         "1622714",
         "1",
         null,
         "False",
         "12 25, 2010",
         "AHP7D2ZN81OH2",
         "B003TSD1PG",
         "donkey_punch",
         "This thing is an unbelieveably worthless piece of garbage.  Like others have said, flimsy cardboard with thin plastic rails that are supposed to keep the bugs on the track....except you can't even get the rails to stay on.  Don't waste your money.",
         "What a piece of junk",
         "1293235200",
         null,
         null,
         "2010-12-25 00:00:00",
         "0",
         "1",
         "2010-09-07 00:00:00",
         "2012-12-22 00:00:00",
         "837 days 00:00:00",
         "0",
         "0",
         "247",
         "False",
         "False",
         "False",
         "False",
         "False",
         "False"
        ],
        [
         "1622715",
         "1",
         null,
         "False",
         "12 24, 2010",
         "A108MMYESM488V",
         "B003TSD1PG",
         "Cobmich",
         "I would rather have a lobotomy with a broken pop bottle than touch this travesty again.  I actually get a sick feeling to my stomach when I get within 3 feet of it.  Really.  The only reason I would ever buy one of these again would be to use it as kindling to start a fire to save my family's life during the next ice age.  Flimsy, incredibly frustrating to piece together (even with tape), and lasted about 10 minutes worth of play.  It doesn't lay flat, the plastic bumpers do not fit the spacing of the slots, and everything warps if you even sneeze on it.  The two kids on the front of the Nara Battle Arena box are not cheering, they are screaming in anger and hatred because they are playing with this horribly thought-out mess.  Stay away from this \"toy\".",
         "I throw up in my mouth when I look at this toy",
         "1293148800",
         null,
         null,
         "2010-12-24 00:00:00",
         "0",
         "1",
         "2010-09-07 00:00:00",
         "2012-12-22 00:00:00",
         "837 days 00:00:00",
         "0",
         "0",
         "763",
         "False",
         "False",
         "False",
         "False",
         "False",
         "False"
        ],
        [
         "1622716",
         "1",
         null,
         "False",
         "12 7, 2010",
         "AHAQH7CY0GE3Q",
         "B003TSD1PG",
         "MP56",
         "I agree with the other reviews. This really is rubbish. I bought it in a toyshop and then read the amazon reviews. Ooops! Anyway, instead of waiting to lose my temper with it on Christmas Day, I opened the box and hit on a great idea. I bought a meter-square piece of MDF, got some wood glue and stuck one of the arena designs to it. Okay, wrecks the interchangeability thing but as long as my six-year-old son never sees the box, never sees the other discarded pieces, and never sees the instruction sheet, he'll never know there was so much more. Which, of course, is a myth anyway. If you did manage to put this together without glue, hammer and nails, G-clamps and vices, you sure wouldn't want to take it apart again. Better some of the pieces stuck on MDF than all of the pieces on the bonfire. All I need now is another house big enough to hide a meter-square piece of MDF without an inquisitive six-year-old finding it. Thank goodness we don't have a chimney - you try explaining how Santa got down it with the MDF.",
         "Fool the kid",
         "1291680000",
         null,
         null,
         "2010-12-07 00:00:00",
         "0",
         "1",
         "2010-09-07 00:00:00",
         "2012-12-22 00:00:00",
         "837 days 00:00:00",
         "0",
         "0",
         "1023",
         "False",
         "False",
         "False",
         "False",
         "False",
         "False"
        ],
        [
         "1622717",
         "1",
         null,
         "False",
         "12 5, 2010",
         "AQJPG1KV1S1M",
         "B003TSD1PG",
         "C. Patterson",
         "Not even close to enjoyable for any age. The other reviews are right, this is a complete waste of time, money, and effort.",
         "It's a mistake",
         "1291507200",
         null,
         null,
         "2010-12-05 00:00:00",
         "0",
         "1",
         "2010-09-07 00:00:00",
         "2012-12-22 00:00:00",
         "837 days 00:00:00",
         "0",
         "0",
         "122",
         "False",
         "False",
         "False",
         "False",
         "False",
         "False"
        ],
        [
         "1622718",
         "1",
         null,
         "False",
         "12 5, 2010",
         "AVXH1WBCS7Z06",
         "B003TSD1PG",
         "Amdonn",
         "I am sitting here with my son after breaking the news to him that we must return his Chanukah gift. I am so frustrated and disappointed with this toy. These are my sons words (he is 7 years old): \"I feel really sad and this company makes really bad toys. It looks really bad and it really makes me angry. And I can't believe that it came with tape. It should just fit together. And I really don't know why they're still selling it.\" My 5 year old daughter says, \"I am really really angry because it doesn't stick together.\" As another reviewer stated, this is a very good lesson for my children. They now understand that some companies are more interested in making money than providing good quality products for children. I only wish I read the reviews prior to purchasing. I learned a lesson too.",
         "I Am So Upset About This Toy",
         "1291507200",
         null,
         null,
         "2010-12-05 00:00:00",
         "0",
         "1",
         "2010-09-07 00:00:00",
         "2012-12-22 00:00:00",
         "837 days 00:00:00",
         "0",
         "0",
         "798",
         "False",
         "False",
         "False",
         "False",
         "False",
         "False"
        ],
        [
         "1622719",
         "1",
         null,
         "False",
         "12 3, 2010",
         "A2JHZVJP8FZEV0",
         "B003TSD1PG",
         "Nick J. Diaz",
         "I bought this toy for my son because his brother has the hex bugs and he really liked the bugs in this set.  The track looked really cool.  Boy was I surprised when I opened the box to some flimsy cardboard pieces and plastic strips.  The pieces do not stay together and even the tape doesn't work. This was my son's birthday present and he was so upset that I couldn't get it put together.  After an hour of trying I completely gave up.  DO NOT BUY THIS TOY!!!!!!!!",
         "WORST TOY EVER!!!!!!",
         "1291334400",
         null,
         null,
         "2010-12-03 00:00:00",
         "0",
         "1",
         "2010-09-07 00:00:00",
         "2012-12-22 00:00:00",
         "837 days 00:00:00",
         "0",
         "0",
         "466",
         "False",
         "False",
         "False",
         "False",
         "False",
         "False"
        ],
        [
         "1622720",
         "1",
         null,
         "False",
         "11 26, 2010",
         "A2S13C8X2X8L4Z",
         "B003TSD1PG",
         "whoopsiedaizie",
         "After hours (yes!) of attempting to assemble this piece of junk, my kids' friend came over and accidentally bumped into it. The whole thing fell apart,and we threw it away. I plan on writing to the company. Horrible!!!",
         "ZERO STARS",
         "1290729600",
         null,
         null,
         "2010-11-26 00:00:00",
         "0",
         "1",
         "2010-09-07 00:00:00",
         "2012-12-22 00:00:00",
         "837 days 00:00:00",
         "0",
         "0",
         "218",
         "False",
         "False",
         "False",
         "False",
         "False",
         "False"
        ],
        [
         "1622721",
         "1",
         null,
         "True",
         "10 11, 2010",
         "A4NFHL3TKKY2I",
         "B003TSD1PG",
         "Sophie",
         "Was very disappointed in this product. There are 7 different designs and if you could be patient enough to put one of them together you might actually enjoy it.  The pieces are made of cardboard and do not stay snapped together.  Not only do you have to put the pieces together, but you have to put on the plastic guardrails which are very difficult to insert, that is, if you can keep the other pieces together while you are trying to manuever this.  I would not recommend this product for any one!!!!!!!",
         "Nara Battle Arena",
         "1286755200",
         null,
         null,
         "2010-10-11 00:00:00",
         "0",
         "1",
         "2010-09-07 00:00:00",
         "2012-12-22 00:00:00",
         "837 days 00:00:00",
         "0",
         "0",
         "505",
         "False",
         "False",
         "False",
         "False",
         "False",
         "False"
        ],
        [
         "2997523",
         "1",
         "3",
         "True",
         "07 20, 2015",
         "A4W0H04SKXVRS",
         "B00CTR512O",
         "Jgill42",
         "Piece of crap!",
         "Stay away!",
         "1437350400",
         null,
         null,
         "2015-07-20 00:00:00",
         "0",
         "1",
         "2013-09-08 00:00:00",
         "2017-09-10 00:00:00",
         "1463 days 00:00:00",
         "0",
         "0",
         "14",
         "False",
         "False",
         "False",
         "False",
         "False",
         "False"
        ],
        [
         "2997524",
         "1",
         "3",
         "False",
         "07 17, 2015",
         "AFCM7IQMLY1IE",
         "B00CTR512O",
         "Julia C. Wallace",
         "Junk! Tried two of them, immediately after hooking up and slowly turning the water on I heard pops and then it didn't work. Positively not worth one dime.",
         "Junk!",
         "1437091200",
         null,
         null,
         "2015-07-17 00:00:00",
         "0",
         "1",
         "2013-09-08 00:00:00",
         "2017-09-10 00:00:00",
         "1463 days 00:00:00",
         "0",
         "0",
         "154",
         "False",
         "False",
         "False",
         "False",
         "False",
         "False"
        ],
        [
         "2997525",
         "1",
         "5",
         "False",
         "07 12, 2015",
         "A277YF9YGW4GCG",
         "B00CTR512O",
         "S. Roper",
         "Yup. What everyone else said. Only paid $5 on sale but what a disappointment.",
         "Poop.",
         "1436659200",
         null,
         null,
         "2015-07-12 00:00:00",
         "0",
         "1",
         "2013-09-08 00:00:00",
         "2017-09-10 00:00:00",
         "1463 days 00:00:00",
         "0",
         "0",
         "77",
         "False",
         "False",
         "False",
         "False",
         "False",
         "False"
        ],
        [
         "2997526",
         "1",
         "5",
         "False",
         "07 4, 2015",
         "A17PFG1YGW3383",
         "B00CTR512O",
         "Lesley79",
         "Bought for $10 at Big Lots and feel royally ripped off! This thing doesn't work, it's a piece of junk. Only two of the tubes do anything, the rest just lay on the ground spouting water into the grass. I hate wasting money, even 10 bucks. Never buying from this brand again.",
         "Don't waste your money",
         "1435968000",
         null,
         null,
         "2015-07-04 00:00:00",
         "0",
         "1",
         "2013-09-08 00:00:00",
         "2017-09-10 00:00:00",
         "1463 days 00:00:00",
         "0",
         "0",
         "273",
         "False",
         "False",
         "False",
         "False",
         "False",
         "False"
        ],
        [
         "2997527",
         "1",
         "5",
         "False",
         "06 22, 2015",
         "A3JWGEN8FB7XC5",
         "B00CTR512O",
         "Nick W.",
         "This might as well just be an extension to your water hose.  There is no \"wiggling\" at all when it comes to this and most of the tentacles do not even work right out of the box.  My nephew was instantly bored and super disappointed with this worthless water toy.",
         "Perhaps the single worst water sprinkler for kids that I have ever been witness to.",
         "1434931200",
         null,
         null,
         "2015-06-22 00:00:00",
         "0",
         "1",
         "2013-09-08 00:00:00",
         "2017-09-10 00:00:00",
         "1463 days 00:00:00",
         "0",
         "0",
         "262",
         "False",
         "False",
         "False",
         "False",
         "False",
         "False"
        ],
        [
         "2997528",
         "1",
         "5",
         "False",
         "06 4, 2015",
         "A3IM3RUX2N3IZO",
         "B00CTR512O",
         "Samantha",
         "I bought this sprinkler randomly at Big Lots for my toddler, just as something fun to do this summer. Apparently I paid $10 for 30 seconds of fun. When hooked to the hose and turned on initially, only two of the arms \"worked.\" The rest stayed limp. Then, suddenly, the whole thing made a popping sound and water only trickled out around where the arms attach. Busted.\n\nAlso, this is an octopus sprinkler... with only six arms. Good one, Banzai.",
         "Can I give this zero stars?",
         "1433376000",
         null,
         null,
         "2015-06-04 00:00:00",
         "0",
         "1",
         "2013-09-08 00:00:00",
         "2017-09-10 00:00:00",
         "1463 days 00:00:00",
         "0",
         "0",
         "444",
         "False",
         "False",
         "False",
         "False",
         "False",
         "False"
        ],
        [
         "2997529",
         "1",
         "6",
         "False",
         "05 31, 2015",
         "A17JJ8KEQFPLER",
         "B00CTR512O",
         "Jason",
         "DO NOT BUY THIS. It sucks!!! purchased it from big lots, upon plugging it, was leaking everywhere had no pressure and didn't work, opened it ip found out the inside was cracked. Returned it and got it exhanged for a new one. Brought it home turned up water a bit got a little bit of arms moving then when i turned up the water a bit more heard a popping noise and was leaking everywhere again. Opened it up and got SAME PROBLEM!!! Cracked inside. Never buying from this brand again!!",
         "CRAPPY STUPID CHEAP TOY!",
         "1433030400",
         null,
         null,
         "2015-05-31 00:00:00",
         "0",
         "1",
         "2013-09-08 00:00:00",
         "2017-09-10 00:00:00",
         "1463 days 00:00:00",
         "0",
         "0",
         "483",
         "False",
         "False",
         "False",
         "False",
         "False",
         "False"
        ],
        [
         "2997530",
         "1",
         "4",
         "False",
         "10 12, 2014",
         "A1TAPIIEM2YI7E",
         "B00CTR512O",
         "John E. Chadwick",
         "Please don't waste your money on this product. We bought it for $2 at the mall without reading the reviews. Thank goodness we are only out two bucks!\nThe sprinkler is basically defective out of the box. The design is so flawed that it's made to immediately break.",
         "save your money",
         "1413072000",
         null,
         null,
         "2014-10-12 00:00:00",
         "0",
         "1",
         "2013-09-08 00:00:00",
         "2017-09-10 00:00:00",
         "1463 days 00:00:00",
         "0",
         "0",
         "263",
         "False",
         "False",
         "False",
         "False",
         "False",
         "False"
        ],
        [
         "2997531",
         "1",
         "5",
         "False",
         "09 30, 2013",
         "A3MXHZD3BSB1LQ",
         "B00CTR512O",
         "mjhs7english",
         "I purchased the Banzai Wiggling Octopus Sprinkler because it looked like an exciting summer activity to do on a hot day. Its foam arms were supposed to wiggle and sway because of the water pressure. The Octopus was cute colors and of course we wanted to try it out right away!\n\nAfter we got all ready, we hooked up the hose to the Banzai Sprinkler and turned it on. Nothing exciting happened. There was just water running out of the limp arms. We turned the water up a little. Then a couple of the arms fell off. A regular sprinkler is a lot better!\n\nI would not recommend buying the Banzai Wiggling Octopus Sprinkler because it is very disappointing and it doesn't work.",
         "Disappointing Octopus Sprinkler",
         "1380499200",
         null,
         null,
         "2013-09-30 00:00:00",
         "0",
         "1",
         "2013-09-08 00:00:00",
         "2017-09-10 00:00:00",
         "1463 days 00:00:00",
         "0",
         "0",
         "671",
         "False",
         "False",
         "False",
         "False",
         "False",
         "False"
        ],
        [
         "2997532",
         "1",
         "6",
         "False",
         "09 8, 2013",
         "A26XBZAJF2V7R9",
         "B00CTR512O",
         "Morton",
         "It blew off a water tube located inside one of the foam arms as soon as we hooked up a hose.  Without all the tubes connected to the octopus body, it doesn't build up pressure enough to spray water around, it just flows out of limp arms.  We have decent but not high water pressure, so this should not have happened.  To avoid having to return it, we fixed it with silicone and tried again a week later.  It did the same thing with a different arm the second time.  We returned it.",
         "Seriously defective and blew itself apart as soon as we hooked it up- twice",
         "1378598400",
         null,
         null,
         "2013-09-08 00:00:00",
         "0",
         "1",
         "2013-09-08 00:00:00",
         "2017-09-10 00:00:00",
         "1463 days 00:00:00",
         "0",
         "0",
         "481",
         "False",
         "False",
         "False",
         "False",
         "False",
         "False"
        ],
        [
         "2997533",
         "1",
         null,
         "False",
         "07 17, 2016",
         "A1YEUTIE8KHO5N",
         "B00CTR512O",
         "Amazon Customer",
         "All the other reviews sum it up. AWFUL product, very disappointed toddler on my hands. Arms just lay limp. Water only sprays out of the hose connection.  Returning this item.",
         "very disappointed toddler on my hands",
         "1468713600",
         null,
         null,
         "2016-07-17 00:00:00",
         "0",
         "1",
         "2013-09-08 00:00:00",
         "2017-09-10 00:00:00",
         "1463 days 00:00:00",
         "0",
         "0",
         "174",
         "False",
         "False",
         "False",
         "False",
         "False",
         "False"
        ],
        [
         "2997534",
         "1",
         "2",
         "False",
         "06 20, 2016",
         "A38A8MA9J0XZUR",
         "B00CTR512O",
         "DLS",
         "Easy operating instructions but despite this, one arm seems to take the full blast of water to such  extent that it fires straight into the air and doesn't wiggle. Another one or two wiggle periodically like they're experiencing their final moments before expiring and the rest lay there.  I adjusted the water flow, re-positioned the arms, relocated the sprinkler uphill, down hill, all with similar results.\n\nLame, lame, lame.  Save your money and skip this piece of crap.",
         "Fun concept, crappy product",
         "1466380800",
         null,
         null,
         "2016-06-20 00:00:00",
         "0",
         "1",
         "2013-09-08 00:00:00",
         "2017-09-10 00:00:00",
         "1463 days 00:00:00",
         "0",
         "0",
         "474",
         "False",
         "False",
         "False",
         "False",
         "False",
         "False"
        ],
        [
         "2997535",
         "1",
         "2",
         "False",
         "06 10, 2016",
         "A3OTKS4JQD41RH",
         "B00CTR512O",
         "Ryan",
         "Complete garbage!! We hooked it up and one arm wiggled around a bit... That's it. One semi wiggly arm. Woo hoo...What fun. Don't buy this piece of junk",
         "complete garbage!",
         "1465516800",
         null,
         null,
         "2016-06-10 00:00:00",
         "0",
         "1",
         "2013-09-08 00:00:00",
         "2017-09-10 00:00:00",
         "1463 days 00:00:00",
         "0",
         "0",
         "151",
         "False",
         "False",
         "False",
         "False",
         "False",
         "False"
        ],
        [
         "2997536",
         "1",
         "2",
         "False",
         "06 4, 2016",
         "AC5KK6QLJ7WQA",
         "B00CTR512O",
         "Carrie Peterson",
         "I should have checked the reviews before buying this.  It didn't work at all.  Literally - not even for a moment.  I followed the instructions perfectly.  The water just leaked out of all the connecting pieces - as though they didn't bother to seal the pieces together.  The foam arms never once moved, even at full pressure.  Total waste of money.",
         "Total waste of money",
         "1464998400",
         null,
         null,
         "2016-06-04 00:00:00",
         "0",
         "1",
         "2013-09-08 00:00:00",
         "2017-09-10 00:00:00",
         "1463 days 00:00:00",
         "0",
         "0",
         "348",
         "False",
         "False",
         "False",
         "False",
         "False",
         "False"
        ],
        [
         "2997537",
         "1",
         "3",
         "False",
         "05 22, 2016",
         "A2MQ2LWB2TYOEL",
         "B00CTR512O",
         "Tera A. Bevilacqua",
         "Buy this for your kids if you absolutely hate them. Just sit back and watch their little faces dampen with tears, because it clearly will not be coming from the only limp d*ck wiggle arm that kind of moves on this POS.",
         "Looking for a gift for a horrible kid? Look no further!",
         "1463875200",
         null,
         null,
         "2016-05-22 00:00:00",
         "0",
         "1",
         "2013-09-08 00:00:00",
         "2017-09-10 00:00:00",
         "1463 days 00:00:00",
         "0",
         "0",
         "218",
         "False",
         "False",
         "False",
         "False",
         "False",
         "False"
        ],
        [
         "2997538",
         "1",
         "5",
         "True",
         "09 9, 2015",
         "A2D8PW9SHD7LGH",
         "B00CTR512O",
         "toby tieman",
         "This is a piece of crap. The hoses blew off first time turning it on! DO not recommend",
         "One Star",
         "1441756800",
         null,
         null,
         "2015-09-09 00:00:00",
         "0",
         "1",
         "2013-09-08 00:00:00",
         "2017-09-10 00:00:00",
         "1463 days 00:00:00",
         "0",
         "0",
         "86",
         "False",
         "False",
         "False",
         "False",
         "False",
         "False"
        ],
        [
         "2997539",
         "1",
         "5",
         "True",
         "08 18, 2015",
         "A3R1MDK6J9TRQE",
         "B00CTR512O",
         "rgordon",
         "We have high pressure water and it cracked the internal working within a couple days.  Tried to fix but for price it wasn't worth it. Just tossed it.",
         "Broke",
         "1439856000",
         null,
         null,
         "2015-08-18 00:00:00",
         "0",
         "1",
         "2013-09-08 00:00:00",
         "2017-09-10 00:00:00",
         "1463 days 00:00:00",
         "0",
         "0",
         "149",
         "False",
         "False",
         "False",
         "False",
         "False",
         "False"
        ],
        [
         "2997540",
         "1",
         "5",
         "True",
         "08 17, 2015",
         "AUCCDBLEOF4JN",
         "B00CTR512O",
         "C. Foley",
         "This was the biggest waste of money I have spent on Amazon.  I bought it as a birthday gift and kept it wrapped for a few weeks.  When the birthday party came, we opened it up and connected it to the hose.  Water sprayed everywhere - except out the tentacles.  There was no seal anywhere on this item.  The connection leaked, the entire bottom panel leaked, each tentacle leaked at the connection.  It was very disappointing to the children who were excited to use it.  And because I waited to give it as a gift, the time to return it has passed.  I am very disappointed and will avoid Banzai toys in the future.",
         "Waste of Money",
         "1439769600",
         null,
         null,
         "2015-08-17 00:00:00",
         "0",
         "1",
         "2013-09-08 00:00:00",
         "2017-09-10 00:00:00",
         "1463 days 00:00:00",
         "0",
         "0",
         "612",
         "False",
         "False",
         "False",
         "False",
         "False",
         "False"
        ],
        [
         "2997541",
         "1",
         "8",
         "False",
         "08 14, 2015",
         "ABSBGE5MBXLVW",
         "B00CTR512O",
         "Katrina",
         "We bought one of these, turned the water on, and he was awesome! For the 2 seconds he worked. Then heard a \"Pop\" and no more water coming out. Exchanged it for a new one. A few of the arms worked for a few seconds, and then this did the same thing. Worthless.",
         "Terrible - don't buy.",
         "1439510400",
         "['https://images-na.ssl-images-amazon.com/images/I/91qJxSCEnxL._SY88.jpg']",
         null,
         "2015-08-14 00:00:00",
         "0",
         "1",
         "2013-09-08 00:00:00",
         "2017-09-10 00:00:00",
         "1463 days 00:00:00",
         "0",
         "0",
         "259",
         "False",
         "False",
         "False",
         "False",
         "False",
         "False"
        ],
        [
         "2997542",
         "1",
         "4",
         "False",
         "07 25, 2015",
         "A1GVQ6K2Y8J7K0",
         "B00CTR512O",
         "A. Cald",
         "The arms just laid down and water squirted straight out to the ground. Even at the highest setting. Absolute piece of garbage.",
         "Don't even think about it.",
         "1437782400",
         null,
         null,
         "2015-07-25 00:00:00",
         "0",
         "1",
         "2013-09-08 00:00:00",
         "2017-09-10 00:00:00",
         "1463 days 00:00:00",
         "0",
         "0",
         "126",
         "False",
         "False",
         "False",
         "False",
         "False",
         "False"
        ],
        [
         "4330087",
         "1",
         "3",
         "True",
         "02 25, 2016",
         "A2EHYFCXWE3YSB",
         "B00QL0BUQ6",
         "john doe",
         "title is misleading.  item for sale is only one pack of khans.",
         "liars...",
         "1456358400",
         null,
         null,
         "2016-02-25 00:00:00",
         "0",
         "1",
         "2016-02-19 00:00:00",
         "2016-03-18 00:00:00",
         "28 days 00:00:00",
         "0",
         "0",
         "62",
         "False",
         "False",
         "False",
         "False",
         "False",
         "False"
        ],
        [
         "4330088",
         "1",
         null,
         "True",
         "02 19, 2016",
         "A2QRSMA9PZKOMQ",
         "B00QL0BUQ6",
         "Amazon Customer",
         "Do not buy this you only get one pack, it is not twelve like the seller implies! Complete rip off and a big waste of money",
         "Scam! DO NOT BUY",
         "1455840000",
         null,
         null,
         "2016-02-19 00:00:00",
         "0",
         "1",
         "2016-02-19 00:00:00",
         "2016-03-18 00:00:00",
         "28 days 00:00:00",
         "0",
         "0",
         "122",
         "False",
         "False",
         "False",
         "False",
         "False",
         "False"
        ],
        [
         "5730056",
         "1",
         "4",
         "True",
         "12 30, 2016",
         "A13X9JRI6Q15F6",
         "B01H4U7TX4",
         "Kindle Customer",
         "The product description states 6 mini tins of crazy Aaron's thinking putty. I only received one.  This is false advertising, and true disappointment to a mother who ordered this specifically because I have multiple kids.",
         "NOT WHAT IS DESCRIBED",
         "1483056000",
         null,
         null,
         "2016-12-30 00:00:00",
         "0",
         "1",
         "2016-12-29 00:00:00",
         "2017-02-04 00:00:00",
         "37 days 00:00:00",
         "0",
         "0",
         "220",
         "False",
         "False",
         "False",
         "False",
         "False",
         "False"
        ],
        [
         "5730057",
         "1",
         "3",
         "True",
         "12 29, 2016",
         "A2ED6ARY3EUYQ6",
         "B01H4U7TX4",
         "T. Inzer",
         "Dang!! I wish that I would have read the reviews here before I bought this. I too only got 1 mini tin NOT 6 of them. I'm so disappointed!!!",
         "Not As Described",
         "1482969600",
         null,
         null,
         "2016-12-29 00:00:00",
         "0",
         "1",
         "2016-12-29 00:00:00",
         "2017-02-04 00:00:00",
         "37 days 00:00:00",
         "0",
         "0",
         "139",
         "False",
         "False",
         "False",
         "False",
         "False",
         "False"
        ],
        [
         "5730058",
         "1",
         "5",
         "True",
         "12 29, 2016",
         "A165HS2N7K2U00",
         "B01H4U7TX4",
         "Reviewer",
         "The one product I received seems fine. Will become puttylike after stretching.\nPurchased 2 orders of 6 tins each. Then a third order separately. Should have received 18 but got 3 of one type only. That's 3 small tins for $33.\nWas told to reorder so I did. Another $33. on my card and 2 days later received the same...1 tin for each order instead of 6. And they are all the same exact kind.",
         "1 tin, 1 type...on 6 different orders!",
         "1482969600",
         null,
         null,
         "2016-12-29 00:00:00",
         "0",
         "1",
         "2016-12-29 00:00:00",
         "2017-02-04 00:00:00",
         "37 days 00:00:00",
         "0",
         "0",
         "389",
         "False",
         "False",
         "False",
         "False",
         "False",
         "False"
        ],
        [
         "5730059",
         "1",
         "2",
         "True",
         "12 29, 2016",
         "A1Y9V0PF28K0TY",
         "B01H4U7TX4",
         "Amazon Customer",
         "1 tin only, not 6!!",
         "One Star",
         "1482969600",
         "['https://images-na.ssl-images-amazon.com/images/I/71kVYtG2+jL._SY88.jpg', 'https://images-na.ssl-images-amazon.com/images/I/71kVYtG2+jL._SY88.jpg']",
         null,
         "2016-12-29 00:00:00",
         "0",
         "1",
         "2016-12-29 00:00:00",
         "2017-02-04 00:00:00",
         "37 days 00:00:00",
         "0",
         "0",
         "19",
         "False",
         "False",
         "False",
         "False",
         "False",
         "False"
        ]
       ],
       "shape": {
        "columns": 27,
        "rows": 32564
       }
      },
      "text/html": [
       "<div>\n",
       "<style scoped>\n",
       "    .dataframe tbody tr th:only-of-type {\n",
       "        vertical-align: middle;\n",
       "    }\n",
       "\n",
       "    .dataframe tbody tr th {\n",
       "        vertical-align: top;\n",
       "    }\n",
       "\n",
       "    .dataframe thead th {\n",
       "        text-align: right;\n",
       "    }\n",
       "</style>\n",
       "<table border=\"1\" class=\"dataframe\">\n",
       "  <thead>\n",
       "    <tr style=\"text-align: right;\">\n",
       "      <th></th>\n",
       "      <th>overall</th>\n",
       "      <th>vote</th>\n",
       "      <th>verified</th>\n",
       "      <th>reviewTime</th>\n",
       "      <th>reviewerID</th>\n",
       "      <th>asin</th>\n",
       "      <th>reviewerName</th>\n",
       "      <th>reviewText</th>\n",
       "      <th>summary</th>\n",
       "      <th>unixReviewTime</th>\n",
       "      <th>...</th>\n",
       "      <th>product_lifespan</th>\n",
       "      <th>is_bot</th>\n",
       "      <th>num_bots_per_asin</th>\n",
       "      <th>review_length</th>\n",
       "      <th>contains_dangerous</th>\n",
       "      <th>contains_hazardous</th>\n",
       "      <th>contains_unsafe</th>\n",
       "      <th>contains_risk</th>\n",
       "      <th>contains_warning</th>\n",
       "      <th>contains_alert</th>\n",
       "    </tr>\n",
       "  </thead>\n",
       "  <tbody>\n",
       "    <tr>\n",
       "      <th>1253564</th>\n",
       "      <td>1</td>\n",
       "      <td>NaN</td>\n",
       "      <td>False</td>\n",
       "      <td>12 31, 2010</td>\n",
       "      <td>A1B9X0G6FS8J2K</td>\n",
       "      <td>B001NLQIMY</td>\n",
       "      <td>SnGMommy2010</td>\n",
       "      <td>Failed to research this before buying it at To...</td>\n",
       "      <td>Huge Disapointment!!</td>\n",
       "      <td>1293753600</td>\n",
       "      <td>...</td>\n",
       "      <td>2436 days</td>\n",
       "      <td>0</td>\n",
       "      <td>0</td>\n",
       "      <td>253</td>\n",
       "      <td>False</td>\n",
       "      <td>False</td>\n",
       "      <td>False</td>\n",
       "      <td>False</td>\n",
       "      <td>False</td>\n",
       "      <td>False</td>\n",
       "    </tr>\n",
       "    <tr>\n",
       "      <th>1253565</th>\n",
       "      <td>1</td>\n",
       "      <td>10</td>\n",
       "      <td>False</td>\n",
       "      <td>12 26, 2009</td>\n",
       "      <td>A1M2C3Y0EBYFW8</td>\n",
       "      <td>B001NLQIMY</td>\n",
       "      <td>K. Bartlett</td>\n",
       "      <td>I purchased this microscope at Toys R Us, wher...</td>\n",
       "      <td>This is a terrible microscope!</td>\n",
       "      <td>1261785600</td>\n",
       "      <td>...</td>\n",
       "      <td>2436 days</td>\n",
       "      <td>0</td>\n",
       "      <td>0</td>\n",
       "      <td>1332</td>\n",
       "      <td>False</td>\n",
       "      <td>False</td>\n",
       "      <td>False</td>\n",
       "      <td>False</td>\n",
       "      <td>False</td>\n",
       "      <td>False</td>\n",
       "    </tr>\n",
       "    <tr>\n",
       "      <th>1253566</th>\n",
       "      <td>1</td>\n",
       "      <td>8</td>\n",
       "      <td>False</td>\n",
       "      <td>12 25, 2009</td>\n",
       "      <td>A36PSQCZFBJK87</td>\n",
       "      <td>B001NLQIMY</td>\n",
       "      <td>Micheal Hicky</td>\n",
       "      <td>If this company had any quality controls they ...</td>\n",
       "      <td>Do not buy</td>\n",
       "      <td>1261699200</td>\n",
       "      <td>...</td>\n",
       "      <td>2436 days</td>\n",
       "      <td>0</td>\n",
       "      <td>0</td>\n",
       "      <td>573</td>\n",
       "      <td>False</td>\n",
       "      <td>False</td>\n",
       "      <td>False</td>\n",
       "      <td>False</td>\n",
       "      <td>False</td>\n",
       "      <td>False</td>\n",
       "    </tr>\n",
       "    <tr>\n",
       "      <th>1253567</th>\n",
       "      <td>1</td>\n",
       "      <td>14</td>\n",
       "      <td>False</td>\n",
       "      <td>12 6, 2009</td>\n",
       "      <td>A6RO196CVEHGA</td>\n",
       "      <td>B001NLQIMY</td>\n",
       "      <td>Jay A. Fisher</td>\n",
       "      <td>Upon opening the box it looks pretty cool. Thi...</td>\n",
       "      <td>Save your money</td>\n",
       "      <td>1260057600</td>\n",
       "      <td>...</td>\n",
       "      <td>2436 days</td>\n",
       "      <td>0</td>\n",
       "      <td>0</td>\n",
       "      <td>574</td>\n",
       "      <td>False</td>\n",
       "      <td>False</td>\n",
       "      <td>False</td>\n",
       "      <td>False</td>\n",
       "      <td>False</td>\n",
       "      <td>False</td>\n",
       "    </tr>\n",
       "    <tr>\n",
       "      <th>1274822</th>\n",
       "      <td>1</td>\n",
       "      <td>3</td>\n",
       "      <td>True</td>\n",
       "      <td>02 18, 2016</td>\n",
       "      <td>A2RK26ULF482RQ</td>\n",
       "      <td>B001Q5TUTK</td>\n",
       "      <td>S. Berg</td>\n",
       "      <td>Very misleading.  Thought there was six like t...</td>\n",
       "      <td>Misleading</td>\n",
       "      <td>1455753600</td>\n",
       "      <td>...</td>\n",
       "      <td>1319 days</td>\n",
       "      <td>0</td>\n",
       "      <td>0</td>\n",
       "      <td>85</td>\n",
       "      <td>False</td>\n",
       "      <td>False</td>\n",
       "      <td>False</td>\n",
       "      <td>False</td>\n",
       "      <td>False</td>\n",
       "      <td>False</td>\n",
       "    </tr>\n",
       "    <tr>\n",
       "      <th>...</th>\n",
       "      <td>...</td>\n",
       "      <td>...</td>\n",
       "      <td>...</td>\n",
       "      <td>...</td>\n",
       "      <td>...</td>\n",
       "      <td>...</td>\n",
       "      <td>...</td>\n",
       "      <td>...</td>\n",
       "      <td>...</td>\n",
       "      <td>...</td>\n",
       "      <td>...</td>\n",
       "      <td>...</td>\n",
       "      <td>...</td>\n",
       "      <td>...</td>\n",
       "      <td>...</td>\n",
       "      <td>...</td>\n",
       "      <td>...</td>\n",
       "      <td>...</td>\n",
       "      <td>...</td>\n",
       "      <td>...</td>\n",
       "      <td>...</td>\n",
       "    </tr>\n",
       "    <tr>\n",
       "      <th>8200969</th>\n",
       "      <td>1</td>\n",
       "      <td>NaN</td>\n",
       "      <td>False</td>\n",
       "      <td>08 4, 2016</td>\n",
       "      <td>A1LJ87B0DZ8SFQ</td>\n",
       "      <td>B01HIZYSP2</td>\n",
       "      <td>Phantom Fox</td>\n",
       "      <td>the slide is dangerous and bestway (the design...</td>\n",
       "      <td>BESTWAY IS A JOKE</td>\n",
       "      <td>1470268800</td>\n",
       "      <td>...</td>\n",
       "      <td>687 days</td>\n",
       "      <td>0</td>\n",
       "      <td>0</td>\n",
       "      <td>217</td>\n",
       "      <td>True</td>\n",
       "      <td>False</td>\n",
       "      <td>False</td>\n",
       "      <td>False</td>\n",
       "      <td>False</td>\n",
       "      <td>False</td>\n",
       "    </tr>\n",
       "    <tr>\n",
       "      <th>8201016</th>\n",
       "      <td>1</td>\n",
       "      <td>NaN</td>\n",
       "      <td>True</td>\n",
       "      <td>12 26, 2016</td>\n",
       "      <td>A2OXDPD5ADSVL</td>\n",
       "      <td>B01HJ4SITO</td>\n",
       "      <td>Melinda Bryant</td>\n",
       "      <td>Very cheaply made not for under 2 years old</td>\n",
       "      <td>One Star</td>\n",
       "      <td>1482710400</td>\n",
       "      <td>...</td>\n",
       "      <td>0 days</td>\n",
       "      <td>0</td>\n",
       "      <td>0</td>\n",
       "      <td>43</td>\n",
       "      <td>False</td>\n",
       "      <td>False</td>\n",
       "      <td>False</td>\n",
       "      <td>False</td>\n",
       "      <td>False</td>\n",
       "      <td>False</td>\n",
       "    </tr>\n",
       "    <tr>\n",
       "      <th>8201030</th>\n",
       "      <td>1</td>\n",
       "      <td>NaN</td>\n",
       "      <td>False</td>\n",
       "      <td>11 23, 2016</td>\n",
       "      <td>A5H7FFRD7FBJL</td>\n",
       "      <td>B01HJ87EUE</td>\n",
       "      <td>Jason Parker</td>\n",
       "      <td>This is a fake. Do not buy unless you are ok w...</td>\n",
       "      <td>FAKE!</td>\n",
       "      <td>1479859200</td>\n",
       "      <td>...</td>\n",
       "      <td>0 days</td>\n",
       "      <td>0</td>\n",
       "      <td>0</td>\n",
       "      <td>70</td>\n",
       "      <td>False</td>\n",
       "      <td>False</td>\n",
       "      <td>False</td>\n",
       "      <td>False</td>\n",
       "      <td>False</td>\n",
       "      <td>False</td>\n",
       "    </tr>\n",
       "    <tr>\n",
       "      <th>8201070</th>\n",
       "      <td>1</td>\n",
       "      <td>NaN</td>\n",
       "      <td>True</td>\n",
       "      <td>01 1, 2017</td>\n",
       "      <td>A1VI1J5EQUSAJN</td>\n",
       "      <td>B01HJ9TSFW</td>\n",
       "      <td>Zack Seevers</td>\n",
       "      <td>Will not work. Won't pump water. Plunger has a...</td>\n",
       "      <td>Waste of money</td>\n",
       "      <td>1483228800</td>\n",
       "      <td>...</td>\n",
       "      <td>0 days</td>\n",
       "      <td>0</td>\n",
       "      <td>0</td>\n",
       "      <td>113</td>\n",
       "      <td>False</td>\n",
       "      <td>False</td>\n",
       "      <td>False</td>\n",
       "      <td>False</td>\n",
       "      <td>False</td>\n",
       "      <td>False</td>\n",
       "    </tr>\n",
       "    <tr>\n",
       "      <th>8201115</th>\n",
       "      <td>1</td>\n",
       "      <td>NaN</td>\n",
       "      <td>True</td>\n",
       "      <td>06 25, 2017</td>\n",
       "      <td>A3M24G3TNW6SVI</td>\n",
       "      <td>B01HJBARLO</td>\n",
       "      <td>Patricia</td>\n",
       "      <td>Too small</td>\n",
       "      <td>Not what I thought</td>\n",
       "      <td>1498348800</td>\n",
       "      <td>...</td>\n",
       "      <td>0 days</td>\n",
       "      <td>0</td>\n",
       "      <td>0</td>\n",
       "      <td>9</td>\n",
       "      <td>False</td>\n",
       "      <td>False</td>\n",
       "      <td>False</td>\n",
       "      <td>False</td>\n",
       "      <td>False</td>\n",
       "      <td>False</td>\n",
       "    </tr>\n",
       "  </tbody>\n",
       "</table>\n",
       "<p>32564 rows × 27 columns</p>\n",
       "</div>"
      ],
      "text/plain": [
       "         overall vote  verified   reviewTime      reviewerID        asin  \\\n",
       "1253564        1  NaN     False  12 31, 2010  A1B9X0G6FS8J2K  B001NLQIMY   \n",
       "1253565        1   10     False  12 26, 2009  A1M2C3Y0EBYFW8  B001NLQIMY   \n",
       "1253566        1    8     False  12 25, 2009  A36PSQCZFBJK87  B001NLQIMY   \n",
       "1253567        1   14     False   12 6, 2009   A6RO196CVEHGA  B001NLQIMY   \n",
       "1274822        1    3      True  02 18, 2016  A2RK26ULF482RQ  B001Q5TUTK   \n",
       "...          ...  ...       ...          ...             ...         ...   \n",
       "8200969        1  NaN     False   08 4, 2016  A1LJ87B0DZ8SFQ  B01HIZYSP2   \n",
       "8201016        1  NaN      True  12 26, 2016   A2OXDPD5ADSVL  B01HJ4SITO   \n",
       "8201030        1  NaN     False  11 23, 2016   A5H7FFRD7FBJL  B01HJ87EUE   \n",
       "8201070        1  NaN      True   01 1, 2017  A1VI1J5EQUSAJN  B01HJ9TSFW   \n",
       "8201115        1  NaN      True  06 25, 2017  A3M24G3TNW6SVI  B01HJBARLO   \n",
       "\n",
       "           reviewerName                                         reviewText  \\\n",
       "1253564    SnGMommy2010  Failed to research this before buying it at To...   \n",
       "1253565     K. Bartlett  I purchased this microscope at Toys R Us, wher...   \n",
       "1253566   Micheal Hicky  If this company had any quality controls they ...   \n",
       "1253567   Jay A. Fisher  Upon opening the box it looks pretty cool. Thi...   \n",
       "1274822         S. Berg  Very misleading.  Thought there was six like t...   \n",
       "...                 ...                                                ...   \n",
       "8200969     Phantom Fox  the slide is dangerous and bestway (the design...   \n",
       "8201016  Melinda Bryant        Very cheaply made not for under 2 years old   \n",
       "8201030    Jason Parker  This is a fake. Do not buy unless you are ok w...   \n",
       "8201070    Zack Seevers  Will not work. Won't pump water. Plunger has a...   \n",
       "8201115        Patricia                                          Too small   \n",
       "\n",
       "                                summary  unixReviewTime  ... product_lifespan  \\\n",
       "1253564            Huge Disapointment!!      1293753600  ...        2436 days   \n",
       "1253565  This is a terrible microscope!      1261785600  ...        2436 days   \n",
       "1253566                      Do not buy      1261699200  ...        2436 days   \n",
       "1253567                 Save your money      1260057600  ...        2436 days   \n",
       "1274822                      Misleading      1455753600  ...        1319 days   \n",
       "...                                 ...             ...  ...              ...   \n",
       "8200969               BESTWAY IS A JOKE      1470268800  ...         687 days   \n",
       "8201016                        One Star      1482710400  ...           0 days   \n",
       "8201030                           FAKE!      1479859200  ...           0 days   \n",
       "8201070                  Waste of money      1483228800  ...           0 days   \n",
       "8201115              Not what I thought      1498348800  ...           0 days   \n",
       "\n",
       "        is_bot num_bots_per_asin  review_length  contains_dangerous  \\\n",
       "1253564      0                 0            253               False   \n",
       "1253565      0                 0           1332               False   \n",
       "1253566      0                 0            573               False   \n",
       "1253567      0                 0            574               False   \n",
       "1274822      0                 0             85               False   \n",
       "...        ...               ...            ...                 ...   \n",
       "8200969      0                 0            217                True   \n",
       "8201016      0                 0             43               False   \n",
       "8201030      0                 0             70               False   \n",
       "8201070      0                 0            113               False   \n",
       "8201115      0                 0              9               False   \n",
       "\n",
       "        contains_hazardous contains_unsafe contains_risk  contains_warning  \\\n",
       "1253564              False           False         False             False   \n",
       "1253565              False           False         False             False   \n",
       "1253566              False           False         False             False   \n",
       "1253567              False           False         False             False   \n",
       "1274822              False           False         False             False   \n",
       "...                    ...             ...           ...               ...   \n",
       "8200969              False           False         False             False   \n",
       "8201016              False           False         False             False   \n",
       "8201030              False           False         False             False   \n",
       "8201070              False           False         False             False   \n",
       "8201115              False           False         False             False   \n",
       "\n",
       "         contains_alert  \n",
       "1253564           False  \n",
       "1253565           False  \n",
       "1253566           False  \n",
       "1253567           False  \n",
       "1274822           False  \n",
       "...                 ...  \n",
       "8200969           False  \n",
       "8201016           False  \n",
       "8201030           False  \n",
       "8201070           False  \n",
       "8201115           False  \n",
       "\n",
       "[32564 rows x 27 columns]"
      ]
     },
     "execution_count": 57,
     "metadata": {},
     "output_type": "execute_result"
    }
   ],
   "source": [
    "one_star_products"
   ]
  },
  {
   "cell_type": "code",
   "execution_count": 58,
   "id": "933c383c",
   "metadata": {},
   "outputs": [],
   "source": [
    "# for each product, take the average of overall rating\n",
    "avg_rating = reviews_df_raw.groupby('asin')['overall'].mean().reset_index()\n",
    "avg_rating.rename(columns={'overall': 'avg_overall'}, inplace=True)\n",
    "\n",
    "avg_var = reviews_df_raw.groupby('asin')['overall'].var().reset_index()\n",
    "avg_var.rename(columns={'overall': 'var_overall'}, inplace=True)\n",
    "\n"
   ]
  },
  {
   "cell_type": "code",
   "execution_count": 59,
   "id": "e02240b0",
   "metadata": {},
   "outputs": [
    {
     "data": {
      "application/vnd.microsoft.datawrangler.viewer.v0+json": {
       "columns": [
        {
         "name": "index",
         "rawType": "int64",
         "type": "integer"
        },
        {
         "name": "asin",
         "rawType": "object",
         "type": "string"
        },
        {
         "name": "avg_overall",
         "rawType": "float64",
         "type": "float"
        }
       ],
       "ref": "08b15482-e4af-40e7-94bc-f7d6394b7175",
       "rows": [
        [
         "4",
         "0006466222",
         "5.0"
        ],
        [
         "624791",
         "B01HJHA7GI",
         "5.0"
        ],
        [
         "0",
         "0000191639",
         "5.0"
        ],
        [
         "1",
         "0004950763",
         "5.0"
        ],
        [
         "9",
         "019848710X",
         "5.0"
        ],
        [
         "11",
         "0298752530",
         "5.0"
        ],
        [
         "624784",
         "B01HJBCGQS",
         "5.0"
        ],
        [
         "346247",
         "B00EY9X1HM",
         "5.0"
        ],
        [
         "346249",
         "B00EYA23KC",
         "5.0"
        ],
        [
         "346250",
         "B00EYA7L5E",
         "5.0"
        ],
        [
         "346256",
         "B00EYCCHQ0",
         "5.0"
        ],
        [
         "346257",
         "B00EYCDPAC",
         "5.0"
        ],
        [
         "346262",
         "B00EYDQXUK",
         "5.0"
        ],
        [
         "346263",
         "B00EYE3G8G",
         "5.0"
        ],
        [
         "346264",
         "B00EYE7FV0",
         "5.0"
        ],
        [
         "624751",
         "B01HJ9B7KG",
         "5.0"
        ],
        [
         "624753",
         "B01HJ9PL0S",
         "5.0"
        ],
        [
         "624754",
         "B01HJ9T5FU",
         "5.0"
        ],
        [
         "39",
         "0545747325",
         "5.0"
        ],
        [
         "41",
         "0545862582",
         "5.0"
        ],
        [
         "49",
         "0681309016",
         "5.0"
        ],
        [
         "50",
         "0681377453",
         "5.0"
        ],
        [
         "51",
         "0681537329",
         "5.0"
        ],
        [
         "20",
         "0298772221",
         "5.0"
        ],
        [
         "22",
         "0399232133",
         "5.0"
        ],
        [
         "624735",
         "B01HJ3ZX5M",
         "5.0"
        ],
        [
         "624736",
         "B01HJ45L3K",
         "5.0"
        ],
        [
         "624737",
         "B01HJ45N3S",
         "5.0"
        ],
        [
         "624739",
         "B01HJ4FRY8",
         "5.0"
        ],
        [
         "52",
         "0681859717",
         "5.0"
        ],
        [
         "55",
         "0692489649",
         "5.0"
        ],
        [
         "56",
         "0692571213",
         "5.0"
        ],
        [
         "61",
         "0735307970",
         "5.0"
        ],
        [
         "62",
         "0735308179",
         "5.0"
        ],
        [
         "63",
         "0735311536",
         "5.0"
        ],
        [
         "64",
         "0735320721",
         "5.0"
        ],
        [
         "67",
         "0735322848",
         "5.0"
        ],
        [
         "624747",
         "B01HJ8Y3NU",
         "5.0"
        ],
        [
         "624748",
         "B01HJ8YCZY",
         "5.0"
        ],
        [
         "69",
         "0735324239",
         "5.0"
        ],
        [
         "70",
         "0735327408",
         "5.0"
        ],
        [
         "72",
         "0735327785",
         "5.0"
        ],
        [
         "74",
         "0735329613",
         "5.0"
        ],
        [
         "77",
         "0735331251",
         "5.0"
        ],
        [
         "624724",
         "B01HIZFAPO",
         "5.0"
        ],
        [
         "624726",
         "B01HJ0HLKA",
         "5.0"
        ],
        [
         "624727",
         "B01HJ0LVLA",
         "5.0"
        ],
        [
         "624730",
         "B01HJ372J2",
         "5.0"
        ],
        [
         "624731",
         "B01HJ39XH6",
         "5.0"
        ],
        [
         "624732",
         "B01HJ3A3LQ",
         "5.0"
        ]
       ],
       "shape": {
        "columns": 2,
        "rows": 624792
       }
      },
      "text/html": [
       "<div>\n",
       "<style scoped>\n",
       "    .dataframe tbody tr th:only-of-type {\n",
       "        vertical-align: middle;\n",
       "    }\n",
       "\n",
       "    .dataframe tbody tr th {\n",
       "        vertical-align: top;\n",
       "    }\n",
       "\n",
       "    .dataframe thead th {\n",
       "        text-align: right;\n",
       "    }\n",
       "</style>\n",
       "<table border=\"1\" class=\"dataframe\">\n",
       "  <thead>\n",
       "    <tr style=\"text-align: right;\">\n",
       "      <th></th>\n",
       "      <th>asin</th>\n",
       "      <th>avg_overall</th>\n",
       "    </tr>\n",
       "  </thead>\n",
       "  <tbody>\n",
       "    <tr>\n",
       "      <th>4</th>\n",
       "      <td>0006466222</td>\n",
       "      <td>5.0</td>\n",
       "    </tr>\n",
       "    <tr>\n",
       "      <th>624791</th>\n",
       "      <td>B01HJHA7GI</td>\n",
       "      <td>5.0</td>\n",
       "    </tr>\n",
       "    <tr>\n",
       "      <th>0</th>\n",
       "      <td>0000191639</td>\n",
       "      <td>5.0</td>\n",
       "    </tr>\n",
       "    <tr>\n",
       "      <th>1</th>\n",
       "      <td>0004950763</td>\n",
       "      <td>5.0</td>\n",
       "    </tr>\n",
       "    <tr>\n",
       "      <th>9</th>\n",
       "      <td>019848710X</td>\n",
       "      <td>5.0</td>\n",
       "    </tr>\n",
       "    <tr>\n",
       "      <th>...</th>\n",
       "      <td>...</td>\n",
       "      <td>...</td>\n",
       "    </tr>\n",
       "    <tr>\n",
       "      <th>526648</th>\n",
       "      <td>B013BCWP7Y</td>\n",
       "      <td>1.0</td>\n",
       "    </tr>\n",
       "    <tr>\n",
       "      <th>526700</th>\n",
       "      <td>B013C1QNC2</td>\n",
       "      <td>1.0</td>\n",
       "    </tr>\n",
       "    <tr>\n",
       "      <th>500297</th>\n",
       "      <td>B00WUJ7X54</td>\n",
       "      <td>1.0</td>\n",
       "    </tr>\n",
       "    <tr>\n",
       "      <th>500296</th>\n",
       "      <td>B00WUIUWQ2</td>\n",
       "      <td>1.0</td>\n",
       "    </tr>\n",
       "    <tr>\n",
       "      <th>428819</th>\n",
       "      <td>B00MNK4HMC</td>\n",
       "      <td>1.0</td>\n",
       "    </tr>\n",
       "  </tbody>\n",
       "</table>\n",
       "<p>624792 rows × 2 columns</p>\n",
       "</div>"
      ],
      "text/plain": [
       "              asin  avg_overall\n",
       "4       0006466222          5.0\n",
       "624791  B01HJHA7GI          5.0\n",
       "0       0000191639          5.0\n",
       "1       0004950763          5.0\n",
       "9       019848710X          5.0\n",
       "...            ...          ...\n",
       "526648  B013BCWP7Y          1.0\n",
       "526700  B013C1QNC2          1.0\n",
       "500297  B00WUJ7X54          1.0\n",
       "500296  B00WUIUWQ2          1.0\n",
       "428819  B00MNK4HMC          1.0\n",
       "\n",
       "[624792 rows x 2 columns]"
      ]
     },
     "execution_count": 59,
     "metadata": {},
     "output_type": "execute_result"
    }
   ],
   "source": [
    "avg_rating.sort_values(by='avg_overall', ascending=False)"
   ]
  },
  {
   "cell_type": "code",
   "execution_count": 60,
   "id": "201f5e33",
   "metadata": {},
   "outputs": [
    {
     "data": {
      "application/vnd.microsoft.datawrangler.viewer.v0+json": {
       "columns": [
        {
         "name": "index",
         "rawType": "int64",
         "type": "integer"
        },
        {
         "name": "asin",
         "rawType": "object",
         "type": "string"
        },
        {
         "name": "var_overall",
         "rawType": "float64",
         "type": "float"
        }
       ],
       "ref": "20f350ee-9e02-482b-967c-5be3d6354aa8",
       "rows": [
        [
         "0",
         "0000191639",
         null
        ],
        [
         "1",
         "0004950763",
         null
        ],
        [
         "2",
         "0004983289",
         "0.19999999999999996"
        ],
        [
         "3",
         "0005069491",
         null
        ],
        [
         "4",
         "0006466222",
         null
        ],
        [
         "5",
         "0020232233",
         "1.936758893280632"
        ],
        [
         "6",
         "0096737581",
         "5.333333333333334"
        ],
        [
         "7",
         "014002316X",
         null
        ],
        [
         "8",
         "0152014764",
         "0.0769230769230769"
        ],
        [
         "9",
         "019848710X",
         null
        ],
        [
         "10",
         "0198487126",
         null
        ],
        [
         "11",
         "0298752530",
         "0.0"
        ],
        [
         "12",
         "0298752697",
         null
        ],
        [
         "13",
         "0298765705",
         "0.21428571428571427"
        ],
        [
         "14",
         "0298770016",
         null
        ],
        [
         "15",
         "0298770377",
         "0.0"
        ],
        [
         "16",
         "0298770415",
         null
        ],
        [
         "17",
         "0298770504",
         "0.0"
        ],
        [
         "18",
         "0298771357",
         null
        ],
        [
         "19",
         "0298771861",
         "0.0"
        ],
        [
         "20",
         "0298772221",
         "0.0"
        ],
        [
         "21",
         "038536539X",
         "2.256410256410256"
        ],
        [
         "22",
         "0399232133",
         null
        ],
        [
         "23",
         "0425066169",
         "0.6666666666666667"
        ],
        [
         "24",
         "0439838649",
         "0.5714285714285715"
        ],
        [
         "25",
         "0439927277",
         "0.24999999999999992"
        ],
        [
         "26",
         "0448447088",
         null
        ],
        [
         "27",
         "0486277577",
         "1.3241758241758246"
        ],
        [
         "28",
         "0486284115",
         "1.8777777777777775"
        ],
        [
         "29",
         "0486402029",
         "2.629166666666666"
        ],
        [
         "30",
         "0486427706",
         "0.31794871794871804"
        ],
        [
         "31",
         "0486448789",
         "2.0622852233676974"
        ],
        [
         "32",
         "0545020832",
         null
        ],
        [
         "33",
         "0545325234",
         "1.5523809523809522"
        ],
        [
         "34",
         "0545346193",
         "0.906896551724138"
        ],
        [
         "35",
         "0545449448",
         "4.000000000000001"
        ],
        [
         "36",
         "0545561647",
         "1.7104326196166404"
        ],
        [
         "37",
         "0545647770",
         "1.2777777777777775"
        ],
        [
         "38",
         "0545647789",
         "2.3333333333333335"
        ],
        [
         "39",
         "0545747325",
         "0.0"
        ],
        [
         "40",
         "0545858437",
         "0.5"
        ],
        [
         "41",
         "0545862582",
         "0.0"
        ],
        [
         "42",
         "0547775520",
         null
        ],
        [
         "43",
         "0615343287",
         "2.7"
        ],
        [
         "44",
         "0615638996",
         "0.5327641901245961"
        ],
        [
         "45",
         "064157388X",
         "0.2"
        ],
        [
         "46",
         "0641742126",
         "2.0"
        ],
        [
         "47",
         "0641832613",
         "0.19999999999999996"
        ],
        [
         "48",
         "0641869665",
         "1.1544715447154474"
        ],
        [
         "49",
         "0681309016",
         null
        ]
       ],
       "shape": {
        "columns": 2,
        "rows": 624792
       }
      },
      "text/html": [
       "<div>\n",
       "<style scoped>\n",
       "    .dataframe tbody tr th:only-of-type {\n",
       "        vertical-align: middle;\n",
       "    }\n",
       "\n",
       "    .dataframe tbody tr th {\n",
       "        vertical-align: top;\n",
       "    }\n",
       "\n",
       "    .dataframe thead th {\n",
       "        text-align: right;\n",
       "    }\n",
       "</style>\n",
       "<table border=\"1\" class=\"dataframe\">\n",
       "  <thead>\n",
       "    <tr style=\"text-align: right;\">\n",
       "      <th></th>\n",
       "      <th>asin</th>\n",
       "      <th>var_overall</th>\n",
       "    </tr>\n",
       "  </thead>\n",
       "  <tbody>\n",
       "    <tr>\n",
       "      <th>0</th>\n",
       "      <td>0000191639</td>\n",
       "      <td>NaN</td>\n",
       "    </tr>\n",
       "    <tr>\n",
       "      <th>1</th>\n",
       "      <td>0004950763</td>\n",
       "      <td>NaN</td>\n",
       "    </tr>\n",
       "    <tr>\n",
       "      <th>2</th>\n",
       "      <td>0004983289</td>\n",
       "      <td>0.200000</td>\n",
       "    </tr>\n",
       "    <tr>\n",
       "      <th>3</th>\n",
       "      <td>0005069491</td>\n",
       "      <td>NaN</td>\n",
       "    </tr>\n",
       "    <tr>\n",
       "      <th>4</th>\n",
       "      <td>0006466222</td>\n",
       "      <td>NaN</td>\n",
       "    </tr>\n",
       "    <tr>\n",
       "      <th>...</th>\n",
       "      <td>...</td>\n",
       "      <td>...</td>\n",
       "    </tr>\n",
       "    <tr>\n",
       "      <th>624787</th>\n",
       "      <td>B01HJDFWDK</td>\n",
       "      <td>1.144828</td>\n",
       "    </tr>\n",
       "    <tr>\n",
       "      <th>624788</th>\n",
       "      <td>B01HJDGVFS</td>\n",
       "      <td>3.200000</td>\n",
       "    </tr>\n",
       "    <tr>\n",
       "      <th>624789</th>\n",
       "      <td>B01HJDUNRU</td>\n",
       "      <td>1.492063</td>\n",
       "    </tr>\n",
       "    <tr>\n",
       "      <th>624790</th>\n",
       "      <td>B01HJFAGJI</td>\n",
       "      <td>2.077245</td>\n",
       "    </tr>\n",
       "    <tr>\n",
       "      <th>624791</th>\n",
       "      <td>B01HJHA7GI</td>\n",
       "      <td>0.000000</td>\n",
       "    </tr>\n",
       "  </tbody>\n",
       "</table>\n",
       "<p>624792 rows × 2 columns</p>\n",
       "</div>"
      ],
      "text/plain": [
       "              asin  var_overall\n",
       "0       0000191639          NaN\n",
       "1       0004950763          NaN\n",
       "2       0004983289     0.200000\n",
       "3       0005069491          NaN\n",
       "4       0006466222          NaN\n",
       "...            ...          ...\n",
       "624787  B01HJDFWDK     1.144828\n",
       "624788  B01HJDGVFS     3.200000\n",
       "624789  B01HJDUNRU     1.492063\n",
       "624790  B01HJFAGJI     2.077245\n",
       "624791  B01HJHA7GI     0.000000\n",
       "\n",
       "[624792 rows x 2 columns]"
      ]
     },
     "execution_count": 60,
     "metadata": {},
     "output_type": "execute_result"
    }
   ],
   "source": [
    "avg_var"
   ]
  },
  {
   "cell_type": "code",
   "execution_count": 61,
   "id": "1b26ee48",
   "metadata": {},
   "outputs": [],
   "source": [
    "avg_and_var_ratings = pd.merge(avg_rating, avg_var, on='asin').sort_values(by='avg_overall', ascending=False)"
   ]
  },
  {
   "cell_type": "code",
   "execution_count": 62,
   "id": "9a974a10",
   "metadata": {},
   "outputs": [
    {
     "data": {
      "image/png": "[encoded data removed]",
      "text/plain": [
       "<Figure size 640x480 with 1 Axes>"
      ]
     },
     "metadata": {},
     "output_type": "display_data"
    }
   ],
   "source": [
    "reviews_df_raw.loc[reviews_df_raw['asin']=='B01HJDFWDK'].sort_values('reviewTime').plot(x='reviewTime', y='overall', kind='line')\n",
    "# on the same plot, show the average overall rating for the product\n",
    "plt.axhline(y=avg_and_var_ratings.loc[avg_and_var_ratings['asin'] == 'B01HJDFWDK', 'avg_overall'].values[0], color='r', linestyle='--', label='Average Rating')\n",
    "plt.axhline(y=avg_and_var_ratings.loc[avg_and_var_ratings['asin'] == 'B01HJDFWDK', 'var_overall'].values[0], color='g', linestyle='--', label='Variance of Rating')\n",
    "plt.title('Overall Ratings Over Time for Product B01HJDFWDK')\n",
    "plt.xlabel('Review Time')\n",
    "plt.ylabel('Overall Rating')\n",
    "plt.legend(bbox_to_anchor=(1.05, 1), loc='upper left')\n",
    "plt.show()\n",
    "\n"
   ]
  },
  {
   "cell_type": "code",
   "execution_count": 63,
   "id": "4467a9e8",
   "metadata": {},
   "outputs": [
    {
     "data": {
      "text/plain": [
       "<Axes: xlabel='avg_overall', ylabel='Count'>"
      ]
     },
     "execution_count": 63,
     "metadata": {},
     "output_type": "execute_result"
    },
    {
     "data": {
      "image/png": "[encoded data removed]",
      "text/plain": [
       "<Figure size 640x480 with 1 Axes>"
      ]
     },
     "metadata": {},
     "output_type": "display_data"
    }
   ],
   "source": [
    "sns.histplot(avg_and_var_ratings['avg_overall'], bins=50)"
   ]
  },
  {
   "cell_type": "markdown",
   "id": "233504b2",
   "metadata": {},
   "source": [
    "WordCloud-ing"
   ]
  },
  {
   "cell_type": "code",
   "execution_count": null,
   "id": "7a202fb3",
   "metadata": {},
   "outputs": [],
   "source": [
    "# # word cloud of the most common words in the review text\n",
    "# from wordcloud import WordCloud\n",
    "# text = ' '.join(reviews_df_raw['reviewText'].dropna().astype(str).tolist())\n",
    "# wordcloud = WordCloud(width=800, height=400, background_color='white').generate(text)\n",
    "# plt.figure(figsize=(10, 5))\n",
    "# plt.imshow(wordcloud, interpolation='bilinear')\n",
    "# plt.axis('off')\n",
    "# plt.title('Word Cloud of Review Text')\n",
    "# plt.show()"
   ]
  },
  {
   "cell_type": "code",
   "execution_count": null,
   "id": "5918af7b",
   "metadata": {},
   "outputs": [],
   "source": [
    "# text = ' '.join(reviews_df_raw['summary'].dropna().astype(str).tolist())\n",
    "# wordcloud = WordCloud(width=800, height=400, background_color='white').generate(text)\n",
    "# plt.figure(figsize=(10, 5))\n",
    "# plt.imshow(wordcloud, interpolation='bilinear')\n",
    "# plt.axis('off')\n",
    "# plt.title('Word Cloud of Summary Text')\n",
    "# plt.show()"
   ]
  },
  {
   "cell_type": "code",
   "execution_count": null,
   "id": "89468863",
   "metadata": {},
   "outputs": [],
   "source": []
  }
 ],
 "metadata": {
  "kernelspec": {
   "display_name": "safeify-venv",
   "language": "python",
   "name": "python3"
  },
  "language_info": {
   "codemirror_mode": {
    "name": "ipython",
    "version": 3
   },
   "file_extension": ".py",
   "mimetype": "text/x-python",
   "name": "python",
   "nbconvert_exporter": "python",
   "pygments_lexer": "ipython3",
   "version": "3.13.5"
  }
 },
 "nbformat": 4,
 "nbformat_minor": 5
}
