{
 "cells": [
  {
   "cell_type": "code",
   "execution_count": 1,
   "id": "e3857ca3",
   "metadata": {},
   "outputs": [],
   "source": [
    "import pandas as pd\n",
    "import numpy as np\n",
    "import seaborn as sns\n",
    "import matplotlib.pyplot as plt"
   ]
  },
  {
   "cell_type": "markdown",
   "id": "b2fa465c",
   "metadata": {},
   "source": [
    "### Load the dataset"
   ]
  },
  {
   "cell_type": "code",
   "execution_count": 2,
   "id": "37ee60d3",
   "metadata": {},
   "outputs": [
    {
     "data": {
      "text/html": [
       "<div>\n",
       "<style scoped>\n",
       "    .dataframe tbody tr th:only-of-type {\n",
       "        vertical-align: middle;\n",
       "    }\n",
       "\n",
       "    .dataframe tbody tr th {\n",
       "        vertical-align: top;\n",
       "    }\n",
       "\n",
       "    .dataframe thead th {\n",
       "        text-align: right;\n",
       "    }\n",
       "</style>\n",
       "<table border=\"1\" class=\"dataframe\">\n",
       "  <thead>\n",
       "    <tr style=\"text-align: right;\">\n",
       "      <th></th>\n",
       "      <th>overall</th>\n",
       "      <th>vote</th>\n",
       "      <th>verified</th>\n",
       "      <th>reviewTime</th>\n",
       "      <th>reviewerID</th>\n",
       "      <th>asin</th>\n",
       "      <th>reviewerName</th>\n",
       "      <th>reviewText</th>\n",
       "      <th>summary</th>\n",
       "      <th>unixReviewTime</th>\n",
       "      <th>image</th>\n",
       "      <th>style</th>\n",
       "    </tr>\n",
       "  </thead>\n",
       "  <tbody>\n",
       "    <tr>\n",
       "      <th>0</th>\n",
       "      <td>2</td>\n",
       "      <td>12</td>\n",
       "      <td>False</td>\n",
       "      <td>09 22, 2016</td>\n",
       "      <td>A1IDMI31WEANAF</td>\n",
       "      <td>0020232233</td>\n",
       "      <td>Mackenzie Kent</td>\n",
       "      <td>When it comes to a DM's screen, the space on t...</td>\n",
       "      <td>The fact that 50% of this space is wasted on a...</td>\n",
       "      <td>1474502400</td>\n",
       "      <td>NaN</td>\n",
       "      <td>NaN</td>\n",
       "    </tr>\n",
       "    <tr>\n",
       "      <th>1</th>\n",
       "      <td>1</td>\n",
       "      <td>21</td>\n",
       "      <td>False</td>\n",
       "      <td>09 18, 2016</td>\n",
       "      <td>A4BCEVVZ4Y3V3</td>\n",
       "      <td>0020232233</td>\n",
       "      <td>Jonathan Christian</td>\n",
       "      <td>An Open Letter to GaleForce9*:\\n\\nYour unpaint...</td>\n",
       "      <td>Another worthless Dungeon Master's screen from...</td>\n",
       "      <td>1474156800</td>\n",
       "      <td>NaN</td>\n",
       "      <td>NaN</td>\n",
       "    </tr>\n",
       "    <tr>\n",
       "      <th>2</th>\n",
       "      <td>3</td>\n",
       "      <td>19</td>\n",
       "      <td>True</td>\n",
       "      <td>09 12, 2016</td>\n",
       "      <td>A2EZ9PY1IHHBX0</td>\n",
       "      <td>0020232233</td>\n",
       "      <td>unpreparedtodie</td>\n",
       "      <td>Nice art, nice printing.  Why two panels are f...</td>\n",
       "      <td>pretty, but also pretty useless</td>\n",
       "      <td>1473638400</td>\n",
       "      <td>NaN</td>\n",
       "      <td>NaN</td>\n",
       "    </tr>\n",
       "    <tr>\n",
       "      <th>3</th>\n",
       "      <td>5</td>\n",
       "      <td>NaN</td>\n",
       "      <td>True</td>\n",
       "      <td>03 2, 2017</td>\n",
       "      <td>A139PXTTC2LGHZ</td>\n",
       "      <td>0020232233</td>\n",
       "      <td>Ashley</td>\n",
       "      <td>Amazing buy! Bought it as a gift for our new d...</td>\n",
       "      <td>Five Stars</td>\n",
       "      <td>1488412800</td>\n",
       "      <td>NaN</td>\n",
       "      <td>NaN</td>\n",
       "    </tr>\n",
       "    <tr>\n",
       "      <th>4</th>\n",
       "      <td>1</td>\n",
       "      <td>3</td>\n",
       "      <td>True</td>\n",
       "      <td>02 8, 2017</td>\n",
       "      <td>A3IB33V29XIL8O</td>\n",
       "      <td>0020232233</td>\n",
       "      <td>Oghma_EM</td>\n",
       "      <td>As my review of GF9's previous screens these w...</td>\n",
       "      <td>Money trap</td>\n",
       "      <td>1486512000</td>\n",
       "      <td>NaN</td>\n",
       "      <td>NaN</td>\n",
       "    </tr>\n",
       "    <tr>\n",
       "      <th>...</th>\n",
       "      <td>...</td>\n",
       "      <td>...</td>\n",
       "      <td>...</td>\n",
       "      <td>...</td>\n",
       "      <td>...</td>\n",
       "      <td>...</td>\n",
       "      <td>...</td>\n",
       "      <td>...</td>\n",
       "      <td>...</td>\n",
       "      <td>...</td>\n",
       "      <td>...</td>\n",
       "      <td>...</td>\n",
       "    </tr>\n",
       "    <tr>\n",
       "      <th>8201226</th>\n",
       "      <td>5</td>\n",
       "      <td>NaN</td>\n",
       "      <td>False</td>\n",
       "      <td>12 7, 2017</td>\n",
       "      <td>A3OCDEVI6FGUWU</td>\n",
       "      <td>B01HJBAKIO</td>\n",
       "      <td>wilson</td>\n",
       "      <td>My son is happy!!!</td>\n",
       "      <td>Five Stars</td>\n",
       "      <td>1512604800</td>\n",
       "      <td>NaN</td>\n",
       "      <td>NaN</td>\n",
       "    </tr>\n",
       "    <tr>\n",
       "      <th>8201227</th>\n",
       "      <td>5</td>\n",
       "      <td>2</td>\n",
       "      <td>True</td>\n",
       "      <td>01 23, 2016</td>\n",
       "      <td>A1KTVUVADLKWZO</td>\n",
       "      <td>B01HJHA7GI</td>\n",
       "      <td>Raven the Maven</td>\n",
       "      <td>E My ten month old has had this for a few mont...</td>\n",
       "      <td>Fun for ten month old</td>\n",
       "      <td>1453507200</td>\n",
       "      <td>[https://images-na.ssl-images-amazon.com/image...</td>\n",
       "      <td>NaN</td>\n",
       "    </tr>\n",
       "    <tr>\n",
       "      <th>8201228</th>\n",
       "      <td>5</td>\n",
       "      <td>NaN</td>\n",
       "      <td>True</td>\n",
       "      <td>02 8, 2015</td>\n",
       "      <td>A2QCA9OE62IPZ4</td>\n",
       "      <td>B01HJHA7GI</td>\n",
       "      <td>crhug</td>\n",
       "      <td>perfect toy to keep baby amused</td>\n",
       "      <td>Five Stars</td>\n",
       "      <td>1423353600</td>\n",
       "      <td>NaN</td>\n",
       "      <td>NaN</td>\n",
       "    </tr>\n",
       "    <tr>\n",
       "      <th>8201229</th>\n",
       "      <td>5</td>\n",
       "      <td>NaN</td>\n",
       "      <td>True</td>\n",
       "      <td>12 31, 2014</td>\n",
       "      <td>A3N28JAZYS4L9O</td>\n",
       "      <td>B01HJHA7GI</td>\n",
       "      <td>Cindy Volk</td>\n",
       "      <td>Perfect</td>\n",
       "      <td>Five Stars</td>\n",
       "      <td>1419984000</td>\n",
       "      <td>NaN</td>\n",
       "      <td>NaN</td>\n",
       "    </tr>\n",
       "    <tr>\n",
       "      <th>8201230</th>\n",
       "      <td>5</td>\n",
       "      <td>NaN</td>\n",
       "      <td>True</td>\n",
       "      <td>11 11, 2014</td>\n",
       "      <td>A2OGYZRYRSVQZJ</td>\n",
       "      <td>B01HJHA7GI</td>\n",
       "      <td>Ostinato_Parody</td>\n",
       "      <td>I am based in the UK and I bought this item as...</td>\n",
       "      <td>Cracking gift</td>\n",
       "      <td>1415664000</td>\n",
       "      <td>NaN</td>\n",
       "      <td>NaN</td>\n",
       "    </tr>\n",
       "  </tbody>\n",
       "</table>\n",
       "<p>8201231 rows × 12 columns</p>\n",
       "</div>"
      ],
      "text/plain": [
       "         overall vote  verified   reviewTime      reviewerID        asin  \\\n",
       "0              2   12     False  09 22, 2016  A1IDMI31WEANAF  0020232233   \n",
       "1              1   21     False  09 18, 2016   A4BCEVVZ4Y3V3  0020232233   \n",
       "2              3   19      True  09 12, 2016  A2EZ9PY1IHHBX0  0020232233   \n",
       "3              5  NaN      True   03 2, 2017  A139PXTTC2LGHZ  0020232233   \n",
       "4              1    3      True   02 8, 2017  A3IB33V29XIL8O  0020232233   \n",
       "...          ...  ...       ...          ...             ...         ...   \n",
       "8201226        5  NaN     False   12 7, 2017  A3OCDEVI6FGUWU  B01HJBAKIO   \n",
       "8201227        5    2      True  01 23, 2016  A1KTVUVADLKWZO  B01HJHA7GI   \n",
       "8201228        5  NaN      True   02 8, 2015  A2QCA9OE62IPZ4  B01HJHA7GI   \n",
       "8201229        5  NaN      True  12 31, 2014  A3N28JAZYS4L9O  B01HJHA7GI   \n",
       "8201230        5  NaN      True  11 11, 2014  A2OGYZRYRSVQZJ  B01HJHA7GI   \n",
       "\n",
       "               reviewerName  \\\n",
       "0            Mackenzie Kent   \n",
       "1        Jonathan Christian   \n",
       "2           unpreparedtodie   \n",
       "3                    Ashley   \n",
       "4                  Oghma_EM   \n",
       "...                     ...   \n",
       "8201226              wilson   \n",
       "8201227     Raven the Maven   \n",
       "8201228               crhug   \n",
       "8201229          Cindy Volk   \n",
       "8201230     Ostinato_Parody   \n",
       "\n",
       "                                                reviewText  \\\n",
       "0        When it comes to a DM's screen, the space on t...   \n",
       "1        An Open Letter to GaleForce9*:\\n\\nYour unpaint...   \n",
       "2        Nice art, nice printing.  Why two panels are f...   \n",
       "3        Amazing buy! Bought it as a gift for our new d...   \n",
       "4        As my review of GF9's previous screens these w...   \n",
       "...                                                    ...   \n",
       "8201226                                 My son is happy!!!   \n",
       "8201227  E My ten month old has had this for a few mont...   \n",
       "8201228                    perfect toy to keep baby amused   \n",
       "8201229                                            Perfect   \n",
       "8201230  I am based in the UK and I bought this item as...   \n",
       "\n",
       "                                                   summary  unixReviewTime  \\\n",
       "0        The fact that 50% of this space is wasted on a...      1474502400   \n",
       "1        Another worthless Dungeon Master's screen from...      1474156800   \n",
       "2                          pretty, but also pretty useless      1473638400   \n",
       "3                                               Five Stars      1488412800   \n",
       "4                                               Money trap      1486512000   \n",
       "...                                                    ...             ...   \n",
       "8201226                                         Five Stars      1512604800   \n",
       "8201227                              Fun for ten month old      1453507200   \n",
       "8201228                                         Five Stars      1423353600   \n",
       "8201229                                         Five Stars      1419984000   \n",
       "8201230                                      Cracking gift      1415664000   \n",
       "\n",
       "                                                     image style  \n",
       "0                                                      NaN   NaN  \n",
       "1                                                      NaN   NaN  \n",
       "2                                                      NaN   NaN  \n",
       "3                                                      NaN   NaN  \n",
       "4                                                      NaN   NaN  \n",
       "...                                                    ...   ...  \n",
       "8201226                                                NaN   NaN  \n",
       "8201227  [https://images-na.ssl-images-amazon.com/image...   NaN  \n",
       "8201228                                                NaN   NaN  \n",
       "8201229                                                NaN   NaN  \n",
       "8201230                                                NaN   NaN  \n",
       "\n",
       "[8201231 rows x 12 columns]"
      ]
     },
     "execution_count": 2,
     "metadata": {},
     "output_type": "execute_result"
    }
   ],
   "source": [
    "# reviews_df_raw = pd.read_json(\"../Data/amazon_reviews.json\",lines=True)\n",
    "# reviews_pickle = reviews_df_raw.to_pickle('reviews_raw.pkl')\n",
    "reviews_df_raw = pd.read_pickle('reviews_raw.pkl')\n",
    "reviews_df_raw"
   ]
  },
  {
   "cell_type": "markdown",
   "id": "75236835",
   "metadata": {},
   "source": [
    "Column Title Meanings"
   ]
  },
  {
   "cell_type": "code",
   "execution_count": 3,
   "id": "b82a3e66",
   "metadata": {},
   "outputs": [
    {
     "data": {
      "text/plain": [
       "Index(['overall', 'vote', 'verified', 'reviewTime', 'reviewerID', 'asin',\n",
       "       'reviewerName', 'reviewText', 'summary', 'unixReviewTime', 'image',\n",
       "       'style'],\n",
       "      dtype='object')"
      ]
     },
     "execution_count": 3,
     "metadata": {},
     "output_type": "execute_result"
    }
   ],
   "source": [
    "reviews_df_raw.columns"
   ]
  },
  {
   "cell_type": "code",
   "execution_count": 4,
   "id": "f8cd44cc",
   "metadata": {},
   "outputs": [
    {
     "data": {
      "text/html": [
       "<div>\n",
       "<style scoped>\n",
       "    .dataframe tbody tr th:only-of-type {\n",
       "        vertical-align: middle;\n",
       "    }\n",
       "\n",
       "    .dataframe tbody tr th {\n",
       "        vertical-align: top;\n",
       "    }\n",
       "\n",
       "    .dataframe thead th {\n",
       "        text-align: right;\n",
       "    }\n",
       "</style>\n",
       "<table border=\"1\" class=\"dataframe\">\n",
       "  <thead>\n",
       "    <tr style=\"text-align: right;\">\n",
       "      <th></th>\n",
       "      <th>overall</th>\n",
       "      <th>vote</th>\n",
       "      <th>verified</th>\n",
       "      <th>reviewTime</th>\n",
       "      <th>reviewerID</th>\n",
       "      <th>asin</th>\n",
       "      <th>reviewerName</th>\n",
       "      <th>reviewText</th>\n",
       "      <th>summary</th>\n",
       "      <th>unixReviewTime</th>\n",
       "      <th>image</th>\n",
       "      <th>style</th>\n",
       "    </tr>\n",
       "  </thead>\n",
       "  <tbody>\n",
       "    <tr>\n",
       "      <th>0</th>\n",
       "      <td>2</td>\n",
       "      <td>12</td>\n",
       "      <td>False</td>\n",
       "      <td>09 22, 2016</td>\n",
       "      <td>A1IDMI31WEANAF</td>\n",
       "      <td>0020232233</td>\n",
       "      <td>Mackenzie Kent</td>\n",
       "      <td>When it comes to a DM's screen, the space on t...</td>\n",
       "      <td>The fact that 50% of this space is wasted on a...</td>\n",
       "      <td>1474502400</td>\n",
       "      <td>NaN</td>\n",
       "      <td>NaN</td>\n",
       "    </tr>\n",
       "    <tr>\n",
       "      <th>1</th>\n",
       "      <td>1</td>\n",
       "      <td>21</td>\n",
       "      <td>False</td>\n",
       "      <td>09 18, 2016</td>\n",
       "      <td>A4BCEVVZ4Y3V3</td>\n",
       "      <td>0020232233</td>\n",
       "      <td>Jonathan Christian</td>\n",
       "      <td>An Open Letter to GaleForce9*:\\n\\nYour unpaint...</td>\n",
       "      <td>Another worthless Dungeon Master's screen from...</td>\n",
       "      <td>1474156800</td>\n",
       "      <td>NaN</td>\n",
       "      <td>NaN</td>\n",
       "    </tr>\n",
       "    <tr>\n",
       "      <th>2</th>\n",
       "      <td>3</td>\n",
       "      <td>19</td>\n",
       "      <td>True</td>\n",
       "      <td>09 12, 2016</td>\n",
       "      <td>A2EZ9PY1IHHBX0</td>\n",
       "      <td>0020232233</td>\n",
       "      <td>unpreparedtodie</td>\n",
       "      <td>Nice art, nice printing.  Why two panels are f...</td>\n",
       "      <td>pretty, but also pretty useless</td>\n",
       "      <td>1473638400</td>\n",
       "      <td>NaN</td>\n",
       "      <td>NaN</td>\n",
       "    </tr>\n",
       "    <tr>\n",
       "      <th>3</th>\n",
       "      <td>5</td>\n",
       "      <td>NaN</td>\n",
       "      <td>True</td>\n",
       "      <td>03 2, 2017</td>\n",
       "      <td>A139PXTTC2LGHZ</td>\n",
       "      <td>0020232233</td>\n",
       "      <td>Ashley</td>\n",
       "      <td>Amazing buy! Bought it as a gift for our new d...</td>\n",
       "      <td>Five Stars</td>\n",
       "      <td>1488412800</td>\n",
       "      <td>NaN</td>\n",
       "      <td>NaN</td>\n",
       "    </tr>\n",
       "    <tr>\n",
       "      <th>4</th>\n",
       "      <td>1</td>\n",
       "      <td>3</td>\n",
       "      <td>True</td>\n",
       "      <td>02 8, 2017</td>\n",
       "      <td>A3IB33V29XIL8O</td>\n",
       "      <td>0020232233</td>\n",
       "      <td>Oghma_EM</td>\n",
       "      <td>As my review of GF9's previous screens these w...</td>\n",
       "      <td>Money trap</td>\n",
       "      <td>1486512000</td>\n",
       "      <td>NaN</td>\n",
       "      <td>NaN</td>\n",
       "    </tr>\n",
       "  </tbody>\n",
       "</table>\n",
       "</div>"
      ],
      "text/plain": [
       "   overall vote  verified   reviewTime      reviewerID        asin  \\\n",
       "0        2   12     False  09 22, 2016  A1IDMI31WEANAF  0020232233   \n",
       "1        1   21     False  09 18, 2016   A4BCEVVZ4Y3V3  0020232233   \n",
       "2        3   19      True  09 12, 2016  A2EZ9PY1IHHBX0  0020232233   \n",
       "3        5  NaN      True   03 2, 2017  A139PXTTC2LGHZ  0020232233   \n",
       "4        1    3      True   02 8, 2017  A3IB33V29XIL8O  0020232233   \n",
       "\n",
       "         reviewerName                                         reviewText  \\\n",
       "0      Mackenzie Kent  When it comes to a DM's screen, the space on t...   \n",
       "1  Jonathan Christian  An Open Letter to GaleForce9*:\\n\\nYour unpaint...   \n",
       "2     unpreparedtodie  Nice art, nice printing.  Why two panels are f...   \n",
       "3              Ashley  Amazing buy! Bought it as a gift for our new d...   \n",
       "4            Oghma_EM  As my review of GF9's previous screens these w...   \n",
       "\n",
       "                                             summary  unixReviewTime image  \\\n",
       "0  The fact that 50% of this space is wasted on a...      1474502400   NaN   \n",
       "1  Another worthless Dungeon Master's screen from...      1474156800   NaN   \n",
       "2                    pretty, but also pretty useless      1473638400   NaN   \n",
       "3                                         Five Stars      1488412800   NaN   \n",
       "4                                         Money trap      1486512000   NaN   \n",
       "\n",
       "  style  \n",
       "0   NaN  \n",
       "1   NaN  \n",
       "2   NaN  \n",
       "3   NaN  \n",
       "4   NaN  "
      ]
     },
     "execution_count": 4,
     "metadata": {},
     "output_type": "execute_result"
    }
   ],
   "source": [
    "reviews_df_raw.head()"
   ]
  },
  {
   "cell_type": "markdown",
   "id": "a3af5cd0",
   "metadata": {},
   "source": [
    "- overall - rating of the product\n",
    "- vote - helpful votes of the review (so people that gave a thumbs up)\n",
    "- verified - a boolean of whether the data was verified or not\n",
    "- reviewTime - time of the review (raw)\n",
    "- reviewerID - ID of the reviewer\n",
    "- asin - ID of the product\n",
    "- reviewerName - name of the reviewer\n",
    "- reviewText - text of the review\n",
    "- summary - review title\n",
    "- unixReviewTime - time of the review (unix time)\n",
    "- image - images that users post after they have received the product\n",
    "- style - a disctionary of the product metadata, e.g., \"Format\" is \"Hardcover\"\n",
    "- summary - summary of the review"
   ]
  },
  {
   "cell_type": "markdown",
   "id": "f522cd28",
   "metadata": {},
   "source": [
    "### Begin EDA"
   ]
  },
  {
   "cell_type": "markdown",
   "id": "9f0826fb",
   "metadata": {},
   "source": [
    "Look at the data NaN values"
   ]
  },
  {
   "cell_type": "code",
   "execution_count": 5,
   "id": "e3c2a517",
   "metadata": {},
   "outputs": [
    {
     "name": "stdout",
     "output_type": "stream",
     "text": [
      "Missing Values Overview:\n",
      "              Missing Count  Missing Percentage\n",
      "image               7999253           97.537223\n",
      "vote                7239598           88.274529\n",
      "style               6211781           75.742056\n",
      "reviewText             7117            0.086780\n",
      "summary                2531            0.030861\n",
      "reviewerName            502            0.006121\n"
     ]
    }
   ],
   "source": [
    "# count and percentage of missing values in each column\n",
    "missing_counts = reviews_df_raw.isna().sum()\n",
    "missing_percentages = reviews_df_raw.isna().mean() * 100\n",
    "missing_df = pd.DataFrame({\n",
    "    'Missing Count': missing_counts,\n",
    "    'Missing Percentage': missing_percentages\n",
    "})\n",
    "missing_df = missing_df[missing_df['Missing Count'] > 0]\n",
    "missing_df = missing_df.sort_values(by='Missing Percentage', ascending=False)\n",
    "print(\"Missing Values Overview:\")\n",
    "print(missing_df)"
   ]
  },
  {
   "cell_type": "markdown",
   "id": "3c352cb2",
   "metadata": {},
   "source": [
    "Duplicates in the dataset"
   ]
  },
  {
   "cell_type": "code",
   "execution_count": null,
   "id": "231664f2",
   "metadata": {},
   "outputs": [],
   "source": [
    "# check for duplicates in the reviews\n",
    "duplicates = reviews_df_raw.duplicated(subset=['reviewerID', 'asin', 'reviewTime', 'overall'], keep=False)\n",
    "print(f\"Number of duplicate reviews: {duplicates.sum()}\")\n",
    "# show the duplicate reviews\n",
    "duplicate_reviews = reviews_df_raw[duplicates]\n",
    "print(\"Duplicate Reviews:\")\n",
    "duplicate_reviews[['reviewerID', 'asin', 'reviewTime', 'overall', 'reviewText']]\n"
   ]
  },
  {
   "cell_type": "code",
   "execution_count": null,
   "id": "704dc3ac",
   "metadata": {},
   "outputs": [],
   "source": [
    "reviews_df_raw.loc[reviews_df_raw['reviewerID']=='A5FVEFQ55OHRS', 'summary']"
   ]
  },
  {
   "cell_type": "markdown",
   "id": "740cf4bf",
   "metadata": {},
   "source": [
    "Data type in each column"
   ]
  },
  {
   "cell_type": "code",
   "execution_count": null,
   "id": "9edab993",
   "metadata": {},
   "outputs": [],
   "source": [
    "reviews_df_raw.info()"
   ]
  },
  {
   "cell_type": "markdown",
   "id": "a0eb2c7e",
   "metadata": {},
   "source": [
    "Distribution of Ratings"
   ]
  },
  {
   "cell_type": "code",
   "execution_count": null,
   "id": "5b7fdcd4",
   "metadata": {},
   "outputs": [],
   "source": [
    "sns.countplot(x='overall', data=reviews_df_raw)\n",
    "plt.title('Histogram of Ratings')\n",
    "plt.xlabel('Rating')\n",
    "plt.ylabel('Count')\n",
    "plt.show()"
   ]
  },
  {
   "cell_type": "code",
   "execution_count": null,
   "id": "c8ef88b3",
   "metadata": {},
   "outputs": [],
   "source": [
    "reviews_df_raw['overall'] = reviews_df_raw['overall'].astype(int)\n",
    "reviews_df_raw['overall'].describe()"
   ]
  },
  {
   "cell_type": "markdown",
   "id": "c846d5c9",
   "metadata": {},
   "source": [
    "Review Text Length Distribution"
   ]
  },
  {
   "cell_type": "code",
   "execution_count": null,
   "id": "546a07f4",
   "metadata": {},
   "outputs": [],
   "source": [
    "# review text length\n",
    "reviews_df_raw['review_length'] = reviews_df_raw['reviewText'].apply(lambda x: len(x) if isinstance(x, str) else 0)\n",
    "sns.histplot(reviews_df_raw['review_length'], bins=50)\n",
    "plt.title('Distribution of Review Text Length')\n",
    "plt.xlabel('Review Length')\n",
    "plt.ylabel('Frequency')\n",
    "plt.show()"
   ]
  },
  {
   "cell_type": "code",
   "execution_count": null,
   "id": "1b6011bf",
   "metadata": {},
   "outputs": [],
   "source": [
    "# Length distribution (number of characters or words)\n",
    "reviews_df_raw['review_length'].describe()"
   ]
  },
  {
   "cell_type": "markdown",
   "id": "73f2f6ce",
   "metadata": {},
   "source": [
    "Unique Number of Products and Reviews Per Product"
   ]
  },
  {
   "cell_type": "code",
   "execution_count": null,
   "id": "d7b7e9da",
   "metadata": {},
   "outputs": [],
   "source": [
    "print(f\"There are {len(reviews_df_raw['asin'].unique())} unique products.\")"
   ]
  },
  {
   "cell_type": "code",
   "execution_count": null,
   "id": "a6d83987",
   "metadata": {},
   "outputs": [],
   "source": [
    "# count the number of reviews per product\n",
    "reviews_per_product = reviews_df_raw.groupby('asin').size().reset_index(name='review_count')\n",
    "# look at summary statistics for the number of reviews per product\n",
    "print(reviews_per_product.describe())\n",
    "# plot the distribution of the number of reviews per product\n",
    "sns.histplot(reviews_per_product['review_count'], bins=100)\n",
    "\n"
   ]
  },
  {
   "cell_type": "code",
   "execution_count": null,
   "id": "08e8cb7f",
   "metadata": {},
   "outputs": [],
   "source": [
    "# overview of the number of reviews per product\n",
    "reviews_per_product['review_count'].value_counts().sort_index().head(20).plot(kind='bar')"
   ]
  },
  {
   "cell_type": "code",
   "execution_count": null,
   "id": "7d79c12b",
   "metadata": {},
   "outputs": [],
   "source": [
    "# show the product with the most reviews\n",
    "reviews_per_product.sort_values(by='review_count', ascending=False).head(20)"
   ]
  },
  {
   "cell_type": "markdown",
   "id": "82fffee5",
   "metadata": {},
   "source": [
    "Heatmap of Some of the Columns"
   ]
  },
  {
   "cell_type": "code",
   "execution_count": null,
   "id": "4abea527",
   "metadata": {},
   "outputs": [],
   "source": [
    "# correlation between overall rating and review length\n",
    "sns.scatterplot(x='review_length', y='overall', data=reviews_df_raw)\n",
    "plt.title('Overall Rating vs Review Length')\n",
    "plt.xlabel('Review Length')\n",
    "plt.ylabel('Overall Rating')\n",
    "plt.show()\n",
    "\n",
    "# Ensure 'vote' is numeric for correlation calculation\n",
    "if 'vote' in reviews_df_raw.columns:\n",
    "\treviews_df_raw['vote'] = pd.to_numeric(reviews_df_raw['vote'].str.replace(',', ''), errors='coerce')\n",
    "\n",
    "# correlation matrix (only numeric columns)\n",
    "correlation_matrix = reviews_df_raw.select_dtypes(include=[np.number]).corr()\n",
    "sns.heatmap(correlation_matrix, annot=True, cmap='coolwarm', fmt='.2f')\n",
    "plt.title('Correlation Matrix')\n",
    "plt.show()"
   ]
  },
  {
   "cell_type": "code",
   "execution_count": null,
   "id": "6b327515",
   "metadata": {},
   "outputs": [],
   "source": [
    "# Plot number of reviews per month/year using reviewTime or unixReviewTime.\n",
    "reviews_df_raw['reviewTime'] = pd.to_datetime(reviews_df_raw['reviewTime'], errors='coerce')\n",
    "reviews_df_raw['review_month'] = reviews_df_raw['reviewTime'].dt.to_period('M')\n",
    "reviews_per_month = reviews_df_raw.groupby('review_month').size().reset_index(name='review_count')\n",
    "# Convert review_month to string for plotting\n",
    "reviews_per_month['review_month_str'] = reviews_per_month['review_month'].astype(str)\n",
    "sns.lineplot(x='review_month_str', y='review_count', data=reviews_per_month)\n",
    "plt.title('Number of Reviews per Month')\n",
    "plt.xlabel('Month')\n",
    "plt.ylabel('Number of Reviews')\n",
    "plt.xticks(rotation=45)\n",
    "plt.show()\n",
    "\n",
    "# do the same but for the year\n",
    "reviews_df_raw['review_year'] = reviews_df_raw['reviewTime'].dt.year\n",
    "reviews_per_year = reviews_df_raw.groupby('review_year').size().reset_index(name='review_count')\n",
    "sns.barplot(x='review_year', y='review_count', data=reviews_per_year)\n",
    "plt.title('Number of Reviews per Year')\n",
    "plt.xlabel('Year')\n",
    "plt.ylabel('Number of Reviews')\n",
    "plt.xticks(rotation=45)\n",
    "plt.show()\n"
   ]
  },
  {
   "cell_type": "markdown",
   "id": "869f84e3",
   "metadata": {},
   "source": [
    "Copying the Article"
   ]
  },
  {
   "cell_type": "code",
   "execution_count": null,
   "id": "faff2981",
   "metadata": {},
   "outputs": [],
   "source": [
    "# look for certain keywords in the review text and summary\n",
    "keywords = ['dangerous', 'hazardous', 'unsafe', 'risk', 'warning', 'alert']\n",
    "\n",
    "for keyword in keywords:\n",
    "    reviews_df_raw[f'contains_{keyword}'] = reviews_df_raw['reviewText'].str.contains(keyword, case=False, na=False) | \\\n",
    "                                             reviews_df_raw['summary'].str.contains(keyword, case=False, na=False)\n",
    "# count the number of reviews containing each keyword\n",
    "keyword_counts = {keyword: reviews_df_raw[f'contains_{keyword}'].sum() for keyword in keywords}\n",
    "# create a DataFrame for keyword counts \n",
    "keyword_counts_df = pd.DataFrame(list(keyword_counts.items()), columns=['Keyword', 'Count'])\n",
    "# plot the keyword counts\n",
    "sns.barplot(x='Count', y='Keyword', data=keyword_counts_df)\n",
    "plt.title('Keyword Counts in Reviews')\n",
    "plt.xlabel('Count')\n",
    "plt.ylabel('Keyword')\n",
    "plt.show()"
   ]
  },
  {
   "cell_type": "code",
   "execution_count": null,
   "id": "fc93af84",
   "metadata": {},
   "outputs": [],
   "source": [
    "# show the overall for each keyword\n",
    "for keyword in keywords:\n",
    "    overall_counts = reviews_df_raw[reviews_df_raw[f'contains_{keyword}']]['overall'].value_counts().sort_index()\n",
    "    sns.barplot(x=overall_counts.index, y=overall_counts.values)\n",
    "    plt.title(f'Overall Ratings for Reviews Containing \"{keyword}\"')\n",
    "    plt.xlabel('Overall Rating')\n",
    "    plt.ylabel('Count')\n",
    "    plt.xticks(rotation=45)\n",
    "    plt.show()"
   ]
  },
  {
   "cell_type": "code",
   "execution_count": null,
   "id": "0e75c044",
   "metadata": {},
   "outputs": [],
   "source": [
    "# return all rows that contain the keyword 'hazardous' in the review text or summary\n",
    "# because we are in a toys and games context, there are some reviews that mention 'hazardous' in a non-negative context, so we will filter them\n",
    "hazardous_reviews = reviews_df_raw[reviews_df_raw['contains_hazardous']]\n",
    "print(f\"Number of reviews containing 'hazardous': {len(hazardous_reviews)}\")\n",
    "# display the first few rows of hazardous reviews\n",
    "hazardous_reviews[['reviewerID', 'asin', 'reviewTime', 'overall', 'reviewText', 'summary']].to_clipboard()"
   ]
  },
  {
   "cell_type": "code",
   "execution_count": null,
   "id": "fd288990",
   "metadata": {},
   "outputs": [],
   "source": [
    "# show the asins for the hazardous reviews\n",
    "hazardous_asins = hazardous_reviews['asin'].unique()\n",
    "print(f\"Unique ASINs for hazardous reviews: {len(hazardous_asins)}\")\n",
    "# display the first few hazardous ASINs\n",
    "print(\"Hazardous ASINs:\")\n",
    "for asin in hazardous_asins[:10]:\n",
    "    print(asin)"
   ]
  },
  {
   "cell_type": "code",
   "execution_count": null,
   "id": "abae8317",
   "metadata": {},
   "outputs": [],
   "source": [
    "# check if the reviews or summaries contain the keyword 'recall'\n",
    "recall_reviews = reviews_df_raw[reviews_df_raw['reviewText'].str.contains('recall', case=False, na=False) | \n",
    "                                 reviews_df_raw['summary'].str.contains('recall', case=False, na=False)]\n",
    "print(f\"Number of reviews containing 'recall': {len(recall_reviews)}\")\n",
    "# display the first few rows of recall reviews\n",
    "recall_reviews[['reviewerID', 'asin', 'reviewTime', 'overall', 'reviewText', 'summary']].sample(100).to_clipboard()\n",
    "\n",
    "# some of these talk about an item recall but some are just using the word 'recall' in a different context"
   ]
  },
  {
   "cell_type": "code",
   "execution_count": null,
   "id": "74377bf9",
   "metadata": {},
   "outputs": [],
   "source": [
    "# how long are people writing reviews for products that have 1 star ratings\n",
    "one_star_reviews = reviews_df_raw[reviews_df_raw['overall'] == 1].copy()\n",
    "one_star_reviews\n",
    "\n",
    "# groupby asin and see how many months the reviews span\n",
    "one_star_reviews['review_month'] = one_star_reviews['reviewTime'].dt.to_period('M')\n",
    "one_star_reviews_grouped = one_star_reviews.groupby('asin')['review_month'].nunique().reset_index()\n",
    "one_star_reviews_grouped.rename(columns={'review_month': 'months_reviewed'}, inplace=True)\n",
    "# merge this back to the one_star_reviews DataFrame\n",
    "one_star_reviews = one_star_reviews.merge(one_star_reviews_grouped, on='asin', how='left')\n",
    "\n"
   ]
  },
  {
   "cell_type": "code",
   "execution_count": null,
   "id": "d92100b9",
   "metadata": {},
   "outputs": [],
   "source": [
    "one_star_reviews['months_reviewed'].describe()"
   ]
  },
  {
   "cell_type": "code",
   "execution_count": null,
   "id": "f3bac234",
   "metadata": {},
   "outputs": [],
   "source": [
    "one_star_reviews['asin'].value_counts().head(2)"
   ]
  },
  {
   "cell_type": "code",
   "execution_count": null,
   "id": "6c55961a",
   "metadata": {},
   "outputs": [],
   "source": [
    "# find products in reviews_df_raw that have had overall 1 for all reviews\n",
    "one_star_products = reviews_df_raw.groupby('asin').filter(lambda x: (x['overall'] == 1).all())\n",
    "print(f\"Number of products with all 1-star reviews: {len(one_star_products['asin'].unique())}\")"
   ]
  },
  {
   "cell_type": "code",
   "execution_count": null,
   "id": "8674bad7",
   "metadata": {},
   "outputs": [],
   "source": [
    "one_star_products"
   ]
  },
  {
   "cell_type": "code",
   "execution_count": null,
   "id": "933c383c",
   "metadata": {},
   "outputs": [],
   "source": [
    "# for each product, take the average of overall rating\n",
    "avg_rating = reviews_df_raw.groupby('asin')['overall'].mean().reset_index()\n",
    "avg_rating.rename(columns={'overall': 'avg_overall'}, inplace=True)\n",
    "\n",
    "avg_var = reviews_df_raw.groupby('asin')['overall'].var().reset_index()\n",
    "avg_var.rename(columns={'overall': 'var_overall'}, inplace=True)\n",
    "\n"
   ]
  },
  {
   "cell_type": "code",
   "execution_count": null,
   "id": "e02240b0",
   "metadata": {},
   "outputs": [],
   "source": [
    "avg_rating.sort_values(by='avg_overall', ascending=False)"
   ]
  },
  {
   "cell_type": "code",
   "execution_count": null,
   "id": "201f5e33",
   "metadata": {},
   "outputs": [],
   "source": [
    "avg_var"
   ]
  },
  {
   "cell_type": "code",
   "execution_count": null,
   "id": "1b26ee48",
   "metadata": {},
   "outputs": [],
   "source": [
    "avg_and_var_ratings = pd.merge(avg_rating, avg_var, on='asin').sort_values(by='avg_overall', ascending=False)"
   ]
  },
  {
   "cell_type": "code",
   "execution_count": null,
   "id": "9a974a10",
   "metadata": {},
   "outputs": [],
   "source": [
    "reviews_df_raw.loc[reviews_df_raw['asin']=='B01HJDFWDK'].sort_values('reviewTime').plot(x='reviewTime', y='overall', kind='line')\n",
    "# on the same plot, show the average overall rating for the product\n",
    "plt.axhline(y=avg_and_var_ratings.loc[avg_and_var_ratings['asin'] == 'B01HJDFWDK', 'avg_overall'].values[0], color='r', linestyle='--', label='Average Rating')\n",
    "plt.axhline(y=avg_and_var_ratings.loc[avg_and_var_ratings['asin'] == 'B01HJDFWDK', 'var_overall'].values[0], color='g', linestyle='--', label='Variance of Rating')\n",
    "plt.title('Overall Ratings Over Time for Product B01HJDFWDK')\n",
    "plt.xlabel('Review Time')\n",
    "plt.ylabel('Overall Rating')\n",
    "plt.legend(bbox_to_anchor=(1.05, 1), loc='upper left')\n",
    "plt.show()\n",
    "\n"
   ]
  },
  {
   "cell_type": "code",
   "execution_count": null,
   "id": "4467a9e8",
   "metadata": {},
   "outputs": [],
   "source": [
    "sns.histplot(avg_and_var_ratings['avg_overall'], bins=50)"
   ]
  },
  {
   "cell_type": "markdown",
   "id": "233504b2",
   "metadata": {},
   "source": [
    "WordCloud-ing"
   ]
  },
  {
   "cell_type": "code",
   "execution_count": null,
   "id": "7a202fb3",
   "metadata": {},
   "outputs": [],
   "source": [
    "# word cloud of the most common words in the review text\n",
    "!pip install wordcloud\n",
    "from wordcloud import WordCloud\n",
    "text = ' '.join(reviews_df_raw['reviewText'].dropna().astype(str).tolist())\n",
    "wordcloud = WordCloud(width=800, height=400, background_color='white').generate(text)\n",
    "plt.figure(figsize=(10, 5))\n",
    "plt.imshow(wordcloud, interpolation='bilinear')\n",
    "plt.axis('off')\n",
    "plt.title('Word Cloud of Review Text')\n",
    "plt.show()"
   ]
  },
  {
   "cell_type": "code",
   "execution_count": null,
   "id": "5918af7b",
   "metadata": {},
   "outputs": [],
   "source": [
    "text = ' '.join(reviews_df_raw['summary'].dropna().astype(str).tolist())\n",
    "wordcloud = WordCloud(width=800, height=400, background_color='white').generate(text)\n",
    "plt.figure(figsize=(10, 5))\n",
    "plt.imshow(wordcloud, interpolation='bilinear')\n",
    "plt.axis('off')\n",
    "plt.title('Word Cloud of Summary Text')\n",
    "plt.show()"
   ]
  },
  {
   "cell_type": "markdown",
   "id": "c38111c3",
   "metadata": {},
   "source": [
    "Combing Through the Review Text"
   ]
  },
  {
   "cell_type": "code",
   "execution_count": null,
   "id": "2e1b2545",
   "metadata": {},
   "outputs": [],
   "source": [
    "# find bad reviews (rating 1 or 2) and plot the most common words in the review text\n",
    "bad_reviews = reviews_df_raw[reviews_df_raw['overall'].isin([1, 2])]\n",
    "text_bad = ' '.join(bad_reviews['reviewText'].dropna().astype(str).tolist())\n",
    "wordcloud_bad = WordCloud(width=800, height=400, background_color='white').generate(text_bad)\n",
    "plt.figure(figsize=(10, 5))\n",
    "plt.imshow(wordcloud_bad, interpolation='bilinear')\n",
    "plt.axis('off')\n",
    "plt.title('Word Cloud of Bad Reviews (Rating 1 or 2)')\n",
    "plt.show()"
   ]
  },
  {
   "cell_type": "code",
   "execution_count": null,
   "id": "3282fd5a",
   "metadata": {},
   "outputs": [],
   "source": [
    "reviews_df_raw.loc[reviews_df_raw['asin']== 'B000YDDF6O', ['reviewText', 'summary']].head(10).to_clipboard(index=False)"
   ]
  },
  {
   "cell_type": "code",
   "execution_count": null,
   "id": "89468863",
   "metadata": {},
   "outputs": [],
   "source": []
  }
 ],
 "metadata": {
  "kernelspec": {
   "display_name": "erdos_summer_2025",
   "language": "python",
   "name": "python3"
  },
  "language_info": {
   "codemirror_mode": {
    "name": "ipython",
    "version": 3
   },
   "file_extension": ".py",
   "mimetype": "text/x-python",
   "name": "python",
   "nbconvert_exporter": "python",
   "pygments_lexer": "ipython3",
   "version": "3.12.10"
  }
 },
 "nbformat": 4,
 "nbformat_minor": 5
}
