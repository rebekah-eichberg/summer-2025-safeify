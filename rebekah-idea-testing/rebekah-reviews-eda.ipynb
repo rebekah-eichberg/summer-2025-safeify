{
 "cells": [
  {
   "cell_type": "code",
   "execution_count": 1,
   "id": "e3857ca3",
   "metadata": {},
   "outputs": [],
   "source": [
    "import pandas as pd\n",
    "import numpy as np\n",
    "import seaborn as sns\n",
    "import matplotlib.pyplot as plt"
   ]
  },
  {
   "cell_type": "markdown",
   "id": "b2fa465c",
   "metadata": {},
   "source": [
    "### Load the dataset"
   ]
  },
  {
   "cell_type": "code",
   "execution_count": 2,
   "id": "37ee60d3",
   "metadata": {},
   "outputs": [
    {
     "data": {
      "text/html": [
       "<div>\n",
       "<style scoped>\n",
       "    .dataframe tbody tr th:only-of-type {\n",
       "        vertical-align: middle;\n",
       "    }\n",
       "\n",
       "    .dataframe tbody tr th {\n",
       "        vertical-align: top;\n",
       "    }\n",
       "\n",
       "    .dataframe thead th {\n",
       "        text-align: right;\n",
       "    }\n",
       "</style>\n",
       "<table border=\"1\" class=\"dataframe\">\n",
       "  <thead>\n",
       "    <tr style=\"text-align: right;\">\n",
       "      <th></th>\n",
       "      <th>overall</th>\n",
       "      <th>vote</th>\n",
       "      <th>verified</th>\n",
       "      <th>reviewTime</th>\n",
       "      <th>reviewerID</th>\n",
       "      <th>asin</th>\n",
       "      <th>reviewerName</th>\n",
       "      <th>reviewText</th>\n",
       "      <th>summary</th>\n",
       "      <th>unixReviewTime</th>\n",
       "      <th>image</th>\n",
       "      <th>style</th>\n",
       "    </tr>\n",
       "  </thead>\n",
       "  <tbody>\n",
       "    <tr>\n",
       "      <th>0</th>\n",
       "      <td>2</td>\n",
       "      <td>12</td>\n",
       "      <td>False</td>\n",
       "      <td>09 22, 2016</td>\n",
       "      <td>A1IDMI31WEANAF</td>\n",
       "      <td>0020232233</td>\n",
       "      <td>Mackenzie Kent</td>\n",
       "      <td>When it comes to a DM's screen, the space on t...</td>\n",
       "      <td>The fact that 50% of this space is wasted on a...</td>\n",
       "      <td>1474502400</td>\n",
       "      <td>NaN</td>\n",
       "      <td>NaN</td>\n",
       "    </tr>\n",
       "    <tr>\n",
       "      <th>1</th>\n",
       "      <td>1</td>\n",
       "      <td>21</td>\n",
       "      <td>False</td>\n",
       "      <td>09 18, 2016</td>\n",
       "      <td>A4BCEVVZ4Y3V3</td>\n",
       "      <td>0020232233</td>\n",
       "      <td>Jonathan Christian</td>\n",
       "      <td>An Open Letter to GaleForce9*:\\n\\nYour unpaint...</td>\n",
       "      <td>Another worthless Dungeon Master's screen from...</td>\n",
       "      <td>1474156800</td>\n",
       "      <td>NaN</td>\n",
       "      <td>NaN</td>\n",
       "    </tr>\n",
       "    <tr>\n",
       "      <th>2</th>\n",
       "      <td>3</td>\n",
       "      <td>19</td>\n",
       "      <td>True</td>\n",
       "      <td>09 12, 2016</td>\n",
       "      <td>A2EZ9PY1IHHBX0</td>\n",
       "      <td>0020232233</td>\n",
       "      <td>unpreparedtodie</td>\n",
       "      <td>Nice art, nice printing.  Why two panels are f...</td>\n",
       "      <td>pretty, but also pretty useless</td>\n",
       "      <td>1473638400</td>\n",
       "      <td>NaN</td>\n",
       "      <td>NaN</td>\n",
       "    </tr>\n",
       "    <tr>\n",
       "      <th>3</th>\n",
       "      <td>5</td>\n",
       "      <td>NaN</td>\n",
       "      <td>True</td>\n",
       "      <td>03 2, 2017</td>\n",
       "      <td>A139PXTTC2LGHZ</td>\n",
       "      <td>0020232233</td>\n",
       "      <td>Ashley</td>\n",
       "      <td>Amazing buy! Bought it as a gift for our new d...</td>\n",
       "      <td>Five Stars</td>\n",
       "      <td>1488412800</td>\n",
       "      <td>NaN</td>\n",
       "      <td>NaN</td>\n",
       "    </tr>\n",
       "    <tr>\n",
       "      <th>4</th>\n",
       "      <td>1</td>\n",
       "      <td>3</td>\n",
       "      <td>True</td>\n",
       "      <td>02 8, 2017</td>\n",
       "      <td>A3IB33V29XIL8O</td>\n",
       "      <td>0020232233</td>\n",
       "      <td>Oghma_EM</td>\n",
       "      <td>As my review of GF9's previous screens these w...</td>\n",
       "      <td>Money trap</td>\n",
       "      <td>1486512000</td>\n",
       "      <td>NaN</td>\n",
       "      <td>NaN</td>\n",
       "    </tr>\n",
       "    <tr>\n",
       "      <th>...</th>\n",
       "      <td>...</td>\n",
       "      <td>...</td>\n",
       "      <td>...</td>\n",
       "      <td>...</td>\n",
       "      <td>...</td>\n",
       "      <td>...</td>\n",
       "      <td>...</td>\n",
       "      <td>...</td>\n",
       "      <td>...</td>\n",
       "      <td>...</td>\n",
       "      <td>...</td>\n",
       "      <td>...</td>\n",
       "    </tr>\n",
       "    <tr>\n",
       "      <th>8201226</th>\n",
       "      <td>5</td>\n",
       "      <td>NaN</td>\n",
       "      <td>False</td>\n",
       "      <td>12 7, 2017</td>\n",
       "      <td>A3OCDEVI6FGUWU</td>\n",
       "      <td>B01HJBAKIO</td>\n",
       "      <td>wilson</td>\n",
       "      <td>My son is happy!!!</td>\n",
       "      <td>Five Stars</td>\n",
       "      <td>1512604800</td>\n",
       "      <td>NaN</td>\n",
       "      <td>NaN</td>\n",
       "    </tr>\n",
       "    <tr>\n",
       "      <th>8201227</th>\n",
       "      <td>5</td>\n",
       "      <td>2</td>\n",
       "      <td>True</td>\n",
       "      <td>01 23, 2016</td>\n",
       "      <td>A1KTVUVADLKWZO</td>\n",
       "      <td>B01HJHA7GI</td>\n",
       "      <td>Raven the Maven</td>\n",
       "      <td>E My ten month old has had this for a few mont...</td>\n",
       "      <td>Fun for ten month old</td>\n",
       "      <td>1453507200</td>\n",
       "      <td>[https://images-na.ssl-images-amazon.com/image...</td>\n",
       "      <td>NaN</td>\n",
       "    </tr>\n",
       "    <tr>\n",
       "      <th>8201228</th>\n",
       "      <td>5</td>\n",
       "      <td>NaN</td>\n",
       "      <td>True</td>\n",
       "      <td>02 8, 2015</td>\n",
       "      <td>A2QCA9OE62IPZ4</td>\n",
       "      <td>B01HJHA7GI</td>\n",
       "      <td>crhug</td>\n",
       "      <td>perfect toy to keep baby amused</td>\n",
       "      <td>Five Stars</td>\n",
       "      <td>1423353600</td>\n",
       "      <td>NaN</td>\n",
       "      <td>NaN</td>\n",
       "    </tr>\n",
       "    <tr>\n",
       "      <th>8201229</th>\n",
       "      <td>5</td>\n",
       "      <td>NaN</td>\n",
       "      <td>True</td>\n",
       "      <td>12 31, 2014</td>\n",
       "      <td>A3N28JAZYS4L9O</td>\n",
       "      <td>B01HJHA7GI</td>\n",
       "      <td>Cindy Volk</td>\n",
       "      <td>Perfect</td>\n",
       "      <td>Five Stars</td>\n",
       "      <td>1419984000</td>\n",
       "      <td>NaN</td>\n",
       "      <td>NaN</td>\n",
       "    </tr>\n",
       "    <tr>\n",
       "      <th>8201230</th>\n",
       "      <td>5</td>\n",
       "      <td>NaN</td>\n",
       "      <td>True</td>\n",
       "      <td>11 11, 2014</td>\n",
       "      <td>A2OGYZRYRSVQZJ</td>\n",
       "      <td>B01HJHA7GI</td>\n",
       "      <td>Ostinato_Parody</td>\n",
       "      <td>I am based in the UK and I bought this item as...</td>\n",
       "      <td>Cracking gift</td>\n",
       "      <td>1415664000</td>\n",
       "      <td>NaN</td>\n",
       "      <td>NaN</td>\n",
       "    </tr>\n",
       "  </tbody>\n",
       "</table>\n",
       "<p>8201231 rows × 12 columns</p>\n",
       "</div>"
      ],
      "text/plain": [
       "         overall vote  verified   reviewTime      reviewerID        asin  \\\n",
       "0              2   12     False  09 22, 2016  A1IDMI31WEANAF  0020232233   \n",
       "1              1   21     False  09 18, 2016   A4BCEVVZ4Y3V3  0020232233   \n",
       "2              3   19      True  09 12, 2016  A2EZ9PY1IHHBX0  0020232233   \n",
       "3              5  NaN      True   03 2, 2017  A139PXTTC2LGHZ  0020232233   \n",
       "4              1    3      True   02 8, 2017  A3IB33V29XIL8O  0020232233   \n",
       "...          ...  ...       ...          ...             ...         ...   \n",
       "8201226        5  NaN     False   12 7, 2017  A3OCDEVI6FGUWU  B01HJBAKIO   \n",
       "8201227        5    2      True  01 23, 2016  A1KTVUVADLKWZO  B01HJHA7GI   \n",
       "8201228        5  NaN      True   02 8, 2015  A2QCA9OE62IPZ4  B01HJHA7GI   \n",
       "8201229        5  NaN      True  12 31, 2014  A3N28JAZYS4L9O  B01HJHA7GI   \n",
       "8201230        5  NaN      True  11 11, 2014  A2OGYZRYRSVQZJ  B01HJHA7GI   \n",
       "\n",
       "               reviewerName  \\\n",
       "0            Mackenzie Kent   \n",
       "1        Jonathan Christian   \n",
       "2           unpreparedtodie   \n",
       "3                    Ashley   \n",
       "4                  Oghma_EM   \n",
       "...                     ...   \n",
       "8201226              wilson   \n",
       "8201227     Raven the Maven   \n",
       "8201228               crhug   \n",
       "8201229          Cindy Volk   \n",
       "8201230     Ostinato_Parody   \n",
       "\n",
       "                                                reviewText  \\\n",
       "0        When it comes to a DM's screen, the space on t...   \n",
       "1        An Open Letter to GaleForce9*:\\n\\nYour unpaint...   \n",
       "2        Nice art, nice printing.  Why two panels are f...   \n",
       "3        Amazing buy! Bought it as a gift for our new d...   \n",
       "4        As my review of GF9's previous screens these w...   \n",
       "...                                                    ...   \n",
       "8201226                                 My son is happy!!!   \n",
       "8201227  E My ten month old has had this for a few mont...   \n",
       "8201228                    perfect toy to keep baby amused   \n",
       "8201229                                            Perfect   \n",
       "8201230  I am based in the UK and I bought this item as...   \n",
       "\n",
       "                                                   summary  unixReviewTime  \\\n",
       "0        The fact that 50% of this space is wasted on a...      1474502400   \n",
       "1        Another worthless Dungeon Master's screen from...      1474156800   \n",
       "2                          pretty, but also pretty useless      1473638400   \n",
       "3                                               Five Stars      1488412800   \n",
       "4                                               Money trap      1486512000   \n",
       "...                                                    ...             ...   \n",
       "8201226                                         Five Stars      1512604800   \n",
       "8201227                              Fun for ten month old      1453507200   \n",
       "8201228                                         Five Stars      1423353600   \n",
       "8201229                                         Five Stars      1419984000   \n",
       "8201230                                      Cracking gift      1415664000   \n",
       "\n",
       "                                                     image style  \n",
       "0                                                      NaN   NaN  \n",
       "1                                                      NaN   NaN  \n",
       "2                                                      NaN   NaN  \n",
       "3                                                      NaN   NaN  \n",
       "4                                                      NaN   NaN  \n",
       "...                                                    ...   ...  \n",
       "8201226                                                NaN   NaN  \n",
       "8201227  [https://images-na.ssl-images-amazon.com/image...   NaN  \n",
       "8201228                                                NaN   NaN  \n",
       "8201229                                                NaN   NaN  \n",
       "8201230                                                NaN   NaN  \n",
       "\n",
       "[8201231 rows x 12 columns]"
      ]
     },
     "execution_count": 2,
     "metadata": {},
     "output_type": "execute_result"
    }
   ],
   "source": [
    "# reviews_df_raw = pd.read_json(\"../Data/amazon_reviews.json\",lines=True)\n",
    "# reviews_pickle = reviews_df_raw.to_pickle('reviews_raw.pkl')\n",
    "reviews_df_raw = pd.read_pickle('reviews_raw.pkl')\n",
    "reviews_df_raw"
   ]
  },
  {
   "cell_type": "markdown",
   "id": "75236835",
   "metadata": {},
   "source": [
    "Column Title Meanings"
   ]
  },
  {
   "cell_type": "code",
   "execution_count": 3,
   "id": "b82a3e66",
   "metadata": {},
   "outputs": [
    {
     "data": {
      "text/plain": [
       "Index(['overall', 'vote', 'verified', 'reviewTime', 'reviewerID', 'asin',\n",
       "       'reviewerName', 'reviewText', 'summary', 'unixReviewTime', 'image',\n",
       "       'style'],\n",
       "      dtype='object')"
      ]
     },
     "execution_count": 3,
     "metadata": {},
     "output_type": "execute_result"
    }
   ],
   "source": [
    "reviews_df_raw.columns"
   ]
  },
  {
   "cell_type": "code",
   "execution_count": 4,
   "id": "f8cd44cc",
   "metadata": {},
   "outputs": [
    {
     "data": {
      "text/html": [
       "<div>\n",
       "<style scoped>\n",
       "    .dataframe tbody tr th:only-of-type {\n",
       "        vertical-align: middle;\n",
       "    }\n",
       "\n",
       "    .dataframe tbody tr th {\n",
       "        vertical-align: top;\n",
       "    }\n",
       "\n",
       "    .dataframe thead th {\n",
       "        text-align: right;\n",
       "    }\n",
       "</style>\n",
       "<table border=\"1\" class=\"dataframe\">\n",
       "  <thead>\n",
       "    <tr style=\"text-align: right;\">\n",
       "      <th></th>\n",
       "      <th>overall</th>\n",
       "      <th>vote</th>\n",
       "      <th>verified</th>\n",
       "      <th>reviewTime</th>\n",
       "      <th>reviewerID</th>\n",
       "      <th>asin</th>\n",
       "      <th>reviewerName</th>\n",
       "      <th>reviewText</th>\n",
       "      <th>summary</th>\n",
       "      <th>unixReviewTime</th>\n",
       "      <th>image</th>\n",
       "      <th>style</th>\n",
       "    </tr>\n",
       "  </thead>\n",
       "  <tbody>\n",
       "    <tr>\n",
       "      <th>0</th>\n",
       "      <td>2</td>\n",
       "      <td>12</td>\n",
       "      <td>False</td>\n",
       "      <td>09 22, 2016</td>\n",
       "      <td>A1IDMI31WEANAF</td>\n",
       "      <td>0020232233</td>\n",
       "      <td>Mackenzie Kent</td>\n",
       "      <td>When it comes to a DM's screen, the space on t...</td>\n",
       "      <td>The fact that 50% of this space is wasted on a...</td>\n",
       "      <td>1474502400</td>\n",
       "      <td>NaN</td>\n",
       "      <td>NaN</td>\n",
       "    </tr>\n",
       "    <tr>\n",
       "      <th>1</th>\n",
       "      <td>1</td>\n",
       "      <td>21</td>\n",
       "      <td>False</td>\n",
       "      <td>09 18, 2016</td>\n",
       "      <td>A4BCEVVZ4Y3V3</td>\n",
       "      <td>0020232233</td>\n",
       "      <td>Jonathan Christian</td>\n",
       "      <td>An Open Letter to GaleForce9*:\\n\\nYour unpaint...</td>\n",
       "      <td>Another worthless Dungeon Master's screen from...</td>\n",
       "      <td>1474156800</td>\n",
       "      <td>NaN</td>\n",
       "      <td>NaN</td>\n",
       "    </tr>\n",
       "    <tr>\n",
       "      <th>2</th>\n",
       "      <td>3</td>\n",
       "      <td>19</td>\n",
       "      <td>True</td>\n",
       "      <td>09 12, 2016</td>\n",
       "      <td>A2EZ9PY1IHHBX0</td>\n",
       "      <td>0020232233</td>\n",
       "      <td>unpreparedtodie</td>\n",
       "      <td>Nice art, nice printing.  Why two panels are f...</td>\n",
       "      <td>pretty, but also pretty useless</td>\n",
       "      <td>1473638400</td>\n",
       "      <td>NaN</td>\n",
       "      <td>NaN</td>\n",
       "    </tr>\n",
       "    <tr>\n",
       "      <th>3</th>\n",
       "      <td>5</td>\n",
       "      <td>NaN</td>\n",
       "      <td>True</td>\n",
       "      <td>03 2, 2017</td>\n",
       "      <td>A139PXTTC2LGHZ</td>\n",
       "      <td>0020232233</td>\n",
       "      <td>Ashley</td>\n",
       "      <td>Amazing buy! Bought it as a gift for our new d...</td>\n",
       "      <td>Five Stars</td>\n",
       "      <td>1488412800</td>\n",
       "      <td>NaN</td>\n",
       "      <td>NaN</td>\n",
       "    </tr>\n",
       "    <tr>\n",
       "      <th>4</th>\n",
       "      <td>1</td>\n",
       "      <td>3</td>\n",
       "      <td>True</td>\n",
       "      <td>02 8, 2017</td>\n",
       "      <td>A3IB33V29XIL8O</td>\n",
       "      <td>0020232233</td>\n",
       "      <td>Oghma_EM</td>\n",
       "      <td>As my review of GF9's previous screens these w...</td>\n",
       "      <td>Money trap</td>\n",
       "      <td>1486512000</td>\n",
       "      <td>NaN</td>\n",
       "      <td>NaN</td>\n",
       "    </tr>\n",
       "  </tbody>\n",
       "</table>\n",
       "</div>"
      ],
      "text/plain": [
       "   overall vote  verified   reviewTime      reviewerID        asin  \\\n",
       "0        2   12     False  09 22, 2016  A1IDMI31WEANAF  0020232233   \n",
       "1        1   21     False  09 18, 2016   A4BCEVVZ4Y3V3  0020232233   \n",
       "2        3   19      True  09 12, 2016  A2EZ9PY1IHHBX0  0020232233   \n",
       "3        5  NaN      True   03 2, 2017  A139PXTTC2LGHZ  0020232233   \n",
       "4        1    3      True   02 8, 2017  A3IB33V29XIL8O  0020232233   \n",
       "\n",
       "         reviewerName                                         reviewText  \\\n",
       "0      Mackenzie Kent  When it comes to a DM's screen, the space on t...   \n",
       "1  Jonathan Christian  An Open Letter to GaleForce9*:\\n\\nYour unpaint...   \n",
       "2     unpreparedtodie  Nice art, nice printing.  Why two panels are f...   \n",
       "3              Ashley  Amazing buy! Bought it as a gift for our new d...   \n",
       "4            Oghma_EM  As my review of GF9's previous screens these w...   \n",
       "\n",
       "                                             summary  unixReviewTime image  \\\n",
       "0  The fact that 50% of this space is wasted on a...      1474502400   NaN   \n",
       "1  Another worthless Dungeon Master's screen from...      1474156800   NaN   \n",
       "2                    pretty, but also pretty useless      1473638400   NaN   \n",
       "3                                         Five Stars      1488412800   NaN   \n",
       "4                                         Money trap      1486512000   NaN   \n",
       "\n",
       "  style  \n",
       "0   NaN  \n",
       "1   NaN  \n",
       "2   NaN  \n",
       "3   NaN  \n",
       "4   NaN  "
      ]
     },
     "execution_count": 4,
     "metadata": {},
     "output_type": "execute_result"
    }
   ],
   "source": [
    "reviews_df_raw.head()"
   ]
  },
  {
   "cell_type": "markdown",
   "id": "a3af5cd0",
   "metadata": {},
   "source": [
    "- overall - rating of the product\n",
    "- vote - helpful votes of the review (so people that gave a thumbs up)\n",
    "- verified - a boolean of whether the data was verified or not\n",
    "- reviewTime - time of the review (raw)\n",
    "- reviewerID - ID of the reviewer\n",
    "- asin - ID of the product\n",
    "- reviewerName - name of the reviewer\n",
    "- reviewText - text of the review\n",
    "- summary - review title\n",
    "- unixReviewTime - time of the review (unix time)\n",
    "- image - images that users post after they have received the product\n",
    "- style - a disctionary of the product metadata, e.g., \"Format\" is \"Hardcover\"\n",
    "- summary - summary of the review"
   ]
  },
  {
   "cell_type": "markdown",
   "id": "f522cd28",
   "metadata": {},
   "source": [
    "### Begin EDA"
   ]
  },
  {
   "cell_type": "markdown",
   "id": "9f0826fb",
   "metadata": {},
   "source": [
    "Look at the data NaN values"
   ]
  },
  {
   "cell_type": "code",
   "execution_count": 5,
   "id": "e3c2a517",
   "metadata": {},
   "outputs": [
    {
     "name": "stdout",
     "output_type": "stream",
     "text": [
      "Missing Values Overview:\n",
      "              Missing Count  Missing Percentage\n",
      "image               7999253           97.537223\n",
      "vote                7239598           88.274529\n",
      "style               6211781           75.742056\n",
      "reviewText             7117            0.086780\n",
      "summary                2531            0.030861\n",
      "reviewerName            502            0.006121\n"
     ]
    }
   ],
   "source": [
    "# count and percentage of missing values in each column\n",
    "missing_counts = reviews_df_raw.isna().sum()\n",
    "missing_percentages = reviews_df_raw.isna().mean() * 100\n",
    "missing_df = pd.DataFrame({\n",
    "    'Missing Count': missing_counts,\n",
    "    'Missing Percentage': missing_percentages\n",
    "})\n",
    "missing_df = missing_df[missing_df['Missing Count'] > 0]\n",
    "missing_df = missing_df.sort_values(by='Missing Percentage', ascending=False)\n",
    "print(\"Missing Values Overview:\")\n",
    "print(missing_df)"
   ]
  },
  {
   "cell_type": "markdown",
   "id": "3c352cb2",
   "metadata": {},
   "source": [
    "Duplicates in the dataset"
   ]
  },
  {
   "cell_type": "code",
   "execution_count": 6,
   "id": "231664f2",
   "metadata": {},
   "outputs": [
    {
     "name": "stdout",
     "output_type": "stream",
     "text": [
      "Number of duplicate reviews: 392279\n",
      "Duplicate Reviews:\n"
     ]
    },
    {
     "data": {
      "text/html": [
       "<div>\n",
       "<style scoped>\n",
       "    .dataframe tbody tr th:only-of-type {\n",
       "        vertical-align: middle;\n",
       "    }\n",
       "\n",
       "    .dataframe tbody tr th {\n",
       "        vertical-align: top;\n",
       "    }\n",
       "\n",
       "    .dataframe thead th {\n",
       "        text-align: right;\n",
       "    }\n",
       "</style>\n",
       "<table border=\"1\" class=\"dataframe\">\n",
       "  <thead>\n",
       "    <tr style=\"text-align: right;\">\n",
       "      <th></th>\n",
       "      <th>reviewerID</th>\n",
       "      <th>asin</th>\n",
       "      <th>reviewTime</th>\n",
       "      <th>overall</th>\n",
       "      <th>reviewText</th>\n",
       "    </tr>\n",
       "  </thead>\n",
       "  <tbody>\n",
       "    <tr>\n",
       "      <th>1144</th>\n",
       "      <td>ABWSQI9992Q29</td>\n",
       "      <td>0786955554</td>\n",
       "      <td>09 25, 2016</td>\n",
       "      <td>5</td>\n",
       "      <td>nice</td>\n",
       "    </tr>\n",
       "    <tr>\n",
       "      <th>1145</th>\n",
       "      <td>ABWSQI9992Q29</td>\n",
       "      <td>0786955554</td>\n",
       "      <td>09 25, 2016</td>\n",
       "      <td>5</td>\n",
       "      <td>nice</td>\n",
       "    </tr>\n",
       "    <tr>\n",
       "      <th>1154</th>\n",
       "      <td>A115TZEJ3U3AER</td>\n",
       "      <td>0786955554</td>\n",
       "      <td>05 11, 2016</td>\n",
       "      <td>5</td>\n",
       "      <td>On-time and nice item.</td>\n",
       "    </tr>\n",
       "    <tr>\n",
       "      <th>1155</th>\n",
       "      <td>A115TZEJ3U3AER</td>\n",
       "      <td>0786955554</td>\n",
       "      <td>05 11, 2016</td>\n",
       "      <td>5</td>\n",
       "      <td>On-time and nice item.</td>\n",
       "    </tr>\n",
       "    <tr>\n",
       "      <th>1266</th>\n",
       "      <td>AN82BJBT7QNT7</td>\n",
       "      <td>0786955554</td>\n",
       "      <td>06 26, 2011</td>\n",
       "      <td>4</td>\n",
       "      <td>This set is slightly worse than earlier ones (...</td>\n",
       "    </tr>\n",
       "    <tr>\n",
       "      <th>...</th>\n",
       "      <td>...</td>\n",
       "      <td>...</td>\n",
       "      <td>...</td>\n",
       "      <td>...</td>\n",
       "      <td>...</td>\n",
       "    </tr>\n",
       "    <tr>\n",
       "      <th>8189354</th>\n",
       "      <td>A5FVEFQ55OHRS</td>\n",
       "      <td>B01H25XJ76</td>\n",
       "      <td>07 20, 2017</td>\n",
       "      <td>5</td>\n",
       "      <td>She is happy</td>\n",
       "    </tr>\n",
       "    <tr>\n",
       "      <th>8189355</th>\n",
       "      <td>A5FVEFQ55OHRS</td>\n",
       "      <td>B01H25XJ76</td>\n",
       "      <td>07 20, 2017</td>\n",
       "      <td>5</td>\n",
       "      <td>everyone is happpy</td>\n",
       "    </tr>\n",
       "    <tr>\n",
       "      <th>8189356</th>\n",
       "      <td>A5FVEFQ55OHRS</td>\n",
       "      <td>B01H25XJ76</td>\n",
       "      <td>07 20, 2017</td>\n",
       "      <td>5</td>\n",
       "      <td>The 6 year old loves it</td>\n",
       "    </tr>\n",
       "    <tr>\n",
       "      <th>8199065</th>\n",
       "      <td>AY6VLC56K8CVX</td>\n",
       "      <td>B01HGKDE22</td>\n",
       "      <td>12 6, 2016</td>\n",
       "      <td>5</td>\n",
       "      <td>very pleased with promptness and quality</td>\n",
       "    </tr>\n",
       "    <tr>\n",
       "      <th>8199066</th>\n",
       "      <td>AY6VLC56K8CVX</td>\n",
       "      <td>B01HGKDE22</td>\n",
       "      <td>12 6, 2016</td>\n",
       "      <td>5</td>\n",
       "      <td>very pleased with promptness and quality</td>\n",
       "    </tr>\n",
       "  </tbody>\n",
       "</table>\n",
       "<p>392279 rows × 5 columns</p>\n",
       "</div>"
      ],
      "text/plain": [
       "             reviewerID        asin   reviewTime  overall  \\\n",
       "1144      ABWSQI9992Q29  0786955554  09 25, 2016        5   \n",
       "1145      ABWSQI9992Q29  0786955554  09 25, 2016        5   \n",
       "1154     A115TZEJ3U3AER  0786955554  05 11, 2016        5   \n",
       "1155     A115TZEJ3U3AER  0786955554  05 11, 2016        5   \n",
       "1266      AN82BJBT7QNT7  0786955554  06 26, 2011        4   \n",
       "...                 ...         ...          ...      ...   \n",
       "8189354   A5FVEFQ55OHRS  B01H25XJ76  07 20, 2017        5   \n",
       "8189355   A5FVEFQ55OHRS  B01H25XJ76  07 20, 2017        5   \n",
       "8189356   A5FVEFQ55OHRS  B01H25XJ76  07 20, 2017        5   \n",
       "8199065   AY6VLC56K8CVX  B01HGKDE22   12 6, 2016        5   \n",
       "8199066   AY6VLC56K8CVX  B01HGKDE22   12 6, 2016        5   \n",
       "\n",
       "                                                reviewText  \n",
       "1144                                                  nice  \n",
       "1145                                                  nice  \n",
       "1154                                On-time and nice item.  \n",
       "1155                                On-time and nice item.  \n",
       "1266     This set is slightly worse than earlier ones (...  \n",
       "...                                                    ...  \n",
       "8189354                                       She is happy  \n",
       "8189355                                 everyone is happpy  \n",
       "8189356                            The 6 year old loves it  \n",
       "8199065           very pleased with promptness and quality  \n",
       "8199066           very pleased with promptness and quality  \n",
       "\n",
       "[392279 rows x 5 columns]"
      ]
     },
     "execution_count": 6,
     "metadata": {},
     "output_type": "execute_result"
    }
   ],
   "source": [
    "# check for duplicates in the reviews\n",
    "duplicates = reviews_df_raw.duplicated(subset=['reviewerID', 'asin', 'reviewTime', 'overall'], keep=False)\n",
    "print(f\"Number of duplicate reviews: {duplicates.sum()}\")\n",
    "# show the duplicate reviews\n",
    "duplicate_reviews = reviews_df_raw[duplicates]\n",
    "print(\"Duplicate Reviews:\")\n",
    "duplicate_reviews[['reviewerID', 'asin', 'reviewTime', 'overall', 'reviewText']]\n"
   ]
  },
  {
   "cell_type": "code",
   "execution_count": 7,
   "id": "704dc3ac",
   "metadata": {},
   "outputs": [
    {
     "data": {
      "text/plain": [
       "4833690    The whole AquaBeads packaging is a ripoff in m...\n",
       "8189354                              The 6 year old loves it\n",
       "8189355                              The 6 year old loves it\n",
       "8189356                                 I am happy if she is\n",
       "8189367                              The 6 year old loves it\n",
       "8189388                              The 6 year old loves it\n",
       "8189389                                  6 year old loves it\n",
       "8189391                              The 6 year old loves it\n",
       "8189397                              The 6 year old loves it\n",
       "Name: summary, dtype: object"
      ]
     },
     "execution_count": 7,
     "metadata": {},
     "output_type": "execute_result"
    }
   ],
   "source": [
    "reviews_df_raw.loc[reviews_df_raw['reviewerID']=='A5FVEFQ55OHRS', 'summary']"
   ]
  },
  {
   "cell_type": "markdown",
   "id": "740cf4bf",
   "metadata": {},
   "source": [
    "Data type in each column"
   ]
  },
  {
   "cell_type": "code",
   "execution_count": 8,
   "id": "9edab993",
   "metadata": {},
   "outputs": [
    {
     "name": "stdout",
     "output_type": "stream",
     "text": [
      "<class 'pandas.core.frame.DataFrame'>\n",
      "RangeIndex: 8201231 entries, 0 to 8201230\n",
      "Data columns (total 12 columns):\n",
      " #   Column          Dtype \n",
      "---  ------          ----- \n",
      " 0   overall         int64 \n",
      " 1   vote            object\n",
      " 2   verified        bool  \n",
      " 3   reviewTime      object\n",
      " 4   reviewerID      object\n",
      " 5   asin            object\n",
      " 6   reviewerName    object\n",
      " 7   reviewText      object\n",
      " 8   summary         object\n",
      " 9   unixReviewTime  int64 \n",
      " 10  image           object\n",
      " 11  style           object\n",
      "dtypes: bool(1), int64(2), object(9)\n",
      "memory usage: 696.1+ MB\n"
     ]
    }
   ],
   "source": [
    "reviews_df_raw.info()"
   ]
  },
  {
   "cell_type": "markdown",
   "id": "a0eb2c7e",
   "metadata": {},
   "source": [
    "EDA on Overall"
   ]
  },
  {
   "cell_type": "code",
   "execution_count": 9,
   "id": "5b7fdcd4",
   "metadata": {},
   "outputs": [
    {
     "data": {
      "image/png": "[encoded data removed]",
      "text/plain": [
       "<Figure size 640x480 with 1 Axes>"
      ]
     },
     "metadata": {},
     "output_type": "display_data"
    }
   ],
   "source": [
    "sns.countplot(x='overall', data=reviews_df_raw)\n",
    "plt.title('Histogram of Ratings')\n",
    "plt.xlabel('Rating')\n",
    "plt.ylabel('Count')\n",
    "plt.show()"
   ]
  },
  {
   "cell_type": "code",
   "execution_count": null,
   "id": "763a31b2",
   "metadata": {},
   "outputs": [
    {
     "data": {
      "text/html": [
       "<div>\n",
       "<style scoped>\n",
       "    .dataframe tbody tr th:only-of-type {\n",
       "        vertical-align: middle;\n",
       "    }\n",
       "\n",
       "    .dataframe tbody tr th {\n",
       "        vertical-align: top;\n",
       "    }\n",
       "\n",
       "    .dataframe thead tr th {\n",
       "        text-align: left;\n",
       "    }\n",
       "</style>\n",
       "<table border=\"1\" class=\"dataframe\">\n",
       "  <thead>\n",
       "    <tr>\n",
       "      <th></th>\n",
       "      <th>asin</th>\n",
       "      <th colspan=\"6\" halign=\"left\">overall</th>\n",
       "    </tr>\n",
       "    <tr>\n",
       "      <th></th>\n",
       "      <th></th>\n",
       "      <th>mean</th>\n",
       "      <th>std</th>\n",
       "      <th>min</th>\n",
       "      <th>max</th>\n",
       "      <th>median</th>\n",
       "      <th>count</th>\n",
       "    </tr>\n",
       "  </thead>\n",
       "  <tbody>\n",
       "    <tr>\n",
       "      <th>0</th>\n",
       "      <td>0000191639</td>\n",
       "      <td>5.000000</td>\n",
       "      <td>NaN</td>\n",
       "      <td>5</td>\n",
       "      <td>5</td>\n",
       "      <td>5.0</td>\n",
       "      <td>1</td>\n",
       "    </tr>\n",
       "    <tr>\n",
       "      <th>1</th>\n",
       "      <td>0004950763</td>\n",
       "      <td>5.000000</td>\n",
       "      <td>NaN</td>\n",
       "      <td>5</td>\n",
       "      <td>5</td>\n",
       "      <td>5.0</td>\n",
       "      <td>1</td>\n",
       "    </tr>\n",
       "    <tr>\n",
       "      <th>2</th>\n",
       "      <td>0004983289</td>\n",
       "      <td>4.800000</td>\n",
       "      <td>0.447214</td>\n",
       "      <td>4</td>\n",
       "      <td>5</td>\n",
       "      <td>5.0</td>\n",
       "      <td>5</td>\n",
       "    </tr>\n",
       "    <tr>\n",
       "      <th>3</th>\n",
       "      <td>0005069491</td>\n",
       "      <td>4.000000</td>\n",
       "      <td>NaN</td>\n",
       "      <td>4</td>\n",
       "      <td>4</td>\n",
       "      <td>4.0</td>\n",
       "      <td>1</td>\n",
       "    </tr>\n",
       "    <tr>\n",
       "      <th>4</th>\n",
       "      <td>0006466222</td>\n",
       "      <td>5.000000</td>\n",
       "      <td>NaN</td>\n",
       "      <td>5</td>\n",
       "      <td>5</td>\n",
       "      <td>5.0</td>\n",
       "      <td>1</td>\n",
       "    </tr>\n",
       "    <tr>\n",
       "      <th>...</th>\n",
       "      <td>...</td>\n",
       "      <td>...</td>\n",
       "      <td>...</td>\n",
       "      <td>...</td>\n",
       "      <td>...</td>\n",
       "      <td>...</td>\n",
       "      <td>...</td>\n",
       "    </tr>\n",
       "    <tr>\n",
       "      <th>624787</th>\n",
       "      <td>B01HJDFWDK</td>\n",
       "      <td>4.400000</td>\n",
       "      <td>1.069966</td>\n",
       "      <td>1</td>\n",
       "      <td>5</td>\n",
       "      <td>5.0</td>\n",
       "      <td>30</td>\n",
       "    </tr>\n",
       "    <tr>\n",
       "      <th>624788</th>\n",
       "      <td>B01HJDGVFS</td>\n",
       "      <td>4.200000</td>\n",
       "      <td>1.788854</td>\n",
       "      <td>1</td>\n",
       "      <td>5</td>\n",
       "      <td>5.0</td>\n",
       "      <td>5</td>\n",
       "    </tr>\n",
       "    <tr>\n",
       "      <th>624789</th>\n",
       "      <td>B01HJDUNRU</td>\n",
       "      <td>4.222222</td>\n",
       "      <td>1.221501</td>\n",
       "      <td>1</td>\n",
       "      <td>5</td>\n",
       "      <td>5.0</td>\n",
       "      <td>36</td>\n",
       "    </tr>\n",
       "    <tr>\n",
       "      <th>624790</th>\n",
       "      <td>B01HJFAGJI</td>\n",
       "      <td>3.753425</td>\n",
       "      <td>1.441265</td>\n",
       "      <td>1</td>\n",
       "      <td>5</td>\n",
       "      <td>4.0</td>\n",
       "      <td>73</td>\n",
       "    </tr>\n",
       "    <tr>\n",
       "      <th>624791</th>\n",
       "      <td>B01HJHA7GI</td>\n",
       "      <td>5.000000</td>\n",
       "      <td>0.000000</td>\n",
       "      <td>5</td>\n",
       "      <td>5</td>\n",
       "      <td>5.0</td>\n",
       "      <td>4</td>\n",
       "    </tr>\n",
       "  </tbody>\n",
       "</table>\n",
       "<p>624792 rows × 7 columns</p>\n",
       "</div>"
      ],
      "text/plain": [
       "              asin   overall                               \n",
       "                        mean       std min max median count\n",
       "0       0000191639  5.000000       NaN   5   5    5.0     1\n",
       "1       0004950763  5.000000       NaN   5   5    5.0     1\n",
       "2       0004983289  4.800000  0.447214   4   5    5.0     5\n",
       "3       0005069491  4.000000       NaN   4   4    4.0     1\n",
       "4       0006466222  5.000000       NaN   5   5    5.0     1\n",
       "...            ...       ...       ...  ..  ..    ...   ...\n",
       "624787  B01HJDFWDK  4.400000  1.069966   1   5    5.0    30\n",
       "624788  B01HJDGVFS  4.200000  1.788854   1   5    5.0     5\n",
       "624789  B01HJDUNRU  4.222222  1.221501   1   5    5.0    36\n",
       "624790  B01HJFAGJI  3.753425  1.441265   1   5    4.0    73\n",
       "624791  B01HJHA7GI  5.000000  0.000000   5   5    5.0     4\n",
       "\n",
       "[624792 rows x 7 columns]"
      ]
     },
     "execution_count": 46,
     "metadata": {},
     "output_type": "execute_result"
    }
   ],
   "source": [
    "# aggregation of ratings\n",
    "reviews_df_raw.groupby('asin').agg({'overall': ['mean', 'std', 'min', 'max', 'median', 'count']}).reset_index()"
   ]
  },
  {
   "cell_type": "code",
   "execution_count": 49,
   "id": "c4bdbb69",
   "metadata": {},
   "outputs": [
    {
     "data": {
      "text/html": [
       "<div>\n",
       "<style scoped>\n",
       "    .dataframe tbody tr th:only-of-type {\n",
       "        vertical-align: middle;\n",
       "    }\n",
       "\n",
       "    .dataframe tbody tr th {\n",
       "        vertical-align: top;\n",
       "    }\n",
       "\n",
       "    .dataframe thead th {\n",
       "        text-align: right;\n",
       "    }\n",
       "</style>\n",
       "<table border=\"1\" class=\"dataframe\">\n",
       "  <thead>\n",
       "    <tr style=\"text-align: right;\">\n",
       "      <th></th>\n",
       "      <th>asin</th>\n",
       "      <th>pct_positive</th>\n",
       "      <th>pct_negative</th>\n",
       "    </tr>\n",
       "  </thead>\n",
       "  <tbody>\n",
       "    <tr>\n",
       "      <th>0</th>\n",
       "      <td>0000191639</td>\n",
       "      <td>1.000000</td>\n",
       "      <td>0.000000</td>\n",
       "    </tr>\n",
       "    <tr>\n",
       "      <th>1</th>\n",
       "      <td>0004950763</td>\n",
       "      <td>1.000000</td>\n",
       "      <td>0.000000</td>\n",
       "    </tr>\n",
       "    <tr>\n",
       "      <th>2</th>\n",
       "      <td>0004983289</td>\n",
       "      <td>1.000000</td>\n",
       "      <td>0.000000</td>\n",
       "    </tr>\n",
       "    <tr>\n",
       "      <th>3</th>\n",
       "      <td>0005069491</td>\n",
       "      <td>1.000000</td>\n",
       "      <td>0.000000</td>\n",
       "    </tr>\n",
       "    <tr>\n",
       "      <th>4</th>\n",
       "      <td>0006466222</td>\n",
       "      <td>1.000000</td>\n",
       "      <td>0.000000</td>\n",
       "    </tr>\n",
       "    <tr>\n",
       "      <th>...</th>\n",
       "      <td>...</td>\n",
       "      <td>...</td>\n",
       "      <td>...</td>\n",
       "    </tr>\n",
       "    <tr>\n",
       "      <th>624787</th>\n",
       "      <td>B01HJDFWDK</td>\n",
       "      <td>0.866667</td>\n",
       "      <td>0.100000</td>\n",
       "    </tr>\n",
       "    <tr>\n",
       "      <th>624788</th>\n",
       "      <td>B01HJDGVFS</td>\n",
       "      <td>0.800000</td>\n",
       "      <td>0.200000</td>\n",
       "    </tr>\n",
       "    <tr>\n",
       "      <th>624789</th>\n",
       "      <td>B01HJDUNRU</td>\n",
       "      <td>0.694444</td>\n",
       "      <td>0.083333</td>\n",
       "    </tr>\n",
       "    <tr>\n",
       "      <th>624790</th>\n",
       "      <td>B01HJFAGJI</td>\n",
       "      <td>0.616438</td>\n",
       "      <td>0.191781</td>\n",
       "    </tr>\n",
       "    <tr>\n",
       "      <th>624791</th>\n",
       "      <td>B01HJHA7GI</td>\n",
       "      <td>1.000000</td>\n",
       "      <td>0.000000</td>\n",
       "    </tr>\n",
       "  </tbody>\n",
       "</table>\n",
       "<p>624792 rows × 3 columns</p>\n",
       "</div>"
      ],
      "text/plain": [
       "              asin  pct_positive  pct_negative\n",
       "0       0000191639      1.000000      0.000000\n",
       "1       0004950763      1.000000      0.000000\n",
       "2       0004983289      1.000000      0.000000\n",
       "3       0005069491      1.000000      0.000000\n",
       "4       0006466222      1.000000      0.000000\n",
       "...            ...           ...           ...\n",
       "624787  B01HJDFWDK      0.866667      0.100000\n",
       "624788  B01HJDGVFS      0.800000      0.200000\n",
       "624789  B01HJDUNRU      0.694444      0.083333\n",
       "624790  B01HJFAGJI      0.616438      0.191781\n",
       "624791  B01HJHA7GI      1.000000      0.000000\n",
       "\n",
       "[624792 rows x 3 columns]"
      ]
     },
     "execution_count": 49,
     "metadata": {},
     "output_type": "execute_result"
    }
   ],
   "source": [
    "# percent positive reviews -- rating >= 4\n",
    "# percent negative reviews -- rating <= 2\n",
    "\n",
    "reviews_df_raw['is_positive'] = (reviews_df_raw['overall'] >= 4).astype(int)\n",
    "reviews_df_raw['is_negative'] = (reviews_df_raw['overall'] <= 2).astype(int)\n",
    "\n",
    "reviews_df_raw.groupby('asin')[['is_positive', 'is_negative']].mean().reset_index().rename(columns={'is_positive': 'pct_positive', 'is_negative': 'pct_negative'})"
   ]
  },
  {
   "cell_type": "code",
   "execution_count": 10,
   "id": "c8ef88b3",
   "metadata": {},
   "outputs": [
    {
     "data": {
      "text/plain": [
       "count    8.201231e+06\n",
       "mean     4.229314e+00\n",
       "std      1.280496e+00\n",
       "min      1.000000e+00\n",
       "25%      4.000000e+00\n",
       "50%      5.000000e+00\n",
       "75%      5.000000e+00\n",
       "max      5.000000e+00\n",
       "Name: overall, dtype: float64"
      ]
     },
     "execution_count": 10,
     "metadata": {},
     "output_type": "execute_result"
    }
   ],
   "source": [
    "reviews_df_raw['overall'] = reviews_df_raw['overall'].astype(int)\n",
    "reviews_df_raw['overall'].describe()"
   ]
  },
  {
   "cell_type": "markdown",
   "id": "4b4f48a0",
   "metadata": {},
   "source": [
    "EDA Verified Reviews"
   ]
  },
  {
   "cell_type": "code",
   "execution_count": null,
   "id": "255da853",
   "metadata": {},
   "outputs": [
    {
     "data": {
      "text/plain": [
       "<Axes: xlabel='verified', ylabel='count'>"
      ]
     },
     "metadata": {},
     "output_type": "display_data"
    },
    {
     "data": {
      "image/png": "[encoded data removed]",
      "text/plain": [
       "<Figure size 640x480 with 1 Axes>"
      ]
     },
     "metadata": {},
     "output_type": "display_data"
    }
   ],
   "source": [
    "# majority of reviewers are verified\n",
    "sns.countplot(reviews_df_raw, x='verified')"
   ]
  },
  {
   "cell_type": "code",
   "execution_count": null,
   "id": "a4781c37",
   "metadata": {},
   "outputs": [
    {
     "data": {
      "text/plain": [
       "asin\n",
       "0000191639    1.000000\n",
       "0004950763    1.000000\n",
       "0004983289    1.000000\n",
       "0005069491    1.000000\n",
       "0006466222    1.000000\n",
       "                ...   \n",
       "B01HJDFWDK    0.966667\n",
       "B01HJDGVFS    1.000000\n",
       "B01HJDUNRU    0.944444\n",
       "B01HJFAGJI    0.876712\n",
       "B01HJHA7GI    1.000000\n",
       "Name: verified, Length: 624792, dtype: float64"
      ]
     },
     "execution_count": 50,
     "metadata": {},
     "output_type": "execute_result"
    }
   ],
   "source": [
    "reviews_df_raw.groupby('asin')['verified'].mean()"
   ]
  },
  {
   "cell_type": "markdown",
   "id": "0e2f5ad6",
   "metadata": {},
   "source": [
    "Reviewer EDA"
   ]
  },
  {
   "cell_type": "code",
   "execution_count": null,
   "id": "fe164630",
   "metadata": {},
   "outputs": [],
   "source": [
    "# unique number of reviewers per product\n",
    "# count number of unique reviewers in column\n",
    "reviewer_counts = reviews_df_raw['reviewerID'].value_counts()\n",
    "reviews_df_raw.groupby('asin')['reviewerID'].nunique()\n",
    "\n",
    "\n"
   ]
  },
  {
   "cell_type": "markdown",
   "id": "c846d5c9",
   "metadata": {},
   "source": [
    "Review Text Length Distribution"
   ]
  },
  {
   "cell_type": "code",
   "execution_count": 11,
   "id": "546a07f4",
   "metadata": {},
   "outputs": [
    {
     "data": {
      "image/png": "[encoded data removed]",
      "text/plain": [
       "<Figure size 640x480 with 1 Axes>"
      ]
     },
     "metadata": {},
     "output_type": "display_data"
    }
   ],
   "source": [
    "# review text length\n",
    "reviews_df_raw['review_length'] = reviews_df_raw['reviewText'].apply(lambda x: len(x) if isinstance(x, str) else 0)\n",
    "sns.histplot(reviews_df_raw['review_length'], bins=50)\n",
    "plt.title('Distribution of Review Text Length')\n",
    "plt.xlabel('Review Length')\n",
    "plt.ylabel('Frequency')\n",
    "plt.show()"
   ]
  },
  {
   "cell_type": "code",
   "execution_count": 12,
   "id": "1b6011bf",
   "metadata": {},
   "outputs": [
    {
     "data": {
      "text/plain": [
       "count    8.201231e+06\n",
       "mean     1.935300e+02\n",
       "std      3.096168e+02\n",
       "min      0.000000e+00\n",
       "25%      4.100000e+01\n",
       "50%      1.090000e+02\n",
       "75%      2.230000e+02\n",
       "max      3.256300e+04\n",
       "Name: review_length, dtype: float64"
      ]
     },
     "execution_count": 12,
     "metadata": {},
     "output_type": "execute_result"
    }
   ],
   "source": [
    "# Length distribution (number of characters or words)\n",
    "reviews_df_raw['review_length'].describe()"
   ]
  },
  {
   "cell_type": "markdown",
   "id": "73f2f6ce",
   "metadata": {},
   "source": [
    "Unique Number of Products and Reviews Per Product"
   ]
  },
  {
   "cell_type": "code",
   "execution_count": 13,
   "id": "d7b7e9da",
   "metadata": {},
   "outputs": [
    {
     "name": "stdout",
     "output_type": "stream",
     "text": [
      "There are 624792 unique products.\n"
     ]
    }
   ],
   "source": [
    "print(f\"There are {len(reviews_df_raw['asin'].unique())} unique products.\")"
   ]
  },
  {
   "cell_type": "code",
   "execution_count": 14,
   "id": "a6d83987",
   "metadata": {},
   "outputs": [
    {
     "name": "stdout",
     "output_type": "stream",
     "text": [
      "        review_count\n",
      "count  624792.000000\n",
      "mean       13.126338\n",
      "std        66.866361\n",
      "min         1.000000\n",
      "25%         1.000000\n",
      "50%         2.000000\n",
      "75%         6.000000\n",
      "max     12680.000000\n"
     ]
    },
    {
     "data": {
      "text/plain": [
       "<Axes: xlabel='review_count', ylabel='Count'>"
      ]
     },
     "execution_count": 14,
     "metadata": {},
     "output_type": "execute_result"
    },
    {
     "data": {
      "image/png": "[encoded data removed]",
      "text/plain": [
       "<Figure size 640x480 with 1 Axes>"
      ]
     },
     "metadata": {},
     "output_type": "display_data"
    }
   ],
   "source": [
    "# count the number of reviews per product\n",
    "reviews_per_product = reviews_df_raw.groupby('asin').size().reset_index(name='review_count')\n",
    "# look at summary statistics for the number of reviews per product\n",
    "print(reviews_per_product.describe())\n",
    "# plot the distribution of the number of reviews per product\n",
    "sns.histplot(reviews_per_product['review_count'], bins=100)\n",
    "\n"
   ]
  },
  {
   "cell_type": "code",
   "execution_count": 15,
   "id": "08e8cb7f",
   "metadata": {},
   "outputs": [
    {
     "data": {
      "text/plain": [
       "<Axes: xlabel='review_count'>"
      ]
     },
     "execution_count": 15,
     "metadata": {},
     "output_type": "execute_result"
    },
    {
     "data": {
      "image/png": "[encoded data removed]",
      "text/plain": [
       "<Figure size 640x480 with 1 Axes>"
      ]
     },
     "metadata": {},
     "output_type": "display_data"
    }
   ],
   "source": [
    "# overview of the number of reviews per product\n",
    "reviews_per_product['review_count'].value_counts().sort_index().head(20).plot(kind='bar')"
   ]
  },
  {
   "cell_type": "code",
   "execution_count": 16,
   "id": "7d79c12b",
   "metadata": {},
   "outputs": [
    {
     "data": {
      "text/html": [
       "<div>\n",
       "<style scoped>\n",
       "    .dataframe tbody tr th:only-of-type {\n",
       "        vertical-align: middle;\n",
       "    }\n",
       "\n",
       "    .dataframe tbody tr th {\n",
       "        vertical-align: top;\n",
       "    }\n",
       "\n",
       "    .dataframe thead th {\n",
       "        text-align: right;\n",
       "    }\n",
       "</style>\n",
       "<table border=\"1\" class=\"dataframe\">\n",
       "  <thead>\n",
       "    <tr style=\"text-align: right;\">\n",
       "      <th></th>\n",
       "      <th>asin</th>\n",
       "      <th>review_count</th>\n",
       "    </tr>\n",
       "  </thead>\n",
       "  <tbody>\n",
       "    <tr>\n",
       "      <th>67864</th>\n",
       "      <td>B000YDDF6O</td>\n",
       "      <td>12680</td>\n",
       "    </tr>\n",
       "    <tr>\n",
       "      <th>182924</th>\n",
       "      <td>B004S8F7QM</td>\n",
       "      <td>8816</td>\n",
       "    </tr>\n",
       "    <tr>\n",
       "      <th>517297</th>\n",
       "      <td>B010TQY7A8</td>\n",
       "      <td>7487</td>\n",
       "    </tr>\n",
       "    <tr>\n",
       "      <th>499642</th>\n",
       "      <td>B00WR5357G</td>\n",
       "      <td>6617</td>\n",
       "    </tr>\n",
       "    <tr>\n",
       "      <th>157352</th>\n",
       "      <td>B003UCODIA</td>\n",
       "      <td>6188</td>\n",
       "    </tr>\n",
       "    <tr>\n",
       "      <th>428799</th>\n",
       "      <td>B00MNG37C2</td>\n",
       "      <td>4639</td>\n",
       "    </tr>\n",
       "    <tr>\n",
       "      <th>64063</th>\n",
       "      <td>B000WD3XBI</td>\n",
       "      <td>4590</td>\n",
       "    </tr>\n",
       "    <tr>\n",
       "      <th>621560</th>\n",
       "      <td>B01H1NV1RE</td>\n",
       "      <td>4340</td>\n",
       "    </tr>\n",
       "    <tr>\n",
       "      <th>484192</th>\n",
       "      <td>B00U78NQHO</td>\n",
       "      <td>4225</td>\n",
       "    </tr>\n",
       "    <tr>\n",
       "      <th>517316</th>\n",
       "      <td>B010TU7LP2</td>\n",
       "      <td>4197</td>\n",
       "    </tr>\n",
       "    <tr>\n",
       "      <th>280</th>\n",
       "      <td>0975277324</td>\n",
       "      <td>4169</td>\n",
       "    </tr>\n",
       "    <tr>\n",
       "      <th>322257</th>\n",
       "      <td>B00CS16EJU</td>\n",
       "      <td>4007</td>\n",
       "    </tr>\n",
       "    <tr>\n",
       "      <th>69248</th>\n",
       "      <td>B000ZKPOTM</td>\n",
       "      <td>3920</td>\n",
       "    </tr>\n",
       "    <tr>\n",
       "      <th>279038</th>\n",
       "      <td>B009T45XDW</td>\n",
       "      <td>3915</td>\n",
       "    </tr>\n",
       "    <tr>\n",
       "      <th>325239</th>\n",
       "      <td>B00D3IN11Q</td>\n",
       "      <td>3915</td>\n",
       "    </tr>\n",
       "    <tr>\n",
       "      <th>34907</th>\n",
       "      <td>B000GUGY1S</td>\n",
       "      <td>3914</td>\n",
       "    </tr>\n",
       "    <tr>\n",
       "      <th>81959</th>\n",
       "      <td>B001794YO6</td>\n",
       "      <td>3886</td>\n",
       "    </tr>\n",
       "    <tr>\n",
       "      <th>250233</th>\n",
       "      <td>B007GE75HY</td>\n",
       "      <td>3771</td>\n",
       "    </tr>\n",
       "    <tr>\n",
       "      <th>68005</th>\n",
       "      <td>B000YFSZU8</td>\n",
       "      <td>3706</td>\n",
       "    </tr>\n",
       "    <tr>\n",
       "      <th>79875</th>\n",
       "      <td>B00166ES9G</td>\n",
       "      <td>3664</td>\n",
       "    </tr>\n",
       "  </tbody>\n",
       "</table>\n",
       "</div>"
      ],
      "text/plain": [
       "              asin  review_count\n",
       "67864   B000YDDF6O         12680\n",
       "182924  B004S8F7QM          8816\n",
       "517297  B010TQY7A8          7487\n",
       "499642  B00WR5357G          6617\n",
       "157352  B003UCODIA          6188\n",
       "428799  B00MNG37C2          4639\n",
       "64063   B000WD3XBI          4590\n",
       "621560  B01H1NV1RE          4340\n",
       "484192  B00U78NQHO          4225\n",
       "517316  B010TU7LP2          4197\n",
       "280     0975277324          4169\n",
       "322257  B00CS16EJU          4007\n",
       "69248   B000ZKPOTM          3920\n",
       "279038  B009T45XDW          3915\n",
       "325239  B00D3IN11Q          3915\n",
       "34907   B000GUGY1S          3914\n",
       "81959   B001794YO6          3886\n",
       "250233  B007GE75HY          3771\n",
       "68005   B000YFSZU8          3706\n",
       "79875   B00166ES9G          3664"
      ]
     },
     "execution_count": 16,
     "metadata": {},
     "output_type": "execute_result"
    }
   ],
   "source": [
    "# show the product with the most reviews\n",
    "reviews_per_product.sort_values(by='review_count', ascending=False).head(20)"
   ]
  },
  {
   "cell_type": "code",
   "execution_count": 17,
   "id": "32377670",
   "metadata": {},
   "outputs": [
    {
     "data": {
      "text/plain": [
       "count    624792.000000\n",
       "mean         13.126338\n",
       "std          66.866361\n",
       "min           1.000000\n",
       "25%           1.000000\n",
       "50%           2.000000\n",
       "75%           6.000000\n",
       "max       12680.000000\n",
       "Name: reviewText, dtype: float64"
      ]
     },
     "execution_count": 17,
     "metadata": {},
     "output_type": "execute_result"
    }
   ],
   "source": [
    "# look at number of reviews per product and the distribution\n",
    "review_counts = reviews_df_raw.groupby('asin')['reviewText'].size()\n",
    "review_counts.describe()"
   ]
  },
  {
   "cell_type": "code",
   "execution_count": 18,
   "id": "ccc61744",
   "metadata": {},
   "outputs": [
    {
     "data": {
      "text/plain": [
       "0.05      1.0\n",
       "0.10      1.0\n",
       "0.20      1.0\n",
       "0.25      1.0\n",
       "0.50      2.0\n",
       "0.60      3.0\n",
       "0.75      6.0\n",
       "0.80      9.0\n",
       "0.90     22.0\n",
       "0.95     48.0\n",
       "0.99    193.0\n",
       "Name: reviewText, dtype: float64"
      ]
     },
     "execution_count": 18,
     "metadata": {},
     "output_type": "execute_result"
    }
   ],
   "source": [
    "review_counts.quantile([0.05,0.1,0.2,0.25,0.5,0.6,0.75,0.8,0.9,0.95,0.99])"
   ]
  },
  {
   "cell_type": "code",
   "execution_count": 19,
   "id": "92b0d925",
   "metadata": {},
   "outputs": [
    {
     "data": {
      "text/plain": [
       "<Axes: xlabel='reviewText', ylabel='Count'>"
      ]
     },
     "execution_count": 19,
     "metadata": {},
     "output_type": "execute_result"
    },
    {
     "data": {
      "image/png": "[encoded data removed]",
      "text/plain": [
       "<Figure size 640x480 with 1 Axes>"
      ]
     },
     "metadata": {},
     "output_type": "display_data"
    }
   ],
   "source": [
    "sns.histplot(review_counts, bins=300)"
   ]
  },
  {
   "cell_type": "markdown",
   "id": "82fffee5",
   "metadata": {},
   "source": [
    "Heatmap of Some of the Columns"
   ]
  },
  {
   "cell_type": "code",
   "execution_count": 20,
   "id": "4abea527",
   "metadata": {},
   "outputs": [
    {
     "data": {
      "image/png": "[encoded data removed]",
      "text/plain": [
       "<Figure size 640x480 with 1 Axes>"
      ]
     },
     "metadata": {},
     "output_type": "display_data"
    },
    {
     "data": {
      "image/png": "[encoded data removed]",
      "text/plain": [
       "<Figure size 640x480 with 2 Axes>"
      ]
     },
     "metadata": {},
     "output_type": "display_data"
    }
   ],
   "source": [
    "# correlation between overall rating and review length\n",
    "sns.scatterplot(x='review_length', y='overall', data=reviews_df_raw)\n",
    "plt.title('Overall Rating vs Review Length')\n",
    "plt.xlabel('Review Length')\n",
    "plt.ylabel('Overall Rating')\n",
    "plt.show()\n",
    "\n",
    "# Ensure 'vote' is numeric for correlation calculation\n",
    "if 'vote' in reviews_df_raw.columns:\n",
    "\treviews_df_raw['vote'] = pd.to_numeric(reviews_df_raw['vote'].str.replace(',', ''), errors='coerce')\n",
    "\n",
    "# correlation matrix (only numeric columns)\n",
    "correlation_matrix = reviews_df_raw.select_dtypes(include=[np.number]).corr()\n",
    "sns.heatmap(correlation_matrix, annot=True, cmap='coolwarm', fmt='.2f')\n",
    "plt.title('Correlation Matrix')\n",
    "plt.show()"
   ]
  },
  {
   "cell_type": "code",
   "execution_count": 21,
   "id": "6b327515",
   "metadata": {},
   "outputs": [
    {
     "data": {
      "image/png": "[encoded data removed]",
      "text/plain": [
       "<Figure size 640x480 with 1 Axes>"
      ]
     },
     "metadata": {},
     "output_type": "display_data"
    },
    {
     "data": {
      "image/png": "[encoded data removed]",
      "text/plain": [
       "<Figure size 640x480 with 1 Axes>"
      ]
     },
     "metadata": {},
     "output_type": "display_data"
    }
   ],
   "source": [
    "# Plot number of reviews per month/year using reviewTime or unixReviewTime.\n",
    "reviews_df_raw['reviewTime'] = pd.to_datetime(reviews_df_raw['reviewTime'], errors='coerce')\n",
    "reviews_df_raw['review_month'] = reviews_df_raw['reviewTime'].dt.to_period('M')\n",
    "reviews_per_month = reviews_df_raw.groupby('review_month').size().reset_index(name='review_count')\n",
    "# Convert review_month to string for plotting\n",
    "reviews_per_month['review_month_str'] = reviews_per_month['review_month'].astype(str)\n",
    "sns.lineplot(x='review_month_str', y='review_count', data=reviews_per_month)\n",
    "plt.title('Number of Reviews per Month')\n",
    "plt.xlabel('Month')\n",
    "plt.ylabel('Number of Reviews')\n",
    "plt.xticks(rotation=45)\n",
    "plt.show()\n",
    "\n",
    "# do the same but for the year\n",
    "reviews_df_raw['review_year'] = reviews_df_raw['reviewTime'].dt.year\n",
    "reviews_per_year = reviews_df_raw.groupby('review_year').size().reset_index(name='review_count')\n",
    "sns.barplot(x='review_year', y='review_count', data=reviews_per_year)\n",
    "plt.title('Number of Reviews per Year')\n",
    "plt.xlabel('Year')\n",
    "plt.ylabel('Number of Reviews')\n",
    "plt.xticks(rotation=45)\n",
    "plt.show()\n"
   ]
  },
  {
   "cell_type": "markdown",
   "id": "8ffef9c8",
   "metadata": {},
   "source": [
    "Style Column Cleaning"
   ]
  },
  {
   "cell_type": "code",
   "execution_count": 40,
   "id": "e75a3b83",
   "metadata": {},
   "outputs": [
    {
     "data": {
      "text/plain": [
       "RangeIndex(start=0, stop=8201231, step=1)"
      ]
     },
     "execution_count": 40,
     "metadata": {},
     "output_type": "execute_result"
    }
   ],
   "source": [
    "reviews_df_raw['style'].keys()"
   ]
  },
  {
   "cell_type": "markdown",
   "id": "ae0d92f6",
   "metadata": {},
   "source": [
    "Trying to Find Bots\n",
    "\n",
    "Potential Bot Criteria:\n",
    "- review text is short or generic\n",
    "- reviews look like other reviews for the same product\n",
    "- timing of review, that is, reviews published at the same time \n",
    "- verified reviewers"
   ]
  },
  {
   "cell_type": "code",
   "execution_count": 44,
   "id": "9fd5218d",
   "metadata": {},
   "outputs": [
    {
     "data": {
      "text/html": [
       "<div>\n",
       "<style scoped>\n",
       "    .dataframe tbody tr th:only-of-type {\n",
       "        vertical-align: middle;\n",
       "    }\n",
       "\n",
       "    .dataframe tbody tr th {\n",
       "        vertical-align: top;\n",
       "    }\n",
       "\n",
       "    .dataframe thead th {\n",
       "        text-align: right;\n",
       "    }\n",
       "</style>\n",
       "<table border=\"1\" class=\"dataframe\">\n",
       "  <thead>\n",
       "    <tr style=\"text-align: right;\">\n",
       "      <th></th>\n",
       "      <th>overall</th>\n",
       "      <th>vote</th>\n",
       "      <th>verified</th>\n",
       "      <th>reviewTime</th>\n",
       "      <th>reviewerID</th>\n",
       "      <th>asin</th>\n",
       "      <th>reviewerName</th>\n",
       "      <th>reviewText</th>\n",
       "      <th>summary</th>\n",
       "      <th>unixReviewTime</th>\n",
       "      <th>image</th>\n",
       "      <th>style</th>\n",
       "      <th>review_length</th>\n",
       "      <th>review_month</th>\n",
       "      <th>review_year</th>\n",
       "    </tr>\n",
       "  </thead>\n",
       "  <tbody>\n",
       "    <tr>\n",
       "      <th>810</th>\n",
       "      <td>5</td>\n",
       "      <td>NaN</td>\n",
       "      <td>True</td>\n",
       "      <td>2015-04-25</td>\n",
       "      <td>AS3VY0F82LWPW</td>\n",
       "      <td>0786950072</td>\n",
       "      <td>Jesse</td>\n",
       "      <td>great game</td>\n",
       "      <td>Five Stars</td>\n",
       "      <td>1429920000</td>\n",
       "      <td>NaN</td>\n",
       "      <td>NaN</td>\n",
       "      <td>10</td>\n",
       "      <td>2015-04</td>\n",
       "      <td>2015</td>\n",
       "    </tr>\n",
       "    <tr>\n",
       "      <th>811</th>\n",
       "      <td>5</td>\n",
       "      <td>NaN</td>\n",
       "      <td>True</td>\n",
       "      <td>2015-04-15</td>\n",
       "      <td>A103YDWSIMQ02D</td>\n",
       "      <td>0786950072</td>\n",
       "      <td>Ryan</td>\n",
       "      <td>great game</td>\n",
       "      <td>Five Stars</td>\n",
       "      <td>1429056000</td>\n",
       "      <td>NaN</td>\n",
       "      <td>NaN</td>\n",
       "      <td>10</td>\n",
       "      <td>2015-04</td>\n",
       "      <td>2015</td>\n",
       "    </tr>\n",
       "    <tr>\n",
       "      <th>933</th>\n",
       "      <td>5</td>\n",
       "      <td>NaN</td>\n",
       "      <td>True</td>\n",
       "      <td>2017-11-22</td>\n",
       "      <td>A32YPU6CNW8U33</td>\n",
       "      <td>0786955708</td>\n",
       "      <td>LUDWIG</td>\n",
       "      <td>Awesome</td>\n",
       "      <td>Five Stars</td>\n",
       "      <td>1511308800</td>\n",
       "      <td>NaN</td>\n",
       "      <td>NaN</td>\n",
       "      <td>7</td>\n",
       "      <td>2017-11</td>\n",
       "      <td>2017</td>\n",
       "    </tr>\n",
       "    <tr>\n",
       "      <th>1006</th>\n",
       "      <td>5</td>\n",
       "      <td>NaN</td>\n",
       "      <td>True</td>\n",
       "      <td>2015-10-22</td>\n",
       "      <td>AUDYLDJE50NHX</td>\n",
       "      <td>0786955708</td>\n",
       "      <td>Luke</td>\n",
       "      <td>great game</td>\n",
       "      <td>Five Stars</td>\n",
       "      <td>1445472000</td>\n",
       "      <td>NaN</td>\n",
       "      <td>NaN</td>\n",
       "      <td>10</td>\n",
       "      <td>2015-10</td>\n",
       "      <td>2015</td>\n",
       "    </tr>\n",
       "    <tr>\n",
       "      <th>1037</th>\n",
       "      <td>5</td>\n",
       "      <td>NaN</td>\n",
       "      <td>False</td>\n",
       "      <td>2014-12-21</td>\n",
       "      <td>AFRN3TAR19KPN</td>\n",
       "      <td>0786955708</td>\n",
       "      <td>Mallory Morton</td>\n",
       "      <td>Awesome</td>\n",
       "      <td>Five Stars</td>\n",
       "      <td>1419120000</td>\n",
       "      <td>NaN</td>\n",
       "      <td>NaN</td>\n",
       "      <td>7</td>\n",
       "      <td>2014-12</td>\n",
       "      <td>2014</td>\n",
       "    </tr>\n",
       "    <tr>\n",
       "      <th>...</th>\n",
       "      <td>...</td>\n",
       "      <td>...</td>\n",
       "      <td>...</td>\n",
       "      <td>...</td>\n",
       "      <td>...</td>\n",
       "      <td>...</td>\n",
       "      <td>...</td>\n",
       "      <td>...</td>\n",
       "      <td>...</td>\n",
       "      <td>...</td>\n",
       "      <td>...</td>\n",
       "      <td>...</td>\n",
       "      <td>...</td>\n",
       "      <td>...</td>\n",
       "      <td>...</td>\n",
       "    </tr>\n",
       "    <tr>\n",
       "      <th>8199066</th>\n",
       "      <td>5</td>\n",
       "      <td>NaN</td>\n",
       "      <td>True</td>\n",
       "      <td>2016-12-06</td>\n",
       "      <td>AY6VLC56K8CVX</td>\n",
       "      <td>B01HGKDE22</td>\n",
       "      <td>Reggie Knowlson</td>\n",
       "      <td>very pleased with promptness and quality</td>\n",
       "      <td>Five Stars</td>\n",
       "      <td>1480982400</td>\n",
       "      <td>NaN</td>\n",
       "      <td>{'Color:': ' Clear'}</td>\n",
       "      <td>40</td>\n",
       "      <td>2016-12</td>\n",
       "      <td>2016</td>\n",
       "    </tr>\n",
       "    <tr>\n",
       "      <th>8199272</th>\n",
       "      <td>5</td>\n",
       "      <td>NaN</td>\n",
       "      <td>True</td>\n",
       "      <td>2018-06-14</td>\n",
       "      <td>A232XNC9ZN0CK6</td>\n",
       "      <td>B01HH0NTMQ</td>\n",
       "      <td>kim bullock</td>\n",
       "      <td>Great game</td>\n",
       "      <td>Great game</td>\n",
       "      <td>1528934400</td>\n",
       "      <td>NaN</td>\n",
       "      <td>NaN</td>\n",
       "      <td>10</td>\n",
       "      <td>2018-06</td>\n",
       "      <td>2018</td>\n",
       "    </tr>\n",
       "    <tr>\n",
       "      <th>8199586</th>\n",
       "      <td>5</td>\n",
       "      <td>NaN</td>\n",
       "      <td>True</td>\n",
       "      <td>2017-03-09</td>\n",
       "      <td>A1ZQ2UZH5G35JA</td>\n",
       "      <td>B01HH7TP68</td>\n",
       "      <td>Nicole Okinsky</td>\n",
       "      <td>Super cute</td>\n",
       "      <td>Five Stars</td>\n",
       "      <td>1489017600</td>\n",
       "      <td>NaN</td>\n",
       "      <td>NaN</td>\n",
       "      <td>10</td>\n",
       "      <td>2017-03</td>\n",
       "      <td>2017</td>\n",
       "    </tr>\n",
       "    <tr>\n",
       "      <th>8199927</th>\n",
       "      <td>5</td>\n",
       "      <td>NaN</td>\n",
       "      <td>True</td>\n",
       "      <td>2017-12-18</td>\n",
       "      <td>A1OB1XMEND06A8</td>\n",
       "      <td>B01HHSI4EG</td>\n",
       "      <td>M2K&amp;amp;K</td>\n",
       "      <td>My son loves it.</td>\n",
       "      <td>nice Quality.</td>\n",
       "      <td>1513555200</td>\n",
       "      <td>NaN</td>\n",
       "      <td>NaN</td>\n",
       "      <td>16</td>\n",
       "      <td>2017-12</td>\n",
       "      <td>2017</td>\n",
       "    </tr>\n",
       "    <tr>\n",
       "      <th>8200722</th>\n",
       "      <td>5</td>\n",
       "      <td>NaN</td>\n",
       "      <td>True</td>\n",
       "      <td>2017-10-21</td>\n",
       "      <td>A1K5R719V5RAMB</td>\n",
       "      <td>B01HIW7G36</td>\n",
       "      <td>Jason lamb</td>\n",
       "      <td>Love it!</td>\n",
       "      <td>Five Stars</td>\n",
       "      <td>1508544000</td>\n",
       "      <td>NaN</td>\n",
       "      <td>NaN</td>\n",
       "      <td>8</td>\n",
       "      <td>2017-10</td>\n",
       "      <td>2017</td>\n",
       "    </tr>\n",
       "  </tbody>\n",
       "</table>\n",
       "<p>304533 rows × 15 columns</p>\n",
       "</div>"
      ],
      "text/plain": [
       "         overall  vote  verified reviewTime      reviewerID        asin  \\\n",
       "810            5   NaN      True 2015-04-25   AS3VY0F82LWPW  0786950072   \n",
       "811            5   NaN      True 2015-04-15  A103YDWSIMQ02D  0786950072   \n",
       "933            5   NaN      True 2017-11-22  A32YPU6CNW8U33  0786955708   \n",
       "1006           5   NaN      True 2015-10-22   AUDYLDJE50NHX  0786955708   \n",
       "1037           5   NaN     False 2014-12-21   AFRN3TAR19KPN  0786955708   \n",
       "...          ...   ...       ...        ...             ...         ...   \n",
       "8199066        5   NaN      True 2016-12-06   AY6VLC56K8CVX  B01HGKDE22   \n",
       "8199272        5   NaN      True 2018-06-14  A232XNC9ZN0CK6  B01HH0NTMQ   \n",
       "8199586        5   NaN      True 2017-03-09  A1ZQ2UZH5G35JA  B01HH7TP68   \n",
       "8199927        5   NaN      True 2017-12-18  A1OB1XMEND06A8  B01HHSI4EG   \n",
       "8200722        5   NaN      True 2017-10-21  A1K5R719V5RAMB  B01HIW7G36   \n",
       "\n",
       "            reviewerName                                reviewText  \\\n",
       "810                Jesse                                great game   \n",
       "811                 Ryan                                great game   \n",
       "933               LUDWIG                                   Awesome   \n",
       "1006                Luke                                great game   \n",
       "1037      Mallory Morton                                   Awesome   \n",
       "...                  ...                                       ...   \n",
       "8199066  Reggie Knowlson  very pleased with promptness and quality   \n",
       "8199272      kim bullock                                Great game   \n",
       "8199586   Nicole Okinsky                                Super cute   \n",
       "8199927        M2K&amp;K                          My son loves it.   \n",
       "8200722       Jason lamb                                  Love it!   \n",
       "\n",
       "               summary  unixReviewTime image                 style  \\\n",
       "810         Five Stars      1429920000   NaN                   NaN   \n",
       "811         Five Stars      1429056000   NaN                   NaN   \n",
       "933         Five Stars      1511308800   NaN                   NaN   \n",
       "1006        Five Stars      1445472000   NaN                   NaN   \n",
       "1037        Five Stars      1419120000   NaN                   NaN   \n",
       "...                ...             ...   ...                   ...   \n",
       "8199066     Five Stars      1480982400   NaN  {'Color:': ' Clear'}   \n",
       "8199272     Great game      1528934400   NaN                   NaN   \n",
       "8199586     Five Stars      1489017600   NaN                   NaN   \n",
       "8199927  nice Quality.      1513555200   NaN                   NaN   \n",
       "8200722     Five Stars      1508544000   NaN                   NaN   \n",
       "\n",
       "         review_length review_month  review_year  \n",
       "810                 10      2015-04         2015  \n",
       "811                 10      2015-04         2015  \n",
       "933                  7      2017-11         2017  \n",
       "1006                10      2015-10         2015  \n",
       "1037                 7      2014-12         2014  \n",
       "...                ...          ...          ...  \n",
       "8199066             40      2016-12         2016  \n",
       "8199272             10      2018-06         2018  \n",
       "8199586             10      2017-03         2017  \n",
       "8199927             16      2017-12         2017  \n",
       "8200722              8      2017-10         2017  \n",
       "\n",
       "[304533 rows x 15 columns]"
      ]
     },
     "execution_count": 44,
     "metadata": {},
     "output_type": "execute_result"
    }
   ],
   "source": [
    "# let us start with 5 star reviews\n",
    "five_star_df = reviews_df_raw.loc[reviews_df_raw['overall'] == 5]\n",
    "five_star_df[five_star_df.duplicated(subset=['asin', 'reviewText'], keep=False)]"
   ]
  },
  {
   "cell_type": "markdown",
   "id": "869f84e3",
   "metadata": {},
   "source": [
    "Copying the Article"
   ]
  },
  {
   "cell_type": "code",
   "execution_count": null,
   "id": "faff2981",
   "metadata": {},
   "outputs": [],
   "source": [
    "# look for certain keywords in the review text and summary\n",
    "keywords = ['dangerous', 'hazardous', 'unsafe', 'risk', 'warning', 'alert']\n",
    "\n",
    "for keyword in keywords:\n",
    "    reviews_df_raw[f'contains_{keyword}'] = reviews_df_raw['reviewText'].str.contains(keyword, case=False, na=False) | \\\n",
    "                                             reviews_df_raw['summary'].str.contains(keyword, case=False, na=False)\n",
    "# count the number of reviews containing each keyword\n",
    "keyword_counts = {keyword: reviews_df_raw[f'contains_{keyword}'].sum() for keyword in keywords}\n",
    "# create a DataFrame for keyword counts \n",
    "keyword_counts_df = pd.DataFrame(list(keyword_counts.items()), columns=['Keyword', 'Count'])\n",
    "# plot the keyword counts\n",
    "sns.barplot(x='Count', y='Keyword', data=keyword_counts_df)\n",
    "plt.title('Keyword Counts in Reviews')\n",
    "plt.xlabel('Count')\n",
    "plt.ylabel('Keyword')\n",
    "plt.show()"
   ]
  },
  {
   "cell_type": "code",
   "execution_count": null,
   "id": "fc93af84",
   "metadata": {},
   "outputs": [],
   "source": [
    "# show the overall for each keyword\n",
    "for keyword in keywords:\n",
    "    overall_counts = reviews_df_raw[reviews_df_raw[f'contains_{keyword}']]['overall'].value_counts().sort_index()\n",
    "    sns.barplot(x=overall_counts.index, y=overall_counts.values)\n",
    "    plt.title(f'Overall Ratings for Reviews Containing \"{keyword}\"')\n",
    "    plt.xlabel('Overall Rating')\n",
    "    plt.ylabel('Count')\n",
    "    plt.xticks(rotation=45)\n",
    "    plt.show()"
   ]
  },
  {
   "cell_type": "code",
   "execution_count": null,
   "id": "0e75c044",
   "metadata": {},
   "outputs": [],
   "source": [
    "# return all rows that contain the keyword 'hazardous' in the review text or summary\n",
    "# because we are in a toys and games context, there are some reviews that mention 'hazardous' in a non-negative context, so we will filter them\n",
    "hazardous_reviews = reviews_df_raw[reviews_df_raw['contains_hazardous']]\n",
    "print(f\"Number of reviews containing 'hazardous': {len(hazardous_reviews)}\")\n",
    "# display the first few rows of hazardous reviews\n",
    "hazardous_reviews[['reviewerID', 'asin', 'reviewTime', 'overall', 'reviewText', 'summary']].to_clipboard()"
   ]
  },
  {
   "cell_type": "code",
   "execution_count": null,
   "id": "fd288990",
   "metadata": {},
   "outputs": [],
   "source": [
    "# show the asins for the hazardous reviews\n",
    "hazardous_asins = hazardous_reviews['asin'].unique()\n",
    "print(f\"Unique ASINs for hazardous reviews: {len(hazardous_asins)}\")\n",
    "# display the first few hazardous ASINs\n",
    "print(\"Hazardous ASINs:\")\n",
    "for asin in hazardous_asins[:10]:\n",
    "    print(asin)"
   ]
  },
  {
   "cell_type": "code",
   "execution_count": null,
   "id": "abae8317",
   "metadata": {},
   "outputs": [],
   "source": [
    "# check if the reviews or summaries contain the keyword 'recall'\n",
    "recall_reviews = reviews_df_raw[reviews_df_raw['reviewText'].str.contains('recall', case=False, na=False) | \n",
    "                                 reviews_df_raw['summary'].str.contains('recall', case=False, na=False)]\n",
    "print(f\"Number of reviews containing 'recall': {len(recall_reviews)}\")\n",
    "# display the first few rows of recall reviews\n",
    "recall_reviews[['reviewerID', 'asin', 'reviewTime', 'overall', 'reviewText', 'summary']].sample(100).to_clipboard()\n",
    "\n",
    "# some of these talk about an item recall but some are just using the word 'recall' in a different context"
   ]
  },
  {
   "cell_type": "code",
   "execution_count": null,
   "id": "74377bf9",
   "metadata": {},
   "outputs": [],
   "source": [
    "# how long are people writing reviews for products that have 1 star ratings\n",
    "one_star_reviews = reviews_df_raw[reviews_df_raw['overall'] == 1].copy()\n",
    "one_star_reviews\n",
    "\n",
    "# groupby asin and see how many months the reviews span\n",
    "one_star_reviews['review_month'] = one_star_reviews['reviewTime'].dt.to_period('M')\n",
    "one_star_reviews_grouped = one_star_reviews.groupby('asin')['review_month'].nunique().reset_index()\n",
    "one_star_reviews_grouped.rename(columns={'review_month': 'months_reviewed'}, inplace=True)\n",
    "# merge this back to the one_star_reviews DataFrame\n",
    "one_star_reviews = one_star_reviews.merge(one_star_reviews_grouped, on='asin', how='left')\n",
    "\n"
   ]
  },
  {
   "cell_type": "code",
   "execution_count": null,
   "id": "d92100b9",
   "metadata": {},
   "outputs": [],
   "source": [
    "one_star_reviews['months_reviewed'].describe()"
   ]
  },
  {
   "cell_type": "code",
   "execution_count": null,
   "id": "f3bac234",
   "metadata": {},
   "outputs": [],
   "source": [
    "one_star_reviews['asin'].value_counts().head(2)"
   ]
  },
  {
   "cell_type": "code",
   "execution_count": null,
   "id": "6c55961a",
   "metadata": {},
   "outputs": [],
   "source": [
    "# find products in reviews_df_raw that have had overall 1 for all reviews\n",
    "one_star_products = reviews_df_raw.groupby('asin').filter(lambda x: (x['overall'] == 1).all())\n",
    "print(f\"Number of products with all 1-star reviews: {len(one_star_products['asin'].unique())}\")"
   ]
  },
  {
   "cell_type": "code",
   "execution_count": null,
   "id": "8674bad7",
   "metadata": {},
   "outputs": [],
   "source": [
    "one_star_products"
   ]
  },
  {
   "cell_type": "code",
   "execution_count": null,
   "id": "933c383c",
   "metadata": {},
   "outputs": [],
   "source": [
    "# for each product, take the average of overall rating\n",
    "avg_rating = reviews_df_raw.groupby('asin')['overall'].mean().reset_index()\n",
    "avg_rating.rename(columns={'overall': 'avg_overall'}, inplace=True)\n",
    "\n",
    "avg_var = reviews_df_raw.groupby('asin')['overall'].var().reset_index()\n",
    "avg_var.rename(columns={'overall': 'var_overall'}, inplace=True)\n",
    "\n"
   ]
  },
  {
   "cell_type": "code",
   "execution_count": null,
   "id": "e02240b0",
   "metadata": {},
   "outputs": [],
   "source": [
    "avg_rating.sort_values(by='avg_overall', ascending=False)"
   ]
  },
  {
   "cell_type": "code",
   "execution_count": null,
   "id": "201f5e33",
   "metadata": {},
   "outputs": [],
   "source": [
    "avg_var"
   ]
  },
  {
   "cell_type": "code",
   "execution_count": null,
   "id": "1b26ee48",
   "metadata": {},
   "outputs": [],
   "source": [
    "avg_and_var_ratings = pd.merge(avg_rating, avg_var, on='asin').sort_values(by='avg_overall', ascending=False)"
   ]
  },
  {
   "cell_type": "code",
   "execution_count": null,
   "id": "9a974a10",
   "metadata": {},
   "outputs": [],
   "source": [
    "reviews_df_raw.loc[reviews_df_raw['asin']=='B01HJDFWDK'].sort_values('reviewTime').plot(x='reviewTime', y='overall', kind='line')\n",
    "# on the same plot, show the average overall rating for the product\n",
    "plt.axhline(y=avg_and_var_ratings.loc[avg_and_var_ratings['asin'] == 'B01HJDFWDK', 'avg_overall'].values[0], color='r', linestyle='--', label='Average Rating')\n",
    "plt.axhline(y=avg_and_var_ratings.loc[avg_and_var_ratings['asin'] == 'B01HJDFWDK', 'var_overall'].values[0], color='g', linestyle='--', label='Variance of Rating')\n",
    "plt.title('Overall Ratings Over Time for Product B01HJDFWDK')\n",
    "plt.xlabel('Review Time')\n",
    "plt.ylabel('Overall Rating')\n",
    "plt.legend(bbox_to_anchor=(1.05, 1), loc='upper left')\n",
    "plt.show()\n",
    "\n"
   ]
  },
  {
   "cell_type": "code",
   "execution_count": null,
   "id": "4467a9e8",
   "metadata": {},
   "outputs": [],
   "source": [
    "sns.histplot(avg_and_var_ratings['avg_overall'], bins=50)"
   ]
  },
  {
   "cell_type": "markdown",
   "id": "233504b2",
   "metadata": {},
   "source": [
    "WordCloud-ing"
   ]
  },
  {
   "cell_type": "code",
   "execution_count": null,
   "id": "7a202fb3",
   "metadata": {},
   "outputs": [],
   "source": [
    "# word cloud of the most common words in the review text\n",
    "!pip install wordcloud\n",
    "from wordcloud import WordCloud\n",
    "text = ' '.join(reviews_df_raw['reviewText'].dropna().astype(str).tolist())\n",
    "wordcloud = WordCloud(width=800, height=400, background_color='white').generate(text)\n",
    "plt.figure(figsize=(10, 5))\n",
    "plt.imshow(wordcloud, interpolation='bilinear')\n",
    "plt.axis('off')\n",
    "plt.title('Word Cloud of Review Text')\n",
    "plt.show()"
   ]
  },
  {
   "cell_type": "code",
   "execution_count": null,
   "id": "5918af7b",
   "metadata": {},
   "outputs": [],
   "source": [
    "text = ' '.join(reviews_df_raw['summary'].dropna().astype(str).tolist())\n",
    "wordcloud = WordCloud(width=800, height=400, background_color='white').generate(text)\n",
    "plt.figure(figsize=(10, 5))\n",
    "plt.imshow(wordcloud, interpolation='bilinear')\n",
    "plt.axis('off')\n",
    "plt.title('Word Cloud of Summary Text')\n",
    "plt.show()"
   ]
  },
  {
   "cell_type": "markdown",
   "id": "c38111c3",
   "metadata": {},
   "source": [
    "Combing Through the Review Text"
   ]
  },
  {
   "cell_type": "code",
   "execution_count": null,
   "id": "2e1b2545",
   "metadata": {},
   "outputs": [],
   "source": [
    "# find bad reviews (rating 1 or 2) and plot the most common words in the review text\n",
    "bad_reviews = reviews_df_raw[reviews_df_raw['overall'].isin([1, 2])]\n",
    "text_bad = ' '.join(bad_reviews['reviewText'].dropna().astype(str).tolist())\n",
    "wordcloud_bad = WordCloud(width=800, height=400, background_color='white').generate(text_bad)\n",
    "plt.figure(figsize=(10, 5))\n",
    "plt.imshow(wordcloud_bad, interpolation='bilinear')\n",
    "plt.axis('off')\n",
    "plt.title('Word Cloud of Bad Reviews (Rating 1 or 2)')\n",
    "plt.show()"
   ]
  },
  {
   "cell_type": "code",
   "execution_count": null,
   "id": "3282fd5a",
   "metadata": {},
   "outputs": [],
   "source": [
    "reviews_df_raw.loc[reviews_df_raw['asin']== 'B000YDDF6O', ['reviewText', 'summary']].head(10).to_clipboard(index=False)"
   ]
  },
  {
   "cell_type": "code",
   "execution_count": null,
   "id": "89468863",
   "metadata": {},
   "outputs": [],
   "source": []
  }
 ],
 "metadata": {
  "kernelspec": {
   "display_name": "erdos_summer_2025",
   "language": "python",
   "name": "python3"
  },
  "language_info": {
   "codemirror_mode": {
    "name": "ipython",
    "version": 3
   },
   "file_extension": ".py",
   "mimetype": "text/x-python",
   "name": "python",
   "nbconvert_exporter": "python",
   "pygments_lexer": "ipython3",
   "version": "3.12.10"
  }
 },
 "nbformat": 4,
 "nbformat_minor": 5
}
