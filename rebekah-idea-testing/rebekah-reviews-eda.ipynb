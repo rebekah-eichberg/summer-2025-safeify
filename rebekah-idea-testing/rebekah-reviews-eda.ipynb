{
 "cells": [
  {
   "cell_type": "code",
   "execution_count": null,
   "id": "e3857ca3",
   "metadata": {},
   "outputs": [],
   "source": [
    "import pandas as pd\n",
    "import numpy as np\n",
    "import seaborn as sns\n",
    "import matplotlib.pyplot as plt"
   ]
  },
  {
   "cell_type": "markdown",
   "id": "b2fa465c",
   "metadata": {},
   "source": [
    "### Load the dataset"
   ]
  },
  {
   "cell_type": "code",
   "execution_count": null,
   "id": "37ee60d3",
   "metadata": {},
   "outputs": [],
   "source": [
    "# reviews_df_raw = pd.read_json(\"../Data/amazon_reviews.json\",lines=True)\n",
    "# reviews_pickle = reviews_df_raw.to_pickle('reviews_raw.pkl')\n",
    "reviews_df_raw = pd.read_pickle('reviews_raw.pkl')\n",
    "reviews_df_raw"
   ]
  },
  {
   "cell_type": "markdown",
   "id": "75236835",
   "metadata": {},
   "source": [
    "Column Title Meanings"
   ]
  },
  {
   "cell_type": "code",
   "execution_count": null,
   "id": "b82a3e66",
   "metadata": {},
   "outputs": [],
   "source": [
    "reviews_df_raw.columns"
   ]
  },
  {
   "cell_type": "code",
   "execution_count": null,
   "id": "f8cd44cc",
   "metadata": {},
   "outputs": [],
   "source": [
    "reviews_df_raw.head()"
   ]
  },
  {
   "cell_type": "markdown",
   "id": "a3af5cd0",
   "metadata": {},
   "source": [
    "- overall - rating of the product\n",
    "- vote - helpful votes of the review (so people that gave a thumbs up)\n",
    "- verified - a boolean of whether the data was verified or not\n",
    "- reviewTime - time of the review (raw)\n",
    "- reviewerID - ID of the reviewer\n",
    "- asin - ID of the product\n",
    "- reviewerName - name of the reviewer\n",
    "- reviewText - text of the review\n",
    "- summary - review title\n",
    "- unixReviewTime - time of the review (unix time)\n",
    "- image - images that users post after they have received the product\n",
    "- style - a disctionary of the product metadata, e.g., \"Format\" is \"Hardcover\"\n",
    "- summary - summary of the review"
   ]
  },
  {
   "cell_type": "markdown",
   "id": "f522cd28",
   "metadata": {},
   "source": [
    "### Begin EDA"
   ]
  },
  {
   "cell_type": "markdown",
   "id": "9f0826fb",
   "metadata": {},
   "source": [
    "Look at the data NaN values. Drop the following columns:\n",
    "- drop vote\n",
    "- drop image\n",
    "- drop style\n",
    "- drop reviewTime bc unix is easier to work with"
   ]
  },
  {
   "cell_type": "code",
   "execution_count": null,
   "id": "e3c2a517",
   "metadata": {},
   "outputs": [],
   "source": [
    "# count and percentage of missing values in each column\n",
    "missing_counts = reviews_df_raw.isna().sum()\n",
    "missing_percentages = reviews_df_raw.isna().mean() * 100\n",
    "missing_df = pd.DataFrame({\n",
    "    'Missing Count': missing_counts,\n",
    "    'Missing Percentage': missing_percentages\n",
    "})\n",
    "missing_df = missing_df[missing_df['Missing Count'] > 0]\n",
    "missing_df = missing_df.sort_values(by='Missing Percentage', ascending=False)\n",
    "print(\"Missing Values Overview:\")\n",
    "print(missing_df)"
   ]
  },
  {
   "cell_type": "markdown",
   "id": "3c352cb2",
   "metadata": {},
   "source": [
    "Duplicates in the dataset"
   ]
  },
  {
   "cell_type": "code",
   "execution_count": null,
   "id": "231664f2",
   "metadata": {},
   "outputs": [],
   "source": [
    "# check for duplicates in the reviews\n",
    "duplicates = reviews_df_raw.duplicated(subset=['reviewerID', 'asin', 'reviewTime', 'overall'], keep=False)\n",
    "print(f\"Number of duplicate reviews: {duplicates.sum()}\")\n",
    "# show the duplicate reviews\n",
    "duplicate_reviews = reviews_df_raw[duplicates]\n",
    "print(\"Duplicate Reviews:\")\n",
    "duplicate_reviews[['reviewerID', 'asin', 'reviewTime', 'overall', 'reviewText']]\n"
   ]
  },
  {
   "cell_type": "markdown",
   "id": "740cf4bf",
   "metadata": {},
   "source": [
    "Data type in each column"
   ]
  },
  {
   "cell_type": "code",
   "execution_count": null,
   "id": "9edab993",
   "metadata": {},
   "outputs": [],
   "source": [
    "reviews_df_raw.info()"
   ]
  },
  {
   "cell_type": "code",
   "execution_count": null,
   "id": "c8448480",
   "metadata": {},
   "outputs": [],
   "source": [
    "# convert dates to datetime objects\n",
    "reviews_df_raw['date'] = pd.to_datetime(reviews_df_raw['unixReviewTime'], unit='s')\n"
   ]
  },
  {
   "cell_type": "code",
   "execution_count": null,
   "id": "11771999",
   "metadata": {},
   "outputs": [],
   "source": [
    "reviews_df_raw"
   ]
  },
  {
   "cell_type": "markdown",
   "id": "a0eb2c7e",
   "metadata": {},
   "source": [
    "EDA on Overall"
   ]
  },
  {
   "cell_type": "code",
   "execution_count": null,
   "id": "5b7fdcd4",
   "metadata": {},
   "outputs": [],
   "source": [
    "sns.countplot(x='overall', data=reviews_df_raw)\n",
    "plt.title('Histogram of Ratings')\n",
    "plt.xlabel('Rating')\n",
    "plt.ylabel('Count')\n",
    "plt.show()"
   ]
  },
  {
   "cell_type": "code",
   "execution_count": null,
   "id": "763a31b2",
   "metadata": {},
   "outputs": [],
   "source": [
    "# aggregation of ratings\n",
    "reviews_df_raw.groupby('asin').agg({'overall': ['mean', 'std', 'min', 'max', 'median', 'count']}).reset_index()"
   ]
  },
  {
   "cell_type": "code",
   "execution_count": null,
   "id": "c4bdbb69",
   "metadata": {},
   "outputs": [],
   "source": [
    "# percent positive reviews -- rating >= 4\n",
    "# percent negative reviews -- rating <= 2\n",
    "\n",
    "reviews_df_raw['is_positive'] = (reviews_df_raw['overall'] >= 4).astype(int)\n",
    "reviews_df_raw['is_negative'] = (reviews_df_raw['overall'] <= 2).astype(int)\n",
    "\n",
    "reviews_df_raw.groupby('asin')[['is_positive', 'is_negative']].mean().reset_index().rename(columns={'is_positive': 'pct_positive', 'is_negative': 'pct_negative'})"
   ]
  },
  {
   "cell_type": "code",
   "execution_count": null,
   "id": "c8ef88b3",
   "metadata": {},
   "outputs": [],
   "source": [
    "reviews_df_raw['overall'] = reviews_df_raw['overall'].astype(int)\n",
    "reviews_df_raw['overall'].describe()"
   ]
  },
  {
   "cell_type": "markdown",
   "id": "4b4f48a0",
   "metadata": {},
   "source": [
    "EDA Verified Reviews"
   ]
  },
  {
   "cell_type": "code",
   "execution_count": null,
   "id": "255da853",
   "metadata": {},
   "outputs": [],
   "source": [
    "# majority of reviewers are verified\n",
    "sns.countplot(reviews_df_raw, x='verified')"
   ]
  },
  {
   "cell_type": "code",
   "execution_count": null,
   "id": "a4781c37",
   "metadata": {},
   "outputs": [],
   "source": [
    "reviews_df_raw.groupby('asin')['verified'].mean()"
   ]
  },
  {
   "cell_type": "markdown",
   "id": "107f42e2",
   "metadata": {},
   "source": [
    "Time Features EDA"
   ]
  },
  {
   "cell_type": "code",
   "execution_count": null,
   "id": "aa3685d6",
   "metadata": {},
   "outputs": [],
   "source": [
    "# compute product lifespan\n",
    "reviews_df_raw['min_date'] = reviews_df_raw.groupby('asin')['date'].transform('min') \n",
    "reviews_df_raw['max_date'] = reviews_df_raw.groupby('asin')['date'].transform('max') \n",
    "reviews_df_raw['product_lifespan'] = reviews_df_raw['max_date']-reviews_df_raw['min_date']"
   ]
  },
  {
   "cell_type": "markdown",
   "id": "4e1603fb",
   "metadata": {},
   "source": [
    "product lifespan distribution"
   ]
  },
  {
   "cell_type": "code",
   "execution_count": null,
   "id": "34808cb2",
   "metadata": {},
   "outputs": [],
   "source": [
    "reviews_df_raw['product_lifespan'].describe()"
   ]
  },
  {
   "cell_type": "markdown",
   "id": "7da62afa",
   "metadata": {},
   "source": [
    "Finding Suspicious Activity"
   ]
  },
  {
   "cell_type": "code",
   "execution_count": null,
   "id": "77444bb1",
   "metadata": {},
   "outputs": [],
   "source": [
    "all_fives = reviews_df_raw[reviews_df_raw['overall'] == 5].groupby('reviewerID').size().reset_index(name='five_count')\n",
    "all_ones = reviews_df_raw[reviews_df_raw['overall'] == 1].groupby('reviewerID').size().reset_index(name='one_count')\n",
    "all_ratings = reviews_df_raw.groupby('reviewerID').size().reset_index(name='total_ratings')\n",
    "\n"
   ]
  },
  {
   "cell_type": "code",
   "execution_count": null,
   "id": "b068b069",
   "metadata": {},
   "outputs": [],
   "source": [
    "all_ratings = all_ratings.merge(all_fives, on='reviewerID', how='left')\n",
    "all_ratings = all_ratings.merge(all_ones, on='reviewerID', how='left')"
   ]
  },
  {
   "cell_type": "code",
   "execution_count": null,
   "id": "ba21d371",
   "metadata": {},
   "outputs": [],
   "source": [
    "all_ratings['five_count'] = all_ratings['five_count'].fillna(0).astype(int)\n",
    "all_ratings['one_count'] = all_ratings['one_count'].fillna(0).astype(int)\n",
    "all_ratings\n"
   ]
  },
  {
   "cell_type": "code",
   "execution_count": null,
   "id": "54556921",
   "metadata": {},
   "outputs": [],
   "source": [
    "all_ratings['prop_five'] = all_ratings['five_count'] / all_ratings['total_ratings']\n",
    "all_ratings['prop_one'] = all_ratings['one_count'] / all_ratings['total_ratings']\n",
    "all_ratings"
   ]
  },
  {
   "cell_type": "code",
   "execution_count": null,
   "id": "607f3564",
   "metadata": {},
   "outputs": [],
   "source": [
    "all_ratings.describe()"
   ]
  },
  {
   "cell_type": "markdown",
   "id": "b42f57de",
   "metadata": {},
   "source": [
    "- it seems that most people wrote almost 2 reviews. there is the max which is suspicious...but we can either think about\n",
    "doing x many standard deviations from the mean or a hard cutoff -- depends on the threshold we are seeking\n",
    "- most people are leaving 5 star reviews and so prop_five == 1 for bot\n",
    "- most people are not leaving 1 star reviews so a high prop_one like >0.8"
   ]
  },
  {
   "cell_type": "code",
   "execution_count": null,
   "id": "e1350c63",
   "metadata": {},
   "outputs": [],
   "source": [
    "reviewer_dates = reviews_df_raw.groupby('reviewerID')['date'].agg(['min', 'max']).reset_index()"
   ]
  },
  {
   "cell_type": "code",
   "execution_count": null,
   "id": "ec3194d2",
   "metadata": {},
   "outputs": [],
   "source": [
    "reviewer_dates['review_span'] = reviewer_dates['max']-reviewer_dates['min']"
   ]
  },
  {
   "cell_type": "code",
   "execution_count": null,
   "id": "f459c1ac",
   "metadata": {},
   "outputs": [],
   "source": [
    "reviewer_dates.describe()"
   ]
  },
  {
   "cell_type": "code",
   "execution_count": null,
   "id": "73f250b0",
   "metadata": {},
   "outputs": [],
   "source": [
    "suspicious_activity_df = all_ratings.merge(reviewer_dates[['reviewerID', 'review_span']], on='reviewerID', how='left')"
   ]
  },
  {
   "cell_type": "code",
   "execution_count": null,
   "id": "ece08b3e",
   "metadata": {},
   "outputs": [],
   "source": [
    "products_reviewed = reviews_df_raw.groupby('reviewerID')['asin'].nunique().reset_index()"
   ]
  },
  {
   "cell_type": "code",
   "execution_count": null,
   "id": "ef5f4241",
   "metadata": {},
   "outputs": [],
   "source": [
    "products_reviewed = products_reviewed.rename(columns={'asin':'num_unique_products'})"
   ]
  },
  {
   "cell_type": "code",
   "execution_count": null,
   "id": "9c4739fd",
   "metadata": {},
   "outputs": [],
   "source": [
    "suspicious_activity_df = suspicious_activity_df.merge(products_reviewed, on='reviewerID', how='left')"
   ]
  },
  {
   "cell_type": "code",
   "execution_count": null,
   "id": "96e50456",
   "metadata": {},
   "outputs": [],
   "source": [
    "suspicious_activity_df['reviews_per_day'] = suspicious_activity_df['total_ratings'] / (suspicious_activity_df['review_span'].dt.days + 1 )\n"
   ]
  },
  {
   "cell_type": "code",
   "execution_count": null,
   "id": "6f959ce3",
   "metadata": {},
   "outputs": [],
   "source": [
    "suspicious_activity_df.columns"
   ]
  },
  {
   "cell_type": "code",
   "execution_count": null,
   "id": "1fb465ac",
   "metadata": {},
   "outputs": [],
   "source": [
    "suspicious_activity_df['reviews_per_day'].describe()"
   ]
  },
  {
   "cell_type": "code",
   "execution_count": null,
   "id": "cf408d61",
   "metadata": {},
   "outputs": [],
   "source": [
    "suspicious_activity_df['num_unique_products'].describe()"
   ]
  },
  {
   "cell_type": "code",
   "execution_count": null,
   "id": "1518f451",
   "metadata": {},
   "outputs": [],
   "source": [
    "bots_df = suspicious_activity_df[\n",
    "    (suspicious_activity_df['total_ratings'] > 10) & \n",
    "    (suspicious_activity_df['reviews_per_day'] < 3) & \n",
    "    (suspicious_activity_df['num_unique_products'] > 10) & \n",
    "    ((suspicious_activity_df['prop_five'] == 1) | (suspicious_activity_df['prop_one'] > 0.8))\n",
    "]"
   ]
  },
  {
   "cell_type": "code",
   "execution_count": null,
   "id": "325a2ed6",
   "metadata": {},
   "outputs": [],
   "source": [
    "bots = list(bots_df['reviewerID'].unique())"
   ]
  },
  {
   "cell_type": "code",
   "execution_count": null,
   "id": "b6aeda95",
   "metadata": {},
   "outputs": [],
   "source": [
    "reviews_df_raw['is_bot'] = 0\n",
    "reviews_df_raw.loc[reviews_df_raw['reviewerID'].isin(bots), 'is_bot'] = 1"
   ]
  },
  {
   "cell_type": "code",
   "execution_count": null,
   "id": "0d9d93c9",
   "metadata": {},
   "outputs": [],
   "source": [
    "reviews_df_raw['num_bots_per_asin'] = reviews_df_raw.groupby('asin')['is_bot'].transform('sum')"
   ]
  },
  {
   "cell_type": "code",
   "execution_count": null,
   "id": "ffe5a077",
   "metadata": {},
   "outputs": [],
   "source": [
    "reviews_df_raw['num_bots_per_asin'].describe()"
   ]
  },
  {
   "cell_type": "markdown",
   "id": "c846d5c9",
   "metadata": {},
   "source": [
    "Review Text Length Distribution"
   ]
  },
  {
   "cell_type": "code",
   "execution_count": null,
   "id": "546a07f4",
   "metadata": {},
   "outputs": [],
   "source": [
    "# review text length\n",
    "reviews_df_raw['review_length'] = reviews_df_raw['reviewText'].apply(lambda x: len(x) if isinstance(x, str) else 0)\n",
    "sns.histplot(reviews_df_raw['review_length'], bins=50)\n",
    "plt.title('Distribution of Review Text Length')\n",
    "plt.xlabel('Review Length')\n",
    "plt.ylabel('Frequency')\n",
    "plt.show()"
   ]
  },
  {
   "cell_type": "code",
   "execution_count": null,
   "id": "1b6011bf",
   "metadata": {},
   "outputs": [],
   "source": [
    "# Length distribution (number of characters or words)\n",
    "reviews_df_raw['review_length'].describe()"
   ]
  },
  {
   "cell_type": "markdown",
   "id": "73f2f6ce",
   "metadata": {},
   "source": [
    "Unique Number of Products and Reviews Per Product"
   ]
  },
  {
   "cell_type": "code",
   "execution_count": null,
   "id": "d7b7e9da",
   "metadata": {},
   "outputs": [],
   "source": [
    "print(f\"There are {len(reviews_df_raw['asin'].unique())} unique products.\")"
   ]
  },
  {
   "cell_type": "code",
   "execution_count": null,
   "id": "a6d83987",
   "metadata": {},
   "outputs": [],
   "source": [
    "# count the number of reviews per product\n",
    "reviews_per_product = reviews_df_raw.groupby('asin').size().reset_index(name='review_count')\n",
    "# look at summary statistics for the number of reviews per product\n",
    "print(reviews_per_product.describe())\n",
    "# plot the distribution of the number of reviews per product\n",
    "sns.histplot(reviews_per_product['review_count'], bins=100)\n",
    "\n"
   ]
  },
  {
   "cell_type": "code",
   "execution_count": null,
   "id": "08e8cb7f",
   "metadata": {},
   "outputs": [],
   "source": [
    "# overview of the number of reviews per product\n",
    "reviews_per_product['review_count'].value_counts().sort_index().head(20).plot(kind='bar')"
   ]
  },
  {
   "cell_type": "code",
   "execution_count": null,
   "id": "7d79c12b",
   "metadata": {},
   "outputs": [],
   "source": [
    "# show the product with the most reviews\n",
    "reviews_per_product.sort_values(by='review_count', ascending=False).head(20)"
   ]
  },
  {
   "cell_type": "code",
   "execution_count": null,
   "id": "32377670",
   "metadata": {},
   "outputs": [],
   "source": [
    "# look at number of reviews per product and the distribution\n",
    "review_counts = reviews_df_raw.groupby('asin')['reviewText'].size()\n",
    "review_counts.describe()"
   ]
  },
  {
   "cell_type": "code",
   "execution_count": null,
   "id": "ccc61744",
   "metadata": {},
   "outputs": [],
   "source": [
    "review_counts.quantile([0.05,0.1,0.2,0.25,0.5,0.6,0.75,0.8,0.9,0.95,0.99])"
   ]
  },
  {
   "cell_type": "markdown",
   "id": "82fffee5",
   "metadata": {},
   "source": [
    "Heatmap of Some of the Columns"
   ]
  },
  {
   "cell_type": "code",
   "execution_count": null,
   "id": "4abea527",
   "metadata": {},
   "outputs": [],
   "source": [
    "# correlation matrix (only numeric columns)\n",
    "correlation_matrix = reviews_df_raw.select_dtypes(include=[np.number]).corr()\n",
    "sns.heatmap(correlation_matrix, annot=True, cmap='coolwarm', fmt='.2f')\n",
    "plt.title('Correlation Matrix')\n",
    "plt.show()"
   ]
  },
  {
   "cell_type": "markdown",
   "id": "869f84e3",
   "metadata": {},
   "source": [
    "Copying the Article"
   ]
  },
  {
   "cell_type": "code",
   "execution_count": null,
   "id": "faff2981",
   "metadata": {},
   "outputs": [],
   "source": [
    "# look for certain keywords in the review text and summary\n",
    "keywords = ['dangerous', 'hazardous', 'unsafe', 'risk', 'warning', 'alert']\n",
    "\n",
    "for keyword in keywords:\n",
    "    reviews_df_raw[f'contains_{keyword}'] = reviews_df_raw['reviewText'].str.contains(keyword, case=False, na=False) | \\\n",
    "                                             reviews_df_raw['summary'].str.contains(keyword, case=False, na=False)\n",
    "# count the number of reviews containing each keyword\n",
    "keyword_counts = {keyword: reviews_df_raw[f'contains_{keyword}'].sum() for keyword in keywords}\n",
    "# create a DataFrame for keyword counts \n",
    "keyword_counts_df = pd.DataFrame(list(keyword_counts.items()), columns=['Keyword', 'Count'])\n",
    "# plot the keyword counts\n",
    "sns.barplot(x='Count', y='Keyword', data=keyword_counts_df)\n",
    "plt.title('Keyword Counts in Reviews')\n",
    "plt.xlabel('Count')\n",
    "plt.ylabel('Keyword')\n",
    "plt.show()"
   ]
  },
  {
   "cell_type": "code",
   "execution_count": null,
   "id": "fc93af84",
   "metadata": {},
   "outputs": [],
   "source": [
    "# show the overall for each keyword\n",
    "for keyword in keywords:\n",
    "    overall_counts = reviews_df_raw[reviews_df_raw[f'contains_{keyword}']]['overall'].value_counts().sort_index()\n",
    "    sns.barplot(x=overall_counts.index, y=overall_counts.values)\n",
    "    plt.title(f'Overall Ratings for Reviews Containing \"{keyword}\"')\n",
    "    plt.xlabel('Overall Rating')\n",
    "    plt.ylabel('Count')\n",
    "    plt.xticks(rotation=45)\n",
    "    plt.show()"
   ]
  },
  {
   "cell_type": "code",
   "execution_count": null,
   "id": "0e75c044",
   "metadata": {},
   "outputs": [],
   "source": [
    "# return all rows that contain the keyword 'hazardous' in the review text or summary\n",
    "# because we are in a toys and games context, there are some reviews that mention 'hazardous' in a non-negative context, so we will filter them\n",
    "hazardous_reviews = reviews_df_raw[reviews_df_raw['contains_hazardous']]\n",
    "print(f\"Number of reviews containing 'hazardous': {len(hazardous_reviews)}\")\n",
    "# display the first few rows of hazardous reviews\n",
    "hazardous_reviews[['reviewerID', 'asin', 'reviewTime', 'overall', 'reviewText', 'summary']].to_clipboard()"
   ]
  },
  {
   "cell_type": "code",
   "execution_count": null,
   "id": "fd288990",
   "metadata": {},
   "outputs": [],
   "source": [
    "# show the asins for the hazardous reviews\n",
    "hazardous_asins = hazardous_reviews['asin'].unique()\n",
    "print(f\"Unique ASINs for hazardous reviews: {len(hazardous_asins)}\")\n",
    "# display the first few hazardous ASINs\n",
    "print(\"Hazardous ASINs:\")\n",
    "for asin in hazardous_asins[:10]:\n",
    "    print(asin)"
   ]
  },
  {
   "cell_type": "code",
   "execution_count": null,
   "id": "abae8317",
   "metadata": {},
   "outputs": [],
   "source": [
    "# check if the reviews or summaries contain the keyword 'recall'\n",
    "recall_reviews = reviews_df_raw[reviews_df_raw['reviewText'].str.contains('recall', case=False, na=False) | \n",
    "                                 reviews_df_raw['summary'].str.contains('recall', case=False, na=False)]\n",
    "print(f\"Number of reviews containing 'recall': {len(recall_reviews)}\")\n",
    "# display the first few rows of recall reviews\n",
    "recall_reviews[['reviewerID', 'asin', 'reviewTime', 'overall', 'reviewText', 'summary']].sample(100).to_clipboard()\n",
    "\n",
    "# some of these talk about an item recall but some are just using the word 'recall' in a different context"
   ]
  },
  {
   "cell_type": "code",
   "execution_count": null,
   "id": "74377bf9",
   "metadata": {},
   "outputs": [],
   "source": [
    "# how long are people writing reviews for products that have 1 star ratings\n",
    "one_star_reviews = reviews_df_raw[reviews_df_raw['overall'] == 1].copy()\n",
    "one_star_reviews\n",
    "\n",
    "# groupby asin and see how many months the reviews span\n",
    "one_star_reviews['review_month'] = one_star_reviews['reviewTime'].dt.to_period('M')\n",
    "one_star_reviews_grouped = one_star_reviews.groupby('asin')['review_month'].nunique().reset_index()\n",
    "one_star_reviews_grouped.rename(columns={'review_month': 'months_reviewed'}, inplace=True)\n",
    "# merge this back to the one_star_reviews DataFrame\n",
    "one_star_reviews = one_star_reviews.merge(one_star_reviews_grouped, on='asin', how='left')\n",
    "\n"
   ]
  },
  {
   "cell_type": "code",
   "execution_count": null,
   "id": "d92100b9",
   "metadata": {},
   "outputs": [],
   "source": [
    "one_star_reviews['months_reviewed'].describe()"
   ]
  },
  {
   "cell_type": "code",
   "execution_count": null,
   "id": "f3bac234",
   "metadata": {},
   "outputs": [],
   "source": [
    "one_star_reviews['asin'].value_counts().head(2)"
   ]
  },
  {
   "cell_type": "code",
   "execution_count": null,
   "id": "6c55961a",
   "metadata": {},
   "outputs": [],
   "source": [
    "# find products in reviews_df_raw that have had overall 1 for all reviews\n",
    "one_star_products = reviews_df_raw.groupby('asin').filter(lambda x: (x['overall'] == 1).all())\n",
    "print(f\"Number of products with all 1-star reviews: {len(one_star_products['asin'].unique())}\")"
   ]
  },
  {
   "cell_type": "code",
   "execution_count": null,
   "id": "8674bad7",
   "metadata": {},
   "outputs": [],
   "source": [
    "one_star_products"
   ]
  },
  {
   "cell_type": "code",
   "execution_count": null,
   "id": "933c383c",
   "metadata": {},
   "outputs": [],
   "source": [
    "# for each product, take the average of overall rating\n",
    "avg_rating = reviews_df_raw.groupby('asin')['overall'].mean().reset_index()\n",
    "avg_rating.rename(columns={'overall': 'avg_overall'}, inplace=True)\n",
    "\n",
    "avg_var = reviews_df_raw.groupby('asin')['overall'].var().reset_index()\n",
    "avg_var.rename(columns={'overall': 'var_overall'}, inplace=True)\n",
    "\n"
   ]
  },
  {
   "cell_type": "code",
   "execution_count": null,
   "id": "e02240b0",
   "metadata": {},
   "outputs": [],
   "source": [
    "avg_rating.sort_values(by='avg_overall', ascending=False)"
   ]
  },
  {
   "cell_type": "code",
   "execution_count": null,
   "id": "201f5e33",
   "metadata": {},
   "outputs": [],
   "source": [
    "avg_var"
   ]
  },
  {
   "cell_type": "code",
   "execution_count": null,
   "id": "1b26ee48",
   "metadata": {},
   "outputs": [],
   "source": [
    "avg_and_var_ratings = pd.merge(avg_rating, avg_var, on='asin').sort_values(by='avg_overall', ascending=False)"
   ]
  },
  {
   "cell_type": "code",
   "execution_count": null,
   "id": "9a974a10",
   "metadata": {},
   "outputs": [],
   "source": [
    "reviews_df_raw.loc[reviews_df_raw['asin']=='B01HJDFWDK'].sort_values('reviewTime').plot(x='reviewTime', y='overall', kind='line')\n",
    "# on the same plot, show the average overall rating for the product\n",
    "plt.axhline(y=avg_and_var_ratings.loc[avg_and_var_ratings['asin'] == 'B01HJDFWDK', 'avg_overall'].values[0], color='r', linestyle='--', label='Average Rating')\n",
    "plt.axhline(y=avg_and_var_ratings.loc[avg_and_var_ratings['asin'] == 'B01HJDFWDK', 'var_overall'].values[0], color='g', linestyle='--', label='Variance of Rating')\n",
    "plt.title('Overall Ratings Over Time for Product B01HJDFWDK')\n",
    "plt.xlabel('Review Time')\n",
    "plt.ylabel('Overall Rating')\n",
    "plt.legend(bbox_to_anchor=(1.05, 1), loc='upper left')\n",
    "plt.show()\n",
    "\n"
   ]
  },
  {
   "cell_type": "code",
   "execution_count": null,
   "id": "4467a9e8",
   "metadata": {},
   "outputs": [],
   "source": [
    "sns.histplot(avg_and_var_ratings['avg_overall'], bins=50)"
   ]
  },
  {
   "cell_type": "markdown",
   "id": "233504b2",
   "metadata": {},
   "source": [
    "WordCloud-ing"
   ]
  },
  {
   "cell_type": "code",
   "execution_count": null,
   "id": "7a202fb3",
   "metadata": {},
   "outputs": [],
   "source": [
    "# word cloud of the most common words in the review text\n",
    "!pip install wordcloud\n",
    "from wordcloud import WordCloud\n",
    "text = ' '.join(reviews_df_raw['reviewText'].dropna().astype(str).tolist())\n",
    "wordcloud = WordCloud(width=800, height=400, background_color='white').generate(text)\n",
    "plt.figure(figsize=(10, 5))\n",
    "plt.imshow(wordcloud, interpolation='bilinear')\n",
    "plt.axis('off')\n",
    "plt.title('Word Cloud of Review Text')\n",
    "plt.show()"
   ]
  },
  {
   "cell_type": "code",
   "execution_count": null,
   "id": "5918af7b",
   "metadata": {},
   "outputs": [],
   "source": [
    "text = ' '.join(reviews_df_raw['summary'].dropna().astype(str).tolist())\n",
    "wordcloud = WordCloud(width=800, height=400, background_color='white').generate(text)\n",
    "plt.figure(figsize=(10, 5))\n",
    "plt.imshow(wordcloud, interpolation='bilinear')\n",
    "plt.axis('off')\n",
    "plt.title('Word Cloud of Summary Text')\n",
    "plt.show()"
   ]
  },
  {
   "cell_type": "code",
   "execution_count": null,
   "id": "89468863",
   "metadata": {},
   "outputs": [],
   "source": []
  }
 ],
 "metadata": {
  "kernelspec": {
   "display_name": "erdos_summer_2025",
   "language": "python",
   "name": "python3"
  },
  "language_info": {
   "codemirror_mode": {
    "name": "ipython",
    "version": 3
   },
   "file_extension": ".py",
   "mimetype": "text/x-python",
   "name": "python",
   "nbconvert_exporter": "python",
   "pygments_lexer": "ipython3",
   "version": "3.12.10"
  }
 },
 "nbformat": 4,
 "nbformat_minor": 5
}
