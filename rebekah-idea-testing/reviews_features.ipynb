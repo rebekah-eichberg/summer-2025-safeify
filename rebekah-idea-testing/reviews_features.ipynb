{
 "cells": [
  {
   "cell_type": "code",
   "execution_count": 1,
   "id": "033e5028",
   "metadata": {},
   "outputs": [],
   "source": [
    "# import relevant libraries\n",
    "import pandas as pd\n",
    "import numpy as np\n",
    "import seaborn as sns\n",
    "import matplotlib.pyplot as plt"
   ]
  },
  {
   "cell_type": "markdown",
   "id": "3a6f005c",
   "metadata": {},
   "source": [
    "Load the Reviews Data"
   ]
  },
  {
   "cell_type": "code",
   "execution_count": null,
   "id": "6e601346",
   "metadata": {},
   "outputs": [],
   "source": [
    "# reviews_df_raw = pd.read_json(\"../Data/amazon_reviews.json\",lines=True)\n",
    "# reviews_pickle = reviews_df_raw.to_pickle('reviews_raw.pkl')\n",
    "reviews_df_raw = pd.read_pickle('reviews_raw.pkl')\n"
   ]
  },
  {
   "cell_type": "markdown",
   "id": "009f3de0",
   "metadata": {},
   "source": [
    "Look at NaNs in the Data"
   ]
  },
  {
   "cell_type": "code",
   "execution_count": 11,
   "id": "030bde41",
   "metadata": {},
   "outputs": [
    {
     "name": "stdout",
     "output_type": "stream",
     "text": [
      "Missing Values Overview:\n",
      "              Missing Count  Missing Percentage\n",
      "image               7999253           97.537223\n",
      "vote                7239598           88.274529\n",
      "style               6211781           75.742056\n",
      "reviewText             7117            0.086780\n",
      "summary                2531            0.030861\n",
      "reviewerName            502            0.006121\n"
     ]
    }
   ],
   "source": [
    "# count and percentage of missing values in each column\n",
    "missing_counts = reviews_df_raw.isna().sum()\n",
    "missing_percentages = reviews_df_raw.isna().mean() * 100\n",
    "missing_df = pd.DataFrame({\n",
    "    'Missing Count': missing_counts,\n",
    "    'Missing Percentage': missing_percentages\n",
    "})\n",
    "missing_df = missing_df[missing_df['Missing Count'] > 0]\n",
    "missing_df = missing_df.sort_values(by='Missing Percentage', ascending=False)\n",
    "print(\"Missing Values Overview:\")\n",
    "print(missing_df)"
   ]
  },
  {
   "cell_type": "code",
   "execution_count": 13,
   "id": "9b8d0d42",
   "metadata": {},
   "outputs": [],
   "source": [
    "reviews_df_raw = reviews_df_raw.dropna(subset=['summary','reviewText', 'reviewerName'])"
   ]
  },
  {
   "cell_type": "markdown",
   "id": "a8dad6f5",
   "metadata": {},
   "source": [
    "Drop Columns"
   ]
  },
  {
   "cell_type": "code",
   "execution_count": 14,
   "id": "93bc4eae",
   "metadata": {},
   "outputs": [],
   "source": [
    "# from this we decide to drop image, vote, style\n",
    "# we will also drop reviewTime and use unixReviewTime because it is the same values but\n",
    "# an easier format to work with\n",
    "\n",
    "reviews_df_raw = reviews_df_raw.drop(columns=['image', 'vote', 'style', 'reviewTime'])"
   ]
  },
  {
   "cell_type": "markdown",
   "id": "32e927ba",
   "metadata": {},
   "source": [
    "Look at Duplicates in the Data\n",
    "- for now, we will keep duplicates"
   ]
  },
  {
   "cell_type": "code",
   "execution_count": 15,
   "id": "8940879e",
   "metadata": {},
   "outputs": [
    {
     "name": "stdout",
     "output_type": "stream",
     "text": [
      "Number of duplicate reviews: 391975\n"
     ]
    },
    {
     "data": {
      "text/html": [
       "<div>\n",
       "<style scoped>\n",
       "    .dataframe tbody tr th:only-of-type {\n",
       "        vertical-align: middle;\n",
       "    }\n",
       "\n",
       "    .dataframe tbody tr th {\n",
       "        vertical-align: top;\n",
       "    }\n",
       "\n",
       "    .dataframe thead th {\n",
       "        text-align: right;\n",
       "    }\n",
       "</style>\n",
       "<table border=\"1\" class=\"dataframe\">\n",
       "  <thead>\n",
       "    <tr style=\"text-align: right;\">\n",
       "      <th></th>\n",
       "      <th>reviewerID</th>\n",
       "      <th>asin</th>\n",
       "      <th>unixReviewTime</th>\n",
       "      <th>overall</th>\n",
       "      <th>reviewText</th>\n",
       "    </tr>\n",
       "  </thead>\n",
       "  <tbody>\n",
       "    <tr>\n",
       "      <th>1144</th>\n",
       "      <td>ABWSQI9992Q29</td>\n",
       "      <td>0786955554</td>\n",
       "      <td>1474761600</td>\n",
       "      <td>5</td>\n",
       "      <td>nice</td>\n",
       "    </tr>\n",
       "    <tr>\n",
       "      <th>1145</th>\n",
       "      <td>ABWSQI9992Q29</td>\n",
       "      <td>0786955554</td>\n",
       "      <td>1474761600</td>\n",
       "      <td>5</td>\n",
       "      <td>nice</td>\n",
       "    </tr>\n",
       "    <tr>\n",
       "      <th>1154</th>\n",
       "      <td>A115TZEJ3U3AER</td>\n",
       "      <td>0786955554</td>\n",
       "      <td>1462924800</td>\n",
       "      <td>5</td>\n",
       "      <td>On-time and nice item.</td>\n",
       "    </tr>\n",
       "    <tr>\n",
       "      <th>1155</th>\n",
       "      <td>A115TZEJ3U3AER</td>\n",
       "      <td>0786955554</td>\n",
       "      <td>1462924800</td>\n",
       "      <td>5</td>\n",
       "      <td>On-time and nice item.</td>\n",
       "    </tr>\n",
       "    <tr>\n",
       "      <th>1266</th>\n",
       "      <td>AN82BJBT7QNT7</td>\n",
       "      <td>0786955554</td>\n",
       "      <td>1309046400</td>\n",
       "      <td>4</td>\n",
       "      <td>This set is slightly worse than earlier ones (...</td>\n",
       "    </tr>\n",
       "    <tr>\n",
       "      <th>...</th>\n",
       "      <td>...</td>\n",
       "      <td>...</td>\n",
       "      <td>...</td>\n",
       "      <td>...</td>\n",
       "      <td>...</td>\n",
       "    </tr>\n",
       "    <tr>\n",
       "      <th>8189354</th>\n",
       "      <td>A5FVEFQ55OHRS</td>\n",
       "      <td>B01H25XJ76</td>\n",
       "      <td>1500508800</td>\n",
       "      <td>5</td>\n",
       "      <td>She is happy</td>\n",
       "    </tr>\n",
       "    <tr>\n",
       "      <th>8189355</th>\n",
       "      <td>A5FVEFQ55OHRS</td>\n",
       "      <td>B01H25XJ76</td>\n",
       "      <td>1500508800</td>\n",
       "      <td>5</td>\n",
       "      <td>everyone is happpy</td>\n",
       "    </tr>\n",
       "    <tr>\n",
       "      <th>8189356</th>\n",
       "      <td>A5FVEFQ55OHRS</td>\n",
       "      <td>B01H25XJ76</td>\n",
       "      <td>1500508800</td>\n",
       "      <td>5</td>\n",
       "      <td>The 6 year old loves it</td>\n",
       "    </tr>\n",
       "    <tr>\n",
       "      <th>8199065</th>\n",
       "      <td>AY6VLC56K8CVX</td>\n",
       "      <td>B01HGKDE22</td>\n",
       "      <td>1480982400</td>\n",
       "      <td>5</td>\n",
       "      <td>very pleased with promptness and quality</td>\n",
       "    </tr>\n",
       "    <tr>\n",
       "      <th>8199066</th>\n",
       "      <td>AY6VLC56K8CVX</td>\n",
       "      <td>B01HGKDE22</td>\n",
       "      <td>1480982400</td>\n",
       "      <td>5</td>\n",
       "      <td>very pleased with promptness and quality</td>\n",
       "    </tr>\n",
       "  </tbody>\n",
       "</table>\n",
       "<p>391975 rows × 5 columns</p>\n",
       "</div>"
      ],
      "text/plain": [
       "             reviewerID        asin  unixReviewTime  overall  \\\n",
       "1144      ABWSQI9992Q29  0786955554      1474761600        5   \n",
       "1145      ABWSQI9992Q29  0786955554      1474761600        5   \n",
       "1154     A115TZEJ3U3AER  0786955554      1462924800        5   \n",
       "1155     A115TZEJ3U3AER  0786955554      1462924800        5   \n",
       "1266      AN82BJBT7QNT7  0786955554      1309046400        4   \n",
       "...                 ...         ...             ...      ...   \n",
       "8189354   A5FVEFQ55OHRS  B01H25XJ76      1500508800        5   \n",
       "8189355   A5FVEFQ55OHRS  B01H25XJ76      1500508800        5   \n",
       "8189356   A5FVEFQ55OHRS  B01H25XJ76      1500508800        5   \n",
       "8199065   AY6VLC56K8CVX  B01HGKDE22      1480982400        5   \n",
       "8199066   AY6VLC56K8CVX  B01HGKDE22      1480982400        5   \n",
       "\n",
       "                                                reviewText  \n",
       "1144                                                  nice  \n",
       "1145                                                  nice  \n",
       "1154                                On-time and nice item.  \n",
       "1155                                On-time and nice item.  \n",
       "1266     This set is slightly worse than earlier ones (...  \n",
       "...                                                    ...  \n",
       "8189354                                       She is happy  \n",
       "8189355                                 everyone is happpy  \n",
       "8189356                            The 6 year old loves it  \n",
       "8199065           very pleased with promptness and quality  \n",
       "8199066           very pleased with promptness and quality  \n",
       "\n",
       "[391975 rows x 5 columns]"
      ]
     },
     "execution_count": 15,
     "metadata": {},
     "output_type": "execute_result"
    }
   ],
   "source": [
    "# check for duplicates in the reviews\n",
    "duplicates = reviews_df_raw.duplicated(subset=['reviewerID', 'asin', 'unixReviewTime', 'overall'], keep=False)\n",
    "print(f\"Number of duplicate reviews: {duplicates.sum()}\")\n",
    "# show the duplicate reviews\n",
    "duplicate_reviews = reviews_df_raw[duplicates]\n",
    "duplicate_reviews[['reviewerID', 'asin', 'unixReviewTime', 'overall', 'reviewText']]"
   ]
  },
  {
   "cell_type": "markdown",
   "id": "82a5a9ea",
   "metadata": {},
   "source": [
    "Convert unixReviewTime column to Datetime Objects"
   ]
  },
  {
   "cell_type": "code",
   "execution_count": 16,
   "id": "228edeae",
   "metadata": {},
   "outputs": [],
   "source": [
    "reviews_df_raw['date'] = pd.to_datetime(reviews_df_raw['unixReviewTime'], unit='s')"
   ]
  },
  {
   "cell_type": "markdown",
   "id": "6215c47c",
   "metadata": {},
   "source": [
    "Features Related to Overall"
   ]
  },
  {
   "cell_type": "code",
   "execution_count": null,
   "id": "74e57e36",
   "metadata": {},
   "outputs": [],
   "source": [
    "# using simple aggregation techniques for the rating column\n",
    "reviews_df_raw['avg_rating'] = reviews_df_raw.groupby('asin')['overall'].transform('mean')\n",
    "reviews_df_raw['min_rating'] = reviews_df_raw.groupby('asin')['overall'].transform('min')\n",
    "reviews_df_raw['min_rating'] = reviews_df_raw.groupby('asin')['overall'].transform('max')\n",
    "reviews_df_raw['num_of_rating'] = reviews_df_raw.groupby('asin')['overall'].transform('count')"
   ]
  },
  {
   "cell_type": "code",
   "execution_count": 19,
   "id": "b17299f0",
   "metadata": {},
   "outputs": [],
   "source": [
    "# percent positive reviews -- rating >= 4\n",
    "# percent negative reviews -- rating <= 2\n",
    "reviews_df_raw['is_positive'] = (reviews_df_raw['overall'] >= 4).astype(int)\n",
    "reviews_df_raw['is_negative'] = (reviews_df_raw['overall'] <= 2).astype(int)\n",
    "\n",
    "reviews_df_raw['percent_positive'] = reviews_df_raw.groupby('asin')['is_positive'].transform('mean')\n",
    "reviews_df_raw['percent_negative'] = reviews_df_raw.groupby('asin')['is_negative'].transform('mean')"
   ]
  },
  {
   "cell_type": "markdown",
   "id": "716f26fe",
   "metadata": {},
   "source": [
    "Features Related to Verified\n",
    "- this does not seem like a great feature to use because it is so imbalanced"
   ]
  },
  {
   "cell_type": "code",
   "execution_count": 20,
   "id": "ecb4f1c7",
   "metadata": {},
   "outputs": [],
   "source": [
    "reviews_df_raw['avg_verified_reviewers'] = reviews_df_raw.groupby('asin')['verified'].mean()"
   ]
  },
  {
   "cell_type": "markdown",
   "id": "8b7d7ec6",
   "metadata": {},
   "source": [
    "Features Related to UnixReviewTime"
   ]
  }
 ],
 "metadata": {
  "kernelspec": {
   "display_name": "erdos_summer_2025",
   "language": "python",
   "name": "python3"
  },
  "language_info": {
   "codemirror_mode": {
    "name": "ipython",
    "version": 3
   },
   "file_extension": ".py",
   "mimetype": "text/x-python",
   "name": "python",
   "nbconvert_exporter": "python",
   "pygments_lexer": "ipython3",
   "version": "3.12.10"
  }
 },
 "nbformat": 4,
 "nbformat_minor": 5
}
