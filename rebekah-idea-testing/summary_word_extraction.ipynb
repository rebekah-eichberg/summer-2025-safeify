{
 "cells": [
  {
   "cell_type": "code",
   "execution_count": null,
   "id": "e0482d5e",
   "metadata": {},
   "outputs": [],
   "source": [
    "import nltk\n",
    "nltk.download('punkt')       \n",
    "nltk.download('stopwords') \n",
    "nltk.download('punkt_tab')  \n",
    "nltk.download('wordnet')\n",
    "nltk.download('averaged_perceptron_tagger')\n",
    "nltk.download('averaged_perceptron_tagger_eng')\n",
    "from nltk.sentiment.vader import SentimentIntensityAnalyzer\n",
    "import nltk\n",
    "nltk.download('vader_lexicon')\n",
    "import numpy as np\n",
    "import pandas as pd\n",
    "from helper_functions import *\n",
    "from sentence_transformers import SentenceTransformer\n",
    "from sklearn.metrics.pairwise import cosine_similarity\n",
    "from transformers import pipeline\n",
    "from nltk.corpus import stopwords, wordnet\n",
    "from nltk.tokenize import word_tokenize\n",
    "from nltk.stem import WordNetLemmatizer\n",
    "from nltk import pos_tag\n",
    "from collections import Counter"
   ]
  },
  {
   "cell_type": "code",
   "execution_count": null,
   "id": "f4d2d5a3",
   "metadata": {},
   "outputs": [],
   "source": [
    "# Load in Recall data\n",
    "\n",
    "# Paths to all three files\n",
    "recall_files = [\n",
    "    \"../Data/Current Version of Toys Incidence+Recall/Toysandchildren_ArtsandCrafts.csv\",\n",
    "    \"../Data/Current Version of Toys Incidence+Recall/Toysandchildren_Riding_Toys.csv\",\n",
    "    \"../Data/Current Version of Toys Incidence+Recall/Toysandchildren_Toys.csv\"\n",
    "]\n",
    "\n",
    "recall_dfs = [load_clean_csv(path) for path in recall_files]\n",
    "recalls_df = pd.concat(recall_dfs, ignore_index=True)\n",
    "\n"
   ]
  },
  {
   "cell_type": "code",
   "execution_count": null,
   "id": "5990b778",
   "metadata": {},
   "outputs": [],
   "source": [
    "# pre process the text\n",
    "recalls_df['lemmas'] = recalls_df['Incident Description'].apply(preprocess)"
   ]
  },
  {
   "cell_type": "code",
   "execution_count": null,
   "id": "3a4b9ca7",
   "metadata": {},
   "outputs": [],
   "source": [
    "!pip install yake"
   ]
  },
  {
   "cell_type": "code",
   "execution_count": null,
   "id": "46a9b097",
   "metadata": {},
   "outputs": [],
   "source": [
    "import yake"
   ]
  },
  {
   "cell_type": "code",
   "execution_count": null,
   "id": "11549354",
   "metadata": {},
   "outputs": [],
   "source": [
    "kw_extractor = yake.KeywordExtractor(lan=\"en\", n=1, top=10)"
   ]
  },
  {
   "cell_type": "code",
   "execution_count": null,
   "id": "50b360bb",
   "metadata": {},
   "outputs": [],
   "source": [
    "def extract_keywords_from_lemmas(lemmas_list, top_n=10):\n",
    "    text = \" \".join(lemmas_list)\n",
    "    kw_tuples = kw_extractor.extract_keywords(text)\n",
    "    # If you only want the keywords themselves:\n",
    "    keywords = [kw for kw, score in kw_tuples][:top_n]\n",
    "    return keywords\n",
    "\n",
    "# Apply to each row, storing the resulting keyword list in a new column:\n",
    "recalls_df[\"keywords\"] = recalls_df[\"lemmas\"].apply(lambda lem: extract_keywords_from_lemmas(lem))\n",
    "\n",
    "recalls_df"
   ]
  },
  {
   "cell_type": "code",
   "execution_count": null,
   "id": "e9b1c77e",
   "metadata": {},
   "outputs": [],
   "source": [
    "recalls_df['keywords'].to_clipboard()"
   ]
  },
  {
   "cell_type": "code",
   "execution_count": null,
   "id": "c6af72b4",
   "metadata": {},
   "outputs": [],
   "source": []
  }
 ],
 "metadata": {
  "kernelspec": {
   "display_name": "erdos_summer_2025",
   "language": "python",
   "name": "python3"
  },
  "language_info": {
   "codemirror_mode": {
    "name": "ipython",
    "version": 3
   },
   "file_extension": ".py",
   "mimetype": "text/x-python",
   "name": "python",
   "nbconvert_exporter": "python",
   "pygments_lexer": "ipython3",
   "version": "3.12.10"
  }
 },
 "nbformat": 4,
 "nbformat_minor": 5
}
