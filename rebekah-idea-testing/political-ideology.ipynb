{
 "cells": [
  {
   "cell_type": "code",
   "execution_count": 1,
   "id": "bbcbf500",
   "metadata": {},
   "outputs": [],
   "source": [
    "import pandas as pd"
   ]
  },
  {
   "cell_type": "code",
   "execution_count": 2,
   "id": "54d6f0cb",
   "metadata": {},
   "outputs": [],
   "source": [
    "raw_df = pd.read_csv('/Users/rebekaheichberg/Downloads/W142_Feb24/ATP W142.csv')"
   ]
  },
  {
   "cell_type": "code",
   "execution_count": 3,
   "id": "e360db47",
   "metadata": {},
   "outputs": [
    {
     "name": "stdout",
     "output_type": "stream",
     "text": [
      "QKEY                               0\n",
      "INTERVIEW_START_W142               0\n",
      "INTERVIEW_END_W142                 0\n",
      "DEVICE_TYPE_W142                   0\n",
      "LANG_W142                          0\n",
      "FORM_W142                          0\n",
      "XMARITAL_W142                      0\n",
      "USBEST_COLLEGE_DK_W142          5083\n",
      "USBEST_ENTERTAINMENT_DK_W142    5050\n",
      "USBEST_SLIVING_DK_W142             0\n",
      "USBEST_MILITARY_DK_W142            0\n",
      "USBEST_MEDACHIEVE_DK_W142          0\n",
      "USBEST_POLSYSTEM_DK_W142           0\n",
      "USBEST_SCIACHIEVE_DK_W142       5083\n",
      "USBEST_STEMEDUK12_DK_W142       5050\n",
      "SNSRATE_W142                       0\n",
      "TECHPOW_W142                       0\n",
      "TC5_W142                           0\n",
      "TC6b_W142                          0\n",
      "SM7_W142                           0\n",
      "EMPLSIT_W142                       0\n",
      "FACTWELL_a_W142                    0\n",
      "FACTWELL_b_W142                 5083\n",
      "FACTWELL_c_W142                 5083\n",
      "FACTWELL_d_W142                 5083\n",
      "FACTWELL_e_W142                 5083\n",
      "FACTWELL_f_W142                 5083\n",
      "FACTWELL_g_W142                 5050\n",
      "FACTWELL_h_W142                 5050\n",
      "FACTWELL_i_W142                 5050\n",
      "FACTWELL_j_W142                 5050\n",
      "FACTWELL_k_W142                 5050\n",
      "TALKMH_a_W142                      0\n",
      "TALKMH_b_W142                   3565\n",
      "TALKMH_c_W142                      0\n",
      "TALKMH_d_W142                      0\n",
      "TALKMH_e_W142                   7150\n",
      "TALKMH_f_W142                   5083\n",
      "TALKMH_g_W142                   5050\n",
      "FACTWGT_a_W142                     0\n",
      "FACTWGT_b_W142                     0\n",
      "FACTWGT_c_W142                     0\n",
      "FACTWGT_d_W142                     0\n",
      "FACTWGT_e_W142                     0\n",
      "WILLPWR_W142                       0\n",
      "OZHEARD_W142                       0\n",
      "OZUSE_a_W142                    2072\n",
      "OZUSE_b_W142                    2072\n",
      "REDUCOBES_W142                  2072\n",
      "COVIDTHREAT_a_W142              5083\n",
      "COVIDTHREAT_b_W142              5083\n",
      "COVIDTHREAT_c_W142              5083\n",
      "COVIDTHREAT_d_W142              5083\n",
      "COVID_INFECT_a_W142             5050\n",
      "COVID_INFECT_b_W142             5050\n",
      "HRDLONGCOV_W142                 5083\n",
      "LONGCOVID_W142                  5946\n",
      "NEWCOVVAX_W142                     0\n",
      "USEAI_W142                         0\n",
      "GENAICRED_W142                     0\n",
      "AICOPYRGHT_a_W142               5083\n",
      "AICOPYRGHT_b_W142               5083\n",
      "AICOPYRGHT_c_W142               5083\n",
      "AICOPYRGHT_d_W142               5050\n",
      "AICOPYRGHT_e_W142               5050\n",
      "AICOPYRGHT_f_W142               5050\n",
      "AICOPYRGHT_g_W142                  0\n",
      "CRYPT1_W142                        0\n",
      "CRYPT2_W142                     1089\n",
      "CRYPTNOW_W142                   8531\n",
      "CRYPTSEC_W142                   1089\n",
      "CRYPT4_W142                     8531\n",
      "GPT1_W142                          0\n",
      "GPTUSE_W142                     6613\n",
      "GPT2_a_W142                     6655\n",
      "GPT2_b_W142                     6655\n",
      "GPT2_c_W142                     7861\n",
      "GPTPOL1_W142                    6655\n",
      "GPTPOL2_W142                    3135\n",
      "SCI_FLU1_W142                   5050\n",
      "SCI_FLU2_W142                   5050\n",
      "SELFWGT_W142                       0\n",
      "F_METRO                           22\n",
      "F_CREGION                          2\n",
      "F_CDIVISION                        2\n",
      "F_USR_SELFID                       0\n",
      "F_AGECAT                           0\n",
      "F_GENDER                           0\n",
      "F_EDUCCAT                          0\n",
      "F_EDUCCAT2                         0\n",
      "F_HISP                             0\n",
      "F_HISP_ORIGIN                   8881\n",
      "F_YEARSINUS_RECODE                 0\n",
      "F_RACECMB                          0\n",
      "F_RACETHNMOD                       0\n",
      "F_BIRTHPLACE                       0\n",
      "F_MARITAL                          0\n",
      "F_RELIG                            0\n",
      "F_BORN                          3697\n",
      "F_RELIGCAT1                        0\n",
      "F_ATTENDPER                        0\n",
      "F_PARTY_FINAL                      0\n",
      "F_PARTYLN_FINAL                 6368\n",
      "F_PARTYSUM_FINAL                   0\n",
      "F_PARTYSUMIDEO_FINAL               0\n",
      "F_REG                              0\n",
      "F_INC_SDT1                         0\n",
      "F_IDEO                             0\n",
      "F_INTFREQ                        140\n",
      "F_VOLSUM                           0\n",
      "F_INC_TIER2                        0\n",
      "WEIGHT_W142                        0\n"
     ]
    }
   ],
   "source": [
    "print(raw_df.isna().sum().to_string())"
   ]
  },
  {
   "cell_type": "code",
   "execution_count": 4,
   "id": "7e00784a",
   "metadata": {},
   "outputs": [
    {
     "name": "stdout",
     "output_type": "stream",
     "text": [
      "Index(['USBEST_COLLEGE_DK_W142', 'USBEST_ENTERTAINMENT_DK_W142',\n",
      "       'USBEST_SCIACHIEVE_DK_W142', 'USBEST_STEMEDUK12_DK_W142',\n",
      "       'FACTWELL_b_W142', 'FACTWELL_c_W142', 'FACTWELL_d_W142',\n",
      "       'FACTWELL_e_W142', 'FACTWELL_f_W142', 'FACTWELL_g_W142',\n",
      "       'FACTWELL_h_W142', 'FACTWELL_i_W142', 'FACTWELL_j_W142',\n",
      "       'FACTWELL_k_W142', 'TALKMH_b_W142', 'TALKMH_e_W142', 'TALKMH_f_W142',\n",
      "       'TALKMH_g_W142', 'OZUSE_a_W142', 'OZUSE_b_W142', 'REDUCOBES_W142',\n",
      "       'COVIDTHREAT_a_W142', 'COVIDTHREAT_b_W142', 'COVIDTHREAT_c_W142',\n",
      "       'COVIDTHREAT_d_W142', 'COVID_INFECT_a_W142', 'COVID_INFECT_b_W142',\n",
      "       'HRDLONGCOV_W142', 'LONGCOVID_W142', 'AICOPYRGHT_a_W142',\n",
      "       'AICOPYRGHT_b_W142', 'AICOPYRGHT_c_W142', 'AICOPYRGHT_d_W142',\n",
      "       'AICOPYRGHT_e_W142', 'AICOPYRGHT_f_W142', 'CRYPT2_W142',\n",
      "       'CRYPTNOW_W142', 'CRYPTSEC_W142', 'CRYPT4_W142', 'GPTUSE_W142',\n",
      "       'GPT2_a_W142', 'GPT2_b_W142', 'GPT2_c_W142', 'GPTPOL1_W142',\n",
      "       'GPTPOL2_W142', 'SCI_FLU1_W142', 'SCI_FLU2_W142', 'F_METRO',\n",
      "       'F_CREGION', 'F_CDIVISION', 'F_HISP_ORIGIN', 'F_BORN',\n",
      "       'F_PARTYLN_FINAL', 'F_INTFREQ'],\n",
      "      dtype='object')\n"
     ]
    }
   ],
   "source": [
    "missing_cols = raw_df.columns[raw_df.isna().any()]\n",
    "print(missing_cols)"
   ]
  },
  {
   "cell_type": "code",
   "execution_count": null,
   "id": "038bc8ad",
   "metadata": {},
   "outputs": [],
   "source": []
  }
 ],
 "metadata": {
  "kernelspec": {
   "display_name": "erdos_summer_2025",
   "language": "python",
   "name": "python3"
  },
  "language_info": {
   "codemirror_mode": {
    "name": "ipython",
    "version": 3
   },
   "file_extension": ".py",
   "mimetype": "text/x-python",
   "name": "python",
   "nbconvert_exporter": "python",
   "pygments_lexer": "ipython3",
   "version": "3.12.10"
  }
 },
 "nbformat": 4,
 "nbformat_minor": 5
}
