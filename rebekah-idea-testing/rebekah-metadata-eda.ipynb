{
 "cells": [
  {
   "cell_type": "code",
   "execution_count": null,
   "id": "53d08d78",
   "metadata": {},
   "outputs": [],
   "source": [
    "import numpy as np\n",
    "import pandas as pd\n",
    "import seaborn as sns"
   ]
  },
  {
   "cell_type": "code",
   "execution_count": null,
   "id": "fb20239c",
   "metadata": {},
   "outputs": [],
   "source": [
    "#metadata_df_raw = pd.read_json(\"../Data/amazon_meta.json\",lines=True)\n",
    "#metadata_pickle = metadata_df_raw.to_pickle('metadata_raw.pkl')\n",
    "metadata_df_raw = pd.read_pickle('metadata_raw.pkl')\n"
   ]
  },
  {
   "cell_type": "code",
   "execution_count": null,
   "id": "a6426896",
   "metadata": {},
   "outputs": [],
   "source": [
    "metadata_df_raw"
   ]
  },
  {
   "cell_type": "code",
   "execution_count": null,
   "id": "710a5f9d",
   "metadata": {},
   "outputs": [],
   "source": []
  }
 ],
 "metadata": {
  "kernelspec": {
   "display_name": "erdos_summer_2025",
   "language": "python",
   "name": "python3"
  },
  "language_info": {
   "codemirror_mode": {
    "name": "ipython",
    "version": 3
   },
   "file_extension": ".py",
   "mimetype": "text/x-python",
   "name": "python",
   "nbconvert_exporter": "python",
   "pygments_lexer": "ipython3",
   "version": "3.12.10"
  }
 },
 "nbformat": 4,
 "nbformat_minor": 5
}
