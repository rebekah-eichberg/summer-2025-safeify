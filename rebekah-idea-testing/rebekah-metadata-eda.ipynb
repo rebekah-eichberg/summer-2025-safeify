{
 "cells": [
  {
   "cell_type": "code",
   "execution_count": 1,
   "id": "53d08d78",
   "metadata": {},
   "outputs": [],
   "source": [
    "import numpy as np\n",
    "import pandas as pd\n",
    "import seaborn as sns"
   ]
  },
  {
   "cell_type": "markdown",
   "id": "61e6c497",
   "metadata": {},
   "source": [
    "Load in Data"
   ]
  },
  {
   "cell_type": "code",
   "execution_count": 2,
   "id": "fb20239c",
   "metadata": {},
   "outputs": [],
   "source": [
    "#metadata_df_raw = pd.read_json(\"../Data/amazon_meta.json\",lines=True)\n",
    "#metadata_pickle = metadata_df_raw.to_pickle('metadata_raw.pkl')\n",
    "metadata_df_raw = pd.read_pickle('metadata_raw.pkl')\n"
   ]
  },
  {
   "cell_type": "code",
   "execution_count": 3,
   "id": "b0e68abc",
   "metadata": {},
   "outputs": [],
   "source": [
    "#reviews_df_raw = pd.read_json(\"../Data/amazon_reviews.json\",lines=True)\n",
    "#reviews_pickle = reviews_df_raw.to_pickle('reviews_raw.pkl')\n",
    "reviews_df_raw = pd.read_pickle('reviews_raw.pkl')"
   ]
  },
  {
   "cell_type": "markdown",
   "id": "53a7703e",
   "metadata": {},
   "source": [
    "EDA for Metadata"
   ]
  },
  {
   "cell_type": "code",
   "execution_count": 4,
   "id": "a6426896",
   "metadata": {},
   "outputs": [
    {
     "data": {
      "text/html": [
       "<div>\n",
       "<style scoped>\n",
       "    .dataframe tbody tr th:only-of-type {\n",
       "        vertical-align: middle;\n",
       "    }\n",
       "\n",
       "    .dataframe tbody tr th {\n",
       "        vertical-align: top;\n",
       "    }\n",
       "\n",
       "    .dataframe thead th {\n",
       "        text-align: right;\n",
       "    }\n",
       "</style>\n",
       "<table border=\"1\" class=\"dataframe\">\n",
       "  <thead>\n",
       "    <tr style=\"text-align: right;\">\n",
       "      <th></th>\n",
       "      <th>category</th>\n",
       "      <th>tech1</th>\n",
       "      <th>description</th>\n",
       "      <th>fit</th>\n",
       "      <th>title</th>\n",
       "      <th>also_buy</th>\n",
       "      <th>tech2</th>\n",
       "      <th>brand</th>\n",
       "      <th>feature</th>\n",
       "      <th>rank</th>\n",
       "      <th>also_view</th>\n",
       "      <th>main_cat</th>\n",
       "      <th>similar_item</th>\n",
       "      <th>date</th>\n",
       "      <th>price</th>\n",
       "      <th>asin</th>\n",
       "      <th>imageURL</th>\n",
       "      <th>imageURLHighRes</th>\n",
       "      <th>details</th>\n",
       "    </tr>\n",
       "  </thead>\n",
       "  <tbody>\n",
       "    <tr>\n",
       "      <th>0</th>\n",
       "      <td>[Toys &amp; Games, Puzzles, Jigsaw Puzzles]</td>\n",
       "      <td></td>\n",
       "      <td>[Three Dr. Suess' Puzzles: Green Eggs and Ham,...</td>\n",
       "      <td></td>\n",
       "      <td>Dr. Suess 19163 Dr. Seuss Puzzle 3 Pack Bundle</td>\n",
       "      <td>[]</td>\n",
       "      <td></td>\n",
       "      <td>Dr. Seuss</td>\n",
       "      <td>[Three giant floor puzzles, Includes: Dr. Sues...</td>\n",
       "      <td>[&gt;#2,230,717 in Toys &amp; Games (See Top 100 in T...</td>\n",
       "      <td>[]</td>\n",
       "      <td>Toys &amp; Games</td>\n",
       "      <td></td>\n",
       "      <td></td>\n",
       "      <td></td>\n",
       "      <td>0000191639</td>\n",
       "      <td>[https://images-na.ssl-images-amazon.com/image...</td>\n",
       "      <td>[https://images-na.ssl-images-amazon.com/image...</td>\n",
       "      <td>NaN</td>\n",
       "    </tr>\n",
       "    <tr>\n",
       "      <th>1</th>\n",
       "      <td>[]</td>\n",
       "      <td></td>\n",
       "      <td>[&lt;b&gt;Prepare to be Afraid!&lt;/b&gt;&lt;br /&gt;&lt;br /&gt;The B...</td>\n",
       "      <td></td>\n",
       "      <td>Pathfinder: Book of Beasts - Legendary Foes</td>\n",
       "      <td>[]</td>\n",
       "      <td></td>\n",
       "      <td>Pathfinder Roleplaying Jon Brazer Productions</td>\n",
       "      <td>[]</td>\n",
       "      <td>[&gt;#2,294,535 in Toys &amp; Games (See Top 100 in T...</td>\n",
       "      <td>[]</td>\n",
       "      <td>Toys &amp; Games</td>\n",
       "      <td></td>\n",
       "      <td></td>\n",
       "      <td>.a-box-inner{background-color:#fff}#alohaBuyBo...</td>\n",
       "      <td>0004950763</td>\n",
       "      <td>[]</td>\n",
       "      <td>[]</td>\n",
       "      <td>NaN</td>\n",
       "    </tr>\n",
       "    <tr>\n",
       "      <th>2</th>\n",
       "      <td>[]</td>\n",
       "      <td></td>\n",
       "      <td>[]</td>\n",
       "      <td></td>\n",
       "      <td>Nursery Rhymes Felt Book</td>\n",
       "      <td>[]</td>\n",
       "      <td></td>\n",
       "      <td>Betty Lukens</td>\n",
       "      <td>[]</td>\n",
       "      <td>[&gt;#2,871,983 in Toys &amp; Games (See Top 100 in T...</td>\n",
       "      <td>[]</td>\n",
       "      <td>Toys &amp; Games</td>\n",
       "      <td></td>\n",
       "      <td></td>\n",
       "      <td>.a-box-inner{background-color:#fff}#alohaBuyBo...</td>\n",
       "      <td>0005069491</td>\n",
       "      <td>[]</td>\n",
       "      <td>[]</td>\n",
       "      <td>NaN</td>\n",
       "    </tr>\n",
       "    <tr>\n",
       "      <th>3</th>\n",
       "      <td>[Toys &amp; Games, Games, Card Games]</td>\n",
       "      <td></td>\n",
       "      <td>[Blitz Vintage Card Game]</td>\n",
       "      <td></td>\n",
       "      <td>Dutch Blitz Card Game</td>\n",
       "      <td>[B00WIIPQEC]</td>\n",
       "      <td></td>\n",
       "      <td>Dutch Blitz Games Co</td>\n",
       "      <td>[]</td>\n",
       "      <td>[&gt;#376,337 in Toys &amp; Games (See Top 100 in Toy...</td>\n",
       "      <td>[B000BBU0KS, B00NQQTZ5G, B00WIIPQEC, B001VIWAO...</td>\n",
       "      <td>Toys &amp; Games</td>\n",
       "      <td>class=\"a-bordered a-horizontal-stripes  a-spa...</td>\n",
       "      <td></td>\n",
       "      <td>$24.95</td>\n",
       "      <td>0004983289</td>\n",
       "      <td>[]</td>\n",
       "      <td>[]</td>\n",
       "      <td>NaN</td>\n",
       "    </tr>\n",
       "    <tr>\n",
       "      <th>4</th>\n",
       "      <td>[]</td>\n",
       "      <td></td>\n",
       "      <td>[Marvel SuperHeroes themed \"magic ink\" colorin...</td>\n",
       "      <td></td>\n",
       "      <td>Magic Pen Painting (Marvel Super Heroes)</td>\n",
       "      <td>[B009SB7TI8, B009SB8Z1I]</td>\n",
       "      <td></td>\n",
       "      <td>Lee Publications</td>\n",
       "      <td>[]</td>\n",
       "      <td>[&gt;#934,954 in Toys &amp; Games (See Top 100 in Toy...</td>\n",
       "      <td>[]</td>\n",
       "      <td>Toys &amp; Games</td>\n",
       "      <td></td>\n",
       "      <td></td>\n",
       "      <td>$4.92</td>\n",
       "      <td>0006466222</td>\n",
       "      <td>[]</td>\n",
       "      <td>[]</td>\n",
       "      <td>NaN</td>\n",
       "    </tr>\n",
       "  </tbody>\n",
       "</table>\n",
       "</div>"
      ],
      "text/plain": [
       "                                  category tech1  \\\n",
       "0  [Toys & Games, Puzzles, Jigsaw Puzzles]         \n",
       "1                                       []         \n",
       "2                                       []         \n",
       "3        [Toys & Games, Games, Card Games]         \n",
       "4                                       []         \n",
       "\n",
       "                                         description fit  \\\n",
       "0  [Three Dr. Suess' Puzzles: Green Eggs and Ham,...       \n",
       "1  [<b>Prepare to be Afraid!</b><br /><br />The B...       \n",
       "2                                                 []       \n",
       "3                          [Blitz Vintage Card Game]       \n",
       "4  [Marvel SuperHeroes themed \"magic ink\" colorin...       \n",
       "\n",
       "                                            title                  also_buy  \\\n",
       "0  Dr. Suess 19163 Dr. Seuss Puzzle 3 Pack Bundle                        []   \n",
       "1     Pathfinder: Book of Beasts - Legendary Foes                        []   \n",
       "2                        Nursery Rhymes Felt Book                        []   \n",
       "3                           Dutch Blitz Card Game              [B00WIIPQEC]   \n",
       "4        Magic Pen Painting (Marvel Super Heroes)  [B009SB7TI8, B009SB8Z1I]   \n",
       "\n",
       "  tech2                                          brand  \\\n",
       "0                                            Dr. Seuss   \n",
       "1        Pathfinder Roleplaying Jon Brazer Productions   \n",
       "2                                         Betty Lukens   \n",
       "3                                 Dutch Blitz Games Co   \n",
       "4                                     Lee Publications   \n",
       "\n",
       "                                             feature  \\\n",
       "0  [Three giant floor puzzles, Includes: Dr. Sues...   \n",
       "1                                                 []   \n",
       "2                                                 []   \n",
       "3                                                 []   \n",
       "4                                                 []   \n",
       "\n",
       "                                                rank  \\\n",
       "0  [>#2,230,717 in Toys & Games (See Top 100 in T...   \n",
       "1  [>#2,294,535 in Toys & Games (See Top 100 in T...   \n",
       "2  [>#2,871,983 in Toys & Games (See Top 100 in T...   \n",
       "3  [>#376,337 in Toys & Games (See Top 100 in Toy...   \n",
       "4  [>#934,954 in Toys & Games (See Top 100 in Toy...   \n",
       "\n",
       "                                           also_view      main_cat  \\\n",
       "0                                                 []  Toys & Games   \n",
       "1                                                 []  Toys & Games   \n",
       "2                                                 []  Toys & Games   \n",
       "3  [B000BBU0KS, B00NQQTZ5G, B00WIIPQEC, B001VIWAO...  Toys & Games   \n",
       "4                                                 []  Toys & Games   \n",
       "\n",
       "                                        similar_item date  \\\n",
       "0                                                           \n",
       "1                                                           \n",
       "2                                                           \n",
       "3   class=\"a-bordered a-horizontal-stripes  a-spa...        \n",
       "4                                                           \n",
       "\n",
       "                                               price        asin  \\\n",
       "0                                                     0000191639   \n",
       "1  .a-box-inner{background-color:#fff}#alohaBuyBo...  0004950763   \n",
       "2  .a-box-inner{background-color:#fff}#alohaBuyBo...  0005069491   \n",
       "3                                             $24.95  0004983289   \n",
       "4                                              $4.92  0006466222   \n",
       "\n",
       "                                            imageURL  \\\n",
       "0  [https://images-na.ssl-images-amazon.com/image...   \n",
       "1                                                 []   \n",
       "2                                                 []   \n",
       "3                                                 []   \n",
       "4                                                 []   \n",
       "\n",
       "                                     imageURLHighRes details  \n",
       "0  [https://images-na.ssl-images-amazon.com/image...     NaN  \n",
       "1                                                 []     NaN  \n",
       "2                                                 []     NaN  \n",
       "3                                                 []     NaN  \n",
       "4                                                 []     NaN  "
      ]
     },
     "execution_count": 4,
     "metadata": {},
     "output_type": "execute_result"
    }
   ],
   "source": [
    "metadata_df_raw.head(5)"
   ]
  },
  {
   "cell_type": "code",
   "execution_count": 5,
   "id": "710a5f9d",
   "metadata": {},
   "outputs": [
    {
     "data": {
      "text/plain": [
       "(633883, 19)"
      ]
     },
     "execution_count": 5,
     "metadata": {},
     "output_type": "execute_result"
    }
   ],
   "source": [
    "metadata_df_raw.shape"
   ]
  },
  {
   "cell_type": "code",
   "execution_count": 6,
   "id": "9113f550",
   "metadata": {},
   "outputs": [
    {
     "data": {
      "text/plain": [
       "Index(['category', 'tech1', 'description', 'fit', 'title', 'also_buy', 'tech2',\n",
       "       'brand', 'feature', 'rank', 'also_view', 'main_cat', 'similar_item',\n",
       "       'date', 'price', 'asin', 'imageURL', 'imageURLHighRes', 'details'],\n",
       "      dtype='object')"
      ]
     },
     "execution_count": 6,
     "metadata": {},
     "output_type": "execute_result"
    }
   ],
   "source": [
    "metadata_df_raw.columns"
   ]
  },
  {
   "cell_type": "code",
   "execution_count": 7,
   "id": "db475698",
   "metadata": {},
   "outputs": [],
   "source": [
    "# only keep the rows that are found in the reviews data\n",
    "unique_asins_reviews = reviews_df_raw['asin'].unique()\n",
    "len(unique_asins_reviews)\n",
    "\n",
    "filtered_metadata_df = metadata_df_raw[metadata_df_raw['asin'].isin(list(unique_asins_reviews))]"
   ]
  },
  {
   "cell_type": "markdown",
   "id": "1c169942",
   "metadata": {},
   "source": [
    "Begin EDA"
   ]
  },
  {
   "cell_type": "code",
   "execution_count": 8,
   "id": "0ea0e85e",
   "metadata": {},
   "outputs": [
    {
     "name": "stdout",
     "output_type": "stream",
     "text": [
      "Missing Values Overview:\n",
      "         Missing Count  Missing Percentage\n",
      "details           1462            0.230651\n"
     ]
    }
   ],
   "source": [
    "# count and percentage of missing values in each column\n",
    "missing_counts = filtered_metadata_df.isna().sum()\n",
    "missing_percentages = filtered_metadata_df.isna().mean() * 100\n",
    "missing_df = pd.DataFrame({\n",
    "    'Missing Count': missing_counts,\n",
    "    'Missing Percentage': missing_percentages\n",
    "})\n",
    "missing_df = missing_df[missing_df['Missing Count'] > 0]\n",
    "missing_df = missing_df.sort_values(by='Missing Percentage', ascending=False)\n",
    "print(\"Missing Values Overview:\")\n",
    "print(missing_df)"
   ]
  },
  {
   "cell_type": "code",
   "execution_count": 9,
   "id": "f115d7e8",
   "metadata": {},
   "outputs": [
    {
     "data": {
      "text/plain": [
       "array(['Toys & Games', 'Office Products', 'Arts, Crafts & Sewing',\n",
       "       'Software', 'Amazon Home', 'Baby', 'Sports & Outdoors',\n",
       "       '<img src=\"https://images-na.ssl-images-amazon.com/images/G/01/nav2/images/gui/amazon-fashion-store-new._CB520838675_.png\" class=\"nav-categ-image\" alt=\"AMAZON FASHION\"/>',\n",
       "       'Health & Personal Care', 'All Beauty', 'Industrial & Scientific',\n",
       "       'All Electronics', 'Movies & TV', 'Pet Supplies',\n",
       "       'Musical Instruments', 'Video Games',\n",
       "       'Portable Audio & Accessories', 'Tools & Home Improvement',\n",
       "       'Cell Phones & Accessories', 'Home Audio & Theater',\n",
       "       'Camera & Photo', 'Computers', 'Grocery', 'Automotive',\n",
       "       '<img src=\"https://m.media-amazon.com/images/G/01/nav2/images/gui/amazon-fashion-store-new._CB520838675_.png\" class=\"nav-categ-image\" alt=\"AMAZON FASHION\"/>',\n",
       "       'Collectible Coins', 'Car Electronics', 'Entertainment',\n",
       "       'Sports Collectibles', '', 'Appliances', 'GPS & Navigation',\n",
       "       'Amazon Devices', 'Collectibles & Fine Art',\n",
       "       '<img src=\"https://images-na.ssl-images-amazon.com/images/G/01/img16/amazon-launchpad/content-grid/launchpad_lp_nav-logo_v2._CB268684856_.png\" class=\"nav-categ-image\" alt=\"AMAZON LAUNCHPAD\"/>',\n",
       "       'Fine Art', '3D Printing',\n",
       "       '<img src=\"https://images-na.ssl-images-amazon.com/images/G/01/handmade/brand/logos/2018/subnav_logo._CB502360610_.png\" class=\"nav-categ-image\" alt=\"Handmade\"/>'],\n",
       "      dtype=object)"
      ]
     },
     "execution_count": 9,
     "metadata": {},
     "output_type": "execute_result"
    }
   ],
   "source": [
    "filtered_metadata_df['main_cat'].unique()"
   ]
  },
  {
   "cell_type": "code",
   "execution_count": 10,
   "id": "bf0cc1a5",
   "metadata": {},
   "outputs": [
    {
     "data": {
      "text/plain": [
       "array([('Toys & Games', 'Puzzles', 'Jigsaw Puzzles'), (),\n",
       "       ('Toys & Games', 'Games', 'Card Games'), ...,\n",
       "       ('Toys & Games', 'Novelty & Gag Toys', 'Temporary Tattoos', 'Brand new Fantastic quality Halloween Hippie Tattoos', \"Great accessory for any adult's or child Halloween Hippie costume\", 'This posting includes: Set of 12 assorted retro hippie theme temporary tattoos as featured', 'Please note that only the items listed above are included.'),\n",
       "       ('Toys & Games', 'Party Supplies', 'Party Packs', 'Cloth,Cotton', \"Note: please measure baby's feet to match the shoes's length, the age is just for reference.\", 'Shoe upper material:Soft Leather; Closure Type: Hook&Loop; Sole material:Rubber', 'The sole of shoes is soft and thin suitable as baby prewalkerColored light can be seen at night', 'Every detail be made carefully and good for daily use,Package content:1 pair baby shoes', 'Makes a perfect baby shower, birthday present or for your very own little love.'),\n",
       "       ('Toys & Games', 'Party Supplies', 'Invitations & Cards', 'Imported', 'Measures 4.25\" x 6.25\"', 'Package of 8 cards', '\"Ariel\"/\"Rapunzel\"/\"Belle\"/\"Tatiana\", colorful background, headline \"You\\'re Invited\"', 'Match with our other \" Disney Princess Dream Big\" party collection')],\n",
       "      shape=(5300,), dtype=object)"
      ]
     },
     "execution_count": 10,
     "metadata": {},
     "output_type": "execute_result"
    }
   ],
   "source": [
    "unique_categories = filtered_metadata_df['category'].apply(tuple).unique()\n",
    "unique_categories"
   ]
  },
  {
   "cell_type": "code",
   "execution_count": null,
   "id": "d903b830",
   "metadata": {},
   "outputs": [],
   "source": [
    "filtered_metadata_df.loc[filtered_metadata_df['asin'] == 'B000YDDF6O']"
   ]
  },
  {
   "cell_type": "code",
   "execution_count": null,
   "id": "0b7ffcb3",
   "metadata": {},
   "outputs": [],
   "source": [
    "filtered_metadata_df.loc[filtered_metadata_df['asin'] == 'B01HJHA7GI']"
   ]
  },
  {
   "cell_type": "code",
   "execution_count": null,
   "id": "6d3b2af5",
   "metadata": {},
   "outputs": [],
   "source": [
    "filtered_metadata_df.loc[filtered_metadata_df['asin'] == 'B00Y53V80E']"
   ]
  },
  {
   "cell_type": "code",
   "execution_count": null,
   "id": "d3dfe17c",
   "metadata": {},
   "outputs": [],
   "source": [
    "filtered_metadata_df.loc[filtered_metadata_df['asin'] == 'B012C8L010']"
   ]
  },
  {
   "cell_type": "code",
   "execution_count": null,
   "id": "08c8babd",
   "metadata": {},
   "outputs": [],
   "source": []
  }
 ],
 "metadata": {
  "kernelspec": {
   "display_name": "erdos_summer_2025",
   "language": "python",
   "name": "python3"
  },
  "language_info": {
   "codemirror_mode": {
    "name": "ipython",
    "version": 3
   },
   "file_extension": ".py",
   "mimetype": "text/x-python",
   "name": "python",
   "nbconvert_exporter": "python",
   "pygments_lexer": "ipython3",
   "version": "3.12.10"
  }
 },
 "nbformat": 4,
 "nbformat_minor": 5
}
