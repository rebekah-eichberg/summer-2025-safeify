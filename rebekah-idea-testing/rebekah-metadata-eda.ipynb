{
 "cells": [
  {
   "cell_type": "code",
   "execution_count": null,
   "id": "53d08d78",
   "metadata": {},
   "outputs": [],
   "source": [
    "import numpy as np\n",
    "import pandas as pd\n",
    "import seaborn as sns"
   ]
  },
  {
   "cell_type": "markdown",
   "id": "61e6c497",
   "metadata": {},
   "source": [
    "Load in Data"
   ]
  },
  {
   "cell_type": "code",
   "execution_count": null,
   "id": "fb20239c",
   "metadata": {},
   "outputs": [],
   "source": [
    "#metadata_df_raw = pd.read_json(\"../Data/amazon_meta.json\",lines=True)\n",
    "#metadata_pickle = metadata_df_raw.to_pickle('metadata_raw.pkl')\n",
    "metadata_df_raw = pd.read_pickle('metadata_raw.pkl')\n"
   ]
  },
  {
   "cell_type": "code",
   "execution_count": null,
   "id": "b0e68abc",
   "metadata": {},
   "outputs": [],
   "source": [
    "#reviews_df_raw = pd.read_json(\"../Data/amazon_reviews.json\",lines=True)\n",
    "#reviews_pickle = reviews_df_raw.to_pickle('reviews_raw.pkl')\n",
    "reviews_df_raw = pd.read_pickle('reviews_raw.pkl')"
   ]
  },
  {
   "cell_type": "markdown",
   "id": "53a7703e",
   "metadata": {},
   "source": [
    "EDA for Metadata"
   ]
  },
  {
   "cell_type": "code",
   "execution_count": null,
   "id": "a6426896",
   "metadata": {},
   "outputs": [],
   "source": [
    "metadata_df_raw.head(5)"
   ]
  },
  {
   "cell_type": "code",
   "execution_count": null,
   "id": "710a5f9d",
   "metadata": {},
   "outputs": [],
   "source": [
    "metadata_df_raw.shape"
   ]
  },
  {
   "cell_type": "code",
   "execution_count": null,
   "id": "9113f550",
   "metadata": {},
   "outputs": [],
   "source": [
    "metadata_df_raw.columns"
   ]
  },
  {
   "cell_type": "code",
   "execution_count": null,
   "id": "db475698",
   "metadata": {},
   "outputs": [],
   "source": [
    "# only keep the rows that are found in the reviews data\n",
    "unique_asins_reviews = reviews_df_raw['asin'].unique()\n",
    "len(unique_asins_reviews)\n",
    "\n",
    "filtered_metadata_df = metadata_df_raw[metadata_df_raw['asin'].isin(list(unique_asins_reviews))]"
   ]
  },
  {
   "cell_type": "markdown",
   "id": "1c169942",
   "metadata": {},
   "source": [
    "Begin EDA"
   ]
  },
  {
   "cell_type": "code",
   "execution_count": null,
   "id": "0ea0e85e",
   "metadata": {},
   "outputs": [],
   "source": [
    "# count and percentage of missing values in each column\n",
    "missing_counts = filtered_metadata_df.isna().sum()\n",
    "missing_percentages = filtered_metadata_df.isna().mean() * 100\n",
    "missing_df = pd.DataFrame({\n",
    "    'Missing Count': missing_counts,\n",
    "    'Missing Percentage': missing_percentages\n",
    "})\n",
    "missing_df = missing_df[missing_df['Missing Count'] > 0]\n",
    "missing_df = missing_df.sort_values(by='Missing Percentage', ascending=False)\n",
    "print(\"Missing Values Overview:\")\n",
    "print(missing_df)"
   ]
  },
  {
   "cell_type": "code",
   "execution_count": null,
   "id": "f115d7e8",
   "metadata": {},
   "outputs": [],
   "source": [
    "filtered_metadata_df['main_cat'].unique()"
   ]
  },
  {
   "cell_type": "code",
   "execution_count": null,
   "id": "bf0cc1a5",
   "metadata": {},
   "outputs": [],
   "source": [
    "unique_categories = filtered_metadata_df['category'].apply(tuple).unique()\n",
    "unique_categories"
   ]
  },
  {
   "cell_type": "code",
   "execution_count": null,
   "id": "d903b830",
   "metadata": {},
   "outputs": [],
   "source": [
    "filtered_metadata_df.loc[filtered_metadata_df['asin'] == 'B000YDDF6O']"
   ]
  },
  {
   "cell_type": "code",
   "execution_count": null,
   "id": "0b7ffcb3",
   "metadata": {},
   "outputs": [],
   "source": [
    "filtered_metadata_df.loc[filtered_metadata_df['asin'] == 'B01HJHA7GI']"
   ]
  },
  {
   "cell_type": "code",
   "execution_count": null,
   "id": "6d3b2af5",
   "metadata": {},
   "outputs": [],
   "source": [
    "filtered_metadata_df.loc[filtered_metadata_df['asin'] == 'B00Y53V80E']"
   ]
  },
  {
   "cell_type": "code",
   "execution_count": null,
   "id": "d3dfe17c",
   "metadata": {},
   "outputs": [
    {
     "ename": "",
     "evalue": "",
     "output_type": "error",
     "traceback": [
      "\u001b[1;31mThe Kernel crashed while executing code in the current cell or a previous cell. \n",
      "\u001b[1;31mPlease review the code in the cell(s) to identify a possible cause of the failure. \n",
      "\u001b[1;31mClick <a href='https://aka.ms/vscodeJupyterKernelCrash'>here</a> for more info. \n",
      "\u001b[1;31mView Jupyter <a href='command:jupyter.viewOutput'>log</a> for further details."
     ]
    }
   ],
   "source": [
    "filtered_metadata_df.loc[filtered_metadata_df['asin'] == 'B012C8L010']"
   ]
  },
  {
   "cell_type": "code",
   "execution_count": null,
   "id": "08c8babd",
   "metadata": {},
   "outputs": [],
   "source": []
  }
 ],
 "metadata": {
  "kernelspec": {
   "display_name": "erdos_summer_2025",
   "language": "python",
   "name": "python3"
  },
  "language_info": {
   "codemirror_mode": {
    "name": "ipython",
    "version": 3
   },
   "file_extension": ".py",
   "mimetype": "text/x-python",
   "name": "python",
   "nbconvert_exporter": "python",
   "pygments_lexer": "ipython3",
   "version": "3.12.10"
  }
 },
 "nbformat": 4,
 "nbformat_minor": 5
}
