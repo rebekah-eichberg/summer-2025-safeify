{
 "cells": [
  {
   "cell_type": "code",
   "execution_count": null,
   "id": "6c7d9b62",
   "metadata": {},
   "outputs": [],
   "source": [
    "!pip install bertopic"
   ]
  },
  {
   "cell_type": "code",
   "execution_count": null,
   "id": "d5257000",
   "metadata": {},
   "outputs": [],
   "source": [
    "import nltk\n",
    "nltk.download('punkt')       \n",
    "nltk.download('stopwords') \n",
    "nltk.download('punkt_tab')  \n",
    "from nltk.sentiment.vader import SentimentIntensityAnalyzer\n",
    "import nltk\n",
    "nltk.download('vader_lexicon')\n",
    "import numpy as np\n",
    "import pandas as pd\n",
    "from nltk.corpus import stopwords\n",
    "from nltk.stem import PorterStemmer\n",
    "from nltk.tokenize import word_tokenize\n",
    "import string\n",
    "import re\n",
    "from sklearn.feature_extraction.text import CountVectorizer, TfidfVectorizer\n",
    "import spacy\n",
    "from bertopic import BERTopic"
   ]
  },
  {
   "cell_type": "code",
   "execution_count": null,
   "id": "445cbdf4",
   "metadata": {},
   "outputs": [],
   "source": [
    "reviews_df = pd.read_pickle('reviews_raw.pkl')\n",
    "reviews_df['asin'].nunique()"
   ]
  },
  {
   "cell_type": "markdown",
   "id": "34ceca50",
   "metadata": {},
   "source": [
    "Bertopic Attempt"
   ]
  },
  {
   "cell_type": "code",
   "execution_count": null,
   "id": "11ade651",
   "metadata": {},
   "outputs": [],
   "source": [
    "# pick a random asin from the DataFrame\n",
    "reviews_df['asin'].sample(1)"
   ]
  },
  {
   "cell_type": "code",
   "execution_count": null,
   "id": "de661c22",
   "metadata": {},
   "outputs": [],
   "source": [
    "# make a df based on the random asin\n",
    "test_df = reviews_df.loc[reviews_df['asin'] == 'B00ICDB1QO'].copy()\n",
    "test_df"
   ]
  },
  {
   "cell_type": "code",
   "execution_count": null,
   "id": "884853f8",
   "metadata": {},
   "outputs": [],
   "source": [
    "bertopic_df = test_df.copy()"
   ]
  },
  {
   "cell_type": "code",
   "execution_count": null,
   "id": "87c569b4",
   "metadata": {},
   "outputs": [],
   "source": [
    "# remove stopwords\n",
    "stop_words = set(stopwords.words('english'))\n",
    "\n",
    "def remove_stopwords(data):\n",
    "    output_array = []\n",
    "    for sentence in data:\n",
    "        temp_list = []\n",
    "        for word in str(sentence).split():\n",
    "            if word.lower() not in stop_words:\n",
    "                temp_list.append(word)\n",
    "        output_array.append(' '.join(temp_list))\n",
    "    return output_array"
   ]
  },
  {
   "cell_type": "code",
   "execution_count": null,
   "id": "8c430328",
   "metadata": {},
   "outputs": [],
   "source": [
    "reviewText = bertopic_df['reviewText'].to_list()"
   ]
  },
  {
   "cell_type": "code",
   "execution_count": null,
   "id": "2e1264ae",
   "metadata": {},
   "outputs": [],
   "source": [
    "reviewText"
   ]
  },
  {
   "cell_type": "code",
   "execution_count": null,
   "id": "19cea677",
   "metadata": {},
   "outputs": [],
   "source": [
    "reviewText = remove_stopwords(reviewText)"
   ]
  },
  {
   "cell_type": "code",
   "execution_count": null,
   "id": "29fd8e38",
   "metadata": {},
   "outputs": [],
   "source": [
    "# initialize the model\n",
    "test_model = BERTopic(language='english', nr_topics='auto')"
   ]
  },
  {
   "cell_type": "code",
   "execution_count": null,
   "id": "b2bc5ed6",
   "metadata": {},
   "outputs": [],
   "source": [
    "topics, probabilities = test_model.fit_transform(reviewText)"
   ]
  },
  {
   "cell_type": "code",
   "execution_count": null,
   "id": "44332062",
   "metadata": {},
   "outputs": [],
   "source": [
    "test_model.update_topics(reviewText, topics=topics, n_gram_range=(1,2))"
   ]
  },
  {
   "cell_type": "code",
   "execution_count": null,
   "id": "caf2741b",
   "metadata": {},
   "outputs": [],
   "source": [
    "test_model.get_topic_freq()"
   ]
  },
  {
   "cell_type": "code",
   "execution_count": null,
   "id": "bba6250d",
   "metadata": {},
   "outputs": [],
   "source": [
    "test_model.get_topic(1)"
   ]
  },
  {
   "cell_type": "code",
   "execution_count": null,
   "id": "8af743c4",
   "metadata": {},
   "outputs": [],
   "source": [
    "test_model.get_topic(0)"
   ]
  },
  {
   "cell_type": "code",
   "execution_count": null,
   "id": "20b9590c",
   "metadata": {},
   "outputs": [],
   "source": [
    "for x in range(0, 2):\n",
    "    first_tuple_elements = []\n",
    "    for tuple in test_model.get_topic(x):\n",
    "        first_tuple_elements.append(tuple[0])\n",
    "    print(first_tuple_elements)\n",
    "    print(\"\\n\")"
   ]
  },
  {
   "cell_type": "markdown",
   "id": "c6b8cae7",
   "metadata": {},
   "source": [
    "hugging face"
   ]
  },
  {
   "cell_type": "code",
   "execution_count": null,
   "id": "49f0d72c",
   "metadata": {},
   "outputs": [],
   "source": [
    "!pip install -U sentence-transformers"
   ]
  },
  {
   "cell_type": "code",
   "execution_count": null,
   "id": "e3f5fb94",
   "metadata": {},
   "outputs": [],
   "source": [
    "from sentence_transformers import SentenceTransformer"
   ]
  },
  {
   "cell_type": "code",
   "execution_count": null,
   "id": "67f7cd67",
   "metadata": {},
   "outputs": [],
   "source": [
    "\n",
    "model = SentenceTransformer('all-MiniLM-L6-v2')\n",
    "reviews_list = test_df['reviewText'].to_list()\n",
    "embeddings = model.encode(reviews_list)\n",
    "embeddings.shape"
   ]
  },
  {
   "cell_type": "code",
   "execution_count": null,
   "id": "6f424c93",
   "metadata": {},
   "outputs": [],
   "source": [
    "# aggregate review embeddings per product\n",
    "# option 1: average pooling\n",
    "# embed each review for the product and then average those embeddings\n",
    "\n",
    "avg_pooling_model = test_df.copy()\n",
    "avg_pooling_model['embedding'] = avg_pooling_model['reviewText'].apply(lambda x: model.encode(x))\n"
   ]
  },
  {
   "cell_type": "code",
   "execution_count": null,
   "id": "664f932e",
   "metadata": {},
   "outputs": [],
   "source": [
    "avg_pooling_model.columns"
   ]
  },
  {
   "cell_type": "code",
   "execution_count": null,
   "id": "28931ec1",
   "metadata": {},
   "outputs": [],
   "source": [
    "product_embeddings = (\n",
    "    avg_pooling_model.groupby('asin')['embedding']\n",
    "    .apply(lambda x: np.mean(np.stack(x.values), axis=0))\n",
    "    .to_dict()\n",
    ")"
   ]
  },
  {
   "cell_type": "code",
   "execution_count": null,
   "id": "53375b0f",
   "metadata": {},
   "outputs": [],
   "source": [
    "product_embeddings"
   ]
  },
  {
   "cell_type": "code",
   "execution_count": null,
   "id": "d97015fa",
   "metadata": {},
   "outputs": [],
   "source": [
    "# option 2: max pooling approach\n",
    "def max_pooling(embeddings):\n",
    "    stacked = np.stack(embeddings)  # shape: (num_reviews, 384)\n",
    "    return np.max(stacked, axis=0)  # shape: (384,)\n",
    "\n",
    "# Group by product and apply max pooling\n",
    "max_pooled_embeddings = (\n",
    "    avg_pooling_model.groupby('asin')['embedding']\n",
    "    .apply(lambda x: max_pooling(x.values))\n",
    "    .to_dict()\n",
    ")"
   ]
  },
  {
   "cell_type": "code",
   "execution_count": null,
   "id": "776bb55b",
   "metadata": {},
   "outputs": [],
   "source": [
    "#option 3\n",
    "def weighted_average_pooling(embeddings, weights):\n",
    "    stacked = np.stack(embeddings)  # shape: (num_reviews, 384)\n",
    "    weights = np.array(weights)\n",
    "    weights = weights / weights.sum()  # Normalize\n",
    "    return np.average(stacked, axis=0, weights=weights)\n",
    "\n",
    "# Group and apply weighted average\n",
    "weighted_embeddings = {}\n",
    "\n",
    "grouped = avg_pooling_model.groupby('asin')\n",
    "for product_id, group in grouped:\n",
    "    embeddings = group['embedding'].tolist()\n",
    "    ratings = group['overall'].tolist()\n",
    "    weighted_embeddings[product_id] = weighted_average_pooling(embeddings, ratings)\n"
   ]
  },
  {
   "cell_type": "markdown",
   "id": "137a5d99",
   "metadata": {},
   "source": [
    "final choice possibly"
   ]
  },
  {
   "cell_type": "code",
   "execution_count": null,
   "id": "0c73fc2f",
   "metadata": {},
   "outputs": [],
   "source": [
    "final_model_df = reviews_df.sample(100000)\n"
   ]
  },
  {
   "cell_type": "code",
   "execution_count": null,
   "id": "e5330720",
   "metadata": {},
   "outputs": [],
   "source": [
    "final_model_df['asin'].nunique()"
   ]
  },
  {
   "cell_type": "code",
   "execution_count": null,
   "id": "2592ca75",
   "metadata": {},
   "outputs": [],
   "source": [
    "final_model_df.shape"
   ]
  },
  {
   "cell_type": "code",
   "execution_count": null,
   "id": "c8d6379e",
   "metadata": {},
   "outputs": [],
   "source": [
    "# drop na in reviewtext column\n",
    "final_model_df = final_model_df[['asin', 'reviewText', 'overall','vote']]\n",
    "final_model_df = final_model_df.dropna(subset=['asin','reviewText'])"
   ]
  },
  {
   "cell_type": "code",
   "execution_count": null,
   "id": "dcf59881",
   "metadata": {},
   "outputs": [],
   "source": [
    "final_model_df = final_model_df[final_model_df['reviewText'].str.strip() != '']\n",
    "final_model_df"
   ]
  },
  {
   "cell_type": "code",
   "execution_count": null,
   "id": "c7dd21d2",
   "metadata": {},
   "outputs": [],
   "source": [
    "model = SentenceTransformer('all-MiniLM-L6-v2')"
   ]
  },
  {
   "cell_type": "code",
   "execution_count": null,
   "id": "b5bb86d2",
   "metadata": {},
   "outputs": [],
   "source": [
    "final_model_df['embedding'] = final_model_df['reviewText'].apply(lambda x: model.encode(x, show_progress_bar=False))"
   ]
  },
  {
   "cell_type": "code",
   "execution_count": null,
   "id": "410732fc",
   "metadata": {},
   "outputs": [],
   "source": [
    "# Aggregate embeddings per ASIN (mean)\n",
    "final_model_df['embedding'] = final_model_df['embedding'].apply(lambda x: np.array(x))\n",
    "asin_embeddings = final_model_df.groupby('asin')['embedding'].apply(lambda x: np.mean(np.stack(x), axis=0)).reset_index()\n"
   ]
  },
  {
   "cell_type": "code",
   "execution_count": null,
   "id": "e95bcfe3",
   "metadata": {},
   "outputs": [],
   "source": [
    "asin_embeddings"
   ]
  },
  {
   "cell_type": "code",
   "execution_count": null,
   "id": "1428ea8c",
   "metadata": {},
   "outputs": [],
   "source": [
    "!pip install vaderSentiment\n"
   ]
  },
  {
   "cell_type": "code",
   "execution_count": null,
   "id": "bac127eb",
   "metadata": {},
   "outputs": [],
   "source": [
    "# other features to consider\n",
    "# avg_review_length, avg_sentence_count, punctuation_density\n",
    "# capture sentiment like tone or emotion not fully captured in embedding: avg_sentiment_score\n",
    "\n",
    "from vaderSentiment.vaderSentiment import SentimentIntensityAnalyzer\n",
    "\n",
    "analyzer = SentimentIntensityAnalyzer()\n",
    "\n",
    "# Apply VADER to each review\n",
    "def get_sentiment_scores(text):\n",
    "    return analyzer.polarity_scores(text)\n",
    "\n",
    "sentiment_df = final_model_df['reviewText'].apply(get_sentiment_scores).apply(pd.Series)\n",
    "\n",
    "# Add to main dataframe\n",
    "final_model_df = pd.concat([final_model_df, sentiment_df], axis=1)\n",
    "\n",
    "# Group by ASIN and aggregate\n",
    "asin_sentiment = final_model_df.groupby('asin')[['compound', 'pos', 'neu', 'neg']].mean().reset_index()\n",
    "\n",
    "# (Optional) Add std deviation if you want:\n",
    "sentiment_std = final_model_df.groupby('asin')['compound'].std().reset_index().rename(columns={'compound': 'compound_std'})\n",
    "asin_sentiment = asin_sentiment.merge(sentiment_std, on='asin', how='left')\n",
    "\n"
   ]
  },
  {
   "cell_type": "code",
   "execution_count": null,
   "id": "6ce4d52a",
   "metadata": {},
   "outputs": [],
   "source": [
    "asin_sentiment"
   ]
  },
  {
   "cell_type": "code",
   "execution_count": null,
   "id": "a31c7222",
   "metadata": {},
   "outputs": [],
   "source": [
    "asin_embeddings"
   ]
  },
  {
   "cell_type": "code",
   "execution_count": null,
   "id": "6f8a1890",
   "metadata": {},
   "outputs": [],
   "source": [
    "design_matrix_test = pd.merge(asin_embeddings, asin_sentiment, on='asin')"
   ]
  },
  {
   "cell_type": "code",
   "execution_count": null,
   "id": "a509437e",
   "metadata": {},
   "outputs": [],
   "source": [
    "design_matrix_test"
   ]
  },
  {
   "cell_type": "code",
   "execution_count": null,
   "id": "08cd4ba7",
   "metadata": {},
   "outputs": [],
   "source": []
  }
 ],
 "metadata": {
  "kernelspec": {
   "display_name": "erdos_summer_2025",
   "language": "python",
   "name": "python3"
  },
  "language_info": {
   "codemirror_mode": {
    "name": "ipython",
    "version": 3
   },
   "file_extension": ".py",
   "mimetype": "text/x-python",
   "name": "python",
   "nbconvert_exporter": "python",
   "pygments_lexer": "ipython3",
   "version": "3.12.10"
  }
 },
 "nbformat": 4,
 "nbformat_minor": 5
}
