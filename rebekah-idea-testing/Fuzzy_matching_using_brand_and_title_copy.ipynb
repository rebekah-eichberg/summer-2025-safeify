{
 "cells": [
  {
   "cell_type": "code",
   "execution_count": null,
   "id": "0c8fe8bb",
   "metadata": {},
   "outputs": [],
   "source": [
    "import os\n",
    "import pandas as pd\n",
    "from rapidfuzz import fuzz\n",
    "import pandas as pd\n",
    "\n",
    "amazon_df = pd.read_pickle('metadata_raw.pkl')\n"
   ]
  },
  {
   "cell_type": "code",
   "execution_count": null,
   "id": "530800b0",
   "metadata": {},
   "outputs": [],
   "source": [
    "# Importing all Recall Data, combining the three files\n",
    "\n",
    "def load_clean_csv(path):\n",
    "    with open(path, 'r', encoding='utf-8') as f:\n",
    "        lines = f.readlines()\n",
    "\n",
    "    # ✅ Find the first line that contains all expected headers (starts with 'Report No.')\n",
    "    header_index = next(i for i, line in enumerate(lines) if 'Report No.' in line)\n",
    "\n",
    "    # ✅ Load CSV from that line forward\n",
    "    return pd.read_csv(path, skiprows=header_index)\n",
    "\n",
    "# ✅ Paths to all three files\n",
    "recall_files = [\n",
    "    \"../Data/Current Version of Toys Incidence+Recall/Toysandchildren_ArtsandCrafts.csv\",\n",
    "    \"../Data/Current Version of Toys Incidence+Recall/Toysandchildren_Riding_Toys.csv\",\n",
    "    \"../Data/Current Version of Toys Incidence+Recall/Toysandchildren_Toys.csv\"\n",
    "]\n",
    "\n",
    "# ✅ Load all cleanly\n",
    "recall_dfs = [load_clean_csv(path) for path in recall_files]\n",
    "\n",
    "# ✅ Merge into single df\n",
    "recalls_df = pd.concat(recall_dfs, ignore_index=True)\n",
    "\n",
    "# ✅ Preview\n",
    "print(\"✅ Combined recall records:\", len(recalls_df))\n",
    "print(\"📦 Columns:\", recalls_df.columns.tolist())\n",
    "recalls_df.head(3)\n"
   ]
  },
  {
   "cell_type": "code",
   "execution_count": null,
   "id": "d1ea5efe",
   "metadata": {},
   "outputs": [],
   "source": [
    "# Features we can use for fuzzy matching.\n",
    "print(amazon_df.columns)\n",
    "print(recalls_df.columns.tolist())"
   ]
  },
  {
   "cell_type": "markdown",
   "id": "05da335e",
   "metadata": {},
   "source": [
    "The code below creates a dictionary with each entry being a tuple containing two dataframes \n",
    "(recalls_df['Brand'], matched_amazon_by_brand) \n",
    "Here matched_amazon_by_brand is a Dataframe containing all Amazon entries that Fuzzy match 'brand' with 'Brand' above a certain threshold, here it is 90. To save time, and if you like to run this as an experiment, the block below uses a sample of 500 brands and 30 000 Amazon entries. The full dataset is explored at the end of this notebook."
   ]
  },
  {
   "cell_type": "code",
   "execution_count": null,
   "id": "b1ec7881",
   "metadata": {},
   "outputs": [],
   "source": [
    "# Step 1: Clean and sample brand names from recalls_df\n",
    "sampled_brands = pd.Series(recalls_df['Brand'].dropna().unique()[:500])\n",
    "sampled_brands = sampled_brands.astype(str).str.lower().str.strip()\n",
    "\n",
    "# Step 2: Sample and clean Amazon metadata\n",
    "amazon_sample = amazon_df.sample(30000, random_state=42).copy()\n",
    "amazon_sample['brand'] = amazon_sample['brand'].astype(str).str.lower().str.strip()\n",
    "\n",
    "# Step 3: Clean 'Brand' in recalls_df for matching\n",
    "recalls_df['Brand'] = recalls_df['Brand'].astype(str).str.lower().str.strip()\n",
    "\n",
    "# Step 4: Prepare dictionary to store tuples (Amazon matches, recall row(s))\n",
    "matched_amazon_by_brand = {}\n",
    "\n",
    "# Step 5: For each brand, store Amazon matches + associated recall row(s)\n",
    "for recall_brand in sampled_brands:\n",
    "    # Find Amazon entries that match this brand (fuzzy match ≥ 90)\n",
    "    matched_rows = amazon_sample[amazon_sample['brand'].apply(\n",
    "        lambda x: fuzz.token_sort_ratio(x, recall_brand) >= 90\n",
    "    )]\n",
    "\n",
    "    # Get corresponding recall row(s) for this brand\n",
    "    recall_rows = recalls_df[recalls_df['Brand'] == recall_brand]\n",
    "\n",
    "    # Only store if there are matched Amazon entries\n",
    "    if not matched_rows.empty:\n",
    "        matched_amazon_by_brand[recall_brand] = (recall_rows.copy(), matched_rows.copy())\n",
    "\n",
    "# ✅ matched_amazon_by_brand now maps each brand → (recall_rows_df, matched_amazon_rows_df)\n",
    "\n",
    "# Optional: Print summary\n",
    "print(f\"✅ Found matches for {len(matched_amazon_by_brand)} recall brand entries.\")\n"
   ]
  },
  {
   "cell_type": "code",
   "execution_count": null,
   "id": "7f5b49b7",
   "metadata": {},
   "outputs": [],
   "source": [
    "list(matched_amazon_by_brand.values())[0]"
   ]
  },
  {
   "cell_type": "code",
   "execution_count": null,
   "id": "99450849",
   "metadata": {},
   "outputs": [],
   "source": [
    "recalls_df.loc[recalls_df['Brand'] == list(matched_amazon_by_brand.keys())[0]]"
   ]
  },
  {
   "cell_type": "code",
   "execution_count": null,
   "id": "6b8e5fd4",
   "metadata": {},
   "outputs": [],
   "source": [
    "amazon_sample"
   ]
  },
  {
   "cell_type": "code",
   "execution_count": null,
   "id": "e22ee814",
   "metadata": {},
   "outputs": [],
   "source": [
    "# 🔢 Stats on number of Amazon listings matched per recall brand\n",
    "match_counts = [len(amazon_df) for _, amazon_df in matched_amazon_by_brand.values()]\n",
    "\n",
    "if match_counts:\n",
    "    avg_matches = sum(match_counts) / len(match_counts)\n",
    "    min_matches = min(match_counts)\n",
    "    max_matches = max(match_counts)\n",
    "\n",
    "    print(f\"📊 Average # of Amazon listings matched per brand: {avg_matches:.2f}\")\n",
    "    print(f\"🔽 Minimum # of matches: {min_matches}\")\n",
    "    print(f\"🔼 Maximum # of matches: {max_matches}\")\n",
    "else:\n",
    "    print(\"⚠️ No matches found to compute stats.\")\n"
   ]
  },
  {
   "cell_type": "markdown",
   "id": "06e3f67d",
   "metadata": {},
   "source": [
    "Now the idea is to do Fuzzy matching on each entry of the Dictionary we have created, using 'Product Description' from the recall data and some interesting category from the Amazon data. Let's have a look on 'title', 'feature' and 'description'."
   ]
  },
  {
   "cell_type": "code",
   "execution_count": null,
   "id": "68c655c1",
   "metadata": {},
   "outputs": [],
   "source": [
    "i = 10 #choosing brand nr 10 from dictionary, change i to see different brands\n",
    "brand = sampled_brands.iloc[i]\n",
    "print(f\"\\n🔍 Brand selected (index {i}): '{brand}'\")\n",
    "\n",
    "if brand in matched_amazon_by_brand:\n",
    "    recall_df, amazon_df_matches = matched_amazon_by_brand[brand]\n",
    "\n",
    "    # Display the dataframes (normal truncated view)\n",
    "    display(recall_df)\n",
    "    display(amazon_df_matches) \n",
    "\n",
    "    # Display full text of selected columns\n",
    "    print(\"\\n📌 Product Descriptions (Recall):\")\n",
    "    print(recall_df['Product Description'].to_string(index=False))\n",
    "\n",
    "    print(\"\\n📌 Amazon 'description':\")\n",
    "    print(amazon_df_matches['description'].to_string(index=False))\n",
    "\n",
    "    print(\"\\n📌 Amazon 'title':\")\n",
    "    print(amazon_df_matches['title'].to_string(index=False))\n",
    "\n",
    "    print(\"\\n📌 Amazon 'feature':\")\n",
    "    print(amazon_df_matches['feature'].to_string(index=False))\n",
    "else:\n",
    "    print(f\"No matches found for brand: {brand}\")\n",
    "\n"
   ]
  },
  {
   "cell_type": "markdown",
   "id": "7f31afa6",
   "metadata": {},
   "source": [
    "After some inspection and experimentation it seems like the 'title' category is the best option. Below we use a fuzzy match of 80, which on the brand -- matched dataframes seem to do the right thing, look at the code below. I originally used 70, which might have been to low. "
   ]
  },
  {
   "cell_type": "code",
   "execution_count": null,
   "id": "6e9069c2",
   "metadata": {},
   "outputs": [],
   "source": [
    "from rapidfuzz import fuzz\n",
    "import pandas as pd\n",
    "\n",
    "# Loop over all brands in sampled_brands\n",
    "for i, brand in enumerate(sampled_brands):\n",
    "    if brand in matched_amazon_by_brand:\n",
    "        recall_df, amazon_df_matches = matched_amazon_by_brand[brand]\n",
    "\n",
    "        # Clean and prepare text columns\n",
    "        recall_df['Product Description'] = recall_df['Product Description'].astype(str).fillna('').str.lower().str.strip()\n",
    "        amazon_df_matches['title'] = amazon_df_matches['title'].astype(str).fillna('').str.lower().str.strip()\n",
    "\n",
    "        matches = []\n",
    "\n",
    "        # Compare each product description in recall_df to each Amazon title\n",
    "        for recall_idx, recall_desc in recall_df['Product Description'].items():\n",
    "            for amazon_idx, amazon_title in amazon_df_matches['title'].items():\n",
    "                score = fuzz.token_set_ratio(recall_desc, amazon_title)\n",
    "                if score >= 80:\n",
    "                    matches.append({\n",
    "                        'recall_idx': recall_idx,\n",
    "                        'amazon_idx': amazon_idx,\n",
    "                        'recall_desc': recall_desc,\n",
    "                        'amazon_title': amazon_title,\n",
    "                        'score': score\n",
    "                    })\n",
    "\n",
    "        if matches:\n",
    "            matched_desc_df = pd.DataFrame(matches).sort_values(by='score', ascending=False)\n",
    "            print(f\"\\n🔍 [{i}] Brand: '{brand}'\")\n",
    "            print(f\"✅ Found {len(matched_desc_df)} title matches\")\n",
    "            display(matched_desc_df.head(2))  # Limit display to top 2\n",
    "# You will find a list of all matches showing the title that was matched to the product description. \n",
    "# You can scroll through and see if it is reasonable to you           \n"
   ]
  },
  {
   "cell_type": "markdown",
   "id": "9aad2d05",
   "metadata": {},
   "source": [
    "This looks pretty good! Lets see how many matches we have. "
   ]
  },
  {
   "cell_type": "code",
   "execution_count": null,
   "id": "4794f39c",
   "metadata": {},
   "outputs": [],
   "source": [
    "\n",
    "#Loops over all (recall_df, amazon_df_matches) pairs from matched_amazon_by_brand\n",
    "\n",
    "#Concatenates all Amazon matches into one DataFrame\n",
    "\n",
    "#Drops duplicates using asin, assuming asin uniquely identifies a listing\n",
    "\n",
    "#Returns the count\n",
    "\n",
    "# Collect all matched Amazon listings across all brands\n",
    "all_amazon_matches = pd.concat(\n",
    "    [amazon_df_matches for _, amazon_df_matches in matched_amazon_by_brand.values()],\n",
    "    ignore_index=True\n",
    ")\n",
    "\n",
    "# Drop duplicates by ASIN to count unique listings\n",
    "total_unique_amazon_matches = all_amazon_matches.drop_duplicates(subset='asin').shape[0]\n",
    "\n",
    "print(f\"📦 Total unique asin nr Amazon listings matched by brand: {total_unique_amazon_matches}\")\n"
   ]
  },
  {
   "cell_type": "markdown",
   "id": "81166316",
   "metadata": {},
   "source": [
    "We see that on a sample of 30 000 listings a full 3456 was matched to recall data, and this was when only 1/4 of the brands appearing in the recall data where used. "
   ]
  },
  {
   "cell_type": "markdown",
   "id": "d516892e",
   "metadata": {},
   "source": [
    "I will now run this code on the full Amazon data and using the full recall data, this took me 8 min 45s. "
   ]
  },
  {
   "cell_type": "code",
   "execution_count": null,
   "id": "5f56af17",
   "metadata": {},
   "outputs": [],
   "source": [
    "from rapidfuzz import fuzz\n",
    "import pandas as pd\n",
    "\n",
    "# Ensure brand fields are cleaned\n",
    "amazon_df['brand'] = amazon_df['brand'].astype(str).str.lower().str.strip()\n",
    "recalls_df['Brand'] = recalls_df['Brand'].astype(str).str.lower().str.strip()\n",
    "\n",
    "# 🧼 Create the list of all unique brands from the entire recalls_df\n",
    "all_recall_brands = pd.Series(recalls_df['Brand'].dropna().unique())\n",
    "\n",
    "# Prepare dictionary to store (recall_rows, amazon_matches)\n",
    "matched_amazon_by_brand = {}\n",
    "\n",
    "# Loop over all brands from the full recall list\n",
    "for recall_brand in all_recall_brands:\n",
    "    # Find Amazon entries where the brand fuzzy-matches (≥ 90)\n",
    "    matched_rows = amazon_df[amazon_df['brand'].apply(\n",
    "        lambda x: fuzz.token_sort_ratio(x, recall_brand) >= 90\n",
    "    )]\n",
    "\n",
    "    # Get recall rows with that brand\n",
    "    recall_rows = recalls_df[recalls_df['Brand'] == recall_brand]\n",
    "\n",
    "    if not matched_rows.empty:\n",
    "        matched_amazon_by_brand[recall_brand] = (recall_rows.copy(), matched_rows.copy())\n",
    "\n",
    "# ✅ Summary\n",
    "print(f\"✅ Found matches for {len(matched_amazon_by_brand)} recall brand entries.\")\n"
   ]
  },
  {
   "cell_type": "markdown",
   "id": "bee36a6f",
   "metadata": {},
   "source": [
    "When matching with 70, I got around 6000 matches, below we do for 80"
   ]
  },
  {
   "cell_type": "code",
   "execution_count": null,
   "id": "127a1642",
   "metadata": {},
   "outputs": [],
   "source": [
    "# Step 2: Tag Amazon entries that match product descriptions\n",
    "\n",
    "# Initialize column to 0\n",
    "amazon_df['Is match'] = 0\n",
    "\n",
    "# Store indices of matched rows\n",
    "matched_amazon_indices = set()\n",
    "\n",
    "# Loop over matched brands\n",
    "for brand, (recall_df, amazon_df_matches) in matched_amazon_by_brand.items():\n",
    "    # Clean relevant columns\n",
    "    recall_df['Product Description'] = recall_df['Product Description'].astype(str).fillna('').str.lower().str.strip()\n",
    "    amazon_df_matches['title'] = amazon_df_matches['title'].astype(str).fillna('').str.lower().str.strip()\n",
    "\n",
    "    for recall_desc in recall_df['Product Description']:\n",
    "        for idx, title in amazon_df_matches['title'].items():\n",
    "            score = fuzz.token_set_ratio(recall_desc, title)\n",
    "            if score >= 80:\n",
    "                matched_amazon_indices.add(idx)\n",
    "\n",
    "# Update original amazon_df with match indicator\n",
    "amazon_df.loc[amazon_df.index.isin(matched_amazon_indices), 'Is match'] = 1\n",
    "\n",
    "# ✅ Summary\n",
    "print(f\"✅ Total matched Amazon listings: {len(matched_amazon_indices)}\")\n",
    "print(\"🧾 Is match counts:\\n\", amazon_df['Is match'].value_counts())\n"
   ]
  },
  {
   "cell_type": "code",
   "execution_count": null,
   "id": "d0f5f636",
   "metadata": {},
   "outputs": [],
   "source": [
    "print(f\"📦 Total products in the dataset: {len(amazon_df)}\")"
   ]
  },
  {
   "cell_type": "code",
   "execution_count": null,
   "id": "18083431",
   "metadata": {},
   "outputs": [],
   "source": [
    "# Collect examples to show\n",
    "example_matches = []\n",
    "\n",
    "for brand, (recall_df, amazon_df_matches) in matched_amazon_by_brand.items():\n",
    "    recall_df['Product Description'] = recall_df['Product Description'].astype(str).fillna('').str.lower().str.strip()\n",
    "    amazon_df_matches['title'] = amazon_df_matches['title'].astype(str).fillna('').str.lower().str.strip()\n",
    "\n",
    "    for recall_desc in recall_df['Product Description']:\n",
    "        for idx, title in amazon_df_matches['title'].items():\n",
    "            if idx in matched_amazon_indices:  # Only show already matched indices\n",
    "                score = fuzz.token_set_ratio(recall_desc, title)\n",
    "                if score >= 80:\n",
    "                    example_matches.append({\n",
    "                        'brand': brand,\n",
    "                        'amazon_index': idx,\n",
    "                        'amazon_title': title,\n",
    "                        'recall_description': recall_desc,\n",
    "                        'score': score\n",
    "                    })\n",
    "                if len(example_matches) >= 10:\n",
    "                    break\n",
    "        if len(example_matches) >= 10:\n",
    "            break\n",
    "    if len(example_matches) >= 10:\n",
    "        break\n",
    "\n",
    "# Convert to DataFrame for display\n",
    "examples_df = pd.DataFrame(example_matches)\n",
    "print(\"\\n📦 First 10 example matches:\")\n",
    "print(examples_df[['brand', 'amazon_title', 'recall_description', 'score']])\n"
   ]
  },
  {
   "cell_type": "markdown",
   "id": "c5a51a27",
   "metadata": {},
   "source": [
    "Match is definetely not perfect but maybe good enough?"
   ]
  }
 ],
 "metadata": {
  "kernelspec": {
   "display_name": "erdos_summer_2025",
   "language": "python",
   "name": "python3"
  },
  "language_info": {
   "codemirror_mode": {
    "name": "ipython",
    "version": 3
   },
   "file_extension": ".py",
   "mimetype": "text/x-python",
   "name": "python",
   "nbconvert_exporter": "python",
   "pygments_lexer": "ipython3",
   "version": "3.12.10"
  }
 },
 "nbformat": 4,
 "nbformat_minor": 5
}
