{
 "cells": [
  {
   "cell_type": "markdown",
   "id": "987db2ef",
   "metadata": {},
   "source": [
    "Columns in data:\n",
    "- `asin` - Product ID\n",
    "- `category` - This is the second named category in amazon.com metadata, after the 'Toys and Games' category. For example, a product labelled \"Toys & Games > Puzzles > Jigsaw Puzzles\" would receive the value \"Puzzles\".\n",
    "- `title` -  Title of the product in amazon metadata.\n",
    "- `missing_price` - This indicates whether the original metadata had a price listed. It is possible a missing price indicates the item is no longer available for sale, or is out of stock at the time the data was collected.\n",
    "- `item_rank` - This is the Amazon Best Sellers calculation within the According to amazon.com: \n",
    ">The Amazon Best Sellers calculation is based on Amazon sales, and is updated frequently to reflect recent and historical sales of every item sold on Amazon. \n",
    "- `match` - 0 or 1 depending on whether the product matched an incident/recall.\n",
    "- `incident_indices` - The indices of any matches.\n",
    "- `component_no` - The component number of an item, defined as follows.\n",
    "Using the original dataset (before dropping and splitting), a graph is drawn with vertex set all products and incidents/recalls. A product is joined to an incident/recall if they are ``matched''. The connected components of the graph are arbitrarily given distinct numbers. An item which is component i is given label i.\n",
    "\n",
    "- `avg_rating` - Average rating among all ratings.\n",
    "- `min_rating` - Minimum rating among all ratings.\n",
    "- `num_of_rating` - The number of ratings.\n",
    "- `percent_positive` - Percentage of positive ratings.\n",
    "- `percent_negative` - Percentage of negative ratings.\n",
    "- `avg_verified_reviewers` - The percentage of verified reviews.\n",
    "- `min_date` - Date of the earliest review of a product.\n",
    "- `max_date` - Date of the most recent review of a product. \n",
    "- `product_lifespan` - Duration between the first and last reviews of a product.\n",
    "- `num_bots_per_asin` - Number of suspected bots per product.\n",
    "- `unique_reviewer_count` - Number of unique reviewers of a product.\n",
    "- `avg_reviews_per_day` - Average number of reviews per day over the lifespan of a product.\n",
    "- `reviews_per_product` - Number of reviews per product.\n",
    "- `avg_review_length_words` - Average length of a review in words.\n",
    "- `avg_review_length_chars` - Average length of a review in characters.\n",
    "- `embed_i` - The $i$ th component of a the embedding vector.\n"
   ]
  },
  {
   "cell_type": "markdown",
   "id": "98839474",
   "metadata": {},
   "source": []
  }
 ],
 "metadata": {
  "kernelspec": {
   "display_name": "data_venv",
   "language": "python",
   "name": "python3"
  },
  "language_info": {
   "codemirror_mode": {
    "name": "ipython",
    "version": 3
   },
   "file_extension": ".py",
   "mimetype": "text/x-python",
   "name": "python",
   "nbconvert_exporter": "python",
   "pygments_lexer": "ipython3",
   "version": "3.12.10"
  }
 },
 "nbformat": 4,
 "nbformat_minor": 5
}
