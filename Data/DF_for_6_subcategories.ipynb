{
 "cells": [
  {
   "cell_type": "markdown",
   "id": "429e275f",
   "metadata": {},
   "source": [
    "I'm using the six subcategories of the dataframe here, we create this dataframe below so that in the second part of the note bookl this is the dataframe we are creating features for. "
   ]
  },
  {
   "cell_type": "code",
   "execution_count": 2,
   "id": "2f52938e",
   "metadata": {},
   "outputs": [
    {
     "name": "stderr",
     "output_type": "stream",
     "text": [
      "/var/folders/zz/p68469x91nz101jr8rs456_80000gq/T/ipykernel_48154/4144929710.py:4: DtypeWarning: Columns (6) have mixed types. Specify dtype option on import or set low_memory=False.\n",
      "  df = pd.read_csv('../Data/amazon_merged.csv')\n"
     ]
    },
    {
     "name": "stdout",
     "output_type": "stream",
     "text": [
      "(633883, 21)\n"
     ]
    }
   ],
   "source": [
    "import pandas as pd\n",
    "\n",
    "# Go up one level, then into Data/\n",
    "df = pd.read_csv('../Data/amazon_merged.csv')\n",
    "\n",
    "# Check it's loaded\n",
    "print(df.shape)\n",
    "\n"
   ]
  },
  {
   "cell_type": "code",
   "execution_count": 3,
   "id": "5b3ea9e1",
   "metadata": {},
   "outputs": [
    {
     "name": "stdout",
     "output_type": "stream",
     "text": [
      "Found 21 unique main categories:\n",
      "- Action Figures & Statues\n",
      "- Arts & Crafts\n",
      "- Baby & Toddler Toys\n",
      "- Building Toys\n",
      "- Dolls & Accessories\n",
      "- Dress Up & Pretend Play\n",
      "- Games\n",
      "- Grown-Up Toys\n",
      "- Hobbies\n",
      "- Kids' Electronics\n",
      "- Kids' Furniture\n",
      "- Learning & Education\n",
      "- Novelty & Gag Toys\n",
      "- Party Supplies\n",
      "- Puppets\n",
      "- Puzzles\n",
      "- Sports & Outdoor Play\n",
      "- Stuffed Animals & Plush Toys\n",
      "- Toy Remote Control & Play Vehicles\n",
      "- Tricycles\n",
      "- Video Games\n"
     ]
    }
   ],
   "source": [
    "def extract_main_category(category_str):\n",
    "    if isinstance(category_str, str):\n",
    "        parts = [p.strip().strip(\"'\\\"[]\") for p in category_str.split(',')]\n",
    "        if len(parts) > 1:\n",
    "            return parts[1]\n",
    "    return None\n",
    "\n",
    "# Apply to your dataframe\n",
    "df['main_category'] = df['category'].apply(extract_main_category)\n",
    "\n",
    "# View cleaned, unique main categories\n",
    "main_cats = df['main_category'].dropna().unique()\n",
    "main_cats = sorted(set(main_cats))  # Sorted and deduplicated\n",
    "\n",
    "print(f\"Found {len(main_cats)} unique main categories:\")\n",
    "for cat in main_cats:\n",
    "    print(\"-\", cat)\n"
   ]
  },
  {
   "cell_type": "code",
   "execution_count": 4,
   "id": "3ea2d9f1",
   "metadata": {},
   "outputs": [
    {
     "name": "stdout",
     "output_type": "stream",
     "text": [
      "\n",
      "Listings per main category (including NaN):\n",
      "main_category\n",
      "Action Figures & Statues              77363\n",
      "Games                                 66939\n",
      "None                                  62243\n",
      "Hobbies                               60822\n",
      "Stuffed Animals & Plush Toys          57062\n",
      "Dolls & Accessories                   37534\n",
      "Party Supplies                        35295\n",
      "Toy Remote Control & Play Vehicles    34643\n",
      "Arts & Crafts                         27582\n",
      "Puzzles                               27179\n",
      "Dress Up & Pretend Play               24239\n",
      "Sports & Outdoor Play                 22733\n",
      "Novelty & Gag Toys                    21840\n",
      "Learning & Education                  19254\n",
      "Grown-Up Toys                         15570\n",
      "Building Toys                         15192\n",
      "Baby & Toddler Toys                   13357\n",
      "Kids' Electronics                      8674\n",
      "Tricycles                              3151\n",
      "Puppets                                2209\n",
      "Kids' Furniture                        1001\n",
      "Video Games                               1\n",
      "Name: count, dtype: int64\n"
     ]
    }
   ],
   "source": [
    "\n",
    "# Count listings per main category, including NaN\n",
    "main_category_counts = df['main_category'].value_counts(dropna=False)\n",
    "print(\"\\nListings per main category (including NaN):\")\n",
    "print(main_category_counts)\n",
    "\n"
   ]
  },
  {
   "cell_type": "code",
   "execution_count": 5,
   "id": "35bd8017",
   "metadata": {},
   "outputs": [
    {
     "name": "stdout",
     "output_type": "stream",
     "text": [
      "\n",
      "Number of match == 1 per main category (including NaN):\n",
      "main_category\n",
      "Dolls & Accessories                   198\n",
      "Arts & Crafts                         171\n",
      "Toy Remote Control & Play Vehicles    149\n",
      "Baby & Toddler Toys                   133\n",
      "Tricycles                             126\n",
      "Sports & Outdoor Play                 125\n",
      "Stuffed Animals & Plush Toys           97\n",
      "Learning & Education                   89\n",
      "Dress Up & Pretend Play                79\n",
      "None                                   74\n",
      "Kids' Electronics                      58\n",
      "Hobbies                                54\n",
      "Action Figures & Statues               50\n",
      "Novelty & Gag Toys                     32\n",
      "Building Toys                          25\n",
      "Puzzles                                13\n",
      "Games                                  12\n",
      "Grown-Up Toys                          10\n",
      "Party Supplies                          9\n",
      "Puppets                                 3\n",
      "Name: count, dtype: int64\n",
      "\n",
      "Proportion of match == 1 in the whole data (including NaN):\n",
      "0.23774103422871412\n"
     ]
    }
   ],
   "source": [
    "# Count match == 1 per main category, including NaN\n",
    "match_counts = df[df['match'] == 1]['main_category'].value_counts(dropna=False)\n",
    "print(\"\\nNumber of match == 1 per main category (including NaN):\")\n",
    "print(match_counts)\n",
    "print(\"\\nProportion of match == 1 in the whole data (including NaN):\")\n",
    "print(match_counts.sum()/ len(df)*100)"
   ]
  },
  {
   "cell_type": "code",
   "execution_count": 6,
   "id": "85caa50b",
   "metadata": {},
   "outputs": [
    {
     "name": "stdout",
     "output_type": "stream",
     "text": [
      "\n",
      "Percentage of match == 1 per main category (ascending):\n",
      "main_category\n",
      "Games                                 0.02\n",
      "Party Supplies                        0.03\n",
      "Puzzles                               0.05\n",
      "Action Figures & Statues              0.06\n",
      "Grown-Up Toys                         0.06\n",
      "Hobbies                               0.09\n",
      "None                                  0.12\n",
      "Puppets                               0.14\n",
      "Novelty & Gag Toys                    0.15\n",
      "Building Toys                         0.16\n",
      "Stuffed Animals & Plush Toys          0.17\n",
      "Dress Up & Pretend Play               0.33\n",
      "Toy Remote Control & Play Vehicles    0.43\n",
      "Learning & Education                  0.46\n",
      "Dolls & Accessories                   0.53\n",
      "Sports & Outdoor Play                 0.55\n",
      "Arts & Crafts                         0.62\n",
      "Kids' Electronics                     0.67\n",
      "Baby & Toddler Toys                   1.00\n",
      "Tricycles                             4.00\n",
      "Kids' Furniture                        NaN\n",
      "Video Games                            NaN\n",
      "Name: count, dtype: float64\n"
     ]
    }
   ],
   "source": [
    "# Calculate and print percentage of match == 1 per main category (ascending order)\n",
    "percentage_match = (match_counts / main_category_counts * 100).round(2)\n",
    "percentage_match_sorted = percentage_match.sort_values()\n",
    "\n",
    "print(\"\\nPercentage of match == 1 per main category (ascending):\")\n",
    "print(percentage_match_sorted)\n"
   ]
  },
  {
   "cell_type": "code",
   "execution_count": 7,
   "id": "2a49124a",
   "metadata": {},
   "outputs": [
    {
     "name": "stdout",
     "output_type": "stream",
     "text": [
      "\n",
      "Total number of listings in the 6 categories with the highest match == 1 percentages: 113031\n"
     ]
    }
   ],
   "source": [
    "# Get the categories with more than 0.5% = last 6 categories with the lowest percentage of match == 1\n",
    "percentage_match_no_nan = percentage_match_sorted.dropna()\n",
    "highest_6_categories = percentage_match_no_nan.tail(6).index\n",
    "\n",
    "# Sum the total number of listings in those categories\n",
    "listings_in_highest_6 = main_category_counts[highest_6_categories].sum()\n",
    "\n",
    "print(f\"\\nTotal number of listings in the 6 categories with the highest match == 1 percentages: {listings_in_highest_6}\")\n"
   ]
  },
  {
   "cell_type": "code",
   "execution_count": 8,
   "id": "7073f7cf",
   "metadata": {},
   "outputs": [
    {
     "name": "stdout",
     "output_type": "stream",
     "text": [
      "\n",
      "Initial rows in top 6 categories: 113031\n",
      "Rows after keeping only unique ASINs: 109011\n",
      "Percentage of 1's in 'match' column after filtering: 0.66%\n"
     ]
    }
   ],
   "source": [
    "# Step 1: Filter to only rows in the 6 highest categories\n",
    "df_top6 = df[df['main_category'].isin(highest_6_categories)].copy()\n",
    "\n",
    "# Step 2: Drop rows where ASIN is not unique\n",
    "asin_counts = df_top6['asin'].value_counts()\n",
    "unique_asins = asin_counts[asin_counts == 1].index\n",
    "\n",
    "df_top6_unique = df_top6[df_top6['asin'].isin(unique_asins)].copy()\n",
    "\n",
    "# Step 3: Show results\n",
    "print(f\"\\nInitial rows in top 6 categories: {len(df_top6)}\")\n",
    "print(f\"Rows after keeping only unique ASINs: {len(df_top6_unique)}\")\n",
    "print(f\"Percentage of 1's in 'match' column after filtering: {df_top6_unique['match'].mean() * 100:.2f}%\")\n",
    "# Save the filtered DataFrame to a new CSV file\n",
    "df_top6_unique.to_csv('../Data/amazon_top6_unique.csv', index=False)\n",
    "# Print the first few rows of the filtered DataFrame"
   ]
  }
 ],
 "metadata": {
  "kernelspec": {
   "display_name": "erdos_summer_2025",
   "language": "python",
   "name": "python3"
  },
  "language_info": {
   "codemirror_mode": {
    "name": "ipython",
    "version": 3
   },
   "file_extension": ".py",
   "mimetype": "text/x-python",
   "name": "python",
   "nbconvert_exporter": "python",
   "pygments_lexer": "ipython3",
   "version": "3.12.10"
  }
 },
 "nbformat": 4,
 "nbformat_minor": 5
}
