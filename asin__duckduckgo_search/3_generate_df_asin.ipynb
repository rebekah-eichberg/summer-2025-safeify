{
 "cells": [
  {
   "cell_type": "markdown",
   "id": "528b842b",
   "metadata": {},
   "source": [
    "# Documentation for `3_generate_df_asin.ipynb`\n",
    "\n",
    "## Overview\n",
    "This notebook generates a DataFrame of Amazon ASINs, annotating each with whether it appears in incident reports (either directly or via DuckDuckGo search results) and the indices of matching reports. The output is to generate matches.\n",
    "\n",
    "## Workflow Steps\n",
    "1. **Load Amazon Metadata:**  \n",
    "   Reads `amazon_meta.json` and extracts the `asin` column.\n",
    "2. **Load Incident Reports:**  \n",
    "   Loads `asin_with_search_results.csv`, which contains incident reports with ASINs extracted from text and DuckDuckGo search results.\n",
    "3. **Parse Search Results:**  \n",
    "   Converts the `search_result` column from string to a list of dictionaries.\n",
    "4. **Build ASIN-to-Report Mapping:**  \n",
    "   Iterates through incident reports to build a dictionary mapping each ASIN (from both direct extraction and search results) to the indices of reports where it appears.\n",
    "5. **Annotate ASINs:**  \n",
    "   Adds two columns to the ASIN DataFrame:\n",
    "   - `indices`: List of report indices where the ASIN appears.\n",
    "   - `match`: 1 if the ASIN appears in any report, 0 otherwise.\n",
    "6. **Save Results:**  \n",
    "   Writes the annotated ASIN DataFrame to `df_asin.csv`.\n",
    "\n",
    "## Input Files\n",
    "- `../Data/amazon_meta.json` (Amazon product metadata)\n",
    "- `asin_with_search_results.csv` (incident reports with ASINs from text and search)\n",
    "\n",
    "## Output Files\n",
    "- `df_asin.csv` (ASINs annotated with match status and report indices)\n",
    "\n",
    "## Usage\n",
    "Run each cell in order to generate the annotated ASIN list for downstream analysis.\n",
    "\n",
    "---"
   ]
  },
  {
   "cell_type": "code",
   "execution_count": 13,
   "id": "b3f861a6",
   "metadata": {},
   "outputs": [],
   "source": [
    "TESTING=False\n",
    "AMAZON_TEST_SAMPLE=200_000"
   ]
  },
  {
   "cell_type": "code",
   "execution_count": 14,
   "id": "5abd48be",
   "metadata": {},
   "outputs": [],
   "source": [
    "import pandas as pd\n"
   ]
  },
  {
   "cell_type": "code",
   "execution_count": null,
   "id": "ef9ed75e",
   "metadata": {},
   "outputs": [],
   "source": [
    "# Load amazon metadata asins\n",
    "amazon_meta_df=pd.read_json(\"../Data/amazon_meta.json\",lines=True)[['asin']]"
   ]
  },
  {
   "cell_type": "code",
   "execution_count": 17,
   "id": "ea638f1e",
   "metadata": {},
   "outputs": [],
   "source": [
    "# Load incident reports with embedded asins (generated via asin_in_text.ipynb) and duckduckgo.com results (from duckduckgo_asins.ipynb)\n",
    "report_df=pd.read_csv(\"asin_with_search_results.csv\",index_col=0)"
   ]
  },
  {
   "cell_type": "code",
   "execution_count": 18,
   "id": "0cb7780b",
   "metadata": {},
   "outputs": [],
   "source": [
    "# Convert report_df.search_result from str to lisr of dicts\n",
    "from ast import literal_eval\n",
    "report_df.fillna({'search_result':\"[]\"},inplace=True)\n",
    "report_df.search_result=report_df.search_result.apply(lambda x : literal_eval(x))"
   ]
  },
  {
   "cell_type": "code",
   "execution_count": 19,
   "id": "51dae9e0",
   "metadata": {},
   "outputs": [],
   "source": [
    "# Add \"match\" and \"indices\" columns to amazon_meta_df\n",
    "\n",
    "def build_asin_dict():\n",
    "    asins=dict()\n",
    "    for index,report in report_df.iterrows():\n",
    "        if report.notna().asin_in_report:\n",
    "            asin=report.asin_in_report.lower()\n",
    "            asins[asin]=asins.get(asin,list())\n",
    "            asins[asin].append(index)\n",
    "        if report.notna().search_result:\n",
    "            for result in report.search_result:\n",
    "                asin=result['asin'].lower()\n",
    "                asins[asin]=asins.get(asin,list())\n",
    "                asins[asin].append(index)\n",
    "\n",
    "    return asins\n",
    "asins=build_asin_dict()\n",
    "amazon_meta_df['indices']=amazon_meta_df.asin.apply(lambda x : asins.get(x.lower(),[]))\n",
    "amazon_meta_df['match']=amazon_meta_df.indices.apply(lambda x: int(x!=[]))"
   ]
  },
  {
   "cell_type": "code",
   "execution_count": null,
   "id": "820ee885",
   "metadata": {},
   "outputs": [],
   "source": [
    "amazon_meta_df.to_csv(\"../Data/df_asin.csv\",columns=['match','indices'])"
   ]
  }
 ],
 "metadata": {
  "kernelspec": {
   "display_name": "erdos_summer_2025",
   "language": "python",
   "name": "python3"
  },
  "language_info": {
   "codemirror_mode": {
    "name": "ipython",
    "version": 3
   },
   "file_extension": ".py",
   "mimetype": "text/x-python",
   "name": "python",
   "nbconvert_exporter": "python",
   "pygments_lexer": "ipython3",
   "version": "3.12.11"
  }
 },
 "nbformat": 4,
 "nbformat_minor": 5
}
