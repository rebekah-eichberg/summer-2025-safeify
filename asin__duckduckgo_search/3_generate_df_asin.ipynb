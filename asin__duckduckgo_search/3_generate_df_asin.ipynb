{
 "cells": [
  {
   "cell_type": "markdown",
   "id": "528b842b",
   "metadata": {},
   "source": [
    "# Documentation: `generate_df.ipynb`\n",
    "\n",
    "## Purpose\n",
    "Extracts ASINs from `amazon_meta.json` and prepares CSVs for fuzzy matching and search result analysis.\n",
    "\n",
    "## Main Steps\n",
    "- Reads raw Amazon metadata (`amazon_meta.json`)\n",
    "- Extracts the `asin` column and writes it to `only_asins.csv`\n",
    "- Reads and processes additional CSVs: `df_asin.csv`, `asin_with_search_results.csv`, `link_lookup.csv`\n",
    "- Prepares data for downstream fuzzy matching and search result analysis\n",
    "\n",
    "## Input Files\n",
    "- `../Data/amazon_meta.json`\n",
    "- `only_asins.csv`\n",
    "- `df_asin.csv`\n",
    "- `asin_with_search_results.csv`\n",
    "- `link_lookup.csv`\n",
    "\n",
    "## Output Files\n",
    "- `only_asins.csv`\n",
    "\n",
    "## Usage\n",
    "Run each cell in order to generate and process the ASIN lists.\n",
    "\n",
    "---"
   ]
  },
  {
   "cell_type": "code",
   "execution_count": 13,
   "id": "b3f861a6",
   "metadata": {},
   "outputs": [],
   "source": [
    "TESTING=False\n",
    "AMAZON_TEST_SAMPLE=200_000"
   ]
  },
  {
   "cell_type": "code",
   "execution_count": 14,
   "id": "5abd48be",
   "metadata": {},
   "outputs": [],
   "source": [
    "import pandas as pd\n"
   ]
  },
  {
   "cell_type": "code",
   "execution_count": 15,
   "id": "55a9e8e9",
   "metadata": {},
   "outputs": [],
   "source": [
    "# Make only_asins.csv (only asins from amazon metadata) if it doesn't exist\n",
    "import os\n",
    "if not os.path.exists(\"only_asins.csv\"):\n",
    "    amazon_meta_df=pd.read_json(\"../Data/amazon_meta.json\",lines=True)[['asin']]\n",
    "    amazon_meta_df.to_csv(\"only_asins.csv\",columns=['asin'])\n",
    "    "
   ]
  },
  {
   "cell_type": "code",
   "execution_count": 16,
   "id": "ef9ed75e",
   "metadata": {},
   "outputs": [],
   "source": [
    "# Load amazon metadata asins\n",
    "amazon_meta_df=pd.read_csv(\"only_asins.csv\",index_col=0)"
   ]
  },
  {
   "cell_type": "code",
   "execution_count": 17,
   "id": "ea638f1e",
   "metadata": {},
   "outputs": [],
   "source": [
    "# Load incident reports with embedded asins (generated via asin_in_text.ipynb) and duckduckgo.com results (from duckduckgo_asins.ipynb)\n",
    "report_df=pd.read_csv(\"asin_with_search_results.csv\",index_col=0)"
   ]
  },
  {
   "cell_type": "code",
   "execution_count": 18,
   "id": "0cb7780b",
   "metadata": {},
   "outputs": [],
   "source": [
    "# Convert report_df.search_result from str to lisr of dicts\n",
    "from ast import literal_eval\n",
    "report_df.fillna({'search_result':\"[]\"},inplace=True)\n",
    "report_df.search_result=report_df.search_result.apply(lambda x : literal_eval(x))"
   ]
  },
  {
   "cell_type": "code",
   "execution_count": 19,
   "id": "51dae9e0",
   "metadata": {},
   "outputs": [],
   "source": [
    "# Add \"match\" and \"indices\" columns to amazon_meta_df\n",
    "\n",
    "def build_asin_dict():\n",
    "    asins=dict()\n",
    "    for index,report in report_df.iterrows():\n",
    "        if report.notna().asin_in_report:\n",
    "            asin=report.asin_in_report.lower()\n",
    "            asins[asin]=asins.get(asin,list())\n",
    "            asins[asin].append(index)\n",
    "        if report.notna().search_result:\n",
    "            for result in report.search_result:\n",
    "                asin=result['asin'].lower()\n",
    "                asins[asin]=asins.get(asin,list())\n",
    "                asins[asin].append(index)\n",
    "\n",
    "    return asins\n",
    "asins=build_asin_dict()\n",
    "amazon_meta_df['indices']=amazon_meta_df.asin.apply(lambda x : asins.get(x.lower(),[]))\n",
    "amazon_meta_df['match']=amazon_meta_df.indices.apply(lambda x: int(x!=[]))"
   ]
  },
  {
   "cell_type": "code",
   "execution_count": 20,
   "id": "820ee885",
   "metadata": {},
   "outputs": [],
   "source": [
    "amazon_meta_df.to_csv(\"df_asin.csv\",columns=['match','indices'])"
   ]
  }
 ],
 "metadata": {
  "kernelspec": {
   "display_name": "erdos_summer_2025",
   "language": "python",
   "name": "python3"
  },
  "language_info": {
   "codemirror_mode": {
    "name": "ipython",
    "version": 3
   },
   "file_extension": ".py",
   "mimetype": "text/x-python",
   "name": "python",
   "nbconvert_exporter": "python",
   "pygments_lexer": "ipython3",
   "version": "3.12.11"
  }
 },
 "nbformat": 4,
 "nbformat_minor": 5
}
