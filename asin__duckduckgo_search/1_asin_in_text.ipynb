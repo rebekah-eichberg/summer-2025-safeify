{
 "cells": [
  {
   "cell_type": "markdown",
   "id": "f469d9d9",
   "metadata": {},
   "source": [
    "# Documentation for `asin_in_text.ipynb`\n",
    "\n",
    "## Overview\n",
    "This notebook processes incident and recall report data for toys and children’s products to extract Amazon ASINs (Amazon Standard Identification Numbers) directly from the report text. It identifies both standard Amazon product links and shortened \"a.co\" URLs, using a lookup table for the latter, and saves the extracted ASINs for further analysis.\n",
    "\n",
    "## Workflow Steps\n",
    "1. **Load Incident Report Data:**  \n",
    "   Reads three CSV files containing incident and recall reports for different toy categories:\n",
    "   - `Toysandchildren_ArtsandCrafts.csv`\n",
    "   - `Toysandchildren_Riding_Toys.csv`\n",
    "   - `Toysandchildren_Toys.csv`\n",
    "   These are concatenated into a single DataFrame and columns are standardized for consistency.\n",
    "2. **Define Link Lookup Table:**  \n",
    "   A dictionary (`link_lookup`) is defined to map shortened \"a.co\" URLs to their corresponding ASINs.\n",
    "3. **Extract ASINs from Reports:**  \n",
    "   The function `find_amazon_link_in_report` scans each row for Amazon product links:\n",
    "   - If a shortened \"a.co/d/\" URL is found, it uses the lookup table to retrieve the ASIN.\n",
    "   - If a standard Amazon `/dp/` URL is found, it extracts the 10-character ASIN following `/dp/`.\n",
    "   - The first ASIN found is returned; if none are found, returns `None`.\n",
    "   The extracted ASIN is stored in a new column, `asin_in_report`.\n",
    "4. **Save Results:**  \n",
    "   The processed DataFrame, including the new `asin_in_report` column, is saved to `reports.csv`.\n",
    "\n",
    "## Input Files\n",
    "- `../Data/Current Version of Toys Incidence+Recall/Toysandchildren_ArtsandCrafts.csv`\n",
    "- `../Data/Current Version of Toys Incidence+Recall/Toysandchildren_Riding_Toys.csv`\n",
    "- `../Data/Current Version of Toys Incidence+Recall/Toysandchildren_Toys.csv`\n",
    "- `link_lookup` (dictionary defined in the notebook)\n",
    "\n",
    "## Output Files\n",
    "- `reports.csv` (incident reports with extracted ASINs in the `asin_in_report` column)\n",
    "\n",
    "## Key Function\n",
    "\n",
    "### `find_amazon_link_in_report(x)`\n",
    "Scans a list of strings (a row from the DataFrame) to find and extract an Amazon ASIN from any Amazon product links present.  \n",
    "- If a shortened \"a.co/d/\" URL is found, it uses the `link_lookup` dictionary to get the ASIN.\n",
    "- If a standard Amazon `/dp/` URL is found, it extracts the 10-character ASIN following `/dp/`.\n",
    "- Returns the first ASIN found, or `None` if no valid link is present.\n",
    "\n",
    "## Usage\n",
    "Run the notebook cells sequentially to extract ASINs from incident report data and save the results for further analysis.\n",
    "\n",
    "---"
   ]
  },
  {
   "cell_type": "code",
   "execution_count": 3,
   "id": "8c851e6c",
   "metadata": {},
   "outputs": [],
   "source": [
    "import pandas as pd"
   ]
  },
  {
   "cell_type": "code",
   "execution_count": 4,
   "id": "23e849f4",
   "metadata": {},
   "outputs": [],
   "source": [
    "#Import incident report data\n",
    "\n",
    "report_files=['../Data/Current Version of Toys Incidence+Recall/Toysandchildren_ArtsandCrafts.csv',\n",
    "              '../Data/Current Version of Toys Incidence+Recall/Toysandchildren_Riding_Toys.csv',\n",
    "              '../Data/Current Version of Toys Incidence+Recall/Toysandchildren_Toys.csv']\n",
    "df_arts=pd.read_csv(report_files[0],header=2)\n",
    "df_riding=pd.read_csv(report_files[1],header=1)\n",
    "df_toy=pd.read_csv(report_files[2],header=1)\n",
    "reports=pd.concat([df_arts,df_riding,df_toy   ],ignore_index=True)\n",
    "\n",
    "\n",
    "to_rename=dict()\n",
    "for column in reports.columns:\n",
    "    to_rename[column]=column.replace(' / ','/').replace(' ','_').lower()\n",
    "reports=reports.rename(columns=to_rename)\n",
    "\n",
    "del df_riding, df_arts, df_toy, to_rename, report_files,column\n"
   ]
  },
  {
   "cell_type": "code",
   "execution_count": 13,
   "id": "7f6bd3eb",
   "metadata": {},
   "outputs": [],
   "source": [
    "# This contains a few \"a.co\" short URLs whch I entered the ASINs for manually.\n",
    "link_lookup={'a.co/d/2299M1u': 'B0BWYHLHHZ',\n",
    "                'a.co/d/63Rrqnu': 'B08BJYVMHS',\n",
    "                'a.co/d/6QDqgip': 'B086WNVDTG',\n",
    "                'a.co/d/7gfkDxl': 'B09Z68Q2K7',\n",
    "                'a.co/d/7r4Z3S5': 'B095WQHW8L',\n",
    "                'a.co/d/8jsyfzE': 'B09YHVY42K',\n",
    "                'a.co/d/aCLKMub': 'B0CDLDCW38',\n",
    "                'a.co/d/ckJk1jl': 'B0BQQP5WK5',\n",
    "                'a.co/d/dai68Xv': 'B07Y1V52BT',\n",
    "                'a.co/d/eOVs4JR': 'B0CHJTD1FS',\n",
    "                'a.co/d/eV1EXP7': 'B0BWS22GVD',\n",
    "                'a.co/d/glkRka6': 'B07BQFS9W8',\n",
    "                'a.co/d/iPLpSs3': 'B0CH8DCDCC',\n",
    "                'a.co/d/iqx6cmg': 'B0BBDX4W8T'}"
   ]
  },
  {
   "cell_type": "code",
   "execution_count": 6,
   "id": "e5074fba",
   "metadata": {},
   "outputs": [],
   "source": [
    "def find_amazon_link_in_report(x):\n",
    "    for item in x:\n",
    "        idx=str(item).find('a.co/d/')\n",
    "        if idx!=-1:\n",
    "            return link_lookup[str(item)[idx:idx+14]]\n",
    "        idx=str(item).find('/dp/')\n",
    "        if idx!=-1:\n",
    "                return str(item)[idx+4:idx+14]\n",
    "    return None"
   ]
  },
  {
   "cell_type": "code",
   "execution_count": 7,
   "id": "e7ffecc5",
   "metadata": {},
   "outputs": [],
   "source": [
    "reports['asin_in_report']=reports.apply(find_amazon_link_in_report,axis=1)\n"
   ]
  },
  {
   "cell_type": "code",
   "execution_count": 8,
   "id": "e73dc94e",
   "metadata": {},
   "outputs": [],
   "source": [
    "reports.to_csv(\"reports.csv\")"
   ]
  },
  {
   "cell_type": "code",
   "execution_count": null,
   "id": "25fe6e43",
   "metadata": {},
   "outputs": [],
   "source": []
  }
 ],
 "metadata": {
  "kernelspec": {
   "display_name": "erdos_summer_2025",
   "language": "python",
   "name": "python3"
  },
  "language_info": {
   "codemirror_mode": {
    "name": "ipython",
    "version": 3
   },
   "file_extension": ".py",
   "mimetype": "text/x-python",
   "name": "python",
   "nbconvert_exporter": "python",
   "pygments_lexer": "ipython3",
   "version": "3.12.11"
  }
 },
 "nbformat": 4,
 "nbformat_minor": 5
}
