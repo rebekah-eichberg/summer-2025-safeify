{
 "cells": [
  {
   "cell_type": "code",
   "execution_count": 4,
   "id": "5a9649ba",
   "metadata": {},
   "outputs": [
    {
     "name": "stdout",
     "output_type": "stream",
     "text": [
      "(128877, 407)\n",
      "['asin', 'category', 'title', 'missing_price', 'item_rank', 'match', 'incident_indices', 'component_no', 'avg_rating', 'min_rating', 'num_of_rating', 'percent_positive', 'percent_negative', 'avg_verified_reviewers', 'min_date', 'max_date', 'product_lifespan', 'num_bots_per_asin', 'unique_reviewer_count', 'avg_reviews_per_day']\n"
     ]
    }
   ],
   "source": [
    "import os\n",
    "import pandas as pd\n",
    "df = pd.read_parquet(\"../train_final_v1.parquet\", engine=\"pyarrow\")\n",
    "print(df.shape)\n",
    "print(df.columns[:20].tolist())"
   ]
  },
  {
   "cell_type": "code",
   "execution_count": 7,
   "id": "fa6fa300",
   "metadata": {},
   "outputs": [
    {
     "data": {
      "image/png": "[encoded data removed]",
      "text/plain": [
       "<Figure size 600x500 with 1 Axes>"
      ]
     },
     "metadata": {},
     "output_type": "display_data"
    }
   ],
   "source": [
    "import matplotlib.pyplot as plt\n",
    "plt.figure(figsize=(6,5))\n",
    "\n",
    "plt.scatter(df['avg_rating'], df['match'])\n",
    "\n",
    "plt.xlabel(\"Average Rating\", fontsize=12)\n",
    "plt.ylabel(\"Complaint\", fontsize=12)\n",
    "plt.show()"
   ]
  },
  {
   "cell_type": "markdown",
   "id": "c4676259",
   "metadata": {},
   "source": []
  },
  {
   "cell_type": "code",
   "execution_count": 9,
   "id": "9105bab0",
   "metadata": {},
   "outputs": [],
   "source": [
    "import torch\n",
    "import torch.nn as nn\n",
    "\n",
    "# Increase weight on positive class (label = 1)\n",
    "loss_fn = nn.BCEWithLogitsLoss(pos_weight=torch.tensor([5.0]))  # Try 5.0, 10.0, etc.\n"
   ]
  },
  {
   "cell_type": "code",
   "execution_count": 10,
   "id": "df883e44",
   "metadata": {},
   "outputs": [],
   "source": [
    "def compute_baseline_loss_all_zeros(df, label_col=\"match\", pos_weight=1.0, device=\"cpu\"):\n",
    "    \"\"\"\n",
    "    Compute baseline BCEWithLogitsLoss for a model that always predicts 0.\n",
    "\n",
    "    Parameters:\n",
    "    - df: pandas DataFrame containing the label column\n",
    "    - label_col: name of the label column (default: \"match\")\n",
    "    - pos_weight: float (how much more to penalize false negatives)\n",
    "    - device: \"cpu\" or \"cuda\"\n",
    "\n",
    "    Returns:\n",
    "    - loss_value: float\n",
    "    \"\"\"\n",
    "    y_true = torch.tensor(df[label_col].values, dtype=torch.float32).to(device)\n",
    "\n",
    "    # Simulate prediction of all 0s → logits = -100\n",
    "    y_pred_logits = torch.full_like(y_true, -100.0, device=device)\n",
    "\n",
    "    pos_weight_tensor = torch.tensor([pos_weight], device=device)\n",
    "    loss_fn = nn.BCEWithLogitsLoss(pos_weight=pos_weight_tensor)\n",
    "\n",
    "    loss = loss_fn(y_pred_logits, y_true)\n",
    "    return loss.item()\n"
   ]
  },
  {
   "cell_type": "code",
   "execution_count": 11,
   "id": "92457ae3",
   "metadata": {},
   "outputs": [
    {
     "name": "stdout",
     "output_type": "stream",
     "text": [
      "Baseline loss (predict all 0s): 3.4024689197540283\n"
     ]
    }
   ],
   "source": [
    "baseline_loss = compute_baseline_loss_all_zeros(df, label_col=\"match\", pos_weight=5.0)\n",
    "print(\"Baseline loss (predict all 0s):\", baseline_loss)\n"
   ]
  },
  {
   "cell_type": "code",
   "execution_count": 13,
   "id": "cfa15966",
   "metadata": {},
   "outputs": [],
   "source": [
    "from sklearn.linear_model import LogisticRegression\n",
    "from sklearn.metrics import classification_report, confusion_matrix\n",
    "\n",
    "# X = just the 'average_rating' column, reshaped as 2D\n",
    "X = df[['avg_rating']]  # or df['average_rating'].values.reshape(-1, 1)\n",
    "y = df['match']\n"
   ]
  },
  {
   "cell_type": "code",
   "execution_count": null,
   "id": "0e5c6c25",
   "metadata": {},
   "outputs": [],
   "source": []
  }
 ],
 "metadata": {
  "kernelspec": {
   "display_name": "erdos_summer_2025",
   "language": "python",
   "name": "python3"
  },
  "language_info": {
   "codemirror_mode": {
    "name": "ipython",
    "version": 3
   },
   "file_extension": ".py",
   "mimetype": "text/x-python",
   "name": "python",
   "nbconvert_exporter": "python",
   "pygments_lexer": "ipython3",
   "version": "3.12.10"
  }
 },
 "nbformat": 4,
 "nbformat_minor": 5
}
