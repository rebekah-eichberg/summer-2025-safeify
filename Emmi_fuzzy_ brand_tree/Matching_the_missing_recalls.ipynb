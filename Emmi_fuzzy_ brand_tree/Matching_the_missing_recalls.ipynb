{
 "cells": [
  {
   "cell_type": "code",
   "execution_count": 1,
   "id": "3766e76b",
   "metadata": {},
   "outputs": [],
   "source": [
    "import pandas as pd\n"
   ]
  },
  {
   "cell_type": "code",
   "execution_count": 2,
   "id": "1fa228a0",
   "metadata": {},
   "outputs": [],
   "source": [
    "file_path = '../Data/amazon_meta.json'  \n",
    "amazon_df = pd.read_json(file_path, lines=True, compression=None)"
   ]
  },
  {
   "cell_type": "code",
   "execution_count": 3,
   "id": "02ba60e6",
   "metadata": {},
   "outputs": [],
   "source": [
    "file_path = \"all_titles_only.csv\"\n",
    "# Read the CSV file as-is\n",
    "toysrecall_df = pd.read_csv(file_path, encoding='utf-8')\n",
    "\n",
    "\n",
    "\n"
   ]
  },
  {
   "cell_type": "code",
   "execution_count": 4,
   "id": "35a00c47",
   "metadata": {},
   "outputs": [
    {
     "name": "stdout",
     "output_type": "stream",
     "text": [
      "Combined recall records: 709\n",
      "Columns: ['Title']\n"
     ]
    },
    {
     "data": {
      "text/html": [
       "<div>\n",
       "<style scoped>\n",
       "    .dataframe tbody tr th:only-of-type {\n",
       "        vertical-align: middle;\n",
       "    }\n",
       "\n",
       "    .dataframe tbody tr th {\n",
       "        vertical-align: top;\n",
       "    }\n",
       "\n",
       "    .dataframe thead th {\n",
       "        text-align: right;\n",
       "    }\n",
       "</style>\n",
       "<table border=\"1\" class=\"dataframe\">\n",
       "  <thead>\n",
       "    <tr style=\"text-align: right;\">\n",
       "      <th></th>\n",
       "      <th>Title</th>\n",
       "    </tr>\n",
       "  </thead>\n",
       "  <tbody>\n",
       "    <tr>\n",
       "      <th>0</th>\n",
       "      <td>Kids II Inc. Recalls Crib Toys Due to Choking ...</td>\n",
       "    </tr>\n",
       "    <tr>\n",
       "      <th>1</th>\n",
       "      <td>Discovery Toys Children's Toy Phone Recall</td>\n",
       "    </tr>\n",
       "    <tr>\n",
       "      <th>2</th>\n",
       "      <td>Kids Station Toys Recalls Little Tikes Toy Cel...</td>\n",
       "    </tr>\n",
       "    <tr>\n",
       "      <th>3</th>\n",
       "      <td>Pop Up Phone Recalled; Antenna Is Choking Hazard</td>\n",
       "    </tr>\n",
       "    <tr>\n",
       "      <th>4</th>\n",
       "      <td>TDT Toy Company Recalls Plastic Telephones Bec...</td>\n",
       "    </tr>\n",
       "    <tr>\n",
       "      <th>5</th>\n",
       "      <td>Toy Telephones Recalled by Durham</td>\n",
       "    </tr>\n",
       "    <tr>\n",
       "      <th>6</th>\n",
       "      <td>Coynes, Inc. Recalls Musical Cordless Toy Tele...</td>\n",
       "    </tr>\n",
       "    <tr>\n",
       "      <th>7</th>\n",
       "      <td>Toy Baby Phone Recalled by Vtech</td>\n",
       "    </tr>\n",
       "    <tr>\n",
       "      <th>8</th>\n",
       "      <td>Toy Phones Recalled for Choking Hazard</td>\n",
       "    </tr>\n",
       "    <tr>\n",
       "      <th>9</th>\n",
       "      <td>Evenflo Recalls Telephone Toys Due to Choking ...</td>\n",
       "    </tr>\n",
       "    <tr>\n",
       "      <th>10</th>\n",
       "      <td>Toy Telephone Sets Recalled by Montgomery Ward</td>\n",
       "    </tr>\n",
       "    <tr>\n",
       "      <th>11</th>\n",
       "      <td>Kid's Phone Beeper Combo Recalled by Dolgencorp</td>\n",
       "    </tr>\n",
       "    <tr>\n",
       "      <th>12</th>\n",
       "      <td>Toy Public Telephone Recalled By Goldwell Inte...</td>\n",
       "    </tr>\n",
       "    <tr>\n",
       "      <th>13</th>\n",
       "      <td>Toy Mobile Phones Recalled for Choking Hazard</td>\n",
       "    </tr>\n",
       "    <tr>\n",
       "      <th>14</th>\n",
       "      <td>Handi-Craft Company Recalls Three Toys</td>\n",
       "    </tr>\n",
       "    <tr>\n",
       "      <th>15</th>\n",
       "      <td>Battat Inc. Recalls Parents Magazine Toy Cell ...</td>\n",
       "    </tr>\n",
       "    <tr>\n",
       "      <th>16</th>\n",
       "      <td>Toy Truck Gifts with Purchase Recalled by Happ...</td>\n",
       "    </tr>\n",
       "    <tr>\n",
       "      <th>17</th>\n",
       "      <td>Tumblekins Toys Recalled by International Play...</td>\n",
       "    </tr>\n",
       "    <tr>\n",
       "      <th>18</th>\n",
       "      <td>Schylling Recalls Police Press and Go Toy Vehi...</td>\n",
       "    </tr>\n",
       "    <tr>\n",
       "      <th>19</th>\n",
       "      <td>Green Toys Recalls Mini Vehicles Due To Chokin...</td>\n",
       "    </tr>\n",
       "  </tbody>\n",
       "</table>\n",
       "</div>"
      ],
      "text/plain": [
       "                                                Title\n",
       "0   Kids II Inc. Recalls Crib Toys Due to Choking ...\n",
       "1          Discovery Toys Children's Toy Phone Recall\n",
       "2   Kids Station Toys Recalls Little Tikes Toy Cel...\n",
       "3    Pop Up Phone Recalled; Antenna Is Choking Hazard\n",
       "4   TDT Toy Company Recalls Plastic Telephones Bec...\n",
       "5                   Toy Telephones Recalled by Durham\n",
       "6   Coynes, Inc. Recalls Musical Cordless Toy Tele...\n",
       "7                    Toy Baby Phone Recalled by Vtech\n",
       "8              Toy Phones Recalled for Choking Hazard\n",
       "9   Evenflo Recalls Telephone Toys Due to Choking ...\n",
       "10     Toy Telephone Sets Recalled by Montgomery Ward\n",
       "11    Kid's Phone Beeper Combo Recalled by Dolgencorp\n",
       "12  Toy Public Telephone Recalled By Goldwell Inte...\n",
       "13      Toy Mobile Phones Recalled for Choking Hazard\n",
       "14             Handi-Craft Company Recalls Three Toys\n",
       "15  Battat Inc. Recalls Parents Magazine Toy Cell ...\n",
       "16  Toy Truck Gifts with Purchase Recalled by Happ...\n",
       "17  Tumblekins Toys Recalled by International Play...\n",
       "18  Schylling Recalls Police Press and Go Toy Vehi...\n",
       "19  Green Toys Recalls Mini Vehicles Due To Chokin..."
      ]
     },
     "execution_count": 4,
     "metadata": {},
     "output_type": "execute_result"
    }
   ],
   "source": [
    "\n",
    "\n",
    "print(\"Combined recall records:\", len(toysrecall_df))\n",
    "print(\"Columns:\", toysrecall_df.columns.tolist())\n",
    "toysrecall_df.head(20)"
   ]
  },
  {
   "cell_type": "code",
   "execution_count": 5,
   "id": "95091223",
   "metadata": {},
   "outputs": [
    {
     "name": "stdout",
     "output_type": "stream",
     "text": [
      "Index(['Title'], dtype='object')\n"
     ]
    }
   ],
   "source": [
    "print(toysrecall_df.columns)"
   ]
  },
  {
   "cell_type": "markdown",
   "id": "950bd762",
   "metadata": {},
   "source": []
  },
  {
   "cell_type": "code",
   "execution_count": 10,
   "id": "8d8d412b",
   "metadata": {},
   "outputs": [],
   "source": [
    "from rapidfuzz import fuzz, process"
   ]
  },
  {
   "cell_type": "code",
   "execution_count": 37,
   "id": "e29754dc",
   "metadata": {},
   "outputs": [],
   "source": [
    "from rapidfuzz import fuzz\n",
    "import pandas as pd\n",
    "import re\n",
    "\n",
    "def clean_recall_title(title: str) -> str:\n",
    "    banned_words = [\n",
    "        'recall', 'recalls', 'recalled','choking', 'choked', 'hazard', 'hazards', 'hazardous',\n",
    "        'title', 'danger', 'due', 'to', 'for', 'announce', 'announced', 'announcement',\n",
    "        'alert', 'alerts', 'warning', 'warnings', 'safety', 'unsafe', 'product', 'products',\n",
    "        'item', 'items', 'may', 'cause', 'risk', 'risks', 'injury', 'injuries', 'harm',\n",
    "        'damages', 'defect', 'defective', 'faulty', 'fault', 'issue', 'issues',\n",
    "        'problem', 'problems', 'dangerous', 'dangerously'\n",
    "    ]\n",
    "    pattern = r'\\b(?:' + '|'.join(banned_words) + r')\\b'\n",
    "    cleaned = re.sub(pattern, '', title, flags=re.IGNORECASE)\n",
    "    cleaned = re.sub(r'\\s+', ' ', cleaned)  # remove extra spaces\n",
    "    return cleaned.strip()\n",
    "\n",
    "def match_amazon_to_recalls(amazon_df, recall_df, score_threshold=90):\n",
    "    amazon = amazon_df.copy()\n",
    "    recalls = recall_df.copy()\n",
    "\n",
    "    amazon['title'] = amazon['title'].astype(str).str.lower().str.strip()\n",
    "    recalls['Title'] = recalls['Title'].astype(str).str.lower().str.strip()\n",
    "\n",
    "    # Initialize columns\n",
    "    amazon_df['is_match'] = 0\n",
    "    amazon_df['recall_index'] = [[] for _ in range(len(amazon_df))]\n",
    "\n",
    "    matched = {}\n",
    "\n",
    "    for recall_title in recalls['Title'].dropna().unique():\n",
    "        cleaned = clean_recall_title(recall_title)\n",
    "        if not cleaned:\n",
    "            continue\n",
    "\n",
    "        mask = amazon['title'].apply(lambda x: fuzz.token_sort_ratio(x, cleaned) >= score_threshold)\n",
    "        amazon_matches = amazon[mask]\n",
    "        recall_rows = recalls[recalls['Title'] == recall_title]\n",
    "\n",
    "        if not amazon_matches.empty:\n",
    "            matched[recall_title] = (recall_rows.copy(), amazon_matches.copy())\n",
    "            recall_idx = recall_rows.index[0]\n",
    "\n",
    "            for idx in amazon_matches.index:\n",
    "                amazon_df.at[idx, 'is_match'] = 1\n",
    "                amazon_df.at[idx, 'recall_index'].append(2514 + recall_idx)\n",
    "\n",
    "    print(f\"✅ Found matches for {len(matched)} recall-title entries.\")\n",
    "    print(f\"📦 Unique Amazon products matched: {amazon_df['is_match'].sum()}\")\n",
    "\n",
    "    return matched, amazon_df\n"
   ]
  },
  {
   "cell_type": "code",
   "execution_count": null,
   "id": "3c9afdbe",
   "metadata": {},
   "outputs": [],
   "source": [
    "from rapidfuzz import fuzz\n",
    "import pandas as pd\n",
    "import re\n",
    "\n",
    "def clean_recall_title(title: str) -> str:\n",
    "    banned_words = ['recall', 'recalls', 'recalled','choking', 'choked', 'hazard', 'hazards', 'hazardous', 'title', 'danger', \"due\", \"to\", \"for\", \"announce\", \"announced\", \"announcement\", \"alert\", \"alerts\", \"warning\", \"warnings\", \"safety\", \"unsafe\", \"product\", \"products\", \"item\", \"items\", \"may\", \"cause\", \"risk\", \"risks\", \"injury\", \"injuries\", \"harm\", \"damages\", \"defect\", \"defective\", \"faulty\", \"fault\", \"issue\", \"issues\", \"problem\", \"problems\", \"dangerous\", \"dangerously\"]\n",
    "    pattern = r'\\b(?:' + '|'.join(banned_words) + r')\\b'\n",
    "    cleaned = re.sub(pattern, '', title, flags=re.IGNORECASE)\n",
    "    return cleaned.strip()\n",
    "\n",
    "def match_amazon_to_recalls(amazon_df, recall_df, score_threshold=90):\n",
    "    amazon = amazon_df.copy()\n",
    "    recalls = recall_df.copy()\n",
    "\n",
    "    amazon['title'] = amazon['title'].astype(str).str.lower().str.strip()\n",
    "    recalls['Title'] = recalls['Title'].astype(str).str.lower().str.strip()\n",
    "\n",
    "    amazon_df['is_match'] = 0\n",
    "    amazon_df['recall_index'] = None\n",
    "\n",
    "    matched = {}\n",
    "\n",
    "    for recall_title in recalls['Title'].dropna().unique():\n",
    "        cleaned = clean_recall_title(recall_title)\n",
    "        if not cleaned:\n",
    "            continue\n",
    "\n",
    "        mask = amazon['title'].apply(lambda x: fuzz.token_sort_ratio(x, cleaned) >= score_threshold)\n",
    "        amazon_matches = amazon[mask]\n",
    "        recall_rows = recalls[recalls['Title'] == recall_title]\n",
    "\n",
    "        if not amazon_matches.empty:\n",
    "            matched[recall_title] = (recall_rows.copy(), amazon_matches.copy())\n",
    "            recall_idx = recall_rows.index[0]\n",
    "\n",
    "            for idx in amazon_matches.index:\n",
    "                amazon_df.at[idx, 'is_match'] = 1\n",
    "                amazon_df.at[idx, 'recall_index'] = 2514 + recall_idx\n",
    "\n",
    "    print(f\"✅ Found matches for {len(matched)} recall-title entries.\")\n",
    "    print(f\"📦 Unique Amazon products matched: {amazon_df['is_match'].sum()}\")\n",
    "\n",
    "    return matched, amazon_df\n"
   ]
  },
  {
   "cell_type": "code",
   "execution_count": 38,
   "id": "f68ded14",
   "metadata": {},
   "outputs": [
    {
     "name": "stdout",
     "output_type": "stream",
     "text": [
      "✅ Found matches for 16 recall-title entries.\n",
      "📦 Unique Amazon products matched: 26\n"
     ]
    }
   ],
   "source": [
    "matched_results, updated_amazon_df = match_amazon_to_recalls(amazon_df, toysrecall_df, 80)"
   ]
  },
  {
   "cell_type": "code",
   "execution_count": 40,
   "id": "2e9d9721",
   "metadata": {},
   "outputs": [
    {
     "name": "stdout",
     "output_type": "stream",
     "text": [
      "\n",
      "⚠️ Recall Title: toy mobile phones recalled for choking hazard\n",
      "🛒 Matched Amazon Titles:\n",
      "   - mobile phone\n",
      "   - frozen toy mobile phone\n",
      "\n",
      "⚠️ Recall Title: green toys recalls mini vehicles due to choking hazard\n",
      "🛒 Matched Amazon Titles:\n",
      "   - green toys mixer vehicle\n",
      "   - green toys  mini vehicle, 4-pack\n",
      "\n",
      "⚠️ Recall Title: infantino recalls toy activity trucks due to choking hazard\n",
      "🛒 Matched Amazon Titles:\n",
      "   - infantino activity toy set\n",
      "\n",
      "⚠️ Recall Title: fisher-price recalls to repair little people builders' load 'n go wagons due to laceration hazard\n",
      "🛒 Matched Amazon Titles:\n",
      "   - fisher-price little people builders load 'n go wagon\n",
      "\n",
      "⚠️ Recall Title: wooden toy alphabet blocks recalled\n",
      "🛒 Matched Amazon Titles:\n",
      "   - aleph bet wooden blocks\n",
      "   - wooden alphabet blocks - wagon\n",
      "\n",
      "⚠️ Recall Title: toys r us recalls imaginarium activity center due to choking hazard\n",
      "🛒 Matched Amazon Titles:\n",
      "   - imaginarium 5 sided activity center\n",
      "\n",
      "⚠️ Recall Title: target recalls activity cart toys due to choking hazard\n",
      "🛒 Matched Amazon Titles:\n",
      "   - plantoys activity cart\n",
      "\n",
      "⚠️ Recall Title: fisher-price recalls little people play 'n go campsite™ due to choking hazard\n",
      "🛒 Matched Amazon Titles:\n",
      "   - fisher-price little people play 'n go farm\n",
      "   - fisher-price little people play 'n float bath boat\n",
      "   - little people play 'n float boat by fisher-price\n",
      "   - fisher-price little people going camping playset\n",
      "\n",
      "⚠️ Recall Title: baby toy warning\n",
      "🛒 Matched Amazon Titles:\n",
      "   - baby toys\n",
      "   - baby toy kit\n",
      "\n",
      "⚠️ Recall Title: bathtub toys recalled by munchkin due to risk of injury\n",
      "🛒 Matched Amazon Titles:\n",
      "   - munchkin lazy buoys bathtub toys\n",
      "\n",
      "⚠️ Recall Title: xylophone mallets recalled by playwell\n",
      "🛒 Matched Amazon Titles:\n",
      "   - play xylophone with mallet\n",
      "\n",
      "⚠️ Recall Title: stacking toy recalled for choking hazard risk\n",
      "🛒 Matched Amazon Titles:\n",
      "   - stacking tower\n",
      "\n",
      "⚠️ Recall Title: star wars lightsaber recalled by hasbro\n",
      "🛒 Matched Amazon Titles:\n",
      "   - hasbro star wars light saber battle game\n",
      "   - star wars ahsoka lightsaber\n",
      "   - star wars lightsaber ahsoka\n",
      "\n",
      "⚠️ Recall Title: guidecraft recalls twist 'n sort toys due to choking hazard\n",
      "🛒 Matched Amazon Titles:\n",
      "   - guidecraft twist 'n sort\n",
      "\n",
      "⚠️ Recall Title: bunnies by the bay recalls pull toys due to choking hazard\n",
      "🛒 Matched Amazon Titles:\n",
      "   - bunnies by the bay toy, clucky little\n",
      "\n",
      "⚠️ Recall Title: fisher-price recalls little people wheelies stand 'n play rampway due to choking hazard\n",
      "🛒 Matched Amazon Titles:\n",
      "   - fisher-price little people wheelies stand 'n play rampway\n",
      "   - fisher-price little people wheelies stand 'n play rampway\n"
     ]
    }
   ],
   "source": [
    "for recall_title, (recall_df, amazon_df_match) in matched_results.items():\n",
    "    print(f\"\\n⚠️ Recall Title: {recall_title}\")\n",
    "    print(\"🛒 Matched Amazon Titles:\")\n",
    "\n",
    "    for _, row in amazon_df_match.iterrows():\n",
    "        print(f\"   - {row['title']}\")\n"
   ]
  },
  {
   "cell_type": "code",
   "execution_count": 41,
   "id": "4d024eb0",
   "metadata": {},
   "outputs": [
    {
     "name": "stdout",
     "output_type": "stream",
     "text": [
      "Updated Amazon DataFrame saved to 'amazon_meta_with_recall_matches.csv'.\n"
     ]
    }
   ],
   "source": [
    "updated_amazon_df.to_csv('amazon_meta_with_recall_matches.csv', index=False, encoding='utf-8')\n",
    "print(\"Updated Amazon DataFrame saved to 'amazon_meta_with_recall_matches.csv'.\")"
   ]
  },
  {
   "cell_type": "code",
   "execution_count": 42,
   "id": "608548e6",
   "metadata": {},
   "outputs": [
    {
     "name": "stdout",
     "output_type": "stream",
     "text": [
      "Index(['category', 'tech1', 'description', 'fit', 'title', 'also_buy', 'tech2',\n",
      "       'brand', 'feature', 'rank', 'also_view', 'main_cat', 'similar_item',\n",
      "       'date', 'price', 'asin', 'imageURL', 'imageURLHighRes', 'details',\n",
      "       'is_match', 'recall_index'],\n",
      "      dtype='object')\n"
     ]
    }
   ],
   "source": [
    "print(updated_amazon_df.columns)"
   ]
  }
 ],
 "metadata": {
  "kernelspec": {
   "display_name": "erdos_summer_2025",
   "language": "python",
   "name": "python3"
  },
  "language_info": {
   "codemirror_mode": {
    "name": "ipython",
    "version": 3
   },
   "file_extension": ".py",
   "mimetype": "text/x-python",
   "name": "python",
   "nbconvert_exporter": "python",
   "pygments_lexer": "ipython3",
   "version": "3.12.10"
  }
 },
 "nbformat": 4,
 "nbformat_minor": 5
}
