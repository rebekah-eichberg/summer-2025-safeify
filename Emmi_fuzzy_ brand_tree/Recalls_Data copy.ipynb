{
 "cells": [
  {
   "cell_type": "markdown",
   "id": "7f1cdc7f",
   "metadata": {},
   "source": [
    "This notebook creates a .csv file containing all recall data. "
   ]
  },
  {
   "cell_type": "code",
   "execution_count": 35,
   "id": "e681f910",
   "metadata": {},
   "outputs": [
    {
     "name": "stdout",
     "output_type": "stream",
     "text": [
      "⚠️ Skipped Stuffed_Animals.csv: No 'Title' column found in row 2.\n",
      "✅ Extracted all 'Title' columns into 'all_titles_only.csv'\n"
     ]
    }
   ],
   "source": [
    "import pandas as pd\n",
    "import os\n",
    "\n",
    "folder_path = '../Recalls folder'\n",
    "csv_files = [f for f in os.listdir(folder_path) if f.endswith('.csv')]\n",
    "\n",
    "titles = []\n",
    "\n",
    "for file in csv_files:\n",
    "    file_path = os.path.join(folder_path, file)\n",
    "    try:\n",
    "        # Skip the first row, treat row 1 as header\n",
    "        df = pd.read_csv(file_path, skiprows=1, encoding='utf-8', on_bad_lines='skip', dtype=str)\n",
    "\n",
    "        if 'Title' not in df.columns:\n",
    "            print(f\"⚠️ Skipped {file}: No 'Title' column found in row 2.\")\n",
    "            continue\n",
    "\n",
    "        df = df[['Title']]  # Keep only the 'Title' column\n",
    "        titles.append(df)\n",
    "\n",
    "    except Exception as e:\n",
    "        print(f\"❌ Error reading {file}: {e}\")\n",
    "\n",
    "# Combine all 'Title' columns\n",
    "all_titles = pd.concat(titles, ignore_index=True)\n",
    "\n",
    "# Save to CSV\n",
    "all_titles.to_csv(\"all_titles_only.csv\", index=False)\n",
    "print(\"✅ Extracted all 'Title' columns into 'all_titles_only.csv'\")\n"
   ]
  }
 ],
 "metadata": {
  "kernelspec": {
   "display_name": "erdos_summer_2025",
   "language": "python",
   "name": "python3"
  },
  "language_info": {
   "codemirror_mode": {
    "name": "ipython",
    "version": 3
   },
   "file_extension": ".py",
   "mimetype": "text/x-python",
   "name": "python",
   "nbconvert_exporter": "python",
   "pygments_lexer": "ipython3",
   "version": "3.12.10"
  }
 },
 "nbformat": 4,
 "nbformat_minor": 5
}
