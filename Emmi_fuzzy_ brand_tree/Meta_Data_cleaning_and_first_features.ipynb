{
 "cells": [
  {
   "cell_type": "markdown",
   "id": "da0ff86c",
   "metadata": {},
   "source": [
    "I'm using the final version of the Data--Frame throughout. To get it you can simply run Labeled_Data.py which lives in the data folder. "
   ]
  },
  {
   "cell_type": "code",
   "execution_count": null,
   "id": "691fabd3",
   "metadata": {},
   "outputs": [
    {
     "name": "stdout",
     "output_type": "stream",
     "text": [
      "(1000, 21)\n"
     ]
    },
    {
     "data": {
      "application/vnd.microsoft.datawrangler.viewer.v0+json": {
       "columns": [
        {
         "name": "index",
         "rawType": "int64",
         "type": "integer"
        },
        {
         "name": "category",
         "rawType": "object",
         "type": "string"
        },
        {
         "name": "tech1",
         "rawType": "object",
         "type": "unknown"
        },
        {
         "name": "description",
         "rawType": "object",
         "type": "string"
        },
        {
         "name": "fit",
         "rawType": "float64",
         "type": "float"
        },
        {
         "name": "title",
         "rawType": "object",
         "type": "string"
        },
        {
         "name": "also_buy",
         "rawType": "object",
         "type": "string"
        },
        {
         "name": "tech2",
         "rawType": "float64",
         "type": "float"
        },
        {
         "name": "brand",
         "rawType": "object",
         "type": "string"
        },
        {
         "name": "feature",
         "rawType": "object",
         "type": "string"
        },
        {
         "name": "rank",
         "rawType": "object",
         "type": "string"
        },
        {
         "name": "also_view",
         "rawType": "object",
         "type": "string"
        },
        {
         "name": "main_cat",
         "rawType": "object",
         "type": "string"
        },
        {
         "name": "similar_item",
         "rawType": "object",
         "type": "unknown"
        },
        {
         "name": "date",
         "rawType": "object",
         "type": "unknown"
        },
        {
         "name": "price",
         "rawType": "object",
         "type": "unknown"
        },
        {
         "name": "asin",
         "rawType": "object",
         "type": "string"
        },
        {
         "name": "imageURL",
         "rawType": "object",
         "type": "string"
        },
        {
         "name": "imageURLHighRes",
         "rawType": "object",
         "type": "string"
        },
        {
         "name": "details",
         "rawType": "float64",
         "type": "float"
        },
        {
         "name": "match",
         "rawType": "int64",
         "type": "integer"
        },
        {
         "name": "incident_indices",
         "rawType": "object",
         "type": "string"
        }
       ],
       "ref": "257d232a-f086-456b-bc4c-5bf538fb9c03",
       "rows": [
        [
         "0",
         "['Toys & Games', 'Puzzles', 'Jigsaw Puzzles']",
         null,
         "[\"Three Dr. Suess' Puzzles: Green Eggs and Ham, Favorite Friends, and One Fish Two Fish Red Fish Blue Fish\"]",
         null,
         "Dr. Suess 19163 Dr. Seuss Puzzle 3 Pack Bundle",
         "[]",
         null,
         "Dr. Seuss",
         "['Three giant floor puzzles', 'Includes: Dr. Suess Green Eggs and Ham, Favorite Friends, and One Fish Two Fish Blue Fish', 'Each puzzle has 48 pieces', 'Ages 3 and up']",
         "['>#2,230,717 in Toys & Games (See Top 100 in Toys & Games)', '>#57,419 in Toys & Games > Puzzles > Jigsaw Puzzles']",
         "[]",
         "Toys & Games",
         null,
         null,
         null,
         "0000191639",
         "['https://images-na.ssl-images-amazon.com/images/I/51rn8TxbcoL._SS40_.jpg', 'https://images-na.ssl-images-amazon.com/images/I/51j1Fep1niL._SS40_.jpg']",
         "['https://images-na.ssl-images-amazon.com/images/I/51rn8TxbcoL.jpg', 'https://images-na.ssl-images-amazon.com/images/I/51j1Fep1niL.jpg']",
         null,
         "0",
         "[]"
        ],
        [
         "1",
         "[]",
         null,
         "['<b>Prepare to be Afraid!</b><br /><br />The Book of Beasts: Legendary Foes, the latest in the award-winning Book of Beast series, details the deadliest and most frightening monsters ever to grace your gaming table. Bring new life and peril to your mythic adventures with these fierce monsters and high level NPCs. Challenge your players at a whole new level with demigods and traps for the highest levels of gameplay from this 68-page, full-color monster tome.']",
         null,
         "Pathfinder: Book of Beasts - Legendary Foes",
         "[]",
         null,
         "Pathfinder Roleplaying Jon Brazer Productions",
         "[]",
         "['>#2,294,535 in Toys & Games (See Top 100 in Toys & Games)']",
         "[]",
         "Toys & Games",
         null,
         null,
         ".a-box-inner{background-color:#fff}#alohaBuyBoxWidget .selected{background-color:#fffbf3;border-color:#e77600;box-shadow:0 0 3px rgba(228,121,17,.5)}#alohaBuyBoxWidget .contract-not-available{color:gray}#aloha-cart-popover .aloha-cart{height:auto;overflow:hidden}#aloha-cart-popover #aloha-cartInfo{float:left}#aloha-cart-popover #aloha-cart-details{float:right;margin-top:1em}#aloha-cart-popover .deviceContainer{width:160px;float:left;padding-right:10px;border-right:1px solid #ddd}#aloha-cart-popover li:last-child{border-right:0}#aloha-cart-popover .aloha-device-title{height:3em;overflow:hidden}#aloha-cart-popover .aloha-thumbnail-container{height:100px;margin-bottom:1em;text-align:center}#aloha-cart-popover .aloha-price-container{text-align:center}#aloha-cart-popover .aloha-thumbnail-container img{height:inherit}#aloha-cart-popover .aloha-cart{border-top:1px solid #ddd;border-bottom:1px solid #ddd}#aloha-cart-popover #aloha-cart-info{margin-right:0}#alohaBuyBoxWidget .without-contract-subheading{margin-right:0}#aloha-bb-help-nodes .aloha-bb-contract-term-heading{color:gray;font-family:arial;margin-top:.5em;text-align:center;height:.7em;border-bottom:1px solid gray;margin-bottom:1.6em}#aloha-bb-help-nodes .aloha-bb-contract-term-heading span{background-color:#fff;padding:0 10px 0 10px}#alohaAvailabilityUS_feature_div .availability a{text-decoration:none}#alohaPricingWidget a{text-decoration:none}#alohaAvailabilityUS_feature_div .availability{margin-top:-4px;margin-bottom:0}#alohaBuyBoxWidget .select-transaction-alert .a-icon-alert{top:18px;left:3px}#alohaBuyBoxWidget .select-transaction-alert .a-alert-container{padding-left:39px;width:290px}#alohaBuyBoxUS_feature_div #alohaBuyBoxWidget .contract-container .contract-term-heading a{text-decoration:none}#alohaBuyBoxUS_feature_div #alohaBuyBoxWidget .annual-contract-box .a-icon-popover{display:none}#alohaBuyBoxUS_feature_div #alohaBuyBoxWidget .contract-container .annual-contract-box{cursor:pointer;cursor:hand}#alohaBuyBoxUS_feature_div #alohaBuyBoxWidget .aloha-buybox-price{font-size:15px}#alohaBuyBoxUS_feature_div #alohaBuyBoxWidget #linkOffSection a{text-decoration:none}#alohaBuyBoxUS_feature_div .lockedUsedBuyboxContainer{padding-left:3.5%}#alohaBuyBoxUS_feature_div .alohaBuyboxUtilsNoWrap{white-space:nowrap}.hidden{display:none}.simo-no-padding{padding:0}.carrier-reviews-cell{padding-left:10px}.carrier-reviews-bordered-cell{border:1px dotted #ccc}.carrier-reviews-selected-cell{background-color:#ffd}#aloha-carrier-compatibility-modal-table-description{margin-top:10px;margin-bottom:14px}.aloha-carrier-compatibility-sortable-header.carrier{min-width:97px}.aloha-carrier-compatibility-sortable-header.compatibility{min-width:156px}.aloha-carrier-compatibility-sortable-header div{float:left}.aloha-carrier-compatibility-sortable-header i.a-icon{margin-left:10px;margin-top:4px}#aloha-carrier-compatibility-overview-table.a-bordered.a-vertical-stripes td:nth-child(2n),#aloha-carrier-compatibility-overview-table.a-bordered.a-vertical-stripes th:nth-child(2n){background-color:initial}#aloha-carrier-compatibility-modal-table.a-bordered.a-vertical-stripes td:nth-child(2n),#aloha-carrier-compatibility-modal-table.a-bordered.a-vertical-stripes th:nth-child(2n){background-color:initial}#aloha-carrier-compatibility-table.a-bordered.a-vertical-stripes th:nth-child(2n),.aloha-carrier-compatibility-table.a-bordered.a-vertical-stripes td:nth-child(2n){background-color:transparent}.aloha-carrier-compatibility-column-gray{background-color:#f6f6f6}.aloha-carrier-compatibility-modal-table-row .aloha-carrier-compatibility-tech-text,.aloha-carrier-compatibility-modal-table-row .carrier-name,.aloha-carrier-compatibility-modal-table-row .carrier-rating-summary{min-height:27px;display:inline-block;cursor:default}.aloha-carrier-compatibility-modal-table-row .aloha-carrier-compatibility-tech-text:first-line,.aloha-carrier-compatibility-modal-table-row .carrier-name:first-line,.aloha-carrier-compatibility-modal-table-row .carrier-rating-summary:first-line{line-height:27px}.aloha-carrier-compatibility-modal-table-row .aloha-carrier-compatibility-icon{margin-top:6px}.aloha-carrier-compatibility-check-icon{width:30px;height:27px;background-position:-318px -35px;background-image:url(https://images-na.ssl-images-amazon.com/images/G/01/AUIClients/AmazonUIBaseCSS-sprite_2x-8e7ef370dc28a214b3f490c9620f4ac501d5a864._V2_.png);background-repeat:no-repeat;background-size:400px 650px;display:inline-block;vertical-align:top}.aloha-carrier-compatibility-hidden{display:none}.aloha-buybox-spaced-link{margin-top:12px;margin-bottom:7px;text-align:center}.popover-tab",
         "0004950763",
         "[]",
         "[]",
         null,
         "0",
         "[]"
        ],
        [
         "2",
         "[]",
         null,
         "[]",
         null,
         "Nursery Rhymes Felt Book",
         "[]",
         null,
         "Betty Lukens",
         "[]",
         "['>#2,871,983 in Toys & Games (See Top 100 in Toys & Games)']",
         "[]",
         "Toys & Games",
         null,
         null,
         ".a-box-inner{background-color:#fff}#alohaBuyBoxWidget .selected{background-color:#fffbf3;border-color:#e77600;box-shadow:0 0 3px rgba(228,121,17,.5)}#alohaBuyBoxWidget .contract-not-available{color:gray}#aloha-cart-popover .aloha-cart{height:auto;overflow:hidden}#aloha-cart-popover #aloha-cartInfo{float:left}#aloha-cart-popover #aloha-cart-details{float:right;margin-top:1em}#aloha-cart-popover .deviceContainer{width:160px;float:left;padding-right:10px;border-right:1px solid #ddd}#aloha-cart-popover li:last-child{border-right:0}#aloha-cart-popover .aloha-device-title{height:3em;overflow:hidden}#aloha-cart-popover .aloha-thumbnail-container{height:100px;margin-bottom:1em;text-align:center}#aloha-cart-popover .aloha-price-container{text-align:center}#aloha-cart-popover .aloha-thumbnail-container img{height:inherit}#aloha-cart-popover .aloha-cart{border-top:1px solid #ddd;border-bottom:1px solid #ddd}#aloha-cart-popover #aloha-cart-info{margin-right:0}#alohaBuyBoxWidget .without-contract-subheading{margin-right:0}#aloha-bb-help-nodes .aloha-bb-contract-term-heading{color:gray;font-family:arial;margin-top:.5em;text-align:center;height:.7em;border-bottom:1px solid gray;margin-bottom:1.6em}#aloha-bb-help-nodes .aloha-bb-contract-term-heading span{background-color:#fff;padding:0 10px 0 10px}#alohaAvailabilityUS_feature_div .availability a{text-decoration:none}#alohaPricingWidget a{text-decoration:none}#alohaAvailabilityUS_feature_div .availability{margin-top:-4px;margin-bottom:0}#alohaBuyBoxWidget .select-transaction-alert .a-icon-alert{top:18px;left:3px}#alohaBuyBoxWidget .select-transaction-alert .a-alert-container{padding-left:39px;width:290px}#alohaBuyBoxUS_feature_div #alohaBuyBoxWidget .contract-container .contract-term-heading a{text-decoration:none}#alohaBuyBoxUS_feature_div #alohaBuyBoxWidget .annual-contract-box .a-icon-popover{display:none}#alohaBuyBoxUS_feature_div #alohaBuyBoxWidget .contract-container .annual-contract-box{cursor:pointer;cursor:hand}#alohaBuyBoxUS_feature_div #alohaBuyBoxWidget .aloha-buybox-price{font-size:15px}#alohaBuyBoxUS_feature_div #alohaBuyBoxWidget #linkOffSection a{text-decoration:none}#alohaBuyBoxUS_feature_div .lockedUsedBuyboxContainer{padding-left:3.5%}#alohaBuyBoxUS_feature_div .alohaBuyboxUtilsNoWrap{white-space:nowrap}.hidden{display:none}.simo-no-padding{padding:0}.carrier-reviews-cell{padding-left:10px}.carrier-reviews-bordered-cell{border:1px dotted #ccc}.carrier-reviews-selected-cell{background-color:#ffd}#aloha-carrier-compatibility-modal-table-description{margin-top:10px;margin-bottom:14px}.aloha-carrier-compatibility-sortable-header.carrier{min-width:97px}.aloha-carrier-compatibility-sortable-header.compatibility{min-width:156px}.aloha-carrier-compatibility-sortable-header div{float:left}.aloha-carrier-compatibility-sortable-header i.a-icon{margin-left:10px;margin-top:4px}#aloha-carrier-compatibility-overview-table.a-bordered.a-vertical-stripes td:nth-child(2n),#aloha-carrier-compatibility-overview-table.a-bordered.a-vertical-stripes th:nth-child(2n){background-color:initial}#aloha-carrier-compatibility-modal-table.a-bordered.a-vertical-stripes td:nth-child(2n),#aloha-carrier-compatibility-modal-table.a-bordered.a-vertical-stripes th:nth-child(2n){background-color:initial}#aloha-carrier-compatibility-table.a-bordered.a-vertical-stripes th:nth-child(2n),.aloha-carrier-compatibility-table.a-bordered.a-vertical-stripes td:nth-child(2n){background-color:transparent}.aloha-carrier-compatibility-column-gray{background-color:#f6f6f6}.aloha-carrier-compatibility-modal-table-row .aloha-carrier-compatibility-tech-text,.aloha-carrier-compatibility-modal-table-row .carrier-name,.aloha-carrier-compatibility-modal-table-row .carrier-rating-summary{min-height:27px;display:inline-block;cursor:default}.aloha-carrier-compatibility-modal-table-row .aloha-carrier-compatibility-tech-text:first-line,.aloha-carrier-compatibility-modal-table-row .carrier-name:first-line,.aloha-carrier-compatibility-modal-table-row .carrier-rating-summary:first-line{line-height:27px}.aloha-carrier-compatibility-modal-table-row .aloha-carrier-compatibility-icon{margin-top:6px}.aloha-carrier-compatibility-check-icon{width:30px;height:27px;background-position:-318px -35px;background-image:url(https://images-na.ssl-images-amazon.com/images/G/01/AUIClients/AmazonUIBaseCSS-sprite_2x-8e7ef370dc28a214b3f490c9620f4ac501d5a864._V2_.png);background-repeat:no-repeat;background-size:400px 650px;display:inline-block;vertical-align:top}.aloha-carrier-compatibility-hidden{display:none}.aloha-buybox-spaced-link{margin-top:12px;margin-bottom:7px;text-align:center}.popover-tab",
         "0005069491",
         "[]",
         "[]",
         null,
         "0",
         "[]"
        ],
        [
         "3",
         "['Toys & Games', 'Games', 'Card Games']",
         null,
         "['Blitz Vintage Card Game']",
         null,
         "Dutch Blitz Card Game",
         "['B00WIIPQEC']",
         null,
         "Dutch Blitz Games Co",
         "[]",
         "['>#376,337 in Toys & Games (See Top 100 in Toys & Games)', '>#4,037 in Toys & Games > Games > Card Games']",
         "['B000BBU0KS', 'B00NQQTZ5G', 'B00WIIPQEC', 'B001VIWAO4', 'B004MU9V8Q', 'B00000IWD6', 'B003GZH0SG', 'B0037W5Y2W', 'B078T9WW2X', 'B001UK509U', 'B00JJ4PNHI', 'B07GX5W723', 'B016715XXY', 'B0077Q0NP2', 'B00G7S4V54', 'B003KTPO0Y', 'B003ZZUYIK', 'B00E4H14RI', 'B00000IV35', 'B002TBFVV6', 'B00336128W', 'B06XHFQ34D', 'B01FLADSZM', 'B06XHFMRP9', 'B007EVA3KA', 'B00GM3VXVE', 'B01JMYP3QK', 'B01CPQD4YK', 'B075HQSLDF', 'B01N5SGEEI', 'B07GY47S23', 'B01N9UVRZS', 'B01NAWDCO8', 'B01DPW4ZJ6', 'B01M4LXIRS', 'B01DPW2RCI', 'B01N7VDK9D', 'B01N5SGHOI', 'B01D5GFBMW', 'B0047QI500', 'B06XHX47FP', 'B06XHTW9R2', 'B078RGQL5B', 'B07GFVLRQW', 'B01MFEH9DO', 'B01HQZ99US', 'B078RHG711', 'B0747L8SV6', 'B07CG5D843', 'B00DZ1AZL0', 'B014Q1XX9S', 'B00I45GN5E', 'B015QBOOZE', 'B001FVPS0K', 'B004YNRHVO', 'B00000IT4A', 'B00004TZY8', 'B07FHL8GZ3', 'B07C73LM2G']",
         "Toys & Games",
         " class=\"a-bordered a-horizontal-stripes  a-spacing-extra-large a-size-base comparison_table\">\n\n\n\n            \n            \n            \n            \n            \n            <tr class=\"comparison_table_image_row\">\n                <td class=\"comparison_table_first_col\"></td>\n\n\n                <th class=\"comparison_image_title_cell\" role=\"columnheader\">\n                    <div class=\"a-row a-spacing-top-micro\">\n                        <center>\n                             <img alt=\"Dutch Blitz Card Game\" src=\"https://images-na.ssl-images-amazon.com/images/I/61CJ22DDWPL._SL500_AC_SS350_.jpg\" id=\"comparison_image\">\n                        </center>\n                    </div>\n                    <div class=\"a-row a-spacing-top-small\">\n                        <div id=\"comparison_title\" class=\"a-section a-spacing-none\">\n                            <span aria-hidden=\"true\" class=\"a-size-base a-color-base a-text-bold\">\n                                This item\n                            </span>\n                            <span aria-hidden=\"true\" class=\"a-size-base a-color-base\">Dutch Blitz Card Game</span>\n                        </div>\n                        \n                        \n                    </div>\n                </th>\n\n\n                \n                    <th class=\"comparison_image_title_cell comparable_item0\" role=\"columnheader\">\n                        <a class=\"a-link-normal\" target=\"_self\" rel=\"noopener\" href=\"/dp/B000BBU0KS/ref=psdc_166239011_t1_0004983289\">\n                          <div class=\"a-row a-spacing-top-micro\">\n                            <center>\n                                <img alt=\"\" src=\"https://images-na.ssl-images-amazon.com/images/I/51NSTYumQwL._SL500_AC_SS350_.jpg\" aria-hidden=\"true\" id=\"comparison_image0\">\n                            </center>\n                          </div>\n                          <div id=\"comparison_title0\" class=\"a-row a-spacing-top-small\">\n                            <span class=\"a-size-base\">Dutch Blitz</span>\n                          </div>\n                        </a>\n                        \n                        \n                    </th>\n                \n                    <th class=\"comparison_image_title_cell comparable_item1\" role=\"columnheader\">\n                        <a class=\"a-link-normal\" target=\"_self\" rel=\"noopener\" href=\"/dp/B00WIIPQEC/ref=psdc_166239011_t2_0004983289\">\n                          <div class=\"a-row a-spacing-top-micro\">\n                            <center>\n                                <img alt=\"\" src=\"https://images-na.ssl-images-amazon.com/images/I/51j0R-KuldL._SL500_AC_SS350_.jpg\" aria-hidden=\"true\" id=\"comparison_image1\">\n                            </center>\n                          </div>\n                          <div id=\"comparison_title1\" class=\"a-row a-spacing-top-small\">\n                            <span class=\"a-size-base\">Dutch Blitz Original and Expansion Pack Set Card Game</span>\n                          </div>\n                        </a>\n                        \n                        \n                    </th>\n                \n                    <th class=\"comparison_image_title_cell comparable_item2\" role=\"columnheader\">\n                        <a class=\"a-link-normal\" target=\"_self\" rel=\"noopener\" href=\"/dp/B001VIWAO4/ref=psdc_166239011_t3_0004983289\">\n                          <div class=\"a-row a-spacing-top-micro\">\n                            <center>\n                                <img alt=\"\" src=\"https://images-na.ssl-images-amazon.com/images/I/41uX0j4rpoL._SL500_AC_SS350_.jpg\" aria-hidden=\"true\" id=\"comparison_image2\">\n                            </center>\n                          </div>\n                          <div id=\"comparison_title2\" class=\"a-row a-spacing-top-small\">\n                            <span class=\"a-size-base\">Rook Card Game by Hasbro</span>\n                          </div>\n                        </a>\n                        \n                        \n                    </th>\n                \n                    <th class=\"comparison_image_title_cell comparable_item3\" role=\"columnheader\">\n                        <a class=\"a-link-normal\" target=\"_self\" rel=\"noopener\" href=\"/dp/B0077Q0NP2/ref=psdc_166239011_t4_0004983289\">\n                          <div class=\"a-row a-spacing-top-micro\">\n                            <center>\n                                <img alt=\"\" src=\"https://images-na.ssl-images-amazon.com/images/I/61Qpj1qEzhL._SL500_AC_SS350_.jpg\" aria-hidden=\"true\" id=\"comparison_image3\">\n                            </center>\n                          </div>\n                          <div id=\"comparison_title3\" class=\"a-row a-spacing-top-small\">\n                            <span class=\"a-size-base\">Grandpa Beck's Cover Your Assets: From the creators of Skull King and The Bears and The Bees</span>\n                          </div>\n                        </a>\n                        \n                        \n                    </th>\n                \n            </tr>\n\n\n            <tr></tr>\n\n\n            \n            \n            <tr>\n                <td class=\"comparison_table_first_col\"></td>\n\n\n                <td class=\"comparison_add_to_cart_button\">\n                    \n                        \n                        \n                        \n                            <span id=\"comparison_add_to_cart_button\" class=\"a-button a-spacing-small a-button-primary\"><span class=\"a-button-inner\"><a id=\"comparison_add_to_cart_button-announce\" href=\"/gp/item-dispatch/ref=psdc_166239011_a0_0004983289?ie=UTF8&amp;itemCount=1&amp;nodeID=165793011&amp;offeringID.1=sTP%252B5DRCg2ZadhJW60T7qXgw2urEOt%252ByIOU8N8Ue7y%252FjQG84ycAy07gqFZPoDNm2VVmjI2bncDBWeQX5AQ1IIrfr9Nj8wLbg3L%252Fm4W%252FRRlsxUFFCulnCYYzHwAvWm5VZITA7f%252BUMez6FyrQOQTf13VhCnzB6l2sI&amp;storeID=toys-and-games&amp;session-id=131-5516420-8139405&amp;submit.addToCart=addToCart&amp;signInToHUC=0\" class=\"a-button-text\" role=\"button\">Add to Cart</a></span></span>\n                        \n                    \n                </td>\n\n\n                \n                    <td class=\"a-text-left comparison_add_to_cart_button comparable_item0\">\n                        \n                            \n                            \n                                <span id=\"comparison_add_to_cart_button0\" class=\"a-button a-spacing-small a-button-primary\"><span class=\"a-button-inner\"><a id=\"comparison_add_to_cart_button0-announce\" href=\"/gp/item-dispatch/ref=psdc_166239011_a1_0004983289?ie=UTF8&amp;itemCount=1&amp;nodeID=165793011&amp;offeringID.1=sTP%252B5DRCg2b3LvncsokOZbXGthnGFiX9WD3AcFiCvPBpWCUjCWtdVarU76%252BSaTVRHr7HiFpxDjn9WuWpNWf6GnhezGdKXHYHTBCNjTLOmLEz63ItYcWNJw%253D%253D&amp;storeID=toys-and-games&amp;session-id=131-5516420-8139405&amp;submit.addToCart=addToCart&amp;signInToHUC=0\" class=\"a-button-text\" role=\"button\">Add to Cart</a></span></span>\n                            \n                        \n                    </td>\n                \n                    <td class=\"a-text-left comparison_add_to_cart_button comparable_item1\">\n                        \n                            \n                            \n                                <span id=\"comparison_add_to_cart_button1\" class=\"a-button a-spacing-small a-button-primary\"><span class=\"a-button-inner\"><a id=\"comparison_add_to_cart_button1-announce\" href=\"/gp/item-dispatch/ref=psdc_166239011_a2_0004983289?ie=UTF8&amp;itemCount=1&amp;nodeID=165793011&amp;offeringID.1=sTP%252B5DRCg2b3LvncsokOZYIevlcI1VWZ0Z%252FCGR1V8rNzQN8v9XQEKIxwPvDz4Tjipbf6uPKKEcE%252Bv%252Be8sODGCUyaEwqHk%252BwJMvqYkHmrwFESkhxQx%252Bm%252FqA%253D%253D&amp;storeID=toys-and-games&amp;session-id=131-5516420-8139405&amp;submit.addToCart=addToCart&amp;signInToHUC=0\" class=\"a-button-text\" role=\"button\">Add to Cart</a></span></span>\n                            \n                        \n                    </td>\n                \n                    <td class=\"a-text-left comparison_add_to_cart_button comparable_item2\">\n                        \n                            \n                            \n                                <span id=\"comparison_add_to_cart_button2\" class=\"a-button a-spacing-small a-button-primary\"><span class=\"a-button-inner\"><a id=\"comparison_add_to_cart_button2-announce\" href=\"/gp/item-dispatch/ref=psdc_166239011_a3_0004983289?ie=UTF8&amp;itemCount=1&amp;nodeID=165793011&amp;offeringID.1=FLHrQk84Z%252FfDBWeiyLzOqAVpPkTUfcUYdK0oaUEl%252BWtWSe6Hbh%252FkqhTFlAU7kQq2pnX%252By7F7SSaYBcmAdLsOIeDuroAcTTt1p0lVcwa1DXqURk1muFdgHHTsv7ZjFobXC49kMlVHaZ%252FFakWJ0tNPJg%253D%253D&amp;storeID=toys-and-games&amp;session-id=131-5516420-8139405&amp;submit.addToCart=addToCart&amp;signInToHUC=0\" class=\"a-button-text\" role=\"button\">Add to Cart</a></span></span>\n                            \n                        \n                    </td>\n                \n                    <td class=\"a-text-left comparison_add_to_cart_button comparable_item3\">\n                        \n                            \n                            \n                                <span id=\"comparison_add_to_cart_button3\" class=\"a-button a-spacing-small a-button-primary\"><span class=\"a-button-inner\"><a id=\"comparison_add_to_cart_button3-announce\" href=\"/gp/item-dispatch/ref=psdc_166239011_a4_0004983289?ie=UTF8&amp;itemCount=1&amp;nodeID=165793011&amp;offeringID.1=EN7IeGBuw5kReKzNTnPTe8eBfrvkKeBRRIAsj0se0rWVKfKsgV2NeOnu6y7RJ1uY3C%252ByCI9MBP%252BeA1i5tdPjKEGiEjNEntazUfBSPhc6Tz7Z7LMoh1yY4xPiyDkdlwwm%252F4XE793X3eNvJqMJeDbNxw%253D%253D&amp;storeID=toys-and-games&amp;session-id=131-5516420-8139405&amp;submit.addToCart=addToCart&amp;signInToHUC=0\" class=\"a-button-text\" role=\"button\">Add to Cart</a></span></span>\n                            \n                        \n                    </td>\n                \n            </tr>\n\n\n            <tr id=\"comparison_custormer_rating_row\">\n                \n                \n                \n                \n\n                <th class=\"comparison_attribute_name_column comparison_table_first_col\" role=\"rowheader\">\n                    <span class=\"a-size-base a-color-base\">Customer Rating</span>\n                </th>\n\n\n                <td class=\"comparison_baseitem_column\">\n                    \n                    \n                    \n                    <span>\n                        <span class=\"a-declarative\" data-action=\"a-popover\" data-a-popover=\"{&quot;max-width&quot;:&quot;700&quot;,&quot;closeButton&quot;:&quot;false&quot;,&quot;position&quot;:&quot;triggerBottom&quot;,&quot;url&quot;:&quot; /gp/customer-reviews/widgets/average-customer-review/popover/ref=acr_dpComparsion__popover?contextId=dpComparsion&amp;asin=0004983289 &quot;,&quot;restoreFocusOnHide&quot;:&quot;false&quot;}\">\n                            <i class=\"a-icon a-icon-star a-star-5 a-spacing-none\"><span class=\"a-icon-alt\">5 out of 5 stars</span></i>\n                        </span>\n                        <a class=\"a-link-normal\" target=\"_self\" rel=\"noopener\" href=\"/product-reviews/0004983289/ref=psdc_166239011_r0_0004983289?_encoding=UTF8&amp;showViewpoints=1\">(5)</a>\n                        <span class=\"a-letter-space\"></span>\n                    </span>\n                </td>\n\n\n                \n                    <td class=\"comparison_sim_items_column comparable_item0\">\n                        \n                        \n                        \n                        <span>\n                            <span class=\"a-declarative\" data-action=\"a-popover\" data-a-popover=\"{&quot;max-width&quot;:&quot;700&quot;,&quot;closeButton&quot;:&quot;false&quot;,&quot;position&quot;:&quot;triggerBottom&quot;,&quot;url&quot;:&quot; /gp/customer-reviews/widgets/average-customer-review/popover/ref=acr_dpComparsion__popover?contextId=dpComparsion&amp;asin=B000BBU0KS &quot;,&quot;restoreFocusOnHide&quot;:&quot;false&quot;}\">\n                                <i class=\"a-icon a-icon-star a-star-5 a-spacing-none\"><span class=\"a-icon-alt\">5 out of 5 stars</span></i>\n                            </span>\n                            <a class=\"a-link-normal\" target=\"_self\" rel=\"noopener\" href=\"/product-reviews/B000BBU0KS/ref=psdc_166239011_r1_0004983289?_encoding=UTF8&amp;showViewpoints=1\">(1125)</a>\n                            <span class=\"a-letter-space\"></span>\n                        </span>\n                    </td>\n                \n                    <td class=\"comparison_sim_items_column comparable_item1\">\n                        \n                        \n                        \n                        <span>\n                            <span class=\"a-declarative\" data-action=\"a-popover\" data-a-popover=\"{&quot;max-width&quot;:&quot;700&quot;,&quot;closeButton&quot;:&quot;false&quot;,&quot;position&quot;:&quot;triggerBottom&quot;,&quot;url&quot;:&quot; /gp/customer-reviews/widgets/average-customer-review/popover/ref=acr_dpComparsion__popover?contextId=dpComparsion&amp;asin=B00WIIPQEC &quot;,&quot;restoreFocusOnHide&quot;:&quot;false&quot;}\">\n                                <i class=\"a-icon a-icon-star a-star-5 a-spacing-none\"><span class=\"a-icon-alt\">5 out of 5 stars</span></i>\n                            </span>\n                            <a class=\"a-link-normal\" target=\"_self\" rel=\"noopener\" href=\"/product-reviews/B00WIIPQEC/ref=psdc_166239011_r2_0004983289?_encoding=UTF8&amp;showViewpoints=1\">(370)</a>\n                            <span class=\"a-letter-space\"></span>\n                        </span>\n                    </td>\n                \n                    <td class=\"comparison_sim_items_column comparable_item2\">\n                        \n                        \n                        \n                        <span>\n                            <span class=\"a-declarative\" data-action=\"a-popover\" data-a-popover=\"{&quot;max-width&quot;:&quot;700&quot;,&quot;closeButton&quot;:&quot;false&quot;,&quot;position&quot;:&quot;triggerBottom&quot;,&quot;url&quot;:&quot; /gp/customer-reviews/widgets/average-customer-review/popover/ref=acr_dpComparsion__popover?contextId=dpComparsion&amp;asin=B001VIWAO4 &quot;,&quot;restoreFocusOnHide&quot;:&quot;false&quot;}\">\n                                <i class=\"a-icon a-icon-star a-star-4 a-spacing-none\"><span class=\"a-icon-alt\">4 out of 5 stars</span></i>\n                            </span>\n                            <a class=\"a-link-normal\" target=\"_self\" rel=\"noopener\" href=\"/product-reviews/B001VIWAO4/ref=psdc_166239011_r3_0004983289?_encoding=UTF8&amp;showViewpoints=1\">(203)</a>\n                            <span class=\"a-letter-space\"></span>\n                        </span>\n                    </td>\n                \n                    <td class=\"comparison_sim_items_column comparable_item3\">\n                        \n                        \n                        \n                        <span>\n                            <span class=\"a-declarative\" data-action=\"a-popover\" data-a-popover=\"{&quot;max-width&quot;:&quot;700&quot;,&quot;closeButton&quot;:&quot;false&quot;,&quot;position&quot;:&quot;triggerBottom&quot;,&quot;url&quot;:&quot; /gp/customer-reviews/widgets/average-customer-review/popover/ref=acr_dpComparsion__popover?contextId=dpComparsion&amp;asin=B0077Q0NP2 &quot;,&quot;restoreFocusOnHide&quot;:&quot;false&quot;}\">\n                                <i class=\"a-icon a-icon-star a-star-5 a-spacing-none\"><span class=\"a-icon-alt\">5 out of 5 stars</span></i>\n                            </span>\n                            <a class=\"a-link-normal\" target=\"_self\" rel=\"noopener\" href=\"/product-reviews/B0077Q0NP2/ref=psdc_166239011_r4_0004983289?_encoding=UTF8&amp;showViewpoints=1\">(1251)</a>\n                            <span class=\"a-letter-space\"></span>\n                        </span>\n                    </td>\n                \n            </tr>\n\n\n            <tr id=\"comparison_price_row\">\n                <th class=\"comparison_attribute_name_column comparison_table_first_col\" role=\"rowheader\">\n                    <span class=\"a-size-base a-color-base\">Price</span>\n                </th>\n\n\n                <td class=\"comparison_baseitem_column\">\n                    \n                        \n                        \n                        \n                        \n                            \n                                \n                                    <span class=\"a-price\" data-a-size=\"l\" data-a-color=\"base\"><span class=\"a-offscreen\">$24.95</span><span aria-hidden=\"true\"><span class=\"a-price-symbol\">$</span><span class=\"a-price-whole\">24<span class=\"a-price-decimal\">",
         null,
         "$24.95",
         "0004983289",
         "[]",
         "[]",
         null,
         "0",
         "[]"
        ],
        [
         "4",
         "[]",
         null,
         "['Marvel SuperHeroes themed \"magic ink\" coloring book.\\nFor ages 3 and up.']",
         null,
         "Magic Pen Painting (Marvel Super Heroes)",
         "['B009SB7TI8', 'B009SB8Z1I']",
         null,
         "Lee Publications",
         "[]",
         "['>#934,954 in Toys & Games (See Top 100 in Toys & Games)']",
         "[]",
         "Toys & Games",
         null,
         null,
         "$4.92",
         "0006466222",
         "[]",
         "[]",
         null,
         "0",
         "[]"
        ]
       ],
       "shape": {
        "columns": 21,
        "rows": 5
       }
      },
      "text/html": [
       "<div>\n",
       "<style scoped>\n",
       "    .dataframe tbody tr th:only-of-type {\n",
       "        vertical-align: middle;\n",
       "    }\n",
       "\n",
       "    .dataframe tbody tr th {\n",
       "        vertical-align: top;\n",
       "    }\n",
       "\n",
       "    .dataframe thead th {\n",
       "        text-align: right;\n",
       "    }\n",
       "</style>\n",
       "<table border=\"1\" class=\"dataframe\">\n",
       "  <thead>\n",
       "    <tr style=\"text-align: right;\">\n",
       "      <th></th>\n",
       "      <th>category</th>\n",
       "      <th>tech1</th>\n",
       "      <th>description</th>\n",
       "      <th>fit</th>\n",
       "      <th>title</th>\n",
       "      <th>also_buy</th>\n",
       "      <th>tech2</th>\n",
       "      <th>brand</th>\n",
       "      <th>feature</th>\n",
       "      <th>rank</th>\n",
       "      <th>...</th>\n",
       "      <th>main_cat</th>\n",
       "      <th>similar_item</th>\n",
       "      <th>date</th>\n",
       "      <th>price</th>\n",
       "      <th>asin</th>\n",
       "      <th>imageURL</th>\n",
       "      <th>imageURLHighRes</th>\n",
       "      <th>details</th>\n",
       "      <th>match</th>\n",
       "      <th>incident_indices</th>\n",
       "    </tr>\n",
       "  </thead>\n",
       "  <tbody>\n",
       "    <tr>\n",
       "      <th>0</th>\n",
       "      <td>['Toys &amp; Games', 'Puzzles', 'Jigsaw Puzzles']</td>\n",
       "      <td>NaN</td>\n",
       "      <td>[\"Three Dr. Suess' Puzzles: Green Eggs and Ham...</td>\n",
       "      <td>NaN</td>\n",
       "      <td>Dr. Suess 19163 Dr. Seuss Puzzle 3 Pack Bundle</td>\n",
       "      <td>[]</td>\n",
       "      <td>NaN</td>\n",
       "      <td>Dr. Seuss</td>\n",
       "      <td>['Three giant floor puzzles', 'Includes: Dr. S...</td>\n",
       "      <td>['&gt;#2,230,717 in Toys &amp; Games (See Top 100 in ...</td>\n",
       "      <td>...</td>\n",
       "      <td>Toys &amp; Games</td>\n",
       "      <td>NaN</td>\n",
       "      <td>NaN</td>\n",
       "      <td>NaN</td>\n",
       "      <td>0000191639</td>\n",
       "      <td>['https://images-na.ssl-images-amazon.com/imag...</td>\n",
       "      <td>['https://images-na.ssl-images-amazon.com/imag...</td>\n",
       "      <td>NaN</td>\n",
       "      <td>0</td>\n",
       "      <td>[]</td>\n",
       "    </tr>\n",
       "    <tr>\n",
       "      <th>1</th>\n",
       "      <td>[]</td>\n",
       "      <td>NaN</td>\n",
       "      <td>['&lt;b&gt;Prepare to be Afraid!&lt;/b&gt;&lt;br /&gt;&lt;br /&gt;The ...</td>\n",
       "      <td>NaN</td>\n",
       "      <td>Pathfinder: Book of Beasts - Legendary Foes</td>\n",
       "      <td>[]</td>\n",
       "      <td>NaN</td>\n",
       "      <td>Pathfinder Roleplaying Jon Brazer Productions</td>\n",
       "      <td>[]</td>\n",
       "      <td>['&gt;#2,294,535 in Toys &amp; Games (See Top 100 in ...</td>\n",
       "      <td>...</td>\n",
       "      <td>Toys &amp; Games</td>\n",
       "      <td>NaN</td>\n",
       "      <td>NaN</td>\n",
       "      <td>.a-box-inner{background-color:#fff}#alohaBuyBo...</td>\n",
       "      <td>0004950763</td>\n",
       "      <td>[]</td>\n",
       "      <td>[]</td>\n",
       "      <td>NaN</td>\n",
       "      <td>0</td>\n",
       "      <td>[]</td>\n",
       "    </tr>\n",
       "    <tr>\n",
       "      <th>2</th>\n",
       "      <td>[]</td>\n",
       "      <td>NaN</td>\n",
       "      <td>[]</td>\n",
       "      <td>NaN</td>\n",
       "      <td>Nursery Rhymes Felt Book</td>\n",
       "      <td>[]</td>\n",
       "      <td>NaN</td>\n",
       "      <td>Betty Lukens</td>\n",
       "      <td>[]</td>\n",
       "      <td>['&gt;#2,871,983 in Toys &amp; Games (See Top 100 in ...</td>\n",
       "      <td>...</td>\n",
       "      <td>Toys &amp; Games</td>\n",
       "      <td>NaN</td>\n",
       "      <td>NaN</td>\n",
       "      <td>.a-box-inner{background-color:#fff}#alohaBuyBo...</td>\n",
       "      <td>0005069491</td>\n",
       "      <td>[]</td>\n",
       "      <td>[]</td>\n",
       "      <td>NaN</td>\n",
       "      <td>0</td>\n",
       "      <td>[]</td>\n",
       "    </tr>\n",
       "    <tr>\n",
       "      <th>3</th>\n",
       "      <td>['Toys &amp; Games', 'Games', 'Card Games']</td>\n",
       "      <td>NaN</td>\n",
       "      <td>['Blitz Vintage Card Game']</td>\n",
       "      <td>NaN</td>\n",
       "      <td>Dutch Blitz Card Game</td>\n",
       "      <td>['B00WIIPQEC']</td>\n",
       "      <td>NaN</td>\n",
       "      <td>Dutch Blitz Games Co</td>\n",
       "      <td>[]</td>\n",
       "      <td>['&gt;#376,337 in Toys &amp; Games (See Top 100 in To...</td>\n",
       "      <td>...</td>\n",
       "      <td>Toys &amp; Games</td>\n",
       "      <td>class=\"a-bordered a-horizontal-stripes  a-spa...</td>\n",
       "      <td>NaN</td>\n",
       "      <td>$24.95</td>\n",
       "      <td>0004983289</td>\n",
       "      <td>[]</td>\n",
       "      <td>[]</td>\n",
       "      <td>NaN</td>\n",
       "      <td>0</td>\n",
       "      <td>[]</td>\n",
       "    </tr>\n",
       "    <tr>\n",
       "      <th>4</th>\n",
       "      <td>[]</td>\n",
       "      <td>NaN</td>\n",
       "      <td>['Marvel SuperHeroes themed \"magic ink\" colori...</td>\n",
       "      <td>NaN</td>\n",
       "      <td>Magic Pen Painting (Marvel Super Heroes)</td>\n",
       "      <td>['B009SB7TI8', 'B009SB8Z1I']</td>\n",
       "      <td>NaN</td>\n",
       "      <td>Lee Publications</td>\n",
       "      <td>[]</td>\n",
       "      <td>['&gt;#934,954 in Toys &amp; Games (See Top 100 in To...</td>\n",
       "      <td>...</td>\n",
       "      <td>Toys &amp; Games</td>\n",
       "      <td>NaN</td>\n",
       "      <td>NaN</td>\n",
       "      <td>$4.92</td>\n",
       "      <td>0006466222</td>\n",
       "      <td>[]</td>\n",
       "      <td>[]</td>\n",
       "      <td>NaN</td>\n",
       "      <td>0</td>\n",
       "      <td>[]</td>\n",
       "    </tr>\n",
       "  </tbody>\n",
       "</table>\n",
       "<p>5 rows × 21 columns</p>\n",
       "</div>"
      ],
      "text/plain": [
       "                                        category tech1  \\\n",
       "0  ['Toys & Games', 'Puzzles', 'Jigsaw Puzzles']   NaN   \n",
       "1                                             []   NaN   \n",
       "2                                             []   NaN   \n",
       "3        ['Toys & Games', 'Games', 'Card Games']   NaN   \n",
       "4                                             []   NaN   \n",
       "\n",
       "                                         description  fit  \\\n",
       "0  [\"Three Dr. Suess' Puzzles: Green Eggs and Ham...  NaN   \n",
       "1  ['<b>Prepare to be Afraid!</b><br /><br />The ...  NaN   \n",
       "2                                                 []  NaN   \n",
       "3                        ['Blitz Vintage Card Game']  NaN   \n",
       "4  ['Marvel SuperHeroes themed \"magic ink\" colori...  NaN   \n",
       "\n",
       "                                            title  \\\n",
       "0  Dr. Suess 19163 Dr. Seuss Puzzle 3 Pack Bundle   \n",
       "1     Pathfinder: Book of Beasts - Legendary Foes   \n",
       "2                        Nursery Rhymes Felt Book   \n",
       "3                           Dutch Blitz Card Game   \n",
       "4        Magic Pen Painting (Marvel Super Heroes)   \n",
       "\n",
       "                       also_buy  tech2  \\\n",
       "0                            []    NaN   \n",
       "1                            []    NaN   \n",
       "2                            []    NaN   \n",
       "3                ['B00WIIPQEC']    NaN   \n",
       "4  ['B009SB7TI8', 'B009SB8Z1I']    NaN   \n",
       "\n",
       "                                           brand  \\\n",
       "0                                      Dr. Seuss   \n",
       "1  Pathfinder Roleplaying Jon Brazer Productions   \n",
       "2                                   Betty Lukens   \n",
       "3                           Dutch Blitz Games Co   \n",
       "4                               Lee Publications   \n",
       "\n",
       "                                             feature  \\\n",
       "0  ['Three giant floor puzzles', 'Includes: Dr. S...   \n",
       "1                                                 []   \n",
       "2                                                 []   \n",
       "3                                                 []   \n",
       "4                                                 []   \n",
       "\n",
       "                                                rank  ...      main_cat  \\\n",
       "0  ['>#2,230,717 in Toys & Games (See Top 100 in ...  ...  Toys & Games   \n",
       "1  ['>#2,294,535 in Toys & Games (See Top 100 in ...  ...  Toys & Games   \n",
       "2  ['>#2,871,983 in Toys & Games (See Top 100 in ...  ...  Toys & Games   \n",
       "3  ['>#376,337 in Toys & Games (See Top 100 in To...  ...  Toys & Games   \n",
       "4  ['>#934,954 in Toys & Games (See Top 100 in To...  ...  Toys & Games   \n",
       "\n",
       "                                        similar_item date  \\\n",
       "0                                                NaN  NaN   \n",
       "1                                                NaN  NaN   \n",
       "2                                                NaN  NaN   \n",
       "3   class=\"a-bordered a-horizontal-stripes  a-spa...  NaN   \n",
       "4                                                NaN  NaN   \n",
       "\n",
       "                                               price        asin  \\\n",
       "0                                                NaN  0000191639   \n",
       "1  .a-box-inner{background-color:#fff}#alohaBuyBo...  0004950763   \n",
       "2  .a-box-inner{background-color:#fff}#alohaBuyBo...  0005069491   \n",
       "3                                             $24.95  0004983289   \n",
       "4                                              $4.92  0006466222   \n",
       "\n",
       "                                            imageURL  \\\n",
       "0  ['https://images-na.ssl-images-amazon.com/imag...   \n",
       "1                                                 []   \n",
       "2                                                 []   \n",
       "3                                                 []   \n",
       "4                                                 []   \n",
       "\n",
       "                                     imageURLHighRes details  match  \\\n",
       "0  ['https://images-na.ssl-images-amazon.com/imag...     NaN      0   \n",
       "1                                                 []     NaN      0   \n",
       "2                                                 []     NaN      0   \n",
       "3                                                 []     NaN      0   \n",
       "4                                                 []     NaN      0   \n",
       "\n",
       "   incident_indices  \n",
       "0                []  \n",
       "1                []  \n",
       "2                []  \n",
       "3                []  \n",
       "4                []  \n",
       "\n",
       "[5 rows x 21 columns]"
      ]
     },
     "execution_count": 2,
     "metadata": {},
     "output_type": "execute_result"
    }
   ],
   "source": [
    "import pandas as pd\n",
    "\n",
    "# Go up one level, then into Data/\n",
    "df = pd.read_csv('../Data/amazon_merged.csv',nrows=1000)\n",
    "\n",
    "# Check it's loaded\n",
    "print(df.shape)\n",
    "df.head()\n"
   ]
  },
  {
   "cell_type": "code",
   "execution_count": 3,
   "id": "2e102c69",
   "metadata": {},
   "outputs": [
    {
     "name": "stdout",
     "output_type": "stream",
     "text": [
      "⚠️ Found 0 ASINs with both 0 and 1 in 'matches'.\n"
     ]
    },
    {
     "data": {
      "application/vnd.microsoft.datawrangler.viewer.v0+json": {
       "columns": [
        {
         "name": "index",
         "rawType": "int64",
         "type": "integer"
        },
        {
         "name": "category",
         "rawType": "object",
         "type": "string"
        },
        {
         "name": "tech1",
         "rawType": "object",
         "type": "string"
        },
        {
         "name": "description",
         "rawType": "object",
         "type": "string"
        },
        {
         "name": "fit",
         "rawType": "float64",
         "type": "float"
        },
        {
         "name": "title",
         "rawType": "object",
         "type": "string"
        },
        {
         "name": "also_buy",
         "rawType": "object",
         "type": "string"
        },
        {
         "name": "tech2",
         "rawType": "float64",
         "type": "float"
        },
        {
         "name": "brand",
         "rawType": "object",
         "type": "string"
        },
        {
         "name": "feature",
         "rawType": "object",
         "type": "string"
        },
        {
         "name": "rank",
         "rawType": "object",
         "type": "string"
        },
        {
         "name": "also_view",
         "rawType": "object",
         "type": "string"
        },
        {
         "name": "main_cat",
         "rawType": "object",
         "type": "string"
        },
        {
         "name": "similar_item",
         "rawType": "object",
         "type": "string"
        },
        {
         "name": "date",
         "rawType": "object",
         "type": "string"
        },
        {
         "name": "price",
         "rawType": "object",
         "type": "string"
        },
        {
         "name": "asin",
         "rawType": "object",
         "type": "string"
        },
        {
         "name": "imageURL",
         "rawType": "object",
         "type": "string"
        },
        {
         "name": "imageURLHighRes",
         "rawType": "object",
         "type": "string"
        },
        {
         "name": "details",
         "rawType": "float64",
         "type": "float"
        },
        {
         "name": "match",
         "rawType": "int64",
         "type": "integer"
        },
        {
         "name": "incident_indices",
         "rawType": "object",
         "type": "string"
        }
       ],
       "ref": "2f337ec5-ab04-4126-8a0e-ba7dde7f0900",
       "rows": [],
       "shape": {
        "columns": 21,
        "rows": 0
       }
      },
      "text/html": [
       "<div>\n",
       "<style scoped>\n",
       "    .dataframe tbody tr th:only-of-type {\n",
       "        vertical-align: middle;\n",
       "    }\n",
       "\n",
       "    .dataframe tbody tr th {\n",
       "        vertical-align: top;\n",
       "    }\n",
       "\n",
       "    .dataframe thead th {\n",
       "        text-align: right;\n",
       "    }\n",
       "</style>\n",
       "<table border=\"1\" class=\"dataframe\">\n",
       "  <thead>\n",
       "    <tr style=\"text-align: right;\">\n",
       "      <th></th>\n",
       "      <th>category</th>\n",
       "      <th>tech1</th>\n",
       "      <th>description</th>\n",
       "      <th>fit</th>\n",
       "      <th>title</th>\n",
       "      <th>also_buy</th>\n",
       "      <th>tech2</th>\n",
       "      <th>brand</th>\n",
       "      <th>feature</th>\n",
       "      <th>rank</th>\n",
       "      <th>...</th>\n",
       "      <th>main_cat</th>\n",
       "      <th>similar_item</th>\n",
       "      <th>date</th>\n",
       "      <th>price</th>\n",
       "      <th>asin</th>\n",
       "      <th>imageURL</th>\n",
       "      <th>imageURLHighRes</th>\n",
       "      <th>details</th>\n",
       "      <th>match</th>\n",
       "      <th>incident_indices</th>\n",
       "    </tr>\n",
       "  </thead>\n",
       "  <tbody>\n",
       "  </tbody>\n",
       "</table>\n",
       "<p>0 rows × 21 columns</p>\n",
       "</div>"
      ],
      "text/plain": [
       "Empty DataFrame\n",
       "Columns: [category, tech1, description, fit, title, also_buy, tech2, brand, feature, rank, also_view, main_cat, similar_item, date, price, asin, imageURL, imageURLHighRes, details, match, incident_indices]\n",
       "Index: []\n",
       "\n",
       "[0 rows x 21 columns]"
      ]
     },
     "execution_count": 3,
     "metadata": {},
     "output_type": "execute_result"
    }
   ],
   "source": [
    "import pandas as pd\n",
    "\n",
    "# Assume df is already defined and has 'asin' and 'matches'\n",
    "# Step 1: Count how many unique match values per asin\n",
    "nunique_per_asin = df.groupby('asin')['match'].nunique()\n",
    "\n",
    "# Step 2: Get list of asins with more than one unique match value\n",
    "conflicting_asins = nunique_per_asin[nunique_per_asin > 1].index.tolist()\n",
    "\n",
    "# Step 3: Filter your dataframe to only those conflicting asins\n",
    "conflicting_rows = df[df['asin'].isin(conflicting_asins)].sort_values('asin')\n",
    "\n",
    "# Step 4: Display result\n",
    "print(f\"⚠️ Found {len(conflicting_asins)} ASINs with both 0 and 1 in 'matches'.\")\n",
    "conflicting_rows.head()\n"
   ]
  },
  {
   "cell_type": "markdown",
   "id": "25cd3a3e",
   "metadata": {},
   "source": [
    "The asins have not been dropped but they are consistently labeled. "
   ]
  },
  {
   "cell_type": "markdown",
   "id": "59117c1c",
   "metadata": {},
   "source": [
    "We now investigate the category feature, in particular we want to figure out if we can replace our dataset with a smaller one by removing some unnecessary categories. "
   ]
  },
  {
   "cell_type": "code",
   "execution_count": 4,
   "id": "cb1c1080",
   "metadata": {},
   "outputs": [
    {
     "name": "stdout",
     "output_type": "stream",
     "text": [
      "📊 Number of categories with only match == 0: 104\n",
      "📦 Total Amazon listings in these categories: 1000\n",
      "\n",
      "🔝 Top 10 categories with only 0's (by listing count):\n",
      "['Toys & Games', 'Games', 'Board Games']: 208\n",
      "[]: 132\n",
      "['Toys & Games', 'Games', 'Card Games']: 98\n",
      "['Toys & Games', 'Arts & Crafts', 'Drawing & Painting Supplies', 'Drawing & Sketch Pads']: 39\n",
      "['Toys & Games', \"Kids' Electronics\", 'Electronic Learning Toys']: 37\n",
      "['Toys & Games', 'Puzzles', 'Jigsaw Puzzles']: 37\n",
      "['Toys & Games', 'Games']: 36\n",
      "['Toys & Games', 'Arts & Crafts', 'Stickers']: 27\n",
      "['Toys & Games', 'Puzzles']: 22\n",
      "['Toys & Games', 'Action Figures & Statues', 'Action Figures']: 18\n"
     ]
    }
   ],
   "source": [
    "# Step 1: Group by category and filter to those where all matches == 0\n",
    "groups = df.groupby('category')\n",
    "only_zeros = groups.filter(lambda g: (g['match'] == 0).all())\n",
    "\n",
    "# Step 2: Count number of listings per such category\n",
    "counts = only_zeros['category'].value_counts()\n",
    "\n",
    "# Step 3: Build result list\n",
    "result = sorted(list(counts.items()), key=lambda x: x[1])  # ascending by count\n",
    "\n",
    "# Step 4: Stats\n",
    "num_categories = len(result)\n",
    "total_listings = sum(counts)\n",
    "\n",
    "# Step 5: Display\n",
    "print(f\"📊 Number of categories with only match == 0: {num_categories}\")\n",
    "print(f\"📦 Total Amazon listings in these categories: {total_listings}\")\n",
    "print(\"\\n🔝 Top 10 categories with only 0's (by listing count):\")\n",
    "for category, count in result[-10:][::-1]:  # top 10 descending\n",
    "    print(f\"{category}: {count}\")\n"
   ]
  },
  {
   "cell_type": "code",
   "execution_count": 5,
   "id": "65fc7cab",
   "metadata": {},
   "outputs": [
    {
     "name": "stdout",
     "output_type": "stream",
     "text": [
      "✅ Number of categories with at least one match == 1: 0\n",
      "📦 Total Amazon listings in these categories: 0\n",
      "\n",
      "🔝 Top 10 categories with at least one match == 1 (by listing count):\n"
     ]
    }
   ],
   "source": [
    "# Step 1: Group by category and filter those with at least one match == 1\n",
    "groups = df.groupby('category')\n",
    "has_one_match = groups.filter(lambda g: (g['match'] == 1).any())\n",
    "\n",
    "# Step 2: Count number of listings per such category\n",
    "counts_match_1 = has_one_match['category'].value_counts()\n",
    "\n",
    "# Step 3: Build result list sorted descending by count\n",
    "result_match_1 = sorted(list(counts_match_1.items()), key=lambda x: x[1], reverse=True)\n",
    "\n",
    "# Step 4: Stats\n",
    "num_categories_match_1 = len(result_match_1)\n",
    "total_listings_match_1 = sum(counts_match_1)\n",
    "\n",
    "# Step 5: Display\n",
    "print(f\"✅ Number of categories with at least one match == 1: {num_categories_match_1}\")\n",
    "print(f\"📦 Total Amazon listings in these categories: {total_listings_match_1}\")\n",
    "print(\"\\n🔝 Top 10 categories with at least one match == 1 (by listing count):\")\n",
    "for category, count in result_match_1[:10]:\n",
    "    print(f\"{category}: {count}\")\n"
   ]
  },
  {
   "cell_type": "code",
   "execution_count": 6,
   "id": "f45bf3b9",
   "metadata": {},
   "outputs": [
    {
     "name": "stdout",
     "output_type": "stream",
     "text": [
      "📊 Total number of unique categories: 104\n"
     ]
    }
   ],
   "source": [
    "num_all_categories = df['category'].nunique()\n",
    "print(f\"📊 Total number of unique categories: {num_all_categories}\")\n"
   ]
  },
  {
   "cell_type": "code",
   "execution_count": 7,
   "id": "fa59f344",
   "metadata": {},
   "outputs": [
    {
     "name": "stdout",
     "output_type": "stream",
     "text": [
      "✅ smaller_df created with 0 rows across 0 categories.\n"
     ]
    }
   ],
   "source": [
    "# Step 1: Extract categories that had at least one match == 1\n",
    "categories_with_match_1 = [category for category, count in result_match_1]\n",
    "\n",
    "# Step 2: Filter the original DataFrame to keep only those rows\n",
    "smaller_df = df[df['category'].isin(categories_with_match_1)].copy()\n",
    "\n",
    "# Step 3: Confirm\n",
    "print(f\"✅ smaller_df created with {len(smaller_df)} rows across {smaller_df['category'].nunique()} categories.\")\n"
   ]
  },
  {
   "cell_type": "code",
   "execution_count": 8,
   "id": "19fa3b21",
   "metadata": {},
   "outputs": [
    {
     "ename": "ValueError",
     "evalue": "attempt to get argmax of an empty sequence",
     "output_type": "error",
     "traceback": [
      "\u001b[31m---------------------------------------------------------------------------\u001b[39m",
      "\u001b[31mValueError\u001b[39m                                Traceback (most recent call last)",
      "\u001b[36mCell\u001b[39m\u001b[36m \u001b[39m\u001b[32mIn[8]\u001b[39m\u001b[32m, line 9\u001b[39m\n\u001b[32m      6\u001b[39m min_listings = category_counts.min()\n\u001b[32m      8\u001b[39m \u001b[38;5;66;03m# Find which categories those are\u001b[39;00m\n\u001b[32m----> \u001b[39m\u001b[32m9\u001b[39m category_with_max = \u001b[43mcategory_counts\u001b[49m\u001b[43m.\u001b[49m\u001b[43midxmax\u001b[49m\u001b[43m(\u001b[49m\u001b[43m)\u001b[49m\n\u001b[32m     10\u001b[39m category_with_min = category_counts.idxmin()\n\u001b[32m     12\u001b[39m \u001b[38;5;66;03m# Display\u001b[39;00m\n",
      "\u001b[36mFile \u001b[39m\u001b[32m~/.local/data_venv/lib/python3.12/site-packages/pandas/core/series.py:2770\u001b[39m, in \u001b[36mSeries.idxmax\u001b[39m\u001b[34m(self, axis, skipna, *args, **kwargs)\u001b[39m\n\u001b[32m   2765\u001b[39m \u001b[38;5;28;01mwith\u001b[39;00m warnings.catch_warnings():\n\u001b[32m   2766\u001b[39m     \u001b[38;5;66;03m# TODO(3.0): this catching/filtering can be removed\u001b[39;00m\n\u001b[32m   2767\u001b[39m     \u001b[38;5;66;03m# ignore warning produced by argmax since we will issue a different\u001b[39;00m\n\u001b[32m   2768\u001b[39m     \u001b[38;5;66;03m#  warning for argmax\u001b[39;00m\n\u001b[32m   2769\u001b[39m     warnings.simplefilter(\u001b[33m\"\u001b[39m\u001b[33mignore\u001b[39m\u001b[33m\"\u001b[39m)\n\u001b[32m-> \u001b[39m\u001b[32m2770\u001b[39m     i = \u001b[38;5;28;43mself\u001b[39;49m\u001b[43m.\u001b[49m\u001b[43margmax\u001b[49m\u001b[43m(\u001b[49m\u001b[43maxis\u001b[49m\u001b[43m,\u001b[49m\u001b[43m \u001b[49m\u001b[43mskipna\u001b[49m\u001b[43m,\u001b[49m\u001b[43m \u001b[49m\u001b[43m*\u001b[49m\u001b[43margs\u001b[49m\u001b[43m,\u001b[49m\u001b[43m \u001b[49m\u001b[43m*\u001b[49m\u001b[43m*\u001b[49m\u001b[43mkwargs\u001b[49m\u001b[43m)\u001b[49m\n\u001b[32m   2772\u001b[39m \u001b[38;5;28;01mif\u001b[39;00m i == -\u001b[32m1\u001b[39m:\n\u001b[32m   2773\u001b[39m     \u001b[38;5;66;03m# GH#43587 give correct NA value for Index.\u001b[39;00m\n\u001b[32m   2774\u001b[39m     warnings.warn(\n\u001b[32m   2775\u001b[39m         \u001b[33mf\u001b[39m\u001b[33m\"\u001b[39m\u001b[33mThe behavior of \u001b[39m\u001b[38;5;132;01m{\u001b[39;00m\u001b[38;5;28mtype\u001b[39m(\u001b[38;5;28mself\u001b[39m).\u001b[34m__name__\u001b[39m\u001b[38;5;132;01m}\u001b[39;00m\u001b[33m.idxmax with all-NA \u001b[39m\u001b[33m\"\u001b[39m\n\u001b[32m   2776\u001b[39m         \u001b[33m\"\u001b[39m\u001b[33mvalues, or any-NA and skipna=False, is deprecated. In a future \u001b[39m\u001b[33m\"\u001b[39m\n\u001b[32m   (...)\u001b[39m\u001b[32m   2779\u001b[39m         stacklevel=find_stack_level(),\n\u001b[32m   2780\u001b[39m     )\n",
      "\u001b[36mFile \u001b[39m\u001b[32m~/.local/data_venv/lib/python3.12/site-packages/pandas/core/base.py:755\u001b[39m, in \u001b[36mIndexOpsMixin.argmax\u001b[39m\u001b[34m(self, axis, skipna, *args, **kwargs)\u001b[39m\n\u001b[32m    753\u001b[39m         \u001b[38;5;28;01mreturn\u001b[39;00m delegate.argmax()\n\u001b[32m    754\u001b[39m \u001b[38;5;28;01melse\u001b[39;00m:\n\u001b[32m--> \u001b[39m\u001b[32m755\u001b[39m     result = \u001b[43mnanops\u001b[49m\u001b[43m.\u001b[49m\u001b[43mnanargmax\u001b[49m\u001b[43m(\u001b[49m\u001b[43mdelegate\u001b[49m\u001b[43m,\u001b[49m\u001b[43m \u001b[49m\u001b[43mskipna\u001b[49m\u001b[43m=\u001b[49m\u001b[43mskipna\u001b[49m\u001b[43m)\u001b[49m\n\u001b[32m    756\u001b[39m     \u001b[38;5;28;01mif\u001b[39;00m result == -\u001b[32m1\u001b[39m:\n\u001b[32m    757\u001b[39m         warnings.warn(\n\u001b[32m    758\u001b[39m             \u001b[33mf\u001b[39m\u001b[33m\"\u001b[39m\u001b[33mThe behavior of \u001b[39m\u001b[38;5;132;01m{\u001b[39;00m\u001b[38;5;28mtype\u001b[39m(\u001b[38;5;28mself\u001b[39m).\u001b[34m__name__\u001b[39m\u001b[38;5;132;01m}\u001b[39;00m\u001b[33m.argmax/argmin \u001b[39m\u001b[33m\"\u001b[39m\n\u001b[32m    759\u001b[39m             \u001b[33m\"\u001b[39m\u001b[33mwith skipna=False and NAs, or with all-NAs is deprecated. \u001b[39m\u001b[33m\"\u001b[39m\n\u001b[32m   (...)\u001b[39m\u001b[32m    762\u001b[39m             stacklevel=find_stack_level(),\n\u001b[32m    763\u001b[39m         )\n",
      "\u001b[36mFile \u001b[39m\u001b[32m~/.local/data_venv/lib/python3.12/site-packages/pandas/core/nanops.py:1148\u001b[39m, in \u001b[36mnanargmax\u001b[39m\u001b[34m(values, axis, skipna, mask)\u001b[39m\n\u001b[32m   1116\u001b[39m \u001b[38;5;250m\u001b[39m\u001b[33;03m\"\"\"\u001b[39;00m\n\u001b[32m   1117\u001b[39m \u001b[33;03mParameters\u001b[39;00m\n\u001b[32m   1118\u001b[39m \u001b[33;03m----------\u001b[39;00m\n\u001b[32m   (...)\u001b[39m\u001b[32m   1145\u001b[39m \u001b[33;03marray([2, 2, 1, 1])\u001b[39;00m\n\u001b[32m   1146\u001b[39m \u001b[33;03m\"\"\"\u001b[39;00m\n\u001b[32m   1147\u001b[39m values, mask = _get_values(values, \u001b[38;5;28;01mTrue\u001b[39;00m, fill_value_typ=\u001b[33m\"\u001b[39m\u001b[33m-inf\u001b[39m\u001b[33m\"\u001b[39m, mask=mask)\n\u001b[32m-> \u001b[39m\u001b[32m1148\u001b[39m result = \u001b[43mvalues\u001b[49m\u001b[43m.\u001b[49m\u001b[43margmax\u001b[49m\u001b[43m(\u001b[49m\u001b[43maxis\u001b[49m\u001b[43m)\u001b[49m\n\u001b[32m   1149\u001b[39m \u001b[38;5;66;03m# error: Argument 1 to \"_maybe_arg_null_out\" has incompatible type \"Any |\u001b[39;00m\n\u001b[32m   1150\u001b[39m \u001b[38;5;66;03m# signedinteger[Any]\"; expected \"ndarray[Any, Any]\"\u001b[39;00m\n\u001b[32m   1151\u001b[39m result = _maybe_arg_null_out(result, axis, mask, skipna)  \u001b[38;5;66;03m# type: ignore[arg-type]\u001b[39;00m\n",
      "\u001b[31mValueError\u001b[39m: attempt to get argmax of an empty sequence"
     ]
    }
   ],
   "source": [
    "# Count how many listings per category\n",
    "category_counts = smaller_df['category'].value_counts()\n",
    "\n",
    "# Find max and min\n",
    "max_listings = category_counts.max()\n",
    "min_listings = category_counts.min()\n",
    "\n",
    "# Find which categories those are\n",
    "category_with_max = category_counts.idxmax()\n",
    "category_with_min = category_counts.idxmin()\n",
    "\n",
    "# Display\n",
    "print(f\"🔝 Max listings in a single category: {max_listings} (Category: '{category_with_max}')\")\n",
    "print(f\"🔻 Min listings in a single category: {min_listings} (Category: '{category_with_min}')\")\n"
   ]
  },
  {
   "cell_type": "code",
   "execution_count": null,
   "id": "d7caee1b",
   "metadata": {},
   "outputs": [],
   "source": [
    "# Group by category\n",
    "grouped = smaller_df.groupby('category')\n",
    "\n",
    "# 1️⃣ Count categories with only one listing\n",
    "category_sizes = grouped.size()\n",
    "num_single_listing_categories = (category_sizes == 1).sum()\n",
    "print(f\"📦 Number of categories with only ONE listing: {num_single_listing_categories}\")\n",
    "\n",
    "# 2️⃣ Count categories where all listings have match == 1\n",
    "only_ones = grouped['match'].apply(lambda x: (x == 1).all())\n",
    "num_all_match_1 = only_ones.sum()\n",
    "print(f\"✅ Number of categories where all listings have match == 1: {num_all_match_1}\")\n"
   ]
  },
  {
   "cell_type": "code",
   "execution_count": null,
   "id": "a36ef105",
   "metadata": {},
   "outputs": [],
   "source": [
    "import matplotlib.pyplot as plt\n",
    "\n",
    "# Step 1: Count listings per category\n",
    "category_counts = smaller_df['category'].value_counts().head(20)\n",
    "\n",
    "# Step 2: Plot\n",
    "plt.figure(figsize=(10, 8))\n",
    "category_counts.sort_values().plot(kind='barh')  # horizontal bar chart\n",
    "plt.title('Top 20 Categories by Number of Listings (with at least one match == 1)')\n",
    "plt.xlabel('Number of Listings')\n",
    "plt.ylabel('Category')\n",
    "plt.tight_layout()\n",
    "plt.show()\n"
   ]
  },
  {
   "cell_type": "code",
   "execution_count": null,
   "id": "5b304460",
   "metadata": {},
   "outputs": [],
   "source": [
    "import matplotlib.pyplot as plt\n",
    "\n",
    "# Step 1: Count listings per category (20 categories with the fewest listings)\n",
    "category_counts = smaller_df['category'].value_counts().tail(20)\n",
    "category_counts = category_counts.sort_values()  # Ensure smallest on top\n",
    "\n",
    "# Step 2: Plot\n",
    "plt.figure(figsize=(10, 8))\n",
    "ax = category_counts.plot(kind='barh', color='skyblue')\n",
    "plt.title('20 Categories with the Least Number of Listings\\n(with at least one match == 1)')\n",
    "plt.xlabel('Number of Listings')\n",
    "plt.ylabel('Category')\n",
    "plt.tight_layout()\n",
    "\n",
    "# Step 3: Add value labels on the bars\n",
    "for i, (value, name) in enumerate(zip(category_counts.values, category_counts.index)):\n",
    "    ax.text(value + 0.5, i, str(value), va='center', fontsize=9)\n",
    "\n",
    "plt.show()\n"
   ]
  },
  {
   "cell_type": "markdown",
   "id": "4e065ac3",
   "metadata": {},
   "source": [
    "I suggest we drop the only 0 categories and work with smaller_df. Below I consider the description category and I use NLP to extract some new features. Below you see \"certification\" feature. "
   ]
  },
  {
   "cell_type": "code",
   "execution_count": null,
   "id": "f3d91f68",
   "metadata": {},
   "outputs": [],
   "source": [
    "from transformers import pipeline\n",
    "from tqdm import tqdm"
   ]
  },
  {
   "cell_type": "code",
   "execution_count": null,
   "id": "31fff582",
   "metadata": {},
   "outputs": [],
   "source": [
    "import torch\n",
    "print(torch.__version__)\n",
    "print(torch.cuda.is_available())  # Optional: checks if GPU is available\n"
   ]
  },
  {
   "cell_type": "code",
   "execution_count": null,
   "id": "8075ec27",
   "metadata": {},
   "outputs": [],
   "source": [
    "classifier = pipeline(\"zero-shot-classification\", model=\"facebook/bart-large-mnli\")\n"
   ]
  },
  {
   "cell_type": "code",
   "execution_count": null,
   "id": "13517926",
   "metadata": {},
   "outputs": [],
   "source": [
    "text = \"FDA certified and ISO approved non-toxic product.\"\n",
    "labels = [\"certified\", \"non-toxic\", \"hypoallergenic\", \"safe to use\"]\n",
    "\n",
    "result = classifier(text, labels, multi_label=True)\n",
    "print(result)\n"
   ]
  },
  {
   "cell_type": "code",
   "execution_count": null,
   "id": "b9e8ac26",
   "metadata": {},
   "outputs": [],
   "source": [
    "max_certified_score = max(result['scores'])  # Or result['scores'][result['labels'].index('certified')]\n",
    "print(f\"Max score for 'certified': {max_certified_score:.4f}\")  "
   ]
  },
  {
   "cell_type": "code",
   "execution_count": null,
   "id": "3715db7f",
   "metadata": {},
   "outputs": [],
   "source": [
    "certification_labels = [\n",
    "    \"FDA approved\",\n",
    "    \"ISO certified\",\n",
    "    \"CE marking\",\n",
    "    \"third-party tested\",\n",
    "    \"lab tested\",\n",
    "    \"clinically tested\",\n",
    "    \"hypoallergenic\",\n",
    "    \"non-toxic\",\n",
    "    \"PVC free\",\n",
    "    \"BPA free\",\n",
    "    \"phthalate free\",\n",
    "    \"GMP certified\",\n",
    "    \"UL certified\",\n",
    "    \"organic certified\"\n",
    "]\n"
   ]
  },
  {
   "cell_type": "code",
   "execution_count": null,
   "id": "698b2c23",
   "metadata": {},
   "outputs": [],
   "source": [
    "def get_all_certifications_with_score(text, labels=certification_labels, threshold=0.98):\n",
    "    \"\"\"\n",
    "    Returns (labels_above_threshold, max_score) from zero-shot classification.\n",
    "    If no label passes threshold or text is empty, returns (None, max_score).\n",
    "    \"\"\"\n",
    "    if not text or not text.strip() or text.strip() == '[]':\n",
    "        return (None, 0.0)\n",
    "\n",
    "    result = classifier(text, labels, multi_label=True)\n",
    "    high_conf_labels = [\n",
    "        label for label, score in zip(result['labels'], result['scores']) if score > threshold\n",
    "    ]\n",
    "    max_score = max(result['scores']) if result['scores'] else 0.0\n",
    "\n",
    "    return (high_conf_labels if high_conf_labels else None, max_score)\n"
   ]
  },
  {
   "cell_type": "code",
   "execution_count": null,
   "id": "657b202c",
   "metadata": {},
   "outputs": [],
   "source": [
    "text_1 = \"FDA and CE certified product.\"\n",
    "text_2 = \"Gentle soap for everyday use.\"\n",
    "text_3 = \"\"\n",
    "\n",
    "print(get_all_certifications_with_score(text_1))  # ✅ should return some labels\n",
    "print(get_all_certifications_with_score(text_2))  # ❌ should return None (scores < 0.95)\n",
    "print(get_all_certifications_with_score(text_3))  # ❌ should return None (empty)\n"
   ]
  },
  {
   "cell_type": "code",
   "execution_count": null,
   "id": "309157d3",
   "metadata": {},
   "outputs": [],
   "source": [
    "sample_df = df.sample(n=300, random_state=42).copy()\n",
    "\n",
    "from tqdm import tqdm\n",
    "tqdm.pandas()\n",
    "\n",
    "results = sample_df['description'].progress_apply(get_all_certifications_with_score)\n",
    "sample_df['certification_labels'], sample_df['max_cert_score'] = zip(*results)\n",
    "\n"
   ]
  },
  {
   "cell_type": "code",
   "execution_count": null,
   "id": "ac763575",
   "metadata": {},
   "outputs": [],
   "source": [
    "certified_df = sample_df[sample_df['certification_labels'].notna()]\n"
   ]
  },
  {
   "cell_type": "code",
   "execution_count": null,
   "id": "bddafc73",
   "metadata": {},
   "outputs": [],
   "source": [
    "# Show first 5 certified entries\n",
    "certified_df[['description', 'certification_labels', 'max_cert_score']].head(10)\n"
   ]
  },
  {
   "cell_type": "code",
   "execution_count": null,
   "id": "ccd5e575",
   "metadata": {},
   "outputs": [],
   "source": [
    "# Total number of rows in the sample\n",
    "total = len(sample_df)\n",
    "\n",
    "# Count of rows where certification_labels is not None\n",
    "with_certification = sample_df['certification_labels'].notna().sum()\n",
    "\n",
    "# Percentage\n",
    "percentage = (with_certification / total) * 100\n",
    "\n",
    "print(f\"{with_certification} out of {total} listings got at least one certification label.\")\n",
    "print(f\"That's {percentage:.2f}% of the listings.\")\n"
   ]
  }
 ],
 "metadata": {
  "kernelspec": {
   "display_name": "data_venv",
   "language": "python",
   "name": "python3"
  },
  "language_info": {
   "codemirror_mode": {
    "name": "ipython",
    "version": 3
   },
   "file_extension": ".py",
   "mimetype": "text/x-python",
   "name": "python",
   "nbconvert_exporter": "python",
   "pygments_lexer": "ipython3",
   "version": "3.12.10"
  }
 },
 "nbformat": 4,
 "nbformat_minor": 5
}
