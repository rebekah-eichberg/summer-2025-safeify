{
 "cells": [
  {
   "cell_type": "code",
   "execution_count": 31,
   "id": "3766e76b",
   "metadata": {},
   "outputs": [],
   "source": [
    "import pandas as pd\n"
   ]
  },
  {
   "cell_type": "code",
   "execution_count": 32,
   "id": "1fa228a0",
   "metadata": {},
   "outputs": [],
   "source": [
    "file_path = '../Data/amazon_meta.json'  \n",
    "amazon_df = pd.read_json(file_path, lines=True, compression=None)"
   ]
  },
  {
   "cell_type": "code",
   "execution_count": 50,
   "id": "02ba60e6",
   "metadata": {},
   "outputs": [],
   "source": [
    "file_path = \"all_titles_only.csv\"\n",
    "# Read the CSV file as-is\n",
    "toysrecall_df = pd.read_csv(file_path, encoding='utf-8')\n",
    "\n",
    "\n",
    "\n"
   ]
  },
  {
   "cell_type": "code",
   "execution_count": 51,
   "id": "35a00c47",
   "metadata": {},
   "outputs": [
    {
     "name": "stdout",
     "output_type": "stream",
     "text": [
      "Combined recall records: 709\n",
      "Columns: ['Title']\n"
     ]
    },
    {
     "data": {
      "text/html": [
       "<div>\n",
       "<style scoped>\n",
       "    .dataframe tbody tr th:only-of-type {\n",
       "        vertical-align: middle;\n",
       "    }\n",
       "\n",
       "    .dataframe tbody tr th {\n",
       "        vertical-align: top;\n",
       "    }\n",
       "\n",
       "    .dataframe thead th {\n",
       "        text-align: right;\n",
       "    }\n",
       "</style>\n",
       "<table border=\"1\" class=\"dataframe\">\n",
       "  <thead>\n",
       "    <tr style=\"text-align: right;\">\n",
       "      <th></th>\n",
       "      <th>Title</th>\n",
       "    </tr>\n",
       "  </thead>\n",
       "  <tbody>\n",
       "    <tr>\n",
       "      <th>0</th>\n",
       "      <td>Kids II Inc. Recalls Crib Toys Due to Choking ...</td>\n",
       "    </tr>\n",
       "    <tr>\n",
       "      <th>1</th>\n",
       "      <td>Discovery Toys Children's Toy Phone Recall</td>\n",
       "    </tr>\n",
       "    <tr>\n",
       "      <th>2</th>\n",
       "      <td>Kids Station Toys Recalls Little Tikes Toy Cel...</td>\n",
       "    </tr>\n",
       "    <tr>\n",
       "      <th>3</th>\n",
       "      <td>Pop Up Phone Recalled; Antenna Is Choking Hazard</td>\n",
       "    </tr>\n",
       "    <tr>\n",
       "      <th>4</th>\n",
       "      <td>TDT Toy Company Recalls Plastic Telephones Bec...</td>\n",
       "    </tr>\n",
       "    <tr>\n",
       "      <th>5</th>\n",
       "      <td>Toy Telephones Recalled by Durham</td>\n",
       "    </tr>\n",
       "    <tr>\n",
       "      <th>6</th>\n",
       "      <td>Coynes, Inc. Recalls Musical Cordless Toy Tele...</td>\n",
       "    </tr>\n",
       "    <tr>\n",
       "      <th>7</th>\n",
       "      <td>Toy Baby Phone Recalled by Vtech</td>\n",
       "    </tr>\n",
       "    <tr>\n",
       "      <th>8</th>\n",
       "      <td>Toy Phones Recalled for Choking Hazard</td>\n",
       "    </tr>\n",
       "    <tr>\n",
       "      <th>9</th>\n",
       "      <td>Evenflo Recalls Telephone Toys Due to Choking ...</td>\n",
       "    </tr>\n",
       "    <tr>\n",
       "      <th>10</th>\n",
       "      <td>Toy Telephone Sets Recalled by Montgomery Ward</td>\n",
       "    </tr>\n",
       "    <tr>\n",
       "      <th>11</th>\n",
       "      <td>Kid's Phone Beeper Combo Recalled by Dolgencorp</td>\n",
       "    </tr>\n",
       "    <tr>\n",
       "      <th>12</th>\n",
       "      <td>Toy Public Telephone Recalled By Goldwell Inte...</td>\n",
       "    </tr>\n",
       "    <tr>\n",
       "      <th>13</th>\n",
       "      <td>Toy Mobile Phones Recalled for Choking Hazard</td>\n",
       "    </tr>\n",
       "    <tr>\n",
       "      <th>14</th>\n",
       "      <td>Handi-Craft Company Recalls Three Toys</td>\n",
       "    </tr>\n",
       "    <tr>\n",
       "      <th>15</th>\n",
       "      <td>Battat Inc. Recalls Parents Magazine Toy Cell ...</td>\n",
       "    </tr>\n",
       "    <tr>\n",
       "      <th>16</th>\n",
       "      <td>Toy Truck Gifts with Purchase Recalled by Happ...</td>\n",
       "    </tr>\n",
       "    <tr>\n",
       "      <th>17</th>\n",
       "      <td>Tumblekins Toys Recalled by International Play...</td>\n",
       "    </tr>\n",
       "    <tr>\n",
       "      <th>18</th>\n",
       "      <td>Schylling Recalls Police Press and Go Toy Vehi...</td>\n",
       "    </tr>\n",
       "    <tr>\n",
       "      <th>19</th>\n",
       "      <td>Green Toys Recalls Mini Vehicles Due To Chokin...</td>\n",
       "    </tr>\n",
       "  </tbody>\n",
       "</table>\n",
       "</div>"
      ],
      "text/plain": [
       "                                                Title\n",
       "0   Kids II Inc. Recalls Crib Toys Due to Choking ...\n",
       "1          Discovery Toys Children's Toy Phone Recall\n",
       "2   Kids Station Toys Recalls Little Tikes Toy Cel...\n",
       "3    Pop Up Phone Recalled; Antenna Is Choking Hazard\n",
       "4   TDT Toy Company Recalls Plastic Telephones Bec...\n",
       "5                   Toy Telephones Recalled by Durham\n",
       "6   Coynes, Inc. Recalls Musical Cordless Toy Tele...\n",
       "7                    Toy Baby Phone Recalled by Vtech\n",
       "8              Toy Phones Recalled for Choking Hazard\n",
       "9   Evenflo Recalls Telephone Toys Due to Choking ...\n",
       "10     Toy Telephone Sets Recalled by Montgomery Ward\n",
       "11    Kid's Phone Beeper Combo Recalled by Dolgencorp\n",
       "12  Toy Public Telephone Recalled By Goldwell Inte...\n",
       "13      Toy Mobile Phones Recalled for Choking Hazard\n",
       "14             Handi-Craft Company Recalls Three Toys\n",
       "15  Battat Inc. Recalls Parents Magazine Toy Cell ...\n",
       "16  Toy Truck Gifts with Purchase Recalled by Happ...\n",
       "17  Tumblekins Toys Recalled by International Play...\n",
       "18  Schylling Recalls Police Press and Go Toy Vehi...\n",
       "19  Green Toys Recalls Mini Vehicles Due To Chokin..."
      ]
     },
     "execution_count": 51,
     "metadata": {},
     "output_type": "execute_result"
    }
   ],
   "source": [
    "\n",
    "\n",
    "print(\"Combined recall records:\", len(toysrecall_df))\n",
    "print(\"Columns:\", toysrecall_df.columns.tolist())\n",
    "toysrecall_df.head(20)"
   ]
  },
  {
   "cell_type": "code",
   "execution_count": 52,
   "id": "95091223",
   "metadata": {},
   "outputs": [
    {
     "name": "stdout",
     "output_type": "stream",
     "text": [
      "Index(['Title'], dtype='object')\n"
     ]
    }
   ],
   "source": [
    "print(toysrecall_df.columns)"
   ]
  },
  {
   "cell_type": "markdown",
   "id": "950bd762",
   "metadata": {},
   "source": []
  },
  {
   "cell_type": "code",
   "execution_count": 60,
   "id": "8d8d412b",
   "metadata": {},
   "outputs": [],
   "source": [
    "from rapidfuzz import fuzz, process"
   ]
  },
  {
   "cell_type": "code",
   "execution_count": 69,
   "id": "0fb314da",
   "metadata": {},
   "outputs": [],
   "source": [
    "import re\n",
    "\n",
    "def clean_recall_title(title: str) -> str:\n",
    "    \"\"\"\n",
    "    Removes unwanted words from a recall title string (case-insensitive).\n",
    "    \"\"\"\n",
    "    banned_words = ['recall', 'recalls', 'recalled','choking', 'choked', 'hazard', 'hazards', 'hazardous', 'title', 'danger']\n",
    "    pattern = r'\\b(?:' + '|'.join(banned_words) + r')\\b'\n",
    "    cleaned = re.sub(pattern, '', title, flags=re.IGNORECASE)\n",
    "    return cleaned.strip()\n",
    "\n",
    "def match_amazon_to_recalls(\n",
    "    amazon_df: pd.DataFrame,\n",
    "    recall_df: pd.DataFrame,\n",
    "    score_threshold: int = 90\n",
    ") -> dict[str, tuple[pd.DataFrame, pd.DataFrame]]:\n",
    "    \"\"\"\n",
    "    For each cleaned recall title, find all Amazon rows whose 'title'\n",
    "    fuzzy-matches at or above score_threshold.\n",
    "    Returns a dict mapping original recall_title -> (recall_rows_df, matching_amazon_rows_df).\n",
    "    \"\"\"\n",
    "    # Work on copies\n",
    "    amazon = amazon_df.copy()\n",
    "    recalls = recall_df.copy()\n",
    "\n",
    "    # Clean text\n",
    "    amazon['title'] = amazon['title'].astype(str).str.lower().str.strip()\n",
    "    recalls['Title'] = recalls['Title'].astype(str).str.lower().str.strip()\n",
    "\n",
    "    matched = {}\n",
    "    for recall_title in recalls['Title'].dropna().unique():\n",
    "        cleaned_recall_title = clean_recall_title(recall_title)\n",
    "\n",
    "        if not cleaned_recall_title:  # skip if cleaning removed all text\n",
    "            continue\n",
    "\n",
    "        mask = amazon['title'].apply(\n",
    "            lambda x: fuzz.token_sort_ratio(x, cleaned_recall_title) >= score_threshold\n",
    "        )\n",
    "        amazon_matches = amazon[mask]\n",
    "        recall_rows = recalls[recalls['Title'] == recall_title]\n",
    "\n",
    "        if not amazon_matches.empty:\n",
    "            matched[recall_title] = (recall_rows.copy(), amazon_matches.copy())\n",
    "\n",
    "    print(f\"✅ Found matches for {len(matched)} recall-title entries.\")\n",
    "    return matched\n"
   ]
  },
  {
   "cell_type": "code",
   "execution_count": 73,
   "id": "f68ded14",
   "metadata": {},
   "outputs": [
    {
     "name": "stdout",
     "output_type": "stream",
     "text": [
      "✅ Found matches for 7 recall-title entries.\n"
     ]
    }
   ],
   "source": [
    "matched_results = match_amazon_to_recalls(amazon_df, toysrecall_df, 80)"
   ]
  },
  {
   "cell_type": "code",
   "execution_count": 74,
   "id": "ef2cb640",
   "metadata": {},
   "outputs": [],
   "source": [
    "def get_matched_amazon_titles_with_recall_title() -> list[tuple[str, str]]:\n",
    "    \"\"\"\n",
    "    Uses the globally defined matched_results and returns a list of (recall_title, matched_amazon_title).\n",
    "    \"\"\"\n",
    "    results = []\n",
    "\n",
    "    for recall_title, (_, amazon_matches) in matched_results.items():\n",
    "        for title in amazon_matches['title'].tolist():\n",
    "            results.append((recall_title, title))\n",
    "\n",
    "    return results\n"
   ]
  },
  {
   "cell_type": "code",
   "execution_count": 75,
   "id": "5421b7d9",
   "metadata": {},
   "outputs": [
    {
     "name": "stdout",
     "output_type": "stream",
     "text": [
      "📌 Recall Title: toy mobile phones recalled for choking hazard\n",
      "🔗 Matched Amazon Title: frozen toy mobile phone\n",
      "------------------------------------------------------------\n",
      "📌 Recall Title: wooden toy alphabet blocks recalled\n",
      "🔗 Matched Amazon Title: aleph bet wooden blocks\n",
      "------------------------------------------------------------\n",
      "📌 Recall Title: wooden toy alphabet blocks recalled\n",
      "🔗 Matched Amazon Title: wooden alphabet blocks - wagon\n",
      "------------------------------------------------------------\n",
      "📌 Recall Title: fisher-price recalls little people play 'n go campsite™ due to choking hazard\n",
      "🔗 Matched Amazon Title: fisher-price little people play 'n go farm\n",
      "------------------------------------------------------------\n",
      "📌 Recall Title: fisher-price recalls little people play 'n go campsite™ due to choking hazard\n",
      "🔗 Matched Amazon Title: fisher-price little people going camping playset\n",
      "------------------------------------------------------------\n",
      "📌 Recall Title: xylophone mallets recalled by playwell\n",
      "🔗 Matched Amazon Title: play xylophone with mallet\n",
      "------------------------------------------------------------\n",
      "📌 Recall Title: star wars lightsaber recalled by hasbro\n",
      "🔗 Matched Amazon Title: hasbro star wars light saber battle game\n",
      "------------------------------------------------------------\n",
      "📌 Recall Title: star wars lightsaber recalled by hasbro\n",
      "🔗 Matched Amazon Title: star wars ahsoka lightsaber\n",
      "------------------------------------------------------------\n",
      "📌 Recall Title: star wars lightsaber recalled by hasbro\n",
      "🔗 Matched Amazon Title: star wars lightsaber ahsoka\n",
      "------------------------------------------------------------\n",
      "📌 Recall Title: guidecraft recalls twist 'n sort toys due to choking hazard\n",
      "🔗 Matched Amazon Title: guidecraft twist 'n sort\n",
      "------------------------------------------------------------\n",
      "📌 Recall Title: fisher-price recalls little people wheelies stand 'n play rampway due to choking hazard\n",
      "🔗 Matched Amazon Title: fisher-price little people wheelies stand 'n play rampway\n",
      "------------------------------------------------------------\n",
      "📌 Recall Title: fisher-price recalls little people wheelies stand 'n play rampway due to choking hazard\n",
      "🔗 Matched Amazon Title: fisher-price little people wheelies stand 'n play rampway\n",
      "------------------------------------------------------------\n"
     ]
    }
   ],
   "source": [
    "matches = get_matched_amazon_titles_with_recall_title()\n",
    "\n",
    "for recall_title, amazon_title in matches:\n",
    "    print(f\"📌 Recall Title: {recall_title}\")\n",
    "    print(f\"🔗 Matched Amazon Title: {amazon_title}\")\n",
    "    print(\"-\" * 60)\n"
   ]
  }
 ],
 "metadata": {
  "kernelspec": {
   "display_name": "erdos_summer_2025",
   "language": "python",
   "name": "python3"
  },
  "language_info": {
   "codemirror_mode": {
    "name": "ipython",
    "version": 3
   },
   "file_extension": ".py",
   "mimetype": "text/x-python",
   "name": "python",
   "nbconvert_exporter": "python",
   "pygments_lexer": "ipython3",
   "version": "3.12.10"
  }
 },
 "nbformat": 4,
 "nbformat_minor": 5
}
