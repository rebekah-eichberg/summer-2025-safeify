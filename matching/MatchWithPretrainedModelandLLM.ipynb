{
 "cells": [
  {
   "cell_type": "markdown",
   "id": "cc3df6b1",
   "metadata": {},
   "source": [
    "# Documentation for `MatchWithPretrainedModelandLLM.ipynb`\n",
    "\n",
    "\n",
    "This notebook matches Amazon product metadata to incident and recall reports for toys and children’s products using a combination of methods:\n",
    "- Fuzzy string matching (RapidFuzz) on brand, title, and description.\n",
    "- Semantic similarity with a pre-trained transformer model (`intfloat/e5-large-v2`).\n",
    "- Incorporates and verifies the matches from the duckduckgo.com scrape (from `duckduckgo_asins.ipynb`)\n",
    "- Verification and refinement of matches using a large language model (`mistral:8x7b`).\n",
    "\n",
    "The goal is to robustly identify which Amazon products correspond to products mentioned in incident/recall reports.\n",
    "\n",
    "\n",
    "\n",
    "## Input Files\n",
    "\n",
    "- `../Data/metadata_raw.pkl` (Amazon product metadata)\n",
    "- `../Data/Current Version of Toys Incidence+Recall/Toysandchildren_ArtsandCrafts.csv` (Incident report data)\n",
    "- `../Data/Current Version of Toys Incidence+Recall/Toysandchildren_Riding_Toys.csv` (Incident report data)\n",
    "- `../Data/Current Version of Toys Incidence+Recall/Toysandchildren_Toys.csv` (Incident report data)\n",
    "- `../Data/df_asin.csv` (ASIN matches from DuckDuckGo scraping)\n",
    "- `../Data/amazon_meta_with_recall_matches.csv` (Matches from recalls)\n",
    "\n",
    "## Output File\n",
    "\n",
    "- `../Data/amazon_df_labels.csv` (final labeled Amazon DataFrame)\n",
    "\n",
    "---\n",
    "\n"
   ]
  },
  {
   "cell_type": "code",
   "execution_count": 1,
   "id": "cd54ca0d-2ace-4fc8-b8a4-9948a91ebc9b",
   "metadata": {},
   "outputs": [
    {
     "name": "stdout",
     "output_type": "stream",
     "text": [
      "GPU available: True\n",
      "GPU name: NVIDIA GeForce RTX 4070\n"
     ]
    }
   ],
   "source": [
    "import torch\n",
    "print(\"GPU available:\", torch.cuda.is_available())\n",
    "print(\"GPU name:\", torch.cuda.get_device_name(0) if torch.cuda.is_available() else \"No GPU\")"
   ]
  },
  {
   "cell_type": "code",
   "execution_count": 1,
   "id": "86ba9416-e35e-4743-b980-d4a3290cd59c",
   "metadata": {},
   "outputs": [],
   "source": [
    "import pandas as pd\n",
    "import numpy as np"
   ]
  },
  {
   "cell_type": "code",
   "execution_count": 4,
   "id": "c3336fea-2cd3-4021-8714-70e7fff056ff",
   "metadata": {},
   "outputs": [
    {
     "data": {
      "text/plain": [
       "(633883, 19)"
      ]
     },
     "execution_count": 4,
     "metadata": {},
     "output_type": "execute_result"
    }
   ],
   "source": [
    "file_path = '../Data/metadata_raw.pkl'  \n",
    "amazon_df = pd.read_pickle(file_path)\n",
    "amazon_df.shape"
   ]
  },
  {
   "cell_type": "code",
   "execution_count": 5,
   "id": "0588aaaf-0c1c-4969-bc02-e0f24c417884",
   "metadata": {},
   "outputs": [
    {
     "data": {
      "text/plain": [
       "Index(['category', 'tech1', 'description', 'fit', 'title', 'also_buy', 'tech2',\n",
       "       'brand', 'feature', 'rank', 'also_view', 'main_cat', 'similar_item',\n",
       "       'date', 'price', 'asin', 'imageURL', 'imageURLHighRes', 'details'],\n",
       "      dtype='object')"
      ]
     },
     "execution_count": 5,
     "metadata": {},
     "output_type": "execute_result"
    }
   ],
   "source": [
    "amazon_df.columns"
   ]
  },
  {
   "cell_type": "code",
   "execution_count": 2,
   "id": "6c7550e1-161d-4317-997d-4d331c03f9b6",
   "metadata": {},
   "outputs": [],
   "source": [
    "df_arts = pd.read_csv('../Data/cpsc_data/incident_reports/Toysandchildren_ArtsandCrafts.csv', skiprows=2)\n",
    "df_riding = pd.read_csv('../Data/cpsc_data/incident_reports/Toysandchildren_Riding_Toys.csv', skiprows=1)\n",
    "df_toys = pd.read_csv('../Data/cpsc_data/incident_reports/Toysandchildren_Toys.csv', skiprows=1)"
   ]
  },
  {
   "cell_type": "code",
   "execution_count": 5,
   "id": "59efaba4-5292-464a-b22c-778a9a6f5d33",
   "metadata": {},
   "outputs": [
    {
     "name": "stdout",
     "output_type": "stream",
     "text": [
      "Combined recall records: 2514\n",
      "Columns: ['Report No.', 'Report Date', 'Sent to Manufacturer / Importer / Private Labeler', 'Publication Date', 'Category of Submitter', 'Product Description', 'Product Category', 'Product Sub Category', 'Product Type', 'Product Code', 'Manufacturer / Importer / Private Labeler Name', 'Brand', 'Model Name or Number', 'Serial Number', 'UPC', 'Date Manufactured', 'Manufacturer Date Code', 'Retailer', 'Retailer State', 'Purchase Date', 'Purchase Date Is Estimate', 'Incident Description', 'City', 'State', 'ZIP', 'Location', '(Primary) Victim Severity', \"(Primary) Victim's Sex\", 'My Relation To The (Primary) Victim', \"(Primary) Victim's Age (years)\", 'Submitter Has Product', 'Product Was Damaged Before Incident', 'Damage Description', 'Damage Repaired', 'Product Was Modified Before Incident', 'Have You Contacted The Manufacturer', 'If Not Do You Plan To', 'Answer Explanation', 'Company Comments', 'Associated Report Numbers']\n"
     ]
    },
    {
     "data": {
      "text/html": [
       "<div>\n",
       "<style scoped>\n",
       "    .dataframe tbody tr th:only-of-type {\n",
       "        vertical-align: middle;\n",
       "    }\n",
       "\n",
       "    .dataframe tbody tr th {\n",
       "        vertical-align: top;\n",
       "    }\n",
       "\n",
       "    .dataframe thead th {\n",
       "        text-align: right;\n",
       "    }\n",
       "</style>\n",
       "<table border=\"1\" class=\"dataframe\">\n",
       "  <thead>\n",
       "    <tr style=\"text-align: right;\">\n",
       "      <th></th>\n",
       "      <th>Report No.</th>\n",
       "      <th>Report Date</th>\n",
       "      <th>Sent to Manufacturer / Importer / Private Labeler</th>\n",
       "      <th>Publication Date</th>\n",
       "      <th>Category of Submitter</th>\n",
       "      <th>Product Description</th>\n",
       "      <th>Product Category</th>\n",
       "      <th>Product Sub Category</th>\n",
       "      <th>Product Type</th>\n",
       "      <th>Product Code</th>\n",
       "      <th>...</th>\n",
       "      <th>Submitter Has Product</th>\n",
       "      <th>Product Was Damaged Before Incident</th>\n",
       "      <th>Damage Description</th>\n",
       "      <th>Damage Repaired</th>\n",
       "      <th>Product Was Modified Before Incident</th>\n",
       "      <th>Have You Contacted The Manufacturer</th>\n",
       "      <th>If Not Do You Plan To</th>\n",
       "      <th>Answer Explanation</th>\n",
       "      <th>Company Comments</th>\n",
       "      <th>Associated Report Numbers</th>\n",
       "    </tr>\n",
       "  </thead>\n",
       "  <tbody>\n",
       "    <tr>\n",
       "      <th>0</th>\n",
       "      <td>20231002-D13C7-2147344911</td>\n",
       "      <td>10/2/2023</td>\n",
       "      <td>10/27/2023</td>\n",
       "      <td>11/20/2023</td>\n",
       "      <td>Consumer</td>\n",
       "      <td>Slime globe with colored spheres which resembl...</td>\n",
       "      <td>Toys &amp; Children</td>\n",
       "      <td>Arts &amp; Crafts</td>\n",
       "      <td>Molding Compounds (1376)</td>\n",
       "      <td>1376</td>\n",
       "      <td>...</td>\n",
       "      <td>NaN</td>\n",
       "      <td>NaN</td>\n",
       "      <td>NaN</td>\n",
       "      <td>NaN</td>\n",
       "      <td>NaN</td>\n",
       "      <td>NaN</td>\n",
       "      <td>NaN</td>\n",
       "      <td>NaN</td>\n",
       "      <td>TOYSMITH: Thank you for the opportunity to rev...</td>\n",
       "      <td>NaN</td>\n",
       "    </tr>\n",
       "    <tr>\n",
       "      <th>1</th>\n",
       "      <td>20180126-BBF18-2147393362</td>\n",
       "      <td>1/26/2018</td>\n",
       "      <td>4/13/2018</td>\n",
       "      <td>4/27/2018</td>\n",
       "      <td>Consumer</td>\n",
       "      <td>Slime kit from Nickelodeon by Cra-Z-Art</td>\n",
       "      <td>Toys &amp; Children</td>\n",
       "      <td>Arts &amp; Crafts</td>\n",
       "      <td>Molding Compounds (1376)</td>\n",
       "      <td>1376</td>\n",
       "      <td>...</td>\n",
       "      <td>Yes</td>\n",
       "      <td>No</td>\n",
       "      <td>NaN</td>\n",
       "      <td>NaN</td>\n",
       "      <td>No</td>\n",
       "      <td>Yes</td>\n",
       "      <td>NaN</td>\n",
       "      <td>I already have explained.</td>\n",
       "      <td>We at Cra-Z-Art® are very sorry that the cons...</td>\n",
       "      <td>NaN</td>\n",
       "    </tr>\n",
       "    <tr>\n",
       "      <th>2</th>\n",
       "      <td>20141231-7C153-2147437145</td>\n",
       "      <td>12/31/2014</td>\n",
       "      <td>1/9/2015</td>\n",
       "      <td>1/26/2015</td>\n",
       "      <td>Consumer</td>\n",
       "      <td>Lalaloopsy Color Me Doll ( Squiggles N. Shapes...</td>\n",
       "      <td>Toys &amp; Children</td>\n",
       "      <td>Arts &amp; Crafts</td>\n",
       "      <td>Crayons or Chalk (5010)</td>\n",
       "      <td>5010</td>\n",
       "      <td>...</td>\n",
       "      <td>NaN</td>\n",
       "      <td>NaN</td>\n",
       "      <td>NaN</td>\n",
       "      <td>NaN</td>\n",
       "      <td>NaN</td>\n",
       "      <td>No</td>\n",
       "      <td>No</td>\n",
       "      <td>NaN</td>\n",
       "      <td>The chalk markers included with this item are ...</td>\n",
       "      <td>NaN</td>\n",
       "    </tr>\n",
       "  </tbody>\n",
       "</table>\n",
       "<p>3 rows × 40 columns</p>\n",
       "</div>"
      ],
      "text/plain": [
       "                  Report No. Report Date  \\\n",
       "0  20231002-D13C7-2147344911   10/2/2023   \n",
       "1  20180126-BBF18-2147393362   1/26/2018   \n",
       "2  20141231-7C153-2147437145  12/31/2014   \n",
       "\n",
       "  Sent to Manufacturer / Importer / Private Labeler Publication Date  \\\n",
       "0                                        10/27/2023       11/20/2023   \n",
       "1                                         4/13/2018        4/27/2018   \n",
       "2                                          1/9/2015        1/26/2015   \n",
       "\n",
       "  Category of Submitter                                Product Description  \\\n",
       "0              Consumer  Slime globe with colored spheres which resembl...   \n",
       "1              Consumer            Slime kit from Nickelodeon by Cra-Z-Art   \n",
       "2              Consumer  Lalaloopsy Color Me Doll ( Squiggles N. Shapes...   \n",
       "\n",
       "  Product Category Product Sub Category              Product Type  \\\n",
       "0  Toys & Children        Arts & Crafts  Molding Compounds (1376)   \n",
       "1  Toys & Children        Arts & Crafts  Molding Compounds (1376)   \n",
       "2  Toys & Children        Arts & Crafts   Crayons or Chalk (5010)   \n",
       "\n",
       "   Product Code  ... Submitter Has Product  \\\n",
       "0          1376  ...                   NaN   \n",
       "1          1376  ...                   Yes   \n",
       "2          5010  ...                   NaN   \n",
       "\n",
       "  Product Was Damaged Before Incident Damage Description Damage Repaired  \\\n",
       "0                                 NaN                NaN             NaN   \n",
       "1                                  No                NaN             NaN   \n",
       "2                                 NaN                NaN             NaN   \n",
       "\n",
       "  Product Was Modified Before Incident Have You Contacted The Manufacturer  \\\n",
       "0                                  NaN                                 NaN   \n",
       "1                                   No                                 Yes   \n",
       "2                                  NaN                                  No   \n",
       "\n",
       "  If Not Do You Plan To         Answer Explanation  \\\n",
       "0                   NaN                        NaN   \n",
       "1                   NaN  I already have explained.   \n",
       "2                    No                        NaN   \n",
       "\n",
       "                                    Company Comments Associated Report Numbers  \n",
       "0  TOYSMITH: Thank you for the opportunity to rev...                       NaN  \n",
       "1   We at Cra-Z-Art® are very sorry that the cons...                       NaN  \n",
       "2  The chalk markers included with this item are ...                       NaN  \n",
       "\n",
       "[3 rows x 40 columns]"
      ]
     },
     "execution_count": 5,
     "metadata": {},
     "output_type": "execute_result"
    }
   ],
   "source": [
    "recalls_df = pd.concat([df_arts, df_riding, df_toys], ignore_index=True)\n",
    "# Preview\n",
    "print(\"Combined recall records:\", len(recalls_df))\n",
    "print(\"Columns:\", recalls_df.columns.tolist())\n",
    "recalls_df.head(3)"
   ]
  },
  {
   "cell_type": "markdown",
   "id": "ed50ff3e-a7df-4472-89be-d74bb5e6f0d0",
   "metadata": {},
   "source": [
    "## Calculating Similarity Scores Between Amazon and Recall Products Using a Pre-Trained Model (`intfloat/e5-large-v2`)"
   ]
  },
  {
   "cell_type": "code",
   "execution_count": 7,
   "id": "cccce4b1-9191-410a-84ab-54e9192b091a",
   "metadata": {},
   "outputs": [
    {
     "name": "stderr",
     "output_type": "stream",
     "text": [
      "C:\\Users\\Betul\\anaconda3\\envs\\pytorch_env\\Lib\\site-packages\\transformers\\models\\bert\\modeling_bert.py:439: UserWarning: 1Torch was not compiled with flash attention. (Triggered internally at C:\\cb\\pytorch_1000000000000\\work\\aten\\src\\ATen\\native\\transformers\\cuda\\sdp_utils.cpp:555.)\n",
      "  attn_output = torch.nn.functional.scaled_dot_product_attention(\n"
     ]
    }
   ],
   "source": [
    "# -----------------------------------------------------------\n",
    "# 0 · Imports\n",
    "# -----------------------------------------------------------\n",
    "from sentence_transformers import SentenceTransformer\n",
    "import torch, numpy as np, pandas as pd\n",
    "\n",
    "# -----------------------------------------------------------\n",
    "# 1 · safe_cat remains the same (builds text blobs)\n",
    "# -----------------------------------------------------------\n",
    "def safe_cat(df: pd.DataFrame, cols: list[str]) -> pd.Series:\n",
    "    parts = []\n",
    "    for c in cols:\n",
    "        if c in df.columns:\n",
    "            col = df[c]\n",
    "            if col.dtype == \"object\" and col.map(type).eq(list).any():\n",
    "                col = col.apply(lambda x: \" \".join(x) if isinstance(x, list) else str(x))\n",
    "            parts.append(col.astype(str).fillna(''))\n",
    "        else:\n",
    "            parts.append(pd.Series([''] * len(df), index=df.index))\n",
    "    return pd.Series([' '.join(p).strip() for p in zip(*parts)], index=df.index)\n",
    "\n",
    "amazon_text  = safe_cat(amazon_df,\n",
    "                        ['brand', 'title', 'description']).tolist()\n",
    "recalls_text = safe_cat(recalls_df,\n",
    "                        ['Brand', 'Model Name or Number', 'Product Description']).tolist()\n",
    "\n",
    "# -----------------------------------------------------------\n",
    "# 2 · Sentence-Transformer model (fp16) on GPU\n",
    "# -----------------------------------------------------------\n",
    "model = SentenceTransformer(\"intfloat/e5-large-v2\", device=\"cuda\")\n",
    "model.half()                          # make the model itself fp16\n",
    "\n",
    "@torch.inference_mode()\n",
    "def encode_stream(texts, batch=256):\n",
    "    \"\"\"Yield-normalised fp16 numpy embeddings, batching on GPU.\"\"\"\n",
    "    chunks = []\n",
    "    for i in range(0, len(texts), batch):\n",
    "        embs = model.encode(\n",
    "            texts[i:i+batch],\n",
    "            batch_size=batch,\n",
    "            convert_to_tensor=True,       # GPU tensor\n",
    "            normalize_embeddings=True\n",
    "        ).half().cpu()                   # move to CPU, fp16\n",
    "        chunks.append(embs)\n",
    "        torch.cuda.empty_cache()         # release VRAM right away\n",
    "    return torch.cat(chunks, dim=0).numpy()\n",
    "\n",
    "cat_emb = encode_stream(amazon_text, 256)      # CPU ndarray, shape (600k,1024)\n",
    "qry_emb = encode_stream(recalls_text, 64)      # ~3k rows, still tiny\n",
    "\n",
    "# -----------------------------------------------------------\n",
    "# 3 · Similarity search on GPU (all fits: 1.2 GB + a few MB)\n",
    "# -----------------------------------------------------------\n",
    "cat_gpu = torch.from_numpy(cat_emb).to('cuda')         # 600k × 1024 fp16 ≈1.2 GB\n",
    "qry_gpu = torch.from_numpy(qry_emb).to('cuda')\n",
    "\n",
    "k = 20\n",
    "sims, idxs = torch.topk(qry_gpu @ cat_gpu.T, k=k, dim=1)\n",
    "indices = idxs.cpu().numpy();  sims = sims.cpu().numpy()\n",
    "\n",
    "# -----------------------------------------------------------\n",
    "# 4 · Pack as DataFrame\n",
    "# -----------------------------------------------------------\n",
    "rows = [{\"recall_idx\": q, \"amazon_idx\": a, \"rank\": r+1, \"similarity\": float(s)}\n",
    "        for q, (ii, ss) in enumerate(zip(indices, sims))\n",
    "        for r, (a, s)  in enumerate(zip(ii, ss))]\n",
    "matches_df = pd.DataFrame(rows)"
   ]
  },
  {
   "cell_type": "code",
   "execution_count": null,
   "id": "2d3921c8-8dbb-46c2-8f37-6996fa6509b9",
   "metadata": {},
   "outputs": [],
   "source": [
    "matches_df.to_csv(\"../Data/matches_df.csv\", index=True)"
   ]
  },
  {
   "cell_type": "code",
   "execution_count": 20,
   "id": "a9deb10f-07f9-4bfe-9040-f58445f26e05",
   "metadata": {},
   "outputs": [
    {
     "data": {
      "text/html": [
       "<div>\n",
       "<style scoped>\n",
       "    .dataframe tbody tr th:only-of-type {\n",
       "        vertical-align: middle;\n",
       "    }\n",
       "\n",
       "    .dataframe tbody tr th {\n",
       "        vertical-align: top;\n",
       "    }\n",
       "\n",
       "    .dataframe thead th {\n",
       "        text-align: right;\n",
       "    }\n",
       "</style>\n",
       "<table border=\"1\" class=\"dataframe\">\n",
       "  <thead>\n",
       "    <tr style=\"text-align: right;\">\n",
       "      <th></th>\n",
       "      <th>recall_idx</th>\n",
       "      <th>amazon_idx</th>\n",
       "      <th>rank</th>\n",
       "      <th>similarity</th>\n",
       "    </tr>\n",
       "  </thead>\n",
       "  <tbody>\n",
       "    <tr>\n",
       "      <th>0</th>\n",
       "      <td>0</td>\n",
       "      <td>150388</td>\n",
       "      <td>1</td>\n",
       "      <td>0.841797</td>\n",
       "    </tr>\n",
       "    <tr>\n",
       "      <th>1</th>\n",
       "      <td>0</td>\n",
       "      <td>190209</td>\n",
       "      <td>2</td>\n",
       "      <td>0.837891</td>\n",
       "    </tr>\n",
       "    <tr>\n",
       "      <th>2</th>\n",
       "      <td>0</td>\n",
       "      <td>485220</td>\n",
       "      <td>3</td>\n",
       "      <td>0.837402</td>\n",
       "    </tr>\n",
       "    <tr>\n",
       "      <th>3</th>\n",
       "      <td>0</td>\n",
       "      <td>69932</td>\n",
       "      <td>4</td>\n",
       "      <td>0.836426</td>\n",
       "    </tr>\n",
       "    <tr>\n",
       "      <th>4</th>\n",
       "      <td>0</td>\n",
       "      <td>276102</td>\n",
       "      <td>5</td>\n",
       "      <td>0.835449</td>\n",
       "    </tr>\n",
       "    <tr>\n",
       "      <th>5</th>\n",
       "      <td>0</td>\n",
       "      <td>591132</td>\n",
       "      <td>6</td>\n",
       "      <td>0.833008</td>\n",
       "    </tr>\n",
       "    <tr>\n",
       "      <th>6</th>\n",
       "      <td>0</td>\n",
       "      <td>144243</td>\n",
       "      <td>7</td>\n",
       "      <td>0.833008</td>\n",
       "    </tr>\n",
       "    <tr>\n",
       "      <th>7</th>\n",
       "      <td>0</td>\n",
       "      <td>547257</td>\n",
       "      <td>8</td>\n",
       "      <td>0.833008</td>\n",
       "    </tr>\n",
       "    <tr>\n",
       "      <th>8</th>\n",
       "      <td>0</td>\n",
       "      <td>196781</td>\n",
       "      <td>9</td>\n",
       "      <td>0.832520</td>\n",
       "    </tr>\n",
       "    <tr>\n",
       "      <th>9</th>\n",
       "      <td>0</td>\n",
       "      <td>162450</td>\n",
       "      <td>10</td>\n",
       "      <td>0.831055</td>\n",
       "    </tr>\n",
       "    <tr>\n",
       "      <th>10</th>\n",
       "      <td>0</td>\n",
       "      <td>483493</td>\n",
       "      <td>11</td>\n",
       "      <td>0.831055</td>\n",
       "    </tr>\n",
       "    <tr>\n",
       "      <th>11</th>\n",
       "      <td>0</td>\n",
       "      <td>94568</td>\n",
       "      <td>12</td>\n",
       "      <td>0.831055</td>\n",
       "    </tr>\n",
       "    <tr>\n",
       "      <th>12</th>\n",
       "      <td>0</td>\n",
       "      <td>540679</td>\n",
       "      <td>13</td>\n",
       "      <td>0.830566</td>\n",
       "    </tr>\n",
       "    <tr>\n",
       "      <th>13</th>\n",
       "      <td>0</td>\n",
       "      <td>273680</td>\n",
       "      <td>14</td>\n",
       "      <td>0.830566</td>\n",
       "    </tr>\n",
       "    <tr>\n",
       "      <th>14</th>\n",
       "      <td>0</td>\n",
       "      <td>472471</td>\n",
       "      <td>15</td>\n",
       "      <td>0.830078</td>\n",
       "    </tr>\n",
       "    <tr>\n",
       "      <th>15</th>\n",
       "      <td>0</td>\n",
       "      <td>474985</td>\n",
       "      <td>16</td>\n",
       "      <td>0.830078</td>\n",
       "    </tr>\n",
       "    <tr>\n",
       "      <th>16</th>\n",
       "      <td>0</td>\n",
       "      <td>517769</td>\n",
       "      <td>17</td>\n",
       "      <td>0.829590</td>\n",
       "    </tr>\n",
       "    <tr>\n",
       "      <th>17</th>\n",
       "      <td>0</td>\n",
       "      <td>305691</td>\n",
       "      <td>18</td>\n",
       "      <td>0.829590</td>\n",
       "    </tr>\n",
       "    <tr>\n",
       "      <th>18</th>\n",
       "      <td>0</td>\n",
       "      <td>179104</td>\n",
       "      <td>19</td>\n",
       "      <td>0.829590</td>\n",
       "    </tr>\n",
       "    <tr>\n",
       "      <th>19</th>\n",
       "      <td>0</td>\n",
       "      <td>237808</td>\n",
       "      <td>20</td>\n",
       "      <td>0.829590</td>\n",
       "    </tr>\n",
       "  </tbody>\n",
       "</table>\n",
       "</div>"
      ],
      "text/plain": [
       "    recall_idx  amazon_idx  rank  similarity\n",
       "0            0      150388     1    0.841797\n",
       "1            0      190209     2    0.837891\n",
       "2            0      485220     3    0.837402\n",
       "3            0       69932     4    0.836426\n",
       "4            0      276102     5    0.835449\n",
       "5            0      591132     6    0.833008\n",
       "6            0      144243     7    0.833008\n",
       "7            0      547257     8    0.833008\n",
       "8            0      196781     9    0.832520\n",
       "9            0      162450    10    0.831055\n",
       "10           0      483493    11    0.831055\n",
       "11           0       94568    12    0.831055\n",
       "12           0      540679    13    0.830566\n",
       "13           0      273680    14    0.830566\n",
       "14           0      472471    15    0.830078\n",
       "15           0      474985    16    0.830078\n",
       "16           0      517769    17    0.829590\n",
       "17           0      305691    18    0.829590\n",
       "18           0      179104    19    0.829590\n",
       "19           0      237808    20    0.829590"
      ]
     },
     "execution_count": 20,
     "metadata": {},
     "output_type": "execute_result"
    }
   ],
   "source": [
    "matches_df.head(20)"
   ]
  },
  {
   "cell_type": "code",
   "execution_count": 58,
   "id": "d51bc703-dd7a-486e-a5b1-66fcf6f54566",
   "metadata": {},
   "outputs": [
    {
     "data": {
      "text/html": [
       "<div>\n",
       "<style scoped>\n",
       "    .dataframe tbody tr th:only-of-type {\n",
       "        vertical-align: middle;\n",
       "    }\n",
       "\n",
       "    .dataframe tbody tr th {\n",
       "        vertical-align: top;\n",
       "    }\n",
       "\n",
       "    .dataframe thead th {\n",
       "        text-align: right;\n",
       "    }\n",
       "</style>\n",
       "<table border=\"1\" class=\"dataframe\">\n",
       "  <thead>\n",
       "    <tr style=\"text-align: right;\">\n",
       "      <th></th>\n",
       "      <th>recall_idx</th>\n",
       "      <th>amazon_idx</th>\n",
       "      <th>rank</th>\n",
       "      <th>similarity</th>\n",
       "    </tr>\n",
       "  </thead>\n",
       "  <tbody>\n",
       "    <tr>\n",
       "      <th>1380</th>\n",
       "      <td>69</td>\n",
       "      <td>39429</td>\n",
       "      <td>1</td>\n",
       "      <td>0.955566</td>\n",
       "    </tr>\n",
       "    <tr>\n",
       "      <th>1840</th>\n",
       "      <td>92</td>\n",
       "      <td>203999</td>\n",
       "      <td>1</td>\n",
       "      <td>0.961914</td>\n",
       "    </tr>\n",
       "    <tr>\n",
       "      <th>3080</th>\n",
       "      <td>154</td>\n",
       "      <td>103352</td>\n",
       "      <td>1</td>\n",
       "      <td>0.952148</td>\n",
       "    </tr>\n",
       "    <tr>\n",
       "      <th>3081</th>\n",
       "      <td>154</td>\n",
       "      <td>596598</td>\n",
       "      <td>2</td>\n",
       "      <td>0.950684</td>\n",
       "    </tr>\n",
       "    <tr>\n",
       "      <th>3360</th>\n",
       "      <td>168</td>\n",
       "      <td>484612</td>\n",
       "      <td>1</td>\n",
       "      <td>0.950195</td>\n",
       "    </tr>\n",
       "    <tr>\n",
       "      <th>6520</th>\n",
       "      <td>326</td>\n",
       "      <td>194838</td>\n",
       "      <td>1</td>\n",
       "      <td>0.960449</td>\n",
       "    </tr>\n",
       "    <tr>\n",
       "      <th>10860</th>\n",
       "      <td>543</td>\n",
       "      <td>207940</td>\n",
       "      <td>1</td>\n",
       "      <td>0.972168</td>\n",
       "    </tr>\n",
       "    <tr>\n",
       "      <th>12900</th>\n",
       "      <td>645</td>\n",
       "      <td>454156</td>\n",
       "      <td>1</td>\n",
       "      <td>0.952637</td>\n",
       "    </tr>\n",
       "    <tr>\n",
       "      <th>16620</th>\n",
       "      <td>831</td>\n",
       "      <td>281716</td>\n",
       "      <td>1</td>\n",
       "      <td>0.985352</td>\n",
       "    </tr>\n",
       "    <tr>\n",
       "      <th>16621</th>\n",
       "      <td>831</td>\n",
       "      <td>364003</td>\n",
       "      <td>2</td>\n",
       "      <td>0.958984</td>\n",
       "    </tr>\n",
       "    <tr>\n",
       "      <th>18880</th>\n",
       "      <td>944</td>\n",
       "      <td>218338</td>\n",
       "      <td>1</td>\n",
       "      <td>0.950684</td>\n",
       "    </tr>\n",
       "    <tr>\n",
       "      <th>21520</th>\n",
       "      <td>1076</td>\n",
       "      <td>216574</td>\n",
       "      <td>1</td>\n",
       "      <td>0.969727</td>\n",
       "    </tr>\n",
       "    <tr>\n",
       "      <th>26540</th>\n",
       "      <td>1327</td>\n",
       "      <td>509612</td>\n",
       "      <td>1</td>\n",
       "      <td>0.978027</td>\n",
       "    </tr>\n",
       "    <tr>\n",
       "      <th>28080</th>\n",
       "      <td>1404</td>\n",
       "      <td>281716</td>\n",
       "      <td>1</td>\n",
       "      <td>0.975098</td>\n",
       "    </tr>\n",
       "    <tr>\n",
       "      <th>28081</th>\n",
       "      <td>1404</td>\n",
       "      <td>364003</td>\n",
       "      <td>2</td>\n",
       "      <td>0.963379</td>\n",
       "    </tr>\n",
       "    <tr>\n",
       "      <th>28360</th>\n",
       "      <td>1418</td>\n",
       "      <td>179603</td>\n",
       "      <td>1</td>\n",
       "      <td>0.961914</td>\n",
       "    </tr>\n",
       "    <tr>\n",
       "      <th>28380</th>\n",
       "      <td>1419</td>\n",
       "      <td>281716</td>\n",
       "      <td>1</td>\n",
       "      <td>0.981934</td>\n",
       "    </tr>\n",
       "    <tr>\n",
       "      <th>28381</th>\n",
       "      <td>1419</td>\n",
       "      <td>364003</td>\n",
       "      <td>2</td>\n",
       "      <td>0.960938</td>\n",
       "    </tr>\n",
       "    <tr>\n",
       "      <th>28880</th>\n",
       "      <td>1444</td>\n",
       "      <td>211696</td>\n",
       "      <td>1</td>\n",
       "      <td>0.953125</td>\n",
       "    </tr>\n",
       "    <tr>\n",
       "      <th>30120</th>\n",
       "      <td>1506</td>\n",
       "      <td>434055</td>\n",
       "      <td>1</td>\n",
       "      <td>0.959473</td>\n",
       "    </tr>\n",
       "    <tr>\n",
       "      <th>34980</th>\n",
       "      <td>1749</td>\n",
       "      <td>175103</td>\n",
       "      <td>1</td>\n",
       "      <td>0.957031</td>\n",
       "    </tr>\n",
       "    <tr>\n",
       "      <th>35580</th>\n",
       "      <td>1779</td>\n",
       "      <td>182316</td>\n",
       "      <td>1</td>\n",
       "      <td>0.958984</td>\n",
       "    </tr>\n",
       "    <tr>\n",
       "      <th>36920</th>\n",
       "      <td>1846</td>\n",
       "      <td>262003</td>\n",
       "      <td>1</td>\n",
       "      <td>0.968262</td>\n",
       "    </tr>\n",
       "    <tr>\n",
       "      <th>38020</th>\n",
       "      <td>1901</td>\n",
       "      <td>491413</td>\n",
       "      <td>1</td>\n",
       "      <td>0.971680</td>\n",
       "    </tr>\n",
       "    <tr>\n",
       "      <th>40580</th>\n",
       "      <td>2029</td>\n",
       "      <td>142456</td>\n",
       "      <td>1</td>\n",
       "      <td>0.987305</td>\n",
       "    </tr>\n",
       "  </tbody>\n",
       "</table>\n",
       "</div>"
      ],
      "text/plain": [
       "       recall_idx  amazon_idx  rank  similarity\n",
       "1380           69       39429     1    0.955566\n",
       "1840           92      203999     1    0.961914\n",
       "3080          154      103352     1    0.952148\n",
       "3081          154      596598     2    0.950684\n",
       "3360          168      484612     1    0.950195\n",
       "6520          326      194838     1    0.960449\n",
       "10860         543      207940     1    0.972168\n",
       "12900         645      454156     1    0.952637\n",
       "16620         831      281716     1    0.985352\n",
       "16621         831      364003     2    0.958984\n",
       "18880         944      218338     1    0.950684\n",
       "21520        1076      216574     1    0.969727\n",
       "26540        1327      509612     1    0.978027\n",
       "28080        1404      281716     1    0.975098\n",
       "28081        1404      364003     2    0.963379\n",
       "28360        1418      179603     1    0.961914\n",
       "28380        1419      281716     1    0.981934\n",
       "28381        1419      364003     2    0.960938\n",
       "28880        1444      211696     1    0.953125\n",
       "30120        1506      434055     1    0.959473\n",
       "34980        1749      175103     1    0.957031\n",
       "35580        1779      182316     1    0.958984\n",
       "36920        1846      262003     1    0.968262\n",
       "38020        1901      491413     1    0.971680\n",
       "40580        2029      142456     1    0.987305"
      ]
     },
     "execution_count": 58,
     "metadata": {},
     "output_type": "execute_result"
    }
   ],
   "source": [
    "matches_df[matches_df['similarity']>0.95]"
   ]
  },
  {
   "cell_type": "code",
   "execution_count": 52,
   "id": "9f72f271-002b-4957-b5df-f18330d2a416",
   "metadata": {},
   "outputs": [],
   "source": [
    "def print_metadata(df, indices):\n",
    "    \n",
    "    for i in indices:\n",
    "        if i >= len(df):\n",
    "            print(f\"⚠️ Index {i} is out of bounds.\")\n",
    "            continue\n",
    "\n",
    "        meta_row = df.iloc[i]\n",
    "        \n",
    "        print(\"🔹 META\")\n",
    "        print(f\"Brand:   {meta_row.get('brand', 'N/A')}\")\n",
    "        print(f\"Title:   {meta_row.get('title', 'N/A')}\")\n",
    "        print(f\"Feature: {meta_row.get('feature', 'N/A')}\")\n",
    "        print(\"-\" * 80)\n",
    "\n",
    "def print_recall_data(df, indices):\n",
    "    \n",
    "    for i in indices:\n",
    "        if i >= len(df):\n",
    "            print(f\"⚠️ Index {i} is out of bounds.\")\n",
    "            continue\n",
    "\n",
    "        recall_row = df.iloc[i]\n",
    "\n",
    "        print(\"🔹 REPORT\")\n",
    "        print(f\"Brand:               {recall_row.get('Brand', 'N/A')}\")\n",
    "        print(f\"Product Description: {recall_row.get('Product Description', 'N/A')}\")\n",
    "        print(\"-\" * 80)"
   ]
  },
  {
   "cell_type": "code",
   "execution_count": 60,
   "id": "8603ef7d-0f96-4ea6-b361-602d01e801fc",
   "metadata": {},
   "outputs": [
    {
     "name": "stdout",
     "output_type": "stream",
     "text": [
      "🔹 REPORT\n",
      "Brand:               KiddieLand\n",
      "Product Description: Convertible Baby Rocker/Walker/Ride On ToyDescription Product DescriptionImagine, a ride-on toy that develops right along with your child. The Disney Princess 4-in-1 Ride-On adapts to your child's age. From a rocker to a ride-on, with parental handle control and without, this fun-on-the-move vehicle promises hours and hours of fun. It's all with an eye towards safety and security, and all in the company of her favorite Disney Princesses. Press the buttons for lots of light-and-sound action. Play the keyboard as the Princesses dance. When your little princess is ready for a ride-on, simply remove the rocker base and listen for the real car sounds as she turns the key and pushes the throttle. It's truly a ride through Wonderland. The Disney Princess 4-in-1 Ride-On features: Includes ride-on vehicle, rocker base, parental handle control, seatback handle bar, assembly fixtures and instructions Disney Princess vehicle turns from a rocker to a ride-on as your child grows Strong durable construction for safe interactive play Smooth rocking action that transforms to easy wheeling along when rocker base is removed Push handle and safety shield provide extra comfort and security Features lots of sound-and-light action Play along with the colorful built-in keyboard Foot pedal flips up and down From 12 to 14 months, place on the base as a rocker From 15 to 17 months, remove the base and it becomes a safety walker From 18 months on, it becomes a fun-filled ride-on Adult assembly required Dimensions: 20 x 14 x 8 inches Weight: 9 lb Maximum weight capacity: 50 lbs \n",
      "--------------------------------------------------------------------------------\n",
      "🔹 META\n",
      "Brand:   Kiddieland Toys Limited\n",
      "Title:   Kiddieland Disney Baby Princess Activity 4-in-1 Ride-On\n",
      "Feature: []\n",
      "--------------------------------------------------------------------------------\n"
     ]
    }
   ],
   "source": [
    "recall_indices = [69]\n",
    "amazon_indices = [39429]\n",
    "print_recall_data(recalls_df, recall_indices)\n",
    "print_metadata(amazon_df, amazon_indices)"
   ]
  },
  {
   "cell_type": "markdown",
   "id": "32343b56-8007-4867-8b13-2a24b0c34fd5",
   "metadata": {},
   "source": [
    "**Note:** Using a threshold of 0.84 for similarity scores does not always yield good matches. Increasing the threshold to 0.95 improves precision but may result in missing some true positive cases.\n",
    "\n",
    "To improve the quality of matches, we first perform brand matching using fuzzy string matching.  \n",
    "Next, we apply two different methods:\n",
    "\n",
    "1. **Fuzzy Matching:** We apply fuzzy match both the product title and product description.\n",
    "2. **Pre-Trained Model (`intfloat/e5-large-v2`):** We use a pre-trained model to calculate similarity scores between Amazon product titles and incident product descriptions."
   ]
  },
  {
   "cell_type": "code",
   "execution_count": null,
   "id": "fff6ea36-e221-43a1-9815-f0d0de6e8433",
   "metadata": {},
   "outputs": [],
   "source": [
    "from rapidfuzz import fuzz\n",
    "from rapidfuzz.process import cdist\n",
    "\n",
    "def compute_brand_similarity_matrix(recalls_df, amazon_df, scorer=fuzz.token_sort_ratio, score_cutoff=90, workers=24):\n",
    "    \n",
    "    UNMATCHABLE = \"__MISSING__\"\n",
    "\n",
    "    brand_queries = (recalls_df['Brand'].fillna(UNMATCHABLE).astype(str).str.lower().str.strip().tolist())\n",
    "    \n",
    "    brand_choices = (amazon_df['brand'].fillna(UNMATCHABLE).astype(str).str.lower().str.strip().tolist())\n",
    "\n",
    "    similarity_brand_matrix = cdist(brand_queries, brand_choices, scorer=scorer, processor=None, score_cutoff=score_cutoff, workers=workers)\n",
    "    \n",
    "    return similarity_brand_matrix"
   ]
  },
  {
   "cell_type": "code",
   "execution_count": 70,
   "id": "c2d089ea-d50a-4a76-aeb2-6e6dc08f4724",
   "metadata": {},
   "outputs": [],
   "source": [
    "brand_matrix_s2_sc90 = compute_brand_similarity_matrix(recalls_df, amazon_df, scorer=fuzz.token_set_ratio, score_cutoff=90, workers=24)"
   ]
  },
  {
   "cell_type": "markdown",
   "id": "87514fe5-170d-48e5-8fab-df2943e32ea7",
   "metadata": {},
   "source": [
    "### Using Fuzzy Matching for Titles and Product Descriptions\n"
   ]
  },
  {
   "cell_type": "markdown",
   "id": "0b1bec66-2b0c-4f81-b534-cc96baac3dcf",
   "metadata": {},
   "source": [
    "We first calculate similarity matrices for brand matches as well as for titles and product descriptions. Next, we generate a DataFrame with the same length as the Amazon dataset to store binary match labels and the indices of matched recall products.\n"
   ]
  },
  {
   "cell_type": "code",
   "execution_count": 128,
   "id": "07a4ef35-e766-47fa-99fd-95c5ff1693d5",
   "metadata": {},
   "outputs": [],
   "source": [
    "def compute_description_similarity_matrix(recalls_df, amazon_df, scorer=fuzz.token_set_ratio, score_cutoff=80, workers=24):\n",
    "    \"\"\"\n",
    "    Compute a description/title similarity matrix using fuzzy matching.\n",
    "    Returns:\n",
    "        similarity_desc_matrix: list of lists with (matched_string, score, amazon_index)\n",
    "    \"\"\"\n",
    "    desc_queries = (recalls_df['Product Description'].fillna(\"\").astype(str).str.lower().str.strip().tolist())\n",
    "    \n",
    "    title_choices = (amazon_df['title'].fillna(\"\").astype(str).str.lower().str.strip().tolist())\n",
    "\n",
    "    similarity_desc_matrix = cdist(desc_queries, title_choices, scorer=scorer, processor=None, score_cutoff=score_cutoff, workers=workers)\n",
    "\n",
    "    return similarity_desc_matrix"
   ]
  },
  {
   "cell_type": "code",
   "execution_count": 130,
   "id": "87e4232c-97f5-4024-af9f-4b0c4843911d",
   "metadata": {},
   "outputs": [],
   "source": [
    "brand_matrix_s2_sc90 = compute_brand_similarity_matrix(recalls_df, amazon_df, scorer=fuzz.token_set_ratio, score_cutoff=90, workers=24)\n",
    "desc_matrix_s2_sc80 = compute_description_similarity_matrix(recalls_df, amazon_df,  scorer=fuzz.token_set_ratio, score_cutoff=80, workers=24)"
   ]
  },
  {
   "cell_type": "code",
   "execution_count": 131,
   "id": "524cd81b-b0da-4a44-98da-dcc6e388a8b4",
   "metadata": {},
   "outputs": [],
   "source": [
    "from collections import defaultdict\n",
    "\n",
    "def compute_amazon_match_df(amazon_df, recalls_df, brand_matrix, desc_matrix):\n",
    "    \n",
    "    # 1) map amazon_idx -> list of recall_df indices\n",
    "    matches = defaultdict(list)\n",
    "    recall_global_indices = list(recalls_df.index)\n",
    "    n_reports = len(brand_matrix)\n",
    "\n",
    "    # guard: if recalls_df shorter, truncate\n",
    "    if len(recall_global_indices) < n_reports:\n",
    "        recall_global_indices = recall_global_indices[:n_reports]\n",
    "\n",
    "    for report_pos in range(n_reports):\n",
    "        # extract the sets of matching amazon indices\n",
    "        row_b = brand_matrix[report_pos]\n",
    "        if isinstance(row_b, np.ndarray):\n",
    "            brand_idxs = set(np.nonzero(row_b)[0])\n",
    "        else:\n",
    "            brand_idxs = {idx for _, _, idx in row_b}\n",
    "\n",
    "        row_d = desc_matrix[report_pos]\n",
    "        if isinstance(row_d, np.ndarray):\n",
    "            desc_idxs = set(np.nonzero(row_d)[0])\n",
    "        else:\n",
    "            desc_idxs = {idx for _, _, idx in row_d}\n",
    "\n",
    "        common = brand_idxs & desc_idxs\n",
    "        if not common:\n",
    "            continue\n",
    "\n",
    "        recall_idx = recall_global_indices[report_pos]\n",
    "        for amazon_idx in common:\n",
    "            matches[amazon_idx].append(recall_idx)\n",
    "\n",
    "    # 2) build the two columns\n",
    "    matched_lists = pd.Series(\n",
    "        [matches.get(i, []) for i in amazon_df.index],\n",
    "        index=amazon_df.index,\n",
    "        name='matched_recall_indices'\n",
    "    )\n",
    "    is_match = matched_lists.str.len().gt(0).astype(int)\n",
    "\n",
    "    # 3) return as DataFrame\n",
    "    return pd.DataFrame({\n",
    "        'matched_recall_indices': matched_lists,\n",
    "        'is_match':                is_match\n",
    "    })"
   ]
  },
  {
   "cell_type": "code",
   "execution_count": 132,
   "id": "b2ac6b48-a9c3-4b12-8fd7-058cc07c6007",
   "metadata": {},
   "outputs": [],
   "source": [
    "match_df_s2_sc90 =  compute_amazon_match_df(amazon_df, recalls_df, brand_matrix_s2_sc90, desc_matrix_s2_sc80)"
   ]
  },
  {
   "cell_type": "code",
   "execution_count": 133,
   "id": "6a090334-879e-4da4-9d07-5c9a16d0bbb1",
   "metadata": {},
   "outputs": [],
   "source": [
    "from typing import Dict, List\n",
    "\n",
    "def compare_match_columns(col_a, col_b):\n",
    "\n",
    "    # align indices, filling missing with 0\n",
    "    a, b = col_a.align(col_b, join='inner', fill_value=0)\n",
    "    a_mask = a == 1\n",
    "    b_mask = b == 1\n",
    "\n",
    "    intersection   = a.index[a_mask & b_mask].tolist()\n",
    "    only_a         = a.index[a_mask & ~b_mask].tolist()\n",
    "    only_b         = a.index[~a_mask & b_mask].tolist()\n",
    "    symmetric_diff = a.index[a_mask ^ b_mask].tolist()\n",
    "\n",
    "    return {\n",
    "        'intersection':    intersection,\n",
    "        'only_a':          only_a,\n",
    "        'only_b':          only_b,\n",
    "        'symmetric_diff':  symmetric_diff\n",
    "    }"
   ]
  },
  {
   "cell_type": "code",
   "execution_count": 140,
   "id": "640bd7ac-3056-4841-a2fb-716ae494bcee",
   "metadata": {},
   "outputs": [],
   "source": [
    "def print_difference(diff_amazon_ind, match_df, amazon_df):\n",
    "    for id_a in diff_amazon_ind:\n",
    "        print(f\"Amazon Index: {id_a}\")\n",
    "        print_metadata(amazon_df, [id_a])\n",
    "        recall_indices = match_df.loc[id_a,['matched_recall_indices']]\n",
    "        print_recall_data(recalls_df, recall_indices.iloc[0])"
   ]
  },
  {
   "cell_type": "markdown",
   "id": "efabb1e3-b1a9-43b3-b7a8-61b556c9c5c0",
   "metadata": {},
   "source": [
    "## Calculate the Similarity Scores With Pretrained Model (`intfloat/e5-large-v2`)"
   ]
  },
  {
   "cell_type": "code",
   "execution_count": 161,
   "id": "6224e170-2ae7-44af-bd93-15edb44366da",
   "metadata": {},
   "outputs": [],
   "source": [
    "def label_amazon_by_brand_and_title(\n",
    "        amazon_df:           pd.DataFrame,\n",
    "        recalls_df:          pd.DataFrame,\n",
    "        brand_sim_matrix:    np.ndarray,   # shape (n_recalls, n_amazon)\n",
    "        title_score_thresh:  float = 0.80,\n",
    "        *,\n",
    "        amazon_title_col:    str   = \"title\",\n",
    "        recall_desc_col:     str   = \"Product Description\",\n",
    "        model_name:          str   = \"intfloat/e5-large-v2\",\n",
    "        batch_size:          int   = 256,\n",
    "        device:              str   = \"cuda\"\n",
    "    ) -> pd.DataFrame:\n",
    "    \"\"\"\n",
    "    1.  brand_sim_matrix[r, a]  > 0  ⇒  (recall r, amazon a) share a brand.\n",
    "    2.  For each such pair, compute cosine( title[a], desc[r] ).\n",
    "    3.  Keep pairs whose cosine ≥ title_score_thresh.\n",
    "    4.  Return a copy of amazon_df with four new columns:\n",
    "          • match_recall_indices   — list[int]      (kept in the same order)\n",
    "          • match_recall_scores    — list[float]    (parallel to the indices)\n",
    "          • num_matches            — int            (len of the list)\n",
    "          • is_match               — 0/1            (num_matches > 0)\n",
    "    \"\"\"\n",
    "\n",
    "    # ---------- 1 · Load transformer & embed ----------\n",
    "    model = SentenceTransformer(model_name, device=device)\n",
    "    model.half()\n",
    "\n",
    "    @torch.inference_mode()\n",
    "    def _embed(texts, bs=batch_size):\n",
    "        parts = []\n",
    "        for i in range(0, len(texts), bs):\n",
    "            part = model.encode(\n",
    "                texts[i:i+bs],\n",
    "                batch_size=bs,\n",
    "                convert_to_tensor=True,\n",
    "                normalize_embeddings=True,\n",
    "            ).half().cpu()\n",
    "            parts.append(part)\n",
    "            torch.cuda.empty_cache()\n",
    "        return torch.cat(parts).numpy()\n",
    "\n",
    "    amazon_titles = amazon_df[amazon_title_col].fillna(\"\").astype(str).tolist()\n",
    "    recall_descs  = recalls_df[recall_desc_col].fillna(\"\").astype(str).tolist()\n",
    "\n",
    "    amazon_emb = _embed(amazon_titles)      # (n_amz, 1024)\n",
    "    recall_emb = _embed(recall_descs)       # (n_rec, 1024)\n",
    "\n",
    "    # ---------- 2 · Brand-filtered candidate list ----------\n",
    "    # brand_sim_matrix > 0  means “brand passed whatever cutoff we used”\n",
    "    cand_map = {a: np.nonzero(brand_sim_matrix[:, a])[0]\n",
    "                for a in range(brand_sim_matrix.shape[1])}\n",
    "\n",
    "    # ---------- 3 · Second-stage similarity ----------\n",
    "    match_indices = [[] for _ in range(len(amazon_df))]\n",
    "    match_scores  = [[] for _ in range(len(amazon_df))]\n",
    "\n",
    "    for a_idx, r_idxs in cand_map.items():\n",
    "        if r_idxs.size == 0:\n",
    "            continue\n",
    "        vec_a = amazon_emb[a_idx]                    # 1 × 1024\n",
    "        sims   = recall_emb[r_idxs] @ vec_a          # cosine (embeddings L2-norm = 1)\n",
    "        keep_mask = sims >= title_score_thresh\n",
    "        if keep_mask.any():\n",
    "            match_indices[a_idx].extend(r_idxs[keep_mask].tolist())\n",
    "            match_scores[a_idx].extend(sims[keep_mask].tolist())\n",
    "\n",
    "    # ---------- 4 · Assemble output ----------\n",
    "    out = amazon_df.copy()\n",
    "    out[\"matched_recall_indices\"] = match_indices\n",
    "    out[\"matched_recall_scores\"]  = match_scores\n",
    "    out[\"num_matches\"]          = out[\"matched_recall_indices\"].str.len()\n",
    "    out[\"is_match\"]             = (out[\"num_matches\"] > 0).astype(int)\n",
    "\n",
    "    return out\n"
   ]
  },
  {
   "cell_type": "code",
   "execution_count": 163,
   "id": "348dc159-27c4-4607-a0f8-f7a4bed282f7",
   "metadata": {},
   "outputs": [],
   "source": [
    "amazon_labeled2 = label_amazon_by_brand_and_title(\n",
    "    amazon_df,\n",
    "    recalls_df,\n",
    "    brand_sim_matrix = brand_matrix_s2_sc90,\n",
    "    title_score_thresh = 0.84          \n",
    ")"
   ]
  },
  {
   "cell_type": "markdown",
   "id": "cded6c3b-a71e-40fa-9179-76cd696c2162",
   "metadata": {},
   "source": [
    "## Find Differences in Matches Captured by Two Different Approaches"
   ]
  },
  {
   "cell_type": "code",
   "execution_count": 165,
   "id": "b8d022fa-e96f-4db7-b270-c333bf84636c",
   "metadata": {},
   "outputs": [
    {
     "name": "stdout",
     "output_type": "stream",
     "text": [
      "✓ Both methods agree on: 3076\n",
      "✗ Only method1: 29642\n",
      "✗ Only method2: 2029\n",
      "🔀 Methods disagree: 31671\n"
     ]
    }
   ],
   "source": [
    "result2 = compare_match_columns(amazon_labeled2['is_match'],match_df_s2_sc90['is_match'])\n",
    "\n",
    "print(\"✓ Both methods agree on:\", len(result2['intersection']))\n",
    "print(\"✗ Only method1:\",      len(result2['only_a']))\n",
    "print(\"✗ Only method2:\",      len(result2['only_b']))\n",
    "print(\"🔀 Methods disagree:\",          len(result2['symmetric_diff']))"
   ]
  },
  {
   "cell_type": "markdown",
   "id": "31a253b8-3f86-495d-9b11-f9e6a5e32d2a",
   "metadata": {},
   "source": [
    "Both methods agree on 3,076 product matches.  \n",
    "The method using the pre-trained model identified 29,642 matches that were not captured by the fuzzy matching approach.  \n",
    "Conversely, the fuzzy matching method found 2,029 unique matches that were not identified by the pre-trained mode.\n"
   ]
  },
  {
   "cell_type": "markdown",
   "id": "e5a0b207-50dc-44cb-ac3e-4ec17451c598",
   "metadata": {},
   "source": [
    "## Analyzing Matches Captured by Fuzzy Matching but Missed by the Pre-Trained Model"
   ]
  },
  {
   "cell_type": "code",
   "execution_count": 173,
   "id": "df527a39-6690-4a8c-9698-ee2b7ff9b0dc",
   "metadata": {},
   "outputs": [
    {
     "name": "stdout",
     "output_type": "stream",
     "text": [
      "Amazon Index: 1755\n",
      "🔹 META\n",
      "Brand:   SYMA\n",
      "Title:   Syma 3 Channel S107/S107G Mini Indoor Co-Axial R/C Helicopter w/ Gyro (White Color)\n",
      "Feature: []\n",
      "--------------------------------------------------------------------------------\n",
      "🔹 REPORT\n",
      "Brand:               Syma\n",
      "Product Description: R/C Helicopter \n",
      "--------------------------------------------------------------------------------\n",
      "Amazon Index: 1758\n",
      "🔹 META\n",
      "Brand:   SYMA\n",
      "Title:   SYMA S009G AH-64 Apache 3 Channel Indoor Helicopter with Gyroscope\n",
      "Feature: ['S0099G AH-64 Apache 3 channel helicopter indoor']\n",
      "--------------------------------------------------------------------------------\n",
      "🔹 REPORT\n",
      "Brand:               Syma\n",
      "Product Description: R/C Helicopter \n",
      "--------------------------------------------------------------------------------\n",
      "Amazon Index: 1907\n",
      "🔹 META\n",
      "Brand:   SYMA\n",
      "Title:   SYMA 3 Channel S029 Agusta Dauphin Mini RC Helicopter ---NEW!\n",
      "Feature: []\n",
      "--------------------------------------------------------------------------------\n",
      "🔹 REPORT\n",
      "Brand:               Syma\n",
      "Product Description: R/C Helicopter \n",
      "--------------------------------------------------------------------------------\n",
      "Amazon Index: 1942\n",
      "🔹 META\n",
      "Brand:   UDI\n",
      "Title:   3.5 Channel U810 Fighter RC Gyro Control Helicopter w/ Launching Missiles\n",
      "Feature: ['Directions: Up/Down, Forward/Backward, Right/left turn, and Hovering', 'Functions: Left/right missile launch, Acceleration, Missile launch with Sound', 'Control Distance: 10m +', 'Charging Time: 45 minutes', 'Charging methods: USB and transmitter']\n",
      "--------------------------------------------------------------------------------\n",
      "🔹 REPORT\n",
      "Brand:               UDI R/C U16\n",
      "Product Description: Remote Control Helicopter\n",
      "--------------------------------------------------------------------------------\n",
      "Amazon Index: 1971\n",
      "🔹 META\n",
      "Brand:   Learning Resources\n",
      "Title:   Learning Resources Tool Set\n",
      "Feature: ['For the young builder', '13 piece set', 'Stores in plastic tool box']\n",
      "--------------------------------------------------------------------------------\n",
      "🔹 REPORT\n",
      "Brand:               Learning Resources\n",
      "Product Description: Learning Resources magnet movers toy. Comes with multiple magnets encased in plastic. the issue was with the orange sphere\n",
      "--------------------------------------------------------------------------------\n",
      "🔹 REPORT\n",
      "Brand:               Learning Resources\n",
      "Product Description: Learning Resources Snap and Learn Rainbow Owls. The two-piece owls pop apart and snap back together, use to learn gross motor skills or sorting skills.The 10 owls are 3-in-1  color toys, number toys, and sorting toys. They are each about 2x3.\n",
      "--------------------------------------------------------------------------------\n",
      "🔹 REPORT\n",
      "Brand:               Learning Resources\n",
      "Product Description: Learning Resources Spike The Fine Motor Hedgehoghttps://www.learningresources.com/spike-the-fine-motor-hedgehogtm\n",
      "--------------------------------------------------------------------------------\n",
      "🔹 REPORT\n",
      "Brand:               Learning Resources\n",
      "Product Description: Snap-n-Learn Rainbow Owls by Learning Resources barcode 765023067118\n",
      "--------------------------------------------------------------------------------\n",
      "🔹 REPORT\n",
      "Brand:               Learning Resources\n",
      "Product Description: Learning resources smart snacks shape sorting cupcakes on the box it has a upc with B5049720209.  ON the box it has LER7347in the upper right hand corner. 17 piece set for ages 2+Peek under the frosting, match the hidden shape, and pop them in the pain.  Serves up some fun for everyone! \n",
      "--------------------------------------------------------------------------------\n",
      "🔹 REPORT\n",
      "Brand:               Learning Resources\n",
      "Product Description: Learning Resources - Snap-N-Learn Counting Sheep, 20 pcs. 18 mos and up\n",
      "--------------------------------------------------------------------------------\n",
      "Amazon Index: 2021\n",
      "🔹 META\n",
      "Brand:   Barbie\n",
      "Title:   Barbie Teresa Butterfly Art Doll (1998)\n",
      "Feature: ['1998 - Mattel - Friends Of Barbie Series', 'Butterfly Art Teresa Dol - 12 Inches Tall', 'Includes: Brush / 2 Sheets of Decorations / Knit Bikini / Jeans Skirt', 'Out of Prodcution - Item #20361', 'New - Mint - Limited Edition - Collectible']\n",
      "--------------------------------------------------------------------------------\n",
      "🔹 REPORT\n",
      "Brand:               Barbie doll by Mattel\n",
      "Product Description: Barbie doll\n",
      "--------------------------------------------------------------------------------\n",
      "Amazon Index: 2027\n",
      "🔹 META\n",
      "Brand:   Barbie\n",
      "Title:   Barbie Butterfly Art Christie Doll (1998)\n",
      "Feature: ['Butterfly Art Christie Doll is a 1998 Mattel production made in Indonesia & US.', 'INCLUDES: AA Ethnic Christie Doll is approx. 11.5\" tall & has long Dark Brown Hair & Brown Eyes. Christie Doll wears a Skirt, 2 Pce Swimsuit, and comes w Temporary Transfers (TATTOOS), Hair Brush & Instructions.', 'Box is from Canada & has Multi-Lingual Writing: English, French, Spanish & More.`', 'For Ages 3+ Years. All sizes, colors & description details are taken from box &/or provided to the best of my ability & may not be exact & may vary.', '*NEW. Box ONLY has small tear at top & side creases. For Box Condition - Email Seller for Details.']\n",
      "--------------------------------------------------------------------------------\n",
      "🔹 REPORT\n",
      "Brand:               Barbie doll by Mattel\n",
      "Product Description: Barbie doll\n",
      "--------------------------------------------------------------------------------\n",
      "Amazon Index: 2028\n",
      "🔹 META\n",
      "Brand:   Mattel\n",
      "Title:   Butterfly Art BARBIE Doll w Cool Decorations (1998)\n",
      "Feature: ['Butterfly Art Barbie Doll is a 1998 Mattel production.', 'Includes: Barbie Doll approx. 11.5\" tall. Doll comes with a pink & yellow knit 2 Piece Bathing Suit, a blue denim Skirt w/fringe hem, a \\'knit\\' Necklace & Bracelet, a pink Hair Brush, & comes with 2 Sheets of Cool Decorations (Temporary Tattoos) for YOU & Barbie!', 'Barbie Doll has \"Tattoos\". After Doll was placed on store shelves, they were eventually taken off due to \"Controversy\" & parental concerns about the \"Tattoos\". Mattel brought back the Dolls without the Tattoos.', 'For Ages 3+ Years. All provided information is to the best of my ability; sizes, colors, styles & details may vary.', 'For Box Condition Information, Email Seller for details.']\n",
      "--------------------------------------------------------------------------------\n",
      "🔹 REPORT\n",
      "Brand:               Barbie doll by Mattel\n",
      "Product Description: Barbie doll\n",
      "--------------------------------------------------------------------------------\n",
      "Amazon Index: 2031\n",
      "🔹 META\n",
      "Brand:   Barbie\n",
      "Title:   1998 - Mattel - Friends of Barbie - Butterfly Art Ken Doll - 12 Inches Tall - 2 Sheets of Decorations - Includes Jeans Shorts / Sunglasses / Tank Top / Necklace - New - Out of Production - Limited Edition - Collectible\n",
      "Feature: ['1998 - Mattel - Friends of Barbie Series', 'Butterfly Art Ken Doll - 12 Inches Tall', 'Includes: Jeans Shorts / Tank Top / Sunglasses / Necklace / 2 Sheets of Decorations', 'Out of Production - Item #22995', 'New - Mint - Limited Edition - Collectible']\n",
      "--------------------------------------------------------------------------------\n",
      "🔹 REPORT\n",
      "Brand:               Barbie doll by Mattel\n",
      "Product Description: Barbie doll\n",
      "--------------------------------------------------------------------------------\n",
      "Amazon Index: 2080\n",
      "🔹 META\n",
      "Brand:   Toy Story\n",
      "Title:   Disney Pixar Toy Story 2 Flight Control Talking Buzz Lightyear 12&quot; Action Figure (1999 Mattel)\n",
      "Feature: ['Disney Pixar Toy Story 2 Flight Control Talking Buzz Lightyear, The \"Smartest\" Buzz known to man.', '12 inches tall. Flip-up Helmet, Expandable wings, Life-like movable head. Laser light and sound button.', 'Flip-up star command wrist communicator, Activators-launch, Stealth and Hyperdrive.', 'Helmet Strip lights up during stealth mode. Talks.', 'Made by Mattel in 1999 and long out of production.']\n",
      "--------------------------------------------------------------------------------\n",
      "🔹 REPORT\n",
      "Brand:               Toy Story\n",
      "Product Description: Talking Buzz Lightyear\n",
      "--------------------------------------------------------------------------------\n"
     ]
    }
   ],
   "source": [
    "print_difference(result['only_b'][:10], match_df_s2_sc90, amazon_df)"
   ]
  },
  {
   "cell_type": "markdown",
   "id": "50e0b8d2-f05c-4c1c-93b8-8c2994437380",
   "metadata": {},
   "source": [
    "Upon reviewing the matches identified by the fuzzy matching method but not captured by the pre-trained model, we found that these results are generally of good quality. \n",
    "\n",
    "To further refine them, we will calculate their similarity scores using the pre-trained model and discard those with low score.\n"
   ]
  },
  {
   "cell_type": "code",
   "execution_count": 209,
   "id": "8a18a699-0089-4a47-87cd-3d4be051bc85",
   "metadata": {},
   "outputs": [],
   "source": [
    "from typing import Sequence\n",
    "\n",
    "def get_matched_title_similarity_scores(\n",
    "    amazon_df:      pd.DataFrame,\n",
    "    recalls_df:     pd.DataFrame,\n",
    "    match_df:       pd.DataFrame,            # MUST have 'matched_recall_indices'\n",
    "    *,\n",
    "    amazon_indices: Sequence[int],           # subset to score\n",
    "    amazon_title_col: str = \"title\",\n",
    "    recall_desc_col:  str = \"Product Description\",\n",
    "    model_name:       str = \"intfloat/e5-large-v2\",\n",
    "    device:           str = \"cuda\",\n",
    "    batch_size:       int = 256,\n",
    ") -> pd.DataFrame:\n",
    "\n",
    "    # ------------------------------------------------------------------ #\n",
    "    # 0 · Normalise & sanity-check inputs\n",
    "    # ------------------------------------------------------------------ #\n",
    "    amazon_indices = list(dict.fromkeys(amazon_indices))        # deduplicate\n",
    "    missing = [idx for idx in amazon_indices if idx not in match_df.index]\n",
    "    if missing:\n",
    "        raise ValueError(f\"These amazon_indices are absent from match_df: {missing}\")\n",
    "\n",
    "    # ------------------------------------------------------------------ #\n",
    "    # 1 · Collect ALL recall rows referenced by those Amazon items\n",
    "    # ------------------------------------------------------------------ #\n",
    "    recall_used = {\n",
    "        rid\n",
    "        for a_idx in amazon_indices\n",
    "        for rid in match_df.at[a_idx, \"matched_recall_indices\"]\n",
    "    }\n",
    "    recall_used = sorted(recall_used)\n",
    "\n",
    "    # ------------------------------------------------------------------ #\n",
    "    # 2 · Embed titles & descriptions (fp16 on GPU)\n",
    "    # ------------------------------------------------------------------ #\n",
    "    model = SentenceTransformer(model_name, device=device).half()\n",
    "\n",
    "    @torch.inference_mode()\n",
    "    def _embed(texts):\n",
    "        chunks = []\n",
    "        for i in range(0, len(texts), batch_size):\n",
    "            part = model.encode(\n",
    "                texts[i : i + batch_size],\n",
    "                batch_size=batch_size,\n",
    "                convert_to_tensor=True,\n",
    "                normalize_embeddings=True,\n",
    "            ).half()            # stays on the same device as the model\n",
    "            chunks.append(part)\n",
    "        return torch.cat(chunks)\n",
    "\n",
    "    amazon_titles = (\n",
    "        amazon_df.loc[amazon_indices, amazon_title_col]\n",
    "        .fillna(\"\")\n",
    "        .astype(str)\n",
    "        .tolist()\n",
    "    )\n",
    "    amazon_embs = _embed(amazon_titles)                     # (k, 1024)\n",
    "\n",
    "    recall_descs = (\n",
    "        recalls_df.loc[recall_used, recall_desc_col]\n",
    "        .fillna(\"\")\n",
    "        .astype(str)\n",
    "        .tolist()\n",
    "    )\n",
    "    recall_embs = _embed(recall_descs)                      # (m, 1024)\n",
    "    rec_idx2emb = dict(zip(recall_used, recall_embs))\n",
    "\n",
    "    # map Amazon index → row offset in amazon_embs\n",
    "    aidx2row = {a: i for i, a in enumerate(amazon_indices)}\n",
    "\n",
    "    # ------------------------------------------------------------------ #\n",
    "    # 3 · Build per-row score lists\n",
    "    # ------------------------------------------------------------------ #\n",
    "    score_lists = []\n",
    "    for a_idx in amazon_indices:\n",
    "        a_emb = amazon_embs[aidx2row[a_idx]]\n",
    "        scores = [\n",
    "            float(torch.nn.functional.cosine_similarity(a_emb, rec_idx2emb[r], dim=0))\n",
    "            for r in match_df.at[a_idx, \"matched_recall_indices\"]\n",
    "        ]\n",
    "        score_lists.append(scores)\n",
    "\n",
    "    # ------------------------------------------------------------------ #\n",
    "    # 4 · Attach the new column without broadcasting issues\n",
    "    # ------------------------------------------------------------------ #\n",
    "    out = match_df.copy()\n",
    "\n",
    "    # 4a) start with a DISTINCT empty list for every row\n",
    "    out[\"matched_recall_scores\"] = [[] for _ in range(len(out))]\n",
    "\n",
    "    # 4b) create a Series with proper index alignment\n",
    "    score_ser = pd.Series(score_lists, index=amazon_indices, dtype=object)\n",
    "\n",
    "    # 4c) assign only to those rows\n",
    "    out.loc[score_ser.index, \"matched_recall_scores\"] = score_ser\n",
    "\n",
    "    return out\n"
   ]
  },
  {
   "cell_type": "code",
   "execution_count": 211,
   "id": "9c6d92f1-2f47-46cc-adea-7d767d54b326",
   "metadata": {},
   "outputs": [],
   "source": [
    "scores_df = get_matched_title_similarity_scores(\n",
    "    amazon_df,\n",
    "    recalls_df,\n",
    "    match_df_s2_sc90,\n",
    "    model_name = \"intfloat/e5-large-v2\",\n",
    "    amazon_title_col = \"title\",\n",
    "    recall_desc_col = \"Product Description\",\n",
    "    device = \"cuda\",\n",
    "    batch_size = 256,\n",
    "    amazon_indices = result2['only_b']\n",
    ") "
   ]
  },
  {
   "cell_type": "code",
   "execution_count": 233,
   "id": "fa1e8687-bcd9-4e9a-ac09-6cc0af62679e",
   "metadata": {},
   "outputs": [],
   "source": [
    "all_scores = []\n",
    "for ind_a in result2['only_b']:\n",
    "    all_scores+= scores_df.loc[ind_a,['matched_recall_scores']].iloc[0]\n",
    "    "
   ]
  },
  {
   "cell_type": "markdown",
   "id": "7dbead7a-f33b-480e-ab9e-f286f9574b1a",
   "metadata": {},
   "source": [
    "## Histogram of Similarity Scores for Matches Captured by Fuzzy Matching but Missed by Pre-trained Model"
   ]
  },
  {
   "cell_type": "code",
   "execution_count": 243,
   "id": "912ce2a9-32f2-4a68-9b7c-886f111fbe02",
   "metadata": {},
   "outputs": [
    {
     "data": {
      "image/png": "[encoded data removed]",
      "text/plain": [
       "<Figure size 640x480 with 1 Axes>"
      ]
     },
     "metadata": {},
     "output_type": "display_data"
    }
   ],
   "source": [
    "import matplotlib.pyplot as plt\n",
    "\n",
    "plt.hist(all_scores, bins=30, edgecolor='black')\n",
    "plt.xlabel('Similarity Score')\n",
    "plt.ylabel('Frequency')\n",
    "plt.title('Histogram of Similarity Scores')\n",
    "plt.show()\n"
   ]
  },
  {
   "cell_type": "markdown",
   "id": "67bc5b83-ccd6-4d85-9878-6a75e69a7355",
   "metadata": {},
   "source": [
    "We will drop the match if the similarity score is below 0.8."
   ]
  },
  {
   "cell_type": "code",
   "execution_count": 395,
   "id": "9058b47f-9f18-48c8-8f20-6798e7595f51",
   "metadata": {},
   "outputs": [],
   "source": [
    "def score_based_drop(amazon_indices, matched_recall_column, score_column, threshold):\n",
    "    import numpy as np\n",
    "    import pandas as pd\n",
    "\n",
    "    label_col_only_b = np.zeros(len(matched_recall_column), dtype=int)\n",
    "    recall_indices_only_b = pd.Series([[] for _ in range(len(matched_recall_column))])\n",
    "\n",
    "    for ind_a in amazon_indices:\n",
    "        for i, ind_r in enumerate(matched_recall_column.loc[ind_a]):\n",
    "            if score_column.loc[ind_a][i] >= threshold:\n",
    "                label_col_only_b[ind_a] = 1\n",
    "                recall_indices_only_b.loc[ind_a].append(ind_r)\n",
    "\n",
    "    return pd.DataFrame({\n",
    "        \"is_match\": label_col_only_b,\n",
    "        \"matched_recall_indices\": recall_indices_only_b\n",
    "    })\n",
    "    "
   ]
  },
  {
   "cell_type": "code",
   "execution_count": 397,
   "id": "5142eafa-caee-4f6d-ad0e-85a0919899bc",
   "metadata": {},
   "outputs": [],
   "source": [
    "only_b_df = score_based_drop(result2['only_b'], match_df_s2_sc90[\"matched_recall_indices\"], scores_df[\"matched_recall_scores\"], 0.8)"
   ]
  },
  {
   "cell_type": "code",
   "execution_count": 399,
   "id": "a4ccf0ed-a8f5-406d-a25e-8ec452860533",
   "metadata": {},
   "outputs": [
    {
     "data": {
      "text/plain": [
       "is_match\n",
       "0    632172\n",
       "1      1711\n",
       "Name: count, dtype: int64"
      ]
     },
     "execution_count": 399,
     "metadata": {},
     "output_type": "execute_result"
    }
   ],
   "source": [
    "only_b_df[\"is_match\"].value_counts()"
   ]
  },
  {
   "cell_type": "markdown",
   "id": "7d916026-d965-4c58-ab99-25e0cadf1f2e",
   "metadata": {},
   "source": [
    "1711 Amazon products are matched by fuzzy matching but missed by pre-trained model. "
   ]
  },
  {
   "cell_type": "markdown",
   "id": "8ad6f4ac-a9f5-447a-9d5c-38dae6387d3e",
   "metadata": {},
   "source": [
    "## Analyzing Matches Captured by Pre-Trained Model but Missed by the Fuzzy Matching "
   ]
  },
  {
   "cell_type": "code",
   "execution_count": 258,
   "id": "cdbb061f-33dc-440f-9f9d-fcc838dd7fac",
   "metadata": {},
   "outputs": [],
   "source": [
    "all_scores2 = []\n",
    "for ind_a in result2['only_a']:\n",
    "    all_scores2+= amazon_labeled2.loc[ind_a,['matched_recall_scores']].iloc[0]"
   ]
  },
  {
   "cell_type": "code",
   "execution_count": 260,
   "id": "f79ac952-a0a2-40d9-8a4a-26c8abca4d02",
   "metadata": {},
   "outputs": [
    {
     "data": {
      "image/png": "[encoded data removed]",
      "text/plain": [
       "<Figure size 640x480 with 1 Axes>"
      ]
     },
     "metadata": {},
     "output_type": "display_data"
    }
   ],
   "source": [
    "plt.hist(all_scores2, bins=30, edgecolor='black')\n",
    "plt.xlabel('Similarity Score')\n",
    "plt.ylabel('Frequency')\n",
    "plt.title('Histogram of Similarity Scores')\n",
    "plt.show()"
   ]
  },
  {
   "cell_type": "markdown",
   "id": "ef72eaad-6af3-47fe-9ea7-970d2be0e57f",
   "metadata": {},
   "source": [
    "We will accept the match if the similarity score is greater than 0.90."
   ]
  },
  {
   "cell_type": "code",
   "execution_count": 412,
   "id": "be759dc1-4d16-4b22-a712-f749da8cd058",
   "metadata": {},
   "outputs": [],
   "source": [
    "only_a_df = score_based_drop(result2['only_a'], amazon_labeled2[\"matched_recall_indices\"], amazon_labeled2[\"matched_recall_scores\"], 0.9)"
   ]
  },
  {
   "cell_type": "code",
   "execution_count": 414,
   "id": "59fcd636-4413-4cd1-8c5b-ee991ef39f2d",
   "metadata": {},
   "outputs": [
    {
     "data": {
      "text/plain": [
       "is_match\n",
       "0    632921\n",
       "1       962\n",
       "Name: count, dtype: int64"
      ]
     },
     "execution_count": 414,
     "metadata": {},
     "output_type": "execute_result"
    }
   ],
   "source": [
    "only_a_df[\"is_match\"].value_counts()"
   ]
  },
  {
   "cell_type": "markdown",
   "id": "67b8366e-b959-444b-a20a-54f2a1498b9a",
   "metadata": {},
   "source": [
    "There are 962 Amazon products that are matched by pre-trained model, but not captured by Fuzzy match. Let's print some items:"
   ]
  },
  {
   "cell_type": "code",
   "execution_count": 423,
   "id": "7444757c-85ca-4ce5-bb0b-97ded6284dd9",
   "metadata": {},
   "outputs": [
    {
     "name": "stdout",
     "output_type": "stream",
     "text": [
      "Amazon Index: 2049\n",
      "🔹 META\n",
      "Brand:   Little Tikes\n",
      "Title:   Little Tikes Roadster Toddler Bed\n",
      "Feature: ['Sporty roadster car styling', 'Holds crib size mattress (not included)', 'Recommended Age Range 15 months to 5 years']\n",
      "--------------------------------------------------------------------------------\n",
      "🔹 REPORT\n",
      "Brand:               Little Tikes\n",
      "Product Description: Little Tikes Deluxe 2-in-1 Cozy Roadster\n",
      "--------------------------------------------------------------------------------\n",
      "Amazon Index: 2094\n",
      "🔹 META\n",
      "Brand:   Radio Flyer\n",
      "Title:   Radio Flyer Town and Country Wagon\n",
      "Feature: ['N/A', 'Imported', 'Extra-large all wood body for maximum hauling capacity.', 'Removable wooden sides for easy in-and-out.', '10 durable steel wheels with real rubber tires for a quiet ride.', 'Extra-long handle folds under for easy storage.', 'FOR 1 + YEARS.Weight Capacity:150 lbs', '<span class=\"a-size-base a-color-secondary\">\\n                Extra-large all wood body for maximum hauling capacity\\n            </span>', '<span class=\"a-size-base a-color-secondary\">\\n                Removable wooden sides for easy in and out\\n            </span>', '<span class=\"a-size-base a-color-secondary\">\\n                Classic design and look\\n            </span>', '<span class=\"a-size-base a-color-secondary\">\\n                Product Dimensions = 39.37&#034; x 18.90&#034; x 19.69&#034;\\n            </span>', '<span class=\"a-size-base a-color-secondary\">\\n                Weight Capacity = 150 lbs.\\n            </span>', '<span class=\"a-size-base a-color-secondary\">\\n                For 1 1/2 years +\\n            </span>']\n",
      "--------------------------------------------------------------------------------\n",
      "🔹 REPORT\n",
      "Brand:               Radio Flyer\n",
      "Product Description: Radio Flyer Little Red Wagon\n",
      "--------------------------------------------------------------------------------\n",
      "Amazon Index: 2428\n",
      "🔹 META\n",
      "Brand:   Fisher-Price\n",
      "Title:   Fisher-Price Bright Beginnings Ready Steady Trike\n",
      "Feature: ['Designed with a narrow wheel base in back, making it more stable for toddlers to get on and off by themselves', 'Comfy, easy-straddle seat, easy-grip handle bars and controlled steering for better maneuvering', 'Features a spinning roller drum in the handlebar with shiny reflections and colorful rattling beads', 'Strengthens leg muscles as baby pushes the ride-on', 'Developing new skills helps build self-confidence']\n",
      "--------------------------------------------------------------------------------\n",
      "🔹 REPORT\n",
      "Brand:               Fisher-Price\n",
      "Product Description: Fisher-Price Rock, Roll 'n Ride Trike\n",
      "--------------------------------------------------------------------------------\n",
      "Amazon Index: 2435\n",
      "🔹 META\n",
      "Brand:   Fisher-Price\n",
      "Title:   Fisher-Price Brilliant Basics Chatter Telephone\n",
      "Feature: ['See how the fun develops', \"Social Skills Encourages speech as they talk into the phone by imitating words and phrases they've heard\", 'Imaginative Skills Early role play as they pretend to talk', 'Classic pull toy with a friendly face', 'Eyes that move up and down when the toy is pulled along']\n",
      "--------------------------------------------------------------------------------\n",
      "🔹 REPORT\n",
      "Brand:               Fisher-Price\n",
      "Product Description: Fisher Price Chatter Telephone\n",
      "--------------------------------------------------------------------------------\n",
      "Amazon Index: 2437\n",
      "🔹 META\n",
      "Brand:   Fisher-Price\n",
      "Title:   Fisher Price Happy Bulldozer\n",
      "Feature: []\n",
      "--------------------------------------------------------------------------------\n",
      "🔹 REPORT\n",
      "Brand:               Fisher price\n",
      "Product Description: Fisher Price Poppity Pop Dump Truck\n",
      "--------------------------------------------------------------------------------\n",
      "Amazon Index: 2551\n",
      "🔹 META\n",
      "Brand:   Slinky\n",
      "Title:   The Original Slinky Brand Slinky Dog in Retro Packaging\n",
      "Feature: ['Collectors edition', 'Disney Pixar Toy Story favorite character in a reproduction of his original box', 'Sits up, begs and wags his tail', 'Includes one Slinky dog in nostalgic packaging', 'Recommended for children 18 months and older']\n",
      "--------------------------------------------------------------------------------\n",
      "🔹 REPORT\n",
      "Brand:               Retro Slinky Dog, The Original Walking Spring Toy,\n",
      "Product Description: Slinky Dog in vintage packaging.\n",
      "--------------------------------------------------------------------------------\n",
      "Amazon Index: 3093\n",
      "🔹 META\n",
      "Brand:   Little Tikes\n",
      "Title:   Little Tikes Tough Trucks Loader Bulldozer\n",
      "Feature: ['Rugged, plastic construction', \"The Front Loader's scoop pushes dirt away from it\", 'The scoop can also be used as a shovel', 'Perfect for indoor or outdoor', '12 months & up']\n",
      "--------------------------------------------------------------------------------\n",
      "🔹 REPORT\n",
      "Brand:               Little Tikes\n",
      "Product Description: Little Tikes Big Adventures Metal Detector Mining Truck\n",
      "--------------------------------------------------------------------------------\n",
      "Amazon Index: 3392\n",
      "🔹 META\n",
      "Brand:   Melissa & Doug\n",
      "Title:   Melissa &amp; Doug 4 Wood Vehicle Puzzles in a Box\n",
      "Feature: ['Includes four 12-piece wooden jigsaw puzzles', 'The slide-on box lid doubles as a convenient puzzle board', 'Ages 3 and up.']\n",
      "--------------------------------------------------------------------------------\n",
      "🔹 REPORT\n",
      "Brand:               Melissa & Doug Construction Set in a Box\n",
      "Product Description: Melissa & Doug Classic Toy Construction Set in a Box\n",
      "--------------------------------------------------------------------------------\n",
      "Amazon Index: 3704\n",
      "🔹 META\n",
      "Brand:   Radio Flyer\n",
      "Title:   Radio Flyer Navigator Wagon\n",
      "Feature: ['A sturdy plastic body, rear shock absorbers, easy steering, front axel with no-tip turning, and exclusive Dura-Tred tires make for a smooth, comfortable, and safe ride', 'Handle folds under for easy storage', 'This wagon features two molded cup holders, a storage compartment, and latch door that swings open and closed', \"This wagon has won the National Parenting Publications Award and Dr Toy's 100 best Children's Products Award\", 'This product is made by Radio Flyer, innovating play and creating memories since 1917']\n",
      "--------------------------------------------------------------------------------\n",
      "🔹 REPORT\n",
      "Brand:               Radio Flyer\n",
      "Product Description: Radio Flyer Little Red Wagon\n",
      "--------------------------------------------------------------------------------\n",
      "Amazon Index: 3845\n",
      "🔹 META\n",
      "Brand:   Melissa & Doug\n",
      "Title:   Melissa &amp; Doug Food Peg Puzzle\n",
      "Feature: ['Recommended Ages: 2+ years']\n",
      "--------------------------------------------------------------------------------\n",
      "🔹 REPORT\n",
      "Brand:               Melissa & Doug\n",
      "Product Description: Melissa & Doug Ms. Rachel Puzzle\n",
      "--------------------------------------------------------------------------------\n"
     ]
    }
   ],
   "source": [
    "amazon_ind_only_a = np.nonzero(only_a_df[\"is_match\"].values)[0]\n",
    "print_difference(amazon_ind_only_a[:10], only_a_df, amazon_df)"
   ]
  },
  {
   "cell_type": "markdown",
   "id": "645f059e-d917-44d4-a72c-6c6204b06e18",
   "metadata": {},
   "source": [
    "While there are some false positives, many of the matches are of good.  \n",
    "Since our goal is to capture as many true matches as possible, we will include these in our dataset\n"
   ]
  },
  {
   "cell_type": "markdown",
   "id": "9b4c38d5-0357-4f1b-b5ee-52c3ac66f897",
   "metadata": {},
   "source": [
    "## Matches Captured by Both Methods"
   ]
  },
  {
   "cell_type": "code",
   "execution_count": 430,
   "id": "e060b0aa-23dd-4b73-b5ee-c26f1d5f6f49",
   "metadata": {},
   "outputs": [],
   "source": [
    "def get_label_and_recall_indices(amazon_indices, matched_recall_column):\n",
    "\n",
    "    label_col = np.zeros(len(matched_recall_column), dtype=int)\n",
    "    recall_indices = pd.Series([[] for _ in range(len(matched_recall_column))])\n",
    "\n",
    "    for ind_a in amazon_indices:\n",
    "        label_col[ind_a] = 1\n",
    "        recall_indices.loc[ind_a] = matched_recall_column.loc[ind_a]\n",
    "\n",
    "    return pd.DataFrame({\n",
    "        \"is_match\": label_col,\n",
    "        \"matched_recall_indices\": recall_indices\n",
    "    })"
   ]
  },
  {
   "cell_type": "code",
   "execution_count": 432,
   "id": "23fe763d-c5bf-4c99-8f98-ba8769b8af9e",
   "metadata": {},
   "outputs": [],
   "source": [
    "intersection_df = get_label_and_recall_indices(result2['intersection'], match_df_s2_sc90[\"matched_recall_indices\"])"
   ]
  },
  {
   "cell_type": "code",
   "execution_count": 436,
   "id": "c34730f1-94a0-419a-8159-505aff2da42e",
   "metadata": {},
   "outputs": [
    {
     "name": "stdout",
     "output_type": "stream",
     "text": [
      "Amazon Index: 7\n",
      "🔹 META\n",
      "Brand:   UDI\n",
      "Title:   UDI U806 Infrared Remote Control Helicopter W/gyro - RED\n",
      "Feature: ['Includes 3.7 volt lithium battery', 'Includes USB data cable']\n",
      "--------------------------------------------------------------------------------\n",
      "🔹 REPORT\n",
      "Brand:               UDI R/C U16\n",
      "Product Description: Remote Control Helicopter\n",
      "--------------------------------------------------------------------------------\n",
      "Amazon Index: 1755\n",
      "🔹 META\n",
      "Brand:   SYMA\n",
      "Title:   Syma 3 Channel S107/S107G Mini Indoor Co-Axial R/C Helicopter w/ Gyro (White Color)\n",
      "Feature: []\n",
      "--------------------------------------------------------------------------------\n",
      "🔹 REPORT\n",
      "Brand:               Syma\n",
      "Product Description: R/C Helicopter \n",
      "--------------------------------------------------------------------------------\n",
      "Amazon Index: 1758\n",
      "🔹 META\n",
      "Brand:   SYMA\n",
      "Title:   SYMA S009G AH-64 Apache 3 Channel Indoor Helicopter with Gyroscope\n",
      "Feature: ['S0099G AH-64 Apache 3 channel helicopter indoor']\n",
      "--------------------------------------------------------------------------------\n",
      "🔹 REPORT\n",
      "Brand:               Syma\n",
      "Product Description: R/C Helicopter \n",
      "--------------------------------------------------------------------------------\n",
      "Amazon Index: 1773\n",
      "🔹 META\n",
      "Brand:   SYMA\n",
      "Title:   Syma 3 Channel S107/S107G Mini Indoor Co-Axial R/C Helicopter w/ Gyro (Green Color)\n",
      "Feature: [\"2 Selectable Frequencies Let's You Fly Up To 2 Helicopters At Once\", 'Full 3 channels: up, down, left, right, forward, and backward', 'The transmitter has an alignment trim, a charging and power indicator, a left/right lever and trimmer', 'Suitable for indoor flying only', \"Flight range is approximately 30'\"]\n",
      "--------------------------------------------------------------------------------\n",
      "🔹 REPORT\n",
      "Brand:               Syma\n",
      "Product Description: R/C Helicopter \n",
      "--------------------------------------------------------------------------------\n",
      "Amazon Index: 1907\n",
      "🔹 META\n",
      "Brand:   SYMA\n",
      "Title:   SYMA 3 Channel S029 Agusta Dauphin Mini RC Helicopter ---NEW!\n",
      "Feature: []\n",
      "--------------------------------------------------------------------------------\n",
      "🔹 REPORT\n",
      "Brand:               Syma\n",
      "Product Description: R/C Helicopter \n",
      "--------------------------------------------------------------------------------\n",
      "Amazon Index: 1942\n",
      "🔹 META\n",
      "Brand:   UDI\n",
      "Title:   3.5 Channel U810 Fighter RC Gyro Control Helicopter w/ Launching Missiles\n",
      "Feature: ['Directions: Up/Down, Forward/Backward, Right/left turn, and Hovering', 'Functions: Left/right missile launch, Acceleration, Missile launch with Sound', 'Control Distance: 10m +', 'Charging Time: 45 minutes', 'Charging methods: USB and transmitter']\n",
      "--------------------------------------------------------------------------------\n",
      "🔹 REPORT\n",
      "Brand:               UDI R/C U16\n",
      "Product Description: Remote Control Helicopter\n",
      "--------------------------------------------------------------------------------\n",
      "Amazon Index: 2021\n",
      "🔹 META\n",
      "Brand:   Barbie\n",
      "Title:   Barbie Teresa Butterfly Art Doll (1998)\n",
      "Feature: ['1998 - Mattel - Friends Of Barbie Series', 'Butterfly Art Teresa Dol - 12 Inches Tall', 'Includes: Brush / 2 Sheets of Decorations / Knit Bikini / Jeans Skirt', 'Out of Prodcution - Item #20361', 'New - Mint - Limited Edition - Collectible']\n",
      "--------------------------------------------------------------------------------\n",
      "🔹 REPORT\n",
      "Brand:               Barbie doll by Mattel\n",
      "Product Description: Barbie doll\n",
      "--------------------------------------------------------------------------------\n",
      "Amazon Index: 2052\n",
      "🔹 META\n",
      "Brand:   Little Tikes\n",
      "Title:   Little Tikes Cozy Coupe\n",
      "Feature: ['Classic kid-powered car', 'Caster front wheels for easy maneuverability', 'Working horn and door', 'Recommended Age Range 1 1/2 to 5 years']\n",
      "--------------------------------------------------------------------------------\n",
      "🔹 REPORT\n",
      "Brand:               Little Tikes\n",
      "Product Description: Little Tikes Cozy Coupe\n",
      "--------------------------------------------------------------------------------\n",
      "🔹 REPORT\n",
      "Brand:               Little Tikes\n",
      "Product Description: Little Tikes Deluxe 2-in-1 Cozy Roadster\n",
      "--------------------------------------------------------------------------------\n",
      "🔹 REPORT\n",
      "Brand:               Little Tikes Company\n",
      "Product Description: I am very unhappy with the way that the Little Tikes Cozy Coupe 30th Anniversary Edition car falls over...constantly...when my 16 month is riding in it or even outside of it. Numerous times now, he has been trapped beneath it when it has fallen on him. We had a Little Tikes Cozy Coupe several years ago, that NEVER did this. A child will get seriously injured if this causes a child to fall and hit his or her head when the car falls. Please have someone look into this and correct this problem.\n",
      "--------------------------------------------------------------------------------\n",
      "🔹 REPORT\n",
      "Brand:               Little Tikes Cozy Truck (Item Number: 620744)\n",
      "Product Description: Little Tikes Cozy Truck (Item Number: 620744)\n",
      "--------------------------------------------------------------------------------\n",
      "🔹 REPORT\n",
      "Brand:               Little Tikes\n",
      "Product Description: Little Tikes Ice Cream Cozy Truck. Per the company, Ice cream cone speaker plays ice cream truck music by RZA of [REDACTED]A convenient handle lets a parent push, or remove the floorboard and let your little one take controlIncludes play ice cream cones and credit-card readerTailgate trunk\n",
      "--------------------------------------------------------------------------------\n",
      "Amazon Index: 2067\n",
      "🔹 META\n",
      "Brand:   Radio Flyer\n",
      "Title:   Radio Flyer Classic Red Wagon Ride On\n",
      "Feature: ['All-steel seamless body with no-scratch edges', '10\" durable steel wheels with real rubber tires for a quiet ride', 'Extra-long handle folds under for easy storage', 'Controlled turning radius prevents tipping', 'Weight Capacity = 150 lbs', 'Age = 1 1/2 years', '<span class=\"a-size-base a-color-secondary\">\\n                A classic symbol of American childhood.\\n            </span>', '<span class=\"a-size-base a-color-secondary\">\\n                All-steel seamless body with no-scratch edges.\\n            </span>', '<span class=\"a-size-base a-color-secondary\">\\n                Extra-long handle folds under for easy storage.\\n            </span>', '<span class=\"a-size-base a-color-secondary\">\\n                10 durable steel wheels with real rubber tires for a quiet ride.\\n            </span>', '<span class=\"a-size-base a-color-secondary\">\\n                Controlled turning radius prevents tipping.\\n            </span>', '<span class=\"a-size-base a-color-secondary\">\\n                Product Dimensions = 39.57 &#034; x 17.56&#034; x 14.37&#034;\\n            </span>', '<span class=\"a-size-base a-color-secondary\">\\n                Weight Capacity = 150 lbs\\n            </span>', '<span class=\"a-size-base a-color-secondary\">\\n                For 1 1/2 years\\n            </span>']\n",
      "--------------------------------------------------------------------------------\n",
      "🔹 REPORT\n",
      "Brand:               Radio Flyer\n",
      "Product Description: Red radio flyer #2700\n",
      "--------------------------------------------------------------------------------\n",
      "🔹 REPORT\n",
      "Brand:               Radio Flyer\n",
      "Product Description: Radio Flyer Little Red Wagon\n",
      "--------------------------------------------------------------------------------\n",
      "🔹 REPORT\n",
      "Brand:               Radio Flyer\n",
      "Product Description: Radio Flyer 12S Classic Walker Wagon purchased 12/10/2010\n",
      "--------------------------------------------------------------------------------\n",
      "Amazon Index: 2140\n",
      "🔹 META\n",
      "Brand:   Barbie\n",
      "Title:   Barbie Collectibles Doll As Snow White\n",
      "Feature: ['Barbie Collectibles Doll As Snow White']\n",
      "--------------------------------------------------------------------------------\n",
      "🔹 REPORT\n",
      "Brand:               Barbie doll by Mattel\n",
      "Product Description: Barbie doll\n",
      "--------------------------------------------------------------------------------\n"
     ]
    }
   ],
   "source": [
    "amazon_ind_both = np.nonzero(intersection_df[\"is_match\"].values)[0]\n",
    "print_difference(amazon_ind_both[:10], intersection_df, amazon_df)"
   ]
  },
  {
   "cell_type": "code",
   "execution_count": 440,
   "id": "c8a35415-fdd0-4e09-9e67-fc5c2ef4a8c8",
   "metadata": {},
   "outputs": [
    {
     "data": {
      "text/plain": [
       "is_match\n",
       "0    630807\n",
       "1      3076\n",
       "Name: count, dtype: int64"
      ]
     },
     "execution_count": 440,
     "metadata": {},
     "output_type": "execute_result"
    }
   ],
   "source": [
    "intersection_df[\"is_match\"].value_counts()"
   ]
  },
  {
   "cell_type": "markdown",
   "id": "f558a2f9-ddcd-4384-acdd-3a6364dfe451",
   "metadata": {},
   "source": [
    "## Combining Matches from All Three Distinct Sets"
   ]
  },
  {
   "cell_type": "code",
   "execution_count": 442,
   "id": "6a06c102-9f38-41c8-b20f-127a7b5d43cc",
   "metadata": {},
   "outputs": [],
   "source": [
    "amazon_df['is_match'] = intersection_df[\"is_match\"] + only_a_df[\"is_match\"] + only_b_df[\"is_match\"]"
   ]
  },
  {
   "cell_type": "code",
   "execution_count": 444,
   "id": "a9a5b69e-9081-44ef-8f50-efd338166f1b",
   "metadata": {},
   "outputs": [
    {
     "data": {
      "text/plain": [
       "is_match\n",
       "0    628134\n",
       "1      5749\n",
       "Name: count, dtype: int64"
      ]
     },
     "execution_count": 444,
     "metadata": {},
     "output_type": "execute_result"
    }
   ],
   "source": [
    "amazon_df['is_match'].value_counts()"
   ]
  },
  {
   "cell_type": "code",
   "execution_count": 452,
   "id": "3d18b29c-d934-44c7-a067-e9c7945efd89",
   "metadata": {},
   "outputs": [],
   "source": [
    "amazon_df['matched_recall_indices'] = [\n",
    "    a + b + c\n",
    "    for a, b, c in zip(\n",
    "        intersection_df[\"matched_recall_indices\"],\n",
    "        only_a_df[\"matched_recall_indices\"],\n",
    "        only_b_df[\"matched_recall_indices\"]\n",
    "    )\n",
    "]"
   ]
  },
  {
   "cell_type": "markdown",
   "id": "747f51c3-2add-4174-885f-5531c5f284bb",
   "metadata": {},
   "source": [
    "### Summary of Current Matching Results\n",
    "\n",
    "Using these methods, **5,749 Amazon products** were successfully matched to at least one product in the complaints data.\n"
   ]
  },
  {
   "cell_type": "markdown",
   "id": "2494090b-572d-4836-8962-1fdc83f7a57a",
   "metadata": {},
   "source": [
    "#### Save Results"
   ]
  },
  {
   "cell_type": "code",
   "execution_count": null,
   "id": "4e9afc8e-346b-4ce3-80ff-74f8c970b1eb",
   "metadata": {},
   "outputs": [],
   "source": [
    "amazon_df.to_csv(\"../Data/amazon_df_output.csv\", index=True)"
   ]
  },
  {
   "cell_type": "code",
   "execution_count": null,
   "id": "0e11e997-1e96-4953-8432-69faac55d372",
   "metadata": {},
   "outputs": [],
   "source": [
    "amazon_df[[\"is_match\",\"matched_recall_indices\"]].to_csv(\"../Data/match_label_recall_indices.csv\", index=True)"
   ]
  },
  {
   "cell_type": "code",
   "execution_count": null,
   "id": "2c305e81-d00c-4114-8413-539e376a9fea",
   "metadata": {},
   "outputs": [
    {
     "name": "stderr",
     "output_type": "stream",
     "text": [
      "C:\\Users\\Betul\\AppData\\Local\\Temp\\ipykernel_14724\\3180268450.py:2: DtypeWarning: Columns (7) have mixed types. Specify dtype option on import or set low_memory=False.\n",
      "  amazon_df = pd.read_csv(\"amazon_df_output.csv\")\n"
     ]
    }
   ],
   "source": [
    "## Load Amazon Data\n",
    "amazon_df = pd.read_csv(\"../Data/amazon_df_output.csv\")"
   ]
  },
  {
   "cell_type": "code",
   "execution_count": 8,
   "id": "d397fee9-dedd-4814-abdd-ce5c8e6f7b8f",
   "metadata": {},
   "outputs": [
    {
     "data": {
      "text/plain": [
       "Index(['Unnamed: 0', 'category', 'tech1', 'description', 'fit', 'title',\n",
       "       'also_buy', 'tech2', 'brand', 'feature', 'rank', 'also_view',\n",
       "       'main_cat', 'similar_item', 'date', 'price', 'asin', 'imageURL',\n",
       "       'imageURLHighRes', 'details', 'is_match', 'matched_recall_indices'],\n",
       "      dtype='object')"
      ]
     },
     "execution_count": 8,
     "metadata": {},
     "output_type": "execute_result"
    }
   ],
   "source": [
    "amazon_df.columns"
   ]
  },
  {
   "cell_type": "code",
   "execution_count": 8,
   "id": "4a771666-14d0-4021-8eeb-4d76a908d9f7",
   "metadata": {},
   "outputs": [],
   "source": [
    "import ast\n",
    "\n",
    "amazon_df['matched_recall_indices'] = amazon_df['matched_recall_indices'].apply(\n",
    "    lambda x: ast.literal_eval(x) if isinstance(x, str) else x\n",
    ")"
   ]
  },
  {
   "cell_type": "markdown",
   "id": "039435ce-68a3-4c30-a98e-829f0eeb8bf7",
   "metadata": {},
   "source": [
    "## Using a Large Language Model (`mistral:8x7b`) to Review the Eliminated List\n"
   ]
  },
  {
   "cell_type": "markdown",
   "id": "8ec8d94f-4949-43b9-abed-ef95829c0d75",
   "metadata": {},
   "source": [
    "We will use a large language model to compare this eliminated set of matches."
   ]
  },
  {
   "cell_type": "code",
   "execution_count": 19,
   "id": "1c7bd55c-b7af-4ee3-90d6-b8126721d1df",
   "metadata": {},
   "outputs": [
    {
     "name": "stdout",
     "output_type": "stream",
     "text": [
      "1. No\n",
      "2. The two product listings do not describe the same physical product. Although they are both products from the brand Fisher-Price, their models have different names and functions. The first one, the Bright Beginnings Ready Steady Trike, is a push trike for toddlers to be pushed around by adults. The second one, the Rock, Roll 'n Ride Trike, can be used as a rocker, a walker, and a tricycle, offering multiple functionalities in one product.\n"
     ]
    }
   ],
   "source": [
    "import ollama\n",
    "\n",
    "def is_same_product(product_1, product_2):\n",
    "    prompt = f\"\"\"You are a product matching expert.\n",
    "\n",
    "Determine if these two product listings describe the **same physical product** (not just similar or same brand).\n",
    "\n",
    "---\n",
    "Product 1: {product_1}\n",
    "Product 2: {product_2}\n",
    "---\n",
    "\n",
    "Respond with:\n",
    "1. \"Yes\" or \"No\"\n",
    "2. A short explanation of your decision.\n",
    "\"\"\"\n",
    "\n",
    "    response = ollama.chat(model='mixtral', messages=[{'role': 'user', 'content': prompt}])\n",
    "    return response['message']['content']\n",
    "\n",
    "# Example usage\n",
    "product_1 = \"Fisher-Price Bright Beginnings Ready Steady Trike\"\n",
    "product_2 = \"Fisher-Price Rock, Roll 'n Ride Trike\"\n",
    "print(is_same_product(product_1, product_2))\n"
   ]
  },
  {
   "cell_type": "markdown",
   "id": "0180afa0-508b-48be-b5b0-404e68cdfd08",
   "metadata": {},
   "source": [
    "### Applying LLM-Based Comparison to All Possible Matches\n"
   ]
  },
  {
   "cell_type": "code",
   "execution_count": 128,
   "id": "66b9ea81-8936-4c08-a5a3-a6678d61a79f",
   "metadata": {},
   "outputs": [],
   "source": [
    "import requests\n",
    "import json\n",
    "\n",
    "def is_same_product_llm_http(amazon_product: dict, recall_product: dict) -> int:\n",
    "    prompt = f\"\"\"\n",
    "You are a product matching expert.\n",
    "\n",
    "Determine whether the following two product listings refer to the **same physical product**.\n",
    "\n",
    "**Label them as the same (\"Yes\") if:**\n",
    "- They refer to the same underlying item (e.g., same brand, purpose, or usage).\n",
    "- Any differences are minor — such as color, descriptive wording, appearance, or marketing language.\n",
    "- You are unsure or cannot definitively tell.\n",
    "\n",
    "**Label them as different (\"No\") only if:**\n",
    "- They are clearly different in **model, core function, form, or intended use**.\n",
    "\n",
    "Respond only with \"Yes\" or \"No\".\n",
    "Below are two listings: one from Amazon and one from a product recall report.\n",
    "---\n",
    "Amazon Product:\n",
    "Brand: {amazon_product['brand']}\n",
    "Title: {amazon_product['title']}\n",
    "Features: {amazon_product['feature']}\n",
    "\n",
    "---\n",
    "Recall Product:\n",
    "Brand: {recall_product['Brand']}\n",
    "Description: {recall_product['Product Description']}\n",
    "Model Name or Number: {recall_product['Model Name or Number']}\n",
    "\n",
    "Respond only with \"Yes\" or \"No\".\n",
    "\"\"\"\n",
    "    try:\n",
    "        response = requests.post(\n",
    "            \"http://localhost:11434/api/chat\",\n",
    "            json={\n",
    "                \"model\": \"mixtral\",\n",
    "                \"messages\": [{\"role\": \"user\", \"content\": prompt}],\n",
    "            },\n",
    "            stream=True,\n",
    "            timeout=120\n",
    "        )\n",
    "\n",
    "        # Concatenate streamed output\n",
    "        full_response = \"\"\n",
    "        for line in response.iter_lines():\n",
    "            if line:\n",
    "                chunk = json.loads(line.decode(\"utf-8\"))\n",
    "                if \"message\" in chunk and \"content\" in chunk[\"message\"]:\n",
    "                    full_response += chunk[\"message\"][\"content\"]\n",
    "\n",
    "        content = full_response.strip().lower()\n",
    "        return 1 if content.startswith(\"yes\") else 0\n",
    "\n",
    "    except Exception as e:\n",
    "        print(f\"HTTP error: {e}\")\n",
    "        return 0\n"
   ]
  },
  {
   "cell_type": "code",
   "execution_count": 130,
   "id": "46d037eb-efe5-492c-ab95-d1740bb32f41",
   "metadata": {},
   "outputs": [],
   "source": [
    "from concurrent.futures import ThreadPoolExecutor, as_completed\n",
    "from collections import defaultdict\n",
    "\n",
    "# Only the relevant columns used in the prompt\n",
    "relevant_columns = [\n",
    "    'Brand',\n",
    "    'Product Description',\n",
    "    'Model Name or Number',\n",
    "]\n",
    "\n",
    "def compare_pair(args):\n",
    "    amazon_product, recall_product, amazon_idx, recall_idx = args\n",
    "    try:\n",
    "        match_result = is_same_product_llm_http(amazon_product, recall_product)\n",
    "    except Exception as e:\n",
    "        print(f\"Error comparing row {amazon_idx}, recall {recall_idx}: {e}\")\n",
    "        match_result = 0\n",
    "    return (amazon_idx, recall_idx, match_result)\n",
    "\n",
    "def generate_llm_match_column_parallel(amazon_df, recalls_df, max_threads=3):\n",
    "    partial_results = defaultdict(dict)\n",
    "    tasks = []\n",
    "\n",
    "    for idx, row in amazon_df.iterrows():\n",
    "        if row['is_match'] == 0:\n",
    "            continue\n",
    "\n",
    "        amazon_product = {\n",
    "            'brand': row['brand'],\n",
    "            'title': row['title'],\n",
    "            'feature': row['feature'],\n",
    "        }\n",
    "\n",
    "        for recall_idx in row['matched_recall_indices']:\n",
    "            try:\n",
    "                recall_product = recalls_df.loc[recall_idx, relevant_columns]\n",
    "                tasks.append((amazon_product, recall_product, idx, recall_idx))\n",
    "            except Exception as e:\n",
    "                print(f\"Invalid recall index {recall_idx} in row {idx}: {e}\")\n",
    "                continue\n",
    "\n",
    "    with ThreadPoolExecutor(max_workers=max_threads) as executor:\n",
    "        futures = {executor.submit(compare_pair, task): task for task in tasks}\n",
    "\n",
    "        for future in as_completed(futures):\n",
    "            amazon_idx, recall_idx, result = future.result()\n",
    "            partial_results[amazon_idx][recall_idx] = result\n",
    "\n",
    "    results = []\n",
    "    for idx, row in amazon_df.iterrows():\n",
    "        if row['is_match'] == 0:\n",
    "            results.append([])\n",
    "        else:\n",
    "            row_results = [partial_results[idx].get(recall_idx, 0) for recall_idx in row['matched_recall_indices']]\n",
    "            results.append(row_results)\n",
    "\n",
    "    return results\n"
   ]
  },
  {
   "cell_type": "code",
   "execution_count": null,
   "id": "231e4d22-62e6-4a18-861b-301e435f38da",
   "metadata": {},
   "outputs": [
    {
     "name": "stdout",
     "output_type": "stream",
     "text": [
      "Processing batch 0 to 100000...\n",
      "Batch time: 14460.07 seconds\n",
      "Processing batch 100000 to 200000...\n"
     ]
    }
   ],
   "source": [
    "import pickle\n",
    "import time\n",
    "batch_size = 100000\n",
    "all_results2 = []\n",
    "\n",
    "for start in range(0, len(amazon_df), batch_size):\n",
    "    end = min(start + batch_size, len(amazon_df))\n",
    "    amazon_batch = amazon_df.iloc[start:end]\n",
    "\n",
    "    print(f\"Processing batch {start} to {end}...\")\n",
    "\n",
    "    start_time = time.time()\n",
    "    batch_result =  generate_llm_match_column_parallel(amazon_batch, recalls_df, max_threads=5)\n",
    "    end_time = time.time()\n",
    "\n",
    "    \n",
    "    with open(f'batch_results_{start}_{end}.pkl', 'wb') as f:\n",
    "        pickle.dump(batch_result, f)\n",
    "\n",
    "    print(f\"Batch time: {end_time - start_time:.2f} seconds\")\n",
    "    all_results2.extend(batch_result)\n"
   ]
  },
  {
   "cell_type": "code",
   "execution_count": null,
   "id": "8d8de6a0-cb29-4c9b-a959-e23f6ea0ab02",
   "metadata": {},
   "outputs": [],
   "source": [
    "with open(f'batch_results_{start}_{end}.pkl', 'wb') as f:\n",
    "    pickle.dump(all_results2, f)"
   ]
  },
  {
   "cell_type": "markdown",
   "id": "8fac89bc-c906-4367-9dbd-cefbe3e4a240",
   "metadata": {},
   "source": [
    "### Load the Results and Analyze Them"
   ]
  },
  {
   "cell_type": "code",
   "execution_count": 28,
   "id": "131986b8-f685-4cf7-ad19-ba231ca0987d",
   "metadata": {},
   "outputs": [],
   "source": [
    "import pickle\n",
    "\n",
    "# Load the pickle file\n",
    "with open('batch_results_0_100000.pkl', 'rb') as file:\n",
    "    match_list0 = pickle.load(file)"
   ]
  },
  {
   "cell_type": "code",
   "execution_count": 16,
   "id": "a124c432-487f-4384-9480-538ef87ca19a",
   "metadata": {},
   "outputs": [
    {
     "data": {
      "text/plain": [
       "100000"
      ]
     },
     "execution_count": 16,
     "metadata": {},
     "output_type": "execute_result"
    }
   ],
   "source": [
    "len(match_list)"
   ]
  },
  {
   "cell_type": "code",
   "execution_count": 22,
   "id": "a8042ecd-c49d-4e2a-854d-bb22df8607b6",
   "metadata": {},
   "outputs": [],
   "source": [
    "with open('batch_results_600000_633883.pkl', 'rb') as file:\n",
    "    match_list1 = pickle.load(file)\n"
   ]
  },
  {
   "cell_type": "code",
   "execution_count": 24,
   "id": "fdecc18a-a45d-487f-8c60-126477b1ff90",
   "metadata": {},
   "outputs": [
    {
     "name": "stdout",
     "output_type": "stream",
     "text": [
      "Loaded 533883 total items.\n"
     ]
    }
   ],
   "source": [
    "print(f\"Loaded {len(match_list1)} total items.\")\n"
   ]
  },
  {
   "cell_type": "code",
   "execution_count": 30,
   "id": "644b4a69-c342-4834-9f78-f8c859113296",
   "metadata": {},
   "outputs": [],
   "source": [
    "match_list0.extend(match_list1)"
   ]
  },
  {
   "cell_type": "code",
   "execution_count": 32,
   "id": "748b766d-6260-4369-b20f-f399ddb4921f",
   "metadata": {},
   "outputs": [
    {
     "data": {
      "text/plain": [
       "633883"
      ]
     },
     "execution_count": 32,
     "metadata": {},
     "output_type": "execute_result"
    }
   ],
   "source": [
    "len(match_list0)"
   ]
  },
  {
   "cell_type": "markdown",
   "id": "00ab30e9-2963-454e-92b2-ed3d7820c8d3",
   "metadata": {},
   "source": [
    "### Generate Columns With New Match Labels and Recall Indices:"
   ]
  },
  {
   "cell_type": "code",
   "execution_count": 48,
   "id": "a54125cc-c7bd-42d7-941c-4a7b7f946f12",
   "metadata": {},
   "outputs": [],
   "source": [
    "is_match_new = np.zeros(len(amazon_df), dtype=int)\n",
    "matched_recall_indices_new = [ [] for _ in range(len(amazon_df)) ]  \n",
    "\n",
    "for i, (recall_indices, new_labels) in enumerate(zip(amazon_df[\"matched_recall_indices\"], match_list0)):\n",
    "    new_recall_ind = []\n",
    "    for j, label in enumerate(new_labels):\n",
    "        if label == 1:\n",
    "            new_recall_ind.append(recall_indices[j])\n",
    "    matched_recall_indices_new[i] = new_recall_ind\n",
    "    if new_recall_ind:\n",
    "        is_match_new[i] = 1"
   ]
  },
  {
   "cell_type": "code",
   "execution_count": 50,
   "id": "95cb5bf8-55f6-4913-b73f-6cd0e79fd58b",
   "metadata": {},
   "outputs": [
    {
     "data": {
      "text/plain": [
       "1265"
      ]
     },
     "execution_count": 50,
     "metadata": {},
     "output_type": "execute_result"
    }
   ],
   "source": [
    "is_match_new.sum()"
   ]
  },
  {
   "cell_type": "markdown",
   "id": "5c7f0a67-b74d-4ce7-b239-e2cf79bd2249",
   "metadata": {},
   "source": [
    "There are 1,265 Amazon products that are matched to at least one product from the Incidents (complaints) data."
   ]
  },
  {
   "cell_type": "code",
   "execution_count": 92,
   "id": "26dcd83a-c766-4c6c-9bc9-fc11afabfc4e",
   "metadata": {},
   "outputs": [],
   "source": [
    "amazon_df['is_match_new'] = is_match_new\n",
    "amazon_df[\"matched_recall_indices_new\"] = matched_recall_indices_new"
   ]
  },
  {
   "cell_type": "code",
   "execution_count": 96,
   "id": "a157a6df-52cd-494c-8be3-49196c2982c2",
   "metadata": {},
   "outputs": [
    {
     "data": {
      "text/plain": [
       "is_match_new\n",
       "0    623073\n",
       "1      1211\n",
       "Name: count, dtype: int64"
      ]
     },
     "execution_count": 96,
     "metadata": {},
     "output_type": "execute_result"
    }
   ],
   "source": [
    "amazon_df.drop_duplicates(subset=['asin'])[\"is_match_new\"].value_counts()"
   ]
  },
  {
   "cell_type": "markdown",
   "id": "a1532c94-6264-45a9-8b64-bb5b0df3f517",
   "metadata": {},
   "source": [
    "If duplicates are dropped there are **1211** matched Amazon products left."
   ]
  },
  {
   "cell_type": "markdown",
   "id": "3f9a79c8-7d70-492f-b01e-411984ba464b",
   "metadata": {},
   "source": [
    "## Add ASIN Matches Obtained via DuckDuckGo Scraping\n"
   ]
  },
  {
   "cell_type": "code",
   "execution_count": null,
   "id": "537480ae-31c8-4448-bd8b-432899f7332e",
   "metadata": {},
   "outputs": [],
   "source": [
    "df_asin = pd.read_csv('../Data/df_asin.csv')"
   ]
  },
  {
   "cell_type": "code",
   "execution_count": 9,
   "id": "31fe504d-8616-44ff-8597-e87515c299c8",
   "metadata": {},
   "outputs": [
    {
     "data": {
      "text/plain": [
       "Index(['Unnamed: 0', 'match', 'indices'], dtype='object')"
      ]
     },
     "execution_count": 9,
     "metadata": {},
     "output_type": "execute_result"
    }
   ],
   "source": [
    "df_asin.columns"
   ]
  },
  {
   "cell_type": "code",
   "execution_count": 10,
   "id": "ede63304-6f25-463e-bc90-047817ae48c5",
   "metadata": {},
   "outputs": [
    {
     "data": {
      "application/vnd.microsoft.datawrangler.viewer.v0+json": {
       "columns": [
        {
         "name": "match",
         "rawType": "int64",
         "type": "integer"
        },
        {
         "name": "count",
         "rawType": "int64",
         "type": "integer"
        }
       ],
       "ref": "2f350894-a6c6-4f55-802b-fa895f1b2e94",
       "rows": [
        [
         "0",
         "632764"
        ],
        [
         "1",
         "1119"
        ]
       ],
       "shape": {
        "columns": 1,
        "rows": 2
       }
      },
      "text/plain": [
       "match\n",
       "0    632764\n",
       "1      1119\n",
       "Name: count, dtype: int64"
      ]
     },
     "execution_count": 10,
     "metadata": {},
     "output_type": "execute_result"
    }
   ],
   "source": [
    "df_asin['match'].value_counts()"
   ]
  },
  {
   "cell_type": "markdown",
   "id": "bb57b315-6c3f-440c-8edf-8483bb1cae4f",
   "metadata": {},
   "source": [
    "There are **1,119** Amazon products that possibly match at least one complaint in the data."
   ]
  },
  {
   "cell_type": "code",
   "execution_count": 121,
   "id": "365c72e5-b415-468b-9262-68eb5382c75b",
   "metadata": {},
   "outputs": [],
   "source": [
    "## When uploading the dataframe as csv the column with lists are converted to str, so we convert them back to lists.\n",
    "\n",
    "import ast\n",
    "\n",
    "df_asin['indices'] = df_asin['indices'].apply(\n",
    "    lambda x: ast.literal_eval(x) if isinstance(x, str) else x\n",
    ")"
   ]
  },
  {
   "cell_type": "markdown",
   "id": "1049229c-21cb-404e-a15e-fccf05c1d10c",
   "metadata": {},
   "source": [
    "Compare to previous matches:"
   ]
  },
  {
   "cell_type": "code",
   "execution_count": 111,
   "id": "98dd5b77-3dc7-4e2e-8900-9776aee84631",
   "metadata": {},
   "outputs": [
    {
     "name": "stdout",
     "output_type": "stream",
     "text": [
      "Number of different rows: 2060\n"
     ]
    }
   ],
   "source": [
    "num_differences = (amazon_df[\"is_match_new\"] != df_asin['match']).sum()\n",
    "print(f\"Number of different rows: {num_differences}\")"
   ]
  },
  {
   "cell_type": "markdown",
   "id": "4021dbb4-3e59-4b7f-8c6a-9db2c98e9e98",
   "metadata": {},
   "source": [
    "These are mostly new candidates. Print some elements to see how matches are:"
   ]
  },
  {
   "cell_type": "code",
   "execution_count": 305,
   "id": "83c6cb8a-f0bc-4c69-836b-2d20b752252c",
   "metadata": {},
   "outputs": [
    {
     "name": "stdout",
     "output_type": "stream",
     "text": [
      "Amazon index: 1773\n",
      "🔹 META\n",
      "Brand:   SYMA\n",
      "Title:   Syma 3 Channel S107/S107G Mini Indoor Co-Axial R/C Helicopter w/ Gyro (Green Color)\n",
      "Feature: [\"2 Selectable Frequencies Let's You Fly Up To 2 Helicopters At Once\", 'Full 3 channels: up, down, left, right, forward, and backward', 'The transmitter has an alignment trim, a charging and power indicator, a left/right lever and trimmer', 'Suitable for indoor flying only', \"Flight range is approximately 30'\"]\n",
      "--------------------------------------------------------------------------------\n",
      "🔹 REPORT\n",
      "Brand:               Syma\n",
      "Product Description: R/C Helicopter \n",
      "--------------------------------------------------------------------------------\n",
      "Amazon index: 2067\n",
      "🔹 META\n",
      "Brand:   Radio Flyer\n",
      "Title:   Radio Flyer Classic Red Wagon Ride On\n",
      "Feature: ['All-steel seamless body with no-scratch edges', '10\" durable steel wheels with real rubber tires for a quiet ride', 'Extra-long handle folds under for easy storage', 'Controlled turning radius prevents tipping', 'Weight Capacity = 150 lbs', 'Age = 1 1/2 years', '<span class=\"a-size-base a-color-secondary\">\\n                A classic symbol of American childhood.\\n            </span>', '<span class=\"a-size-base a-color-secondary\">\\n                All-steel seamless body with no-scratch edges.\\n            </span>', '<span class=\"a-size-base a-color-secondary\">\\n                Extra-long handle folds under for easy storage.\\n            </span>', '<span class=\"a-size-base a-color-secondary\">\\n                10 durable steel wheels with real rubber tires for a quiet ride.\\n            </span>', '<span class=\"a-size-base a-color-secondary\">\\n                Controlled turning radius prevents tipping.\\n            </span>', '<span class=\"a-size-base a-color-secondary\">\\n                Product Dimensions = 39.57 &#034; x 17.56&#034; x 14.37&#034;\\n            </span>', '<span class=\"a-size-base a-color-secondary\">\\n                Weight Capacity = 150 lbs\\n            </span>', '<span class=\"a-size-base a-color-secondary\">\\n                For 1 1/2 years\\n            </span>']\n",
      "--------------------------------------------------------------------------------\n",
      "🔹 REPORT\n",
      "Brand:               Radio Flyer\n",
      "Product Description: Radio Flyer Wagon Model # 3155  Red Hard Plastic Wagon with a Fabric Canopy\n",
      "--------------------------------------------------------------------------------\n",
      "🔹 REPORT\n",
      "Brand:               Radio Flyer\n",
      "Product Description: Red radio flyer #2700\n",
      "--------------------------------------------------------------------------------\n",
      "Amazon index: 2232\n",
      "🔹 META\n",
      "Brand:   Pacific Play Tents\n",
      "Title:   Pacific Play Tents Kids Hide-Me Dome Tent and Crawl Tunnel Combo for Indoor / Outdoor Fun\n",
      "Feature: ['This primary colored nylon tent/tunnel combination is so durable it can be used indoors and outdoors', 'Tent and tunnel can be used separately or together', \"Comes w/ a 4' tunnel\", 'Tunnel constructed of spring steel with nylon cover', 'Tent comes with its own carry bag and tunnels fold flat for easy storage', '<span class=\"a-size-base a-color-secondary\">\\n                Tent Measures 48x48x42 high\\n            </span>', '<span class=\"a-size-base a-color-secondary\">\\n                Tunnel measures 4&#039;x19 diameter\\n            </span>', '<span class=\"a-size-base a-color-secondary\">\\n                Flame-retardant 70 denier polyester walls\\n            </span>', '<span class=\"a-size-base a-color-secondary\">\\n                Water-resistant polyethylene floor\\n            </span>', '<span class=\"a-size-base a-color-secondary\">\\n                Tent assembles with Sturdy PE coated fiberglass shock-corded poles\\n            </span>', '<span class=\"a-size-base a-color-secondary\">\\n                Tunnel self assembles with sturdy spring steel (Tunnel wire is padded on interior for comfort and safety)\\n            </span>', '<span class=\"a-size-base a-color-secondary\">\\n                Sets up in minutes for indoor/outdoor fun\\n            </span>', '<span class=\"a-size-base a-color-secondary\">\\n                Compatible with all Pacific Play tents and tunnels.\\n            </span>', '<span class=\"a-size-base a-color-secondary\">\\n                For ages 3 and up\\n            </span>', '<span class=\"a-size-base a-color-secondary\">\\n                Adult assembly\\n            </span>']\n",
      "--------------------------------------------------------------------------------\n",
      "🔹 REPORT\n",
      "Brand:               Pacific Play Tents\n",
      "Product Description: Pacific Play Tents I see u 6' tunnel\n",
      "--------------------------------------------------------------------------------\n",
      "Amazon index: 2253\n",
      "🔹 META\n",
      "Brand:   Pacific Play Tents\n",
      "Title:   Pacific Play Tents Kids 'Me Too' Dome Tent for Indoor / Outdoor Fun - 48&quot; x 48&quot; x 42&quot;\n",
      "Feature: ['Tent size: 48\" X 48\" X 42\" high, Mesh panels provide ventilation and easy viewing for supervision', 'Large enough to accommodate three or more friends, toys and kid-sized furniture', 'Encourages physical play and stimulates the imagination at any time of the day, Vibrantly colored', 'Color-coded, G-3 Super Poles for easy setup, 190T polyester taffeta fabric with waterproof floor', 'Carry bag included', '<span class=\"a-size-base a-color-secondary\">\\n                Tent Measures 48 x 48 x 42 high\\n            </span>', '<span class=\"a-size-base a-color-secondary\">\\n                Durable 70 denier polyester walls\\n            </span>', '<span class=\"a-size-base a-color-secondary\">\\n                Water-resistant polyethylene floor\\n            </span>', '<span class=\"a-size-base a-color-secondary\">\\n                Tent assembles with sturdy PE coated fiberglass shock-corded poles\\n            </span>', '<span class=\"a-size-base a-color-secondary\">\\n                Sets up in minutes for indoor/outdoor fun\\n            </span>', '<span class=\"a-size-base a-color-secondary\">\\n                Cleans easily with a damp cloth and mild soap\\n            </span>', '<span class=\"a-size-base a-color-secondary\">\\n                For ages 2 and up\\n            </span>', '<span class=\"a-size-base a-color-secondary\">\\n                Adult assembly\\n            </span>']\n",
      "--------------------------------------------------------------------------------\n",
      "🔹 REPORT\n",
      "Brand:               Pacific Play Tents\n",
      "Product Description: Pacific Play Tents One Touch Tent 48x48x40 #20315\n",
      "--------------------------------------------------------------------------------\n",
      "🔹 REPORT\n",
      "Brand:               Pacific Play Tents\n",
      "Product Description: Listed on Amazon as Pacific Play Tents Kids One Touch Beach Tent, UV treated - 48 x 48 x 36 (kids 3 and up).  This is the same tent marketed as the One-Touch Play Tent on the Pacific Play Tents website.\n",
      "--------------------------------------------------------------------------------\n",
      "Amazon index: 2256\n",
      "🔹 META\n",
      "Brand:   Pacific Play Tents\n",
      "Title:   Pacific Play Tents The Fun Tube 6' Tunnel\n",
      "Feature: ['Tunnel size: 6 ft. x 19 inch - Tunnel collapses flat for easy storage and portability', '190T 70 Denier Polyester Taffeta fabric and No See-UM mesh with durable construction for long lasting play and fun', 'Interior padding around hardened spring steel wire structure for safety and playtime comfort', 'Easily wipes clean with a damp cloth and mild soap - indoor or outdoor use', 'Crawling and tunnel play are excellent for muscle and motor skill development in toddlers and children', '<span class=\"a-size-base a-color-secondary\">\\n                6 feet long x 19 inches wide\\n            </span>', '<span class=\"a-size-base a-color-secondary\">\\n                Made with sturdy hardened spring steel and 70 Denier polyester\\n            </span>', '<span class=\"a-size-base a-color-secondary\">\\n                Interior padding for comfort and safety\\n            </span>', '<span class=\"a-size-base a-color-secondary\">\\n                Collapsible design sets up in seconds\\n            </span>', '<span class=\"a-size-base a-color-secondary\">\\n                Compatible with all Pacific Play tents and tunnels\\n            </span>', '<span class=\"a-size-base a-color-secondary\">\\n                For ages 3 and up\\n            </span>', '<span class=\"a-size-base a-color-secondary\">\\n                No assembly required\\n            </span>']\n",
      "--------------------------------------------------------------------------------\n",
      "🔹 REPORT\n",
      "Brand:               Pacific Play Tents\n",
      "Product Description: Pacific Play Tents I see u 6' tunnel\n",
      "--------------------------------------------------------------------------------\n",
      "🔹 REPORT\n",
      "Brand:               Pacific Play Tents\n",
      "Product Description: Pacific Play Tents- 6' I See-U Tunnel\n",
      "--------------------------------------------------------------------------------\n",
      "Amazon index: 2430\n",
      "🔹 META\n",
      "Brand:   Slinky\n",
      "Title:   Slinky Original Brand\n",
      "Feature: ['For 70 years, made in the U.S.A. with over 300 million sold worldwide', 'Stretches like an accordion, bounces and walks down steps', 'Made of metal for long lasting wiggly jiggly fun', 'Comes boxed and perfect for presents, party favors, Easter baskets, grab bags, prizes and stocking stuffers', 'Recommended for children 5 years of age and older', '<span class=\"a-size-base a-color-secondary\">\\n                Metal Slinky\\n            </span>', '<span class=\"a-size-base a-color-secondary\">\\n                2.75&#034; Diameter\\n            </span>', '<span class=\"a-size-base a-color-secondary\">\\n                Made in the USA\\n            </span>']\n",
      "--------------------------------------------------------------------------------\n",
      "🔹 REPORT\n",
      "Brand:               Motion Play Spring Mates® Pony \n",
      "Product Description: Motion Play Spring Mates® Pony Whimsical, colorful critter adds hours of rocking fun. Made of one-piece recycled aluminum castings with a super tough powder-coated finish. Also available in a duck, chipmunk and turtle. Weight: 70 lbs (32 kg) Fall Height: 1' 10'' (0,57m) Size: 2' 6'' x 1' 4'' x 2' 11'' (0,76m x 0,41m x 0,89m) Capacity: 1 Install Hours: 2 Certifications: ASTM F1487\n",
      "--------------------------------------------------------------------------------\n",
      "Amazon index: 2434\n",
      "🔹 META\n",
      "Brand:   Pockets Of Learning\n",
      "Title:   Noah's Ark Playset for Toddlers- Personalized Version\n",
      "Feature: ['A Pockets of Learning best seller to keep little ones occupied and quiet, either at home or travel.', '18 Paired animals and Noah store in this sturdy fabric play set, comes with your childs name on the front. For Pockets of Learning, Quality comes first! Sometimes similar fabric products look the same ONLINE, but you (or your recipient) can purchase Pockets of Learning brand and be assured of the Highest Quality for children.', 'Lost pieces are easily replaced at no charge, replacement card included.', 'SAFETY AND PLAY VALUE are TWIN GOALS at our family-run company! Look for Recommended Age to match your childs growing brain. AND look for our Safety Tested for Birth and Up to keep little brother or sister safe too. Designed for Toddlers and safe even for newborns  no choking hazards!']\n",
      "--------------------------------------------------------------------------------\n",
      "🔹 REPORT\n",
      "Brand:               Noahs Ark\n",
      "Product Description: This colorful Veggie version of Noah's Ark will provide hours of fun for kids! Features: -6 sets of animals, Noah (Larry the Cucumber), his wife (Petunia Rhubarb), a dove and other playful accessories. -16 pieces. -Portable: All pieces fit in ark with caring handle. -For boys and girls.\n",
      "--------------------------------------------------------------------------------\n",
      "Amazon index: 2435\n",
      "🔹 META\n",
      "Brand:   Fisher-Price\n",
      "Title:   Fisher-Price Brilliant Basics Chatter Telephone\n",
      "Feature: ['See how the fun develops', \"Social Skills Encourages speech as they talk into the phone by imitating words and phrases they've heard\", 'Imaginative Skills Early role play as they pretend to talk', 'Classic pull toy with a friendly face', 'Eyes that move up and down when the toy is pulled along']\n",
      "--------------------------------------------------------------------------------\n",
      "🔹 REPORT\n",
      "Brand:               Fisher-Price\n",
      "Product Description: Fisher Price Chatter Telephone\n",
      "--------------------------------------------------------------------------------\n",
      "Amazon index: 2625\n",
      "🔹 META\n",
      "Brand:   VTech\n",
      "Title:   Vtech 80-000878 V.Smile AC Adapter; Converts 120V AC To 9V DC; Black; Input: AC 120V 60Hz 6W; Output: DC 15V (No-Load) 2.7VA; Ideally For Use With DC9V 300mA\n",
      "Feature: ['The VTech AC Adaptor is specially designed to help save on batteries and provide uninterrupted gaming time when using VTech electronic toys', 'The VTech adaptor works to recharge all of the VTech InnoTab devices including InnoTab 3S and the InnoTab 3S Plus', 'Conveniently plugs into any 120 volt wall outlet in your home, hotel room, or even outside on the patio; safe to use outdoors', 'Cord has an extension length of 72 inches which allows around 5 feet of movement from the wall allowing kids movement while they charge and play', 'Save on batteries in your VTech toys with an easy to use power solution; potential choking hazard not intended for children under 4']\n",
      "--------------------------------------------------------------------------------\n",
      "🔹 REPORT\n",
      "Brand:               Vtech\n",
      "Product Description: Vtech Yellow count and learn school busBrand VTECH  Part Number 80-112800  UPC 3417761128008  EAN 3417761128008  \n",
      "--------------------------------------------------------------------------------\n",
      "Amazon index: 2722\n",
      "🔹 META\n",
      "Brand:   Learning Resources\n",
      "Title:   Learning Resources Big Time Student Clock, 12 Hour\n",
      "Feature: ['Hidden gear mechanism automatically advances the hour hand when the minute hand is manually manipulated', 'Help students learn to tell time with this easy-to-read 12-hour clock', 'Minute hand can be moved in 1-minute increments', 'Includes removable stand, and activity guide', 'Ideal for ages 5+', '<a href=\"https://www.amazon.com/b?node=14770868011\"> International products </a> have <a href=\"https://www.amazon.com/gp/help/customer/display.html/ref=nav_cs_help?ie=UTF8&nodeId=202045290\"> separate terms, </a> are sold from abroad and may differ from local products, including fit, age ratings, and language of product, labeling or instructions.', 'Manufacturer warranty may not apply', '<a href=\"https://www.amazon.com/b?node=14770868011\">Learn more</a> about Amazon Global Store.']\n",
      "--------------------------------------------------------------------------------\n",
      "🔹 REPORT\n",
      "Brand:               Teach Time Triangle\n",
      "Product Description: Fun Time Activity Teach Time Triangle - Plastic Toy.  Green top/orange bottom. Clear plastic tubes that rattle from tiny little balls inside.  Various toys from the midpoints of the triangles and across the top.  Length: 8  Width: 8  Height: 9 3/4\n",
      "--------------------------------------------------------------------------------\n"
     ]
    }
   ],
   "source": [
    "nonzero_indices = df_asin[df_asin['match'] != 0].index.tolist()\n",
    "for ind_a in nonzero_indices[:10]:\n",
    "    recall_indices = df_asin.loc[ind_a,\"indices\"]\n",
    "    print(f'Amazon index: {ind_a}')\n",
    "    print_metadata(amazon_df, [ind_a])\n",
    "    print_recall_data(recalls_df, recall_indices)"
   ]
  },
  {
   "cell_type": "markdown",
   "id": "83497e09-5867-412f-8b9b-1390e116d924",
   "metadata": {},
   "source": [
    "We observed some mismatches. We will apply the LLM to these matches to verify their validity. \n",
    "\n",
    "We define new columns in amazon_df to be able to apply the above function defined for llm checking:"
   ]
  },
  {
   "cell_type": "code",
   "execution_count": 125,
   "id": "63b7cf4c-1ffa-4cdd-9130-926fc6e62494",
   "metadata": {},
   "outputs": [],
   "source": [
    "amazon_df[\"is_match_old\"] = amazon_df[\"is_match\"]\n",
    "amazon_df[\"matched_recall_indices_old\"] = amazon_df[\"matched_recall_indices\"]\n",
    "amazon_df[\"is_match\"] = df_asin['match']\n",
    "amazon_df[\"matched_recall_indices\"] = df_asin['indices']"
   ]
  },
  {
   "cell_type": "markdown",
   "id": "7617e280-0a59-4850-9f00-f16e438fda64",
   "metadata": {},
   "source": [
    "### Run LLM One More Time for Asin Matches"
   ]
  },
  {
   "cell_type": "code",
   "execution_count": 134,
   "id": "e24f0213-59eb-43ae-9f58-3ce204be4920",
   "metadata": {},
   "outputs": [
    {
     "name": "stdout",
     "output_type": "stream",
     "text": [
      "Time taken: 15032.13 seconds\n"
     ]
    }
   ],
   "source": [
    "import pickle\n",
    "import time\n",
    "import requests\n",
    "import json\n",
    "\n",
    "start_time = time.time()\n",
    "\n",
    "asin_match_result = generate_llm_match_column_parallel(amazon_df, recalls_df, max_threads=5)\n",
    "\n",
    "end_time = time.time()\n",
    "print(f\"Time taken: {end_time - start_time:.2f} seconds\")\n",
    "\n",
    "with open('asin_match_result.pkl', 'wb') as f:\n",
    "    pickle.dump(asin_match_result, f)\n"
   ]
  },
  {
   "cell_type": "markdown",
   "id": "9ff9c554-39d8-49d8-bb84-0ba1a8b759fc",
   "metadata": {},
   "source": [
    "Generate new columns to store match labels and recall indices:"
   ]
  },
  {
   "cell_type": "code",
   "execution_count": 142,
   "id": "69aa4c7f-d136-4d42-ba99-142c042ec67a",
   "metadata": {},
   "outputs": [],
   "source": [
    "is_match_asin = np.zeros(len(amazon_df), dtype=int)\n",
    "matched_recall_indices_asin = [ [] for _ in range(len(amazon_df)) ]  \n",
    "\n",
    "for i, (recall_indices, new_labels) in enumerate(zip(amazon_df[\"matched_recall_indices\"], asin_match_result)):\n",
    "    new_recall_ind = []\n",
    "    for j, label in enumerate(new_labels):\n",
    "        if label == 1:\n",
    "            new_recall_ind.append(recall_indices[j])\n",
    "    matched_recall_indices_asin[i] = new_recall_ind\n",
    "    if new_recall_ind:\n",
    "        is_match_asin[i] = 1"
   ]
  },
  {
   "cell_type": "code",
   "execution_count": 144,
   "id": "f6a174ca-8d65-430e-a769-37ad6dc78045",
   "metadata": {},
   "outputs": [
    {
     "data": {
      "text/plain": [
       "398"
      ]
     },
     "execution_count": 144,
     "metadata": {},
     "output_type": "execute_result"
    }
   ],
   "source": [
    "is_match_asin.sum()"
   ]
  },
  {
   "cell_type": "markdown",
   "id": "213b75bb-e484-4952-a10e-f87e1831afde",
   "metadata": {},
   "source": [
    "There are **398** matches left after applying llm. Check how many of tehm are different from previous matches:"
   ]
  },
  {
   "cell_type": "code",
   "execution_count": 315,
   "id": "f43d4e3e-e288-48e3-b687-ea660107850c",
   "metadata": {},
   "outputs": [],
   "source": [
    "diff_ind = []\n",
    "for id_a in range(0,len(amazon_df)):\n",
    "    if (amazon_df.loc[id_a,'is_match_new']==0) and (is_match_asin[id_a]==1):\n",
    "        diff_ind.append(id_a)"
   ]
  },
  {
   "cell_type": "code",
   "execution_count": 321,
   "id": "d9f77a2a-9b6c-4c92-957c-739966b6249b",
   "metadata": {},
   "outputs": [
    {
     "name": "stdout",
     "output_type": "stream",
     "text": [
      "There are 242 new matches.\n"
     ]
    }
   ],
   "source": [
    "print(f\"There are {len(diff_ind)} new matches.\")"
   ]
  },
  {
   "cell_type": "code",
   "execution_count": 174,
   "id": "3896255f-5ca6-4e12-878b-38fab2f33c76",
   "metadata": {},
   "outputs": [],
   "source": [
    "amazon_df['is_match_asin'] = is_match_asin"
   ]
  },
  {
   "cell_type": "code",
   "execution_count": 176,
   "id": "88724e08-b335-42b9-9481-4d6167556dbf",
   "metadata": {},
   "outputs": [
    {
     "data": {
      "text/plain": [
       "is_match_asin\n",
       "0    633485\n",
       "1       398\n",
       "Name: count, dtype: int64"
      ]
     },
     "execution_count": 176,
     "metadata": {},
     "output_type": "execute_result"
    }
   ],
   "source": [
    "amazon_df['is_match_asin'].value_counts()"
   ]
  },
  {
   "cell_type": "code",
   "execution_count": 178,
   "id": "14860aa8-6ddf-47eb-b299-b985a2212588",
   "metadata": {},
   "outputs": [
    {
     "data": {
      "text/plain": [
       "is_match_asin\n",
       "0    623905\n",
       "1       379\n",
       "Name: count, dtype: int64"
      ]
     },
     "execution_count": 178,
     "metadata": {},
     "output_type": "execute_result"
    }
   ],
   "source": [
    "amazon_df.drop_duplicates(subset=['asin'])[\"is_match_asin\"].value_counts()"
   ]
  },
  {
   "cell_type": "markdown",
   "id": "e3400cbf-c551-4559-a26e-7dd89a733f83",
   "metadata": {},
   "source": [
    "## Combining Matches in Asin Method and Previous Matches:"
   ]
  },
  {
   "cell_type": "markdown",
   "id": "f61877bb-fa02-415f-a92c-188a65f76df5",
   "metadata": {},
   "source": [
    "Generate match and indices column according to llm results:"
   ]
  },
  {
   "cell_type": "code",
   "execution_count": 190,
   "id": "35184f3b-79d8-498d-832f-bc5c41d65658",
   "metadata": {},
   "outputs": [],
   "source": [
    "is_match_asin = np.zeros(len(amazon_df), dtype=int)\n",
    "matched_recall_indices_asin = [ [] for _ in range(len(amazon_df)) ]  \n",
    "\n",
    "for i, (recall_indices, new_labels) in enumerate(zip(df_asin[\"indices\"], asin_match_result)):\n",
    "    new_recall_ind = []\n",
    "    for j, label in enumerate(new_labels):\n",
    "        if label == 1:\n",
    "            new_recall_ind.append(recall_indices[j])\n",
    "    matched_recall_indices_asin[i] = new_recall_ind\n",
    "    if new_recall_ind:\n",
    "        is_match_asin[i] = 1"
   ]
  },
  {
   "cell_type": "markdown",
   "id": "dad3ca24-584d-428d-81b2-38e2ea64f36b",
   "metadata": {},
   "source": [
    "#### Combine Matches:"
   ]
  },
  {
   "cell_type": "code",
   "execution_count": 197,
   "id": "86d5c672-4de9-4d1d-aeef-1a0c7c42a66f",
   "metadata": {},
   "outputs": [],
   "source": [
    "amazon_df[\"is_match_final\"] = amazon_df[\"is_match_new\"]\n",
    "amazon_df[\"matched_recall_indices_final\"] = amazon_df[\"matched_recall_indices_new\"]"
   ]
  },
  {
   "cell_type": "code",
   "execution_count": 203,
   "id": "7455cbba-6173-4900-ab71-b36581a6e7f5",
   "metadata": {},
   "outputs": [],
   "source": [
    "for id_a in range(len(amazon_df)):\n",
    "   \n",
    "    if amazon_df.loc[id_a, \"is_match_new\"] == 0 and is_match_asin[id_a] == 1:\n",
    "        amazon_df.loc[id_a, \"is_match_final\"] = 1\n",
    "\n",
    "    original_indices = set(amazon_df.loc[id_a, \"matched_recall_indices_new\"])\n",
    "    new_indices = set(matched_recall_indices_asin[id_a])\n",
    "    diff_indices = new_indices - original_indices\n",
    "\n",
    "    if diff_indices:\n",
    "        amazon_df.loc[id_a, \"matched_recall_indices_final\"].extend(diff_indices)\n"
   ]
  },
  {
   "cell_type": "code",
   "execution_count": 207,
   "id": "1015186d-a523-4462-931e-d7274c0f71f1",
   "metadata": {},
   "outputs": [
    {
     "data": {
      "text/plain": [
       "is_match_final\n",
       "0    632376\n",
       "1      1507\n",
       "Name: count, dtype: int64"
      ]
     },
     "execution_count": 207,
     "metadata": {},
     "output_type": "execute_result"
    }
   ],
   "source": [
    "amazon_df[\"is_match_final\"].value_counts()"
   ]
  },
  {
   "cell_type": "code",
   "execution_count": 209,
   "id": "35e621b8-9b8d-46bf-9fc3-3f66af524969",
   "metadata": {},
   "outputs": [
    {
     "data": {
      "text/plain": [
       "is_match_final\n",
       "0    622840\n",
       "1      1444\n",
       "Name: count, dtype: int64"
      ]
     },
     "execution_count": 209,
     "metadata": {},
     "output_type": "execute_result"
    }
   ],
   "source": [
    "amazon_df.drop_duplicates(subset=['asin'])[\"is_match_final\"].value_counts()"
   ]
  },
  {
   "cell_type": "markdown",
   "id": "b11e7ef3-9505-427c-a17c-b657d5d9e86a",
   "metadata": {},
   "source": [
    "After dropping duplicates, there are **1444** amazon products that are matched to at least one incident product."
   ]
  },
  {
   "cell_type": "markdown",
   "id": "8a64c484-12be-4db0-98d9-929ffcbed895",
   "metadata": {},
   "source": [
    "## Combine Other Recall Matches:"
   ]
  },
  {
   "cell_type": "code",
   "execution_count": null,
   "id": "0768586a-1923-44c0-bd67-68063c40d6ad",
   "metadata": {},
   "outputs": [
    {
     "name": "stderr",
     "output_type": "stream",
     "text": [
      "C:\\Users\\Betul\\AppData\\Local\\Temp\\ipykernel_14724\\2785232641.py:1: DtypeWarning: Columns (6) have mixed types. Specify dtype option on import or set low_memory=False.\n",
      "  updated_amazon_df = pd.read_csv('Data/amazon_meta_with_recall_matches.csv', encoding='utf-8')\n"
     ]
    }
   ],
   "source": [
    "# Upload Datafram with matches and Indices\n",
    "updated_amazon_df = pd.read_csv('../Data/amazon_meta_with_recall_matches.csv', encoding='utf-8')"
   ]
  },
  {
   "cell_type": "code",
   "execution_count": null,
   "id": "bfd84746-c30f-42f6-a2b1-59f68f9b39c0",
   "metadata": {},
   "outputs": [
    {
     "data": {
      "text/plain": [
       "is_match\n",
       "0    633857\n",
       "1        26\n",
       "Name: count, dtype: int64"
      ]
     },
     "execution_count": 241,
     "metadata": {},
     "output_type": "execute_result"
    }
   ],
   "source": [
    "updated_amazon_df['is_match'].value_counts()"
   ]
  },
  {
   "cell_type": "markdown",
   "id": "c658ac2a-381d-48b8-b7b2-8b3c9fa26efc",
   "metadata": {},
   "source": [
    "There are 26 recall matches here."
   ]
  },
  {
   "cell_type": "code",
   "execution_count": 248,
   "id": "567d0b9a-3062-45b1-b7cc-8bf09cf279b6",
   "metadata": {},
   "outputs": [],
   "source": [
    "nonzero_indices3 = updated_amazon_df[updated_amazon_df['is_match'] != 0].index.to_list()"
   ]
  },
  {
   "cell_type": "code",
   "execution_count": 254,
   "id": "d8f8665c-ac7a-47c4-9632-fb791327c420",
   "metadata": {},
   "outputs": [
    {
     "name": "stdout",
     "output_type": "stream",
     "text": [
      "1\n",
      "1\n",
      "1\n",
      "1\n",
      "1\n",
      "1\n",
      "1\n",
      "1\n",
      "1\n",
      "1\n",
      "1\n",
      "1\n",
      "1\n",
      "1\n",
      "1\n",
      "1\n",
      "1\n",
      "1\n",
      "1\n",
      "1\n",
      "1\n",
      "1\n",
      "1\n",
      "1\n",
      "1\n",
      "1\n"
     ]
    }
   ],
   "source": [
    "for ind_d in nonzero_indices3:\n",
    "    print(amazon_df.loc[ind_a,'is_match_final'])"
   ]
  },
  {
   "cell_type": "markdown",
   "id": "c1badbfb-d2b5-427c-bf84-a6766ee8cdc9",
   "metadata": {},
   "source": [
    "We see that these Amazon indices are already captured by previous methods."
   ]
  },
  {
   "cell_type": "markdown",
   "id": "056f6351-1391-4ff3-b3ce-4acf30e58504",
   "metadata": {},
   "source": [
    "## Save Labeled Data"
   ]
  },
  {
   "cell_type": "code",
   "execution_count": 257,
   "id": "837043db-1a42-45b1-bf9a-ebc31dda50b8",
   "metadata": {},
   "outputs": [
    {
     "data": {
      "text/plain": [
       "Index(['Unnamed: 0', 'category', 'tech1', 'description', 'fit', 'title',\n",
       "       'also_buy', 'tech2', 'brand', 'feature', 'rank', 'also_view',\n",
       "       'main_cat', 'similar_item', 'date', 'price', 'asin', 'imageURL',\n",
       "       'imageURLHighRes', 'details', 'is_match', 'matched_recall_indices',\n",
       "       'is_match_new', 'matched_recall_indices_new', 'is_match_old',\n",
       "       'matched_recall_indices_old', 'is_match_asin', 'is_match_final',\n",
       "       'matched_recall_indices_final'],\n",
       "      dtype='object')"
      ]
     },
     "execution_count": 257,
     "metadata": {},
     "output_type": "execute_result"
    }
   ],
   "source": [
    "amazon_df.columns"
   ]
  },
  {
   "cell_type": "code",
   "execution_count": 267,
   "id": "604d4b3a-8a5c-42a2-8dcd-7aacd3e6629e",
   "metadata": {},
   "outputs": [],
   "source": [
    "columns_to_drop = [\n",
    "    'is_match', 'matched_recall_indices', 'is_match_new', 'matched_recall_indices_new',\n",
    "    'is_match_old', 'matched_recall_indices_old', 'is_match_asin',\n",
    "    'is_match_final', 'matched_recall_indices_final', 'Unnamed: 0'\n",
    "]\n",
    "amazon_df_labeled = amazon_df.drop(columns=columns_to_drop)"
   ]
  },
  {
   "cell_type": "code",
   "execution_count": 269,
   "id": "27804e39-987a-46be-8a36-05883d1e8f9c",
   "metadata": {},
   "outputs": [
    {
     "data": {
      "text/plain": [
       "Index(['category', 'tech1', 'description', 'fit', 'title', 'also_buy', 'tech2',\n",
       "       'brand', 'feature', 'rank', 'also_view', 'main_cat', 'similar_item',\n",
       "       'date', 'price', 'asin', 'imageURL', 'imageURLHighRes', 'details'],\n",
       "      dtype='object')"
      ]
     },
     "execution_count": 269,
     "metadata": {},
     "output_type": "execute_result"
    }
   ],
   "source": [
    "amazon_df_labeled.columns"
   ]
  },
  {
   "cell_type": "code",
   "execution_count": 271,
   "id": "9b9f4aca-1cdc-402c-bdb6-0da7bbc2252a",
   "metadata": {},
   "outputs": [],
   "source": [
    "amazon_df_labeled['match'] = amazon_df['is_match_final']\n",
    "amazon_df_labeled['incident_indices'] = amazon_df['matched_recall_indices_final']"
   ]
  },
  {
   "cell_type": "code",
   "execution_count": null,
   "id": "3e9ca76a-11c4-4fae-aeb0-51c506384f6e",
   "metadata": {},
   "outputs": [],
   "source": [
    "amazon_df_labeled.to_csv(\"../Data/amazon_df_labels.csv\", encoding='utf-8', index=False)"
   ]
  },
  {
   "cell_type": "code",
   "execution_count": null,
   "id": "e9240fa0-fa97-43ec-b37b-7db4c9670c3b",
   "metadata": {},
   "outputs": [],
   "source": [
    "## Print Randomly To See The Matches:"
   ]
  },
  {
   "cell_type": "code",
   "execution_count": 334,
   "id": "c881cc80-9441-44ad-bdb6-284f38145481",
   "metadata": {},
   "outputs": [
    {
     "name": "stdout",
     "output_type": "stream",
     "text": [
      "Amazon index: 186299\n",
      "🔹 META\n",
      "Brand:   Disney\n",
      "Title:   Tangled Rapunzel Figure Play Set -- 6-Pc. (Flynn, Pascal, Maximus) by Disney\n",
      "Feature: ['Plastic', \"Up to 4'' H\", 'Includes: Rapunzel, Flynn, Maximus', 'Includes: Toddler Rapunzel, Mother Gothel, Hookhand Thug', 'Ages 3+']\n",
      "--------------------------------------------------------------------------------\n",
      "🔹 REPORT\n",
      "Brand:               Disney\n",
      "Product Description: Disney Store Tangled Rapunzel Figure Playset -- 6 pc.  This is a six piece figurine set featuring characters from the Disney movie, Tangled.Item No.: 6372046020012P\n",
      "--------------------------------------------------------------------------------\n",
      "Amazon index: 123271\n",
      "🔹 META\n",
      "Brand:   Barbie\n",
      "Title:    Barbie Doll Ice Cream Barbie Doll\n",
      "Feature: ['Barbie doll']\n",
      "--------------------------------------------------------------------------------\n",
      "🔹 REPORT\n",
      "Brand:               Barbie doll by Mattel\n",
      "Product Description: Barbie doll\n",
      "--------------------------------------------------------------------------------\n",
      "Amazon index: 468460\n",
      "🔹 META\n",
      "Brand:   Build A Bear\n",
      "Title:   Build A Bear Workshop Toothless 17&quot; Dragon\n",
      "Feature: ['About 17\"', \"Toothless' mischievous smile\"]\n",
      "--------------------------------------------------------------------------------\n",
      "🔹 REPORT\n",
      "Brand:               Build A Bear\n",
      "Product Description: Build A Bear Dragon\n",
      "--------------------------------------------------------------------------------\n",
      "Amazon index: 585092\n",
      "🔹 META\n",
      "Brand:   Barbie\n",
      "Title:   Barbie Hello Dreamhouse\n",
      "Feature: ['\"The Toy Insider Top Tech 12\" winner. Move into the high-tech world with the Barbie Hello Dreamhouse that uses Wi-Fi-enabled speech recognition to respond to more than 100 commands!', 'Features four motors, automatic elevator, electronic staircase that turns into a slide, spinning chandelier and doors that open with a voice command!', 'Change features within the six rooms, move the elevator and change the stairs into a slide simply by telling the house what to do!', 'Use the Hello Dreamhouse app to customize the sounds in each play space -- you can even record your own sounds for use in any of 15 locations', 'Thirteen switches located throughout the house bring each room to life -- like a fireplace that crackles in the living room!', 'Refer to the PDF attached below in Technical Specification for User Manual and Troubleshooting Steps', '<span class=\"a-size-base a-color-secondary\">\\n                Colorful furniture with modern designs include a dining set with two chairs, a couch, a circle chair, a stool, a coffee table, a bed and two chandeliers\\n            </span>', '<span class=\"a-size-base a-color-secondary\">\\n                Realistic house accessories expand creative expression and storytelling fun, like a water bottle, a blender, a blanket, a standing vase with plant and more\\n            </span>']\n",
      "--------------------------------------------------------------------------------\n",
      "🔹 REPORT\n",
      "Brand:               Barbie Dreamhouse\n",
      "Product Description: Measuring 43 inches tall and 41 inches wide, the fully furnished Barbie Dreamhouse inspires endless imagination with 10 indoor and outdoor play areas, customizable features and 75+ storytelling pieces!Dreamy features include a working elevator, party room with a DJ booth, second-story slide with a pool, balcony with a repositionable hammock swing and a puppy play area with its own pool and slide.Customizations let kids design their own dream home -- the grass area and pool can be placed in multiple configurations on the first and third floors, and the slide fits in 4 unique locations!Set the scene for any story with realistic sound effects, 2 soundscapes, 3 songs, 8 light color options, and 4 light settings including day mode, night mode, party mode and mood lighting.A third-floor balcony and rooftop deck inspire outdoor living -- bring everyone upstairs in the working elevator that can lift and lower 4 dolls or a Barbie doll in a wheelchair!Discover wow moments on every floor with transforming pieces, like a bunk bed that folds down from the wall, a BBQ grill that reverses to reveal a dessert buffet and an entertainment center that doubles as a pet area.Bring detail to playtime with 75+ storytelling pieces featuring realistic touches and textures, like plush blankets, modern dcor and grass that's soft to the touch!\n",
      "--------------------------------------------------------------------------------\n",
      "Amazon index: 400286\n",
      "🔹 META\n",
      "Brand:   Pillow Pets\n",
      "Title:   Pillow Pets Poucheez - Rainbow Unicorn\n",
      "Feature: ['Super Soft Plush outer lining - Chenille & Cotton Blend']\n",
      "--------------------------------------------------------------------------------\n",
      "🔹 REPORT\n",
      "Brand:               Pillow Pets \n",
      "Product Description: unicorn pillow pet\n",
      "--------------------------------------------------------------------------------\n",
      "Amazon index: 397806\n",
      "🔹 META\n",
      "Brand:   Little Tikes\n",
      "Title:   Little Tikes Princess Cozy Coupe 3-in-1 Mobile Entertainer, Pink\n",
      "Feature: []\n",
      "--------------------------------------------------------------------------------\n",
      "🔹 REPORT\n",
      "Brand:               Little Tikes\n",
      "Product Description: Little Tikes Cozy Coupe\n",
      "--------------------------------------------------------------------------------\n",
      "Amazon index: 11901\n",
      "🔹 META\n",
      "Brand:   Pacific Play Tents\n",
      "Title:   Pacific Play Tents Find Me Play Tent\n",
      "Feature: ['This primary colored nylon tent is so durable it can be used indoors and outdoors', 'Use your imagination and customize your very own play space', 'Great fun for an outdoor backyard camp out on a hot summer night', 'Zipper and Velcro on front door makes for an easy opening and closing, mesh windows at top of tent for ventilation and added fun', 'Cleans easily with a damp cloth and MILD soap, nylon storage bag included']\n",
      "--------------------------------------------------------------------------------\n",
      "🔹 REPORT\n",
      "Brand:               Pacific Play Tents\n",
      "Product Description: Listed on Amazon as Pacific Play Tents Kids One Touch Beach Tent, UV treated - 48 x 48 x 36 (kids 3 and up).  This is the same tent marketed as the One-Touch Play Tent on the Pacific Play Tents website.\n",
      "--------------------------------------------------------------------------------\n",
      "Amazon index: 273755\n",
      "🔹 META\n",
      "Brand:   Disney\n",
      "Title:   Disney Doc McStuffins Time for Your Checkup Interactive Talking Doll + Lambie Plush Doll\n",
      "Feature: ['Includes over 10 Piece', 'Doc also talks and sings the \"time for Your Check-Up\" song', \"Check Lambie's heart, ears and temperature\"]\n",
      "--------------------------------------------------------------------------------\n",
      "🔹 REPORT\n",
      "Brand:               Disney\n",
      "Product Description: Interactive Doc McStuffins Lambie doll by Disney.\n",
      "--------------------------------------------------------------------------------\n",
      "Amazon index: 188075\n",
      "🔹 META\n",
      "Brand:   Janod\n",
      "Title:   Janod Push N Roll\n",
      "Feature: ['Handle height is adjustable', 'Constructed from solid wood', 'Bright, fun colors entice your little one to play', 'Designed in France by Janod', 'Great for ages 12 months and above']\n",
      "--------------------------------------------------------------------------------\n",
      "🔹 REPORT\n",
      "Brand:               Janod\n",
      "Product Description: Janod Push N Roll Tattoo Model: J05370www.janod.comA multicolored wooden push toy that is filled with colorful wooden marbles and bells.\n",
      "--------------------------------------------------------------------------------\n",
      "Amazon index: 427657\n",
      "🔹 META\n",
      "Brand:   Crayola\n",
      "Title:   Crayola 24 Count Crayons (6-Pack)\n",
      "Feature: ['Crayon', 'Made in USA or Imported', 'Features 6 packs of 24 count Crayola Crayons, 144 in all.', 'Colors include apricot, black, blue blue green, blue violet, brown, carnation pink, cerulean, bluetiful, gray , green, green yellow, indigo, orange, red, red orange, red violet, scarlet, violet (purple), violet red, white, yellow, yellow green, yellow orange.', 'Durable, long-lasting crayons are double wrapped for extra strength.', 'Each pack provides 24 hues for vibrant, high-quality results and long-lasting color.', 'Safe and nontoxic, ages 6 & up.']\n",
      "--------------------------------------------------------------------------------\n",
      "🔹 REPORT\n",
      "Brand:               Crayola\n",
      "Product Description: Crayola Crayons\n",
      "--------------------------------------------------------------------------------\n"
     ]
    }
   ],
   "source": [
    "import random\n",
    "nonzero_indices =amazon_df_labeled[amazon_df_labeled['match'] != 0].index.tolist()\n",
    "sample_indices = random.sample(nonzero_indices, k=10) \n",
    "\n",
    "for ind_a in sample_indices:\n",
    "    recall_indices = amazon_df_labeled.loc[ind_a,'incident_indices']\n",
    "    print(f'Amazon index: {ind_a}')\n",
    "    print_metadata(amazon_df_labeled, [ind_a])\n",
    "    print_recall_data(recalls_df, recall_indices)"
   ]
  },
  {
   "cell_type": "code",
   "execution_count": null,
   "id": "f03fdc53-6542-4bd7-8141-cf5fe3ba3836",
   "metadata": {},
   "outputs": [],
   "source": []
  }
 ],
 "metadata": {
  "kernelspec": {
   "display_name": "erdos_summer_2025",
   "language": "python",
   "name": "python3"
  },
  "language_info": {
   "codemirror_mode": {
    "name": "ipython",
    "version": 3
   },
   "file_extension": ".py",
   "mimetype": "text/x-python",
   "name": "python",
   "nbconvert_exporter": "python",
   "pygments_lexer": "ipython3",
   "version": "3.12.11"
  }
 },
 "nbformat": 4,
 "nbformat_minor": 5
}
