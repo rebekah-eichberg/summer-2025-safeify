{
 "cells": [
  {
   "cell_type": "markdown",
   "id": "09df8abf",
   "metadata": {},
   "source": [
    "# Documentation for `matching_recalls.ipynb`\n",
    "\n",
    "## Purpose\n",
    "\n",
    "This notebook matches Amazon product listings to official product recall records by comparing product titles. It helps identify which Amazon products have been subject to recalls.\n",
    "\n",
    "\n",
    "## Overview\n",
    "\n",
    "- We first load Amazon product metadata and the recall titles are loaded from raw data.\n",
    "- We then cleans recall titles by removing generic/banned words (e.g., \"recall\", \"hazard\", \"product\", etc.) to focus on the core product name.\n",
    "- We then use fuzzy matching (`RapidFuzz`) to compare the cleaned recall title to each Amazon product title. We record a match if the returned score is above 80.\n",
    "- We then save  the updated dataframe to `../Data/amazon_meta_with_recall_matches.csv`.\n",
    "\n",
    "## Input Files\n",
    "\n",
    "- `../Data/metadata_raw.pkl`  \n",
    "- `../Data/recalls/*.csv`  \n",
    "\n",
    "## Output Files\n",
    "\n",
    "- `../Data/amazon_meta_with_recall_matches.csv`  "
   ]
  },
  {
   "cell_type": "code",
   "execution_count": 19,
   "id": "3766e76b",
   "metadata": {},
   "outputs": [],
   "source": [
    "import pandas as pd\n",
    "import os\n"
   ]
  },
  {
   "cell_type": "code",
   "execution_count": 20,
   "id": "1fa228a0",
   "metadata": {},
   "outputs": [],
   "source": [
    "file_path = '../Data/metadata_raw.pkl'  \n",
    "amazon_df = pd.read_pickle(file_path)"
   ]
  },
  {
   "cell_type": "code",
   "execution_count": 21,
   "id": "e3cec479",
   "metadata": {},
   "outputs": [],
   "source": [
    "# Extract the title path for all the product recalls\n",
    "\n",
    "folder_path = '../Data/recalls'\n",
    "csv_files = [f for f in os.listdir(folder_path) if f.endswith('.csv')]\n",
    "\n",
    "titles = []\n",
    "\n",
    "for file in csv_files:\n",
    "    file_path = os.path.join(folder_path, file)\n",
    "    try:\n",
    "        # Skip the first row, treat row 1 as header\n",
    "        df = pd.read_csv(file_path, skiprows=1, encoding='utf-8', on_bad_lines='skip', dtype=str)\n",
    "\n",
    "        if 'Title' not in df.columns:\n",
    "            print(f\"⚠️ Skipped {file}: No 'Title' column found in row 2.\")\n",
    "            continue\n",
    "\n",
    "        df = df[['Title']]  # Keep only the 'Title' column\n",
    "        titles.append(df)\n",
    "\n",
    "    except Exception as e:\n",
    "        print(f\"❌ Error reading {file}: {e}\")\n",
    "\n",
    "# Combine all 'Title' columns\n",
    "toysrecall_df = pd.concat(titles, ignore_index=True)"
   ]
  },
  {
   "cell_type": "code",
   "execution_count": 22,
   "id": "35a00c47",
   "metadata": {},
   "outputs": [
    {
     "name": "stdout",
     "output_type": "stream",
     "text": [
      "Combined recall records: 846\n",
      "Columns: ['Title']\n"
     ]
    },
    {
     "data": {
      "application/vnd.microsoft.datawrangler.viewer.v0+json": {
       "columns": [
        {
         "name": "index",
         "rawType": "int64",
         "type": "integer"
        },
        {
         "name": "Title",
         "rawType": "object",
         "type": "string"
        }
       ],
       "ref": "5f6b36e3-502e-452e-bfd7-4581c56bf121",
       "rows": [
        [
         "0",
         "Toy Truck Gifts with Purchase Recalled by Happy Shirts Due to Fire Hazard"
        ],
        [
         "1",
         "Tumblekins Toys Recalled by International Playthings Due to Choking and Laceration Hazards"
        ],
        [
         "2",
         "Schylling Recalls Police Press and Go Toy Vehicles Due to Choking Hazard"
        ],
        [
         "3",
         "Green Toys Recalls Mini Vehicles Due To Choking Hazard"
        ],
        [
         "4",
         "Cycle Gear Recalls Semi Truck and Motorcycle Toys Due to Excessive Lead Levels (Recall Alert)"
        ],
        [
         "5",
         "LM Import & Export Recalls Toy Cars Due to Violation of Lead Paint Standard"
        ],
        [
         "6",
         "Dollar General Recalls Construction Truck Toy Vehicles Due to Fire and Burn Hazards; Sold Exclusively at Dollar General "
        ],
        [
         "7",
         "Family Dollar Stores Recall Tough Treadz Auto Carrier Toy Sets Due to Laceration Hazard"
        ],
        [
         "8",
         "Family Dollar Stores Recalls Remote Controlled Toy Tanks Due to Burn Hazard"
        ],
        [
         "9",
         "Infantino Recalls Toy Activity Trucks Due to Choking Hazard"
        ],
        [
         "10",
         "Fisher-Price Recalls to Repair Little People Builders' Load 'n Go Wagons due to Laceration Hazard"
        ],
        [
         "11",
         "Zoom Buggy Cars and Dream Pillow Stars Recalled by Kindermusik Due to Choking Hazard"
        ],
        [
         "12",
         "Traxxas Recalls X-Maxx Monster Trucks and Electronic Speed Controls Due to Fire Hazard"
        ],
        [
         "13",
         "CPSC, Babies R Us and Playwell Announce Recall of Snail Push Toys"
        ],
        [
         "14",
         "Infantino Recalls Infant Toys Due to Choking Hazard"
        ],
        [
         "15",
         "Imagine Nation Books Recalls Double Dazzler Light Show Toys Due to Burn Hazard"
        ],
        [
         "16",
         "CPSC, Käthe Kruse Doll Co. Announce Recall of Selecta Wooden Toys"
        ],
        [
         "17",
         "Discovery Toys Recall of Children's Toy"
        ],
        [
         "18",
         "Bendable Dinosaur Toys Recalled by Kipp Brothers for Excessive Lead"
        ],
        [
         "19",
         "Imperial Toy Recall of Toy Feeding Sets"
        ]
       ],
       "shape": {
        "columns": 1,
        "rows": 20
       }
      },
      "text/html": [
       "<div>\n",
       "<style scoped>\n",
       "    .dataframe tbody tr th:only-of-type {\n",
       "        vertical-align: middle;\n",
       "    }\n",
       "\n",
       "    .dataframe tbody tr th {\n",
       "        vertical-align: top;\n",
       "    }\n",
       "\n",
       "    .dataframe thead th {\n",
       "        text-align: right;\n",
       "    }\n",
       "</style>\n",
       "<table border=\"1\" class=\"dataframe\">\n",
       "  <thead>\n",
       "    <tr style=\"text-align: right;\">\n",
       "      <th></th>\n",
       "      <th>Title</th>\n",
       "    </tr>\n",
       "  </thead>\n",
       "  <tbody>\n",
       "    <tr>\n",
       "      <th>0</th>\n",
       "      <td>Toy Truck Gifts with Purchase Recalled by Happ...</td>\n",
       "    </tr>\n",
       "    <tr>\n",
       "      <th>1</th>\n",
       "      <td>Tumblekins Toys Recalled by International Play...</td>\n",
       "    </tr>\n",
       "    <tr>\n",
       "      <th>2</th>\n",
       "      <td>Schylling Recalls Police Press and Go Toy Vehi...</td>\n",
       "    </tr>\n",
       "    <tr>\n",
       "      <th>3</th>\n",
       "      <td>Green Toys Recalls Mini Vehicles Due To Chokin...</td>\n",
       "    </tr>\n",
       "    <tr>\n",
       "      <th>4</th>\n",
       "      <td>Cycle Gear Recalls Semi Truck and Motorcycle T...</td>\n",
       "    </tr>\n",
       "    <tr>\n",
       "      <th>5</th>\n",
       "      <td>LM Import &amp; Export Recalls Toy Cars Due to Vio...</td>\n",
       "    </tr>\n",
       "    <tr>\n",
       "      <th>6</th>\n",
       "      <td>Dollar General Recalls Construction Truck Toy ...</td>\n",
       "    </tr>\n",
       "    <tr>\n",
       "      <th>7</th>\n",
       "      <td>Family Dollar Stores Recall Tough Treadz Auto ...</td>\n",
       "    </tr>\n",
       "    <tr>\n",
       "      <th>8</th>\n",
       "      <td>Family Dollar Stores Recalls Remote Controlled...</td>\n",
       "    </tr>\n",
       "    <tr>\n",
       "      <th>9</th>\n",
       "      <td>Infantino Recalls Toy Activity Trucks Due to C...</td>\n",
       "    </tr>\n",
       "    <tr>\n",
       "      <th>10</th>\n",
       "      <td>Fisher-Price Recalls to Repair Little People B...</td>\n",
       "    </tr>\n",
       "    <tr>\n",
       "      <th>11</th>\n",
       "      <td>Zoom Buggy Cars and Dream Pillow Stars Recalle...</td>\n",
       "    </tr>\n",
       "    <tr>\n",
       "      <th>12</th>\n",
       "      <td>Traxxas Recalls X-Maxx Monster Trucks and Elec...</td>\n",
       "    </tr>\n",
       "    <tr>\n",
       "      <th>13</th>\n",
       "      <td>CPSC, Babies R Us and Playwell Announce Recall...</td>\n",
       "    </tr>\n",
       "    <tr>\n",
       "      <th>14</th>\n",
       "      <td>Infantino Recalls Infant Toys Due to Choking H...</td>\n",
       "    </tr>\n",
       "    <tr>\n",
       "      <th>15</th>\n",
       "      <td>Imagine Nation Books Recalls Double Dazzler Li...</td>\n",
       "    </tr>\n",
       "    <tr>\n",
       "      <th>16</th>\n",
       "      <td>CPSC, Käthe Kruse Doll Co. Announce Recall of ...</td>\n",
       "    </tr>\n",
       "    <tr>\n",
       "      <th>17</th>\n",
       "      <td>Discovery Toys Recall of Children's Toy</td>\n",
       "    </tr>\n",
       "    <tr>\n",
       "      <th>18</th>\n",
       "      <td>Bendable Dinosaur Toys Recalled by Kipp Brothe...</td>\n",
       "    </tr>\n",
       "    <tr>\n",
       "      <th>19</th>\n",
       "      <td>Imperial Toy Recall of Toy Feeding Sets</td>\n",
       "    </tr>\n",
       "  </tbody>\n",
       "</table>\n",
       "</div>"
      ],
      "text/plain": [
       "                                                Title\n",
       "0   Toy Truck Gifts with Purchase Recalled by Happ...\n",
       "1   Tumblekins Toys Recalled by International Play...\n",
       "2   Schylling Recalls Police Press and Go Toy Vehi...\n",
       "3   Green Toys Recalls Mini Vehicles Due To Chokin...\n",
       "4   Cycle Gear Recalls Semi Truck and Motorcycle T...\n",
       "5   LM Import & Export Recalls Toy Cars Due to Vio...\n",
       "6   Dollar General Recalls Construction Truck Toy ...\n",
       "7   Family Dollar Stores Recall Tough Treadz Auto ...\n",
       "8   Family Dollar Stores Recalls Remote Controlled...\n",
       "9   Infantino Recalls Toy Activity Trucks Due to C...\n",
       "10  Fisher-Price Recalls to Repair Little People B...\n",
       "11  Zoom Buggy Cars and Dream Pillow Stars Recalle...\n",
       "12  Traxxas Recalls X-Maxx Monster Trucks and Elec...\n",
       "13  CPSC, Babies R Us and Playwell Announce Recall...\n",
       "14  Infantino Recalls Infant Toys Due to Choking H...\n",
       "15  Imagine Nation Books Recalls Double Dazzler Li...\n",
       "16  CPSC, Käthe Kruse Doll Co. Announce Recall of ...\n",
       "17            Discovery Toys Recall of Children's Toy\n",
       "18  Bendable Dinosaur Toys Recalled by Kipp Brothe...\n",
       "19            Imperial Toy Recall of Toy Feeding Sets"
      ]
     },
     "execution_count": 22,
     "metadata": {},
     "output_type": "execute_result"
    }
   ],
   "source": [
    "print(\"Combined recall records:\", len(toysrecall_df))\n",
    "print(\"Columns:\", toysrecall_df.columns.tolist())\n",
    "toysrecall_df.head(20)"
   ]
  },
  {
   "cell_type": "code",
   "execution_count": 23,
   "id": "95091223",
   "metadata": {},
   "outputs": [
    {
     "name": "stdout",
     "output_type": "stream",
     "text": [
      "Index(['Title'], dtype='object')\n"
     ]
    }
   ],
   "source": [
    "print(toysrecall_df.columns)"
   ]
  },
  {
   "cell_type": "code",
   "execution_count": 24,
   "id": "8d8d412b",
   "metadata": {},
   "outputs": [],
   "source": [
    "from rapidfuzz import fuzz, process"
   ]
  },
  {
   "cell_type": "code",
   "execution_count": 25,
   "id": "e29754dc",
   "metadata": {},
   "outputs": [],
   "source": [
    "from rapidfuzz import fuzz\n",
    "import pandas as pd\n",
    "import re\n",
    "\n",
    "def clean_recall_title(title: str) -> str:\n",
    "    banned_words = [\n",
    "        'recall', 'recalls', 'recalled','choking', 'choked', 'hazard', 'hazards', 'hazardous',\n",
    "        'title', 'danger', 'due', 'to', 'for', 'announce', 'announced', 'announcement',\n",
    "        'alert', 'alerts', 'warning', 'warnings', 'safety', 'unsafe', 'product', 'products',\n",
    "        'item', 'items', 'may', 'cause', 'risk', 'risks', 'injury', 'injuries', 'harm',\n",
    "        'damages', 'defect', 'defective', 'faulty', 'fault', 'issue', 'issues',\n",
    "        'problem', 'problems', 'dangerous', 'dangerously'\n",
    "    ]\n",
    "    pattern = r'\\b(?:' + '|'.join(banned_words) + r')\\b'\n",
    "    cleaned = re.sub(pattern, '', title, flags=re.IGNORECASE)\n",
    "    cleaned = re.sub(r'\\s+', ' ', cleaned)  # remove extra spaces\n",
    "    return cleaned.strip()\n",
    "\n",
    "def match_amazon_to_recalls(amazon_df, recall_df, score_threshold=90):\n",
    "    amazon = amazon_df.copy()\n",
    "    recalls = recall_df.copy()\n",
    "\n",
    "    amazon['title'] = amazon['title'].astype(str).str.lower().str.strip()\n",
    "    recalls['Title'] = recalls['Title'].astype(str).str.lower().str.strip()\n",
    "\n",
    "    # Initialize columns\n",
    "    amazon_df['is_match'] = 0\n",
    "    amazon_df['recall_index'] = [[] for _ in range(len(amazon_df))]\n",
    "\n",
    "    matched = {}\n",
    "\n",
    "    for recall_title in recalls['Title'].dropna().unique():\n",
    "        cleaned = clean_recall_title(recall_title)\n",
    "        if not cleaned:\n",
    "            continue\n",
    "\n",
    "        mask = amazon['title'].apply(lambda x: fuzz.token_sort_ratio(x, cleaned) >= score_threshold)\n",
    "        amazon_matches = amazon[mask]\n",
    "        recall_rows = recalls[recalls['Title'] == recall_title]\n",
    "\n",
    "        if not amazon_matches.empty:\n",
    "            matched[recall_title] = (recall_rows.copy(), amazon_matches.copy())\n",
    "            recall_idx = recall_rows.index[0]\n",
    "\n",
    "            for idx in amazon_matches.index:\n",
    "                amazon_df.at[idx, 'is_match'] = 1\n",
    "                amazon_df.at[idx, 'recall_index'].append(2514 + recall_idx)\n",
    "\n",
    "    print(f\"✅ Found matches for {len(matched)} recall-title entries.\")\n",
    "    print(f\"📦 Unique Amazon products matched: {amazon_df['is_match'].sum()}\")\n",
    "\n",
    "    return matched, amazon_df\n"
   ]
  },
  {
   "cell_type": "code",
   "execution_count": 26,
   "id": "3c9afdbe",
   "metadata": {},
   "outputs": [],
   "source": [
    "from rapidfuzz import fuzz\n",
    "import pandas as pd\n",
    "import re\n",
    "\n",
    "def clean_recall_title(title: str) -> str:\n",
    "    banned_words = ['recall', 'recalls', 'recalled','choking', 'choked', 'hazard', 'hazards', 'hazardous', 'title', 'danger', \"due\", \"to\", \"for\", \"announce\", \"announced\", \"announcement\", \"alert\", \"alerts\", \"warning\", \"warnings\", \"safety\", \"unsafe\", \"product\", \"products\", \"item\", \"items\", \"may\", \"cause\", \"risk\", \"risks\", \"injury\", \"injuries\", \"harm\", \"damages\", \"defect\", \"defective\", \"faulty\", \"fault\", \"issue\", \"issues\", \"problem\", \"problems\", \"dangerous\", \"dangerously\"]\n",
    "    pattern = r'\\b(?:' + '|'.join(banned_words) + r')\\b'\n",
    "    cleaned = re.sub(pattern, '', title, flags=re.IGNORECASE)\n",
    "    return cleaned.strip()\n",
    "\n",
    "def match_amazon_to_recalls(amazon_df, recall_df, score_threshold=90):\n",
    "    amazon = amazon_df.copy()\n",
    "    recalls = recall_df.copy()\n",
    "\n",
    "    amazon['title'] = amazon['title'].astype(str).str.lower().str.strip()\n",
    "    recalls['Title'] = recalls['Title'].astype(str).str.lower().str.strip()\n",
    "\n",
    "    amazon_df['is_match'] = 0\n",
    "    amazon_df['recall_index'] = None\n",
    "\n",
    "    matched = {}\n",
    "\n",
    "    for recall_title in recalls['Title'].dropna().unique():\n",
    "        cleaned = clean_recall_title(recall_title)\n",
    "        if not cleaned:\n",
    "            continue\n",
    "\n",
    "        mask = amazon['title'].apply(lambda x: fuzz.token_sort_ratio(x, cleaned) >= score_threshold)\n",
    "        amazon_matches = amazon[mask]\n",
    "        recall_rows = recalls[recalls['Title'] == recall_title]\n",
    "\n",
    "        if not amazon_matches.empty:\n",
    "            matched[recall_title] = (recall_rows.copy(), amazon_matches.copy())\n",
    "            recall_idx = recall_rows.index[0]\n",
    "\n",
    "            for idx in amazon_matches.index:\n",
    "                amazon_df.at[idx, 'is_match'] = 1\n",
    "                amazon_df.at[idx, 'recall_index'] = 2514 + recall_idx\n",
    "\n",
    "    print(f\"✅ Found matches for {len(matched)} recall-title entries.\")\n",
    "    print(f\"📦 Unique Amazon products matched: {amazon_df['is_match'].sum()}\")\n",
    "\n",
    "    return matched, amazon_df\n"
   ]
  },
  {
   "cell_type": "code",
   "execution_count": 27,
   "id": "f68ded14",
   "metadata": {},
   "outputs": [
    {
     "name": "stdout",
     "output_type": "stream",
     "text": [
      "✅ Found matches for 20 recall-title entries.\n",
      "📦 Unique Amazon products matched: 33\n"
     ]
    }
   ],
   "source": [
    "matched_results, updated_amazon_df = match_amazon_to_recalls(amazon_df, toysrecall_df, 80)"
   ]
  },
  {
   "cell_type": "code",
   "execution_count": 28,
   "id": "2e9d9721",
   "metadata": {},
   "outputs": [
    {
     "name": "stdout",
     "output_type": "stream",
     "text": [
      "\n",
      "⚠️ Recall Title: green toys recalls mini vehicles due to choking hazard\n",
      "🛒 Matched Amazon Titles:\n",
      "   - green toys mixer vehicle\n",
      "   - green toys  mini vehicle, 4-pack\n",
      "\n",
      "⚠️ Recall Title: infantino recalls toy activity trucks due to choking hazard\n",
      "🛒 Matched Amazon Titles:\n",
      "   - infantino activity toy set\n",
      "\n",
      "⚠️ Recall Title: fisher-price recalls to repair little people builders' load 'n go wagons due to laceration hazard\n",
      "🛒 Matched Amazon Titles:\n",
      "   - fisher-price little people builders load 'n go wagon\n",
      "\n",
      "⚠️ Recall Title: stacking toy recalled for choking hazard risk\n",
      "🛒 Matched Amazon Titles:\n",
      "   - stacking tower\n",
      "\n",
      "⚠️ Recall Title: star wars lightsaber recalled by hasbro\n",
      "🛒 Matched Amazon Titles:\n",
      "   - hasbro star wars light saber battle game\n",
      "   - star wars ahsoka lightsaber\n",
      "   - star wars lightsaber ahsoka\n",
      "\n",
      "⚠️ Recall Title: bathtub toys recalled by munchkin due to risk of injury\n",
      "🛒 Matched Amazon Titles:\n",
      "   - munchkin lazy buoys bathtub toys\n",
      "\n",
      "⚠️ Recall Title: toy mobile phones recalled for choking hazard\n",
      "🛒 Matched Amazon Titles:\n",
      "   - mobile phone\n",
      "   - frozen toy mobile phone\n",
      "\n",
      "⚠️ Recall Title: guidecraft recalls twist 'n sort toys due to choking hazard\n",
      "🛒 Matched Amazon Titles:\n",
      "   - guidecraft twist 'n sort\n",
      "\n",
      "⚠️ Recall Title: fisher-price recalls little people wheelies stand 'n play rampway due to choking hazard\n",
      "🛒 Matched Amazon Titles:\n",
      "   - fisher-price little people wheelies stand 'n play rampway\n",
      "   - fisher-price little people wheelies stand 'n play rampway\n",
      "\n",
      "⚠️ Recall Title: baby toy warning\n",
      "🛒 Matched Amazon Titles:\n",
      "   - baby toys\n",
      "   - baby toy kit\n",
      "\n",
      "⚠️ Recall Title: wooden toy alphabet blocks recalled\n",
      "🛒 Matched Amazon Titles:\n",
      "   - aleph bet wooden blocks\n",
      "   - wooden alphabet blocks - wagon\n",
      "\n",
      "⚠️ Recall Title: xylophone mallets recalled by playwell\n",
      "🛒 Matched Amazon Titles:\n",
      "   - play xylophone with mallet\n",
      "\n",
      "⚠️ Recall Title: toys r us recalls imaginarium activity center due to choking hazard\n",
      "🛒 Matched Amazon Titles:\n",
      "   - imaginarium 5 sided activity center\n",
      "\n",
      "⚠️ Recall Title: target recalls activity cart toys due to choking hazard\n",
      "🛒 Matched Amazon Titles:\n",
      "   - plantoys activity cart\n",
      "\n",
      "⚠️ Recall Title: fisher-price recalls little people play 'n go campsite™ due to choking hazard\n",
      "🛒 Matched Amazon Titles:\n",
      "   - fisher-price little people play 'n go farm\n",
      "   - fisher-price little people play 'n float bath boat\n",
      "   - little people play 'n float boat by fisher-price\n",
      "   - fisher-price little people going camping playset\n",
      "\n",
      "⚠️ Recall Title: bunnies by the bay recalls pull toys due to choking hazard\n",
      "🛒 Matched Amazon Titles:\n",
      "   - bunnies by the bay toy, clucky little\n",
      "\n",
      "⚠️ Recall Title: precious moments tender tails toys recalled by enesco\n",
      "🛒 Matched Amazon Titles:\n",
      "   - precious moments tender tails bee\n",
      "   - yellow duck by precious moments tender tails\n",
      "   - tender tails eagle by precious moments\n",
      "   - lamb by precious moments tender tails\n",
      "\n",
      "⚠️ Recall Title: curious george toy recall\n",
      "🛒 Matched Amazon Titles:\n",
      "   - curious george\n",
      "\n",
      "⚠️ Recall Title: fisher-price recalls laugh and learn bunny toys due to choking hazard\n",
      "🛒 Matched Amazon Titles:\n",
      "   - fisher-price laugh and learn puppy, brown\n",
      "\n",
      "⚠️ Recall Title: build-a-bear recalls stuffed animal toy due to choking hazard\n",
      "🛒 Matched Amazon Titles:\n",
      "   - build-a-bear workshop toucan stuffed animal\n"
     ]
    }
   ],
   "source": [
    "for recall_title, (recall_df, amazon_df_match) in matched_results.items():\n",
    "    print(f\"\\n⚠️ Recall Title: {recall_title}\")\n",
    "    print(\"🛒 Matched Amazon Titles:\")\n",
    "\n",
    "    for _, row in amazon_df_match.iterrows():\n",
    "        print(f\"   - {row['title']}\")\n"
   ]
  },
  {
   "cell_type": "code",
   "execution_count": null,
   "id": "4d024eb0",
   "metadata": {},
   "outputs": [
    {
     "name": "stdout",
     "output_type": "stream",
     "text": [
      "Updated Amazon DataFrame saved to 'amazon_meta_with_recall_matches.csv'.\n"
     ]
    }
   ],
   "source": [
    "updated_amazon_df.to_csv('../Data/amazon_meta_with_recall_matches.csv', index=False, encoding='utf-8')\n",
    "print(\"Updated Amazon DataFrame saved to 'amazon_meta_with_recall_matches.csv'.\")"
   ]
  },
  {
   "cell_type": "code",
   "execution_count": 30,
   "id": "608548e6",
   "metadata": {},
   "outputs": [
    {
     "name": "stdout",
     "output_type": "stream",
     "text": [
      "Index(['category', 'tech1', 'description', 'fit', 'title', 'also_buy', 'tech2',\n",
      "       'brand', 'feature', 'rank', 'also_view', 'main_cat', 'similar_item',\n",
      "       'date', 'price', 'asin', 'imageURL', 'imageURLHighRes', 'details',\n",
      "       'is_match', 'recall_index'],\n",
      "      dtype='object')\n"
     ]
    }
   ],
   "source": [
    "print(updated_amazon_df.columns)"
   ]
  },
  {
   "cell_type": "code",
   "execution_count": null,
   "id": "8e2a0d8e",
   "metadata": {},
   "outputs": [],
   "source": []
  }
 ],
 "metadata": {
  "kernelspec": {
   "display_name": "erdos_summer_2025",
   "language": "python",
   "name": "python3"
  },
  "language_info": {
   "codemirror_mode": {
    "name": "ipython",
    "version": 3
   },
   "file_extension": ".py",
   "mimetype": "text/x-python",
   "name": "python",
   "nbconvert_exporter": "python",
   "pygments_lexer": "ipython3",
   "version": "3.12.11"
  }
 },
 "nbformat": 4,
 "nbformat_minor": 5
}
