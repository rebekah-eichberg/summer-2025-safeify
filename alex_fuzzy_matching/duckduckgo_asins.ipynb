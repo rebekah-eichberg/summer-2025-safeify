{
 "cells": [
  {
   "cell_type": "code",
   "execution_count": 2,
   "id": "5b37516c",
   "metadata": {},
   "outputs": [],
   "source": [
    "from bs4 import BeautifulSoup"
   ]
  },
  {
   "cell_type": "code",
   "execution_count": 5,
   "id": "84d1070e",
   "metadata": {},
   "outputs": [],
   "source": [
    "import time\n",
    "import undetected_chromedriver as uc\n",
    "from bs4 import BeautifulSoup\n",
    "from selenium.webdriver.common.by import By\n",
    "from selenium.webdriver.common.keys import Keys\n",
    "from selenium.webdriver.support.ui import WebDriverWait\n",
    "from selenium.webdriver.support import expected_conditions as EC\n",
    "\n",
    "def duckduckgo_search(query, max_results=10, headless=False):\n",
    "    options = uc.ChromeOptions()\n",
    "    \n",
    "    if headless:\n",
    "        options.add_argument(\"--headless=new\")\n",
    "    options.add_argument(\"--no-sandbox\")\n",
    "    options.add_argument(\"--disable-dev-shm-usage\")\n",
    "    options.add_argument(\"--disable-gpu\")\n",
    "    options.add_argument(\"--disable-extensions\")\n",
    "    options.add_argument(\"--disable-blink-features=AutomationControlled\")\n",
    "    options.add_argument(\"--remote-debugging-port=9222\")\n",
    "\n",
    "    driver = uc.Chrome(options=options, version_main=136)\n",
    "\n",
    "    try:\n",
    "        driver.get(\"https://duckduckgo.com/\")\n",
    "\n",
    "        search_box = WebDriverWait(driver, 10).until(\n",
    "            EC.presence_of_element_located((By.ID, \"searchbox_input\"))\n",
    "        )\n",
    "        search_box.send_keys(query)\n",
    "        search_box.send_keys(Keys.RETURN)\n",
    "\n",
    "\n",
    "        time.sleep(3)  # give results a moment to fully load\n",
    "\n",
    "        source=driver.page_source\n",
    "        return BeautifulSoup(source,\"html.parser\")\n",
    "\n",
    "    except Exception as e:\n",
    "        print(\"Error during scraping:\", e)\n",
    "        return []\n",
    "\n",
    "    finally:\n",
    "        driver.quit()\n",
    "\n",
    "\n"
   ]
  },
  {
   "cell_type": "code",
   "execution_count": 6,
   "id": "b6c162ca",
   "metadata": {},
   "outputs": [],
   "source": [
    "def amazon_asin(query:str):\n",
    "    query=str(query)\n",
    "    query=query.replace('\\r', '').replace('\\n', '').replace('\\t','')\n",
    "    if query=='' or query=='nan':\n",
    "        return None\n",
    "    search_query=\"site:amazon.com \"+str(query)\n",
    "    page= duckduckgo_search(search_query,headless=False)\n",
    "    links=[link.attrs['href'] for link in page.find_all('a',class_='eVNpHGjtxRBq_gLOfGDr LQNqh2U1kzYxREs65IJu')]\n",
    "    asins=[]\n",
    "    for link in links:\n",
    "        index=link.find('/dp/')\n",
    "        if index!=-1:\n",
    "            asins.append(link[(link.find('/dp/')+4):])\n",
    "    if asins==list():\n",
    "        return None\n",
    "    return asins[0]"
   ]
  },
  {
   "cell_type": "code",
   "execution_count": 7,
   "id": "8c851e6c",
   "metadata": {},
   "outputs": [
    {
     "name": "stderr",
     "output_type": "stream",
     "text": [
      "/tmp/ipykernel_6414/2015962264.py:2: DtypeWarning: Columns (9) have mixed types. Specify dtype option on import or set low_memory=False.\n",
      "  reports=pd.read_csv(\"../Data/IncidentReports.csv\",encoding='cp1252')\n"
     ]
    }
   ],
   "source": [
    "import pandas as pd\n",
    "reports=pd.read_csv(\"../Data/IncidentReports.csv\",encoding='cp1252')\n",
    "reports=reports.loc[reports['Product Category']=='Toys & Children']\n"
   ]
  },
  {
   "cell_type": "code",
   "execution_count": 8,
   "id": "fb8af323",
   "metadata": {},
   "outputs": [],
   "source": [
    "reports.loc[reports['Brand'].isna() ,'Brand']=reports['Manufacturer / Importer / Private Labeler Name']"
   ]
  },
  {
   "cell_type": "code",
   "execution_count": 12,
   "id": "fc3f339d",
   "metadata": {},
   "outputs": [],
   "source": [
    "reports['Title']=reports['Brand']+' '+reports['Model Name or Number']"
   ]
  },
  {
   "cell_type": "code",
   "execution_count": 13,
   "id": "1b18a094",
   "metadata": {},
   "outputs": [],
   "source": [
    "reports.loc[reports.Title.isna(),'Title']=reports['Product Description']"
   ]
  },
  {
   "cell_type": "code",
   "execution_count": 14,
   "id": "d0419c84",
   "metadata": {},
   "outputs": [],
   "source": [
    "reports['Guess_ASIN']=reports['Title']"
   ]
  },
  {
   "cell_type": "code",
   "execution_count": null,
   "id": "9a136b06",
   "metadata": {},
   "outputs": [],
   "source": [
    "reports['ASIN']=reports['Guess_ASIN'].apply(amazon_asin)"
   ]
  },
  {
   "cell_type": "code",
   "execution_count": 22,
   "id": "e641a8a6",
   "metadata": {},
   "outputs": [
    {
     "name": "stdout",
     "output_type": "stream",
     "text": [
      "0 of 3117\n",
      "10 of 3117\n",
      "20 of 3117\n",
      "30 of 3117\n",
      "40 of 3117\n",
      "50 of 3117\n",
      "60 of 3117\n",
      "70 of 3117\n",
      "80 of 3117\n",
      "90 of 3117\n",
      "100 of 3117\n",
      "110 of 3117\n",
      "120 of 3117\n",
      "130 of 3117\n",
      "140 of 3117\n",
      "150 of 3117\n",
      "160 of 3117\n",
      "170 of 3117\n",
      "180 of 3117\n",
      "190 of 3117\n",
      "200 of 3117\n",
      "210 of 3117\n",
      "220 of 3117\n",
      "230 of 3117\n",
      "240 of 3117\n",
      "250 of 3117\n",
      "260 of 3117\n",
      "270 of 3117\n",
      "280 of 3117\n",
      "290 of 3117\n",
      "300 of 3117\n",
      "310 of 3117\n",
      "320 of 3117\n",
      "330 of 3117\n",
      "340 of 3117\n",
      "350 of 3117\n",
      "360 of 3117\n",
      "370 of 3117\n",
      "380 of 3117\n",
      "390 of 3117\n",
      "400 of 3117\n",
      "410 of 3117\n",
      "420 of 3117\n",
      "430 of 3117\n",
      "440 of 3117\n",
      "450 of 3117\n",
      "460 of 3117\n",
      "470 of 3117\n",
      "480 of 3117\n",
      "490 of 3117\n",
      "500 of 3117\n",
      "510 of 3117\n",
      "520 of 3117\n",
      "530 of 3117\n",
      "540 of 3117\n",
      "550 of 3117\n",
      "560 of 3117\n",
      "570 of 3117\n",
      "580 of 3117\n",
      "590 of 3117\n",
      "600 of 3117\n",
      "610 of 3117\n",
      "620 of 3117\n",
      "630 of 3117\n",
      "640 of 3117\n",
      "650 of 3117\n",
      "660 of 3117\n",
      "670 of 3117\n",
      "680 of 3117\n",
      "690 of 3117\n",
      "700 of 3117\n",
      "710 of 3117\n",
      "720 of 3117\n",
      "730 of 3117\n",
      "740 of 3117\n",
      "750 of 3117\n",
      "760 of 3117\n",
      "770 of 3117\n",
      "780 of 3117\n",
      "790 of 3117\n",
      "800 of 3117\n",
      "810 of 3117\n",
      "820 of 3117\n",
      "830 of 3117\n",
      "840 of 3117\n",
      "850 of 3117\n",
      "860 of 3117\n",
      "870 of 3117\n",
      "880 of 3117\n",
      "890 of 3117\n",
      "900 of 3117\n",
      "910 of 3117\n",
      "920 of 3117\n",
      "930 of 3117\n",
      "940 of 3117\n",
      "950 of 3117\n",
      "960 of 3117\n",
      "970 of 3117\n",
      "980 of 3117\n",
      "990 of 3117\n",
      "1000 of 3117\n",
      "1010 of 3117\n",
      "1020 of 3117\n",
      "1030 of 3117\n",
      "1040 of 3117\n",
      "1050 of 3117\n",
      "1060 of 3117\n",
      "1070 of 3117\n",
      "1080 of 3117\n",
      "1090 of 3117\n",
      "1100 of 3117\n",
      "1110 of 3117\n",
      "1120 of 3117\n",
      "1130 of 3117\n",
      "1140 of 3117\n",
      "1150 of 3117\n",
      "1160 of 3117\n",
      "1170 of 3117\n",
      "1180 of 3117\n",
      "1190 of 3117\n",
      "1200 of 3117\n",
      "1210 of 3117\n",
      "1220 of 3117\n",
      "1230 of 3117\n",
      "1240 of 3117\n",
      "1250 of 3117\n",
      "1260 of 3117\n",
      "1270 of 3117\n",
      "1280 of 3117\n",
      "1290 of 3117\n",
      "1300 of 3117\n",
      "1310 of 3117\n",
      "1320 of 3117\n",
      "1330 of 3117\n",
      "1340 of 3117\n",
      "1350 of 3117\n",
      "1360 of 3117\n",
      "1370 of 3117\n",
      "1380 of 3117\n",
      "1390 of 3117\n",
      "1400 of 3117\n",
      "1410 of 3117\n",
      "1420 of 3117\n",
      "1430 of 3117\n",
      "1440 of 3117\n",
      "1450 of 3117\n",
      "1460 of 3117\n",
      "1470 of 3117\n",
      "1480 of 3117\n",
      "1490 of 3117\n",
      "1500 of 3117\n",
      "1510 of 3117\n",
      "1520 of 3117\n",
      "1530 of 3117\n",
      "1540 of 3117\n",
      "1550 of 3117\n",
      "1560 of 3117\n",
      "1570 of 3117\n",
      "1580 of 3117\n",
      "1590 of 3117\n",
      "1600 of 3117\n",
      "1610 of 3117\n",
      "1620 of 3117\n",
      "1630 of 3117\n",
      "1640 of 3117\n",
      "1650 of 3117\n",
      "1660 of 3117\n",
      "1670 of 3117\n",
      "1680 of 3117\n",
      "1690 of 3117\n",
      "1700 of 3117\n",
      "1710 of 3117\n",
      "1720 of 3117\n",
      "1730 of 3117\n",
      "1740 of 3117\n",
      "1750 of 3117\n",
      "1760 of 3117\n",
      "1770 of 3117\n",
      "1780 of 3117\n",
      "1790 of 3117\n",
      "1800 of 3117\n",
      "1810 of 3117\n",
      "1820 of 3117\n",
      "1830 of 3117\n",
      "1840 of 3117\n",
      "1850 of 3117\n",
      "1860 of 3117\n",
      "1870 of 3117\n",
      "1880 of 3117\n",
      "1890 of 3117\n",
      "1900 of 3117\n",
      "1910 of 3117\n",
      "1920 of 3117\n",
      "1930 of 3117\n",
      "1940 of 3117\n",
      "1950 of 3117\n",
      "1960 of 3117\n",
      "1970 of 3117\n",
      "1980 of 3117\n",
      "1990 of 3117\n",
      "2000 of 3117\n",
      "2010 of 3117\n",
      "2020 of 3117\n",
      "2030 of 3117\n",
      "2040 of 3117\n",
      "2050 of 3117\n",
      "2060 of 3117\n",
      "2070 of 3117\n",
      "2080 of 3117\n",
      "2090 of 3117\n",
      "2100 of 3117\n",
      "2110 of 3117\n",
      "2120 of 3117\n",
      "2130 of 3117\n",
      "2140 of 3117\n",
      "2150 of 3117\n",
      "2160 of 3117\n",
      "2170 of 3117\n",
      "2180 of 3117\n",
      "2190 of 3117\n",
      "2200 of 3117\n",
      "2210 of 3117\n",
      "2220 of 3117\n",
      "2230 of 3117\n",
      "2240 of 3117\n",
      "2250 of 3117\n",
      "2260 of 3117\n",
      "2270 of 3117\n",
      "2280 of 3117\n",
      "2290 of 3117\n",
      "2300 of 3117\n",
      "2310 of 3117\n",
      "2320 of 3117\n",
      "2330 of 3117\n",
      "2340 of 3117\n",
      "2350 of 3117\n",
      "2360 of 3117\n",
      "2370 of 3117\n",
      "2380 of 3117\n",
      "2390 of 3117\n",
      "2400 of 3117\n",
      "2410 of 3117\n",
      "2420 of 3117\n",
      "2430 of 3117\n",
      "2440 of 3117\n",
      "2450 of 3117\n",
      "2460 of 3117\n",
      "2470 of 3117\n",
      "2480 of 3117\n",
      "2490 of 3117\n",
      "2500 of 3117\n",
      "2510 of 3117\n",
      "2520 of 3117\n",
      "2530 of 3117\n",
      "2540 of 3117\n",
      "2550 of 3117\n",
      "2560 of 3117\n",
      "2570 of 3117\n",
      "2580 of 3117\n",
      "2590 of 3117\n",
      "2600 of 3117\n",
      "2610 of 3117\n",
      "2620 of 3117\n",
      "2630 of 3117\n",
      "2640 of 3117\n",
      "2650 of 3117\n",
      "2660 of 3117\n",
      "2670 of 3117\n",
      "2680 of 3117\n",
      "2690 of 3117\n",
      "2700 of 3117\n",
      "2710 of 3117\n",
      "2720 of 3117\n",
      "2730 of 3117\n",
      "2740 of 3117\n",
      "2750 of 3117\n",
      "2760 of 3117\n",
      "2770 of 3117\n",
      "2780 of 3117\n",
      "2790 of 3117\n",
      "2800 of 3117\n",
      "2810 of 3117\n",
      "2820 of 3117\n",
      "2830 of 3117\n",
      "2840 of 3117\n",
      "2850 of 3117\n",
      "2860 of 3117\n",
      "2870 of 3117\n",
      "2880 of 3117\n",
      "2890 of 3117\n",
      "2900 of 3117\n",
      "2910 of 3117\n",
      "2920 of 3117\n",
      "2930 of 3117\n",
      "2940 of 3117\n",
      "2950 of 3117\n",
      "2960 of 3117\n",
      "2970 of 3117\n",
      "2980 of 3117\n",
      "2990 of 3117\n",
      "3000 of 3117\n",
      "3010 of 3117\n",
      "3020 of 3117\n",
      "3030 of 3117\n",
      "3040 of 3117\n",
      "3050 of 3117\n",
      "3060 of 3117\n",
      "3070 of 3117\n",
      "3080 of 3117\n",
      "3090 of 3117\n",
      "3100 of 3117\n",
      "3110 of 3117\n"
     ]
    }
   ],
   "source": [
    "step=10\n",
    "for i in range(0,3117,step):\n",
    "    print(i,\"of\", 3117)\n",
    "    reports.loc[reports.index[i:i+step],'ASIN']=reports.loc[reports.index[i:i+step],'Guess_ASIN'].apply(amazon_asin)\n"
   ]
  },
  {
   "cell_type": "code",
   "execution_count": 23,
   "id": "515bb891",
   "metadata": {},
   "outputs": [
    {
     "data": {
      "application/vnd.microsoft.datawrangler.viewer.v0+json": {
       "columns": [
        {
         "name": "index",
         "rawType": "int64",
         "type": "integer"
        },
        {
         "name": "Guess_ASIN",
         "rawType": "object",
         "type": "string"
        },
        {
         "name": "ASIN",
         "rawType": "object",
         "type": "unknown"
        }
       ],
       "ref": "0b63d56f-3270-4947-b3e4-ce62a13a41c9",
       "rows": [
        [
         "5",
         "Glow & Save Sleeping Otter",
         "B07N1JP56L"
        ],
        [
         "18",
         "Green Elephant Home and Toys Pastel/Macaron colored",
         "B084GJBJSC"
        ],
        [
         "29",
         "Anbalulu AN-100",
         "B09XMN7YGW"
        ],
        [
         "35",
         "Walmart Way to Celebrate  Whale- EGT65209B, Dino- EGT65209C",
         "B08P4VG51K"
        ],
        [
         "47",
         "Bunnypal  Same",
         "B0DZ2KN7RJ"
        ],
        [
         "48",
         "HYG Toys Titanic Micro Mini Building Blocks Set",
         "B09B96PJV9"
        ],
        [
         "74",
         "Bubble blaster",
         "B09YTM2MX2"
        ],
        [
         "83",
         "Brand: Zugar Land 4.0 4.0 out of 5 stars (19) Squi Unknown ",
         "B09BK5BVXS"
        ],
        [
         "87",
         "Guava Family Inc Roam",
         null
        ],
        [
         "139",
         "Way To Celebrate Whale-EGT65209B",
         null
        ],
        [
         "153",
         "Twefex B0CGF2H51G",
         "B0CGF2H51G"
        ],
        [
         "154",
         "Bugaboo 42012228000967",
         "B0DG8Z5QCB"
        ],
        [
         "160",
         "The Baby Jogger Company  2203449",
         "B094P1912M"
        ],
        [
         "166",
         "Funcid  BBH-027",
         "B0B1DDYK1C"
        ],
        [
         "192",
         "Spark create imagine SL61009WM",
         "B087J5BP7C"
        ],
        [
         "246",
         "Hello Mockingbird M2101-2132 SILVER/BROWN",
         "B09XMC6773"
        ],
        [
         "255",
         "Minecraft Light Up Slap Bracelet Ruler (green)",
         "B0DP5Q3JJX"
        ],
        [
         "286",
         "Taggie toy eith a lion on it. Multiple little tabs that crinkle. A wooden circle attached.",
         "B015QVPSWC"
        ],
        [
         "297",
         "It is a reversible stuffed animal called a flip-a-mallow",
         "B0C51BNNV3"
        ],
        [
         "329",
         "Fusion Select Rolling Sour Liquid Candy",
         "B09DC4W5C5"
        ],
        [
         "335",
         "Arbeli 4x200w",
         "B0DGG9QTYT"
        ],
        [
         "353",
         "Tumble Forms2 --by Summons Preston Rolyan  Item 4163B ",
         "B0CT99PZWY"
        ],
        [
         "373",
         "Wooden toy truck with sound and lights",
         "B0C6KFJS91"
        ],
        [
         "374",
         "Play Day Play Day Pop-Up Tunnel. SDE 04/China L 08-30",
         "B0BWN9JMQH"
        ],
        [
         "384",
         "Kiddieland: Spidey Team Activity, Ride-On B08XPVL89F",
         "B0CS8HBTFC"
        ],
        [
         "398",
         "https://a.co/d/7gfkDxl\r\n\r\nWooden garden. Amazon sells MANY MANY products just like this!",
         null
        ],
        [
         "430",
         "Want to report the following product that caught on fire as my kid was riding it. It burnt a big hole on the seat above the battery.\r\n\r\nJoyracer 4WD 24V Ride on Toys UTV with Remote Control, 2 Seater Ride on Dump Truck, 4x200W Electric Powered 4-Wheeler Toys with Trailer & Shovel, MP3/[REDACTED] Music, Big Kids, Green\r\nActual Color: Green\r\nQty 1\r\nNew\r\n$240.00 from savings\r\n\r\nsold by walmart.",
         "B09KV7VFXT"
        ],
        [
         "432",
         "HCFJEH HCFJEH magnetic drawing board",
         "B09FGH8CQ7"
        ],
        [
         "436",
         "Pink and white, or blue and white capsules. These separate into 2 pieces. Size of whole capsule is 5.5 x 2.5 x 2.5 cm. Advertised on Amazon as Doctor Toy Accessories for Childen. Cartoon Medicine Toy or Fake large pills for kids, toddlers",
         "B07QX32JN3"
        ],
        [
         "438",
         "Mag Genius Mag Genius Series 1 141pc Set",
         "B01E0AQFLI"
        ],
        [
         "456",
         "The product is \"Cupcakes & Cartwheels Color Changing Squishy Frog\" [REDACTED]. Purchased locally but available on their site here: [REDACTED]",
         null
        ],
        [
         "462",
         "Robo Alive Robo Turtle",
         "B0B48NJCW2"
        ],
        [
         "473",
         "JOYRACER 24V Ride on Dump Truck, 2 Seater Kids UTV Electric Car w/2.4G Remote Control, 4 Wheelers, Bluetooth Music, LED Light, 24 Volt Battery Powered Ride on Toys for Big Kids Girls 3-8, Black",
         "B0CZP3RH24"
        ],
        [
         "479",
         "Wednesday Ignatius Itt 19 piece Head of Hair Styling Kit. The purpose of the \"Twine Cutter\" is to shred the plastic twine so it can be braided into the hair. The photos on the packaging appear it be plastic. However, it has an actual sharp razor-type blade on the cutter. \r\nThe packaging insert shows the following: WEDNESDAY 2022 MGM Television Entertainment Inc. WEDNESDAY is a trademark of Tee & Charles Addams Foundation.  Metro-Goldwyn-Mayer Studios Inc. Just Play LLC.  [REDACTED], Boca Raton, FL 33431, USA\r\nThe ISBN Is: 8 8614441104 5\r\nThe stamped Serial Number is: 10642F01",
         null
        ],
        [
         "500",
         "Fisher Price Fisher-Price Little People Yellow School Bus ",
         "B0DBK5DH48"
        ],
        [
         "518",
         "Sesame street JPT57627, UPC 886144576270",
         "B0B321QQJQ"
        ],
        [
         "553",
         "Lime green pink and purple but its sold in different colors. Can be bought from Walgreens. A camera that makes sounds, lights. Bring on the sun bubble machine. Ages 3+. Where the bubbles come out it has a single dial that spins around when turned on in the place that the camera lense would be. Requires 3 double A batterys.",
         "B09HW9HD69"
        ],
        [
         "555",
         "My B Toys infant remote. Mainly gray in color but also has white, teal, red and black on it. It has two black eyes and a little smile. It has volume buttons and numbers like a TV remote. It plays music, phrases and has lights.",
         "B087MJG8K7"
        ],
        [
         "556",
         "Baby concert Funny series, dumbell",
         "B084C9XCDF"
        ],
        [
         "562",
         "Build-A-Bear Workshop, Inc HWH BROWN BEAR",
         "B003LYAZOS"
        ],
        [
         "566",
         "Cra-Z-Art Cra-Z-Slimy Sparkle Fairy Slime, Purple\r\nit's a slime with sparkles\r\n\r\n\r\n\r\nhttps://www.walmart.com/ip/Cra-Z-Art-Cra-Z-Slimy-Sparkle-Fairy-Slime-Purple-Ages-6-and-up/2317953960?wmlspartner=wlpa&selectedSellerId=0&wl13=2281&gclsrc=aw.ds&adid=222222222772317953960_117755028669_12420145346&wl0=&wl1=g&wl2=c&wl3=501107745824&wl4=pla-394283752452&wl5=9005925&wl6=&wl7=&wl8=&wl9=pla&wl10=8175035&wl11=local&wl12=2317953960&veh=sem_LIA&gclsrc=aw.ds&gad_source=1&gclid=EAIaIQobChMIjIKflbj_iwMVL0ZHAR38FjizEAQYBSABEgKrjfD_BwE",
         null
        ],
        [
         "574",
         "24V Realtree XD UTV Battery-Operated Ride-on with Remote, Kids 3+ Years, up to 5 MPH\r\nCamo toddler four wheeler (attached is the product on walmart website.)",
         "B09S7R4KZL"
        ],
        [
         "583",
         "Pairez Toys PT3010 / Building Blocks",
         "B0D496SX32"
        ],
        [
         "592",
         "Sassy Peek-A-Boo Beads Rattle",
         "B08BJVWLNK"
        ],
        [
         "599",
         "Taimasi TAI-667",
         "B07W4H8N39"
        ],
        [
         "616",
         "Bugaboo fox 2 Bugaboo fox 2",
         "B085KJVSSS"
        ],
        [
         "646",
         "Kid Connection Cleaning Set",
         "B0CC8J16TQ"
        ],
        [
         "664",
         "Spin Master, Ltd 40510ALG",
         "B0CSPMM3X3"
        ],
        [
         "671",
         "Fisher price little people big abc train. Its red, blue, and yellow",
         "B09BW3YYBD"
        ],
        [
         "704",
         "Confident BP-209",
         "B007BG87RY"
        ]
       ],
       "shape": {
        "columns": 2,
        "rows": 3117
       }
      },
      "text/html": [
       "<div>\n",
       "<style scoped>\n",
       "    .dataframe tbody tr th:only-of-type {\n",
       "        vertical-align: middle;\n",
       "    }\n",
       "\n",
       "    .dataframe tbody tr th {\n",
       "        vertical-align: top;\n",
       "    }\n",
       "\n",
       "    .dataframe thead th {\n",
       "        text-align: right;\n",
       "    }\n",
       "</style>\n",
       "<table border=\"1\" class=\"dataframe\">\n",
       "  <thead>\n",
       "    <tr style=\"text-align: right;\">\n",
       "      <th></th>\n",
       "      <th>Guess_ASIN</th>\n",
       "      <th>ASIN</th>\n",
       "    </tr>\n",
       "  </thead>\n",
       "  <tbody>\n",
       "    <tr>\n",
       "      <th>5</th>\n",
       "      <td>Glow &amp; Save Sleeping Otter</td>\n",
       "      <td>B07N1JP56L</td>\n",
       "    </tr>\n",
       "    <tr>\n",
       "      <th>18</th>\n",
       "      <td>Green Elephant Home and Toys Pastel/Macaron co...</td>\n",
       "      <td>B084GJBJSC</td>\n",
       "    </tr>\n",
       "    <tr>\n",
       "      <th>29</th>\n",
       "      <td>Anbalulu AN-100</td>\n",
       "      <td>B09XMN7YGW</td>\n",
       "    </tr>\n",
       "    <tr>\n",
       "      <th>35</th>\n",
       "      <td>Walmart Way to Celebrate  Whale- EGT65209B, Di...</td>\n",
       "      <td>B08P4VG51K</td>\n",
       "    </tr>\n",
       "    <tr>\n",
       "      <th>47</th>\n",
       "      <td>Bunnypal  Same</td>\n",
       "      <td>B0DZ2KN7RJ</td>\n",
       "    </tr>\n",
       "    <tr>\n",
       "      <th>...</th>\n",
       "      <td>...</td>\n",
       "      <td>...</td>\n",
       "    </tr>\n",
       "    <tr>\n",
       "      <th>61891</th>\n",
       "      <td>Circo Unsure</td>\n",
       "      <td>B0F231YH5Q</td>\n",
       "    </tr>\n",
       "    <tr>\n",
       "      <th>61908</th>\n",
       "      <td>Recalled Graco Stroller (the one with fingerti...</td>\n",
       "      <td>None</td>\n",
       "    </tr>\n",
       "    <tr>\n",
       "      <th>61939</th>\n",
       "      <td>Yookidoo D40117</td>\n",
       "      <td>B09TKTSWNT</td>\n",
       "    </tr>\n",
       "    <tr>\n",
       "      <th>61943</th>\n",
       "      <td>Airzone Pop stick</td>\n",
       "      <td>B005QNYGYC</td>\n",
       "    </tr>\n",
       "    <tr>\n",
       "      <th>61944</th>\n",
       "      <td>Target 087011014</td>\n",
       "      <td>B0000C51FJ</td>\n",
       "    </tr>\n",
       "  </tbody>\n",
       "</table>\n",
       "<p>3117 rows × 2 columns</p>\n",
       "</div>"
      ],
      "text/plain": [
       "                                              Guess_ASIN        ASIN\n",
       "5                             Glow & Save Sleeping Otter  B07N1JP56L\n",
       "18     Green Elephant Home and Toys Pastel/Macaron co...  B084GJBJSC\n",
       "29                                       Anbalulu AN-100  B09XMN7YGW\n",
       "35     Walmart Way to Celebrate  Whale- EGT65209B, Di...  B08P4VG51K\n",
       "47                                        Bunnypal  Same  B0DZ2KN7RJ\n",
       "...                                                  ...         ...\n",
       "61891                                       Circo Unsure  B0F231YH5Q\n",
       "61908  Recalled Graco Stroller (the one with fingerti...        None\n",
       "61939                                    Yookidoo D40117  B09TKTSWNT\n",
       "61943                                 Airzone Pop stick   B005QNYGYC\n",
       "61944                                   Target 087011014  B0000C51FJ\n",
       "\n",
       "[3117 rows x 2 columns]"
      ]
     },
     "execution_count": 23,
     "metadata": {},
     "output_type": "execute_result"
    }
   ],
   "source": [
    "reports[['Guess_ASIN','ASIN']]"
   ]
  },
  {
   "cell_type": "code",
   "execution_count": 24,
   "id": "b0e81685",
   "metadata": {},
   "outputs": [],
   "source": [
    "reports.to_csv(\"asin_guess.csv\")"
   ]
  },
  {
   "cell_type": "code",
   "execution_count": null,
   "id": "3d21d39f",
   "metadata": {},
   "outputs": [],
   "source": []
  }
 ],
 "metadata": {
  "kernelspec": {
   "display_name": "data-venv",
   "language": "python",
   "name": "python3"
  },
  "language_info": {
   "codemirror_mode": {
    "name": "ipython",
    "version": 3
   },
   "file_extension": ".py",
   "mimetype": "text/x-python",
   "name": "python",
   "nbconvert_exporter": "python",
   "pygments_lexer": "ipython3",
   "version": "3.12.10"
  }
 },
 "nbformat": 4,
 "nbformat_minor": 5
}
