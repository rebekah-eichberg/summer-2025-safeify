{
 "cells": [
  {
   "cell_type": "code",
   "execution_count": 7,
   "id": "8c851e6c",
   "metadata": {},
   "outputs": [],
   "source": [
    "import pandas as pd"
   ]
  },
  {
   "cell_type": "code",
   "execution_count": 8,
   "id": "23e849f4",
   "metadata": {},
   "outputs": [],
   "source": [
    "#Import incident report data\n",
    "\n",
    "report_files=['../Data/Current Version of Toys Incidence+Recall/Toysandchildren_ArtsandCrafts.csv',\n",
    "              '../Data/Current Version of Toys Incidence+Recall/Toysandchildren_Riding_Toys.csv',\n",
    "              '../Data/Current Version of Toys Incidence+Recall/Toysandchildren_Toys.csv']\n",
    "df_arts=pd.read_csv(report_files[0],header=2)\n",
    "df_riding=pd.read_csv(report_files[1],header=1)\n",
    "df_toy=pd.read_csv(report_files[2],header=1)\n",
    "reports=pd.concat([df_arts,df_riding,df_toy   ],ignore_index=True)\n",
    "\n",
    "\n",
    "to_rename=dict()\n",
    "for column in reports.columns:\n",
    "    to_rename[column]=column.replace(' / ','/').replace(' ','_').lower()\n",
    "reports=reports.rename(columns=to_rename)\n",
    "\n",
    "del df_riding, df_arts, df_toy, to_rename, report_files,column\n"
   ]
  },
  {
   "cell_type": "code",
   "execution_count": 9,
   "id": "c4de51e9",
   "metadata": {},
   "outputs": [],
   "source": [
    "# #Import incident report data (alternative data set)\n",
    "\n",
    "# reports=pd.read_csv(\"../Data/Old version Incidence reports/IncidentReports.csv\",encoding=\"cp1252\",header=1)\n",
    "\n",
    "# to_rename=dict()\n",
    "# for column in reports.columns:\n",
    "#     to_rename[column]=column.replace(' / ','/').replace(' ','_').lower()\n",
    "# reports=reports.rename(columns=to_rename)\n",
    "\n",
    "# del to_rename ,column"
   ]
  },
  {
   "cell_type": "code",
   "execution_count": 10,
   "id": "a5c86cc1",
   "metadata": {},
   "outputs": [],
   "source": [
    "# category='Toys & Children'\n",
    "# subcategory=['Toys', 'Riding Toys', 'Arts & Crafts']\n",
    "\n",
    "# reports=reports[reports.product_category==category][reports.product_sub_category.apply(lambda x: x in subcategory)].reset_index(drop=True)"
   ]
  },
  {
   "cell_type": "code",
   "execution_count": null,
   "id": "7f6bd3eb",
   "metadata": {},
   "outputs": [],
   "source": [
    "# This contains a few \"a.co\" short URLs whch I entered the ASINs for manually.\n",
    "# This needs to be updated if we use a new dataset.\n",
    "link_lookup=pd.read_csv(\"link_lookup.csv\",header=None,index_col=0)\n",
    "link_lookup=link_lookup.to_dict()[1]"
   ]
  },
  {
   "cell_type": "code",
   "execution_count": null,
   "id": "e5074fba",
   "metadata": {},
   "outputs": [],
   "source": [
    "def find_amazon_link_in_report(x):\n",
    "    for item in x:\n",
    "        idx=str(item).find('a.co/d/')\n",
    "        if idx!=-1:\n",
    "            return link_lookup[str(item)[idx:idx+14]]\n",
    "        idx=str(item).find('/dp/')\n",
    "        if idx!=-1:\n",
    "                return str(item)[idx+4:idx+14]\n",
    "    return None"
   ]
  },
  {
   "cell_type": "code",
   "execution_count": 12,
   "id": "e7ffecc5",
   "metadata": {},
   "outputs": [],
   "source": [
    "reports['asin_in_report']=reports.apply(find_amazon_link_in_report,axis=1)\n"
   ]
  },
  {
   "cell_type": "code",
   "execution_count": 16,
   "id": "e73dc94e",
   "metadata": {},
   "outputs": [],
   "source": [
    "reports.to_csv(\"reports.csv\")"
   ]
  },
  {
   "cell_type": "code",
   "execution_count": null,
   "id": "25fe6e43",
   "metadata": {},
   "outputs": [],
   "source": []
  }
 ],
 "metadata": {
  "kernelspec": {
   "display_name": "data_venv",
   "language": "python",
   "name": "python3"
  },
  "language_info": {
   "codemirror_mode": {
    "name": "ipython",
    "version": 3
   },
   "file_extension": ".py",
   "mimetype": "text/x-python",
   "name": "python",
   "nbconvert_exporter": "python",
   "pygments_lexer": "ipython3",
   "version": "3.12.10"
  }
 },
 "nbformat": 4,
 "nbformat_minor": 5
}
