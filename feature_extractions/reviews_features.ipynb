{
 "cells": [
  {
   "cell_type": "code",
   "execution_count": null,
   "id": "033e5028",
   "metadata": {},
   "outputs": [],
   "source": [
    "# import relevant libraries\n",
    "import pandas as pd\n",
    "import numpy as np\n",
    "import seaborn as sns\n",
    "import matplotlib.pyplot as plt"
   ]
  },
  {
   "cell_type": "markdown",
   "id": "3a6f005c",
   "metadata": {},
   "source": [
    "Load the Reviews Data"
   ]
  },
  {
   "cell_type": "code",
   "execution_count": null,
   "id": "6e601346",
   "metadata": {},
   "outputs": [],
   "source": [
    "# reviews_df_raw = pd.read_json(\"../Data/amazon_reviews.json\",lines=True)\n",
    "# reviews_pickle = reviews_df_raw.to_pickle('reviews_raw.pkl')\n",
    "reviews_df_raw = pd.read_pickle('../rebekah-idea-testing/reviews_raw.pkl')\n"
   ]
  },
  {
   "cell_type": "markdown",
   "id": "009f3de0",
   "metadata": {},
   "source": [
    "Look at NaNs in the Data"
   ]
  },
  {
   "cell_type": "code",
   "execution_count": null,
   "id": "030bde41",
   "metadata": {},
   "outputs": [],
   "source": [
    "# count and percentage of missing values in each column\n",
    "missing_counts = reviews_df_raw.isna().sum()\n",
    "missing_percentages = reviews_df_raw.isna().mean() * 100\n",
    "missing_df = pd.DataFrame({\n",
    "    'Missing Count': missing_counts,\n",
    "    'Missing Percentage': missing_percentages\n",
    "})\n",
    "missing_df = missing_df[missing_df['Missing Count'] > 0]\n",
    "missing_df = missing_df.sort_values(by='Missing Percentage', ascending=False)\n",
    "print(\"Missing Values Overview:\")\n",
    "print(missing_df)"
   ]
  },
  {
   "cell_type": "code",
   "execution_count": null,
   "id": "9b8d0d42",
   "metadata": {},
   "outputs": [],
   "source": [
    "reviews_df_raw = reviews_df_raw.dropna(subset=['summary','reviewText', 'reviewerName'])"
   ]
  },
  {
   "cell_type": "markdown",
   "id": "a8dad6f5",
   "metadata": {},
   "source": [
    "Drop Columns"
   ]
  },
  {
   "cell_type": "code",
   "execution_count": null,
   "id": "93bc4eae",
   "metadata": {},
   "outputs": [],
   "source": [
    "# from this we decide to drop image, vote, style\n",
    "# we will also drop reviewTime and use unixReviewTime because it is the same values but\n",
    "# an easier format to work with\n",
    "\n",
    "reviews_df_raw = reviews_df_raw.drop(columns=['image', 'vote', 'style', 'reviewTime'])"
   ]
  },
  {
   "cell_type": "markdown",
   "id": "32e927ba",
   "metadata": {},
   "source": [
    "Look at Duplicates in the Data\n",
    "- for now, we will keep duplicates"
   ]
  },
  {
   "cell_type": "code",
   "execution_count": null,
   "id": "8940879e",
   "metadata": {},
   "outputs": [],
   "source": [
    "# check for duplicates in the reviews\n",
    "duplicates = reviews_df_raw.duplicated(subset=['reviewerID', 'asin', 'unixReviewTime', 'overall'], keep=False)\n",
    "print(f\"Number of duplicate reviews: {duplicates.sum()}\")\n",
    "# show the duplicate reviews\n",
    "duplicate_reviews = reviews_df_raw[duplicates]\n",
    "duplicate_reviews[['reviewerID', 'asin', 'unixReviewTime', 'overall', 'reviewText']]"
   ]
  },
  {
   "cell_type": "markdown",
   "id": "82a5a9ea",
   "metadata": {},
   "source": [
    "Convert unixReviewTime column to Datetime Objects"
   ]
  },
  {
   "cell_type": "code",
   "execution_count": null,
   "id": "228edeae",
   "metadata": {},
   "outputs": [],
   "source": [
    "reviews_df_raw['date'] = pd.to_datetime(reviews_df_raw['unixReviewTime'], unit='s')"
   ]
  },
  {
   "cell_type": "markdown",
   "id": "6215c47c",
   "metadata": {},
   "source": [
    "Features Related to Overall"
   ]
  },
  {
   "cell_type": "code",
   "execution_count": null,
   "id": "74e57e36",
   "metadata": {},
   "outputs": [],
   "source": [
    "# using simple aggregation techniques for the rating column\n",
    "reviews_df_raw['avg_rating'] = reviews_df_raw.groupby('asin')['overall'].transform('mean')\n",
    "reviews_df_raw['min_rating'] = reviews_df_raw.groupby('asin')['overall'].transform('min')\n",
    "reviews_df_raw['min_rating'] = reviews_df_raw.groupby('asin')['overall'].transform('max')\n",
    "reviews_df_raw['num_of_rating'] = reviews_df_raw.groupby('asin')['overall'].transform('count')"
   ]
  },
  {
   "cell_type": "code",
   "execution_count": null,
   "id": "b17299f0",
   "metadata": {},
   "outputs": [],
   "source": [
    "# percent positive reviews -- rating >= 4\n",
    "# percent negative reviews -- rating <= 2\n",
    "reviews_df_raw['is_positive'] = (reviews_df_raw['overall'] >= 4).astype(int)\n",
    "reviews_df_raw['is_negative'] = (reviews_df_raw['overall'] <= 2).astype(int)\n",
    "\n",
    "reviews_df_raw['percent_positive'] = reviews_df_raw.groupby('asin')['is_positive'].transform('mean')\n",
    "reviews_df_raw['percent_negative'] = reviews_df_raw.groupby('asin')['is_negative'].transform('mean')"
   ]
  },
  {
   "cell_type": "markdown",
   "id": "716f26fe",
   "metadata": {},
   "source": [
    "Features Related to Verified\n",
    "- this does not seem like a great feature to use because it is so imbalanced"
   ]
  },
  {
   "cell_type": "code",
   "execution_count": null,
   "id": "ecb4f1c7",
   "metadata": {},
   "outputs": [],
   "source": [
    "reviews_df_raw['avg_verified_reviewers'] = reviews_df_raw.groupby('asin')['verified'].transform('mean')"
   ]
  },
  {
   "cell_type": "markdown",
   "id": "8b7d7ec6",
   "metadata": {},
   "source": [
    "Features Related to UnixReviewTime"
   ]
  },
  {
   "cell_type": "code",
   "execution_count": null,
   "id": "8e4e2758",
   "metadata": {},
   "outputs": [],
   "source": [
    "# compute product lifespan\n",
    "reviews_df_raw['min_date'] = reviews_df_raw.groupby('asin')['date'].transform('min') \n",
    "reviews_df_raw['max_date'] = reviews_df_raw.groupby('asin')['date'].transform('max') \n",
    "reviews_df_raw['product_lifespan'] = reviews_df_raw['max_date']-reviews_df_raw['min_date']"
   ]
  },
  {
   "cell_type": "markdown",
   "id": "7f3c82ac",
   "metadata": {},
   "source": [
    "Features Related to ReviewerID"
   ]
  },
  {
   "cell_type": "code",
   "execution_count": null,
   "id": "23af1cae",
   "metadata": {},
   "outputs": [],
   "source": [
    "# count total number of five star reviews per reviewer\n",
    "all_fives = reviews_df_raw[reviews_df_raw['overall'] == 5].groupby('reviewerID').size().reset_index(name='count_of_five_star_ratings_by_reviewer')\n",
    "# count total number of one star reviews per reviewer\n",
    "all_ones = reviews_df_raw[reviews_df_raw['overall'] == 1].groupby('reviewerID').size().reset_index(name='count_of_one_star_ratings_by_reviewer')\n",
    "#count number of total number reviews per reviewer\n",
    "all_ratings = reviews_df_raw.groupby('reviewerID').size().reset_index(name='count_of_ratings_by_reviewer')"
   ]
  },
  {
   "cell_type": "code",
   "execution_count": null,
   "id": "352f4df8",
   "metadata": {},
   "outputs": [],
   "source": [
    "# merge onto one dataframe\n",
    "all_ratings = all_ratings.merge(all_fives, on='reviewerID', how='left')\n",
    "all_ratings = all_ratings.merge(all_ones, on='reviewerID', how='left')"
   ]
  },
  {
   "cell_type": "code",
   "execution_count": null,
   "id": "70e1f54b",
   "metadata": {},
   "outputs": [],
   "source": [
    "# if reviewer gave no fives, fill with 0\n",
    "all_ratings['count_of_five_star_ratings_by_reviewer'] = all_ratings['count_of_five_star_ratings_by_reviewer'].fillna(0).astype(int)\n",
    "# if reviewer gave no ones, fill with 0\n",
    "all_ratings['count_of_one_star_ratings_by_reviewer'] = all_ratings['count_of_one_star_ratings_by_reviewer'].fillna(0).astype(int)\n"
   ]
  },
  {
   "cell_type": "code",
   "execution_count": null,
   "id": "68cbd806",
   "metadata": {},
   "outputs": [],
   "source": [
    "# get proportion of fives and proportion of ones over total count\n",
    "all_ratings['prop_five'] = all_ratings['count_of_five_star_ratings_by_reviewer'] / all_ratings['count_of_ratings_by_reviewer']\n",
    "all_ratings['prop_one'] = all_ratings['count_of_one_star_ratings_by_reviewer'] / all_ratings['count_of_ratings_by_reviewer']\n",
    "all_ratings"
   ]
  },
  {
   "cell_type": "code",
   "execution_count": null,
   "id": "ea57435e",
   "metadata": {},
   "outputs": [],
   "source": [
    "# find first and last date of review by reviewer\n",
    "reviewer_dates = reviews_df_raw.groupby('reviewerID')['date'].agg(['min', 'max']).reset_index()\n",
    "# get the difference between those dates\n",
    "reviewer_dates['review_span'] = reviewer_dates['max']-reviewer_dates['min']"
   ]
  },
  {
   "cell_type": "code",
   "execution_count": null,
   "id": "1f046f57",
   "metadata": {},
   "outputs": [],
   "source": [
    "# build suspicious activity df to find potential bots\n",
    "suspicious_activity_df = all_ratings.merge(reviewer_dates[['reviewerID', 'review_span']], on='reviewerID', how='left')\n",
    "products_reviewed = reviews_df_raw.groupby('reviewerID')['asin'].nunique().reset_index()\n",
    "products_reviewed = products_reviewed.rename(columns={'asin':'num_unique_products'})\n",
    "suspicious_activity_df = suspicious_activity_df.merge(products_reviewed, on='reviewerID', how='left')\n",
    "suspicious_activity_df['reviews_per_day'] = suspicious_activity_df['count_of_ratings_by_reviewer'] / (suspicious_activity_df['review_span'].dt.days + 1 )\n"
   ]
  },
  {
   "cell_type": "code",
   "execution_count": null,
   "id": "cecc69ac",
   "metadata": {},
   "outputs": [],
   "source": [
    "# make bots df by specifying criteria based on distribution of each feature\n",
    "bots_df = suspicious_activity_df[\n",
    "    (suspicious_activity_df['count_of_ratings_by_reviewer'] > 10) & \n",
    "    (suspicious_activity_df['reviews_per_day'] > 3) & \n",
    "    (suspicious_activity_df['num_unique_products'] > 10) & \n",
    "    ((suspicious_activity_df['prop_five'] == 1) | (suspicious_activity_df['prop_one'] > 0.8))\n",
    "]"
   ]
  },
  {
   "cell_type": "code",
   "execution_count": null,
   "id": "bc964f3e",
   "metadata": {},
   "outputs": [],
   "source": [
    "# put bot count on reviews_data_df\n",
    "bots = list(bots_df['reviewerID'].unique())\n",
    "reviews_df_raw['is_bot'] = 0\n",
    "reviews_df_raw.loc[reviews_df_raw['reviewerID'].isin(bots), 'is_bot'] = 1\n",
    "\n",
    "reviews_df_raw['num_bots_per_asin'] = reviews_df_raw.groupby('asin')['is_bot'].transform('sum')"
   ]
  },
  {
   "cell_type": "code",
   "execution_count": null,
   "id": "ef82a0e5",
   "metadata": {},
   "outputs": [],
   "source": [
    "suspicious_activity_df.columns"
   ]
  },
  {
   "cell_type": "code",
   "execution_count": null,
   "id": "7cbe2f8b",
   "metadata": {},
   "outputs": [],
   "source": [
    "reviews_df_raw = reviews_df_raw.merge(suspicious_activity_df[['reviewerID', 'reviews_per_day']], on='reviewerID', how='left')"
   ]
  },
  {
   "cell_type": "code",
   "execution_count": null,
   "id": "70038780",
   "metadata": {},
   "outputs": [],
   "source": [
    "# number of unique reviewers per product\n",
    "reviews_df_raw['unique_reviewer_count'] = reviews_df_raw.groupby('asin')['reviewerID'].transform('nunique')"
   ]
  },
  {
   "cell_type": "code",
   "execution_count": null,
   "id": "fea3c14e",
   "metadata": {},
   "outputs": [],
   "source": [
    "reviews_df_raw['avg_reviews_per_day'] = reviews_df_raw.groupby('asin')['reviews_per_day'].transform('mean')"
   ]
  },
  {
   "cell_type": "markdown",
   "id": "64efbc98",
   "metadata": {},
   "source": [
    "Features Related to ReviewText"
   ]
  },
  {
   "cell_type": "code",
   "execution_count": null,
   "id": "4bf6cd4d",
   "metadata": {},
   "outputs": [],
   "source": [
    "# number of reviews per product\n",
    "reviews_df_raw['reviews_per_product'] = reviews_df_raw.groupby('asin')['reviewText'].transform('count')"
   ]
  },
  {
   "cell_type": "code",
   "execution_count": null,
   "id": "b6225e29",
   "metadata": {},
   "outputs": [],
   "source": [
    "# word count of each review\n",
    "reviews_df_raw['review_length_words'] = reviews_df_raw['reviewText'].str.split().str.len()\n",
    "\n",
    "# character count of each review\n",
    "reviews_df_raw['review_length_chars'] = reviews_df_raw['reviewText'].str.len()\n",
    "\n",
    "# aggregate the above columns\n",
    "reviews_df_raw['avg_review_length_words'] = reviews_df_raw.groupby('asin')['review_length_words'].transform('mean')\n",
    "reviews_df_raw['avg_review_length_chars'] = reviews_df_raw.groupby('asin')['review_length_chars'].transform('mean')\n"
   ]
  },
  {
   "cell_type": "markdown",
   "id": "2229bcf8",
   "metadata": {},
   "source": [
    "Make Final Reviews DF grouped by ASIN"
   ]
  },
  {
   "cell_type": "code",
   "execution_count": null,
   "id": "b57e5ed9",
   "metadata": {},
   "outputs": [],
   "source": [
    "final_reviews_df = reviews_df_raw[['asin', 'avg_rating', 'min_rating', 'num_of_rating','percent_positive', 'percent_negative', 'avg_verified_reviewers',\n",
    "                'min_date', 'max_date', 'product_lifespan', 'num_bots_per_asin', 'unique_reviewer_count', 'avg_reviews_per_day', 'reviews_per_product',\n",
    "                'avg_review_length_words', 'avg_review_length_chars' ]].drop_duplicates()"
   ]
  },
  {
   "cell_type": "code",
   "execution_count": null,
   "id": "23d2c07f",
   "metadata": {},
   "outputs": [],
   "source": [
    "final_reviews_df.isna().sum()"
   ]
  },
  {
   "cell_type": "code",
   "execution_count": null,
   "id": "ba35a23a",
   "metadata": {},
   "outputs": [],
   "source": [
    "final_reviews_df"
   ]
  },
  {
   "cell_type": "code",
   "execution_count": null,
   "id": "63052313",
   "metadata": {},
   "outputs": [],
   "source": [
    "pd.read_parquet('final_reviews.parquet').shape"
   ]
  },
  {
   "cell_type": "code",
   "execution_count": null,
   "id": "17304798",
   "metadata": {},
   "outputs": [],
   "source": []
  }
 ],
 "metadata": {
  "kernelspec": {
   "display_name": "erdos_summer_2025",
   "language": "python",
   "name": "python3"
  },
  "language_info": {
   "codemirror_mode": {
    "name": "ipython",
    "version": 3
   },
   "file_extension": ".py",
   "mimetype": "text/x-python",
   "name": "python",
   "nbconvert_exporter": "python",
   "pygments_lexer": "ipython3",
   "version": "3.12.10"
  }
 },
 "nbformat": 4,
 "nbformat_minor": 5
}
