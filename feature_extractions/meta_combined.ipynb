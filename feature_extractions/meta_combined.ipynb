{
 "cells": [
  {
   "cell_type": "code",
   "execution_count": 2,
   "id": "3005ed80",
   "metadata": {},
   "outputs": [],
   "source": [
    "import numpy as np\n",
    "import pandas as pd\n",
    "import seaborn as sns\n",
    "from sklearn.neighbors import KNeighborsRegressor\n",
    "from tqdm import tqdm\n",
    "from ast import literal_eval\n",
    "import os\n",
    "tqdm.pandas()"
   ]
  },
  {
   "cell_type": "code",
   "execution_count": 3,
   "id": "fc73125d",
   "metadata": {},
   "outputs": [],
   "source": [
    "# Import the metadata. We'll only import the columns we need.\n",
    "if not os.path.exists(\"../Data/metadata_raw.pkl\"): #Converts json to pkl if needed\n",
    "    print(\"Converting json file to pkl\")\n",
    "    metadata_df_raw = pd.read_json(\"../Data/amazon_meta.json\",lines=True)\n",
    "    metadata_df_raw.to_pickle('../Data/metadata_raw.pkl')\n",
    "    del metadata_df_raw\n",
    "columns=['asin','category', 'title', 'price','also_buy', 'also_view']\n",
    "combined_df=pd.read_pickle(\"../Data/metadata_raw.pkl\")[columns]"
   ]
  },
  {
   "cell_type": "markdown",
   "id": "bf97f0e5",
   "metadata": {},
   "source": [
    "##### Cleaning Metadata"
   ]
  },
  {
   "cell_type": "code",
   "execution_count": 4,
   "id": "061efb2d",
   "metadata": {},
   "outputs": [],
   "source": [
    "# Remove price columns starting .a-box-inner\n",
    "\n",
    "def filter_junk(price):\n",
    "    if price=='':\n",
    "        return None\n",
    "    if len(price)>=12:\n",
    "        if price[0:12]=='.a-box-inner':\n",
    "            return None\n",
    "    return price\n",
    "\n",
    "combined_df.price=combined_df.price.apply(filter_junk)"
   ]
  },
  {
   "cell_type": "code",
   "execution_count": 5,
   "id": "6c287231",
   "metadata": {},
   "outputs": [],
   "source": [
    "# Add missing_price feature\n",
    "# Might indicate item is no longer for sale/out of stock?\n",
    "combined_df['missing_price']=combined_df.price.isna()"
   ]
  },
  {
   "cell_type": "code",
   "execution_count": 6,
   "id": "21523b14",
   "metadata": {},
   "outputs": [],
   "source": [
    "# Remove price\n",
    "combined_df=combined_df.drop(columns='price')"
   ]
  },
  {
   "cell_type": "code",
   "execution_count": 7,
   "id": "3688248a",
   "metadata": {},
   "outputs": [
    {
     "name": "stderr",
     "output_type": "stream",
     "text": [
      "100%|██████████| 633883/633883 [00:00<00:00, 1854122.11it/s]\n"
     ]
    }
   ],
   "source": [
    "# Replace category with top-level subcategory\n",
    "def extract_subcategory(cat):\n",
    "    if len(cat)>0:\n",
    "        return cat[1]\n",
    "    return None\n",
    "\n",
    "combined_df['category']=combined_df.category.progress_apply(extract_subcategory)"
   ]
  },
  {
   "cell_type": "code",
   "execution_count": 8,
   "id": "4575fce9",
   "metadata": {},
   "outputs": [
    {
     "name": "stderr",
     "output_type": "stream",
     "text": [
      "100%|██████████| 633883/633883 [00:07<00:00, 82600.39it/s] \n"
     ]
    }
   ],
   "source": [
    "# Combine also_buy and also_view into a single list\n",
    "def combine(entry):\n",
    "    output=entry.also_buy+entry.also_view\n",
    "    output=list(set(output)) # Remove duplicates\n",
    "    if output==[]:\n",
    "        return None\n",
    "    return output\n",
    "    \n",
    "combined_df['similar']=combined_df.progress_apply(combine,axis=1)"
   ]
  },
  {
   "cell_type": "code",
   "execution_count": 9,
   "id": "2442f635",
   "metadata": {},
   "outputs": [],
   "source": [
    "# We now fill in missing categories\n",
    "# We create a lookup table of all items that already have a category.\n",
    "lookup_cat=dict()\n",
    "for index,entry in combined_df[combined_df.category.notna()].iterrows():\n",
    "    lookup_cat[entry.asin]=entry.category"
   ]
  },
  {
   "cell_type": "code",
   "execution_count": 10,
   "id": "249a10b7",
   "metadata": {},
   "outputs": [],
   "source": [
    "# The following function predicts the category using the category of similar (also_view or also_buy) products.\n",
    "# We pick the most frequently ocurring such category\n",
    "from collections import Counter\n",
    "\n",
    "def most_frequent(lst):\n",
    "    return Counter(lst).most_common(1)[0][0]\n",
    "\n",
    "def predict_category_similar_prods(entry,i=0):\n",
    "    if entry.category!=None:\n",
    "        return entry.category\n",
    "    similar_prods=entry.similar\n",
    "    if similar_prods==None:\n",
    "        return None\n",
    "    similar_categories=[]\n",
    "    for prod in similar_prods:\n",
    "        category=lookup_cat.get(prod,-1)\n",
    "        if category!=-1:\n",
    "            similar_categories.append(category)\n",
    "    if len(similar_categories)>0:\n",
    "        return most_frequent(similar_categories)\n",
    "    return None"
   ]
  },
  {
   "cell_type": "code",
   "execution_count": 11,
   "id": "0f1fc5f8",
   "metadata": {},
   "outputs": [],
   "source": [
    "# Fill in as many missing category values as possible\n",
    "combined_df.category=combined_df.apply(predict_category_similar_prods,axis=1)"
   ]
  },
  {
   "cell_type": "code",
   "execution_count": 12,
   "id": "de73fdee",
   "metadata": {},
   "outputs": [],
   "source": [
    "# Drop non-hashable columns that are no longer needed\n",
    "combined_df=combined_df.drop(columns=['also_buy','also_view','similar'])"
   ]
  },
  {
   "cell_type": "code",
   "execution_count": 13,
   "id": "757055d4",
   "metadata": {},
   "outputs": [],
   "source": [
    "# Drop duplicate rows\n",
    "combined_df=combined_df.drop_duplicates()"
   ]
  },
  {
   "cell_type": "code",
   "execution_count": 14,
   "id": "24db049b",
   "metadata": {},
   "outputs": [],
   "source": [
    "# Verify asins are unique\n",
    "assert(combined_df.asin.duplicated().unique()==[False])"
   ]
  },
  {
   "cell_type": "code",
   "execution_count": 15,
   "id": "5e060c20",
   "metadata": {},
   "outputs": [],
   "source": [
    "# Import the ranks.\n",
    "ranks_df=pd.read_parquet(\"../Data/meta_ranks.parquet\")\n",
    "ranks_df=ranks_df.drop_duplicates()\n",
    "\n",
    "# Verify no duplicated asins\n",
    "assert(ranks_df.asin.duplicated().unique()==[False])"
   ]
  },
  {
   "cell_type": "code",
   "execution_count": 16,
   "id": "9653caf0",
   "metadata": {},
   "outputs": [],
   "source": [
    "# Merge ranks with combined_df\n",
    "combined_df=combined_df.merge(ranks_df,on='asin')"
   ]
  },
  {
   "cell_type": "code",
   "execution_count": 17,
   "id": "b0c57dcd",
   "metadata": {},
   "outputs": [],
   "source": [
    "# Drop missing items with missing rank or missing category\n",
    "pd.DataFrame.dropna(combined_df,axis=0,subset=['category','item_rank'],inplace=True)"
   ]
  },
  {
   "cell_type": "markdown",
   "id": "14cb3858",
   "metadata": {},
   "source": [
    "##### Add matches and components"
   ]
  },
  {
   "cell_type": "code",
   "execution_count": 18,
   "id": "48f67e93",
   "metadata": {},
   "outputs": [],
   "source": [
    "# Import matches with components\n",
    "matches_df=pd.read_csv(\"../Data/amazon_df_labels_with_comps.csv\",index_col=0)"
   ]
  },
  {
   "cell_type": "code",
   "execution_count": 19,
   "id": "2e94b544",
   "metadata": {},
   "outputs": [],
   "source": [
    "# Merge matches with combined_df\n",
    "combined_df=combined_df.merge(matches_df,on='asin')"
   ]
  },
  {
   "cell_type": "code",
   "execution_count": 20,
   "id": "87d81994",
   "metadata": {},
   "outputs": [],
   "source": [
    "# Import undropped asins after cleaning review_data.\n",
    "review_cleaned_asins=pd.read_csv(\"../Data/asin_labels_clean_review_df.csv\")\n",
    "\n",
    "# Check no duplicate asin\n",
    "assert(review_cleaned_asins.asin.duplicated().unique()==[False])"
   ]
  },
  {
   "cell_type": "code",
   "execution_count": 21,
   "id": "cf60bdc3",
   "metadata": {},
   "outputs": [],
   "source": [
    "# Drop entries from combined_df that don't appear in review_cleaned_asins\n",
    "combined_df=combined_df.merge(review_cleaned_asins[['asin']],on='asin')"
   ]
  },
  {
   "cell_type": "markdown",
   "id": "e801f5d0",
   "metadata": {},
   "source": [
    "##### Add reviews features"
   ]
  },
  {
   "cell_type": "code",
   "execution_count": 22,
   "id": "bb1dc937",
   "metadata": {},
   "outputs": [],
   "source": [
    "# Load Reviews_df (from reviews_features.ipynb)\n",
    "reviews_features_df=pd.read_parquet(\"final_reviews.parquet\")\n",
    "\n",
    "# Verify no duplicated asins\n",
    "assert(reviews_features_df.asin.duplicated().unique()==[False])"
   ]
  },
  {
   "cell_type": "code",
   "execution_count": 23,
   "id": "de447c98",
   "metadata": {},
   "outputs": [],
   "source": [
    "# Merge meta and review datasets\n",
    "combined_df=combined_df.merge(reviews_features_df,on='asin')"
   ]
  },
  {
   "cell_type": "code",
   "execution_count": 24,
   "id": "810f6794",
   "metadata": {},
   "outputs": [
    {
     "data": {
      "application/vnd.microsoft.datawrangler.viewer.v0+json": {
       "columns": [
        {
         "name": "index",
         "rawType": "int64",
         "type": "integer"
        },
        {
         "name": "asin",
         "rawType": "object",
         "type": "string"
        },
        {
         "name": "category",
         "rawType": "object",
         "type": "string"
        },
        {
         "name": "title",
         "rawType": "object",
         "type": "string"
        },
        {
         "name": "missing_price",
         "rawType": "bool",
         "type": "boolean"
        },
        {
         "name": "item_rank",
         "rawType": "float64",
         "type": "float"
        },
        {
         "name": "match",
         "rawType": "int64",
         "type": "integer"
        },
        {
         "name": "incident_indices",
         "rawType": "object",
         "type": "string"
        },
        {
         "name": "component_no",
         "rawType": "int64",
         "type": "integer"
        },
        {
         "name": "avg_rating",
         "rawType": "float64",
         "type": "float"
        },
        {
         "name": "min_rating",
         "rawType": "int64",
         "type": "integer"
        },
        {
         "name": "percent_positive",
         "rawType": "float64",
         "type": "float"
        },
        {
         "name": "percent_negative",
         "rawType": "float64",
         "type": "float"
        },
        {
         "name": "avg_verified_reviewers",
         "rawType": "float64",
         "type": "float"
        },
        {
         "name": "min_date",
         "rawType": "datetime64[ns]",
         "type": "datetime"
        },
        {
         "name": "max_date",
         "rawType": "datetime64[ns]",
         "type": "datetime"
        },
        {
         "name": "product_lifespan",
         "rawType": "timedelta64[ns]",
         "type": "unknown"
        },
        {
         "name": "num_bots_per_asin",
         "rawType": "int64",
         "type": "integer"
        },
        {
         "name": "unique_reviewer_count",
         "rawType": "int64",
         "type": "integer"
        },
        {
         "name": "avg_reviews_per_day",
         "rawType": "float64",
         "type": "float"
        },
        {
         "name": "reviews_per_product",
         "rawType": "int64",
         "type": "integer"
        },
        {
         "name": "avg_review_length_words",
         "rawType": "float64",
         "type": "float"
        },
        {
         "name": "avg_review_length_chars",
         "rawType": "float64",
         "type": "float"
        }
       ],
       "ref": "24c14fd2-3136-4c03-b0e3-1029f8def558",
       "rows": [
        [
         "0",
         "0000191639",
         "Puzzles",
         "Dr. Suess 19163 Dr. Seuss Puzzle 3 Pack Bundle",
         "True",
         "2230717.0",
         "0",
         "[]",
         "449",
         "5.0",
         "5",
         "1.0",
         "0.0",
         "1.0",
         "2013-12-26 00:00:00",
         "2013-12-26 00:00:00",
         "0 days 00:00:00",
         "0",
         "1",
         "3.0",
         "1",
         "23.0",
         "125.0"
        ],
        [
         "1",
         "0004983289",
         "Games",
         "Dutch Blitz Card Game",
         "False",
         "376337.0",
         "0",
         "[]",
         "452",
         "4.8",
         "5",
         "1.0",
         "0.0",
         "1.0",
         "2016-12-10 00:00:00",
         "2018-03-28 00:00:00",
         "473 days 00:00:00",
         "0",
         "5",
         "0.8011976047904191",
         "5",
         "15.4",
         "107.2"
        ],
        [
         "2",
         "0020232233",
         "Grown-Up Toys",
         "Dungeons &amp; Dragons - &quot;Storm Kings Thunder&quot; DM Screen",
         "False",
         "178217.0",
         "0",
         "[]",
         "454",
         "4.130434782608695",
         "5",
         "0.7391304347826086",
         "0.17391304347826086",
         "0.782608695652174",
         "2016-09-12 00:00:00",
         "2018-04-06 00:00:00",
         "571 days 00:00:00",
         "0",
         "23",
         "0.6425175295778675",
         "23",
         "59.26086956521739",
         "329.60869565217394"
        ],
        [
         "3",
         "0096737581",
         "Arts & Crafts",
         "NUM NOMS figures Storage Case Organizer - holds 20 figures",
         "True",
         "989767.0",
         "0",
         "[]",
         "455",
         "2.3333333333333335",
         "5",
         "0.3333333333333333",
         "0.6666666666666666",
         "0.6666666666666666",
         "2016-12-03 00:00:00",
         "2017-07-08 00:00:00",
         "217 days 00:00:00",
         "0",
         "3",
         "0.6719219219219218",
         "3",
         "22.666666666666668",
         "126.0"
        ],
        [
         "4",
         "014002316X",
         "Toy Remote Control & Play Vehicles",
         "UDI U806 Infrared Remote Control Helicopter W/gyro - RED",
         "True",
         "3687991.0",
         "0",
         "[]",
         "456",
         "1.0",
         "1",
         "0.0",
         "1.0",
         "1.0",
         "2015-09-25 00:00:00",
         "2015-09-25 00:00:00",
         "0 days 00:00:00",
         "0",
         "1",
         "1.0",
         "1",
         "12.0",
         "52.0"
        ],
        [
         "5",
         "0298770377",
         "Stuffed Animals & Plush Toys",
         "Pokemon XY Korotto Manmaru Plush &quot;Relief Squad&quot; Chansey About 5&quot;",
         "True",
         "1729890.0",
         "0",
         "[]",
         "465",
         "5.0",
         "5",
         "1.0",
         "0.0",
         "1.0",
         "2016-02-22 00:00:00",
         "2016-08-02 00:00:00",
         "162 days 00:00:00",
         "0",
         "2",
         "0.5206971677559913",
         "2",
         "8.0",
         "48.5"
        ],
        [
         "6",
         "0298771861",
         "Stuffed Animals & Plush Toys",
         "Sega Love Live School Idol Project Nico Yazawa Jumbo Stuffed Plush, 15&quot;",
         "True",
         "361527.0",
         "0",
         "[]",
         "466",
         "5.0",
         "5",
         "1.0",
         "0.0",
         "0.6666666666666666",
         "2016-10-11 00:00:00",
         "2017-10-27 00:00:00",
         "381 days 00:00:00",
         "0",
         "3",
         "1.0",
         "3",
         "14.333333333333334",
         "78.0"
        ],
        [
         "7",
         "0298765705",
         "Action Figures & Statues",
         "Sega Love, Chunibyo &amp; Other Delusions: Rikka Takanashi Premium Summer Beach Figure",
         "False",
         "550503.0",
         "0",
         "[]",
         "467",
         "4.75",
         "5",
         "1.0",
         "0.0",
         "0.875",
         "2016-01-07 00:00:00",
         "2017-03-22 00:00:00",
         "440 days 00:00:00",
         "0",
         "8",
         "0.27182669580033103",
         "8",
         "69.5",
         "374.875"
        ],
        [
         "8",
         "0298770504",
         "Action Figures & Statues",
         "Furyu 6.7&quot; Love Live!: Honoka Kousaka Complete Figure",
         "False",
         "422996.0",
         "0",
         "[]",
         "468",
         "5.0",
         "5",
         "1.0",
         "0.0",
         "1.0",
         "2017-04-15 00:00:00",
         "2017-04-15 00:00:00",
         "0 days 00:00:00",
         "0",
         "2",
         "1.002158273381295",
         "2",
         "9.5",
         "45.5"
        ],
        [
         "9",
         "0298770016",
         "Stuffed Animals & Plush Toys",
         "Nemuneko Honey Heart Big Plush Type-B About 14&quot;",
         "True",
         "1684714.0",
         "0",
         "[]",
         "469",
         "5.0",
         "5",
         "1.0",
         "0.0",
         "1.0",
         "2015-12-21 00:00:00",
         "2015-12-21 00:00:00",
         "0 days 00:00:00",
         "0",
         "1",
         "1.0",
         "1",
         "15.0",
         "76.0"
        ],
        [
         "10",
         "038536539X",
         "Games",
         "Penguin Random House Punderdome Deluxe Card Game",
         "True",
         "387552.0",
         "0",
         "[]",
         "470",
         "3.6153846153846154",
         "5",
         "0.5384615384615384",
         "0.3076923076923077",
         "0.9230769230769231",
         "2017-01-26 00:00:00",
         "2018-03-30 00:00:00",
         "428 days 00:00:00",
         "0",
         "13",
         "1.3099566040742512",
         "13",
         "29.76923076923077",
         "157.92307692307693"
        ],
        [
         "11",
         "0425066169",
         "Games",
         "Sanctuary: The Thieves' World Boardgame [BOX SET]",
         "True",
         "2093393.0",
         "0",
         "[]",
         "472",
         "4.666666666666667",
         "5",
         "0.8333333333333334",
         "0.0",
         "0.5",
         "2005-05-26 00:00:00",
         "2016-02-13 00:00:00",
         "3915 days 00:00:00",
         "0",
         "6",
         "0.8372982414144944",
         "6",
         "109.33333333333333",
         "585.3333333333334"
        ],
        [
         "12",
         "0439838649",
         "Learning & Education",
         "Little Red Tool Box: Alphabet Letters &amp; Pictures Super Set",
         "False",
         "535300.4848910751",
         "0",
         "[]",
         "473",
         "4.714285714285714",
         "5",
         "0.8571428571428571",
         "0.0",
         "1.0",
         "2013-04-10 00:00:00",
         "2015-06-24 00:00:00",
         "805 days 00:00:00",
         "0",
         "7",
         "0.16896546262773876",
         "7",
         "43.42857142857143",
         "241.57142857142858"
        ],
        [
         "13",
         "0439927277",
         "Puppets",
         "YOTTOY Magalina Dog 10&quot; Puppet",
         "True",
         "1737049.0",
         "0",
         "[]",
         "474",
         "4.75",
         "5",
         "1.0",
         "0.0",
         "1.0",
         "2010-12-16 00:00:00",
         "2018-03-04 00:00:00",
         "2635 days 00:00:00",
         "0",
         "4",
         "0.29138984146162905",
         "4",
         "29.0",
         "188.0"
        ],
        [
         "14",
         "0448447088",
         "Stuffed Animals & Plush Toys",
         "&quot;Miss Spider's Web&quot; Stuffed Toy &amp; Book",
         "True",
         "2626578.0",
         "0",
         "[]",
         "475",
         "5.0",
         "5",
         "1.0",
         "0.0",
         "1.0",
         "2014-04-10 00:00:00",
         "2014-04-10 00:00:00",
         "0 days 00:00:00",
         "0",
         "1",
         "0.011862396204033215",
         "1",
         "35.0",
         "167.0"
        ],
        [
         "15",
         "0486277577",
         "Novelty & Gag Toys",
         "MMS Card Control by Arthur H Buckley - Book",
         "False",
         "271059.0",
         "0",
         "[]",
         "476",
         "4.357142857142857",
         "5",
         "0.8571428571428571",
         "0.07142857142857142",
         "0.5",
         "2000-10-15 00:00:00",
         "2015-05-31 00:00:00",
         "5341 days 00:00:00",
         "0",
         "14",
         "0.5130824727178901",
         "14",
         "105.57142857142857",
         "599.9285714285714"
        ],
        [
         "16",
         "0486284115",
         "Novelty & Gag Toys",
         "Dinosaur Tattoos",
         "False",
         "429285.5",
         "0",
         "[]",
         "477",
         "3.9",
         "5",
         "0.8",
         "0.2",
         "0.8",
         "2013-12-30 00:00:00",
         "2017-04-13 00:00:00",
         "1200 days 00:00:00",
         "0",
         "10",
         "0.3280209899132417",
         "10",
         "17.6",
         "93.3"
        ],
        [
         "17",
         "0486402029",
         "Novelty & Gag Toys",
         "Pirates Tattoos",
         "False",
         "696751.0",
         "0",
         "[]",
         "478",
         "3.6875",
         "5",
         "0.625",
         "0.25",
         "0.625",
         "2005-09-20 00:00:00",
         "2016-02-04 00:00:00",
         "3789 days 00:00:00",
         "0",
         "16",
         "0.5681127770229091",
         "16",
         "52.6875",
         "275.3125"
        ],
        [
         "18",
         "0486427706",
         "Arts & Crafts",
         "DOVER PUBLICATIONS Stained Glass Color Book Wizards And Dragons (427706)",
         "False",
         "251065.25174825176",
         "0",
         "[]",
         "479",
         "4.8",
         "5",
         "0.925",
         "0.0",
         "0.95",
         "2007-02-06 00:00:00",
         "2017-07-16 00:00:00",
         "3813 days 00:00:00",
         "0",
         "40",
         "0.53490211585517",
         "40",
         "22.85",
         "131.7"
        ],
        [
         "19",
         "0486448789",
         "Arts & Crafts",
         "Dover Publications-Create Your Own Robot Stickers",
         "False",
         "89922.54873646211",
         "0",
         "[]",
         "480",
         "3.8556701030927836",
         "5",
         "0.7010309278350515",
         "0.21649484536082475",
         "0.9175257731958762",
         "2007-07-10 00:00:00",
         "2016-07-21 00:00:00",
         "3299 days 00:00:00",
         "0",
         "97",
         "0.4683795457356384",
         "97",
         "35.649484536082475",
         "186.09278350515464"
        ],
        [
         "20",
         "0545020832",
         "Kids' Electronics",
         "Talk-to-Me Amazing Animals Phonics Boxed Set With Magic Talking Pen &amp; 10 Books",
         "True",
         "1847632.0",
         "0",
         "[]",
         "481",
         "1.0",
         "1",
         "0.0",
         "1.0",
         "0.0",
         "2010-02-17 00:00:00",
         "2010-02-17 00:00:00",
         "0 days 00:00:00",
         "0",
         "1",
         "0.0027569909413154787",
         "1",
         "84.0",
         "385.0"
        ],
        [
         "21",
         "0545325234",
         "Dress Up & Pretend Play",
         "Pound a Peg Wooden Pounding Bench with Hammer",
         "True",
         "891183.0",
         "0",
         "[]",
         "482",
         "2.533333333333333",
         "5",
         "0.2",
         "0.4666666666666667",
         "0.8666666666666667",
         "2012-12-02 00:00:00",
         "2015-10-28 00:00:00",
         "1060 days 00:00:00",
         "0",
         "15",
         "0.9349823656988347",
         "15",
         "45.0",
         "230.66666666666666"
        ],
        [
         "22",
         "0545346193",
         "Arts & Crafts",
         "Klutz Draw DC Universe: Learn to Draw The Heroes &amp; The Villains Craft Kit",
         "False",
         "128315.0",
         "0",
         "[]",
         "483",
         "4.3",
         "5",
         "0.8",
         "0.06666666666666667",
         "0.9666666666666667",
         "2011-09-21 00:00:00",
         "2018-02-09 00:00:00",
         "2333 days 00:00:00",
         "0",
         "30",
         "0.8730961206588573",
         "30",
         "44.06666666666667",
         "236.86666666666667"
        ],
        [
         "23",
         "0545449448",
         "Arts & Crafts",
         "Klutz Paper Fashions Craft Kit",
         "False",
         "428964.0",
         "0",
         "[]",
         "484",
         "4.0",
         "5",
         "0.75",
         "0.25",
         "1.0",
         "2014-03-16 00:00:00",
         "2016-09-07 00:00:00",
         "906 days 00:00:00",
         "0",
         "4",
         "0.2677289048277664",
         "4",
         "23.25",
         "126.75"
        ],
        [
         "24",
         "0545561647",
         "Arts & Crafts",
         "Klutz Pom-Pom Puppies: Make Your Own Adorable Dogs Craft Kit",
         "False",
         "10615.0",
         "0",
         "[]",
         "485",
         "3.9507389162561575",
         "5",
         "0.6995073891625616",
         "0.1625615763546798",
         "0.8817733990147784",
         "2013-10-07 00:00:00",
         "2018-04-11 00:00:00",
         "1647 days 00:00:00",
         "0",
         "203",
         "1.069678863728168",
         "203",
         "43.758620689655174",
         "227.5024630541872"
        ],
        [
         "25",
         "0545647770",
         "Arts & Crafts",
         "Klutz Tissue Paper Crafts: Colorful Decorations Craft Kit",
         "False",
         "227332.0",
         "0",
         "[]",
         "486",
         "3.4444444444444446",
         "5",
         "0.5555555555555556",
         "0.1111111111111111",
         "1.0",
         "2015-03-02 00:00:00",
         "2017-01-04 00:00:00",
         "674 days 00:00:00",
         "0",
         "9",
         "0.45186782457401886",
         "9",
         "28.22222222222222",
         "148.44444444444446"
        ],
        [
         "26",
         "0545647789",
         "Arts & Crafts",
         "Klutz Air Power: Rocket Science Made Simple Craft Kit",
         "False",
         "224661.0",
         "0",
         "[]",
         "487",
         "3.3333333333333335",
         "5",
         "0.3333333333333333",
         "0.3333333333333333",
         "1.0",
         "2015-01-12 00:00:00",
         "2017-03-14 00:00:00",
         "792 days 00:00:00",
         "0",
         "3",
         "0.3404338866115628",
         "3",
         "77.33333333333333",
         "396.6666666666667"
        ],
        [
         "27",
         "0545747325",
         "Puzzles",
         "Pete the Cat Floor Puzzle 35 Pieces",
         "False",
         "170291.0",
         "0",
         "[]",
         "488",
         "5.0",
         "5",
         "1.0",
         "0.0",
         "0.6666666666666666",
         "2015-06-24 00:00:00",
         "2015-12-13 00:00:00",
         "172 days 00:00:00",
         "0",
         "3",
         "0.338247898694979",
         "3",
         "29.333333333333332",
         "153.0"
        ],
        [
         "28",
         "0545858437",
         "Arts & Crafts",
         "Klutz Design &amp; Dye with No-Heat Batik Craft Kit",
         "False",
         "321477.0",
         "0",
         "[]",
         "489",
         "4.5",
         "5",
         "1.0",
         "0.0",
         "1.0",
         "2016-02-01 00:00:00",
         "2018-03-28 00:00:00",
         "786 days 00:00:00",
         "0",
         "2",
         "0.011366612417457022",
         "2",
         "79.5",
         "358.0"
        ],
        [
         "29",
         "0545862582",
         "Building Toys",
         "Pete the Cat&rsquo;s Groovy Shoe Tying Kit",
         "True",
         "1118310.0",
         "0",
         "[]",
         "490",
         "5.0",
         "5",
         "1.0",
         "0.0",
         "1.0",
         "2016-01-20 00:00:00",
         "2016-07-25 00:00:00",
         "187 days 00:00:00",
         "0",
         "2",
         "0.5098522167487685",
         "2",
         "14.5",
         "79.0"
        ],
        [
         "30",
         "0615343287",
         "Games",
         "Healing Blade",
         "True",
         "1685585.0",
         "0",
         "[]",
         "492",
         "3.5",
         "5",
         "0.6666666666666666",
         "0.3333333333333333",
         "0.6666666666666666",
         "2010-11-18 00:00:00",
         "2017-01-18 00:00:00",
         "2253 days 00:00:00",
         "0",
         "6",
         "0.5052338638373121",
         "6",
         "231.0",
         "1323.6666666666667"
        ],
        [
         "31",
         "0615638996",
         "Games",
         "Mad Dragon: An Anger Control Card Game",
         "False",
         "10932.0",
         "0",
         "[]",
         "493",
         "4.651515151515151",
         "5",
         "0.9343434343434344",
         "0.03535353535353535",
         "0.9595959595959596",
         "2012-09-21 00:00:00",
         "2018-04-24 00:00:00",
         "2041 days 00:00:00",
         "0",
         "198",
         "0.9184364123596808",
         "198",
         "32.55555555555556",
         "177.92929292929293"
        ],
        [
         "32",
         "064157388X",
         "Stuffed Animals & Plush Toys",
         "Douglas Cuddle Toys Airedale Stuffed Animal Plush Dog 9&quot; L",
         "True",
         "1729910.0",
         "0",
         "[]",
         "494",
         "4.8",
         "5",
         "1.0",
         "0.0",
         "1.0",
         "2011-03-08 00:00:00",
         "2014-08-16 00:00:00",
         "1257 days 00:00:00",
         "0",
         "5",
         "0.8006920415224913",
         "5",
         "41.2",
         "217.2"
        ],
        [
         "33",
         "0641742126",
         "Games",
         "Eragon, The official Motion Picture Board Game",
         "False",
         "426930.0",
         "0",
         "[]",
         "495",
         "2.0",
         "3",
         "0.0",
         "0.5",
         "0.0",
         "2010-01-17 00:00:00",
         "2012-01-16 00:00:00",
         "729 days 00:00:00",
         "0",
         "2",
         "0.5254957507082153",
         "2",
         "786.5",
         "4338.0"
        ],
        [
         "34",
         "0641869665",
         "Stuffed Animals & Plush Toys",
         "Don't Let the Pigeon Drive the Bus 6&quot; Pigeon Plush Doll (Mo Willems)",
         "False",
         "66147.0",
         "0",
         "[]",
         "496",
         "4.333333333333333",
         "5",
         "0.8333333333333334",
         "0.07142857142857142",
         "0.9523809523809523",
         "2013-05-23 00:00:00",
         "2018-04-20 00:00:00",
         "1793 days 00:00:00",
         "0",
         "42",
         "0.91026388590231",
         "42",
         "21.642857142857142",
         "112.21428571428571"
        ],
        [
         "35",
         "0641832613",
         "Stuffed Animals & Plush Toys",
         "Mistletoe the Holiday Kitten Plush Toy",
         "True",
         "735062.0",
         "0",
         "[]",
         "497",
         "4.8",
         "5",
         "1.0",
         "0.0",
         "0.8",
         "2014-12-26 00:00:00",
         "2017-02-23 00:00:00",
         "790 days 00:00:00",
         "0",
         "5",
         "0.606348301874575",
         "5",
         "35.0",
         "176.8"
        ],
        [
         "36",
         "0681309016",
         "Arts & Crafts",
         "Strawberry Shortcake Coloring Book Multipack (Assorted, Designs Vary)",
         "False",
         "211556.0",
         "0",
         "[]",
         "498",
         "5.0",
         "5",
         "1.0",
         "0.0",
         "1.0",
         "2017-04-04 00:00:00",
         "2017-04-04 00:00:00",
         "0 days 00:00:00",
         "0",
         "1",
         "1.0",
         "1",
         "8.0",
         "36.0"
        ],
        [
         "37",
         "0681377453",
         "Learning & Education",
         "Days to Remember: A Journal of Lifetime Events",
         "True",
         "1135170.5045592706",
         "0",
         "[]",
         "499",
         "5.0",
         "5",
         "1.0",
         "0.0",
         "1.0",
         "2015-03-03 00:00:00",
         "2016-08-25 00:00:00",
         "541 days 00:00:00",
         "0",
         "2",
         "1.0",
         "2",
         "15.0",
         "81.0"
        ],
        [
         "38",
         "0681537329",
         "Arts & Crafts",
         "Darice Rainbow Grove Sticker Book (Owls, Butterflies, Peace Signs, &amp; Hearts) 286 Stickers",
         "True",
         "1845185.0",
         "0",
         "[]",
         "500",
         "5.0",
         "5",
         "1.0",
         "0.0",
         "1.0",
         "2014-12-18 00:00:00",
         "2017-12-28 00:00:00",
         "1106 days 00:00:00",
         "0",
         "2",
         "0.5018026876433956",
         "2",
         "8.0",
         "43.5"
        ],
        [
         "39",
         "0681859717",
         "Puzzles",
         "Charles Fazzino Jigsaw Puzzle &quot;Straight Flush Call My Bluff&quot;",
         "True",
         "1826101.0",
         "0",
         "[]",
         "501",
         "5.0",
         "5",
         "1.0",
         "0.0",
         "1.0",
         "2014-11-24 00:00:00",
         "2014-11-24 00:00:00",
         "0 days 00:00:00",
         "0",
         "1",
         "5.0",
         "1",
         "19.0",
         "106.0"
        ],
        [
         "40",
         "0681954116",
         "Puzzles",
         "Wall-E &amp; Eve",
         "True",
         "3855627.0",
         "0",
         "[]",
         "503",
         "4.0",
         "4",
         "1.0",
         "0.0",
         "1.0",
         "2012-05-30 00:00:00",
         "2012-05-30 00:00:00",
         "0 days 00:00:00",
         "0",
         "1",
         "1.0",
         "1",
         "67.0",
         "339.0"
        ],
        [
         "41",
         "0692489649",
         "Learning & Education",
         "&quot;Whoo is Ready for Bed?&quot; Children's Board Book and Plush Owl, 8&quot; x 8&quot; x 4&quot;",
         "True",
         "1717969.0",
         "0",
         "[]",
         "504",
         "5.0",
         "5",
         "1.0",
         "0.0",
         "0.5",
         "2016-03-23 00:00:00",
         "2016-05-10 00:00:00",
         "48 days 00:00:00",
         "0",
         "2",
         "0.5008605851979346",
         "2",
         "96.5",
         "515.0"
        ],
        [
         "42",
         "0692770445",
         "Novelty & Gag Toys",
         "STORY EGG The Easter Colorful Nesting Toy with Resurrection Book &ndash; Great Christian or Catholic Gift for Children",
         "False",
         "77398.0",
         "0",
         "[]",
         "506",
         "4.294871794871795",
         "5",
         "0.8205128205128205",
         "0.1282051282051282",
         "0.9230769230769231",
         "2017-03-06 00:00:00",
         "2018-04-30 00:00:00",
         "420 days 00:00:00",
         "0",
         "78",
         "0.8241685518069273",
         "78",
         "58.282051282051285",
         "309.8205128205128"
        ],
        [
         "43",
         "0710521790",
         "Arts & Crafts",
         "Set Of 4 paint With Water Books",
         "True",
         "1731296.0",
         "0",
         "[]",
         "507",
         "2.5",
         "5",
         "0.16666666666666666",
         "0.5",
         "1.0",
         "2012-12-10 00:00:00",
         "2014-05-01 00:00:00",
         "507 days 00:00:00",
         "0",
         "6",
         "0.8443977213061182",
         "6",
         "32.5",
         "178.33333333333334"
        ],
        [
         "44",
         "0735307946",
         "Puzzles",
         "Goodnight Moon Floor Puzzle",
         "True",
         "1981310.0",
         "0",
         "[]",
         "508",
         "4.666666666666667",
         "5",
         "1.0",
         "0.0",
         "0.6666666666666666",
         "2009-02-21 00:00:00",
         "2016-07-25 00:00:00",
         "2711 days 00:00:00",
         "0",
         "3",
         "0.6693566464918179",
         "3",
         "37.0",
         "189.33333333333334"
        ],
        [
         "45",
         "0735311536",
         "Learning & Education",
         "Mudpuppy - All About Languages Learning Wheel",
         "True",
         "2645946.0",
         "0",
         "[]",
         "509",
         "5.0",
         "5",
         "1.0",
         "0.0",
         "1.0",
         "2013-02-16 00:00:00",
         "2013-03-02 00:00:00",
         "14 days 00:00:00",
         "0",
         "2",
         "0.5016393442622951",
         "2",
         "30.0",
         "176.5"
        ],
        [
         "46",
         "0735307970",
         "Games",
         "Mudpuppy Pirates Play Scene Sticker Set",
         "True",
         "1808937.0",
         "0",
         "[]",
         "510",
         "5.0",
         "5",
         "1.0",
         "0.0",
         "1.0",
         "2011-10-10 00:00:00",
         "2011-10-10 00:00:00",
         "0 days 00:00:00",
         "0",
         "1",
         "0.006036217303822937",
         "1",
         "82.0",
         "475.0"
        ],
        [
         "47",
         "0735307601",
         "Dress Up & Pretend Play",
         "Mudpuppy World Traveler Magnetic Figure",
         "True",
         "1521733.0",
         "0",
         "[]",
         "511",
         "3.5",
         "5",
         "0.5",
         "0.25",
         "0.75",
         "2008-08-06 00:00:00",
         "2013-08-31 00:00:00",
         "1851 days 00:00:00",
         "0",
         "4",
         "0.7503848127244741",
         "4",
         "70.25",
         "371.0"
        ],
        [
         "48",
         "0735320721",
         "Puzzles",
         "Mudpuppy by Air, By Land, and By Sea 63 Piece puzzle",
         "True",
         "2800476.0",
         "0",
         "[]",
         "512",
         "5.0",
         "5",
         "1.0",
         "0.0",
         "1.0",
         "2010-04-15 00:00:00",
         "2010-04-15 00:00:00",
         "0 days 00:00:00",
         "0",
         "1",
         "1.0",
         "1",
         "75.0",
         "411.0"
        ],
        [
         "49",
         "073532204X",
         "Puzzles",
         "Mudpuppy Where The Wild Things Are Floor Puzzle",
         "False",
         "1344010.0",
         "0",
         "[]",
         "513",
         "4.0",
         "5",
         "0.8571428571428571",
         "0.14285714285714285",
         "0.8571428571428571",
         "2010-01-07 00:00:00",
         "2016-02-22 00:00:00",
         "2237 days 00:00:00",
         "0",
         "7",
         "0.29076635126094585",
         "7",
         "46.714285714285715",
         "240.57142857142858"
        ]
       ],
       "shape": {
        "columns": 22,
        "rows": 547718
       }
      },
      "text/html": [
       "<div>\n",
       "<style scoped>\n",
       "    .dataframe tbody tr th:only-of-type {\n",
       "        vertical-align: middle;\n",
       "    }\n",
       "\n",
       "    .dataframe tbody tr th {\n",
       "        vertical-align: top;\n",
       "    }\n",
       "\n",
       "    .dataframe thead th {\n",
       "        text-align: right;\n",
       "    }\n",
       "</style>\n",
       "<table border=\"1\" class=\"dataframe\">\n",
       "  <thead>\n",
       "    <tr style=\"text-align: right;\">\n",
       "      <th></th>\n",
       "      <th>asin</th>\n",
       "      <th>category</th>\n",
       "      <th>title</th>\n",
       "      <th>missing_price</th>\n",
       "      <th>item_rank</th>\n",
       "      <th>match</th>\n",
       "      <th>incident_indices</th>\n",
       "      <th>component_no</th>\n",
       "      <th>avg_rating</th>\n",
       "      <th>min_rating</th>\n",
       "      <th>...</th>\n",
       "      <th>avg_verified_reviewers</th>\n",
       "      <th>min_date</th>\n",
       "      <th>max_date</th>\n",
       "      <th>product_lifespan</th>\n",
       "      <th>num_bots_per_asin</th>\n",
       "      <th>unique_reviewer_count</th>\n",
       "      <th>avg_reviews_per_day</th>\n",
       "      <th>reviews_per_product</th>\n",
       "      <th>avg_review_length_words</th>\n",
       "      <th>avg_review_length_chars</th>\n",
       "    </tr>\n",
       "  </thead>\n",
       "  <tbody>\n",
       "    <tr>\n",
       "      <th>0</th>\n",
       "      <td>0000191639</td>\n",
       "      <td>Puzzles</td>\n",
       "      <td>Dr. Suess 19163 Dr. Seuss Puzzle 3 Pack Bundle</td>\n",
       "      <td>True</td>\n",
       "      <td>2230717.0</td>\n",
       "      <td>0</td>\n",
       "      <td>[]</td>\n",
       "      <td>449</td>\n",
       "      <td>5.000000</td>\n",
       "      <td>5</td>\n",
       "      <td>...</td>\n",
       "      <td>1.000000</td>\n",
       "      <td>2013-12-26</td>\n",
       "      <td>2013-12-26</td>\n",
       "      <td>0 days</td>\n",
       "      <td>0</td>\n",
       "      <td>1</td>\n",
       "      <td>3.000000</td>\n",
       "      <td>1</td>\n",
       "      <td>23.000000</td>\n",
       "      <td>125.000000</td>\n",
       "    </tr>\n",
       "    <tr>\n",
       "      <th>1</th>\n",
       "      <td>0004983289</td>\n",
       "      <td>Games</td>\n",
       "      <td>Dutch Blitz Card Game</td>\n",
       "      <td>False</td>\n",
       "      <td>376337.0</td>\n",
       "      <td>0</td>\n",
       "      <td>[]</td>\n",
       "      <td>452</td>\n",
       "      <td>4.800000</td>\n",
       "      <td>5</td>\n",
       "      <td>...</td>\n",
       "      <td>1.000000</td>\n",
       "      <td>2016-12-10</td>\n",
       "      <td>2018-03-28</td>\n",
       "      <td>473 days</td>\n",
       "      <td>0</td>\n",
       "      <td>5</td>\n",
       "      <td>0.801198</td>\n",
       "      <td>5</td>\n",
       "      <td>15.400000</td>\n",
       "      <td>107.200000</td>\n",
       "    </tr>\n",
       "    <tr>\n",
       "      <th>2</th>\n",
       "      <td>0020232233</td>\n",
       "      <td>Grown-Up Toys</td>\n",
       "      <td>Dungeons &amp;amp; Dragons - &amp;quot;Storm Kings Thu...</td>\n",
       "      <td>False</td>\n",
       "      <td>178217.0</td>\n",
       "      <td>0</td>\n",
       "      <td>[]</td>\n",
       "      <td>454</td>\n",
       "      <td>4.130435</td>\n",
       "      <td>5</td>\n",
       "      <td>...</td>\n",
       "      <td>0.782609</td>\n",
       "      <td>2016-09-12</td>\n",
       "      <td>2018-04-06</td>\n",
       "      <td>571 days</td>\n",
       "      <td>0</td>\n",
       "      <td>23</td>\n",
       "      <td>0.642518</td>\n",
       "      <td>23</td>\n",
       "      <td>59.260870</td>\n",
       "      <td>329.608696</td>\n",
       "    </tr>\n",
       "    <tr>\n",
       "      <th>3</th>\n",
       "      <td>0096737581</td>\n",
       "      <td>Arts &amp; Crafts</td>\n",
       "      <td>NUM NOMS figures Storage Case Organizer - hold...</td>\n",
       "      <td>True</td>\n",
       "      <td>989767.0</td>\n",
       "      <td>0</td>\n",
       "      <td>[]</td>\n",
       "      <td>455</td>\n",
       "      <td>2.333333</td>\n",
       "      <td>5</td>\n",
       "      <td>...</td>\n",
       "      <td>0.666667</td>\n",
       "      <td>2016-12-03</td>\n",
       "      <td>2017-07-08</td>\n",
       "      <td>217 days</td>\n",
       "      <td>0</td>\n",
       "      <td>3</td>\n",
       "      <td>0.671922</td>\n",
       "      <td>3</td>\n",
       "      <td>22.666667</td>\n",
       "      <td>126.000000</td>\n",
       "    </tr>\n",
       "    <tr>\n",
       "      <th>4</th>\n",
       "      <td>014002316X</td>\n",
       "      <td>Toy Remote Control &amp; Play Vehicles</td>\n",
       "      <td>UDI U806 Infrared Remote Control Helicopter W/...</td>\n",
       "      <td>True</td>\n",
       "      <td>3687991.0</td>\n",
       "      <td>0</td>\n",
       "      <td>[]</td>\n",
       "      <td>456</td>\n",
       "      <td>1.000000</td>\n",
       "      <td>1</td>\n",
       "      <td>...</td>\n",
       "      <td>1.000000</td>\n",
       "      <td>2015-09-25</td>\n",
       "      <td>2015-09-25</td>\n",
       "      <td>0 days</td>\n",
       "      <td>0</td>\n",
       "      <td>1</td>\n",
       "      <td>1.000000</td>\n",
       "      <td>1</td>\n",
       "      <td>12.000000</td>\n",
       "      <td>52.000000</td>\n",
       "    </tr>\n",
       "    <tr>\n",
       "      <th>...</th>\n",
       "      <td>...</td>\n",
       "      <td>...</td>\n",
       "      <td>...</td>\n",
       "      <td>...</td>\n",
       "      <td>...</td>\n",
       "      <td>...</td>\n",
       "      <td>...</td>\n",
       "      <td>...</td>\n",
       "      <td>...</td>\n",
       "      <td>...</td>\n",
       "      <td>...</td>\n",
       "      <td>...</td>\n",
       "      <td>...</td>\n",
       "      <td>...</td>\n",
       "      <td>...</td>\n",
       "      <td>...</td>\n",
       "      <td>...</td>\n",
       "      <td>...</td>\n",
       "      <td>...</td>\n",
       "      <td>...</td>\n",
       "      <td>...</td>\n",
       "    </tr>\n",
       "    <tr>\n",
       "      <th>547713</th>\n",
       "      <td>B01HJC53OE</td>\n",
       "      <td>Action Figures &amp; Statues</td>\n",
       "      <td>Marvel Funko Pop Black Suit Spider-Man #79 (Gl...</td>\n",
       "      <td>True</td>\n",
       "      <td>482069.0</td>\n",
       "      <td>0</td>\n",
       "      <td>[]</td>\n",
       "      <td>623284</td>\n",
       "      <td>4.500000</td>\n",
       "      <td>5</td>\n",
       "      <td>...</td>\n",
       "      <td>1.000000</td>\n",
       "      <td>2017-07-23</td>\n",
       "      <td>2018-03-09</td>\n",
       "      <td>229 days</td>\n",
       "      <td>0</td>\n",
       "      <td>4</td>\n",
       "      <td>1.010479</td>\n",
       "      <td>4</td>\n",
       "      <td>21.750000</td>\n",
       "      <td>109.750000</td>\n",
       "    </tr>\n",
       "    <tr>\n",
       "      <th>547714</th>\n",
       "      <td>B01HJDFWDK</td>\n",
       "      <td>Hobbies</td>\n",
       "      <td>Geilienergy 6V 2000mAh NiMH RX Battery Packs w...</td>\n",
       "      <td>False</td>\n",
       "      <td>350404.0</td>\n",
       "      <td>0</td>\n",
       "      <td>[]</td>\n",
       "      <td>623285</td>\n",
       "      <td>4.400000</td>\n",
       "      <td>5</td>\n",
       "      <td>...</td>\n",
       "      <td>0.966667</td>\n",
       "      <td>2016-10-06</td>\n",
       "      <td>2018-10-04</td>\n",
       "      <td>728 days</td>\n",
       "      <td>0</td>\n",
       "      <td>30</td>\n",
       "      <td>0.615794</td>\n",
       "      <td>30</td>\n",
       "      <td>16.333333</td>\n",
       "      <td>86.133333</td>\n",
       "    </tr>\n",
       "    <tr>\n",
       "      <th>547715</th>\n",
       "      <td>B01HJDGVFS</td>\n",
       "      <td>Sports &amp; Outdoor Play</td>\n",
       "      <td>Micord Baby Float Toddler Swimming Inflatable ...</td>\n",
       "      <td>True</td>\n",
       "      <td>652169.0</td>\n",
       "      <td>0</td>\n",
       "      <td>[]</td>\n",
       "      <td>623286</td>\n",
       "      <td>4.200000</td>\n",
       "      <td>5</td>\n",
       "      <td>...</td>\n",
       "      <td>1.000000</td>\n",
       "      <td>2016-08-26</td>\n",
       "      <td>2018-08-13</td>\n",
       "      <td>717 days</td>\n",
       "      <td>0</td>\n",
       "      <td>5</td>\n",
       "      <td>0.603825</td>\n",
       "      <td>5</td>\n",
       "      <td>11.600000</td>\n",
       "      <td>57.400000</td>\n",
       "    </tr>\n",
       "    <tr>\n",
       "      <th>547716</th>\n",
       "      <td>B01HJDUNRU</td>\n",
       "      <td>Sports &amp; Outdoor Play</td>\n",
       "      <td>Premium Swimming Pool Float Hammock, Inflatabl...</td>\n",
       "      <td>False</td>\n",
       "      <td>253066.0</td>\n",
       "      <td>0</td>\n",
       "      <td>[]</td>\n",
       "      <td>623287</td>\n",
       "      <td>4.222222</td>\n",
       "      <td>5</td>\n",
       "      <td>...</td>\n",
       "      <td>0.944444</td>\n",
       "      <td>2016-08-13</td>\n",
       "      <td>2018-09-05</td>\n",
       "      <td>753 days</td>\n",
       "      <td>0</td>\n",
       "      <td>36</td>\n",
       "      <td>0.760222</td>\n",
       "      <td>36</td>\n",
       "      <td>38.944444</td>\n",
       "      <td>204.194444</td>\n",
       "    </tr>\n",
       "    <tr>\n",
       "      <th>547717</th>\n",
       "      <td>B01HJFAGJI</td>\n",
       "      <td>Learning &amp; Education</td>\n",
       "      <td>Lewo Wooden Baby Toddler Toys Circle First Bea...</td>\n",
       "      <td>False</td>\n",
       "      <td>36248.0</td>\n",
       "      <td>0</td>\n",
       "      <td>[]</td>\n",
       "      <td>623288</td>\n",
       "      <td>3.753425</td>\n",
       "      <td>5</td>\n",
       "      <td>...</td>\n",
       "      <td>0.876712</td>\n",
       "      <td>2016-11-14</td>\n",
       "      <td>2018-09-26</td>\n",
       "      <td>681 days</td>\n",
       "      <td>0</td>\n",
       "      <td>73</td>\n",
       "      <td>0.515803</td>\n",
       "      <td>73</td>\n",
       "      <td>31.917808</td>\n",
       "      <td>165.767123</td>\n",
       "    </tr>\n",
       "  </tbody>\n",
       "</table>\n",
       "<p>547718 rows × 22 columns</p>\n",
       "</div>"
      ],
      "text/plain": [
       "              asin                            category  \\\n",
       "0       0000191639                             Puzzles   \n",
       "1       0004983289                               Games   \n",
       "2       0020232233                       Grown-Up Toys   \n",
       "3       0096737581                       Arts & Crafts   \n",
       "4       014002316X  Toy Remote Control & Play Vehicles   \n",
       "...            ...                                 ...   \n",
       "547713  B01HJC53OE            Action Figures & Statues   \n",
       "547714  B01HJDFWDK                             Hobbies   \n",
       "547715  B01HJDGVFS               Sports & Outdoor Play   \n",
       "547716  B01HJDUNRU               Sports & Outdoor Play   \n",
       "547717  B01HJFAGJI                Learning & Education   \n",
       "\n",
       "                                                    title  missing_price  \\\n",
       "0          Dr. Suess 19163 Dr. Seuss Puzzle 3 Pack Bundle           True   \n",
       "1                                   Dutch Blitz Card Game          False   \n",
       "2       Dungeons &amp; Dragons - &quot;Storm Kings Thu...          False   \n",
       "3       NUM NOMS figures Storage Case Organizer - hold...           True   \n",
       "4       UDI U806 Infrared Remote Control Helicopter W/...           True   \n",
       "...                                                   ...            ...   \n",
       "547713  Marvel Funko Pop Black Suit Spider-Man #79 (Gl...           True   \n",
       "547714  Geilienergy 6V 2000mAh NiMH RX Battery Packs w...          False   \n",
       "547715  Micord Baby Float Toddler Swimming Inflatable ...           True   \n",
       "547716  Premium Swimming Pool Float Hammock, Inflatabl...          False   \n",
       "547717  Lewo Wooden Baby Toddler Toys Circle First Bea...          False   \n",
       "\n",
       "        item_rank  match incident_indices  component_no  avg_rating  \\\n",
       "0       2230717.0      0               []           449    5.000000   \n",
       "1        376337.0      0               []           452    4.800000   \n",
       "2        178217.0      0               []           454    4.130435   \n",
       "3        989767.0      0               []           455    2.333333   \n",
       "4       3687991.0      0               []           456    1.000000   \n",
       "...           ...    ...              ...           ...         ...   \n",
       "547713   482069.0      0               []        623284    4.500000   \n",
       "547714   350404.0      0               []        623285    4.400000   \n",
       "547715   652169.0      0               []        623286    4.200000   \n",
       "547716   253066.0      0               []        623287    4.222222   \n",
       "547717    36248.0      0               []        623288    3.753425   \n",
       "\n",
       "        min_rating  ...  avg_verified_reviewers   min_date   max_date  \\\n",
       "0                5  ...                1.000000 2013-12-26 2013-12-26   \n",
       "1                5  ...                1.000000 2016-12-10 2018-03-28   \n",
       "2                5  ...                0.782609 2016-09-12 2018-04-06   \n",
       "3                5  ...                0.666667 2016-12-03 2017-07-08   \n",
       "4                1  ...                1.000000 2015-09-25 2015-09-25   \n",
       "...            ...  ...                     ...        ...        ...   \n",
       "547713           5  ...                1.000000 2017-07-23 2018-03-09   \n",
       "547714           5  ...                0.966667 2016-10-06 2018-10-04   \n",
       "547715           5  ...                1.000000 2016-08-26 2018-08-13   \n",
       "547716           5  ...                0.944444 2016-08-13 2018-09-05   \n",
       "547717           5  ...                0.876712 2016-11-14 2018-09-26   \n",
       "\n",
       "       product_lifespan num_bots_per_asin unique_reviewer_count  \\\n",
       "0                0 days                 0                     1   \n",
       "1              473 days                 0                     5   \n",
       "2              571 days                 0                    23   \n",
       "3              217 days                 0                     3   \n",
       "4                0 days                 0                     1   \n",
       "...                 ...               ...                   ...   \n",
       "547713         229 days                 0                     4   \n",
       "547714         728 days                 0                    30   \n",
       "547715         717 days                 0                     5   \n",
       "547716         753 days                 0                    36   \n",
       "547717         681 days                 0                    73   \n",
       "\n",
       "        avg_reviews_per_day  reviews_per_product  avg_review_length_words  \\\n",
       "0                  3.000000                    1                23.000000   \n",
       "1                  0.801198                    5                15.400000   \n",
       "2                  0.642518                   23                59.260870   \n",
       "3                  0.671922                    3                22.666667   \n",
       "4                  1.000000                    1                12.000000   \n",
       "...                     ...                  ...                      ...   \n",
       "547713             1.010479                    4                21.750000   \n",
       "547714             0.615794                   30                16.333333   \n",
       "547715             0.603825                    5                11.600000   \n",
       "547716             0.760222                   36                38.944444   \n",
       "547717             0.515803                   73                31.917808   \n",
       "\n",
       "        avg_review_length_chars  \n",
       "0                    125.000000  \n",
       "1                    107.200000  \n",
       "2                    329.608696  \n",
       "3                    126.000000  \n",
       "4                     52.000000  \n",
       "...                         ...  \n",
       "547713               109.750000  \n",
       "547714                86.133333  \n",
       "547715                57.400000  \n",
       "547716               204.194444  \n",
       "547717               165.767123  \n",
       "\n",
       "[547718 rows x 22 columns]"
      ]
     },
     "execution_count": 24,
     "metadata": {},
     "output_type": "execute_result"
    }
   ],
   "source": [
    "# Drop num_of_rating column as it is identical to reviews_per_product\n",
    "combined_df.drop(columns=['num_of_rating'])"
   ]
  },
  {
   "cell_type": "markdown",
   "id": "da6324d8",
   "metadata": {},
   "source": [
    "##### Add summary and review embeddings"
   ]
  },
  {
   "cell_type": "code",
   "execution_count": 25,
   "id": "eb884709",
   "metadata": {},
   "outputs": [],
   "source": [
    "# Load summary embeddings\n",
    "summary_embeddings=pd.read_pickle(\"../Data/agg_summary_embeddings.pkl\")\n",
    "\n",
    "# Verify no duplicated asins\n",
    "assert(summary_embeddings.asin.duplicated().unique()==[False])"
   ]
  },
  {
   "cell_type": "code",
   "execution_count": 26,
   "id": "67f9db5a",
   "metadata": {},
   "outputs": [],
   "source": [
    "combined_df=combined_df.merge(summary_embeddings,on='asin',how='left').set_axis(combined_df.index)"
   ]
  },
  {
   "cell_type": "code",
   "execution_count": 27,
   "id": "46ce9207",
   "metadata": {},
   "outputs": [],
   "source": [
    "# Load review embeddings\n",
    "review_embeddings=pd.read_pickle(\"../Data/reviewtext_features_df.pkl\")\n",
    "\n",
    "# Verify no duplicated asins\n",
    "assert(review_embeddings.asin.duplicated().unique()==[False])"
   ]
  },
  {
   "cell_type": "code",
   "execution_count": 28,
   "id": "88fb4931",
   "metadata": {},
   "outputs": [],
   "source": [
    "combined_df=combined_df.merge(review_embeddings,on='asin',how='left').set_axis(combined_df.index)"
   ]
  },
  {
   "cell_type": "markdown",
   "id": "d6bf8138",
   "metadata": {},
   "source": [
    "##### Randomly dropping items labelled zero"
   ]
  },
  {
   "cell_type": "markdown",
   "id": "0fc97c5a",
   "metadata": {},
   "source": [
    "To obtain a more manageable data set, we randomly drop items whose ``match`` column is zero."
   ]
  },
  {
   "cell_type": "code",
   "execution_count": 29,
   "id": "7e0f99c3",
   "metadata": {},
   "outputs": [
    {
     "name": "stdout",
     "output_type": "stream",
     "text": [
      "There are 546348 products labelled 0.\n",
      "There are 1370 products labelled 1.\n"
     ]
    }
   ],
   "source": [
    "num_zeros=(combined_df.match==0).sum()\n",
    "num_ones=(combined_df.match==1).sum()\n",
    "print(f\"There are {num_zeros} products labelled 0.\")\n",
    "print(f\"There are {num_ones} products labelled 1.\")"
   ]
  },
  {
   "cell_type": "code",
   "execution_count": 30,
   "id": "f345e410",
   "metadata": {},
   "outputs": [],
   "source": [
    "# This is the number of 0s in our final dataset.\n",
    "TARGET=200_000\n",
    "\n",
    "# Check TARGET is less than the total number of zeros\n",
    "assert(TARGET<num_zeros)"
   ]
  },
  {
   "cell_type": "code",
   "execution_count": 31,
   "id": "e2677994",
   "metadata": {},
   "outputs": [],
   "source": [
    "# indices of items labelled zero\n",
    "zero_indices=combined_df[combined_df.match==0].index\n",
    "# indices of items labelled one\n",
    "one_indices=combined_df[combined_df.match==1].index\n",
    "\n",
    "# random subset of TARGET items labelled zero\n",
    "rng=np.random.default_rng(seed=1067)\n",
    "random_subset=rng.choice(zero_indices,TARGET,replace=False)\n",
    "\n",
    "# total list of indices\n",
    "indices=np.concat([random_subset,one_indices])"
   ]
  },
  {
   "cell_type": "code",
   "execution_count": 32,
   "id": "bdbb97fb",
   "metadata": {},
   "outputs": [],
   "source": [
    "# Drop rows of combined_df with index not in indices\n",
    "combined_df=combined_df.loc[indices]"
   ]
  },
  {
   "cell_type": "code",
   "execution_count": 33,
   "id": "521816eb",
   "metadata": {},
   "outputs": [
    {
     "name": "stdout",
     "output_type": "stream",
     "text": [
      "match\n",
      "0    200000\n",
      "1      1370\n",
      "Name: count, dtype: int64\n"
     ]
    }
   ],
   "source": [
    "print(combined_df.match.value_counts())"
   ]
  },
  {
   "cell_type": "markdown",
   "id": "0ca00676",
   "metadata": {},
   "source": [
    "##### Stratified train-test split preserving groups"
   ]
  },
  {
   "cell_type": "code",
   "execution_count": 34,
   "id": "25159581",
   "metadata": {},
   "outputs": [],
   "source": [
    "from custom_ttsplit import StratifiedGroupSplit"
   ]
  },
  {
   "cell_type": "code",
   "execution_count": 35,
   "id": "ac6fe1c0",
   "metadata": {},
   "outputs": [],
   "source": [
    "df_train,df_test=StratifiedGroupSplit(combined_df,'match','component_no',test_size=0.2,random_state=1066)"
   ]
  },
  {
   "cell_type": "code",
   "execution_count": 36,
   "id": "68b31f7b",
   "metadata": {},
   "outputs": [
    {
     "data": {
      "text/plain": [
       "0.2"
      ]
     },
     "execution_count": 36,
     "metadata": {},
     "output_type": "execute_result"
    }
   ],
   "source": [
    "# Check test ratio\n",
    "df_test.shape[0]/combined_df.shape[0]"
   ]
  },
  {
   "cell_type": "code",
   "execution_count": 37,
   "id": "ffee2c58",
   "metadata": {},
   "outputs": [
    {
     "data": {
      "text/plain": [
       "0.0068033967323831756"
      ]
     },
     "execution_count": 37,
     "metadata": {},
     "output_type": "execute_result"
    }
   ],
   "source": [
    "# Check ratio of 1s in set before split\n",
    "combined_df[(combined_df.match)==1].shape[0]/combined_df.shape[0]"
   ]
  },
  {
   "cell_type": "code",
   "execution_count": 38,
   "id": "b3d6878c",
   "metadata": {},
   "outputs": [
    {
     "data": {
      "text/plain": [
       "0.0068033967323831756"
      ]
     },
     "execution_count": 38,
     "metadata": {},
     "output_type": "execute_result"
    }
   ],
   "source": [
    "# Check ratio of 1s in test set\n",
    "df_test[(df_test.match)==1].shape[0]/df_test.shape[0]"
   ]
  },
  {
   "cell_type": "code",
   "execution_count": 39,
   "id": "116c850b",
   "metadata": {},
   "outputs": [
    {
     "data": {
      "text/plain": [
       "0.0068033967323831756"
      ]
     },
     "execution_count": 39,
     "metadata": {},
     "output_type": "execute_result"
    }
   ],
   "source": [
    "# Check ratio of 1s in training set\n",
    "df_train[(df_train.match)==1].shape[0]/df_train.shape[0]"
   ]
  },
  {
   "cell_type": "markdown",
   "id": "8ae165d1",
   "metadata": {},
   "source": [
    "These numbers are all very close."
   ]
  },
  {
   "cell_type": "code",
   "execution_count": 40,
   "id": "338c0531",
   "metadata": {},
   "outputs": [],
   "source": [
    "# Check there are no component overlaps\n",
    "comps_in_test=set(df_test.component_no.unique())\n",
    "comps_in_train=set(df_train.component_no.unique())\n",
    "assert(comps_in_train.intersection(comps_in_test)==set())"
   ]
  },
  {
   "cell_type": "code",
   "execution_count": 41,
   "id": "8a877fcf",
   "metadata": {},
   "outputs": [],
   "source": [
    "# Do not change these files unless the train-test split is changed\n",
    "# df_train[['asin']].to_parquet(\"../Data/asins_in_splits/train_asins.parquet\",compression='gzip')\n",
    "# df_test[['asin']].to_parquet(\"../Data/asins_in_splits/test_asins.parquet\",compression='gzip')"
   ]
  },
  {
   "cell_type": "code",
   "execution_count": 42,
   "id": "ffb24de2",
   "metadata": {},
   "outputs": [],
   "source": [
    "# Check we haven't changed the train-test split asins from the split on 13 Jun\n",
    "saved_train=pd.read_parquet(\"../Data/asins_in_splits/train_asins.parquet\")\n",
    "saved_test=pd.read_parquet(\"../Data/asins_in_splits/test_asins.parquet\")\n",
    "assert(saved_train.shape[0]==df_train.shape[0])\n",
    "assert((saved_train.asin!=df_train.asin).sum()==0)\n",
    "assert(saved_test.shape[0]==df_test.shape[0])\n",
    "assert((saved_test.asin!=df_test.asin).sum()==0)"
   ]
  },
  {
   "cell_type": "markdown",
   "id": "a285630c",
   "metadata": {},
   "source": [
    "##### Save to compressed parquet"
   ]
  },
  {
   "cell_type": "markdown",
   "id": "809e8a41",
   "metadata": {},
   "source": [
    "##### Additional train_final,validation split"
   ]
  },
  {
   "cell_type": "code",
   "execution_count": 45,
   "id": "dfe23148",
   "metadata": {},
   "outputs": [],
   "source": [
    "df_train_final,df_validation=StratifiedGroupSplit(df_train,'match','component_no',test_size=0.2,random_state=1043)"
   ]
  },
  {
   "cell_type": "code",
   "execution_count": 46,
   "id": "c6c9859b",
   "metadata": {},
   "outputs": [
    {
     "data": {
      "text/plain": [
       "0.19999875850424592"
      ]
     },
     "execution_count": 46,
     "metadata": {},
     "output_type": "execute_result"
    }
   ],
   "source": [
    "# Check test ratio\n",
    "df_validation.shape[0]/df_train.shape[0]"
   ]
  },
  {
   "cell_type": "code",
   "execution_count": 47,
   "id": "f0eeeebe",
   "metadata": {},
   "outputs": [
    {
     "data": {
      "text/plain": [
       "0.0068033967323831756"
      ]
     },
     "execution_count": 47,
     "metadata": {},
     "output_type": "execute_result"
    }
   ],
   "source": [
    "# Check ratio of 1s in set before split\n",
    "df_train[(df_train.match)==1].shape[0]/df_train.shape[0]"
   ]
  },
  {
   "cell_type": "code",
   "execution_count": 48,
   "id": "313168fd",
   "metadata": {},
   "outputs": [
    {
     "data": {
      "text/plain": [
       "0.00679723144728266"
      ]
     },
     "execution_count": 48,
     "metadata": {},
     "output_type": "execute_result"
    }
   ],
   "source": [
    "# Check ratio of 1s in validation set\n",
    "df_validation[(df_validation.match)==1].shape[0]/df_validation.shape[0]"
   ]
  },
  {
   "cell_type": "code",
   "execution_count": 49,
   "id": "6a1140a5",
   "metadata": {},
   "outputs": [
    {
     "data": {
      "text/plain": [
       "0.006804938041698674"
      ]
     },
     "execution_count": 49,
     "metadata": {},
     "output_type": "execute_result"
    }
   ],
   "source": [
    "# Check ratio of 1s in train_final set\n",
    "df_train_final[(df_train_final.match)==1].shape[0]/df_train_final.shape[0]"
   ]
  },
  {
   "cell_type": "markdown",
   "id": "3b6b1d31",
   "metadata": {},
   "source": [
    "These numbers are all very close."
   ]
  },
  {
   "cell_type": "code",
   "execution_count": 50,
   "id": "9f147ab5",
   "metadata": {},
   "outputs": [],
   "source": [
    "# Check there are no component overlaps\n",
    "comps_in_train_final=set(df_train_final.component_no.unique())\n",
    "comps_in_valid=set(df_validation.component_no.unique())\n",
    "assert(comps_in_train_final.intersection(comps_in_valid)==set())"
   ]
  },
  {
   "cell_type": "code",
   "execution_count": 51,
   "id": "888cac0c",
   "metadata": {},
   "outputs": [],
   "source": [
    "# # Do not change these files unless the train-test split is changed\n",
    "# df_train_final[['asin']].to_parquet(\"../Data/asins_in_splits/train_final_asins.parquet\",compression='gzip')\n",
    "# df_validation[['asin']].to_parquet(\"../Data/asins_in_splits/validation_asins.parquet\",compression='gzip')"
   ]
  },
  {
   "cell_type": "code",
   "execution_count": 52,
   "id": "3c4d0159",
   "metadata": {},
   "outputs": [],
   "source": [
    "# Check we haven't changed the train_final,valid split asins from the split on 15 Jun\n",
    "saved_train_final=pd.read_parquet(\"../Data/asins_in_splits/train_final_asins.parquet\")\n",
    "saved_valid=pd.read_parquet(\"../Data/asins_in_splits/validation_asins.parquet\")\n",
    "assert(saved_train_final.shape[0]==df_train_final.shape[0])\n",
    "assert((saved_train_final.asin!=df_train_final.asin).sum()==0)\n",
    "assert(saved_valid.shape[0]==df_validation.shape[0])\n",
    "assert((saved_valid.asin!=df_validation.asin).sum()==0)"
   ]
  },
  {
   "cell_type": "markdown",
   "id": "c795e031",
   "metadata": {},
   "source": [
    "##### Drop uneeded columns"
   ]
  },
  {
   "cell_type": "code",
   "execution_count": 60,
   "id": "c40a9398",
   "metadata": {},
   "outputs": [],
   "source": [
    "columns=combined_df.columns"
   ]
  },
  {
   "cell_type": "code",
   "execution_count": 63,
   "id": "52c5226f",
   "metadata": {},
   "outputs": [
    {
     "data": {
      "text/plain": [
       "Index(['asin', 'category', 'title', 'missing_price', 'item_rank', 'match',\n",
       "       'incident_indices', 'component_no', 'avg_rating', 'min_rating',\n",
       "       'num_of_rating', 'percent_positive', 'percent_negative',\n",
       "       'avg_verified_reviewers', 'min_date', 'max_date', 'product_lifespan',\n",
       "       'num_bots_per_asin', 'unique_reviewer_count', 'avg_reviews_per_day',\n",
       "       'reviews_per_product', 'avg_review_length_words',\n",
       "       'avg_review_length_chars', 'embed_0', 'embed_1', 'embed_2', 'embed_3',\n",
       "       'embed_4', 'embed_5', 'embed_6'],\n",
       "      dtype='object')"
      ]
     },
     "execution_count": 63,
     "metadata": {},
     "output_type": "execute_result"
    }
   ],
   "source": [
    "columns[0:30]"
   ]
  },
  {
   "cell_type": "code",
   "execution_count": 77,
   "id": "3e363ef4",
   "metadata": {},
   "outputs": [
    {
     "name": "stdout",
     "output_type": "stream",
     "text": [
      "Columns to drop:\n",
      "Index(['asin', 'title', 'incident_indices', 'component_no', 'num_of_rating',\n",
      "       'avg_review_length_chars'],\n",
      "      dtype='object')\n"
     ]
    }
   ],
   "source": [
    "indices_to_drop=[0,2,6,7,10,22]\n",
    "print(\"Columns to drop:\")\n",
    "print(columns[indices_to_drop])"
   ]
  },
  {
   "cell_type": "code",
   "execution_count": 81,
   "id": "fc7c085d",
   "metadata": {},
   "outputs": [],
   "source": [
    "combined_df=combined_df[[col for i,col in enumerate(columns) if i not in indices_to_drop ]]"
   ]
  },
  {
   "cell_type": "markdown",
   "id": "20da1f03",
   "metadata": {},
   "source": [
    "##### Save to parquet files"
   ]
  },
  {
   "cell_type": "code",
   "execution_count": 82,
   "id": "5e2a6ed9",
   "metadata": {},
   "outputs": [],
   "source": [
    "# df_train.to_parquet(\"../Data/train_v.parquet\", compression='gzip')"
   ]
  },
  {
   "cell_type": "code",
   "execution_count": 83,
   "id": "9859ce6f",
   "metadata": {},
   "outputs": [],
   "source": [
    "df_test.to_parquet(\"../Data/test_v2.parquet\", compression='gzip')"
   ]
  },
  {
   "cell_type": "code",
   "execution_count": 84,
   "id": "2038aad2",
   "metadata": {},
   "outputs": [],
   "source": [
    "df_train_final.to_parquet(\"../Data/train_final_v2.parquet\", compression='gzip')"
   ]
  },
  {
   "cell_type": "code",
   "execution_count": 85,
   "id": "075015b5",
   "metadata": {},
   "outputs": [],
   "source": [
    "df_validation.to_parquet(\"../Data/validation_v2.parquet\", compression='gzip')"
   ]
  },
  {
   "cell_type": "code",
   "execution_count": null,
   "id": "cac6d0f2",
   "metadata": {},
   "outputs": [],
   "source": [
    "# # Save md5sums of files\n",
    "# import hashlib\n",
    "\n",
    "# def calculate_md5(filepath):\n",
    "#     md5_hash = hashlib.md5()\n",
    "#     with open(filepath, \"rb\") as file:\n",
    "#         # Read the file in chunks to handle large files\n",
    "#         for chunk in iter(lambda: file.read(4096), b\"\"):\n",
    "#             md5_hash.update(chunk)\n",
    "#     return md5_hash.hexdigest()\n",
    "\n",
    "# os.chdir(\"../Data/\")\n",
    "# file_list=[\"test_v2.parquet\",\"train_final_v2.parquet\",\"validation_v2.parquet\"]\n",
    "# output_file = \"../Data/md5_checksums.txt\"\n",
    "# with open(output_file, \"w\") as f:\n",
    "#     for file_path in file_list:\n",
    "#         md5_value = calculate_md5(file_path)\n",
    "#         f.write(f\"{md5_value}  {file_path}\\n\")\n",
    "# os.chdir(\"../feature_extractions\")"
   ]
  },
  {
   "cell_type": "code",
   "execution_count": null,
   "id": "72cf5e6f",
   "metadata": {},
   "outputs": [],
   "source": []
  }
 ],
 "metadata": {
  "kernelspec": {
   "display_name": "erdos_summer_2025",
   "language": "python",
   "name": "python3"
  },
  "language_info": {
   "codemirror_mode": {
    "name": "ipython",
    "version": 3
   },
   "file_extension": ".py",
   "mimetype": "text/x-python",
   "name": "python",
   "nbconvert_exporter": "python",
   "pygments_lexer": "ipython3",
   "version": "3.12.11"
  }
 },
 "nbformat": 4,
 "nbformat_minor": 5
}
