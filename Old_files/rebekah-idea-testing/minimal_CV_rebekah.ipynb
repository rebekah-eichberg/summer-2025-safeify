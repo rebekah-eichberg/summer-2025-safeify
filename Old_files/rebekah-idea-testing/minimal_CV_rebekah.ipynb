{
 "cells": [
  {
   "cell_type": "code",
   "execution_count": null,
   "id": "4cb38f9c",
   "metadata": {},
   "outputs": [],
   "source": [
    "import pandas as pd\n",
    "import numpy as np"
   ]
  },
  {
   "cell_type": "code",
   "execution_count": null,
   "id": "b445befd",
   "metadata": {},
   "outputs": [],
   "source": [
    "train=pd.read_parquet(\"../train_final_v3.parquet\")\n",
    "valid=pd.read_parquet(\"../validationA_v3.parquet\")"
   ]
  },
  {
   "cell_type": "code",
   "execution_count": null,
   "id": "db06eaa5",
   "metadata": {},
   "outputs": [],
   "source": [
    "features=[col for col in train.columns if col!='match']\n",
    "\n",
    "X_train=train[features]\n",
    "y_train=train.match\n",
    "\n",
    "X_val=valid[features]\n",
    "y_val=valid.match"
   ]
  },
  {
   "cell_type": "code",
   "execution_count": null,
   "id": "bf2351b3",
   "metadata": {},
   "outputs": [],
   "source": [
    "# Group columns by data_type\n",
    "from pandas.api.types import is_numeric_dtype, is_bool_dtype,is_datetime64_any_dtype,is_timedelta64_dtype,is_categorical_dtype,is_object_dtype\n",
    "summary_embedding_cols=[col for col in features if col[0:6]=='embed_']\n",
    "review_embedding_cols=[col for col in features if col[0:10]=='embedding_']\n",
    "bool_cols=[col for col in X_train.columns if is_bool_dtype(X_train[col])]\n",
    "datetime_cols=[col for col in X_train.columns if is_datetime64_any_dtype(X_train[col])]\n",
    "timedelta_cols=[col for col in X_train.columns if is_timedelta64_dtype(X_train[col])]\n",
    "numerical_cols=[col for col in X_train.columns if is_numeric_dtype(X_train[col]) and col not in review_embedding_cols+summary_embedding_cols+bool_cols]\n",
    "categorical_cols=[col for col in X_train.columns if is_object_dtype(X_train[col])]"
   ]
  },
  {
   "cell_type": "code",
   "execution_count": null,
   "id": "18a70744",
   "metadata": {},
   "outputs": [],
   "source": [
    "from sklearn.pipeline import make_pipeline\n",
    "from sklearn.compose import make_column_transformer\n",
    "from sklearn.preprocessing import OneHotEncoder,StandardScaler,FunctionTransformer\n",
    "from sklearn.linear_model import LogisticRegression\n",
    "from sklearn.decomposition import PCA\n",
    "from sklearn.model_selection import GridSearchCV"
   ]
  },
  {
   "cell_type": "code",
   "execution_count": null,
   "id": "21f9444b",
   "metadata": {},
   "outputs": [],
   "source": [
    "from sklearn.metrics import (classification_report,ConfusionMatrixDisplay,\n",
    "                             balanced_accuracy_score,precision_recall_curve,\n",
    "                             make_scorer,average_precision_score)\n",
    "from sklearn.utils.class_weight import compute_sample_weight\n",
    "import matplotlib.pylab as plt\n",
    "def evaluate(model,y_true_train,y_pred_train,y_true_val,y_pred_val,y_pred_val_proba):\n",
    "    # Get coefficients of fitted model\n",
    "    coefficients=pd.DataFrame({\n",
    "        'feature':model[-3].get_feature_names_out(),\n",
    "        'coefficient':model[-1].coef_[0]}) \n",
    "\n",
    "    # Metrics on training data\n",
    "    print(f\"On training data:\")\n",
    "    bal_ac=balanced_accuracy_score(y_true_train,y_pred_train)\n",
    "    print(f\"Balanced accuracy score: {bal_ac}\")\n",
    "    report=classification_report(y_true_train,y_pred_train)\n",
    "    print(report)\n",
    "    ConfusionMatrixDisplay.from_predictions(y_true_train,y_pred_train)\n",
    "    plt.show()\n",
    "    \n",
    "    # Metrics on validation data\n",
    "    bal_ac=balanced_accuracy_score(y_true_val,y_pred_val)\n",
    "    print(f\"On validation data:\")\n",
    "    # print(f\"Accuracy score: {acc}\")\n",
    "    # print(f\"Balanced accuracy score: {bal_ac}\")\n",
    "    # print(f\"F1 score: {f1}\")\n",
    "    report=classification_report(y_true_val,y_pred_val)\n",
    "    print(report)\n",
    "    ConfusionMatrixDisplay.from_predictions(y_true_val,y_pred_val)\n",
    "    plt.show()\n",
    "\n",
    "\n",
    "    plt.figure(figsize=(10, 6))\n",
    "    plt.barh(range(30), coefficients.coefficient)\n",
    "    plt.yticks(range(30), coefficients.feature)\n",
    "    plt.title(\"Top Logistic Regression Coefficients\")\n",
    "    plt.axvline(0, color='black', linestyle='--', linewidth=0.7)\n",
    "    plt.tight_layout()\n",
    "    plt.show()\n",
    "\n",
    "\n",
    "\n",
    "    sample_weights = compute_sample_weight(class_weight='balanced', y=y_true_val)\n",
    "\n",
    "    # Compute weighted precision-recall\n",
    "    precision, recall, thresholds = precision_recall_curve(y_true_val, y_pred_val_proba, sample_weight=sample_weights)\n",
    "\n",
    "    # No-skill line: weighted proportion of positives\n",
    "    no_skill = np.average(y_true_val, weights=sample_weights)\n",
    "\n",
    "    # Plot\n",
    "    plt.figure(figsize=(8, 6))\n",
    "    plt.plot(recall, precision, label='Weighted PR Curve')\n",
    "    plt.hlines(no_skill, 0, 1, colors='r', linestyles='--', label='No Skill (Weighted)')\n",
    "    plt.xlabel('Recall')\n",
    "    plt.ylabel('Precision')\n",
    "    plt.title('Weighted Precision-Recall Curve')\n",
    "    plt.legend()\n",
    "    plt.grid(True)\n",
    "    plt.tight_layout()\n",
    "    plt.show()"
   ]
  },
  {
   "cell_type": "code",
   "execution_count": null,
   "id": "b53891f4",
   "metadata": {},
   "outputs": [],
   "source": [
    "# Initialize the pre-determined kfold generator, to be used in GridSearchCV etc.\n",
    "# IMPORTANT: This can only be used a model fitted on (X,y) \n",
    "# whenever rows of X correspond to rows of X_train\n",
    "\n",
    "import sys\n",
    "sys.path.insert(0, '../Data/')\n",
    "from get_cv_split import PredefinedKFold\n",
    "split_data=pd.read_parquet(\"../Data/CV_val_split.parquet\")\n",
    "assert((split_data.index==X_train.index).all()) # Sanity check to verify indices of X_train match up with indices of split_data\n",
    "kfold=PredefinedKFold(split_data)"
   ]
  },
  {
   "cell_type": "code",
   "execution_count": null,
   "id": "96c40bc0",
   "metadata": {},
   "outputs": [],
   "source": [
    "column_preprocessing=make_column_transformer(\n",
    "    (OneHotEncoder(feature_name_combiner='concat'),['category']),\n",
    "    (PCA(n_components=20),review_embedding_cols),\n",
    "    (PCA(n_components=20),summary_embedding_cols),\n",
    "    ('drop',datetime_cols+timedelta_cols),\n",
    "    remainder='passthrough'\n",
    ")\n",
    "log_reg=LogisticRegression(class_weight='balanced')\n",
    "model_cv=make_pipeline(\n",
    "    column_preprocessing,\n",
    "    StandardScaler(),\n",
    "    log_reg\n",
    "    )\n",
    "model_cv"
   ]
  },
  {
   "cell_type": "code",
   "execution_count": null,
   "id": "bea96039",
   "metadata": {},
   "outputs": [],
   "source": [
    "\n",
    "def weighted_pr_auc(y_true, y_pred_proba, **kwargs):\n",
    "    from sklearn.metrics import average_precision_score\n",
    "    return average_precision_score(y_true, y_pred_proba, average='weighted')\n",
    "\n",
    "weighted_pr_auc_scorer = make_scorer(weighted_pr_auc, needs_proba=True)"
   ]
  },
  {
   "cell_type": "code",
   "execution_count": null,
   "id": "1353e5b7",
   "metadata": {},
   "outputs": [],
   "source": [
    "def GridSearchComponennts(scorer):\n",
    "    final_model = GridSearchCV(\n",
    "    model_cv,\n",
    "    param_grid={\n",
    "    'columntransformer__pca-1__n_components':[0,5,10,20,50,100],\n",
    "    'columntransformer__pca-2__n_components':[0,5,10,20,50,100]\n",
    "    },\n",
    "    scoring=scorer,\n",
    "    cv=kfold\n",
    "    )\n",
    "    final_model.fit(X_train,y_train)\n",
    "    y_pred_tt=final_model.predict(X_train)\n",
    "    y_pred_val=final_model.predict(X_val)\n",
    "    y_pred_val_proba=final_model.predict_proba(X_val)[:,1]\n",
    "    for x,y in final_model.best_params_.items():\n",
    "        print(f\"{x}: {y}\")\n",
    "    evaluate(final_model.best_estimator_,y_train,y_pred_tt,y_val,y_pred_val,y_pred_val_proba)"
   ]
  },
  {
   "cell_type": "code",
   "execution_count": null,
   "id": "9455013e",
   "metadata": {},
   "outputs": [],
   "source": [
    "GridSearchComponennts(weighted_pr_auc_scorer)"
   ]
  },
  {
   "cell_type": "code",
   "execution_count": null,
   "id": "b6c95f73",
   "metadata": {},
   "outputs": [],
   "source": [
    "GridSearchComponennts('f1')"
   ]
  },
  {
   "cell_type": "code",
   "execution_count": null,
   "id": "e1a8b8ce",
   "metadata": {},
   "outputs": [],
   "source": [
    "GridSearchComponennts('recall')"
   ]
  }
 ],
 "metadata": {
  "kernelspec": {
   "display_name": "erdos_summer_2025",
   "language": "python",
   "name": "python3"
  },
  "language_info": {
   "codemirror_mode": {
    "name": "ipython",
    "version": 3
   },
   "file_extension": ".py",
   "mimetype": "text/x-python",
   "name": "python",
   "nbconvert_exporter": "python",
   "pygments_lexer": "ipython3",
   "version": "3.12.10"
  }
 },
 "nbformat": 4,
 "nbformat_minor": 5
}
