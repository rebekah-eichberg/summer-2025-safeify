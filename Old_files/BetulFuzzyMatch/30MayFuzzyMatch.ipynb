{
 "cells": [
  {
   "cell_type": "code",
   "execution_count": 1,
   "id": "3629c4af-fd16-400c-8c78-6f1502ad1d3e",
   "metadata": {},
   "outputs": [],
   "source": [
    "import pandas as pd\n",
    "import numpy as np\n",
    "from rapidfuzz import fuzz"
   ]
  },
  {
   "cell_type": "markdown",
   "id": "927bd079-e3d4-4fa8-ae44-dc6184625095",
   "metadata": {},
   "source": [
    "# Amazon Meta Data"
   ]
  },
  {
   "cell_type": "code",
   "execution_count": 3,
   "id": "8c52abef-d2c7-45c6-a786-ec7f8e498c22",
   "metadata": {},
   "outputs": [],
   "source": [
    "file_path = 'Data/amazon_meta.json'  \n",
    "amazon_df = pd.read_json(file_path, lines=True, compression=None)"
   ]
  },
  {
   "cell_type": "code",
   "execution_count": 4,
   "id": "7ee0acb2-6133-45dc-82c0-b6a185f937d1",
   "metadata": {},
   "outputs": [
    {
     "name": "stdout",
     "output_type": "stream",
     "text": [
      "📦 Total products in the dataset: 633883\n"
     ]
    }
   ],
   "source": [
    "print(f\"📦 Total products in the dataset: {len(amazon_df)}\")"
   ]
  },
  {
   "cell_type": "markdown",
   "id": "fa4e7f03-c0e2-4462-b79b-60bb9c826e1f",
   "metadata": {},
   "source": [
    "# Incidents Data"
   ]
  },
  {
   "cell_type": "code",
   "execution_count": 5,
   "id": "d1275ba3-bb7a-4681-950b-ac8acbf36830",
   "metadata": {},
   "outputs": [],
   "source": [
    "df_arts = pd.read_csv('Data/Toysandchildren_ArtsandCrafts.csv', skiprows=2)\n",
    "df_riding = pd.read_csv('Data/Toysandchildren_Riding_Toys.csv', skiprows=1)\n",
    "df_toys = pd.read_csv('Data/Toysandchildren_Toys.csv', skiprows=1)"
   ]
  },
  {
   "cell_type": "code",
   "execution_count": 6,
   "id": "ee192445-0747-4a24-9634-cccd0dc39478",
   "metadata": {},
   "outputs": [
    {
     "name": "stdout",
     "output_type": "stream",
     "text": [
      "Combined recall records: 2514\n",
      "Columns: ['Report No.', 'Report Date', 'Sent to Manufacturer / Importer / Private Labeler', 'Publication Date', 'Category of Submitter', 'Product Description', 'Product Category', 'Product Sub Category', 'Product Type', 'Product Code', 'Manufacturer / Importer / Private Labeler Name', 'Brand', 'Model Name or Number', 'Serial Number', 'UPC', 'Date Manufactured', 'Manufacturer Date Code', 'Retailer', 'Retailer State', 'Purchase Date', 'Purchase Date Is Estimate', 'Incident Description', 'City', 'State', 'ZIP', 'Location', '(Primary) Victim Severity', \"(Primary) Victim's Sex\", 'My Relation To The (Primary) Victim', \"(Primary) Victim's Age (years)\", 'Submitter Has Product', 'Product Was Damaged Before Incident', 'Damage Description', 'Damage Repaired', 'Product Was Modified Before Incident', 'Have You Contacted The Manufacturer', 'If Not Do You Plan To', 'Answer Explanation', 'Company Comments', 'Associated Report Numbers']\n"
     ]
    },
    {
     "data": {
      "text/html": [
       "<div>\n",
       "<style scoped>\n",
       "    .dataframe tbody tr th:only-of-type {\n",
       "        vertical-align: middle;\n",
       "    }\n",
       "\n",
       "    .dataframe tbody tr th {\n",
       "        vertical-align: top;\n",
       "    }\n",
       "\n",
       "    .dataframe thead th {\n",
       "        text-align: right;\n",
       "    }\n",
       "</style>\n",
       "<table border=\"1\" class=\"dataframe\">\n",
       "  <thead>\n",
       "    <tr style=\"text-align: right;\">\n",
       "      <th></th>\n",
       "      <th>Report No.</th>\n",
       "      <th>Report Date</th>\n",
       "      <th>Sent to Manufacturer / Importer / Private Labeler</th>\n",
       "      <th>Publication Date</th>\n",
       "      <th>Category of Submitter</th>\n",
       "      <th>Product Description</th>\n",
       "      <th>Product Category</th>\n",
       "      <th>Product Sub Category</th>\n",
       "      <th>Product Type</th>\n",
       "      <th>Product Code</th>\n",
       "      <th>...</th>\n",
       "      <th>Submitter Has Product</th>\n",
       "      <th>Product Was Damaged Before Incident</th>\n",
       "      <th>Damage Description</th>\n",
       "      <th>Damage Repaired</th>\n",
       "      <th>Product Was Modified Before Incident</th>\n",
       "      <th>Have You Contacted The Manufacturer</th>\n",
       "      <th>If Not Do You Plan To</th>\n",
       "      <th>Answer Explanation</th>\n",
       "      <th>Company Comments</th>\n",
       "      <th>Associated Report Numbers</th>\n",
       "    </tr>\n",
       "  </thead>\n",
       "  <tbody>\n",
       "    <tr>\n",
       "      <th>0</th>\n",
       "      <td>20231002-D13C7-2147344911</td>\n",
       "      <td>10/2/2023</td>\n",
       "      <td>10/27/2023</td>\n",
       "      <td>11/20/2023</td>\n",
       "      <td>Consumer</td>\n",
       "      <td>Slime globe with colored spheres which resembl...</td>\n",
       "      <td>Toys &amp; Children</td>\n",
       "      <td>Arts &amp; Crafts</td>\n",
       "      <td>Molding Compounds (1376)</td>\n",
       "      <td>1376</td>\n",
       "      <td>...</td>\n",
       "      <td>NaN</td>\n",
       "      <td>NaN</td>\n",
       "      <td>NaN</td>\n",
       "      <td>NaN</td>\n",
       "      <td>NaN</td>\n",
       "      <td>NaN</td>\n",
       "      <td>NaN</td>\n",
       "      <td>NaN</td>\n",
       "      <td>TOYSMITH: Thank you for the opportunity to rev...</td>\n",
       "      <td>NaN</td>\n",
       "    </tr>\n",
       "    <tr>\n",
       "      <th>1</th>\n",
       "      <td>20180126-BBF18-2147393362</td>\n",
       "      <td>1/26/2018</td>\n",
       "      <td>4/13/2018</td>\n",
       "      <td>4/27/2018</td>\n",
       "      <td>Consumer</td>\n",
       "      <td>Slime kit from Nickelodeon by Cra-Z-Art</td>\n",
       "      <td>Toys &amp; Children</td>\n",
       "      <td>Arts &amp; Crafts</td>\n",
       "      <td>Molding Compounds (1376)</td>\n",
       "      <td>1376</td>\n",
       "      <td>...</td>\n",
       "      <td>Yes</td>\n",
       "      <td>No</td>\n",
       "      <td>NaN</td>\n",
       "      <td>NaN</td>\n",
       "      <td>No</td>\n",
       "      <td>Yes</td>\n",
       "      <td>NaN</td>\n",
       "      <td>I already have explained.</td>\n",
       "      <td>We at Cra-Z-Art® are very sorry that the cons...</td>\n",
       "      <td>NaN</td>\n",
       "    </tr>\n",
       "    <tr>\n",
       "      <th>2</th>\n",
       "      <td>20141231-7C153-2147437145</td>\n",
       "      <td>12/31/2014</td>\n",
       "      <td>1/9/2015</td>\n",
       "      <td>1/26/2015</td>\n",
       "      <td>Consumer</td>\n",
       "      <td>Lalaloopsy Color Me Doll ( Squiggles N. Shapes...</td>\n",
       "      <td>Toys &amp; Children</td>\n",
       "      <td>Arts &amp; Crafts</td>\n",
       "      <td>Crayons or Chalk (5010)</td>\n",
       "      <td>5010</td>\n",
       "      <td>...</td>\n",
       "      <td>NaN</td>\n",
       "      <td>NaN</td>\n",
       "      <td>NaN</td>\n",
       "      <td>NaN</td>\n",
       "      <td>NaN</td>\n",
       "      <td>No</td>\n",
       "      <td>No</td>\n",
       "      <td>NaN</td>\n",
       "      <td>The chalk markers included with this item are ...</td>\n",
       "      <td>NaN</td>\n",
       "    </tr>\n",
       "  </tbody>\n",
       "</table>\n",
       "<p>3 rows × 40 columns</p>\n",
       "</div>"
      ],
      "text/plain": [
       "                  Report No. Report Date  \\\n",
       "0  20231002-D13C7-2147344911   10/2/2023   \n",
       "1  20180126-BBF18-2147393362   1/26/2018   \n",
       "2  20141231-7C153-2147437145  12/31/2014   \n",
       "\n",
       "  Sent to Manufacturer / Importer / Private Labeler Publication Date  \\\n",
       "0                                        10/27/2023       11/20/2023   \n",
       "1                                         4/13/2018        4/27/2018   \n",
       "2                                          1/9/2015        1/26/2015   \n",
       "\n",
       "  Category of Submitter                                Product Description  \\\n",
       "0              Consumer  Slime globe with colored spheres which resembl...   \n",
       "1              Consumer            Slime kit from Nickelodeon by Cra-Z-Art   \n",
       "2              Consumer  Lalaloopsy Color Me Doll ( Squiggles N. Shapes...   \n",
       "\n",
       "  Product Category Product Sub Category              Product Type  \\\n",
       "0  Toys & Children        Arts & Crafts  Molding Compounds (1376)   \n",
       "1  Toys & Children        Arts & Crafts  Molding Compounds (1376)   \n",
       "2  Toys & Children        Arts & Crafts   Crayons or Chalk (5010)   \n",
       "\n",
       "   Product Code  ... Submitter Has Product  \\\n",
       "0          1376  ...                   NaN   \n",
       "1          1376  ...                   Yes   \n",
       "2          5010  ...                   NaN   \n",
       "\n",
       "  Product Was Damaged Before Incident Damage Description Damage Repaired  \\\n",
       "0                                 NaN                NaN             NaN   \n",
       "1                                  No                NaN             NaN   \n",
       "2                                 NaN                NaN             NaN   \n",
       "\n",
       "  Product Was Modified Before Incident Have You Contacted The Manufacturer  \\\n",
       "0                                  NaN                                 NaN   \n",
       "1                                   No                                 Yes   \n",
       "2                                  NaN                                  No   \n",
       "\n",
       "  If Not Do You Plan To         Answer Explanation  \\\n",
       "0                   NaN                        NaN   \n",
       "1                   NaN  I already have explained.   \n",
       "2                    No                        NaN   \n",
       "\n",
       "                                    Company Comments Associated Report Numbers  \n",
       "0  TOYSMITH: Thank you for the opportunity to rev...                       NaN  \n",
       "1   We at Cra-Z-Art® are very sorry that the cons...                       NaN  \n",
       "2  The chalk markers included with this item are ...                       NaN  \n",
       "\n",
       "[3 rows x 40 columns]"
      ]
     },
     "execution_count": 6,
     "metadata": {},
     "output_type": "execute_result"
    }
   ],
   "source": [
    "recalls_df = pd.concat([df_arts, df_riding, df_toys], ignore_index=True)\n",
    "# Preview\n",
    "print(\"Combined recall records:\", len(recalls_df))\n",
    "print(\"Columns:\", recalls_df.columns.tolist())\n",
    "recalls_df.head(3)"
   ]
  },
  {
   "cell_type": "markdown",
   "id": "a8dcbbfc-e5bd-4e0f-99fd-fb48e4fadbc7",
   "metadata": {},
   "source": [
    "# Three Different Methods to Find Amazon Data Labels:"
   ]
  },
  {
   "cell_type": "markdown",
   "id": "f7af637b-116c-4ac5-add3-e5f8c50c2f06",
   "metadata": {},
   "source": [
    "### Method 1: Restrict Matching by Brand First, Then Match by Title\r\n",
    "\r\n",
    "In this method, products are first filtered based on brand similarity. Only those that pass the brand threshold are then compared by title to determine a final matc.\r\n"
   ]
  },
  {
   "cell_type": "code",
   "execution_count": 7,
   "id": "eeb912b5-c055-47a8-8394-b099dbfd09d0",
   "metadata": {},
   "outputs": [],
   "source": [
    "def match_amazon_by_brand(\n",
    "    amazon_df: pd.DataFrame,\n",
    "    recalls_df: pd.DataFrame,\n",
    "    score_threshold: int = 90\n",
    ") -> dict[str, tuple[pd.DataFrame, pd.DataFrame, list[int]]]:\n",
    "    \"\"\"\n",
    "    For each unique brand in recalls_df, find all amazon_df rows whose\n",
    "    'brand' fuzzy-matches at or above score_threshold.\n",
    "    Returns a dict mapping recall_brand -> (recall_rows_df, matching_amazon_rows_df, global_recall_indices).\n",
    "    \"\"\"\n",
    "    amazon = amazon_df.copy()\n",
    "    recalls = recalls_df.copy()\n",
    "\n",
    "    amazon['brand'] = amazon['brand'].astype(str).str.lower().str.strip()\n",
    "    recalls['Brand'] = recalls['Brand'].astype(str).str.lower().str.strip()\n",
    "\n",
    "    matched = {}\n",
    "\n",
    "    for recall_brand in recalls['Brand'].dropna().unique():\n",
    "        mask = amazon['brand'].apply(\n",
    "            lambda x: fuzz.token_sort_ratio(x, recall_brand) >= score_threshold\n",
    "        )\n",
    "        amazon_matches = amazon[mask]\n",
    "        recall_rows = recalls[recalls['Brand'] == recall_brand]\n",
    "\n",
    "        if not amazon_matches.empty:\n",
    "            # ✅ capture the *original recall indices*\n",
    "            global_indices = recall_rows.index.tolist()\n",
    "            matched[recall_brand] = (recall_rows.copy(), amazon_matches.copy(), global_indices)\n",
    "\n",
    "    print(f\"✅ Found matches for {len(matched)} recall-brand entries.\")\n",
    "    return matched\n",
    "\n",
    "\n",
    "def tag_amazon_by_description(\n",
    "    amazon_df: pd.DataFrame,\n",
    "    matched_by_brand: dict[str, tuple[pd.DataFrame, pd.DataFrame, list[int]]],\n",
    "    desc_score_threshold: int = 80\n",
    ") -> pd.DataFrame:\n",
    "    \"\"\"\n",
    "    Tag each amazon row with:\n",
    "    - 'Is match' = 1 if title matches any recall description\n",
    "    - 'matched_recall_indices' = list of original recalls_df indices\n",
    "    \"\"\"\n",
    "    amazon = amazon_df.copy()\n",
    "    amazon['Is match'] = 0\n",
    "    amazon['matched_recall_indices'] = [[] for _ in range(len(amazon))]\n",
    "\n",
    "    for recall_brand, (recall_rows, amazon_matches, global_recall_indices) in matched_by_brand.items():\n",
    "        recall_descs = recall_rows['Product Description'].astype(str).fillna(\"\").str.lower().str.strip()\n",
    "        amazon_titles = amazon_matches['title'].astype(str).fillna(\"\").str.lower().str.strip()\n",
    "\n",
    "        for local_recall_i, recall_desc in enumerate(recall_descs):\n",
    "            global_recall_i = global_recall_indices[local_recall_i]  # map local to global index\n",
    "            for amazon_i, title in amazon_titles.items():\n",
    "                if fuzz.token_set_ratio(recall_desc, title) >= desc_score_threshold:\n",
    "                    amazon.at[amazon_i, 'Is match'] = 1\n",
    "                    amazon.at[amazon_i, 'matched_recall_indices'].append(global_recall_i)\n",
    "\n",
    "    total = amazon['Is match'].sum()\n",
    "    print(f\"Total matched Amazon listings: {total}\")\n",
    "    print(\"Match counts:\", amazon['Is match'].value_counts().to_dict())\n",
    "    return amazon"
   ]
  },
  {
   "cell_type": "markdown",
   "id": "13464ac6-6a26-402d-bfc1-f81379323db5",
   "metadata": {},
   "source": [
    "In the first method, results are stored in the `amazon_df` dataframe using two columns: **`Is match`** and **`matched_recall_indices`**.  \r\n",
    "- The **`Is match`** column contains `1` if a match is found, and `0` otherwise.  \r\n",
    "- The **`matched_recall_indices`** column contains the indices of the matched recall entries when a match exist.\r\n"
   ]
  },
  {
   "cell_type": "code",
   "execution_count": 8,
   "id": "c459f52e-a3b4-4913-97ce-49dc7e852169",
   "metadata": {},
   "outputs": [
    {
     "name": "stdout",
     "output_type": "stream",
     "text": [
      "✅ Found matches for 586 recall-brand entries.\n",
      "Total matched Amazon listings: 2153\n",
      "Match counts: {0: 631730, 1: 2153}\n"
     ]
    }
   ],
   "source": [
    "matched_by_brand = match_amazon_by_brand(amazon_df, recalls_df, score_threshold = 90)\n",
    "amazon_df = tag_amazon_by_description(amazon_df, matched_by_brand, desc_score_threshold = 80)"
   ]
  },
  {
   "cell_type": "markdown",
   "id": "8a326620-0038-4e2a-9c5f-fcb56f626d00",
   "metadata": {},
   "source": [
    "### Method 2: Use `cdist` and Matrix Representation to Identify Matches\n",
    "\n",
    "This method uses the `cdist` function to compute similarity scores between items, storing the results in a matrix. Matches are then identified based on threshold values applied to this similarity matrix."
   ]
  },
  {
   "cell_type": "code",
   "execution_count": 15,
   "id": "d0bd379f-dcfe-4f47-b11c-3ab14d3b7432",
   "metadata": {},
   "outputs": [],
   "source": [
    "from rapidfuzz import fuzz\n",
    "from rapidfuzz.process import cdist\n",
    "\n",
    "def compute_brand_similarity_matrix(recalls_df, amazon_df, scorer=fuzz.token_sort_ratio, score_cutoff=90, workers=24):\n",
    "    \"\"\"\n",
    "    Compute a brand similarity matrix using fuzzy matching.\n",
    "    Returns:\n",
    "        similarity_brand_matrix: list of lists with (matched_string, score, amazon_index)\n",
    "    \"\"\"\n",
    "    UNMATCHABLE = \"__MISSING__\"\n",
    "\n",
    "    brand_queries = (recalls_df['Brand'].fillna(UNMATCHABLE).astype(str).str.lower().str.strip().tolist())\n",
    "    \n",
    "    brand_choices = (amazon_df['brand'].fillna(UNMATCHABLE).astype(str).str.lower().str.strip().tolist())\n",
    "\n",
    "    similarity_brand_matrix = cdist(brand_queries, brand_choices, scorer=scorer, processor=None, score_cutoff=score_cutoff, workers=workers)\n",
    "    \n",
    "    return similarity_brand_matrix\n",
    "\n",
    "def compute_description_similarity_matrix(recalls_df, amazon_df, scorer=fuzz.token_set_ratio, score_cutoff=80, workers=24):\n",
    "    \"\"\"\n",
    "    Compute a description/title similarity matrix using fuzzy matching.\n",
    "    Returns:\n",
    "        similarity_desc_matrix: list of lists with (matched_string, score, amazon_index)\n",
    "    \"\"\"\n",
    "    desc_queries = (recalls_df['Product Description'].fillna(\"\").astype(str).str.lower().str.strip().tolist())\n",
    "    \n",
    "    title_choices = (amazon_df['title'].fillna(\"\").astype(str).str.lower().str.strip().tolist())\n",
    "\n",
    "    similarity_desc_matrix = cdist(desc_queries, title_choices, scorer=scorer, processor=None, score_cutoff=score_cutoff, workers=workers)\n",
    "\n",
    "    return similarity_desc_matrix"
   ]
  },
  {
   "cell_type": "markdown",
   "id": "c5105650-2302-44cc-bbc7-28a9cbc71018",
   "metadata": {},
   "source": [
    "#### Scorer fuzz.token_set_ratio, score cutoff 90 for brand, 80 for Product Description"
   ]
  },
  {
   "cell_type": "code",
   "execution_count": 17,
   "id": "2284a220-409e-4fa2-8753-f4e1a100c310",
   "metadata": {},
   "outputs": [],
   "source": [
    "brand_matrix_s2_sc90 = compute_brand_similarity_matrix(recalls_df, amazon_df, scorer=fuzz.token_set_ratio, score_cutoff=90, workers=24)\n",
    "desc_matrix_s2_sc80 = compute_description_similarity_matrix(recalls_df, amazon_df,  scorer=fuzz.token_set_ratio, score_cutoff=80, workers=24)"
   ]
  },
  {
   "cell_type": "code",
   "execution_count": 18,
   "id": "bc72d140-acb5-4fe1-b36c-565184f51d2f",
   "metadata": {},
   "outputs": [],
   "source": [
    "import numpy as np\n",
    "import pandas as pd\n",
    "from collections import defaultdict\n",
    "\n",
    "def compute_amazon_match_df(amazon_df, recalls_df, brand_matrix, desc_matrix):\n",
    "    \"\"\"\n",
    "    For each amazon_df row, collect the list of recall_df indices that matched\n",
    "    both brand and description, and flag whether there was at least one match.\n",
    "\n",
    "    Args:\n",
    "        amazon_df:    Amazon metadata DataFrame (index aligns with matrix cols).\n",
    "        recalls_df:   Recall DataFrame used to build the matrices (index aligns with matrix rows).\n",
    "        brand_matrix: Output of cdist(...) for brands (sparse or dense).\n",
    "        desc_matrix:  Output of cdist(...) for descriptions (sparse or dense).\n",
    "\n",
    "    Returns:\n",
    "        pd.DataFrame with two columns, indexed like amazon_df:\n",
    "          - matched_recall_indices: list of recall_df indices matching both brand & desc\n",
    "          - is_match:               1 if list non-empty, else 0\n",
    "    \"\"\"\n",
    "    # 1) map amazon_idx -> list of recall_df indices\n",
    "    matches = defaultdict(list)\n",
    "    recall_global_indices = list(recalls_df.index)\n",
    "    n_reports = len(brand_matrix)\n",
    "\n",
    "    # guard: if recalls_df shorter, truncate\n",
    "    if len(recall_global_indices) < n_reports:\n",
    "        recall_global_indices = recall_global_indices[:n_reports]\n",
    "\n",
    "    for report_pos in range(n_reports):\n",
    "        # extract the sets of matching amazon indices\n",
    "        row_b = brand_matrix[report_pos]\n",
    "        if isinstance(row_b, np.ndarray):\n",
    "            brand_idxs = set(np.nonzero(row_b)[0])\n",
    "        else:\n",
    "            brand_idxs = {idx for _, _, idx in row_b}\n",
    "\n",
    "        row_d = desc_matrix[report_pos]\n",
    "        if isinstance(row_d, np.ndarray):\n",
    "            desc_idxs = set(np.nonzero(row_d)[0])\n",
    "        else:\n",
    "            desc_idxs = {idx for _, _, idx in row_d}\n",
    "\n",
    "        common = brand_idxs & desc_idxs\n",
    "        if not common:\n",
    "            continue\n",
    "\n",
    "        recall_idx = recall_global_indices[report_pos]\n",
    "        for amazon_idx in common:\n",
    "            matches[amazon_idx].append(recall_idx)\n",
    "\n",
    "    # 2) build the two columns\n",
    "    matched_lists = pd.Series(\n",
    "        [matches.get(i, []) for i in amazon_df.index],\n",
    "        index=amazon_df.index,\n",
    "        name='matched_recall_indices'\n",
    "    )\n",
    "    is_match = matched_lists.str.len().gt(0).astype(int)\n",
    "\n",
    "    # 3) return as DataFrame\n",
    "    return pd.DataFrame({\n",
    "        'matched_recall_indices': matched_lists,\n",
    "        'is_match':                is_match\n",
    "    })"
   ]
  },
  {
   "cell_type": "code",
   "execution_count": 19,
   "id": "f3d00c0f-15e1-4f40-9726-8000e2b31be1",
   "metadata": {},
   "outputs": [],
   "source": [
    "match_df_s2_sc90 =  compute_amazon_match_df(amazon_df, recalls_df, brand_matrix_s2_sc90, desc_matrix_s2_sc80)"
   ]
  },
  {
   "cell_type": "markdown",
   "id": "a6ac4159-3072-4b05-8950-88dd87e0b7f7",
   "metadata": {},
   "source": [
    "The `compute_amazon_match_df` function returns a dataframe with two columns: **`Is match`** and **`matched_recall_indices`**.  \n",
    "- **`Is match`** contains a label (`1` if there is a match, `0` otherwise).  \n",
    "- **`matched_recall_indices`** contains the list of recall indices corresponding to the matches for each row."
   ]
  },
  {
   "cell_type": "code",
   "execution_count": 23,
   "id": "1d86ea16-eb3e-4282-8e06-af574daf49ad",
   "metadata": {},
   "outputs": [
    {
     "data": {
      "text/plain": [
       "is_match\n",
       "0    628778\n",
       "1      5105\n",
       "Name: count, dtype: int64"
      ]
     },
     "execution_count": 23,
     "metadata": {},
     "output_type": "execute_result"
    }
   ],
   "source": [
    "match_df_s2_sc90['is_match'].value_counts()"
   ]
  },
  {
   "cell_type": "markdown",
   "id": "06b1b30e-5e44-4a0f-8a64-0c9a9de43841",
   "metadata": {},
   "source": [
    "This method results in 5,105 matches.\n"
   ]
  },
  {
   "cell_type": "markdown",
   "id": "f557bec0-4755-4442-84d1-43d7ea03625f",
   "metadata": {},
   "source": [
    "### Method 3: Similar to Method 2 with Different Scorer and Thresholds\n",
    "\n",
    "This method follows the same steps as Method 2, but uses a different similarity scorer and cutoff values:\n",
    "- **Scorer:** `fuzz.ratio`\n",
    "- **Brand similarity threshold:** 80\n",
    "- **Product Description similarity threshold:** 70"
   ]
  },
  {
   "cell_type": "code",
   "execution_count": 25,
   "id": "89b886d0-1ca7-4cc2-a918-4b556e720f60",
   "metadata": {},
   "outputs": [],
   "source": [
    "brand_matrix_s1_sc80 = compute_brand_similarity_matrix(recalls_df, amazon_df, scorer=fuzz.ratio, score_cutoff=80, workers=24)\n",
    "desc_matrix_s1_sc70 = compute_description_similarity_matrix(recalls_df, amazon_df,  scorer=fuzz.ratio, score_cutoff=70, workers=24)\n",
    "\n",
    "match_df_s1_sc70 =  compute_amazon_match_df(amazon_df, recalls_df, brand_matrix_s1_sc80, desc_matrix_s1_sc70)"
   ]
  },
  {
   "cell_type": "code",
   "execution_count": 29,
   "id": "e5f63e58-3253-4425-8fb3-4aef12e621cc",
   "metadata": {},
   "outputs": [
    {
     "data": {
      "text/plain": [
       "is_match\n",
       "0    633005\n",
       "1       878\n",
       "Name: count, dtype: int64"
      ]
     },
     "execution_count": 29,
     "metadata": {},
     "output_type": "execute_result"
    }
   ],
   "source": [
    "match_df_s1_sc70['is_match'].value_counts()"
   ]
  },
  {
   "cell_type": "markdown",
   "id": "679cdba6-b042-4d98-907a-78c5e4be94db",
   "metadata": {},
   "source": [
    "This method results in 878 matches."
   ]
  },
  {
   "cell_type": "markdown",
   "id": "cf72ba0b-9fb0-4d72-bac5-05bb05b0dc33",
   "metadata": {},
   "source": [
    "## Find The Number of Amazon Products Matched to Each Recall"
   ]
  },
  {
   "cell_type": "code",
   "execution_count": 31,
   "id": "463a5c5e-e766-411c-8de9-3aaeafb1ff07",
   "metadata": {},
   "outputs": [],
   "source": [
    "from typing import List\n",
    "\n",
    "def build_recall_match_df(matched_recall_indices, recall_df):\n",
    "    \"\"\"\n",
    "    Given a Series mapping each Amazon index to a list of recall_df indices\n",
    "    (matched_recall_indices), produce a DataFrame of length recall_df with:\n",
    "      - matched_amazon_indices: list of Amazon indices matching that recall\n",
    "      - number_of_matches:      count of those matches\n",
    "    \"\"\"\n",
    "    # Prepare empty lists for each recall index\n",
    "    recall_index = recall_df.index\n",
    "    matched_lists = {idx: [] for idx in recall_index}\n",
    "\n",
    "    # Invert the mapping: for each amazon_idx, for each recall_idx in its list,\n",
    "    # append amazon_idx to the recall's matched_amazon_indices\n",
    "    for amazon_idx, recall_list in matched_recall_indices.items():\n",
    "        if not isinstance(recall_list, list):\n",
    "            continue\n",
    "        for recall_idx in recall_list:\n",
    "            if recall_idx in matched_lists:\n",
    "                matched_lists[recall_idx].append(amazon_idx)\n",
    "\n",
    "    # Build the output DataFrame\n",
    "    out_df = pd.DataFrame({\n",
    "        'matched_amazon_indices': [matched_lists[idx] for idx in recall_index],\n",
    "    }, index=recall_index)\n",
    "    out_df['number_of_matches'] = out_df['matched_amazon_indices'].apply(len)\n",
    "\n",
    "    return out_df"
   ]
  },
  {
   "cell_type": "markdown",
   "id": "fc78c7d7-07a5-4ec8-a5d4-8dde3174e98c",
   "metadata": {},
   "source": [
    "#### 1. Recall Matches for Method 1"
   ]
  },
  {
   "cell_type": "code",
   "execution_count": 33,
   "id": "4a3282f1-f982-43f0-b5ff-873b3bc7a20d",
   "metadata": {},
   "outputs": [],
   "source": [
    "recall_matches1 = build_recall_match_df(amazon_df['matched_recall_indices'], recalls_df)"
   ]
  },
  {
   "cell_type": "code",
   "execution_count": 35,
   "id": "d1d1a3bf-a80f-4111-880f-00be5aa42407",
   "metadata": {},
   "outputs": [
    {
     "data": {
      "text/plain": [
       "1442    204\n",
       "9       146\n",
       "621     115\n",
       "2052    101\n",
       "873      76\n",
       "       ... \n",
       "913       0\n",
       "912       0\n",
       "911       0\n",
       "910       0\n",
       "2513      0\n",
       "Name: number_of_matches, Length: 2514, dtype: int64"
      ]
     },
     "execution_count": 35,
     "metadata": {},
     "output_type": "execute_result"
    }
   ],
   "source": [
    "recall_matches1['number_of_matches'].sort_values(ascending=False)"
   ]
  },
  {
   "cell_type": "markdown",
   "id": "5aebd2a0-ecdc-4e71-a8dd-382dea4fecbe",
   "metadata": {},
   "source": [
    "Some products in the recall list are matched by multiple Amazon products.  \r\n",
    "The highest number of Amazon products matched to a single recall item is **204**\r\n"
   ]
  },
  {
   "cell_type": "code",
   "execution_count": 37,
   "id": "e8ef5b85-5678-4865-a3be-ada46fb7f898",
   "metadata": {},
   "outputs": [
    {
     "data": {
      "text/html": [
       "<div>\n",
       "<style scoped>\n",
       "    .dataframe tbody tr th:only-of-type {\n",
       "        vertical-align: middle;\n",
       "    }\n",
       "\n",
       "    .dataframe tbody tr th {\n",
       "        vertical-align: top;\n",
       "    }\n",
       "\n",
       "    .dataframe thead th {\n",
       "        text-align: right;\n",
       "    }\n",
       "</style>\n",
       "<table border=\"1\" class=\"dataframe\">\n",
       "  <thead>\n",
       "    <tr style=\"text-align: right;\">\n",
       "      <th></th>\n",
       "      <th>number_of_matches</th>\n",
       "      <th>count</th>\n",
       "    </tr>\n",
       "  </thead>\n",
       "  <tbody>\n",
       "    <tr>\n",
       "      <th>0</th>\n",
       "      <td>0</td>\n",
       "      <td>2129</td>\n",
       "    </tr>\n",
       "    <tr>\n",
       "      <th>1</th>\n",
       "      <td>1</td>\n",
       "      <td>121</td>\n",
       "    </tr>\n",
       "    <tr>\n",
       "      <th>2</th>\n",
       "      <td>2</td>\n",
       "      <td>70</td>\n",
       "    </tr>\n",
       "    <tr>\n",
       "      <th>3</th>\n",
       "      <td>3</td>\n",
       "      <td>44</td>\n",
       "    </tr>\n",
       "    <tr>\n",
       "      <th>4</th>\n",
       "      <td>4</td>\n",
       "      <td>33</td>\n",
       "    </tr>\n",
       "    <tr>\n",
       "      <th>5</th>\n",
       "      <td>5</td>\n",
       "      <td>19</td>\n",
       "    </tr>\n",
       "    <tr>\n",
       "      <th>6</th>\n",
       "      <td>6</td>\n",
       "      <td>15</td>\n",
       "    </tr>\n",
       "    <tr>\n",
       "      <th>7</th>\n",
       "      <td>7</td>\n",
       "      <td>14</td>\n",
       "    </tr>\n",
       "    <tr>\n",
       "      <th>8</th>\n",
       "      <td>8</td>\n",
       "      <td>5</td>\n",
       "    </tr>\n",
       "    <tr>\n",
       "      <th>9</th>\n",
       "      <td>9</td>\n",
       "      <td>6</td>\n",
       "    </tr>\n",
       "    <tr>\n",
       "      <th>10</th>\n",
       "      <td>10</td>\n",
       "      <td>6</td>\n",
       "    </tr>\n",
       "    <tr>\n",
       "      <th>11</th>\n",
       "      <td>11</td>\n",
       "      <td>1</td>\n",
       "    </tr>\n",
       "    <tr>\n",
       "      <th>12</th>\n",
       "      <td>12</td>\n",
       "      <td>5</td>\n",
       "    </tr>\n",
       "    <tr>\n",
       "      <th>13</th>\n",
       "      <td>13</td>\n",
       "      <td>4</td>\n",
       "    </tr>\n",
       "    <tr>\n",
       "      <th>14</th>\n",
       "      <td>14</td>\n",
       "      <td>4</td>\n",
       "    </tr>\n",
       "    <tr>\n",
       "      <th>15</th>\n",
       "      <td>15</td>\n",
       "      <td>2</td>\n",
       "    </tr>\n",
       "    <tr>\n",
       "      <th>16</th>\n",
       "      <td>16</td>\n",
       "      <td>3</td>\n",
       "    </tr>\n",
       "    <tr>\n",
       "      <th>17</th>\n",
       "      <td>17</td>\n",
       "      <td>4</td>\n",
       "    </tr>\n",
       "    <tr>\n",
       "      <th>18</th>\n",
       "      <td>18</td>\n",
       "      <td>2</td>\n",
       "    </tr>\n",
       "    <tr>\n",
       "      <th>19</th>\n",
       "      <td>20</td>\n",
       "      <td>2</td>\n",
       "    </tr>\n",
       "  </tbody>\n",
       "</table>\n",
       "</div>"
      ],
      "text/plain": [
       "    number_of_matches  count\n",
       "0                   0   2129\n",
       "1                   1    121\n",
       "2                   2     70\n",
       "3                   3     44\n",
       "4                   4     33\n",
       "5                   5     19\n",
       "6                   6     15\n",
       "7                   7     14\n",
       "8                   8      5\n",
       "9                   9      6\n",
       "10                 10      6\n",
       "11                 11      1\n",
       "12                 12      5\n",
       "13                 13      4\n",
       "14                 14      4\n",
       "15                 15      2\n",
       "16                 16      3\n",
       "17                 17      4\n",
       "18                 18      2\n",
       "19                 20      2"
      ]
     },
     "execution_count": 37,
     "metadata": {},
     "output_type": "execute_result"
    }
   ],
   "source": [
    "match_summary = (\n",
    "    recall_matches1['number_of_matches']\n",
    "    .value_counts()\n",
    "    .sort_index()\n",
    "    .reset_index()\n",
    "    .rename(columns={'number_of_matches': 'number_of_matches'})\n",
    ")\n",
    "match_summary.head(20)"
   ]
  },
  {
   "cell_type": "markdown",
   "id": "c4b26c34-fa8e-4380-adad-acddbb599a4b",
   "metadata": {},
   "source": [
    "A total of **2,129** products from the recall list did **not** match any Amazon product.  \r\n",
    "This means that only **385** recall items (2,514 - 2,129) were matched to at least one Amazon product\r\n",
    "\n"
   ]
  },
  {
   "cell_type": "code",
   "execution_count": 39,
   "id": "03b1302e-26e6-41eb-a0c2-2811c9a4e3ff",
   "metadata": {},
   "outputs": [
    {
     "data": {
      "image/png": "[encoded data removed]",
      "text/plain": [
       "<Figure size 1000x600 with 1 Axes>"
      ]
     },
     "metadata": {},
     "output_type": "display_data"
    }
   ],
   "source": [
    "import matplotlib.pyplot as plt\n",
    "import matplotlib.ticker as mtick\n",
    "\n",
    "match_counts = recall_matches1['number_of_matches'].value_counts().sort_index()\n",
    "\n",
    "plt.figure(figsize=(10, 6))\n",
    "plt.bar(match_counts.index, match_counts.values)\n",
    "plt.xlabel('Number of Matches')\n",
    "plt.ylabel('Number of Recall Products')\n",
    "plt.title('Distribution of Recall Products by Number of Amazon Matches')\n",
    "\n",
    "# Format Y-axis with thousands separator\n",
    "plt.gca().yaxis.set_major_formatter(mtick.FuncFormatter(lambda x, _: f'{int(x):,}'))\n",
    "\n",
    "# Set X-ticks every 10\n",
    "plt.xticks(ticks=range(min(match_counts.index), max(match_counts.index)+1, 10))\n",
    "\n",
    "plt.grid(axis='y', linestyle='--', alpha=0.7)\n",
    "plt.tight_layout()\n",
    "plt.show()"
   ]
  },
  {
   "cell_type": "markdown",
   "id": "4923c7d8-5219-426d-825a-586e340cc295",
   "metadata": {},
   "source": [
    "Let's print out the product that matched 204 products."
   ]
  },
  {
   "cell_type": "code",
   "execution_count": 41,
   "id": "2ef122c6-3221-423d-9a5d-cd4eb1eb3cc6",
   "metadata": {},
   "outputs": [],
   "source": [
    "def print_metadata(df, indices):\n",
    "    \n",
    "    for i in indices:\n",
    "        if i >= len(df):\n",
    "            print(f\"⚠️ Index {i} is out of bounds.\")\n",
    "            continue\n",
    "\n",
    "        meta_row = df.iloc[i]\n",
    "        \n",
    "        print(\"🔹 META\")\n",
    "        print(f\"Brand:   {meta_row.get('brand', 'N/A')}\")\n",
    "        print(f\"Title:   {meta_row.get('title', 'N/A')}\")\n",
    "        print(f\"Feature: {meta_row.get('feature', 'N/A')}\")\n",
    "        print(\"-\" * 80)\n",
    "\n",
    "def print_recall_data(df, indices):\n",
    "    \n",
    "    for i in indices:\n",
    "        if i >= len(df):\n",
    "            print(f\"⚠️ Index {i} is out of bounds.\")\n",
    "            continue\n",
    "\n",
    "        recall_row = df.iloc[i]\n",
    "\n",
    "        print(\"🔹 REPORT\")\n",
    "        print(f\"Brand:               {recall_row.get('Brand', 'N/A')}\")\n",
    "        print(f\"Product Description: {recall_row.get('Product Description', 'N/A')}\")\n",
    "        print(\"-\" * 80)"
   ]
  },
  {
   "cell_type": "code",
   "execution_count": 43,
   "id": "76450c10-2cce-410f-b23b-e842a388ef95",
   "metadata": {},
   "outputs": [],
   "source": [
    "indices = recall_matches1.loc[recall_matches1['number_of_matches']==204,'matched_amazon_indices']"
   ]
  },
  {
   "cell_type": "code",
   "execution_count": 45,
   "id": "f53546ce-4d42-4fea-b17f-cf8534b17fa2",
   "metadata": {},
   "outputs": [
    {
     "data": {
      "text/plain": [
       "1442    [1755, 1758, 1773, 1907, 55477, 67279, 72799, ...\n",
       "Name: matched_amazon_indices, dtype: object"
      ]
     },
     "execution_count": 45,
     "metadata": {},
     "output_type": "execute_result"
    }
   ],
   "source": [
    "indices"
   ]
  },
  {
   "cell_type": "code",
   "execution_count": 53,
   "id": "b908ba40-fd4d-4157-af53-6f1e8dd6521f",
   "metadata": {},
   "outputs": [
    {
     "name": "stdout",
     "output_type": "stream",
     "text": [
      "🔹 REPORT\n",
      "Brand:               Syma\n",
      "Product Description: R/C Helicopter \n",
      "--------------------------------------------------------------------------------\n",
      "🔹 META\n",
      "Brand:   SYMA\n",
      "Title:   Syma 3 Channel S107/S107G Mini Indoor Co-Axial R/C Helicopter w/ Gyro (White Color)\n",
      "Feature: []\n",
      "--------------------------------------------------------------------------------\n",
      "🔹 META\n",
      "Brand:   SYMA\n",
      "Title:   SYMA S009G AH-64 Apache 3 Channel Indoor Helicopter with Gyroscope\n",
      "Feature: ['S0099G AH-64 Apache 3 channel helicopter indoor']\n",
      "--------------------------------------------------------------------------------\n",
      "🔹 META\n",
      "Brand:   SYMA\n",
      "Title:   Syma 3 Channel S107/S107G Mini Indoor Co-Axial R/C Helicopter w/ Gyro (Green Color)\n",
      "Feature: [\"2 Selectable Frequencies Let's You Fly Up To 2 Helicopters At Once\", 'Full 3 channels: up, down, left, right, forward, and backward', 'The transmitter has an alignment trim, a charging and power indicator, a left/right lever and trimmer', 'Suitable for indoor flying only', \"Flight range is approximately 30'\"]\n",
      "--------------------------------------------------------------------------------\n",
      "🔹 META\n",
      "Brand:   SYMA\n",
      "Title:   SYMA 3 Channel S029 Agusta Dauphin Mini RC Helicopter ---NEW!\n",
      "Feature: []\n",
      "--------------------------------------------------------------------------------\n",
      "🔹 META\n",
      "Brand:   SYMA\n",
      "Title:   Dragonfly Full Function Mini Rc Electric Helicopter with Double Blades\n",
      "Feature: ['Up to 4-5 minutes flight time.', '3. 7v 350mah lithium polymer battery is installed in the helicopter.', 'Completely stable in flight.', '3d flight, go forward, left and right.', 'Perfect for indoor flight.']\n",
      "--------------------------------------------------------------------------------\n",
      "🔹 META\n",
      "Brand:   SYMA\n",
      "Title:   SYMA HX603 RADIO CONTROLLED HELICOPTER\n",
      "Feature: ['Comes with quality NI -MH 7.2V 650 mAH Battery and a Spower 370 Motor to give the helicoper plenty of power to create good preformance in flight', 'Great new modern 2007 design with simple to use on/0ff switch', 'The new tail fin design makes it very stable when flying in the air. Also has rotar speed control and a flight stablizing system']\n",
      "--------------------------------------------------------------------------------\n",
      "🔹 META\n",
      "Brand:   Syma\n",
      "Title:   RC Mini Mosquito Helicopter V2 - 3 Channels\n",
      "Feature: []\n",
      "--------------------------------------------------------------------------------\n",
      "🔹 META\n",
      "Brand:   SYMA\n",
      "Title:   The NEW Syma Double Horse 9086 2 Channel Co-Axial Rotor Helicopter\n",
      "Feature: ['constructed from a soft rubber polymer, insuring that nobody gets hurt', 'built-in adjustable battery cage, and heat sink', 'unique crash resistant design, composed of a solid aluminum tail boom and skids', 'Main Motor:Dual 370 Motors', 'Battery:Ni-Mh 7.2V 850mAH']\n",
      "--------------------------------------------------------------------------------\n",
      "🔹 META\n",
      "Brand:   SYMA\n",
      "Title:   Syma New 3 Channels Helicopter - The Alloy Shark - Forward, Backward, Left, Right + Free Rear Rotor Blade\n",
      "Feature: ['Syma Newest 3 Channels helicopter with metal tail boom and landing gear', 'Capable flying forward, backward, left, right and stable hovering in the air', 'Comes with beautiful golden colour window box with plastic handle', 'Transmitter only consumes 4 Aa Battery, the helicopter is charged via AC/DC Wall power plug', 'fly up to a maxmium of 40 feets (Subjected to wind condition)']\n",
      "--------------------------------------------------------------------------------\n",
      "🔹 META\n",
      "Brand:   Syma\n",
      "Title:   Syma 603 Double Horse 9083 Helicopter Main &amp; Rear Rotor Blade Replacement Set\n",
      "Feature: ['Package contains 2 pieces of Main Rotor Blade for Syma 603 & Double Horse 9083', '1 piece of Rear Rotor Blade', 'Made of durable ABS Plastic']\n",
      "--------------------------------------------------------------------------------\n"
     ]
    }
   ],
   "source": [
    "recall_index = 1442\n",
    "recall_indices = [recall_index]\n",
    "amazon_indices = indices[recall_index]\n",
    "print_recall_data(recalls_df, recall_indices)\n",
    "print_metadata(amazon_df, amazon_indices[:10])"
   ]
  },
  {
   "cell_type": "markdown",
   "id": "8b415fb0-b828-4eff-a460-a67b311b9512",
   "metadata": {},
   "source": [
    "We observe that Syma branded R/C Helicopter got 204 matches in the Amazon Product list. "
   ]
  },
  {
   "cell_type": "markdown",
   "id": "192092cc-a1d5-41f3-b78c-cad510d12e2f",
   "metadata": {},
   "source": [
    "#### 2. Recall Matches for Method 2"
   ]
  },
  {
   "cell_type": "code",
   "execution_count": 55,
   "id": "b394cb02-5079-4f46-b9da-0aa536e172a7",
   "metadata": {},
   "outputs": [],
   "source": [
    "# Recall Matches for Method 2\n",
    "recall_matches_s2_sc90 = build_recall_match_df(match_df_s2_sc90['matched_recall_indices'], recalls_df)"
   ]
  },
  {
   "cell_type": "code",
   "execution_count": 57,
   "id": "f0fd0dd3-adb2-4998-b5ca-8c3527b83c80",
   "metadata": {},
   "outputs": [
    {
     "data": {
      "text/plain": [
       "1697    2361\n",
       "1442     208\n",
       "9        148\n",
       "621      130\n",
       "2052     101\n",
       "        ... \n",
       "948        0\n",
       "946        0\n",
       "945        0\n",
       "944        0\n",
       "2513       0\n",
       "Name: number_of_matches, Length: 2514, dtype: int64"
      ]
     },
     "execution_count": 57,
     "metadata": {},
     "output_type": "execute_result"
    }
   ],
   "source": [
    "recall_matches_s2_sc90['number_of_matches'].sort_values(ascending=False)"
   ]
  },
  {
   "cell_type": "markdown",
   "id": "ee6612f1-5788-4547-9884-3897d516d92a",
   "metadata": {},
   "source": [
    "One recall item is matched to **2,361** Amazon products. Let's print the matched items.\n"
   ]
  },
  {
   "cell_type": "code",
   "execution_count": 72,
   "id": "f01516fd-e9da-4e9d-b153-b8f3d10f030a",
   "metadata": {},
   "outputs": [
    {
     "data": {
      "text/plain": [
       "matched_amazon_indices    [2021, 2027, 2028, 2031, 2111, 2140, 3253, 333...\n",
       "number_of_matches                                                      2361\n",
       "Name: 1697, dtype: object"
      ]
     },
     "execution_count": 72,
     "metadata": {},
     "output_type": "execute_result"
    }
   ],
   "source": [
    "recall_matches_s2_sc90.loc[1697]"
   ]
  },
  {
   "cell_type": "code",
   "execution_count": 59,
   "id": "8a1a47a5-ca21-4264-a127-2b2d2e105218",
   "metadata": {},
   "outputs": [],
   "source": [
    "indices2 = recall_matches_s2_sc90.loc[recall_matches_s2_sc90['number_of_matches']==2361,'matched_amazon_indices']"
   ]
  },
  {
   "cell_type": "code",
   "execution_count": 61,
   "id": "e6b77374-71ef-4c89-bfc7-6b469d56faf1",
   "metadata": {},
   "outputs": [
    {
     "data": {
      "text/plain": [
       "1697    [2021, 2027, 2028, 2031, 2111, 2140, 3253, 333...\n",
       "Name: matched_amazon_indices, dtype: object"
      ]
     },
     "execution_count": 61,
     "metadata": {},
     "output_type": "execute_result"
    }
   ],
   "source": [
    "indices2"
   ]
  },
  {
   "cell_type": "code",
   "execution_count": 65,
   "id": "70776e3b-2c29-4341-8c0f-b16ff8129ad1",
   "metadata": {},
   "outputs": [
    {
     "name": "stdout",
     "output_type": "stream",
     "text": [
      "🔹 REPORT\n",
      "Brand:               Barbie doll by Mattel\n",
      "Product Description: Barbie doll\n",
      "--------------------------------------------------------------------------------\n",
      "🔹 META\n",
      "Brand:   Barbie\n",
      "Title:   Barbie Teresa Butterfly Art Doll (1998)\n",
      "Feature: ['1998 - Mattel - Friends Of Barbie Series', 'Butterfly Art Teresa Dol - 12 Inches Tall', 'Includes: Brush / 2 Sheets of Decorations / Knit Bikini / Jeans Skirt', 'Out of Prodcution - Item #20361', 'New - Mint - Limited Edition - Collectible']\n",
      "--------------------------------------------------------------------------------\n",
      "🔹 META\n",
      "Brand:   Barbie\n",
      "Title:   Barbie Butterfly Art Christie Doll (1998)\n",
      "Feature: ['Butterfly Art Christie Doll is a 1998 Mattel production made in Indonesia & US.', 'INCLUDES: AA Ethnic Christie Doll is approx. 11.5\" tall & has long Dark Brown Hair & Brown Eyes. Christie Doll wears a Skirt, 2 Pce Swimsuit, and comes w Temporary Transfers (TATTOOS), Hair Brush & Instructions.', 'Box is from Canada & has Multi-Lingual Writing: English, French, Spanish & More.`', 'For Ages 3+ Years. All sizes, colors & description details are taken from box &/or provided to the best of my ability & may not be exact & may vary.', '*NEW. Box ONLY has small tear at top & side creases. For Box Condition - Email Seller for Details.']\n",
      "--------------------------------------------------------------------------------\n",
      "🔹 META\n",
      "Brand:   Mattel\n",
      "Title:   Butterfly Art BARBIE Doll w Cool Decorations (1998)\n",
      "Feature: ['Butterfly Art Barbie Doll is a 1998 Mattel production.', 'Includes: Barbie Doll approx. 11.5\" tall. Doll comes with a pink & yellow knit 2 Piece Bathing Suit, a blue denim Skirt w/fringe hem, a \\'knit\\' Necklace & Bracelet, a pink Hair Brush, & comes with 2 Sheets of Cool Decorations (Temporary Tattoos) for YOU & Barbie!', 'Barbie Doll has \"Tattoos\". After Doll was placed on store shelves, they were eventually taken off due to \"Controversy\" & parental concerns about the \"Tattoos\". Mattel brought back the Dolls without the Tattoos.', 'For Ages 3+ Years. All provided information is to the best of my ability; sizes, colors, styles & details may vary.', 'For Box Condition Information, Email Seller for details.']\n",
      "--------------------------------------------------------------------------------\n",
      "🔹 META\n",
      "Brand:   Barbie\n",
      "Title:   1998 - Mattel - Friends of Barbie - Butterfly Art Ken Doll - 12 Inches Tall - 2 Sheets of Decorations - Includes Jeans Shorts / Sunglasses / Tank Top / Necklace - New - Out of Production - Limited Edition - Collectible\n",
      "Feature: ['1998 - Mattel - Friends of Barbie Series', 'Butterfly Art Ken Doll - 12 Inches Tall', 'Includes: Jeans Shorts / Tank Top / Sunglasses / Necklace / 2 Sheets of Decorations', 'Out of Production - Item #22995', 'New - Mint - Limited Edition - Collectible']\n",
      "--------------------------------------------------------------------------------\n",
      "🔹 META\n",
      "Brand:   Barbie\n",
      "Title:   Barbie The Flamingo Doll Birds of Paradise Collection (1998)\n",
      "Feature: ['The Flamingo Barbie Doll is a 1998 Mattel production.', 'From Birds of Beauty Collection; Barbie Collectibles for Ages 14+ Years.', 'Doll approx. 11.5\" tall & has dark hair & blue eyes.', \"Wears Gown that's various shades of pinks & white & feathers, black gloves, feathered headdress & jewelry.\", 'Box ONLY has some shelf wear/ damage.. Great for Collection, Display or for fun play!']\n",
      "--------------------------------------------------------------------------------\n",
      "🔹 META\n",
      "Brand:   Barbie\n",
      "Title:   Barbie Collectibles Doll As Snow White\n",
      "Feature: ['Barbie Collectibles Doll As Snow White']\n",
      "--------------------------------------------------------------------------------\n",
      "🔹 META\n",
      "Brand:   Barbie\n",
      "Title:   Barbie Pretty Flowers Doll (1999)\n",
      "Feature: ['Pretty Flowers Barbie Doll is a 1999 Mattel production.', 'Includes: 11.5\" Barbie Doll w/blond hair & blue eyes; wears pink w/yellow, red, blue, purple & green floral pattern Dress & comes w/yellow square plastic Purse, yellow Shoes & yellow Hairbrush.', 'Also comes w/outdated $1.00 off coupon for Fashion Avenue Fashions (Good till 2000).', 'Colors, styles, sizes & information is approximate & may vary.', 'Pretty Flowers Barbie Doll is great for any collection or for fun play! Email seller for Box Condition details']\n",
      "--------------------------------------------------------------------------------\n",
      "🔹 META\n",
      "Brand:   Barbie\n",
      "Title:   Barbie Sit in Style Doll\n",
      "Feature: ['Barbie Doll', 'Sit in Style', 'Mattel']\n",
      "--------------------------------------------------------------------------------\n",
      "🔹 META\n",
      "Brand:   Barbie\n",
      "Title:   Barbie Rainbow Princess Doll\n",
      "Feature: ['Barbie', 'Made by Mattel', 'Princess']\n",
      "--------------------------------------------------------------------------------\n",
      "🔹 META\n",
      "Brand:   Barbie\n",
      "Title:   Barbie - Groovy 60's (sixties) Collector Doll - Great Fashions of the 20th Century Collection\n",
      "Feature: [\"Groovy 60's Barbie\", 'Great Fashions of the 20th Century Collection', 'Designer Sharon Zuckerman', 'Release 2000 - NRFB Never Removed From Box', 'Liquidation Clearance No Returns No Refunds No Exchanges']\n",
      "--------------------------------------------------------------------------------\n",
      "🔹 META\n",
      "Brand:   Mattel\n",
      "Title:   Barbie + Skipper Doll - Let's Drive! Student Driver Gift Set - T'R'U Exclusive 2000 Mattel\n",
      "Feature: []\n",
      "--------------------------------------------------------------------------------\n",
      "🔹 META\n",
      "Brand:   Mattel\n",
      "Title:   Barbie Disney Toy Story 2: Tour Guide Special Edition Doll (1999)\n",
      "Feature: []\n",
      "--------------------------------------------------------------------------------\n",
      "🔹 META\n",
      "Brand:   Barbie\n",
      "Title:   Barbie Harley Davidson Collectible Ken Doll #2\n",
      "Feature: ['Barbie Pink Label brings you Barbie teamed up with American icon Harley-Davidson', 'For an authentic look, Barbie is wearing a logo halter top and pink faux-leather chaps', \"The Harley-Davidson Barbie Collector's Doll is part of the American Favorites collection\", 'For ages 6 and above']\n",
      "--------------------------------------------------------------------------------\n",
      "🔹 META\n",
      "Brand:   Barbie\n",
      "Title:   Barbie as Wonder Woman Doll\n",
      "Feature: ['Barbie as Wonder Woman Doll Mattel Collector Edition', 'Includes: doll, bodysuit with attached lasso, cape, tights, fabric boots, headband, 2 bracelet cuffs, earrings, doll stand, Certificate of Authenticity', 'For the adult collector, age 14 and over']\n",
      "--------------------------------------------------------------------------------\n",
      "🔹 META\n",
      "Brand:   Mattel\n",
      "Title:   Barbie Magic &amp; Mystery Collection; Merlin and Morgan le Fay Doll Set by Mattel\n",
      "Feature: []\n",
      "--------------------------------------------------------------------------------\n"
     ]
    }
   ],
   "source": [
    "recall_index = 1697\n",
    "recall_indices = [recall_index]\n",
    "amazon_indices = indices2[recall_index]\n",
    "print_recall_data(recalls_df, recall_indices)\n",
    "print_metadata(amazon_df, amazon_indices[:15])"
   ]
  },
  {
   "cell_type": "markdown",
   "id": "65e9e348-94b8-4cd0-921f-f669d7c3d3b4",
   "metadata": {},
   "source": [
    "We observe that the recall product matched to **2,361** Amazon products is a **Barbie doll by Mattel**.  \n",
    "The printed data above shows that there are many Barbie doll by Mattel products in the Amazon dataset. However, when we inspect the full list, we find that several **Barbie baby dolls** are included in this match — even though they may not perfectly correspond to the recalled item.\r\n",
    "\n",
    "But first, let's check whether **Method 1** captured this match."
   ]
  },
  {
   "cell_type": "code",
   "execution_count": 68,
   "id": "2e8ca994-bd42-4685-a4d3-92f43c6d9c7d",
   "metadata": {},
   "outputs": [
    {
     "data": {
      "text/plain": [
       "matched_amazon_indices    []\n",
       "number_of_matches          0\n",
       "Name: 1697, dtype: object"
      ]
     },
     "execution_count": 68,
     "metadata": {},
     "output_type": "execute_result"
    }
   ],
   "source": [
    "recall_matches1.loc[1697]"
   ]
  },
  {
   "cell_type": "markdown",
   "id": "38111da0-10d9-4033-9d82-54300a217fff",
   "metadata": {},
   "source": [
    "We observe that **Method 1** did not capture this recall item, whereas **Method 2** matched it to **2,361** Amazon products.  \n",
    "This accounts for a significant portion of the **2,952**-match difference between the two methods.\n",
    "\n",
    "When we examine the Amazon indices matched by Method 2 to the **Barbie doll by Mattel**, we find that all **56** of these items were instead matched to a **different recall product** in Method 1."
   ]
  },
  {
   "cell_type": "code",
   "execution_count": 74,
   "id": "3dec9144-4c99-440e-b20d-a101b35c7b3f",
   "metadata": {},
   "outputs": [
    {
     "name": "stdout",
     "output_type": "stream",
     "text": [
      "🔹 REPORT\n",
      "Brand:               Barbie\n",
      "Product Description: Hula Hair Barbie\n",
      "--------------------------------------------------------------------------------\n",
      "🔹 META\n",
      "Brand:   Barbie\n",
      "Title:   Barbie Jam'n Glam TERESA DOLL With HAIR EXTENSIONS by Mattel\n",
      "Feature: [\"Barbie JAM 'n GLAM TERESA DOLL is a 2000 Mattel production. Box has MULTI-Lingual Writing.\", 'INCLUDES: TERESA DOLL approx. 11.5\" tall w 2 Tone TWIST HAIR (Brown & PINK) & Flexible EVER-FLEX WAIST. Teresa Doll wears a Blue Faux FUR JACKET, a Glittery Pink TOP, a Pair of Silvery CAPRIS, a Pair of Pink w Silvery SHOES, & Comes w Head Microphone, Pair of SUN GLASSES, 3 x HAIR EXTENSIONS (Blue, Green & Purple), & Pretend CD\\'s.', \"Jam'n Glam Teresa Doll is GREAT for your Collection, for Personal Use - Fun Play, Display, Diorama, or Whatever YOU Prefer.\", 'For Ages 3+ Years. All colors, sizes & description details are provided to the best of my ability & may not be exact & may vary.', '*NEW & SEALED. Box has minor wear. For BOX CONDITION and more Information please EMAIL SELLER for Details.']\n",
      "--------------------------------------------------------------------------------\n",
      "🔹 REPORT\n",
      "Brand:               Barbie\n",
      "Product Description: Hula Hair Barbie\n",
      "--------------------------------------------------------------------------------\n",
      "🔹 META\n",
      "Brand:   Barbie\n",
      "Title:   Barbie Jam'n Glam TERESA DOLL With HAIR EXTENSIONS by Mattel\n",
      "Feature: [\"Barbie JAM 'n GLAM TERESA DOLL is a 2000 Mattel production. Box has MULTI-Lingual Writing.\", 'INCLUDES: TERESA DOLL approx. 11.5\" tall w 2 Tone TWIST HAIR (Brown & PINK) & Flexible EVER-FLEX WAIST. Teresa Doll wears a Blue Faux FUR JACKET, a Glittery Pink TOP, a Pair of Silvery CAPRIS, a Pair of Pink w Silvery SHOES, & Comes w Head Microphone, Pair of SUN GLASSES, 3 x HAIR EXTENSIONS (Blue, Green & Purple), & Pretend CD\\'s.', \"Jam'n Glam Teresa Doll is GREAT for your Collection, for Personal Use - Fun Play, Display, Diorama, or Whatever YOU Prefer.\", 'For Ages 3+ Years. All colors, sizes & description details are provided to the best of my ability & may not be exact & may vary.', '*NEW & SEALED. Box has minor wear. For BOX CONDITION and more Information please EMAIL SELLER for Details.']\n",
      "--------------------------------------------------------------------------------\n",
      "🔹 REPORT\n",
      "Brand:               Barbie\n",
      "Product Description: Hula Hair Barbie\n",
      "--------------------------------------------------------------------------------\n",
      "🔹 META\n",
      "Brand:   Barbie\n",
      "Title:   Barbie 1995 Jewel Hair Mermaid Teresa Doll in Pink with The Longest Hair Ever\n",
      "Feature: ['BEAUTIFUL MERMAID TERESA BARBIE']\n",
      "--------------------------------------------------------------------------------\n",
      "🔹 REPORT\n",
      "Brand:               Barbie\n",
      "Product Description: Hula Hair Barbie\n",
      "--------------------------------------------------------------------------------\n",
      "🔹 META\n",
      "Brand:   Barbie\n",
      "Title:   Barbie 1996 Hula Hair Teresa Doll\n",
      "Feature: ['Mattel toy,Hula Teresa hair Barbie, 1996 Collectible Barbie, UPC-074299170492']\n",
      "--------------------------------------------------------------------------------\n",
      "🔹 REPORT\n",
      "Brand:               Barbie\n",
      "Product Description: Hula Hair Barbie\n",
      "--------------------------------------------------------------------------------\n",
      "🔹 META\n",
      "Brand:   Barbie\n",
      "Title:   Barbie Fashion Fever Hair Shop Doll\n",
      "Feature: []\n",
      "--------------------------------------------------------------------------------\n",
      "🔹 REPORT\n",
      "Brand:               Barbie\n",
      "Product Description: Hula Hair Barbie\n",
      "--------------------------------------------------------------------------------\n",
      "🔹 META\n",
      "Brand:   Barbie\n",
      "Title:   Barbie Fashion Fever Hair Highlights Doll with Purple Dress\n",
      "Feature: ['The Fashion Fever Hair Highlights doll comes with a cool hair-streaking tool for applying three different dry colors', 'Create highlights for you and your doll', 'Includes a second glam outfit', 'Additional wear and share hair accessories']\n",
      "--------------------------------------------------------------------------------\n",
      "🔹 REPORT\n",
      "Brand:               Barbie\n",
      "Product Description: Hula Hair Barbie\n",
      "--------------------------------------------------------------------------------\n",
      "🔹 META\n",
      "Brand:   Barbie\n",
      "Title:   Barbie 35th Anniversary Doll Special Edition Reproduction of Original 1959 Barbie Doll &amp; Package! - Brunette Hair (1993)\n",
      "Feature: ['35th anniversary barbie doll original 1959 barbie doll & package! Special edition reproduction is a 1993 mattel production.', 'Includes: 11. 5\" barbie doll w/brunette hair; wears white & black stripe bathing suit & comes w/original copy of package (box), doll sun glasses, black slip on hi heel shoes & a booklet,.', 'All sizes, colors, styles & info are approximate; may vary.', 'For ages 3+ years. Warning: choking hazard/small parts.', 'Great for any collection, as a gift or just for fun play!']\n",
      "--------------------------------------------------------------------------------\n",
      "🔹 REPORT\n",
      "Brand:               Barbie\n",
      "Product Description: Hula Hair Barbie\n",
      "--------------------------------------------------------------------------------\n",
      "🔹 META\n",
      "Brand:   Barbie\n",
      "Title:   Pretty Choices Barbie Doll Pink Long Hair\n",
      "Feature: ['1996 Collectible Barbie', 'New in Factory Sealed Package', 'Rare & Collectible', 'Caucasian Skin Tone - Purple Outfit - Long Blonde Hair']\n",
      "--------------------------------------------------------------------------------\n",
      "🔹 REPORT\n",
      "Brand:               Barbie\n",
      "Product Description: Hula Hair Barbie\n",
      "--------------------------------------------------------------------------------\n",
      "🔹 META\n",
      "Brand:   Barbie\n",
      "Title:   Barbie Hollywood Hair Barbie Doll (1992)\n",
      "Feature: ['Hollywood hair barbie doll is a 1992 mattel production.', 'Barbie doll is approx. 11. 5\" tall w/long blond hair & blue eyes.', 'Contents: barbie doll, oufit, jewelry, stencil comb & clear mist spray bottle.', 'See product description below for more details & information.', 'Great for any collection, as a gift or just for fun play!']\n",
      "--------------------------------------------------------------------------------\n",
      "🔹 REPORT\n",
      "Brand:               Barbie\n",
      "Product Description: Hula Hair Barbie\n",
      "--------------------------------------------------------------------------------\n",
      "🔹 META\n",
      "Brand:   Barbie\n",
      "Title:   Barbie Hawaiian Fun Doll with Hula Skirt\n",
      "Feature: ['12 inches', 'Hula skirt included', 'Comes with a pineapple scent bracelet for you']\n",
      "--------------------------------------------------------------------------------\n",
      "🔹 REPORT\n",
      "Brand:               Barbie\n",
      "Product Description: Hula Hair Barbie\n",
      "--------------------------------------------------------------------------------\n",
      "🔹 META\n",
      "Brand:   Barbie\n",
      "Title:   Special Edition Barbie 1991 Dolls of the World 12 Inch Doll Collection - Spanish Barbie Doll Dressed For A Fiesta with Festival Dress, Apron, Shawl, Mantilla, Stockings, Hair Decoration, Shoes, Hairbrush and Doll Stand\n",
      "Feature: ['Includes : Spanish Barbie Doll Dressed For A Fiesta with Festival Dress, Apron, Shawl, Mantilla, Stockings, Hair Decoration, Shoes, Hairbrush and Doll Stand', 'Doll measured approximately 12 inch tall', 'Produced in year 1991', 'For age 3 and up']\n",
      "--------------------------------------------------------------------------------\n",
      "🔹 REPORT\n",
      "Brand:               Barbie\n",
      "Product Description: Barbie doll from Barbie puppy water park.\n",
      "--------------------------------------------------------------------------------\n",
      "🔹 META\n",
      "Brand:   Barbie\n",
      "Title:   Mia Barbie Doll\n",
      "Feature: ['Mia is straight from the popular Rebelde telenovela and hot pop-rock music group RBD', \"This chart-topping 'tween pop and soap-opera star comes dressed in her school-girl uniform!\", 'Mia is wearing a red blazer, tie and tiered denim skirt!', 'Her outfit shows her exuberance of her own personal style', 'Stylish black boots!']\n",
      "--------------------------------------------------------------------------------\n",
      "🔹 REPORT\n",
      "Brand:               Barbie\n",
      "Product Description: Hula Hair Barbie\n",
      "--------------------------------------------------------------------------------\n",
      "🔹 META\n",
      "Brand:   Barbie\n",
      "Title:   Barbie Olympic Gymnast Barbie Doll (Auburn Hair 1995)\n",
      "Feature: ['Rare 1995 Auburn Hair Gymnast Barbie!']\n",
      "--------------------------------------------------------------------------------\n",
      "🔹 REPORT\n",
      "Brand:               Barbie\n",
      "Product Description: Hula Hair Barbie\n",
      "--------------------------------------------------------------------------------\n",
      "🔹 META\n",
      "Brand:   Barbie\n",
      "Title:   Barbie SPLASH 'N COLOR SKIPPER Doll w Color Change HAIR (Purple 1996)\n",
      "Feature: [\"Skipper Splash 'n Color Barbie is a 1996 Mattel production.\", 'INCLUDES: Skipper doll approx. 9.5\" tall w/long blond hair with magical Braid that changes color in warm water, & Skipper Doll has greenish eyes. Skipper Doll wears 2 pce. purple Bathing Suit w/gold trim, Pair of Earrings.', \"Skipper Doll's Magical Hair Braid has pink, purple & gold strands; Hair changes color in warm water & other color returns in cold water. *Doll's Color Change Hair stays better when doll kept away from direct sunlight or prolonged heat.\", 'For Ages 3+ Years. All the provided details are to the best of my ability & may not be exact; colors, sizes & details may vary.', 'For Box Condition see CONDITION NOTE or Email Seller for Details. *Box plastic has small dings on side.']\n",
      "--------------------------------------------------------------------------------\n",
      "Number of matches:56\n"
     ]
    }
   ],
   "source": [
    "number_of_matches = 0\n",
    "for ind_a in amazon_indices:\n",
    "    if amazon_df.loc[ind_a,'Is match']==1:\n",
    "        number_of_matches+=1\n",
    "        recall_indices = amazon_df.loc[ind_a,'matched_recall_indices']\n",
    "        if number_of_matches<15:   # Limit number of printed data\n",
    "            print_recall_data(recalls_df, recall_indices)\n",
    "            print_metadata(amazon_df, [ind_a])\n",
    "print(f\"Number of matches:{number_of_matches}\")"
   ]
  },
  {
   "cell_type": "markdown",
   "id": "330b6807-6988-4133-a703-f31f08dc541e",
   "metadata": {},
   "source": [
    "We observe that **56** of the products in the list of **2,361** Amazon matches (linked by Method 2 to the **Barbie doll by Mattel**) were also matched to **Hula Hair Barbie** by Method 1.  \n",
    "This suggests that there are multiple **Barbie dolls** included in the recall list.\n",
    "\n",
    "Although certain details—such as hair color or other attributes—may not always perfectly align, we will **retain these matches** in our labeling process.  \n",
    "We believe that **false positives are preferable to false negatives** — it is more important to capture all potentially hazardous or customer-dissatisfying products, even at the risk of some imperfect matches."
   ]
  },
  {
   "cell_type": "markdown",
   "id": "aa33ea75-8386-4e58-afd3-0aae66330603",
   "metadata": {},
   "source": [
    "#### 3. Recall Matches for Method 3"
   ]
  },
  {
   "cell_type": "code",
   "execution_count": 76,
   "id": "e8aac2ac-903f-4950-ab9e-93e50b2df54a",
   "metadata": {},
   "outputs": [],
   "source": [
    "# Recall Matches for Method 3\n",
    "recall_matches_s1_sc70 = build_recall_match_df(match_df_s1_sc70['matched_recall_indices'], recalls_df)"
   ]
  },
  {
   "cell_type": "code",
   "execution_count": 78,
   "id": "2e6cbed1-d7a7-48f5-95a1-155afdced968",
   "metadata": {},
   "outputs": [
    {
     "data": {
      "text/plain": [
       "151     100\n",
       "274      67\n",
       "753      51\n",
       "1416     41\n",
       "153      35\n",
       "       ... \n",
       "866       0\n",
       "867       0\n",
       "868       0\n",
       "869       0\n",
       "2513      0\n",
       "Name: number_of_matches, Length: 2514, dtype: int64"
      ]
     },
     "execution_count": 78,
     "metadata": {},
     "output_type": "execute_result"
    }
   ],
   "source": [
    "recall_matches_s1_sc70['number_of_matches'].sort_values(ascending=False)"
   ]
  },
  {
   "cell_type": "markdown",
   "id": "896db6bf-8cb9-42ba-9142-fb94d0773a6b",
   "metadata": {},
   "source": [
    "## Comparison of Results of Different Methods"
   ]
  },
  {
   "cell_type": "code",
   "execution_count": 80,
   "id": "ef1563f6-d04e-443f-bce6-7f43b7e2146f",
   "metadata": {},
   "outputs": [],
   "source": [
    "from typing import Dict, List\n",
    "\n",
    "def compare_match_columns(col_a, col_b):\n",
    "    \"\"\"\n",
    "    Compare two binary (0/1) pd.Series and return index lists for\n",
    "    their intersection and differences.\n",
    "\n",
    "    Returns a dict with keys:\n",
    "      - 'intersection'\n",
    "      - 'only_a'\n",
    "      - 'only_b'\n",
    "      - 'symmetric_diff'\n",
    "    \"\"\"\n",
    "    # align indices, filling missing with 0\n",
    "    a, b = col_a.align(col_b, join='inner', fill_value=0)\n",
    "    a_mask = a == 1\n",
    "    b_mask = b == 1\n",
    "\n",
    "    intersection   = a.index[a_mask & b_mask].tolist()\n",
    "    only_a         = a.index[a_mask & ~b_mask].tolist()\n",
    "    only_b         = a.index[~a_mask & b_mask].tolist()\n",
    "    symmetric_diff = a.index[a_mask ^ b_mask].tolist()\n",
    "\n",
    "    return {\n",
    "        'intersection':    intersection,\n",
    "        'only_a':          only_a,\n",
    "        'only_b':          only_b,\n",
    "        'symmetric_diff':  symmetric_diff\n",
    "    }"
   ]
  },
  {
   "cell_type": "markdown",
   "id": "9d86762a-6efd-4e95-9b90-65d657a866c7",
   "metadata": {},
   "source": [
    "## Compare Method 1 with Method 2"
   ]
  },
  {
   "cell_type": "code",
   "execution_count": 82,
   "id": "6fa0d236-c16b-48c8-b816-5aa0f0ea1f6e",
   "metadata": {},
   "outputs": [
    {
     "name": "stdout",
     "output_type": "stream",
     "text": [
      "✓ Both methods agree on: 2150\n",
      "✗ Only method1: 3\n",
      "✗ Only method2: 2955\n",
      "🔀 Methods disagree: 2958\n"
     ]
    }
   ],
   "source": [
    "result12 = compare_match_columns(amazon_df['Is match'],match_df_s2_sc90['is_match'])\n",
    "\n",
    "print(\"✓ Both methods agree on:\", len(result12['intersection']))\n",
    "print(\"✗ Only method1:\",      len(result12['only_a']))\n",
    "print(\"✗ Only method2:\",      len(result12['only_b']))\n",
    "print(\"🔀 Methods disagree:\",          len(result12['symmetric_diff']))"
   ]
  },
  {
   "cell_type": "code",
   "execution_count": 84,
   "id": "c9738107-3ace-45c3-b34e-6e25adb32af6",
   "metadata": {},
   "outputs": [],
   "source": [
    "def print_difference(diff_amazon_ind, match_df, amazon_df):\n",
    "    for id_a in diff_amazon_ind:\n",
    "        print(f\"Amazon Index: {id_a}\")\n",
    "        print_metadata(amazon_df, [id_a])\n",
    "        recall_indices = match_df.loc[id_a,['matched_recall_indices']]\n",
    "        print_recall_data(recalls_df, recall_indices.iloc[0])"
   ]
  },
  {
   "cell_type": "markdown",
   "id": "7bffdd78-a474-4c10-b2e9-9183aa72256d",
   "metadata": {},
   "source": [
    "#### 3 matches catched by Method 1 and not catched by Method2:"
   ]
  },
  {
   "cell_type": "code",
   "execution_count": 86,
   "id": "f4f9700b-1954-47e9-86da-4613c563bfe7",
   "metadata": {},
   "outputs": [
    {
     "name": "stdout",
     "output_type": "stream",
     "text": [
      "Amazon Index: 109146\n",
      "🔹 META\n",
      "Brand:   \n",
      "Title:   2&quot; Lumistick Mini Glow Stick Light Sticks Mixed Colors (100 pcs.)\n",
      "Feature: []\n",
      "--------------------------------------------------------------------------------\n",
      "🔹 REPORT\n",
      "Brand:                \n",
      "Product Description: 7 Glow Stick\n",
      "--------------------------------------------------------------------------------\n",
      "Amazon Index: 171171\n",
      "🔹 META\n",
      "Brand:   \n",
      "Title:   &quot;Snap &amp; Glow&quot; Super Bright Glow Stick Bracelets (Pack of 50) (Assorted)\n",
      "Feature: ['<span class=\"a-text-bold\">ASIN:\\n                    </span>\\n                    <span>B0042FQRZG</span>', '', '<span class=\"a-text-bold\">Date first listed on Amazon:\\n                    </span>\\n                    <span>January 15, 2016</span>', '<span class=\"a-text-bold\">\\n                    Average Customer Review:\\n                </span>\\n                \\n\\n\\n\\n\\n<style type=\"text/css\">\\n    /* \\n    * Fix for UDP-1061. Average customer reviews has a small extra line on hover \\n    * https://omni-grok.amazon.com/xref/src/appgroup/websiteTemplates/retail/SoftlinesDetailPageAssets/udp-intl-lock/src/legacy.css?indexName=WebsiteTemplates#40\\n    */\\n    .noUnderline a:hover { \\n        text-decoration: none; \\n    }\\n</style>\\n\\n\\n\\n    \\n    \\n    \\n    \\n        \\n\\n        \\n\\n        \\n        \\n        \\n        \\n\\t\\t\\n\\t\\t\\n\\t\\t\\n\\t\\t\\n\\t\\t        \\n\\t\\t\\n\\t\\t\\n\\t\\t\\n\\t\\t\\n\\t\\t\\n\\t\\t\\n\\t\\t\\n\\t\\t        \\n        \\n\\n        <div id=\"detailBullets_averageCustomerReviews\" class=\"a-spacing-none\" data-asin=\"B0042FQRZG\" data-ref=\"dpx_acr_pop_\" >\\n            \\n            \\n            \\n                \\n                    \\n\\n\\n\\n\\n\\n\\n\\n    \\n    \\n        \\n            \\n                <a id=\"acrCustomerWriteReviewLink\" class=\"a-link-normal reviewCountSolicit\" href=\"/review/create-review/ref=dpx_acr_wr_link?asin=B0042FQRZG\">\\n                    <span id=\"acrCustomerWriteReviewText\" class=\"a-size-base\">Be the first to review this item</span>\\n                </a>\\n            \\n        \\n    \\n\\n                \\n                \\n            \\n        </div>']\n",
      "--------------------------------------------------------------------------------\n",
      "🔹 REPORT\n",
      "Brand:                \n",
      "Product Description: 7 Glow Stick\n",
      "--------------------------------------------------------------------------------\n",
      "Amazon Index: 298941\n",
      "🔹 META\n",
      "Brand:   \n",
      "Title:   4 Pcs Plastic Coated 3 Flashing Modes LED Light Glow Stick Wand\n",
      "Feature: []\n",
      "--------------------------------------------------------------------------------\n",
      "🔹 REPORT\n",
      "Brand:                \n",
      "Product Description: 7 Glow Stick\n",
      "--------------------------------------------------------------------------------\n"
     ]
    }
   ],
   "source": [
    "print_difference(result12['only_a'], amazon_df, amazon_df)"
   ]
  },
  {
   "cell_type": "markdown",
   "id": "ed9b3b68-ba3b-49bc-ae6a-7bd207aa8e3d",
   "metadata": {},
   "source": [
    "#### Matches catched by Method 2 and not catched by Method 1:"
   ]
  },
  {
   "cell_type": "markdown",
   "id": "7523acc5-9ac4-459c-a793-6650f94e74c8",
   "metadata": {},
   "source": [
    "We already checked the indices matching Barbie Doll by Mattel above. Here we will eliminate those rows:"
   ]
  },
  {
   "cell_type": "code",
   "execution_count": 90,
   "id": "ffbf701e-1a02-4310-b7b9-0bf23777829d",
   "metadata": {},
   "outputs": [],
   "source": [
    "Barbie_Doll_Indices = indices2[1697]"
   ]
  },
  {
   "cell_type": "code",
   "execution_count": 92,
   "id": "8371f864-fd68-4f20-9a3b-9f78cf64b59e",
   "metadata": {},
   "outputs": [
    {
     "name": "stdout",
     "output_type": "stream",
     "text": [
      "Amazon Index: 7\n",
      "🔹 META\n",
      "Brand:   UDI\n",
      "Title:   UDI U806 Infrared Remote Control Helicopter W/gyro - RED\n",
      "Feature: ['Includes 3.7 volt lithium battery', 'Includes USB data cable']\n",
      "--------------------------------------------------------------------------------\n",
      "🔹 REPORT\n",
      "Brand:               UDI R/C U16\n",
      "Product Description: Remote Control Helicopter\n",
      "--------------------------------------------------------------------------------\n",
      "Amazon Index: 1942\n",
      "🔹 META\n",
      "Brand:   UDI\n",
      "Title:   3.5 Channel U810 Fighter RC Gyro Control Helicopter w/ Launching Missiles\n",
      "Feature: ['Directions: Up/Down, Forward/Backward, Right/left turn, and Hovering', 'Functions: Left/right missile launch, Acceleration, Missile launch with Sound', 'Control Distance: 10m +', 'Charging Time: 45 minutes', 'Charging methods: USB and transmitter']\n",
      "--------------------------------------------------------------------------------\n",
      "🔹 REPORT\n",
      "Brand:               UDI R/C U16\n",
      "Product Description: Remote Control Helicopter\n",
      "--------------------------------------------------------------------------------\n",
      "Amazon Index: 2920\n",
      "🔹 META\n",
      "Brand:   Stomp Rocket\n",
      "Title:   Stomp Rocket The Original Jr. Glow, 4 Rockets (Packaging May Vary)\n",
      "Feature: ['Jr. Glow Stomp Rockets glow-in-the-dark, so they stand out against a dark sky!', '100% KID powered: Run, jump and STOMP to launch these rockets up to 100 feet in the air!', 'All-foam rockets are great for younger kids  ages 3 and up and a solo play game', 'Includes a Stomp Launcher and 4 Jr. Glow Stomp Rockets.No batteries required; super easy, fast assembly']\n",
      "--------------------------------------------------------------------------------\n",
      "🔹 REPORT\n",
      "Brand:               Stomp Rocket Ultra\n",
      "Product Description: Stomp Rocket Ultra\n",
      "--------------------------------------------------------------------------------\n",
      "Amazon Index: 3395\n",
      "🔹 META\n",
      "Brand:   Melissa & Doug\n",
      "Title:   Melissa &amp; Doug Fuzzy Farm Puzzle\n",
      "Feature: ['Weight - 8 oz.', 'Assembly Required - No Assembly Required', 'Dimensions - 12\" L x 9\" W x 0.6\" H', 'Age Recommendation - 12 months to 4 years']\n",
      "--------------------------------------------------------------------------------\n",
      "🔹 REPORT\n",
      "Brand:               Melissa & Doug 3723\n",
      "Product Description: Melissa & Doug Farm Animals Chunky Puzzle - 8 Pieces\n",
      "--------------------------------------------------------------------------------\n",
      "Amazon Index: 3504\n",
      "🔹 META\n",
      "Brand:   Playskool\n",
      "Title:   Playskool Step Start Walk 'n Ride\n",
      "Feature: ['2-in-1 activity toy has a clicking dial and locking mechanism', 'Starts as a sturdy walker to help baby learn to walk', 'Converts to a fun ride-on for toddlers', 'Front and back spinner', 'Hood opens and closes']\n",
      "--------------------------------------------------------------------------------\n",
      "🔹 REPORT\n",
      "Brand:               Playskool / Hasbro\n",
      "Product Description: Playskool Busy Basics Step Start Walk 'n RideItem #: 033319 SKU: FD94AC3F UPC/EAN/ISBN: 032245055453 Manufacturer #: 05545\n",
      "--------------------------------------------------------------------------------\n",
      "Amazon Index: 3935\n",
      "🔹 META\n",
      "Brand:   Playmates\n",
      "Title:   Amazing Ally 18&quot; Interactive Doll\n",
      "Feature: ['Fully functioning time keeping computer (CPU) with 32 megabits of voice memory (ROM)', \"One doll, many adventures- Ally's world grows with each 8 megabit (ROM) AdventureWare Pack\", 'Intricate sensors all over her body enable Ally to identify her accessories, clothes, hat & barrettes, and even her shoes!', \"Ally's internal clock helps her remember your favourite things, your birthday, and even the holidays you like to celebrate.\", \"Ally's mouth really moves with state-of-the-art animatronics!\"]\n",
      "--------------------------------------------------------------------------------\n",
      "🔹 REPORT\n",
      "Brand:               Playmates Toys Inc.\n",
      "Product Description: Amazing Ally was an interactive animatronic doll, released sometime in 1999. It could interact with the player in various ways with the use of its built-in sensors and connectors to attach its accessories to. The doll could play games, tell stories, and ask/answer questions based on the input it received from the player.\n",
      "--------------------------------------------------------------------------------\n",
      "Amazon Index: 4285\n",
      "🔹 META\n",
      "Brand:   Little People\n",
      "Title:   Fisher-Price Little People Airport Playset - Red\n",
      "Feature: ['Includes: 3 vehicles & 3 character figures', '16\"H x 23.5\"W x 5\"D (packaged)', 'Ages 18 months to 5 years', 'Assembly required']\n",
      "--------------------------------------------------------------------------------\n",
      "🔹 REPORT\n",
      "Brand:               Fisher-Price Little People\n",
      "Product Description: Fisher-Price Little People Barbie Little Dreamhouse Toddler Playset With Music & Lights16.54 x 24.02 x 24.02 inches\n",
      "--------------------------------------------------------------------------------\n",
      "Amazon Index: 5245\n",
      "🔹 META\n",
      "Brand:   Fisher-Price\n",
      "Title:   Imaginext Construction Site\n",
      "Feature: []\n",
      "--------------------------------------------------------------------------------\n",
      "🔹 REPORT\n",
      "Brand:               Fisher-Price Imaginext Lost Creature Safari Vehicle\n",
      "Product Description: Durable plastic construction Vehicle features a button that fires the grappling hook Cage attaches to vehicle Includes: vehicle, cage, figure, spear, grappling hook and 2 jungle creatures .. lime green Fisher-Price Imaginext Lost Creature Safari VehicleRecommended for ages 3-8 \n",
      "--------------------------------------------------------------------------------\n",
      "Amazon Index: 5349\n",
      "🔹 META\n",
      "Brand:   Geospace\n",
      "Title:   Geospace 12910 Pump Rocket Jr. in Pop Floor Dspy\n",
      "Feature: ['Pump, Aim & Launch', 'Soars up to 75 feet or more!', 'Includes one 10\" soft foam rocket and Thrust Booster launcher', 'Rocket features a safe, extra-soft foam tip', 'For ages 3 years and up']\n",
      "--------------------------------------------------------------------------------\n",
      "🔹 REPORT\n",
      "Brand:               Geospace pump rocket SR.\n",
      "Product Description: foam pump rocket\n",
      "--------------------------------------------------------------------------------\n",
      "Amazon Index: 5553\n",
      "🔹 META\n",
      "Brand:   Melissa & Doug\n",
      "Title:   Melissa &amp; Doug Stacking Train - Classic Wooden Toddler Toy (18 pcs)\n",
      "Feature: ['Engine and two train cars stacked full with 15 colorful, wooden blocks', 'Practice color and shape recognition', 'Great for hand-eye coordination and imaginative play', '18\" x 5\" x 3.5\"', 'Ages 2 years and up']\n",
      "--------------------------------------------------------------------------------\n",
      "🔹 REPORT\n",
      "Brand:               Melissa and Doug\n",
      "Product Description: Melissa and Doug Classic Toy Stacking Train\n",
      "--------------------------------------------------------------------------------\n",
      "Amazon Index: 5559\n",
      "🔹 META\n",
      "Brand:   Brio\n",
      "Title:   BRIO Remote Control Train\n",
      "Feature: ['Press a button on the hand-held wireless remote control to make the infrared train toot, light up, run forward, backwards, or stop', 'Automatic switch off after 10 minutes', 'Requires 2 x AA 1.5 V batteries and 4 x 1.5 V button cells (Included )', 'Remote control is powered by 2 x AA batteries( Included )', 'For ages 3 and above']\n",
      "--------------------------------------------------------------------------------\n",
      "🔹 REPORT\n",
      "Brand:               Brio remote control engine 33213\n",
      "Product Description: Brio remote engine. Battery operated red engine for child wooden train set. Can be activated by buttons on engine or remote. \n",
      "--------------------------------------------------------------------------------\n",
      "Amazon Index: 7236\n",
      "🔹 META\n",
      "Brand:   Sassy\n",
      "Title:   Sassy Car Wash Bath Toy (Discontinued by Manufacturer)\n",
      "Feature: []\n",
      "--------------------------------------------------------------------------------\n",
      "🔹 REPORT\n",
      "Brand:               Sassy Brand Pop N Pour and Pals\n",
      "Product Description: Bath toy\n",
      "--------------------------------------------------------------------------------\n",
      "Amazon Index: 8624\n",
      "🔹 META\n",
      "Brand:   WowWee\n",
      "Title:   WowWee Robosapien Humanoid Toy Robot with Remote Control\n",
      "Feature: []\n",
      "--------------------------------------------------------------------------------\n",
      "🔹 REPORT\n",
      "Brand:               Wowwee Robotics\n",
      "Product Description: Robosapien 2\n",
      "--------------------------------------------------------------------------------\n",
      "Amazon Index: 9218\n",
      "🔹 META\n",
      "Brand:   The Batman\n",
      "Title:   The Batman 10inch Collectors Action Figure\n",
      "Feature: ['10in Tall \"The Batman\" Action Figure', 'Includes Cloth Cape and Clip on Accessory!', 'From \"The Batman\" TV series!']\n",
      "--------------------------------------------------------------------------------\n",
      "🔹 REPORT\n",
      "Brand:               Batman\n",
      "Product Description: Batman Action Figure 30 to 31 \n",
      "--------------------------------------------------------------------------------\n",
      "Amazon Index: 10103\n",
      "🔹 META\n",
      "Brand:   Geospace\n",
      "Title:   Geospace Pump Rocket - 2 Rocket Set\n",
      "Feature: ['Made of safe, soft foam', 'Rockets have extra soft foam tips that can be launched indoors or out', 'Each pump rocket includes durable pump launcher, one rocket with stabilizer fins and patented thrust booster that adds more flight time and distance', '4 assorted colors will vary']\n",
      "--------------------------------------------------------------------------------\n",
      "🔹 REPORT\n",
      "Brand:               Geospace pump rocket SR.\n",
      "Product Description: foam pump rocket\n",
      "--------------------------------------------------------------------------------\n",
      "Amazon Index: 10799\n",
      "🔹 META\n",
      "Brand:   Trackmaster\n",
      "Title:   Trackmaster Oliver the Train\n",
      "Feature: ['Oliver the green steam engine is an original to the fleet of thomas and freinds', 'requires 1 AA battery', 'comes with 2 coaches', 'come green and very detailed to match the tv show', 'very rare set']\n",
      "--------------------------------------------------------------------------------\n",
      "🔹 REPORT\n",
      "Brand:               Thomas & Friends TrackMaster\n",
      "Product Description: Look at all the track and accessories you get in this package. The box is filled with straight (9) and curved tracks (10), switches (1 left, 1 right), sloped curve tracks (2 left, 2 right), and girders (2 level 1, 2 level 2 and 1 level 3) so you can expand your existing track system! The different girder levels allow you to raise the tracks to make hills and pass over the tracks below. The switches (flat end turn outs) give additional engines space to rest, turn out, or change direction. The sloped curve rails, when used with girders, allow you to gradually elevate your track. You can combine this track with other HIT toys TrackMaster Railway playsets to create your own fantastic train layouts. \n",
      "--------------------------------------------------------------------------------\n",
      "Amazon Index: 12519\n",
      "🔹 META\n",
      "Brand:   Stomp Rocket\n",
      "Title:   Stomp Rocket The Original Jr. Glow, 4 Rockets (Packaging May Vary)\n",
      "Feature: ['Jr. Glow Stomp Rockets glow-in-the-dark, so they stand out against a dark sky!', '100% KID powered: Run, jump and STOMP to launch these rockets up to 100 feet in the air!', 'All-foam rockets are great for younger kids  ages 3 and up and a solo play game', 'Includes a Stomp Launcher and 4 Jr. Glow Stomp Rockets.No batteries required; super easy, fast assembly']\n",
      "--------------------------------------------------------------------------------\n",
      "🔹 REPORT\n",
      "Brand:               Stomp Rocket Ultra\n",
      "Product Description: Stomp Rocket Ultra\n",
      "--------------------------------------------------------------------------------\n",
      "Amazon Index: 12994\n",
      "🔹 META\n",
      "Brand:   Melissa & Doug\n",
      "Title:   Melissa &amp; Doug Fuzzy Farm Puzzle\n",
      "Feature: ['Weight - 8 oz.', 'Assembly Required - No Assembly Required', 'Dimensions - 12\" L x 9\" W x 0.6\" H', 'Age Recommendation - 12 months to 4 years']\n",
      "--------------------------------------------------------------------------------\n",
      "🔹 REPORT\n",
      "Brand:               Melissa & Doug 3723\n",
      "Product Description: Melissa & Doug Farm Animals Chunky Puzzle - 8 Pieces\n",
      "--------------------------------------------------------------------------------\n",
      "Amazon Index: 13103\n",
      "🔹 META\n",
      "Brand:   Playskool\n",
      "Title:   Playskool Step Start Walk 'n Ride\n",
      "Feature: ['2-in-1 activity toy has a clicking dial and locking mechanism', 'Starts as a sturdy walker to help baby learn to walk', 'Converts to a fun ride-on for toddlers', 'Front and back spinner', 'Hood opens and closes']\n",
      "--------------------------------------------------------------------------------\n",
      "🔹 REPORT\n",
      "Brand:               Playskool / Hasbro\n",
      "Product Description: Playskool Busy Basics Step Start Walk 'n RideItem #: 033319 SKU: FD94AC3F UPC/EAN/ISBN: 032245055453 Manufacturer #: 05545\n",
      "--------------------------------------------------------------------------------\n",
      "Amazon Index: 13534\n",
      "🔹 META\n",
      "Brand:   Playmates\n",
      "Title:   Amazing Ally 18&quot; Interactive Doll\n",
      "Feature: ['Fully functioning time keeping computer (CPU) with 32 megabits of voice memory (ROM)', \"One doll, many adventures- Ally's world grows with each 8 megabit (ROM) AdventureWare Pack\", 'Intricate sensors all over her body enable Ally to identify her accessories, clothes, hat & barrettes, and even her shoes!', \"Ally's internal clock helps her remember your favourite things, your birthday, and even the holidays you like to celebrate.\", \"Ally's mouth really moves with state-of-the-art animatronics!\"]\n",
      "--------------------------------------------------------------------------------\n",
      "🔹 REPORT\n",
      "Brand:               Playmates Toys Inc.\n",
      "Product Description: Amazing Ally was an interactive animatronic doll, released sometime in 1999. It could interact with the player in various ways with the use of its built-in sensors and connectors to attach its accessories to. The doll could play games, tell stories, and ask/answer questions based on the input it received from the player.\n",
      "--------------------------------------------------------------------------------\n"
     ]
    }
   ],
   "source": [
    "diff12_other = [x for x in result12['only_b'] if x not in Barbie_Doll_Indices]\n",
    "print_difference(diff12_other[:20], match_df_s2_sc90, amazon_df)"
   ]
  },
  {
   "cell_type": "markdown",
   "id": "faf21620-3dcf-495a-b1f7-4afbee2a594a",
   "metadata": {},
   "source": [
    "The first 20 matched items look good.  \n",
    "Now, we will randomly print the matches that were **captured by Method 2 but not by Method 1**."
   ]
  },
  {
   "cell_type": "code",
   "execution_count": 98,
   "id": "a9625bc9-06ef-41cb-94c3-5fea83a0f39e",
   "metadata": {},
   "outputs": [
    {
     "name": "stdout",
     "output_type": "stream",
     "text": [
      "Amazon Index: 100070\n",
      "🔹 META\n",
      "Brand:   Dragon\n",
      "Title:    Dragon 1\n",
      "Feature: ['Scale: 1/35', 'Ages: 5+', 'Dragon P/N: 6325']\n",
      "--------------------------------------------------------------------------------\n",
      "🔹 REPORT\n",
      "Brand:               sensory Snuggables Plush Stuffed Animal - dragon\n",
      "Product Description: [REDACTED]From TargetBy Make Believe Ideas LtdSensory Snuggables Plush Stuffed Animal - DragonHighlights    Sensory Snuggables baby range    Green dragon plush toy    Nose squeaker to squeeze and grip    Chime rattle to delight and engage    Ribbon tags to tug and feel    Surprise crinkles to stimulate hearing    Tough teether to soothe sore gums    Mixed textures to touch and exploreDescriptionExplore the adorable Sensory Snuggables Dragon to stimulate and engage your little one’s senses. Wiggle the dragon to hear the noisy chime rattle, trace little fingers over the surprise, rustling crinkles, then practice squeezing and gripping the nose to hear it squeak! There is a tough teether to help soothe sore gums, as well as bright ribbon tags to tug, and a variety of soft textures and colorful patterns to look at and touch together. With so much to discover, it’s time to come and play!SpecificationsNumber of Pieces: 1Dimensions (Overall): 11.02 Inches (H) x 14.17 Inches (W) x 5.9 Inches (D)Weight: .25 PoundsSuggested Age: 1 Month and UpDoll Theme: FantasyMaterial: PolyesterBattery: No Battery UsedTCIN: 82224631UPC: 9781800582989Item Number (DPCI): 030-10-6448Origin: Imported\n",
      "--------------------------------------------------------------------------------\n",
      "Amazon Index: 327287\n",
      "🔹 META\n",
      "Brand:   Planet Orbeez\n",
      "Title:   Planet Orbeez - Mika's Beach Club\n",
      "Feature: ['Includes 100 Orbeez', '1 Orbeez Figure', '1 Orbeez Playset']\n",
      "--------------------------------------------------------------------------------\n",
      "🔹 REPORT\n",
      "Brand:               Orbeez\n",
      "Product Description: Orbeez\n",
      "--------------------------------------------------------------------------------\n",
      "🔹 REPORT\n",
      "Brand:               Orbeez\n",
      "Product Description: Orbeez\n",
      "--------------------------------------------------------------------------------\n",
      "Amazon Index: 298299\n",
      "🔹 META\n",
      "Brand:   Brio\n",
      "Title:   BRIO Battery Operated Action Train\n",
      "Feature: ['3 pieces; motorized engine, spinning cement mixer and rocking coal wagon', 'Press the button and the train comes alive and powers down the track', 'The cement mixer car spins and the coal wagon rocks back and forth', 'Fits all Brio and other wooden railways', 'For ages 3+']\n",
      "--------------------------------------------------------------------------------\n",
      "🔹 REPORT\n",
      "Brand:               Brio remote control engine 33213\n",
      "Product Description: Brio remote engine. Battery operated red engine for child wooden train set. Can be activated by buttons on engine or remote. \n",
      "--------------------------------------------------------------------------------\n",
      "Amazon Index: 108798\n",
      "🔹 META\n",
      "Brand:   Discovery Kids\n",
      "Title:   Discovery Kids Motorized Jet Engine\n",
      "Feature: []\n",
      "--------------------------------------------------------------------------------\n",
      "🔹 REPORT\n",
      "Brand:               Discovery Kids Motorized Pottery Wheel\n",
      "Product Description: Discovery Kids Motorized Pottery Wheel.  It is Blue and White with a green/yellow wheel.\n",
      "--------------------------------------------------------------------------------\n",
      "Amazon Index: 570558\n",
      "🔹 META\n",
      "Brand:   Disney Frozen\n",
      "Title:   Disney Frozen Little Kingdom Elsa's Magical Rising Castle\n",
      "Feature: ['Doll comes with 9 Snap-ins', 'Doll is 3 inches tall and can sit or stand', 'Castle comes with Olaf and several accessories', 'Mix and match Snap-ins to customize looks', 'Includes doll, 2 outfits, cape, 9 Snap-ins, ice castle with stool, vanity, ice cream sundae, coffee table, chaise couch, Olaf, throne, 6 ice crystals, and sparkly cuff.', '<span class=\"a-size-base a-color-secondary\">\\n                Castle expands to 20 inches tall\\n            </span>', '<span class=\"a-size-base a-color-secondary\">\\n                Unveil the castles dazzling lights and sounds\\n            </span>', '<span class=\"a-size-base a-color-secondary\">\\n                Comes with Elsa, Olaf, and accessories\\n            </span>', '<span class=\"a-size-base a-color-secondary\">\\n                Accessorize with 9 Snap-ins pieces\\n            </span>', '<span class=\"a-size-base a-color-secondary\">\\n                Storage for Snap-ins pieces\\n            </span>']\n",
      "--------------------------------------------------------------------------------\n",
      "🔹 REPORT\n",
      "Brand:               Disney \n",
      "Product Description: Frozen Castle\n",
      "--------------------------------------------------------------------------------\n",
      "Amazon Index: 34796\n",
      "🔹 META\n",
      "Brand:   ALEX Toys\n",
      "Title:   ALEX Toys Rub a Dub Musical Spray Whale Bath Toy\n",
      "Feature: ['This toy makes bath time fun and exciting for kids!', 'This toy plays music.', 'This toy squirts fountains of water.', 'This toy is made of durable, waterproof plastic.', '3+']\n",
      "--------------------------------------------------------------------------------\n",
      "🔹 REPORT\n",
      "Brand:               Alex\n",
      "Product Description: Musical Owl by Alex toys\n",
      "--------------------------------------------------------------------------------\n",
      "Amazon Index: 134083\n",
      "🔹 META\n",
      "Brand:   Stomp Rocket\n",
      "Title:   Stomp Rocket Extreme Rocket (Super High Performance), 6 Rockets\n",
      "Feature: ['The ultimate in Stomp Rocket performance!', \"100% KID powered: Run, jump and STOMP to launch these rockets up to 400 feet in the air -- that's longer than a football field, including the end zones!\", 'Take Stomp Rocket to the park or on vacation, and youll be amazed at how many children and adults want to play!', 'Includes a Stomp Launcher and 6 Super High Performance Rockets with flame stickers to apply', 'No batteries required; super easy, fast assembly; ages 9 and up']\n",
      "--------------------------------------------------------------------------------\n",
      "🔹 REPORT\n",
      "Brand:               Stomp Rocket Ultra\n",
      "Product Description: Stomp Rocket Ultra\n",
      "--------------------------------------------------------------------------------\n",
      "Amazon Index: 88060\n",
      "🔹 META\n",
      "Brand:   Battat\n",
      "Title:   Battat Stacking Rings and Rattles\n",
      "Feature: [\"Develop your child's motor skills and hand eye coordination with this fantastic rattling stacking toy.\", 'This set includes 5 rings (3 are transparent and filled with beads), and a stacking pole with easy grip shapes for small hands.', 'An all rounded construction with no sharp corners makes this toy safe for small children and toddlers.', 'Stimulate, entertain and educate young minds with Battat toys. Made using safe and high quality materials, this product is designed to last.', 'Recommended for ages 6 months and up.', 'Battat is a family-owned toy manufacturer that is 114 years old and has been in North America for over 40 years.', 'Every Battat toy has an educational value, whether it is didactic or nurturing, or collecting and creating worlds for children playing with them.', 'Each product is always manufactured to the highest standards under rigorous safety standards.', 'Battat products are made to stimulate, entertain and educate young minds', 'All rounded construction, no sharp corners', 'Includes 5 rings, 3 are transparent and filled with beads', 'For hours of stacking fun', 'Easy grip shapes for small hands']\n",
      "--------------------------------------------------------------------------------\n",
      "🔹 REPORT\n",
      "Brand:               Battat Stacking Rings & Rattles Play Set \n",
      "Product Description: Battat Stacking Rings & Rattles Play Set:•Stack the rings and rattles on the rounded base•All-rounded construction, no sharp corners•Includes: base and 5 rings; 3 rings are transparent and filled with beadsSpecificationsAge: 6 - 12 Months  Age Start: 6 Months  Age End: and up  \n",
      "--------------------------------------------------------------------------------\n",
      "Amazon Index: 255289\n",
      "🔹 META\n",
      "Brand:   Kthe Kruse\n",
      "Title:   Kathe Kruse Ikibab Plush Doll, Boy\n",
      "Feature: []\n",
      "--------------------------------------------------------------------------------\n",
      "🔹 REPORT\n",
      "Brand:               Kathe Kruse\n",
      "Product Description: Kathe Kruse Waldorf Schatzi Plush Doll, Red (http://www.amazon.com/gp/product/B002KE1PR6/ref=oh_aui_detailpage_o00_s00?ie=UTF8&psc=1). Item model number 38202. The company's website: http://www.kathekruse-usa.com/play-dolls/waldorf-dolls/red-waldorf-sweetheart-doll.html\n",
      "--------------------------------------------------------------------------------\n",
      "Amazon Index: 551172\n",
      "🔹 META\n",
      "Brand:   Geospace\n",
      "Title:   Geospace Pump Rocket JR Light Up LED Replacement Rockets for Bungee Blast, Air Archer &amp; More\n",
      "Feature: ['Light-up LED rocket refills fit all Geospace Pump Rocket JR. launchers & most Jump Rocket models', 'Have more fun with more rockets; helpful when more than one child playing at a time', 'Come in handy in case your original rockets ever land on the roof or get lost', \"Each rocket's super-safe, soft rubber nose contains a rugged LED light, can be turned On/Off with switch\", 'Now your Jump Rocket and Pump Rockets can \"Light up the Night!\"']\n",
      "--------------------------------------------------------------------------------\n",
      "🔹 REPORT\n",
      "Brand:               Geospace pump rocket SR.\n",
      "Product Description: foam pump rocket\n",
      "--------------------------------------------------------------------------------\n",
      "Amazon Index: 542580\n",
      "🔹 META\n",
      "Brand:   Crayola\n",
      "Title:   Crayola 18ct Twistables Colored Pencils (2 Pack)\n",
      "Feature: ['18 colors', 'Clear barrels for color identification and viewing the twisting action', \"2.0mm lead doesn't need sharpening\", 'More colors now in one pack', 'Pack of 2']\n",
      "--------------------------------------------------------------------------------\n",
      "🔹 REPORT\n",
      "Brand:               Crayola twistables\n",
      "Product Description: Crayola twistables \n",
      "--------------------------------------------------------------------------------\n",
      "Amazon Index: 469732\n",
      "🔹 META\n",
      "Brand:   Crayola\n",
      "Title:   CRAYOLA LLC TWISTABLES SLICK STIX 12 COUNT (Set of 6)\n",
      "Feature: []\n",
      "--------------------------------------------------------------------------------\n",
      "🔹 REPORT\n",
      "Brand:               Crayola twistables\n",
      "Product Description: Crayola twistables \n",
      "--------------------------------------------------------------------------------\n",
      "Amazon Index: 595095\n",
      "🔹 META\n",
      "Brand:   Disney Store\n",
      "Title:   Disney Tangled Rapunzel Tsum Tsum Set Of 6\n",
      "Feature: []\n",
      "--------------------------------------------------------------------------------\n",
      "🔹 REPORT\n",
      "Brand:               Disney\n",
      "Product Description: Disney Store Tangled Rapunzel Figure Playset -- 6 pc.  This is a six piece figurine set featuring characters from the Disney movie, Tangled.Item No.: 6372046020012P\n",
      "--------------------------------------------------------------------------------\n",
      "Amazon Index: 497346\n",
      "🔹 META\n",
      "Brand:   Power Wheels\n",
      "Title:   Fisher-Price Power Wheels Ford F-150 12-Volt Battery-Powered Ride-On\n",
      "Feature: []\n",
      "--------------------------------------------------------------------------------\n",
      "🔹 REPORT\n",
      "Brand:               Power Wheels / Fisher-Price\n",
      "Product Description: Power Wheels Ride-On Battery-Powered Vehicles\n",
      "--------------------------------------------------------------------------------\n",
      "Amazon Index: 440725\n",
      "🔹 META\n",
      "Brand:   Melissa & Doug\n",
      "Title:   Melissa &amp; Doug Occupations Wooden Chunky Puzzle and Stacking Toy With Storage Tray\n",
      "Feature: ['12-piece set includes 9 figures, matching puzzle board, and 2 stands', 'Jobs featured are police officer, construction worker, astronaut, pirate, firefighter, doctor, knight, cowboy, and chef', 'Easy-grasp, chunky wooden pieces', 'Helps teach sorting, matching, and counting skills', 'Encourages problem solving, motor skills, and hand-eye coordination']\n",
      "--------------------------------------------------------------------------------\n",
      "🔹 REPORT\n",
      "Brand:               Melissa and Doug\n",
      "Product Description: Melissa and Doug Classic Toy Stacking Train\n",
      "--------------------------------------------------------------------------------\n",
      "Amazon Index: 591983\n",
      "🔹 META\n",
      "Brand:   Avengers\n",
      "Title:   Avengers Hot Wheels Iron Man + Captain America Hawkeye Ultron 4 Cycles Complete set MARVEL COMICS complete Pack Avengers Motorcycles Age of Ultron\n",
      "Feature: ['Hot Wheels Collectibles Marvel Comics Pop Culture Cycles', 'Captain America Cycle Vehicle: Marvel Avengers Age of Ultron Series', 'Iron Man Cycle Vehicle: Marvel Avengers Age of Ultron Series', 'ULTRON - Cycle Rider & Hawkeye cycle and figure', 'Avengers 4 motorcycle Set - Works with Quintet motolauncher']\n",
      "--------------------------------------------------------------------------------\n",
      "🔹 REPORT\n",
      "Brand:               Marvel Avengers\n",
      "Product Description: Marvel Avengers Age of Ultro Captain America Helicopter\n",
      "--------------------------------------------------------------------------------\n",
      "Amazon Index: 266402\n",
      "🔹 META\n",
      "Brand:   Disney\n",
      "Title:   14in Eeyore Plush Doll - Winnie the Pooh Stuffed Characters\n",
      "Feature: ['14in Eeyore Plush Doll - Winnie the Pooh Stuffed Characters']\n",
      "--------------------------------------------------------------------------------\n",
      "🔹 REPORT\n",
      "Brand:               Winnie The Pooh Disney based on A. A. Milne & E. H. Shepherd\n",
      "Product Description: Stuffed Winnie The Pooh Bear\n",
      "--------------------------------------------------------------------------------\n",
      "Amazon Index: 336172\n",
      "🔹 META\n",
      "Brand:   Collections Etc\n",
      "Title:   Collections Etc - Flashlight Friends - The Huggable Loveable Child's Flash Light Puppy\n",
      "Feature: []\n",
      "--------------------------------------------------------------------------------\n",
      "🔹 REPORT\n",
      "Brand:               Collections Etc - Flashlight Friends - The Huggable Loveable\n",
      "Product Description: Collections Etc - Flashlight Friends - The Huggable Loveable Child's Flash Light Puppyfrom Collections Etc Product DescriptionColor: Blue DogFlashlight Friend perfect for night games, sleepovers, story time and more Features: Shuts off automatically after 10 minutes Never gets hot Lasts for hundreds of hours once to turn on and once to turn off Comes with a handle for easy use and safe for kids of all agesCare Instructions:Spot Clean Only Product InformationColor: Blue DogTechnical DetailsProduct Dimensions\t10 x 7 x 6 inchesUPC\t754502024636Batteries required\tNo \t Additional InformationASIN\tB00D97YLOWCustomer Reviews\t4.1 out of 5 stars See all reviews 429 reviews4.1 out of 5 starsBest Sellers Rank\t#28,387 in Toys & Games (See top 100)#752 in Toys & Games > Stuffed Animals & Toys > Stuffed Animals & Teddy BearsShipping Weight\t13.6 ounces (View shipping rates and policies)\n",
      "--------------------------------------------------------------------------------\n",
      "Amazon Index: 350520\n",
      "🔹 META\n",
      "Brand:   Fisher-Price\n",
      "Title:   Fisher-Price Imaginext Lazer Jet\n",
      "Feature: ['Press a button to pop out the second set of wings!', 'Lights & real plane sounds!', 'Open & close canopy and fold out landing gear', 'With ACTION TECH technology, kids can bring the Lazer Jet to the Imaginext Air Tower, and it will recognize & respond to it with speech and more cool sounds! (Sold separately)', 'Includes Lazer Jet, poseable Imaginext pilot figure, helmet accessory, and 2 AAA batteries']\n",
      "--------------------------------------------------------------------------------\n",
      "🔹 REPORT\n",
      "Brand:               Fisher-Price Imaginext Lost Creature Safari Vehicle\n",
      "Product Description: Durable plastic construction Vehicle features a button that fires the grappling hook Cage attaches to vehicle Includes: vehicle, cage, figure, spear, grappling hook and 2 jungle creatures .. lime green Fisher-Price Imaginext Lost Creature Safari VehicleRecommended for ages 3-8 \n",
      "--------------------------------------------------------------------------------\n",
      "Amazon Index: 43215\n",
      "🔹 META\n",
      "Brand:   Sesame Street\n",
      "Title:   Sesame Street Elmo Plush 12&quot;\n",
      "Feature: ['Sesame Street Plush Elmo Figure is a 2002 Mattel production.', 'Plush Elmo Figure is approx. 12\" tall & is surface Washable.', 'For Ages 12+ Months. All the provided details are to the best of my ability & may not be exact; colors, styles, sizes & details may vary.', 'Great for younger children who love to take their \"Friends\" with them!', 'Email Seller for Details.']\n",
      "--------------------------------------------------------------------------------\n",
      "🔹 REPORT\n",
      "Brand:               Sesame Street Live - A Vee Corporation Production\n",
      "Product Description: 20 Plush Elmo doll sold by Sesame Street Live vendors at the Can't Stop Singing Sesame Street Live show in 2014.  The doll is plush except for the eyes which are plastic and easily breakable.\n",
      "--------------------------------------------------------------------------------\n"
     ]
    }
   ],
   "source": [
    "import random\n",
    "diff12_other = [x for x in result12['only_b'] if x not in Barbie_Doll_Indices]\n",
    "# 2) Pick k distinct random elements:\n",
    "k = 20\n",
    "random_subset = random.sample(diff12_other, k)\n",
    "print_difference(random_subset, match_df_s2_sc90, amazon_df)"
   ]
  },
  {
   "cell_type": "markdown",
   "id": "3acbfd04-486f-458c-b5fc-10e2da7b82d4",
   "metadata": {},
   "source": [
    "These matches aren't perfect, there are some false positives, but there are a lot of correct matches as well.  \r\n",
    "Therefore, we will assign a label of **1** to all items matched by **Method 2**\r\n"
   ]
  },
  {
   "cell_type": "markdown",
   "id": "7fa1b574-fe69-4337-ac41-8af2dc2fa48a",
   "metadata": {},
   "source": [
    "## Compare Method 1 with Method 3"
   ]
  },
  {
   "cell_type": "code",
   "execution_count": 101,
   "id": "e592ca81-6c71-404c-ac00-9911a16882c2",
   "metadata": {},
   "outputs": [
    {
     "name": "stdout",
     "output_type": "stream",
     "text": [
      "✓ Both methods agree on: 385\n",
      "✗ Only method1: 1768\n",
      "✗ Only method3: 493\n",
      "🔀 Methods disagree: 2958\n"
     ]
    }
   ],
   "source": [
    "result13 = compare_match_columns(amazon_df['Is match'],match_df_s1_sc70['is_match'])\n",
    "\n",
    "print(\"✓ Both methods agree on:\", len(result13['intersection']))\n",
    "print(\"✗ Only method1:\",      len(result13['only_a']))\n",
    "print(\"✗ Only method3:\",      len(result13['only_b']))\n",
    "print(\"🔀 Methods disagree:\",          len(result12['symmetric_diff']))"
   ]
  },
  {
   "cell_type": "markdown",
   "id": "1450ce10-cabb-4ce4-a392-1d16df86d523",
   "metadata": {},
   "source": [
    "## Compare Method 2 with Method 3"
   ]
  },
  {
   "cell_type": "code",
   "execution_count": 103,
   "id": "5c912fc9-219b-4e89-8b3b-36f993cb2207",
   "metadata": {},
   "outputs": [
    {
     "name": "stdout",
     "output_type": "stream",
     "text": [
      "✓ Both methods agree on: 395\n",
      "✗ Only method2: 4710\n",
      "✗ Only method3: 483\n",
      "🔀 Methods disagree: 5193\n"
     ]
    }
   ],
   "source": [
    "result23 = compare_match_columns(match_df_s2_sc90['is_match'],match_df_s1_sc70['is_match'])\n",
    "\n",
    "print(\"✓ Both methods agree on:\", len(result23['intersection']))\n",
    "print(\"✗ Only method2:\",      len(result23['only_a']))\n",
    "print(\"✗ Only method3:\",      len(result23['only_b']))\n",
    "print(\"🔀 Methods disagree:\",          len(result23['symmetric_diff']))"
   ]
  },
  {
   "cell_type": "markdown",
   "id": "88b6ee82-5eab-482e-97df-50a4c8e172c0",
   "metadata": {},
   "source": [
    "There are **483** Amazon products that were matched by **Method 3**, but not matched by **Method 2**."
   ]
  },
  {
   "cell_type": "code",
   "execution_count": 113,
   "id": "5cc4093c-f85a-4697-9f5e-18ecf693e529",
   "metadata": {},
   "outputs": [
    {
     "name": "stdout",
     "output_type": "stream",
     "text": [
      "Amazon Index: 54132\n",
      "🔹 META\n",
      "Brand:   Fisher-Price\n",
      "Title:   Fisher-Price Shake 'N Go Dog\n",
      "Feature: ['Each barnyard racing animal is featured in a creative vehicle that is activated', 'When kids shake the toys to reverse them up and then watch them go', 'Hound dog shake and go racer', 'For ages 2 to 5 years']\n",
      "--------------------------------------------------------------------------------\n",
      "🔹 REPORT\n",
      "Brand:               Fisher Price\n",
      "Product Description: Fisher price soothe and glow\n",
      "--------------------------------------------------------------------------------\n",
      "Amazon Index: 189416\n",
      "🔹 META\n",
      "Brand:   Fisher-Price\n",
      "Title:   Fisher-Price Laugh &amp; Learn ABC Train\n",
      "Feature: ['Laugh and Learn ABC Train helps babies learn their ABCs', 'Two modes of play: Learning and Music', 'Has three different ways for baby to light up the digital display and activate music and SFX', 'Bat at the roller ball to activate two songs, including the ABC song', 'Press the smokestack to go through the alphabet letter by letter']\n",
      "--------------------------------------------------------------------------------\n",
      "🔹 REPORT\n",
      "Brand:               Fisher Price\n",
      "Product Description: Fisher Price Laugh & Learn Learning Kitchen\n",
      "--------------------------------------------------------------------------------\n",
      "Amazon Index: 96007\n",
      "🔹 META\n",
      "Brand:   Fisher-Price\n",
      "Title:   Fisher-Price Little People Builders Floaty Boat\n",
      "Feature: ['The Boat includes 19 Blocks.', 'Build on the boat & shape sort with the blocks.', 'Includes Little People Captain figure.', 'Has squirting whale and buoy with flag.', 'Store all pieces inside.']\n",
      "--------------------------------------------------------------------------------\n",
      "🔹 REPORT\n",
      "Brand:               Fisher-Price\n",
      "Product Description: Fisher-Price Little People Builders' Load 'n Go Wagons \n",
      "--------------------------------------------------------------------------------\n",
      "🔹 REPORT\n",
      "Brand:               Fisher Price \n",
      "Product Description: Fisher Price Little People Builders Wagon.  P8977\n",
      "--------------------------------------------------------------------------------\n",
      "Amazon Index: 600527\n",
      "🔹 META\n",
      "Brand:   VTech\n",
      "Title:   VTech Go! Go! Smart Wheels Blast-Off Space Station\n",
      "Feature: [\"It's all systems go for learning with the Go! Go! Smart Wheels Blast-Off Space Station by VTech; pretend to launch the rocket ship into outer space or turn the star to send it through the black hole\", 'Includes a variety of manipulative features that strengthen motor skills and teach the concept of cause and effect; 6 connecting track pieces', 'Roll the SmartPoint rocket ship over five SmartPoint locations to hear different phrases, music or fun sound effects; teaches the letter R and the name of the vehicle', \"Collect other Smart Point vehicles and connect to other Go! Go! Smart Wheels playsets (sold separately) to encourage your child's creativity\", 'Requires 2 AAA batteries (batteries included for demo purposes only; new batteries recommended for regular use); intended for ages 1 to 5 years', '<span class=\"a-size-base a-color-secondary\">\\n                5 SmartPoint locations\\n            </span>', '<span class=\"a-size-base a-color-secondary\">\\n                1 SmartPoint rocket\\n            </span>', '<span class=\"a-size-base a-color-secondary\">\\n                5 mechanical features\\n            </span>', '<span class=\"a-size-base a-color-secondary\">\\n                40+ songs, melodies, sounds and phrases\\n            </span>']\n",
      "--------------------------------------------------------------------------------\n",
      "🔹 REPORT\n",
      "Brand:               VTech\n",
      "Product Description: VTech Go Go Smart Wheels 2-in-1 Race Track\n",
      "--------------------------------------------------------------------------------\n",
      "Amazon Index: 167257\n",
      "🔹 META\n",
      "Brand:   Fisher-Price\n",
      "Title:   Fisher-Price Laugh &amp; Learn Learning Pink Vacuum\n",
      "Feature: []\n",
      "--------------------------------------------------------------------------------\n",
      "🔹 REPORT\n",
      "Brand:               Fisher Price\n",
      "Product Description: Fisher Price Laugh & Learn Learning Kitchen\n",
      "--------------------------------------------------------------------------------\n",
      "🔹 REPORT\n",
      "Brand:               Fisher Price\n",
      "Product Description: Fisher Price Laugh & Learn Learning Farm P7680\n",
      "--------------------------------------------------------------------------------\n",
      "Amazon Index: 148619\n",
      "🔹 META\n",
      "Brand:   Fisher-Price\n",
      "Title:   Fisher-Price Little People Grandparentss\n",
      "Feature: ['Includes grandma and grandpa figures, and suitcase', 'Bring Little People figures to any Little People set for even more fun! (Each sold separately and subject to availability)', 'Includes grandma and grandpa figures, and suitcase', 'Bring Little People figures to any Little People set for even more fun! (Each sold separately and subject to availability)', 'Perfectly sized for little hands to hold!', 'Includes three figures', 'Collect all the Little People Figures']\n",
      "--------------------------------------------------------------------------------\n",
      "🔹 REPORT\n",
      "Brand:               Fisher-Price\n",
      "Product Description: Fisher-Price Little People Builders' Load 'n Go Wagons \n",
      "--------------------------------------------------------------------------------\n",
      "Amazon Index: 203924\n",
      "🔹 META\n",
      "Brand:   Fisher-Price\n",
      "Title:   Fisher Price Little People Zoo Talkers - Rhinoceros\n",
      "Feature: ['Fisher Price Little People Zoo Talkers Rhino figure', 'Interacts with the Zoo Talkers Animal Sounds Zoo (sold separately and subject to availability)', 'Collect them all!', 'Ages 18 months to 5 years']\n",
      "--------------------------------------------------------------------------------\n",
      "🔹 REPORT\n",
      "Brand:               Fisher Price\n",
      "Product Description: Fisher - Price Little People Take Turns Skyway - Brand In Box\n",
      "--------------------------------------------------------------------------------\n",
      "Amazon Index: 416883\n",
      "🔹 META\n",
      "Brand:   Rockin' Rider\n",
      "Title:   Rockin' Rider Sierra Rocking Horse\n",
      "Feature: ['Soft two-tone plush over lightweight and sturdy foam core', 'Beautiful wood base with detailed scroll engraving and step', 'Press right eas to hear 6 fun talking phrases and realistic horse sounds', 'Moving mouth and swishing tail', 'Removable Bandana']\n",
      "--------------------------------------------------------------------------------\n",
      "🔹 REPORT\n",
      "Brand:               Rockin’ Rider\n",
      "Product Description: Rockin’ Rider Buttons Jr. Rocking Horse\n",
      "--------------------------------------------------------------------------------\n",
      "Amazon Index: 162388\n",
      "🔹 META\n",
      "Brand:   Fisher-Price\n",
      "Title:   Fisher Price Little People Bride &amp; Groom Wedding 3 pack\n",
      "Feature: []\n",
      "--------------------------------------------------------------------------------\n",
      "🔹 REPORT\n",
      "Brand:               Fisher Price \n",
      "Product Description: Fisher Price Little People Builders Wagon.  P8977\n",
      "--------------------------------------------------------------------------------\n",
      "Amazon Index: 227221\n",
      "🔹 META\n",
      "Brand:   Rockabye\n",
      "Title:   Rockabye Gregory Grasshopper Rocker\n",
      "Feature: ['American-built heirloom quality', 'Recommended for 9 Months to 4 Years', 'Requires 3 AA Batteries (Included)']\n",
      "--------------------------------------------------------------------------------\n",
      "🔹 REPORT\n",
      "Brand:               Rockabye\n",
      "Product Description: Rockabye Rockers Giraffe Rocker\n",
      "--------------------------------------------------------------------------------\n"
     ]
    }
   ],
   "source": [
    "# 2) Pick k distinct random elements:\n",
    "k = 10\n",
    "random_subset2 = random.sample(result23['only_b'], k)\n",
    "print_difference(random_subset2, match_df_s1_sc70, amazon_df)"
   ]
  },
  {
   "cell_type": "markdown",
   "id": "8a8a83a8-6da6-4d2c-b419-6112eae1b989",
   "metadata": {},
   "source": [
    "It appears that this set contains many **false positives**.  \n",
    "Therefore, we will not include it to our labeled dataset."
   ]
  },
  {
   "cell_type": "code",
   "execution_count": 117,
   "id": "30898def-af8c-4991-857e-07919a171924",
   "metadata": {},
   "outputs": [],
   "source": [
    "s2 = match_df_s2_sc90['is_match'].astype(bool)\n",
    "base = amazon_df['Is match'].astype(bool)\n",
    "\n",
    "# Create 'is_match_final' = 1 if any of the three is True, else 0\n",
    "amazon_df['is_match_final'] = (s2 | base).astype(int)"
   ]
  },
  {
   "cell_type": "code",
   "execution_count": 119,
   "id": "4f24efb5-c484-4183-aaf1-6a264e4cda18",
   "metadata": {},
   "outputs": [
    {
     "data": {
      "text/plain": [
       "is_match_final\n",
       "0    628775\n",
       "1      5108\n",
       "Name: count, dtype: int64"
      ]
     },
     "execution_count": 119,
     "metadata": {},
     "output_type": "execute_result"
    }
   ],
   "source": [
    "amazon_df['is_match_final'].value_counts()"
   ]
  },
  {
   "cell_type": "code",
   "execution_count": 121,
   "id": "c34eed8d-1ce8-442e-9cea-f5581c39e800",
   "metadata": {},
   "outputs": [
    {
     "data": {
      "text/plain": [
       "Index(['category', 'tech1', 'description', 'fit', 'title', 'also_buy', 'tech2',\n",
       "       'brand', 'feature', 'rank', 'also_view', 'main_cat', 'similar_item',\n",
       "       'date', 'price', 'asin', 'imageURL', 'imageURLHighRes', 'details',\n",
       "       'Is match', 'matched_recall_indices', 'is_match_final'],\n",
       "      dtype='object')"
      ]
     },
     "execution_count": 121,
     "metadata": {},
     "output_type": "execute_result"
    }
   ],
   "source": [
    "amazon_df.columns"
   ]
  },
  {
   "cell_type": "code",
   "execution_count": 129,
   "id": "7b873b15-4a0a-4c6a-a275-355159587f26",
   "metadata": {},
   "outputs": [],
   "source": [
    "is_match_final = amazon_df[['asin','is_match_final']].copy()\n",
    "is_match_final.to_csv(\"is_match_final.csv\", index=True) "
   ]
  },
  {
   "cell_type": "code",
   "execution_count": 131,
   "id": "01c92dec-207e-4c9a-adc8-622fba9338a3",
   "metadata": {},
   "outputs": [],
   "source": [
    "amazon_df_final = amazon_df.drop(columns=['Is match', 'matched_recall_indices']).copy()\n",
    "amazon_df_final.to_csv(\"amazon_df_final.csv\", index=True, escapechar='\\\\')"
   ]
  },
  {
   "cell_type": "markdown",
   "id": "e439de00-9b8d-4add-a7e0-8466b8f9023e",
   "metadata": {},
   "source": [
    "## Additional Recall Matches:"
   ]
  },
  {
   "cell_type": "code",
   "execution_count": null,
   "id": "609aa1e5-6744-4ce1-be6d-caf08a150c5f",
   "metadata": {},
   "outputs": [],
   "source": []
  }
 ],
 "metadata": {
  "kernelspec": {
   "display_name": "Python 3.10 (myenv)",
   "language": "python",
   "name": "py310env"
  },
  "language_info": {
   "codemirror_mode": {
    "name": "ipython",
    "version": 3
   },
   "file_extension": ".py",
   "mimetype": "text/x-python",
   "name": "python",
   "nbconvert_exporter": "python",
   "pygments_lexer": "ipython3",
   "version": "3.10.14"
  }
 },
 "nbformat": 4,
 "nbformat_minor": 5
}
