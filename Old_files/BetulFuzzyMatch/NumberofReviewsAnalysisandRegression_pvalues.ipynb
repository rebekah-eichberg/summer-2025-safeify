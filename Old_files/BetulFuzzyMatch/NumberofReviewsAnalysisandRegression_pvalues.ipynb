{
 "cells": [
  {
   "cell_type": "code",
   "execution_count": 2,
   "id": "071e9fa3",
   "metadata": {},
   "outputs": [],
   "source": [
    "import pandas as pd\n",
    "import numpy as np\n",
    "import matplotlib.pyplot as plt"
   ]
  },
  {
   "cell_type": "code",
   "execution_count": 3,
   "id": "fcc4c0f9",
   "metadata": {},
   "outputs": [],
   "source": [
    "\n",
    "file_path = '../Data/amazon_reviews.json'\n",
    "chunks = pd.read_json(file_path, lines=True, chunksize=100_000)\n",
    "\n",
    "df_list = []\n",
    "for chunk in chunks:\n",
    "    df_list.append(chunk)\n",
    "\n",
    "review_df = pd.concat(df_list, ignore_index=True)"
   ]
  },
  {
   "cell_type": "code",
   "execution_count": 4,
   "id": "80ab11a9",
   "metadata": {},
   "outputs": [
    {
     "name": "stdout",
     "output_type": "stream",
     "text": [
      "Total reviews in the dataset: 8201231\n"
     ]
    }
   ],
   "source": [
    "print(f\"Total reviews in the dataset: {len(review_df)}\")"
   ]
  },
  {
   "cell_type": "code",
   "execution_count": 5,
   "id": "b5088a1a",
   "metadata": {},
   "outputs": [
    {
     "data": {
      "text/plain": [
       "Index(['overall', 'vote', 'verified', 'reviewTime', 'reviewerID', 'asin',\n",
       "       'reviewerName', 'reviewText', 'summary', 'unixReviewTime', 'image',\n",
       "       'style'],\n",
       "      dtype='object')"
      ]
     },
     "execution_count": 5,
     "metadata": {},
     "output_type": "execute_result"
    }
   ],
   "source": [
    "review_df.columns"
   ]
  },
  {
   "cell_type": "markdown",
   "id": "33be1009",
   "metadata": {},
   "source": [
    "## Merge With Labels Data"
   ]
  },
  {
   "cell_type": "code",
   "execution_count": 6,
   "id": "b3804bd7",
   "metadata": {},
   "outputs": [],
   "source": [
    "amazon_labels = pd.read_csv('../Data/amazon_df_labels.csv')"
   ]
  },
  {
   "cell_type": "code",
   "execution_count": 7,
   "id": "a06c8ce3",
   "metadata": {},
   "outputs": [],
   "source": [
    "review_labeled_df = review_df.merge(amazon_labels, on='asin')"
   ]
  },
  {
   "cell_type": "markdown",
   "id": "f65abb03",
   "metadata": {},
   "source": [
    "## Distribution of Number of Reviews In Label 1 Products Versus Label 0 Products"
   ]
  },
  {
   "cell_type": "code",
   "execution_count": 8,
   "id": "2f60fe51",
   "metadata": {},
   "outputs": [
    {
     "data": {
      "application/vnd.microsoft.datawrangler.viewer.v0+json": {
       "columns": [
        {
         "name": "index",
         "rawType": "object",
         "type": "string"
        },
        {
         "name": "n_reviews",
         "rawType": "float64",
         "type": "float"
        }
       ],
       "ref": "951b2952-0c7a-4367-b18c-15be5dc59593",
       "rows": [
        [
         "count",
         "1444.0"
        ],
        [
         "mean",
         "130.52770083102493"
        ],
        [
         "std",
         "468.01824710176913"
        ],
        [
         "min",
         "1.0"
        ],
        [
         "25%",
         "3.0"
        ],
        [
         "50%",
         "15.0"
        ],
        [
         "75%",
         "75.25"
        ],
        [
         "max",
         "12680.0"
        ]
       ],
       "shape": {
        "columns": 1,
        "rows": 8
       }
      },
      "text/plain": [
       "count     1444.000000\n",
       "mean       130.527701\n",
       "std        468.018247\n",
       "min          1.000000\n",
       "25%          3.000000\n",
       "50%         15.000000\n",
       "75%         75.250000\n",
       "max      12680.000000\n",
       "Name: n_reviews, dtype: float64"
      ]
     },
     "execution_count": 8,
     "metadata": {},
     "output_type": "execute_result"
    }
   ],
   "source": [
    "matched_reviews = review_labeled_df[review_labeled_df['match'] == 1]\n",
    "\n",
    "matched_review_counts = matched_reviews['asin'].value_counts().reset_index()\n",
    "matched_review_counts.columns = ['asin', 'n_reviews']\n",
    "matched_review_counts['n_reviews'].describe()"
   ]
  },
  {
   "cell_type": "code",
   "execution_count": 9,
   "id": "ffada4c8",
   "metadata": {},
   "outputs": [
    {
     "data": {
      "image/png": "[encoded data removed]",
      "text/plain": [
       "<Figure size 640x480 with 1 Axes>"
      ]
     },
     "metadata": {},
     "output_type": "display_data"
    }
   ],
   "source": [
    "matched_review_counts[\"n_reviews\"].hist(bins=30)\n",
    "plt.title(\"Distribution of Number of Reviews per ASIN in Label 1 Products\")\n",
    "plt.xlabel(\"Number of Reviews\")\n",
    "plt.ylabel(\"Frequency\")\n",
    "plt.yscale('log') \n",
    "plt.show()"
   ]
  },
  {
   "cell_type": "code",
   "execution_count": 10,
   "id": "a1ead3e3",
   "metadata": {},
   "outputs": [
    {
     "data": {
      "application/vnd.microsoft.datawrangler.viewer.v0+json": {
       "columns": [
        {
         "name": "index",
         "rawType": "object",
         "type": "string"
        },
        {
         "name": "n_reviews",
         "rawType": "float64",
         "type": "float"
        }
       ],
       "ref": "6851bb4a-4eae-4743-b8fe-c28484c398d6",
       "rows": [
        [
         "count",
         "622817.0"
        ],
        [
         "mean",
         "13.285318159266687"
        ],
        [
         "std",
         "68.42763632713879"
        ],
        [
         "min",
         "1.0"
        ],
        [
         "25%",
         "1.0"
        ],
        [
         "50%",
         "2.0"
        ],
        [
         "75%",
         "7.0"
        ],
        [
         "max",
         "8816.0"
        ]
       ],
       "shape": {
        "columns": 1,
        "rows": 8
       }
      },
      "text/plain": [
       "count    622817.000000\n",
       "mean         13.285318\n",
       "std          68.427636\n",
       "min           1.000000\n",
       "25%           1.000000\n",
       "50%           2.000000\n",
       "75%           7.000000\n",
       "max        8816.000000\n",
       "Name: n_reviews, dtype: float64"
      ]
     },
     "execution_count": 10,
     "metadata": {},
     "output_type": "execute_result"
    }
   ],
   "source": [
    "nonmatched_reviews = review_labeled_df[review_labeled_df['match'] == 0]\n",
    "\n",
    "nonmatched_review_counts = nonmatched_reviews['asin'].value_counts().reset_index()\n",
    "nonmatched_review_counts.columns = ['asin', 'n_reviews']\n",
    "nonmatched_review_counts['n_reviews'].describe()"
   ]
  },
  {
   "cell_type": "code",
   "execution_count": 11,
   "id": "429421ea",
   "metadata": {},
   "outputs": [
    {
     "data": {
      "image/png": "[encoded data removed]",
      "text/plain": [
       "<Figure size 640x480 with 1 Axes>"
      ]
     },
     "metadata": {},
     "output_type": "display_data"
    }
   ],
   "source": [
    "nonmatched_review_counts[\"n_reviews\"].hist(bins=30)\n",
    "plt.title(\"Distribution of Number of Reviews per ASIN in Label 0 Products\")\n",
    "plt.xlabel(\"Number of Reviews\")\n",
    "plt.ylabel(\"Frequency\")\n",
    "plt.yscale('log') \n",
    "plt.show()"
   ]
  },
  {
   "cell_type": "markdown",
   "id": "4bfb3cfd",
   "metadata": {},
   "source": [
    "### Is there a statistically significant difference in the number of reviews between products labeled 1 and products labeled 0?"
   ]
  },
  {
   "cell_type": "code",
   "execution_count": 12,
   "id": "51d6d8cc",
   "metadata": {},
   "outputs": [
    {
     "name": "stdout",
     "output_type": "stream",
     "text": [
      "t-statistic: 9.519073604098718\n",
      "p-value: 7.055798597527428e-21\n"
     ]
    }
   ],
   "source": [
    "from scipy.stats import ttest_ind\n",
    "\n",
    "t_stat, p_val = ttest_ind(\n",
    "    matched_review_counts['n_reviews'],\n",
    "    nonmatched_review_counts['n_reviews'],\n",
    "    equal_var=False  # Welch’s t-test\n",
    ")\n",
    "\n",
    "print(\"t-statistic:\", t_stat)\n",
    "print(\"p-value:\", p_val)"
   ]
  },
  {
   "cell_type": "markdown",
   "id": "6ea7dac3",
   "metadata": {},
   "source": [
    "#### Interpretation of Review Count Difference\n",
    "\n",
    "There is a **highly statistically significant difference** in the number of reviews between the two groups:\n",
    "\n",
    "- **Matched products** (`match = 1`)\n",
    "- **Non-matched products** (`match = 0`)\n",
    "\n",
    "##### Conclusion:\n",
    "We can **confidently reject the null hypothesis** that the number of reviews is the same for both groups.\n",
    "\n",
    "---\n",
    "\n",
    "#### Key Insight:\n",
    "Products that are matched to incident reports (**match = 1**) have a **significantly different number of reviews** compared to those that are not matched (**match = 0**).\n",
    "\n",
    "This suggests that the number of reviews may be an important factor to consider in identifying at-risk products.\n"
   ]
  },
  {
   "cell_type": "code",
   "execution_count": 13,
   "id": "fdbccfc0",
   "metadata": {},
   "outputs": [
    {
     "name": "stdout",
     "output_type": "stream",
     "text": [
      "Mann–Whitney U statistic: 678443621.0\n",
      "p-value: 1.0583958074505984e-259\n"
     ]
    }
   ],
   "source": [
    "from scipy.stats import mannwhitneyu\n",
    "\n",
    "u_stat, p_val = mannwhitneyu(\n",
    "    matched_review_counts['n_reviews'],\n",
    "    nonmatched_review_counts['n_reviews'],\n",
    "    alternative='two-sided'\n",
    ")\n",
    "\n",
    "print(\"Mann–Whitney U statistic:\", u_stat)\n",
    "print(\"p-value:\", p_val)\n"
   ]
  },
  {
   "cell_type": "markdown",
   "id": "318d56fd",
   "metadata": {},
   "source": [
    "#### Non-Parametric Test Interpretation\n",
    "\n",
    "This test **does not assume normality** (unlike the t-test), making it more **robust for skewed data**, which we have here.\n",
    "\n",
    "##### Result:\n",
    "Since the **p-value is effectively zero**, we have **overwhelming evidence** that:\n",
    "\n",
    "##### The distribution of review counts is significantly different between:\n",
    "- **Matched products** (`match = 1`)\n",
    "- **Non-matched products** (`match = 0`)\n",
    "\n",
    "---\n",
    "\n",
    "##### Insight:\n",
    "This result **confirms and reinforces** our earlier findings from the t-test, providing stronger confidence that **review count is associated with product risk**.\n"
   ]
  },
  {
   "cell_type": "markdown",
   "id": "96154a65",
   "metadata": {},
   "source": [
    "## Dropping Products with Less number of Reviews:"
   ]
  },
  {
   "cell_type": "code",
   "execution_count": 14,
   "id": "854f0cd2",
   "metadata": {},
   "outputs": [
    {
     "name": "stdout",
     "output_type": "stream",
     "text": [
      "Number of matched products with fewer than 5 reviews: 454\n",
      "Number of matched products with fewer than 4 reviews: 372\n",
      "Number of matched products with fewer than 3 reviews: 290\n"
     ]
    }
   ],
   "source": [
    "less_than_5 = len(matched_review_counts.loc[matched_review_counts['n_reviews'] < 5])\n",
    "print(f\"Number of matched products with fewer than 5 reviews: {less_than_5}\")\n",
    "\n",
    "less_than_4 = len(matched_review_counts.loc[matched_review_counts['n_reviews'] < 4])\n",
    "print(f\"Number of matched products with fewer than 4 reviews: {less_than_4}\")\n",
    "\n",
    "less_than_3 = len(matched_review_counts.loc[matched_review_counts['n_reviews'] < 3])\n",
    "print(f\"Number of matched products with fewer than 3 reviews: {less_than_3}\")\n"
   ]
  },
  {
   "cell_type": "markdown",
   "id": "e20b1fef",
   "metadata": {},
   "source": [
    "### Data Filtering Decision\n",
    "\n",
    "Since the dataset is **highly imbalanced**, we will apply a conservative filter and **drop only products with fewer than 2 reviews**.\n",
    "\n",
    "This helps remove extremely low-information products without significantly reducing the size of the minority class.\n"
   ]
  },
  {
   "cell_type": "markdown",
   "id": "a214f9cc",
   "metadata": {},
   "source": [
    "## Regression on Time vs. Rating\n",
    "\n",
    "We perform a linear regression to analyze how product ratings change over time.\n",
    "\n",
    "This helps identify trends such as:\n",
    "- Increasing ratings (positive slope)\n",
    "- Decreasing ratings (negative slope)\n",
    "- Stable ratings (zero slope)\n",
    "\n",
    "Understanding these trends may reveal early signals of product issues, especially when combined with incident report matches.\n"
   ]
  },
  {
   "cell_type": "code",
   "execution_count": 15,
   "id": "0ec5e1a0",
   "metadata": {},
   "outputs": [],
   "source": [
    "from joblib import Parallel, delayed\n",
    "import statsmodels.api as sm\n",
    "\n",
    "def fit_model(asin, group):\n",
    "    if len(group) < 2:\n",
    "        return None\n",
    "    X = sm.add_constant(group[['unixReviewTime']])\n",
    "    y = group['overall'].values\n",
    "    model = sm.OLS(y,X)\n",
    "    results=model.fit()\n",
    "    return {\n",
    "        'asin': asin,\n",
    "        'slope': results.params['unixReviewTime'],\n",
    "        #'intercept': results.params['const'],\n",
    "        # 'r_squared': results.rsquared,\n",
    "        'p_value': results.pvalues['unixReviewTime'],\n",
    "        'n_reviews': len(group)\n",
    "    }\n",
    "\n",
    "# Group data\n",
    "grouped = review_labeled_df.groupby('asin')\n",
    "\n",
    "# Run in parallel\n",
    "results = Parallel(n_jobs=-1)(  # use all CPU cores\n",
    "    delayed(fit_model)(asin, group) for asin, group in grouped\n",
    ")\n",
    "\n",
    "# Remove None entries\n",
    "results = [r for r in results if r is not None]\n",
    "regression_results_df = pd.DataFrame(results)"
   ]
  },
  {
   "cell_type": "code",
   "execution_count": 16,
   "id": "ed7cc5e8",
   "metadata": {},
   "outputs": [
    {
     "data": {
      "application/vnd.microsoft.datawrangler.viewer.v0+json": {
       "columns": [
        {
         "name": "index",
         "rawType": "int64",
         "type": "integer"
        },
        {
         "name": "asin",
         "rawType": "object",
         "type": "string"
        },
        {
         "name": "slope",
         "rawType": "float64",
         "type": "float"
        },
        {
         "name": "p_value",
         "rawType": "float64",
         "type": "float"
        },
        {
         "name": "n_reviews",
         "rawType": "int64",
         "type": "integer"
        }
       ],
       "ref": "33bfb12c-3f61-4dbf-ab70-cb524e97b2ec",
       "rows": [
        [
         "0",
         "0004983289",
         "1.1499711329498491e-08",
         "0.4693442207081239",
         "5"
        ],
        [
         "1",
         "0020232233",
         "3.2578501348059364e-08",
         "0.12278536627092569",
         "23"
        ],
        [
         "2",
         "0096737581",
         "2.133469875405379e-07",
         "1.5669709666263767e-14",
         "3"
        ],
        [
         "3",
         "0152014764",
         "-2.069603126281829e-09",
         "0.5334843131778184",
         "13"
        ],
        [
         "4",
         "0298752530",
         "3.3087224502121107e-23",
         "0.9870070378059187",
         "3"
        ]
       ],
       "shape": {
        "columns": 4,
        "rows": 5
       }
      },
      "text/html": [
       "<div>\n",
       "<style scoped>\n",
       "    .dataframe tbody tr th:only-of-type {\n",
       "        vertical-align: middle;\n",
       "    }\n",
       "\n",
       "    .dataframe tbody tr th {\n",
       "        vertical-align: top;\n",
       "    }\n",
       "\n",
       "    .dataframe thead th {\n",
       "        text-align: right;\n",
       "    }\n",
       "</style>\n",
       "<table border=\"1\" class=\"dataframe\">\n",
       "  <thead>\n",
       "    <tr style=\"text-align: right;\">\n",
       "      <th></th>\n",
       "      <th>asin</th>\n",
       "      <th>slope</th>\n",
       "      <th>p_value</th>\n",
       "      <th>n_reviews</th>\n",
       "    </tr>\n",
       "  </thead>\n",
       "  <tbody>\n",
       "    <tr>\n",
       "      <th>0</th>\n",
       "      <td>0004983289</td>\n",
       "      <td>1.149971e-08</td>\n",
       "      <td>4.693442e-01</td>\n",
       "      <td>5</td>\n",
       "    </tr>\n",
       "    <tr>\n",
       "      <th>1</th>\n",
       "      <td>0020232233</td>\n",
       "      <td>3.257850e-08</td>\n",
       "      <td>1.227854e-01</td>\n",
       "      <td>23</td>\n",
       "    </tr>\n",
       "    <tr>\n",
       "      <th>2</th>\n",
       "      <td>0096737581</td>\n",
       "      <td>2.133470e-07</td>\n",
       "      <td>1.566971e-14</td>\n",
       "      <td>3</td>\n",
       "    </tr>\n",
       "    <tr>\n",
       "      <th>3</th>\n",
       "      <td>0152014764</td>\n",
       "      <td>-2.069603e-09</td>\n",
       "      <td>5.334843e-01</td>\n",
       "      <td>13</td>\n",
       "    </tr>\n",
       "    <tr>\n",
       "      <th>4</th>\n",
       "      <td>0298752530</td>\n",
       "      <td>3.308722e-23</td>\n",
       "      <td>9.870070e-01</td>\n",
       "      <td>3</td>\n",
       "    </tr>\n",
       "  </tbody>\n",
       "</table>\n",
       "</div>"
      ],
      "text/plain": [
       "         asin         slope       p_value  n_reviews\n",
       "0  0004983289  1.149971e-08  4.693442e-01          5\n",
       "1  0020232233  3.257850e-08  1.227854e-01         23\n",
       "2  0096737581  2.133470e-07  1.566971e-14          3\n",
       "3  0152014764 -2.069603e-09  5.334843e-01         13\n",
       "4  0298752530  3.308722e-23  9.870070e-01          3"
      ]
     },
     "execution_count": 16,
     "metadata": {},
     "output_type": "execute_result"
    }
   ],
   "source": [
    "regression_results_df.head()"
   ]
  },
  {
   "cell_type": "code",
   "execution_count": 17,
   "id": "49bd2a73",
   "metadata": {},
   "outputs": [],
   "source": [
    "regression_labeled_df = regression_results_df.merge(amazon_labels, on='asin')"
   ]
  },
  {
   "cell_type": "code",
   "execution_count": 18,
   "id": "d7dcb253",
   "metadata": {},
   "outputs": [
    {
     "data": {
      "application/vnd.microsoft.datawrangler.viewer.v0+json": {
       "columns": [
        {
         "name": "index",
         "rawType": "int64",
         "type": "integer"
        },
        {
         "name": "asin",
         "rawType": "object",
         "type": "string"
        },
        {
         "name": "slope",
         "rawType": "float64",
         "type": "float"
        },
        {
         "name": "p_value",
         "rawType": "float64",
         "type": "float"
        },
        {
         "name": "n_reviews",
         "rawType": "int64",
         "type": "integer"
        },
        {
         "name": "match",
         "rawType": "int64",
         "type": "integer"
        },
        {
         "name": "incident_indices",
         "rawType": "object",
         "type": "string"
        }
       ],
       "ref": "14f809f5-ab65-4a16-8131-1d9c20c9cda9",
       "rows": [
        [
         "0",
         "0004983289",
         "1.1499711329498491e-08",
         "0.4693442207081239",
         "5",
         "0",
         "[]"
        ],
        [
         "1",
         "0020232233",
         "3.2578501348059364e-08",
         "0.12278536627092569",
         "23",
         "0",
         "[]"
        ],
        [
         "2",
         "0096737581",
         "2.133469875405379e-07",
         "1.5669709666263767e-14",
         "3",
         "0",
         "[]"
        ],
        [
         "3",
         "0152014764",
         "-2.069603126281829e-09",
         "0.5334843131778184",
         "13",
         "0",
         "[]"
        ],
        [
         "4",
         "0298752530",
         "3.3087224502121107e-23",
         "0.9870070378059187",
         "3",
         "0",
         "[]"
        ]
       ],
       "shape": {
        "columns": 6,
        "rows": 5
       }
      },
      "text/html": [
       "<div>\n",
       "<style scoped>\n",
       "    .dataframe tbody tr th:only-of-type {\n",
       "        vertical-align: middle;\n",
       "    }\n",
       "\n",
       "    .dataframe tbody tr th {\n",
       "        vertical-align: top;\n",
       "    }\n",
       "\n",
       "    .dataframe thead th {\n",
       "        text-align: right;\n",
       "    }\n",
       "</style>\n",
       "<table border=\"1\" class=\"dataframe\">\n",
       "  <thead>\n",
       "    <tr style=\"text-align: right;\">\n",
       "      <th></th>\n",
       "      <th>asin</th>\n",
       "      <th>slope</th>\n",
       "      <th>p_value</th>\n",
       "      <th>n_reviews</th>\n",
       "      <th>match</th>\n",
       "      <th>incident_indices</th>\n",
       "    </tr>\n",
       "  </thead>\n",
       "  <tbody>\n",
       "    <tr>\n",
       "      <th>0</th>\n",
       "      <td>0004983289</td>\n",
       "      <td>1.149971e-08</td>\n",
       "      <td>4.693442e-01</td>\n",
       "      <td>5</td>\n",
       "      <td>0</td>\n",
       "      <td>[]</td>\n",
       "    </tr>\n",
       "    <tr>\n",
       "      <th>1</th>\n",
       "      <td>0020232233</td>\n",
       "      <td>3.257850e-08</td>\n",
       "      <td>1.227854e-01</td>\n",
       "      <td>23</td>\n",
       "      <td>0</td>\n",
       "      <td>[]</td>\n",
       "    </tr>\n",
       "    <tr>\n",
       "      <th>2</th>\n",
       "      <td>0096737581</td>\n",
       "      <td>2.133470e-07</td>\n",
       "      <td>1.566971e-14</td>\n",
       "      <td>3</td>\n",
       "      <td>0</td>\n",
       "      <td>[]</td>\n",
       "    </tr>\n",
       "    <tr>\n",
       "      <th>3</th>\n",
       "      <td>0152014764</td>\n",
       "      <td>-2.069603e-09</td>\n",
       "      <td>5.334843e-01</td>\n",
       "      <td>13</td>\n",
       "      <td>0</td>\n",
       "      <td>[]</td>\n",
       "    </tr>\n",
       "    <tr>\n",
       "      <th>4</th>\n",
       "      <td>0298752530</td>\n",
       "      <td>3.308722e-23</td>\n",
       "      <td>9.870070e-01</td>\n",
       "      <td>3</td>\n",
       "      <td>0</td>\n",
       "      <td>[]</td>\n",
       "    </tr>\n",
       "  </tbody>\n",
       "</table>\n",
       "</div>"
      ],
      "text/plain": [
       "         asin         slope       p_value  n_reviews  match incident_indices\n",
       "0  0004983289  1.149971e-08  4.693442e-01          5      0               []\n",
       "1  0020232233  3.257850e-08  1.227854e-01         23      0               []\n",
       "2  0096737581  2.133470e-07  1.566971e-14          3      0               []\n",
       "3  0152014764 -2.069603e-09  5.334843e-01         13      0               []\n",
       "4  0298752530  3.308722e-23  9.870070e-01          3      0               []"
      ]
     },
     "execution_count": 18,
     "metadata": {},
     "output_type": "execute_result"
    }
   ],
   "source": [
    "regression_labeled_df.head()"
   ]
  },
  {
   "cell_type": "code",
   "execution_count": 24,
   "id": "08265d4b",
   "metadata": {},
   "outputs": [],
   "source": [
    "\n",
    "def classify_slope(x, alpha=0.05, epsilon=1e-7):\n",
    "    if x['p_value']>alpha or x['slope'] == 0:\n",
    "        return 'zero'\n",
    "    elif x['slope'] > epsilon:\n",
    "        return 'positive'\n",
    "    elif x['slope'] < -epsilon:\n",
    "        return 'negative'\n",
    "    else:\n",
    "        return 'zero'\n",
    "\n",
    "regression_labeled_df['slope_sign'] = regression_labeled_df.apply(lambda x: classify_slope(x),axis=1)"
   ]
  },
  {
   "cell_type": "code",
   "execution_count": 25,
   "id": "4e18a006",
   "metadata": {},
   "outputs": [
    {
     "name": "stdout",
     "output_type": "stream",
     "text": [
      "slope_sign  negative  positive    zero\n",
      "match                                 \n",
      "0              12127     10872  378124\n",
      "1                 19        24    1306\n"
     ]
    }
   ],
   "source": [
    "# Count how many positive/negative slopes exist for match=0 and match=1\n",
    "slope_summary = regression_labeled_df.groupby(['match', 'slope_sign']).size().unstack(fill_value=0)\n",
    "print(slope_summary)"
   ]
  },
  {
   "cell_type": "code",
   "execution_count": 26,
   "id": "55a22950",
   "metadata": {},
   "outputs": [
    {
     "name": "stdout",
     "output_type": "stream",
     "text": [
      "Chi-squared Statistic: 16.848885297944648\n",
      "Degrees of Freedom: 2\n",
      "p-value: 0.0002194375998579755\n"
     ]
    }
   ],
   "source": [
    "import pandas as pd\n",
    "from scipy.stats import chi2_contingency\n",
    "\n",
    "# Build the contingency table\n",
    "contingency_table = slope_summary  # match = 0 and match = 1\n",
    "\n",
    "# Run chi-squared test\n",
    "chi2, p, dof, expected = chi2_contingency(contingency_table)\n",
    "\n",
    "print(\"Chi-squared Statistic:\", chi2)\n",
    "print(\"Degrees of Freedom:\", dof)\n",
    "print(\"p-value:\", p)"
   ]
  },
  {
   "cell_type": "markdown",
   "id": "a1741015",
   "metadata": {},
   "source": [
    "## Interpretation of Chi-Square Test on Slope Signs\n",
    "\n",
    "There is a statistically significant difference between slopes of label 0 items and label 1 items in the slope. "
   ]
  },
  {
   "cell_type": "markdown",
   "id": "de2bbffd",
   "metadata": {},
   "source": [
    "There are a lot of zeros slope products. This might be due to number of reviews. Let's analyze number of reviews."
   ]
  },
  {
   "cell_type": "code",
   "execution_count": 22,
   "id": "06e4d931",
   "metadata": {},
   "outputs": [
    {
     "data": {
      "application/vnd.microsoft.datawrangler.viewer.v0+json": {
       "columns": [
        {
         "name": "index",
         "rawType": "object",
         "type": "string"
        },
        {
         "name": "n_reviews",
         "rawType": "float64",
         "type": "float"
        }
       ],
       "ref": "8c277452-2cb8-4aeb-87ec-0b1b54c5432d",
       "rows": [
        [
         "count",
         "402472.0"
        ],
        [
         "mean",
         "21.79947176449542"
        ],
        [
         "std",
         "97.25040594936695"
        ],
        [
         "min",
         "2.0"
        ],
        [
         "25%",
         "2.0"
        ],
        [
         "50%",
         "5.0"
        ],
        [
         "75%",
         "13.0"
        ],
        [
         "max",
         "12680.0"
        ]
       ],
       "shape": {
        "columns": 1,
        "rows": 8
       }
      },
      "text/plain": [
       "count    402472.000000\n",
       "mean         21.799472\n",
       "std          97.250406\n",
       "min           2.000000\n",
       "25%           2.000000\n",
       "50%           5.000000\n",
       "75%          13.000000\n",
       "max       12680.000000\n",
       "Name: n_reviews, dtype: float64"
      ]
     },
     "execution_count": 22,
     "metadata": {},
     "output_type": "execute_result"
    }
   ],
   "source": [
    "regression_labeled_df[\"n_reviews\"].describe()"
   ]
  },
  {
   "cell_type": "code",
   "execution_count": 23,
   "id": "a700a601",
   "metadata": {},
   "outputs": [
    {
     "data": {
      "application/vnd.microsoft.datawrangler.viewer.v0+json": {
       "columns": [
        {
         "name": "match",
         "rawType": "int64",
         "type": "integer"
        },
        {
         "name": "count",
         "rawType": "int64",
         "type": "integer"
        }
       ],
       "ref": "8e9f5aa3-1b33-4084-a02f-5a1bcf20b9c1",
       "rows": [
        [
         "0",
         "401123"
        ],
        [
         "1",
         "1349"
        ]
       ],
       "shape": {
        "columns": 1,
        "rows": 2
       }
      },
      "text/plain": [
       "match\n",
       "0    401123\n",
       "1      1349\n",
       "Name: count, dtype: int64"
      ]
     },
     "execution_count": 23,
     "metadata": {},
     "output_type": "execute_result"
    }
   ],
   "source": [
    "regression_labeled_df[\"match\"].value_counts()"
   ]
  },
  {
   "cell_type": "code",
   "execution_count": null,
   "id": "19aa831b",
   "metadata": {},
   "outputs": [],
   "source": []
  }
 ],
 "metadata": {
  "kernelspec": {
   "display_name": "data-venv",
   "language": "python",
   "name": "python3"
  },
  "language_info": {
   "codemirror_mode": {
    "name": "ipython",
    "version": 3
   },
   "file_extension": ".py",
   "mimetype": "text/x-python",
   "name": "python",
   "nbconvert_exporter": "python",
   "pygments_lexer": "ipython3",
   "version": "3.12.10"
  }
 },
 "nbformat": 4,
 "nbformat_minor": 5
}
