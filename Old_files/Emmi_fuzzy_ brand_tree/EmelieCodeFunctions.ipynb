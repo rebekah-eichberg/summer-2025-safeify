{
 "cells": [
  {
   "cell_type": "code",
   "execution_count": 6,
   "id": "715360f6-8b79-4219-a374-2be705d6c977",
   "metadata": {},
   "outputs": [],
   "source": [
    "import pandas as pd"
   ]
  },
  {
   "cell_type": "code",
   "execution_count": 10,
   "id": "8430ee8a-ff1b-4668-afc8-3a1f8d481812",
   "metadata": {},
   "outputs": [],
   "source": [
    "file_path = 'Data/amazon_meta.json'  \n",
    "amazon_df = pd.read_json(file_path, lines=True, compression=None)"
   ]
  },
  {
   "cell_type": "code",
   "execution_count": 11,
   "id": "0d64e36b-dc1a-44c5-93b7-8f1b5cd4a388",
   "metadata": {},
   "outputs": [
    {
     "name": "stdout",
     "output_type": "stream",
     "text": [
      "📦 Total products in the dataset: 633883\n"
     ]
    }
   ],
   "source": [
    "print(f\"📦 Total products in the dataset: {len(amazon_df)}\")"
   ]
  },
  {
   "cell_type": "markdown",
   "id": "fad3c25c-610d-4fb9-a5d9-7582de2f3df6",
   "metadata": {},
   "source": [
    "## Incidents Data"
   ]
  },
  {
   "cell_type": "code",
   "execution_count": 15,
   "id": "2f31ce2a-bf17-4284-91ad-38f913221a37",
   "metadata": {},
   "outputs": [],
   "source": [
    "df_arts = pd.read_csv('Data/Toysandchildren_ArtsandCrafts.csv', skiprows=2)\n",
    "df_riding = pd.read_csv('Data/Toysandchildren_Riding_Toys.csv', skiprows=1)\n",
    "df_toys = pd.read_csv('Data/Toysandchildren_Toys.csv', skiprows=1)"
   ]
  },
  {
   "cell_type": "code",
   "execution_count": 17,
   "id": "ff441770-326a-46ac-9908-2b753a0e559c",
   "metadata": {},
   "outputs": [
    {
     "name": "stdout",
     "output_type": "stream",
     "text": [
      "Combined recall records: 2514\n",
      "Columns: ['Report No.', 'Report Date', 'Sent to Manufacturer / Importer / Private Labeler', 'Publication Date', 'Category of Submitter', 'Product Description', 'Product Category', 'Product Sub Category', 'Product Type', 'Product Code', 'Manufacturer / Importer / Private Labeler Name', 'Brand', 'Model Name or Number', 'Serial Number', 'UPC', 'Date Manufactured', 'Manufacturer Date Code', 'Retailer', 'Retailer State', 'Purchase Date', 'Purchase Date Is Estimate', 'Incident Description', 'City', 'State', 'ZIP', 'Location', '(Primary) Victim Severity', \"(Primary) Victim's Sex\", 'My Relation To The (Primary) Victim', \"(Primary) Victim's Age (years)\", 'Submitter Has Product', 'Product Was Damaged Before Incident', 'Damage Description', 'Damage Repaired', 'Product Was Modified Before Incident', 'Have You Contacted The Manufacturer', 'If Not Do You Plan To', 'Answer Explanation', 'Company Comments', 'Associated Report Numbers']\n"
     ]
    },
    {
     "data": {
      "text/html": [
       "<div>\n",
       "<style scoped>\n",
       "    .dataframe tbody tr th:only-of-type {\n",
       "        vertical-align: middle;\n",
       "    }\n",
       "\n",
       "    .dataframe tbody tr th {\n",
       "        vertical-align: top;\n",
       "    }\n",
       "\n",
       "    .dataframe thead th {\n",
       "        text-align: right;\n",
       "    }\n",
       "</style>\n",
       "<table border=\"1\" class=\"dataframe\">\n",
       "  <thead>\n",
       "    <tr style=\"text-align: right;\">\n",
       "      <th></th>\n",
       "      <th>Report No.</th>\n",
       "      <th>Report Date</th>\n",
       "      <th>Sent to Manufacturer / Importer / Private Labeler</th>\n",
       "      <th>Publication Date</th>\n",
       "      <th>Category of Submitter</th>\n",
       "      <th>Product Description</th>\n",
       "      <th>Product Category</th>\n",
       "      <th>Product Sub Category</th>\n",
       "      <th>Product Type</th>\n",
       "      <th>Product Code</th>\n",
       "      <th>...</th>\n",
       "      <th>Submitter Has Product</th>\n",
       "      <th>Product Was Damaged Before Incident</th>\n",
       "      <th>Damage Description</th>\n",
       "      <th>Damage Repaired</th>\n",
       "      <th>Product Was Modified Before Incident</th>\n",
       "      <th>Have You Contacted The Manufacturer</th>\n",
       "      <th>If Not Do You Plan To</th>\n",
       "      <th>Answer Explanation</th>\n",
       "      <th>Company Comments</th>\n",
       "      <th>Associated Report Numbers</th>\n",
       "    </tr>\n",
       "  </thead>\n",
       "  <tbody>\n",
       "    <tr>\n",
       "      <th>0</th>\n",
       "      <td>20231002-D13C7-2147344911</td>\n",
       "      <td>10/2/2023</td>\n",
       "      <td>10/27/2023</td>\n",
       "      <td>11/20/2023</td>\n",
       "      <td>Consumer</td>\n",
       "      <td>Slime globe with colored spheres which resembl...</td>\n",
       "      <td>Toys &amp; Children</td>\n",
       "      <td>Arts &amp; Crafts</td>\n",
       "      <td>Molding Compounds (1376)</td>\n",
       "      <td>1376</td>\n",
       "      <td>...</td>\n",
       "      <td>NaN</td>\n",
       "      <td>NaN</td>\n",
       "      <td>NaN</td>\n",
       "      <td>NaN</td>\n",
       "      <td>NaN</td>\n",
       "      <td>NaN</td>\n",
       "      <td>NaN</td>\n",
       "      <td>NaN</td>\n",
       "      <td>TOYSMITH: Thank you for the opportunity to rev...</td>\n",
       "      <td>NaN</td>\n",
       "    </tr>\n",
       "    <tr>\n",
       "      <th>1</th>\n",
       "      <td>20180126-BBF18-2147393362</td>\n",
       "      <td>1/26/2018</td>\n",
       "      <td>4/13/2018</td>\n",
       "      <td>4/27/2018</td>\n",
       "      <td>Consumer</td>\n",
       "      <td>Slime kit from Nickelodeon by Cra-Z-Art</td>\n",
       "      <td>Toys &amp; Children</td>\n",
       "      <td>Arts &amp; Crafts</td>\n",
       "      <td>Molding Compounds (1376)</td>\n",
       "      <td>1376</td>\n",
       "      <td>...</td>\n",
       "      <td>Yes</td>\n",
       "      <td>No</td>\n",
       "      <td>NaN</td>\n",
       "      <td>NaN</td>\n",
       "      <td>No</td>\n",
       "      <td>Yes</td>\n",
       "      <td>NaN</td>\n",
       "      <td>I already have explained.</td>\n",
       "      <td>We at Cra-Z-Art® are very sorry that the cons...</td>\n",
       "      <td>NaN</td>\n",
       "    </tr>\n",
       "    <tr>\n",
       "      <th>2</th>\n",
       "      <td>20141231-7C153-2147437145</td>\n",
       "      <td>12/31/2014</td>\n",
       "      <td>1/9/2015</td>\n",
       "      <td>1/26/2015</td>\n",
       "      <td>Consumer</td>\n",
       "      <td>Lalaloopsy Color Me Doll ( Squiggles N. Shapes...</td>\n",
       "      <td>Toys &amp; Children</td>\n",
       "      <td>Arts &amp; Crafts</td>\n",
       "      <td>Crayons or Chalk (5010)</td>\n",
       "      <td>5010</td>\n",
       "      <td>...</td>\n",
       "      <td>NaN</td>\n",
       "      <td>NaN</td>\n",
       "      <td>NaN</td>\n",
       "      <td>NaN</td>\n",
       "      <td>NaN</td>\n",
       "      <td>No</td>\n",
       "      <td>No</td>\n",
       "      <td>NaN</td>\n",
       "      <td>The chalk markers included with this item are ...</td>\n",
       "      <td>NaN</td>\n",
       "    </tr>\n",
       "  </tbody>\n",
       "</table>\n",
       "<p>3 rows × 40 columns</p>\n",
       "</div>"
      ],
      "text/plain": [
       "                  Report No. Report Date  \\\n",
       "0  20231002-D13C7-2147344911   10/2/2023   \n",
       "1  20180126-BBF18-2147393362   1/26/2018   \n",
       "2  20141231-7C153-2147437145  12/31/2014   \n",
       "\n",
       "  Sent to Manufacturer / Importer / Private Labeler Publication Date  \\\n",
       "0                                        10/27/2023       11/20/2023   \n",
       "1                                         4/13/2018        4/27/2018   \n",
       "2                                          1/9/2015        1/26/2015   \n",
       "\n",
       "  Category of Submitter                                Product Description  \\\n",
       "0              Consumer  Slime globe with colored spheres which resembl...   \n",
       "1              Consumer            Slime kit from Nickelodeon by Cra-Z-Art   \n",
       "2              Consumer  Lalaloopsy Color Me Doll ( Squiggles N. Shapes...   \n",
       "\n",
       "  Product Category Product Sub Category              Product Type  \\\n",
       "0  Toys & Children        Arts & Crafts  Molding Compounds (1376)   \n",
       "1  Toys & Children        Arts & Crafts  Molding Compounds (1376)   \n",
       "2  Toys & Children        Arts & Crafts   Crayons or Chalk (5010)   \n",
       "\n",
       "   Product Code  ... Submitter Has Product  \\\n",
       "0          1376  ...                   NaN   \n",
       "1          1376  ...                   Yes   \n",
       "2          5010  ...                   NaN   \n",
       "\n",
       "  Product Was Damaged Before Incident Damage Description Damage Repaired  \\\n",
       "0                                 NaN                NaN             NaN   \n",
       "1                                  No                NaN             NaN   \n",
       "2                                 NaN                NaN             NaN   \n",
       "\n",
       "  Product Was Modified Before Incident Have You Contacted The Manufacturer  \\\n",
       "0                                  NaN                                 NaN   \n",
       "1                                   No                                 Yes   \n",
       "2                                  NaN                                  No   \n",
       "\n",
       "  If Not Do You Plan To         Answer Explanation  \\\n",
       "0                   NaN                        NaN   \n",
       "1                   NaN  I already have explained.   \n",
       "2                    No                        NaN   \n",
       "\n",
       "                                    Company Comments Associated Report Numbers  \n",
       "0  TOYSMITH: Thank you for the opportunity to rev...                       NaN  \n",
       "1   We at Cra-Z-Art® are very sorry that the cons...                       NaN  \n",
       "2  The chalk markers included with this item are ...                       NaN  \n",
       "\n",
       "[3 rows x 40 columns]"
      ]
     },
     "execution_count": 17,
     "metadata": {},
     "output_type": "execute_result"
    }
   ],
   "source": [
    "recalls_df = pd.concat([df_arts, df_riding, df_toys], ignore_index=True)\n",
    "# Preview\n",
    "print(\"Combined recall records:\", len(recalls_df))\n",
    "print(\"Columns:\", recalls_df.columns.tolist())\n",
    "recalls_df.head(3)"
   ]
  },
  {
   "cell_type": "code",
   "execution_count": 19,
   "id": "a44ff893-2aab-47c0-accd-89d48193911c",
   "metadata": {},
   "outputs": [
    {
     "name": "stdout",
     "output_type": "stream",
     "text": [
      "✅ Found matches for 586 recall brand entries.\n"
     ]
    }
   ],
   "source": [
    "from rapidfuzz import fuzz\n",
    "import pandas as pd\n",
    "\n",
    "# Ensure brand fields are cleaned\n",
    "amazon_df['brand'] = amazon_df['brand'].astype(str).str.lower().str.strip()\n",
    "recalls_df['Brand'] = recalls_df['Brand'].astype(str).str.lower().str.strip()\n",
    "\n",
    "# 🧼 Create the list of all unique brands from the entire recalls_df\n",
    "all_recall_brands = pd.Series(recalls_df['Brand'].dropna().unique())\n",
    "\n",
    "# Prepare dictionary to store (recall_rows, amazon_matches)\n",
    "matched_amazon_by_brand = {}\n",
    "\n",
    "# Loop over all brands from the full recall list\n",
    "for recall_brand in all_recall_brands:\n",
    "    # Find Amazon entries where the brand fuzzy-matches (≥ 90)\n",
    "    matched_rows = amazon_df[amazon_df['brand'].apply(\n",
    "        lambda x: fuzz.token_sort_ratio(x, recall_brand) >= 90\n",
    "    )]\n",
    "\n",
    "    # Get recall rows with that brand\n",
    "    recall_rows = recalls_df[recalls_df['Brand'] == recall_brand]\n",
    "\n",
    "    if not matched_rows.empty:\n",
    "        matched_amazon_by_brand[recall_brand] = (recall_rows.copy(), matched_rows.copy())\n",
    "\n",
    "# Summary\n",
    "print(f\" Found matches for {len(matched_amazon_by_brand)} recall brand entries.\")"
   ]
  },
  {
   "cell_type": "code",
   "execution_count": 20,
   "id": "30644ed1-b433-4532-a75c-6abb4b525ab2",
   "metadata": {},
   "outputs": [
    {
     "name": "stdout",
     "output_type": "stream",
     "text": [
      "✅ Total matched Amazon listings: 2153\n",
      "🧾 Is match counts:\n",
      " Is match\n",
      "0    631730\n",
      "1      2153\n",
      "Name: count, dtype: int64\n"
     ]
    }
   ],
   "source": [
    "# Step 2: Tag Amazon entries that match product descriptions\n",
    "\n",
    "# Initialize column to 0\n",
    "amazon_df['Is match'] = 0\n",
    "\n",
    "# Store indices of matched rows\n",
    "matched_amazon_indices = set()\n",
    "\n",
    "# Loop over matched brands\n",
    "for brand, (recall_df, amazon_df_matches) in matched_amazon_by_brand.items():\n",
    "    # Clean relevant columns\n",
    "    recall_df['Product Description'] = recall_df['Product Description'].astype(str).fillna('').str.lower().str.strip()\n",
    "    amazon_df_matches['title'] = amazon_df_matches['title'].astype(str).fillna('').str.lower().str.strip()\n",
    "\n",
    "    for recall_desc in recall_df['Product Description']:\n",
    "        for idx, title in amazon_df_matches['title'].items():\n",
    "            score = fuzz.token_set_ratio(recall_desc, title)\n",
    "            if score >= 80:\n",
    "                matched_amazon_indices.add(idx)\n",
    "\n",
    "# Update original amazon_df with match indicator\n",
    "amazon_df.loc[amazon_df.index.isin(matched_amazon_indices), 'Is match'] = 1\n",
    "\n",
    "# ✅ Summary\n",
    "print(f\"✅ Total matched Amazon listings: {len(matched_amazon_indices)}\")\n",
    "print(\"🧾 Is match counts:\\n\", amazon_df['Is match'].value_counts())"
   ]
  },
  {
   "cell_type": "markdown",
   "id": "945dd9c5-048b-4eff-9df7-5fa55f7930dd",
   "metadata": {},
   "source": [
    "### Write these as Functions"
   ]
  },
  {
   "cell_type": "code",
   "execution_count": 25,
   "id": "5461032d-566c-4394-bf1c-873f5729ab89",
   "metadata": {},
   "outputs": [],
   "source": [
    "def match_amazon_by_brand(\n",
    "    amazon_df: pd.DataFrame,\n",
    "    recalls_df: pd.DataFrame,\n",
    "    score_threshold: int = 90\n",
    ") -> dict[str, tuple[pd.DataFrame, pd.DataFrame]]:\n",
    "    \"\"\"\n",
    "    For each unique brand in recalls_df, find all amazon_df rows whose\n",
    "    'brand' fuzzy-matches at or above score_threshold.\n",
    "    Returns a dict mapping recall_brand -> (recall_rows_df, matching_amazon_rows_df).\n",
    "    \"\"\"\n",
    "    # work on copies\n",
    "    amazon = amazon_df.copy()\n",
    "    recalls = recalls_df.copy()\n",
    "\n",
    "    # clean brand columns\n",
    "    amazon['brand']  = amazon['brand'].astype(str).str.lower().str.strip()\n",
    "    recalls['Brand'] = recalls['Brand'].astype(str).str.lower().str.strip()\n",
    "\n",
    "    matched = {}\n",
    "    for recall_brand in recalls['Brand'].dropna().unique():\n",
    "        mask = amazon['brand'].apply(\n",
    "            lambda x: fuzz.token_sort_ratio(x, recall_brand) >= score_threshold\n",
    "        )\n",
    "        amazon_matches = amazon[mask]\n",
    "        recall_rows     = recalls[recalls['Brand'] == recall_brand]\n",
    "\n",
    "        if not amazon_matches.empty:\n",
    "            matched[recall_brand] = (recall_rows.copy(), amazon_matches.copy())\n",
    "\n",
    "    print(f\"✅ Found matches for {len(matched)} recall-brand entries.\")\n",
    "    return matched\n",
    "\n",
    "\n",
    "def tag_amazon_by_description(\n",
    "    amazon_df: pd.DataFrame,\n",
    "    matched_by_brand: dict[str, tuple[pd.DataFrame, pd.DataFrame]],\n",
    "    desc_score_threshold: int = 80\n",
    ") -> pd.DataFrame:\n",
    "    \"\"\"\n",
    "    Given an amazon_df and the output of match_amazon_by_brand(),\n",
    "    tag each amazon row with 'Is match' = 1 if its title fuzzy-matches\n",
    "    any recall product description (≥ desc_score_threshold).\n",
    "    Returns a new DataFrame with the added 'Is match' column.\n",
    "    \"\"\"\n",
    "    amazon = amazon_df.copy()\n",
    "    amazon['Is match'] = 0\n",
    "    matched_indices = set()\n",
    "\n",
    "    for recall_brand, (recall_rows, amazon_matches) in matched_by_brand.items():\n",
    "        descs  = (\n",
    "            recall_rows['Product Description']\n",
    "            .astype(str).fillna(\"\")\n",
    "            .str.lower().str.strip()\n",
    "        )\n",
    "        titles = (\n",
    "            amazon_matches['title']\n",
    "            .astype(str).fillna(\"\")\n",
    "            .str.lower().str.strip()\n",
    "        )\n",
    "\n",
    "        for desc in descs:\n",
    "            for idx, title in titles.items():\n",
    "                if fuzz.token_set_ratio(desc, title) >= desc_score_threshold:\n",
    "                    matched_indices.add(idx)\n",
    "\n",
    "    amazon.loc[amazon.index.isin(matched_indices), 'Is match'] = 1\n",
    "    total = len(matched_indices)\n",
    "    counts = amazon['Is match'].value_counts()\n",
    "    print(f\" Total matched Amazon listings: {total}\")\n",
    "    print(\" Is match counts:\\n\", counts.to_dict())\n",
    "    return amazon"
   ]
  },
  {
   "cell_type": "code",
   "execution_count": 29,
   "id": "810850de-9627-4f16-93a9-bbc379f1a3b1",
   "metadata": {},
   "outputs": [
    {
     "name": "stdout",
     "output_type": "stream",
     "text": [
      "✅ Found matches for 586 recall-brand entries.\n",
      " Total matched Amazon listings: 2153\n",
      " Is match counts:\n",
      " {0: 631730, 1: 2153}\n"
     ]
    }
   ],
   "source": [
    "matched_by_brand = match_amazon_by_brand(amazon_df, recalls_df, score_threshold = 90)\n",
    "amazon_df = tag_amazon_by_description(amazon_df, matched_by_brand, desc_score_threshold = 80)"
   ]
  },
  {
   "cell_type": "markdown",
   "id": "b6bc5c20-689a-468e-b7dc-7ae7a621986e",
   "metadata": {},
   "source": [
    "### Rewrite these functions so that recall indices are saved"
   ]
  },
  {
   "cell_type": "code",
   "execution_count": 43,
   "id": "57c15201-275e-4f87-b878-87a91f7f3571",
   "metadata": {},
   "outputs": [],
   "source": [
    "def match_amazon_by_brand(\n",
    "    amazon_df: pd.DataFrame,\n",
    "    recalls_df: pd.DataFrame,\n",
    "    score_threshold: int = 90\n",
    ") -> dict[str, tuple[pd.DataFrame, pd.DataFrame, list[int]]]:\n",
    "    \"\"\"\n",
    "    For each unique brand in recalls_df, find all amazon_df rows whose\n",
    "    'brand' fuzzy-matches at or above score_threshold.\n",
    "    Returns a dict mapping recall_brand -> (recall_rows_df, matching_amazon_rows_df, global_recall_indices).\n",
    "    \"\"\"\n",
    "    amazon = amazon_df.copy()\n",
    "    recalls = recalls_df.copy()\n",
    "\n",
    "    amazon['brand'] = amazon['brand'].astype(str).str.lower().str.strip()\n",
    "    recalls['Brand'] = recalls['Brand'].astype(str).str.lower().str.strip()\n",
    "\n",
    "    matched = {}\n",
    "\n",
    "    for recall_brand in recalls['Brand'].dropna().unique():\n",
    "        mask = amazon['brand'].apply(\n",
    "            lambda x: fuzz.token_sort_ratio(x, recall_brand) >= score_threshold\n",
    "        )\n",
    "        amazon_matches = amazon[mask]\n",
    "        recall_rows = recalls[recalls['Brand'] == recall_brand]\n",
    "\n",
    "        if not amazon_matches.empty:\n",
    "            # ✅ capture the *original recall indices*\n",
    "            global_indices = recall_rows.index.tolist()\n",
    "            matched[recall_brand] = (recall_rows.copy(), amazon_matches.copy(), global_indices)\n",
    "\n",
    "    print(f\"✅ Found matches for {len(matched)} recall-brand entries.\")\n",
    "    return matched"
   ]
  },
  {
   "cell_type": "code",
   "execution_count": 47,
   "id": "be0f1858-9291-4030-b376-0cde96146e6c",
   "metadata": {},
   "outputs": [],
   "source": [
    "def tag_amazon_by_description(\n",
    "    amazon_df: pd.DataFrame,\n",
    "    matched_by_brand: dict[str, tuple[pd.DataFrame, pd.DataFrame, list[int]]],\n",
    "    desc_score_threshold: int = 80\n",
    ") -> pd.DataFrame:\n",
    "    \"\"\"\n",
    "    Tag each amazon row with:\n",
    "    - 'Is match' = 1 if title matches any recall description\n",
    "    - 'matched_recall_indices' = list of original recalls_df indices\n",
    "    \"\"\"\n",
    "    amazon = amazon_df.copy()\n",
    "    amazon['Is match'] = 0\n",
    "    amazon['matched_recall_indices'] = [[] for _ in range(len(amazon))]\n",
    "\n",
    "    for recall_brand, (recall_rows, amazon_matches, global_recall_indices) in matched_by_brand.items():\n",
    "        recall_descs = recall_rows['Product Description'].astype(str).fillna(\"\").str.lower().str.strip()\n",
    "        amazon_titles = amazon_matches['title'].astype(str).fillna(\"\").str.lower().str.strip()\n",
    "\n",
    "        for local_recall_i, recall_desc in enumerate(recall_descs):\n",
    "            global_recall_i = global_recall_indices[local_recall_i]  # map local to global index\n",
    "            for amazon_i, title in amazon_titles.items():\n",
    "                if fuzz.token_set_ratio(recall_desc, title) >= desc_score_threshold:\n",
    "                    amazon.at[amazon_i, 'Is match'] = 1\n",
    "                    amazon.at[amazon_i, 'matched_recall_indices'].append(global_recall_i)\n",
    "\n",
    "    total = amazon['Is match'].sum()\n",
    "    print(f\"Total matched Amazon listings: {total}\")\n",
    "    print(\"Match counts:\", amazon['Is match'].value_counts().to_dict())\n",
    "    return amazon\n"
   ]
  },
  {
   "cell_type": "code",
   "execution_count": 49,
   "id": "be373fb3-2e9f-425e-b4db-96da3d288758",
   "metadata": {},
   "outputs": [
    {
     "name": "stdout",
     "output_type": "stream",
     "text": [
      "✅ Found matches for 586 recall-brand entries.\n",
      "Total matched Amazon listings: 2153\n",
      "Match counts: {0: 631730, 1: 2153}\n"
     ]
    }
   ],
   "source": [
    "matched_by_brand = match_amazon_by_brand(amazon_df, recalls_df, score_threshold = 90)\n",
    "amazon_df = tag_amazon_by_description(amazon_df, matched_by_brand, desc_score_threshold = 80)"
   ]
  },
  {
   "cell_type": "markdown",
   "id": "61947466-384c-49cc-922d-e31397acd56d",
   "metadata": {},
   "source": [
    "Print to see we have exactly the same results."
   ]
  },
  {
   "cell_type": "code",
   "execution_count": 54,
   "id": "655a15f6-2187-4ad7-81e1-0966e4d2616a",
   "metadata": {},
   "outputs": [
    {
     "name": "stdout",
     "output_type": "stream",
     "text": [
      "\n",
      "📦 First 10 example matches:\n",
      "         brand                                       amazon_title  \\\n",
      "0     play doh  play doh disney princess design a dress boutiq...   \n",
      "1  nickelodeon  1 x turtles teenage mutant ninja turtles mutag...   \n",
      "2  nickelodeon  nickelodeon teenage mutant ninja turtle heli b...   \n",
      "3  nickelodeon  dora the explorer bed tent with push light fea...   \n",
      "4  nickelodeon              teenage mutant ninja turtles splinter   \n",
      "5  nickelodeon              teenage mutant ninja turtles leonardo   \n",
      "6  nickelodeon              teenage mutant ninja turtles shredder   \n",
      "7  nickelodeon          teenage mutant ninja turtles foot soldier   \n",
      "8  nickelodeon            teenage mutant ninja turtles cups 4 set   \n",
      "9  nickelodeon             teenage mutant ninja turtles kickboard   \n",
      "\n",
      "                                  recall_description       score  \n",
      "0                                           play doh  100.000000  \n",
      "1  playmate's teenage mutant ninja turtle nickelo...   84.033613  \n",
      "2  playmate's teenage mutant ninja turtle nickelo...   82.242991  \n",
      "3                    childs bed tent with push light   87.272727  \n",
      "4  teenage mutant ninja turtles teepee, pillow & ...   86.153846  \n",
      "5  teenage mutant ninja turtles teepee, pillow & ...   86.153846  \n",
      "6  teenage mutant ninja turtles teepee, pillow & ...   86.153846  \n",
      "7  teenage mutant ninja turtles teepee, pillow & ...   81.159420  \n",
      "8  teenage mutant ninja turtles teepee, pillow & ...   83.582090  \n",
      "9  teenage mutant ninja turtles teepee, pillow & ...   84.848485  \n"
     ]
    }
   ],
   "source": [
    "# Collect examples to show\n",
    "example_matches = []\n",
    "\n",
    "for brand, (recall_df, amazon_df_matches) in matched_amazon_by_brand.items():\n",
    "    recall_df['Product Description'] = recall_df['Product Description'].astype(str).fillna('').str.lower().str.strip()\n",
    "    amazon_df_matches['title'] = amazon_df_matches['title'].astype(str).fillna('').str.lower().str.strip()\n",
    "\n",
    "    for recall_desc in recall_df['Product Description']:\n",
    "        for idx, title in amazon_df_matches['title'].items():\n",
    "            if idx in matched_amazon_indices:  # Only show already matched indices\n",
    "                score = fuzz.token_set_ratio(recall_desc, title)\n",
    "                if score >= 80:\n",
    "                    example_matches.append({\n",
    "                        'brand': brand,\n",
    "                        'amazon_index': idx,\n",
    "                        'amazon_title': title,\n",
    "                        'recall_description': recall_desc,\n",
    "                        'score': score\n",
    "                    })\n",
    "                if len(example_matches) >= 10:\n",
    "                    break\n",
    "        if len(example_matches) >= 10:\n",
    "            break\n",
    "    if len(example_matches) >= 10:\n",
    "        break\n",
    "\n",
    "# Convert to DataFrame for display\n",
    "examples_df = pd.DataFrame(example_matches)\n",
    "print(\"\\n📦 First 10 example matches:\")\n",
    "print(examples_df[['brand', 'amazon_title', 'recall_description', 'score']])"
   ]
  },
  {
   "cell_type": "markdown",
   "id": "f8a77f53-7a84-4584-bc2d-1f291524df65",
   "metadata": {},
   "source": [
    "## Analyze the results:"
   ]
  },
  {
   "cell_type": "code",
   "execution_count": 63,
   "id": "dacde0f8-3944-4b88-9bd8-1c684bc3a0e5",
   "metadata": {},
   "outputs": [
    {
     "data": {
      "text/plain": [
       "Index(['category', 'tech1', 'description', 'fit', 'title', 'also_buy', 'tech2',\n",
       "       'brand', 'feature', 'rank', 'also_view', 'main_cat', 'similar_item',\n",
       "       'date', 'price', 'asin', 'imageURL', 'imageURLHighRes', 'details',\n",
       "       'Is match', 'matched_recall_indices'],\n",
       "      dtype='object')"
      ]
     },
     "execution_count": 63,
     "metadata": {},
     "output_type": "execute_result"
    }
   ],
   "source": [
    "amazon_df.columns"
   ]
  },
  {
   "cell_type": "code",
   "execution_count": 65,
   "id": "7d889c7c-d534-4570-96b3-9229f8576869",
   "metadata": {},
   "outputs": [
    {
     "data": {
      "text/html": [
       "<div>\n",
       "<style scoped>\n",
       "    .dataframe tbody tr th:only-of-type {\n",
       "        vertical-align: middle;\n",
       "    }\n",
       "\n",
       "    .dataframe tbody tr th {\n",
       "        vertical-align: top;\n",
       "    }\n",
       "\n",
       "    .dataframe thead th {\n",
       "        text-align: right;\n",
       "    }\n",
       "</style>\n",
       "<table border=\"1\" class=\"dataframe\">\n",
       "  <thead>\n",
       "    <tr style=\"text-align: right;\">\n",
       "      <th></th>\n",
       "      <th>matched_recall_indices</th>\n",
       "    </tr>\n",
       "  </thead>\n",
       "  <tbody>\n",
       "    <tr>\n",
       "      <th>1755</th>\n",
       "      <td>[1442]</td>\n",
       "    </tr>\n",
       "    <tr>\n",
       "      <th>1758</th>\n",
       "      <td>[1442]</td>\n",
       "    </tr>\n",
       "    <tr>\n",
       "      <th>1773</th>\n",
       "      <td>[1442]</td>\n",
       "    </tr>\n",
       "    <tr>\n",
       "      <th>1907</th>\n",
       "      <td>[1442]</td>\n",
       "    </tr>\n",
       "    <tr>\n",
       "      <th>1971</th>\n",
       "      <td>[1094, 1149, 1254, 1331, 1938, 2391]</td>\n",
       "    </tr>\n",
       "    <tr>\n",
       "      <th>...</th>\n",
       "      <td>...</td>\n",
       "    </tr>\n",
       "    <tr>\n",
       "      <th>628711</th>\n",
       "      <td>[2052]</td>\n",
       "    </tr>\n",
       "    <tr>\n",
       "      <th>629091</th>\n",
       "      <td>[2249]</td>\n",
       "    </tr>\n",
       "    <tr>\n",
       "      <th>633736</th>\n",
       "      <td>[2274]</td>\n",
       "    </tr>\n",
       "    <tr>\n",
       "      <th>633860</th>\n",
       "      <td>[1753]</td>\n",
       "    </tr>\n",
       "    <tr>\n",
       "      <th>633882</th>\n",
       "      <td>[1225]</td>\n",
       "    </tr>\n",
       "  </tbody>\n",
       "</table>\n",
       "<p>2153 rows × 1 columns</p>\n",
       "</div>"
      ],
      "text/plain": [
       "                      matched_recall_indices\n",
       "1755                                  [1442]\n",
       "1758                                  [1442]\n",
       "1773                                  [1442]\n",
       "1907                                  [1442]\n",
       "1971    [1094, 1149, 1254, 1331, 1938, 2391]\n",
       "...                                      ...\n",
       "628711                                [2052]\n",
       "629091                                [2249]\n",
       "633736                                [2274]\n",
       "633860                                [1753]\n",
       "633882                                [1225]\n",
       "\n",
       "[2153 rows x 1 columns]"
      ]
     },
     "execution_count": 65,
     "metadata": {},
     "output_type": "execute_result"
    }
   ],
   "source": [
    "amazon_df.loc[amazon_df['Is match']==1,['matched_recall_indices']]"
   ]
  },
  {
   "cell_type": "markdown",
   "id": "205f7e17-8089-4f6a-8464-04e3ad56f324",
   "metadata": {},
   "source": [
    "#### Is one amazon data is matched with more than one recall data?"
   ]
  },
  {
   "cell_type": "code",
   "execution_count": 69,
   "id": "3ec956d3-782b-4265-bfcd-c85465b167d4",
   "metadata": {},
   "outputs": [
    {
     "data": {
      "text/plain": [
       "matched_recall_indices    [1094, 1149, 1254, 1331, 1938, 2391]\n",
       "Name: 1971, dtype: object"
      ]
     },
     "execution_count": 69,
     "metadata": {},
     "output_type": "execute_result"
    }
   ],
   "source": [
    "amazon_df.loc[1971,['matched_recall_indices']]"
   ]
  },
  {
   "cell_type": "code",
   "execution_count": 78,
   "id": "a013c4f9-3872-418f-8e26-cfe18403ddbf",
   "metadata": {},
   "outputs": [
    {
     "name": "stdout",
     "output_type": "stream",
     "text": [
      "🔹 META\n",
      "Brand: learning resources\n",
      "Title: Learning Resources Tool Set\n",
      "Feature: ['For the young builder', '13 piece set', 'Stores in plastic tool box']\n",
      "--------------------------------------------------------------------------------\n"
     ]
    }
   ],
   "source": [
    "for i in [1971]:\n",
    "    meta_row = amazon_df.iloc[i]\n",
    "       \n",
    "    print(\"🔹 META\")\n",
    "    print(f\"Brand: {meta_row['brand']}\")\n",
    "    print(f\"Title: {meta_row['title']}\")\n",
    "    print(f\"Feature: {meta_row['feature']}\")\n",
    "    \n",
    "    print(\"-\" * 80)  "
   ]
  },
  {
   "cell_type": "code",
   "execution_count": 153,
   "id": "6e2589bd-5759-4447-b748-0195b5b21416",
   "metadata": {},
   "outputs": [
    {
     "name": "stdout",
     "output_type": "stream",
     "text": [
      "🔹 META\n",
      "Brand:   learning resources\n",
      "Title:   Learning Resources Tool Set\n",
      "Feature: ['For the young builder', '13 piece set', 'Stores in plastic tool box']\n",
      "--------------------------------------------------------------------------------\n"
     ]
    }
   ],
   "source": [
    "print_metadata(amazon_df, [1971])"
   ]
  },
  {
   "cell_type": "code",
   "execution_count": 157,
   "id": "818ecf47-2aaf-4ba7-9c7d-3cc71e2d2438",
   "metadata": {},
   "outputs": [],
   "source": [
    "def print_metadata(df, indices):\n",
    "    \n",
    "    for i in indices:\n",
    "        if i >= len(df):\n",
    "            print(f\"⚠️ Index {i} is out of bounds.\")\n",
    "            continue\n",
    "\n",
    "        meta_row = df.iloc[i]\n",
    "        \n",
    "        print(\"🔹 META\")\n",
    "        print(f\"Brand:   {meta_row.get('brand', 'N/A')}\")\n",
    "        print(f\"Title:   {meta_row.get('title', 'N/A')}\")\n",
    "        print(f\"Feature: {meta_row.get('feature', 'N/A')}\")\n",
    "        print(\"-\" * 80)\n",
    "\n",
    "def print_recall_data(df, indices):\n",
    "    \n",
    "    for i in indices:\n",
    "        if i >= len(df):\n",
    "            print(f\"⚠️ Index {i} is out of bounds.\")\n",
    "            continue\n",
    "\n",
    "        recall_row = df.iloc[i]\n",
    "\n",
    "        print(\"🔹 REPORT\")\n",
    "        print(f\"Brand:               {recall_row.get('Brand', 'N/A')}\")\n",
    "        print(f\"Product Description: {recall_row.get('Product Description', 'N/A')}\")\n",
    "        print(\"-\" * 80)"
   ]
  },
  {
   "cell_type": "code",
   "execution_count": 155,
   "id": "3a86dd72-0c09-45d3-a0d3-b7ca98661cd3",
   "metadata": {},
   "outputs": [
    {
     "name": "stdout",
     "output_type": "stream",
     "text": [
      "🔹 META\n",
      "Brand:   learning resources\n",
      "Title:   Learning Resources Tool Set\n",
      "Feature: ['For the young builder', '13 piece set', 'Stores in plastic tool box']\n",
      "--------------------------------------------------------------------------------\n"
     ]
    }
   ],
   "source": [
    "print_metadata(amazon_df, [1971])"
   ]
  },
  {
   "cell_type": "code",
   "execution_count": 161,
   "id": "b39f87bc-86ad-4b82-b5d9-2c566848321f",
   "metadata": {},
   "outputs": [
    {
     "name": "stdout",
     "output_type": "stream",
     "text": [
      "🔹 REPORT\n",
      "Brand:               learning resources\n",
      "Product Description: Learning Resources magnet movers toy. Comes with multiple magnets encased in plastic. the issue was with the orange sphere\n",
      "--------------------------------------------------------------------------------\n",
      "🔹 REPORT\n",
      "Brand:               learning resources\n",
      "Product Description: Learning Resources Snap and Learn Rainbow Owls. The two-piece owls pop apart and snap back together, use to learn gross motor skills or sorting skills.The 10 owls are 3-in-1  color toys, number toys, and sorting toys. They are each about 2x3.\n",
      "--------------------------------------------------------------------------------\n",
      "🔹 REPORT\n",
      "Brand:               learning resources\n",
      "Product Description: Learning Resources Spike The Fine Motor Hedgehoghttps://www.learningresources.com/spike-the-fine-motor-hedgehogtm\n",
      "--------------------------------------------------------------------------------\n",
      "🔹 REPORT\n",
      "Brand:               learning resources\n",
      "Product Description: Snap-n-Learn Rainbow Owls by Learning Resources barcode 765023067118\n",
      "--------------------------------------------------------------------------------\n",
      "🔹 REPORT\n",
      "Brand:               learning resources\n",
      "Product Description: Learning resources smart snacks shape sorting cupcakes on the box it has a upc with B5049720209.  ON the box it has LER7347in the upper right hand corner. 17 piece set for ages 2+Peek under the frosting, match the hidden shape, and pop them in the pain.  Serves up some fun for everyone! \n",
      "--------------------------------------------------------------------------------\n",
      "🔹 REPORT\n",
      "Brand:               learning resources\n",
      "Product Description: Learning Resources - Snap-N-Learn Counting Sheep, 20 pcs. 18 mos and up\n",
      "--------------------------------------------------------------------------------\n"
     ]
    }
   ],
   "source": [
    "print_recall_data(recalls_df, [1094, 1149, 1254, 1331, 1938, 2391])"
   ]
  },
  {
   "cell_type": "markdown",
   "id": "619d2ebd-51ed-4579-9a4f-15d6aae7c93a",
   "metadata": {},
   "source": [
    "#### How many Amazon Items are matched with more than one recall?"
   ]
  },
  {
   "cell_type": "code",
   "execution_count": 111,
   "id": "80f9ac11-a38d-47a8-a5b3-3e47d52d7a65",
   "metadata": {},
   "outputs": [],
   "source": [
    "amazon_df['number of matches'] = 0"
   ]
  },
  {
   "cell_type": "code",
   "execution_count": 119,
   "id": "79665ad5-0e34-44c9-a4d1-f777b2a2a258",
   "metadata": {},
   "outputs": [],
   "source": [
    "amazon_df['number_of_matches'] = amazon_df['matched_recall_indices'].apply(\n",
    "    lambda x: len(x)\n",
    ")"
   ]
  },
  {
   "cell_type": "code",
   "execution_count": 123,
   "id": "a0eba0d1-1cd1-4700-a946-93b79f442536",
   "metadata": {},
   "outputs": [
    {
     "data": {
      "text/plain": [
       "2844"
      ]
     },
     "execution_count": 123,
     "metadata": {},
     "output_type": "execute_result"
    }
   ],
   "source": [
    "amazon_df['number_of_matches'].sum()"
   ]
  },
  {
   "cell_type": "code",
   "execution_count": 139,
   "id": "7394028c-0a3d-4164-9570-e76d1ce97466",
   "metadata": {},
   "outputs": [
    {
     "data": {
      "text/html": [
       "<div>\n",
       "<style scoped>\n",
       "    .dataframe tbody tr th:only-of-type {\n",
       "        vertical-align: middle;\n",
       "    }\n",
       "\n",
       "    .dataframe tbody tr th {\n",
       "        vertical-align: top;\n",
       "    }\n",
       "\n",
       "    .dataframe thead th {\n",
       "        text-align: right;\n",
       "    }\n",
       "</style>\n",
       "<table border=\"1\" class=\"dataframe\">\n",
       "  <thead>\n",
       "    <tr style=\"text-align: right;\">\n",
       "      <th></th>\n",
       "      <th>number_of_matches</th>\n",
       "    </tr>\n",
       "  </thead>\n",
       "  <tbody>\n",
       "    <tr>\n",
       "      <th>38108</th>\n",
       "      <td>38</td>\n",
       "    </tr>\n",
       "    <tr>\n",
       "      <th>400047</th>\n",
       "      <td>13</td>\n",
       "    </tr>\n",
       "    <tr>\n",
       "      <th>460809</th>\n",
       "      <td>11</td>\n",
       "    </tr>\n",
       "    <tr>\n",
       "      <th>538004</th>\n",
       "      <td>10</td>\n",
       "    </tr>\n",
       "    <tr>\n",
       "      <th>596066</th>\n",
       "      <td>10</td>\n",
       "    </tr>\n",
       "    <tr>\n",
       "      <th>...</th>\n",
       "      <td>...</td>\n",
       "    </tr>\n",
       "    <tr>\n",
       "      <th>360268</th>\n",
       "      <td>2</td>\n",
       "    </tr>\n",
       "    <tr>\n",
       "      <th>364448</th>\n",
       "      <td>2</td>\n",
       "    </tr>\n",
       "    <tr>\n",
       "      <th>367023</th>\n",
       "      <td>2</td>\n",
       "    </tr>\n",
       "    <tr>\n",
       "      <th>368382</th>\n",
       "      <td>2</td>\n",
       "    </tr>\n",
       "    <tr>\n",
       "      <th>622437</th>\n",
       "      <td>2</td>\n",
       "    </tr>\n",
       "  </tbody>\n",
       "</table>\n",
       "<p>331 rows × 1 columns</p>\n",
       "</div>"
      ],
      "text/plain": [
       "        number_of_matches\n",
       "38108                  38\n",
       "400047                 13\n",
       "460809                 11\n",
       "538004                 10\n",
       "596066                 10\n",
       "...                   ...\n",
       "360268                  2\n",
       "364448                  2\n",
       "367023                  2\n",
       "368382                  2\n",
       "622437                  2\n",
       "\n",
       "[331 rows x 1 columns]"
      ]
     },
     "execution_count": 139,
     "metadata": {},
     "output_type": "execute_result"
    }
   ],
   "source": [
    "amazon_df.loc[amazon_df['number_of_matches'] > 1,['number_of_matches']] \\\n",
    "    .sort_values(by='number_of_matches', ascending=False)"
   ]
  },
  {
   "cell_type": "code",
   "execution_count": 147,
   "id": "6df9c0f8-d3a5-47f4-b8ff-5ad48342f2fb",
   "metadata": {},
   "outputs": [
    {
     "name": "stdout",
     "output_type": "stream",
     "text": [
      "Length with greater than one matches: 331\n"
     ]
    }
   ],
   "source": [
    "print(f\"Length with greater than one matches: {len(amazon_df.loc[amazon_df['number_of_matches'] > 1, ['number_of_matches']])}\")"
   ]
  },
  {
   "cell_type": "code",
   "execution_count": null,
   "id": "c7eb4d0d-0967-484c-becc-70c796f6b675",
   "metadata": {},
   "outputs": [],
   "source": []
  },
  {
   "cell_type": "code",
   "execution_count": null,
   "id": "303ba86c-d691-4a0d-a581-677b3502b2f0",
   "metadata": {},
   "outputs": [],
   "source": []
  },
  {
   "cell_type": "code",
   "execution_count": null,
   "id": "49d64c07-6881-459c-bfce-8f8b0ea3fe0c",
   "metadata": {},
   "outputs": [],
   "source": []
  },
  {
   "cell_type": "code",
   "execution_count": null,
   "id": "56d21f26-d940-424c-b3f7-a49d275c4608",
   "metadata": {},
   "outputs": [],
   "source": []
  },
  {
   "cell_type": "code",
   "execution_count": null,
   "id": "0f3ccae8-21a6-4585-969f-56808b40fc62",
   "metadata": {},
   "outputs": [],
   "source": []
  },
  {
   "cell_type": "code",
   "execution_count": null,
   "id": "ad99a4e6-2e44-42ba-8134-0515b9e5af43",
   "metadata": {},
   "outputs": [],
   "source": []
  },
  {
   "cell_type": "code",
   "execution_count": null,
   "id": "6a60d2a8-ff79-4f79-8de3-4d4afae0a2e6",
   "metadata": {},
   "outputs": [],
   "source": []
  },
  {
   "cell_type": "code",
   "execution_count": null,
   "id": "713a015b-43ca-4511-8000-db4a050fc156",
   "metadata": {},
   "outputs": [],
   "source": []
  },
  {
   "cell_type": "code",
   "execution_count": null,
   "id": "9c4ce135-22e8-4e83-8eba-a564d5d1ee09",
   "metadata": {},
   "outputs": [],
   "source": []
  },
  {
   "cell_type": "code",
   "execution_count": null,
   "id": "cd88060f-d2ce-4c61-8eae-943a833cc57a",
   "metadata": {},
   "outputs": [],
   "source": []
  },
  {
   "cell_type": "code",
   "execution_count": 35,
   "id": "f6741313-536f-4120-994a-b9c6496aeac2",
   "metadata": {},
   "outputs": [],
   "source": [
    "from rapidfuzz import fuzz\n",
    "from rapidfuzz.process import cdist\n",
    "\n",
    "# 1) BRANDS\n",
    "UNMATCHABLE = \"__MISSING__\"\n",
    "\n",
    "# build aligned lists\n",
    "brand_queries = (\n",
    "    recalls_df['Brand']\n",
    "    .fillna(UNMATCHABLE)\n",
    "    .astype(str)\n",
    "    .str.lower().str.strip()\n",
    "    .tolist()\n",
    ")\n",
    "brand_choices = (\n",
    "    amazon_df['brand']\n",
    "    .fillna(UNMATCHABLE)\n",
    "    .astype(str)\n",
    "    .str.lower().str.strip()\n",
    "    .tolist()\n",
    ")\n",
    "\n",
    "# run cdist to get all brand-matches ≥ 90\n",
    "similarity_brand_matrix2 = cdist(\n",
    "    brand_queries,         # rows = reports\n",
    "    brand_choices,         # cols = df_meta\n",
    "    scorer=fuzz.token_sort_ratio,\n",
    "    processor=None,        # already pre-processed\n",
    "    score_cutoff=90,       # only return score ≥ 90\n",
    "    workers=24\n",
    ")\n",
    "# similarity_brand_matrix2[i] is a list of (brand_str, score, col_idx)\n",
    "# for every brand_choices[col_idx] that matched reports.iloc[i]['Brand'].\n",
    "\n",
    "# 2) DESCRIPTIONS\n",
    "desc_queries = (\n",
    "    recalls_df['Product Description']\n",
    "    .fillna(\"\")\n",
    "    .astype(str)\n",
    "    .str.lower().str.strip()\n",
    "    .tolist()\n",
    ")\n",
    "title_choices = (\n",
    "    amazon_df['title']\n",
    "    .fillna(\"\")\n",
    "    .astype(str)\n",
    "    .str.lower().str.strip()\n",
    "    .tolist()\n",
    ")\n",
    "\n",
    "# run cdist for desc vs title\n",
    "similarity_desc_matrix2 = cdist(\n",
    "    desc_queries,\n",
    "    title_choices,\n",
    "    scorer=fuzz.token_set_ratio,\n",
    "    processor=None,\n",
    "    score_cutoff=80,\n",
    "    workers=24\n",
    ")\n",
    "# similarity_desc_matrix2[i] is a list of (title_str, score, col_idx)\n",
    "# for every title_choices[col_idx] that matched reports.iloc[i]['Product Description'].\n"
   ]
  },
  {
   "cell_type": "code",
   "execution_count": 41,
   "id": "4739f459-4e5b-49c5-ac64-911f22c1e389",
   "metadata": {},
   "outputs": [],
   "source": [
    "import numpy as np\n",
    "\n",
    "# Get positions where brand similarity is > 90\n",
    "brand_indices = np.where(similarity_brand_matrix2 > 90)\n",
    "\n",
    "# Create a list of (i, j) where both conditions are true\n",
    "matches = []\n",
    "for i, j in zip(*brand_indices):\n",
    "    if similarity_desc_matrix2[i, j] > 80:\n",
    "        matches.append((i, j))\n"
   ]
  },
  {
   "cell_type": "code",
   "execution_count": null,
   "id": "1b0a376d-7b80-4991-8d54-9ea7580a773d",
   "metadata": {},
   "outputs": [],
   "source": []
  }
 ],
 "metadata": {
  "kernelspec": {
   "display_name": "Python 3.10 (myenv)",
   "language": "python",
   "name": "py310env"
  },
  "language_info": {
   "codemirror_mode": {
    "name": "ipython",
    "version": 3
   },
   "file_extension": ".py",
   "mimetype": "text/x-python",
   "name": "python",
   "nbconvert_exporter": "python",
   "pygments_lexer": "ipython3",
   "version": "3.10.14"
  }
 },
 "nbformat": 4,
 "nbformat_minor": 5
}
