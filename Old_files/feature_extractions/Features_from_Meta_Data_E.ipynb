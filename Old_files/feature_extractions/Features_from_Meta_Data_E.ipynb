{
 "cells": [
  {
   "cell_type": "markdown",
   "id": "dd399c06",
   "metadata": {},
   "source": [
    "Importing the data frame (I'm using the six categories with dropped asin)"
   ]
  },
  {
   "cell_type": "code",
   "execution_count": 51,
   "id": "2f52938e",
   "metadata": {},
   "outputs": [
    {
     "name": "stdout",
     "output_type": "stream",
     "text": [
      "(109011, 22)\n"
     ]
    },
    {
     "name": "stderr",
     "output_type": "stream",
     "text": [
      "/var/folders/zz/p68469x91nz101jr8rs456_80000gq/T/ipykernel_47954/2578250412.py:4: DtypeWarning: Columns (6) have mixed types. Specify dtype option on import or set low_memory=False.\n",
      "  df = pd.read_csv('../Data/amazon_top6_unique.csv')\n"
     ]
    }
   ],
   "source": [
    "import pandas as pd\n",
    "\n",
    "# Go up one level, then into Data/\n",
    "df = pd.read_csv('../Data/amazon_top6_unique.csv')\n",
    "\n",
    "# Check it's loaded\n",
    "print(df.shape)"
   ]
  },
  {
   "cell_type": "code",
   "execution_count": 52,
   "id": "76e187d2",
   "metadata": {},
   "outputs": [],
   "source": [
    "sample_df = df.sample(1000, random_state=42)"
   ]
  },
  {
   "cell_type": "code",
   "execution_count": 53,
   "id": "bd679565",
   "metadata": {},
   "outputs": [],
   "source": [
    "from transformers import pipeline\n",
    "from tqdm import tqdm"
   ]
  },
  {
   "cell_type": "code",
   "execution_count": 54,
   "id": "fdcda692",
   "metadata": {},
   "outputs": [
    {
     "name": "stdout",
     "output_type": "stream",
     "text": [
      "2.7.1\n"
     ]
    }
   ],
   "source": [
    "import torch\n",
    "print(torch.__version__)"
   ]
  },
  {
   "cell_type": "code",
   "execution_count": 55,
   "id": "cdb82475",
   "metadata": {},
   "outputs": [
    {
     "name": "stderr",
     "output_type": "stream",
     "text": [
      "Device set to use mps:0\n"
     ]
    }
   ],
   "source": [
    "classifier = pipeline(\"zero-shot-classification\", model=\"facebook/bart-large-mnli\")\n"
   ]
  },
  {
   "cell_type": "code",
   "execution_count": 56,
   "id": "ea6b3e33",
   "metadata": {},
   "outputs": [
    {
     "name": "stdout",
     "output_type": "stream",
     "text": [
      "{'sequence': 'FDA certified and ISO approved non-toxic product.', 'labels': ['safe to use', 'non-toxic', 'certified', 'hypoallergenic'], 'scores': [0.9976987838745117, 0.9969680905342102, 0.9933708310127258, 0.6317756175994873]}\n"
     ]
    }
   ],
   "source": [
    "text = \"FDA certified and ISO approved non-toxic product.\"\n",
    "labels = [\"certified\", \"non-toxic\", \"hypoallergenic\", \"safe to use\"]\n",
    "\n",
    "result = classifier(text, labels, multi_label=True)\n",
    "print(result)\n"
   ]
  },
  {
   "cell_type": "code",
   "execution_count": 57,
   "id": "9c34b0f1",
   "metadata": {},
   "outputs": [],
   "source": [
    "certification_labels = [\n",
    "    \"FDA approved\",\n",
    "    \"FDA certified\",\n",
    "    \"FDA registered\",\n",
    "    \"FDA compliant\",\n",
    "    \"ISO certified\",\n",
    "    \"CE marked\",\n",
    "    \"CE certified\",\n",
    "    \"GMP certified\",\n",
    "    \"UL certified\",\n",
    "    \"CPSIA compliant\",\n",
    "    \"ASTM F963 compliant\",\n",
    "    \"Childrens Product Certificate (CPC)\",\n",
    "    \"EN 71 compliant\",\n",
    "    \"REACH compliant\",\n",
    "    \"Declaration of Conformity (DoC)\",\n",
    "    \"FCC compliant\",\n",
    "    \"CCC Mark\",\n",
    "    \"ISO 8124 compliant\",\n",
    "    \"UKCA compliant\",\n",
    "    \"Canada Consumer Product Safety Act (CCPSA) compliant\",\n",
    "    \"ST Mark compliant\",\n",
    "    \"RoHS compliant\",\n",
    "    \"WEEE compliant\"\n",
    "]\n",
    "\n",
    "non_toxic_labels = [\n",
    "    \"third-party tested\",\n",
    "    \"lab tested\",\n",
    "    \"non-toxic\",\n",
    "    \"PVC free\",\n",
    "    \"BPA free\",\n",
    "    \"phthalate free\",\n",
    "    \"lead free\",\n",
    "    \"formaldehyde free\",\n",
    "    \"latex free\",\n",
    "]\n",
    "\n",
    "age_appropriate_labels = []\n",
    "\n"
   ]
  },
  {
   "cell_type": "code",
   "execution_count": 58,
   "id": "1ab32955",
   "metadata": {},
   "outputs": [],
   "source": [
    "def get_all_certifications_with_score(text, labels=certification_labels, threshold=0.97):\n",
    "    \"\"\"\n",
    "    Returns (labels_above_threshold, max_score) from zero-shot classification.\n",
    "    If no label passes threshold or text is empty, returns (None, max_score).\n",
    "    \"\"\"\n",
    "    if not text or not text.strip() or text.strip() == '[]':\n",
    "        return (None, 0.0)\n",
    "\n",
    "    result = classifier(text, labels, multi_label=True)\n",
    "    high_conf_labels = [\n",
    "        label for label, score in zip(result['labels'], result['scores']) if score > threshold\n",
    "    ]\n",
    "    max_score = max(result['scores']) if result['scores'] else 0.0\n",
    "\n",
    "    return (high_conf_labels if high_conf_labels else None, max_score)\n"
   ]
  },
  {
   "cell_type": "code",
   "execution_count": 59,
   "id": "cfa8c37d",
   "metadata": {},
   "outputs": [],
   "source": [
    "def get_cert_label_if_either_matches(row):\n",
    "    desc_labels, desc_score = get_all_certifications_with_score(row['description'])\n",
    "    feat_labels, feat_score = get_all_certifications_with_score(row['feature'])\n",
    "\n",
    "    # If either has labels above threshold, return combined labels and max score\n",
    "    if desc_labels or feat_labels:\n",
    "        combined_labels = []\n",
    "        if desc_labels:\n",
    "            combined_labels.extend(desc_labels)\n",
    "        if feat_labels:\n",
    "            combined_labels.extend(feat_labels)\n",
    "\n",
    "        # Remove duplicates while preserving order\n",
    "        combined_labels = list(dict.fromkeys(combined_labels))\n",
    "        return combined_labels, max(desc_score, feat_score)\n",
    "    else:\n",
    "        return None, max(desc_score, feat_score)\n"
   ]
  },
  {
   "cell_type": "code",
   "execution_count": 60,
   "id": "c31c9cfa",
   "metadata": {},
   "outputs": [
    {
     "name": "stdout",
     "output_type": "stream",
     "text": [
      "(['CE marked', 'FDA compliant'], 0.9782139658927917)\n",
      "(None, 0.7379173636436462)\n",
      "(None, 0.0)\n"
     ]
    }
   ],
   "source": [
    "text_1 = \"FDA and CE certified product.\"\n",
    "text_2 = \"Gentle soap for everyday use.\"\n",
    "text_3 = \"\"\n",
    "\n",
    "print(get_all_certifications_with_score(text_1))  # ✅ should return some labels\n",
    "print(get_all_certifications_with_score(text_2))  # ❌ should return None (scores < 0.95)\n",
    "print(get_all_certifications_with_score(text_3))  # ❌ should return None (empty)\n"
   ]
  },
  {
   "cell_type": "code",
   "execution_count": 61,
   "id": "ad93a7c7",
   "metadata": {},
   "outputs": [
    {
     "name": "stderr",
     "output_type": "stream",
     "text": [
      "100%|██████████| 1000/1000 [15:59<00:00,  1.04it/s]\n"
     ]
    }
   ],
   "source": [
    "\n",
    "from tqdm import tqdm\n",
    "tqdm.pandas()\n",
    "\n",
    "results = sample_df.progress_apply(get_cert_label_if_either_matches, axis=1)\n",
    "sample_df['certification_labels'], sample_df['max_cert_score'] = zip(*results)\n"
   ]
  },
  {
   "cell_type": "code",
   "execution_count": 62,
   "id": "cb8ba191",
   "metadata": {},
   "outputs": [
    {
     "name": "stdout",
     "output_type": "stream",
     "text": [
      "Number of rows with non-empty certifications: 41 / 1000\n",
      "Percentage: 4.10%\n"
     ]
    }
   ],
   "source": [
    "# Total number of rows\n",
    "total_rows = len(sample_df)\n",
    "\n",
    "# Number of rows with non-empty certifications\n",
    "non_empty_cert = sample_df['certification_labels'].apply(lambda x: bool(x)).sum()\n",
    "\n",
    "# Percentage\n",
    "percentage_cert = non_empty_cert / total_rows\n",
    "\n",
    "print(f\"Number of rows with non-empty certifications: {non_empty_cert} / {total_rows}\")\n",
    "print(f\"Percentage: {percentage_cert:.2%}\")\n"
   ]
  },
  {
   "cell_type": "markdown",
   "id": "d7a169a4",
   "metadata": {},
   "source": [
    "We now ad a \"non toxic\" label feature"
   ]
  },
  {
   "cell_type": "code",
   "execution_count": 63,
   "id": "ed0732d3",
   "metadata": {},
   "outputs": [],
   "source": [
    "def get_non_toxic_labels_with_score(text, labels=non_toxic_labels, threshold=0.97):\n",
    "    \"\"\"\n",
    "    Returns (labels_above_threshold, max_score) from zero-shot classification for non-toxic toy labels.\n",
    "    If no label passes threshold or text is empty, returns (None, max_score).\n",
    "    \"\"\"\n",
    "    if not text or not text.strip() or text.strip() == '[]':\n",
    "        return (None, 0.0)\n",
    "\n",
    "    result = classifier(text, labels, multi_label=True)\n",
    "    high_conf_labels = [\n",
    "        label for label, score in zip(result['labels'], result['scores']) if score > threshold\n",
    "    ]\n",
    "    max_score = max(result['scores']) if result['scores'] else 0.0\n",
    "\n",
    "    return (high_conf_labels if high_conf_labels else None, max_score)\n"
   ]
  },
  {
   "cell_type": "code",
   "execution_count": 64,
   "id": "2efb444c",
   "metadata": {},
   "outputs": [],
   "source": [
    "def get_non_toxic_label_if_either_matches(row):\n",
    "    desc_labels, desc_score = get_non_toxic_labels_with_score(row['description'])\n",
    "    feat_labels, feat_score = get_non_toxic_labels_with_score(row['feature'])\n",
    "\n",
    "    # If either has labels above threshold, return combined labels and max score\n",
    "    if desc_labels or feat_labels:\n",
    "        combined_labels = []\n",
    "        if desc_labels:\n",
    "            combined_labels.extend(desc_labels)\n",
    "        if feat_labels:\n",
    "            combined_labels.extend(feat_labels)\n",
    "\n",
    "        # Remove duplicates while preserving order\n",
    "        combined_labels = list(dict.fromkeys(combined_labels))\n",
    "        return combined_labels, max(desc_score, feat_score)\n",
    "    else:\n",
    "        return None, max(desc_score, feat_score)\n"
   ]
  },
  {
   "cell_type": "code",
   "execution_count": 65,
   "id": "f06c4d97",
   "metadata": {},
   "outputs": [
    {
     "name": "stderr",
     "output_type": "stream",
     "text": [
      "100%|██████████| 1000/1000 [06:25<00:00,  2.60it/s]\n"
     ]
    }
   ],
   "source": [
    "results_toxic = sample_df.progress_apply(get_non_toxic_label_if_either_matches, axis=1)\n",
    "sample_df['non_toxic_labels'], sample_df['max_non_toxic_score'] = zip(*results_toxic)"
   ]
  },
  {
   "cell_type": "code",
   "execution_count": 66,
   "id": "4ff7ac10",
   "metadata": {},
   "outputs": [
    {
     "name": "stdout",
     "output_type": "stream",
     "text": [
      "Number of rows with non-empty non toxic labels: 123 / 1000\n",
      "Percentage: 12.30%\n"
     ]
    }
   ],
   "source": [
    "# Total number of rows\n",
    "total_rows = len(sample_df)\n",
    "\n",
    "# Number of rows with non-empty labels\n",
    "non_empty_tox = sample_df['non_toxic_labels'].apply(lambda x: bool(x)).sum()\n",
    "\n",
    "# Percentage\n",
    "percentage_tox = non_empty_tox / total_rows\n",
    "\n",
    "print(f\"Number of rows with non-empty non toxic labels: {non_empty_tox} / {total_rows}\")\n",
    "print(f\"Percentage: {percentage_tox:.2%}\")\n"
   ]
  },
  {
   "cell_type": "markdown",
   "id": "865e507a",
   "metadata": {},
   "source": [
    "Lastly we create a feature that binary let's us know if there is an age recommendation present in either feature, description or title field."
   ]
  },
  {
   "cell_type": "code",
   "execution_count": 67,
   "id": "6e1e2afe",
   "metadata": {},
   "outputs": [],
   "source": [
    "import re\n",
    "\n",
    "def has_age_recommendation_from_fields(row):\n",
    "    text = ' '.join([\n",
    "        str(row.get('description', '')),\n",
    "        str(row.get('feature', '')),\n",
    "        str(row.get('title', ''))\n",
    "    ]).lower()\n",
    "\n",
    "    patterns = [\n",
    "    r'ages?\\s*\\d+\\+',\n",
    "    r'recommended\\s*ages?:?\\s*\\d+',\n",
    "    r'\\d+\\s*years?\\s*\\+',\n",
    "    r'from\\s*age\\s*\\d+',\n",
    "    r'for\\s*ages?\\s*\\d+\\+',\n",
    "    r'suitable\\s*for\\s*ages?\\s*\\d+',\n",
    "    r'ideal\\s*for\\s*ages?\\s*\\d+',\n",
    "    r'not\\s*suitable\\s*for\\s*children\\s*under\\s*\\d+',\n",
    "    r'for\\s*children\\s*over\\s*\\d+',\n",
    "    r'age\\s*range\\s*\\d+\\s*to\\s*\\d+',\n",
    "    r'\\d+\\s*months?\\s*\\+',\n",
    "    r'suitable\\s*for\\s*children\\s*aged\\s*\\d+\\s*(?:and up|\\+)',\n",
    "    r'great\\s*for\\s*ages?\\s*\\d+',\n",
    "    r'intended\\s*for\\s*children\\s*aged\\s*\\d+\\s*(?:and up|\\+)',\n",
    "    r'safe\\s*for\\s*children\\s*\\d+\\s*years?\\s*and\\s*older'\n",
    "]\n",
    "\n",
    "\n",
    "    for pattern in patterns:\n",
    "        if re.search(pattern, text):\n",
    "            return 1\n",
    "    return 0\n"
   ]
  },
  {
   "cell_type": "code",
   "execution_count": 70,
   "id": "b5c5d128",
   "metadata": {},
   "outputs": [
    {
     "name": "stdout",
     "output_type": "stream",
     "text": [
      "Number of rows with age recommendation: 71 / 1000\n"
     ]
    }
   ],
   "source": [
    "sample_df['has_age_label'] = sample_df.apply(has_age_recommendation_from_fields, axis=1)\n",
    "print(f\"Number of rows with age recommendation: {sample_df['has_age_label'].sum()} / {len(sample_df)}\")"
   ]
  },
  {
   "cell_type": "markdown",
   "id": "d7a5e288",
   "metadata": {},
   "source": [
    "Opening the output below in \"text editor\" let's you see a sample of 10 listings with at least one certification or non toxic label."
   ]
  },
  {
   "cell_type": "code",
   "execution_count": 69,
   "id": "43f3f025",
   "metadata": {},
   "outputs": [
    {
     "name": "stdout",
     "output_type": "stream",
     "text": [
      "                                                                                                                                                                                                                                                                                                                                                                                                                                                                                                                                                                                                                                                                                                                                                                                                                                                                                                                                                                                                                                         feature  \\\n",
      "87715                                                                                                                                                                                                                                                                                                                                                                                                                                                                                                                         ['Size:22inch(55cm) Weight:about 1.2-1.4KG(2.6-3.0LB).The doll will come with a magnetic pacifier to fit the mouth.', 'Head,arms and legs:Soft silicone,Body:Cloth filled with cotton,very soft. meet safety requirements of ASTM F963 age 3 +.', 'Eyes:High Quality Acrylic,can not blink.Mouth:Magnetic.', 'Hair:High Quality Mohair,Manual implantation,can wash and dress up.', 'Cloth:Handmade.According to the doll size. fits into newborn size(S 0-3m) baby clothes.The doll will come with the clothes.']   \n",
      "46269                                                                                                                                                                                                                                                                                                                                                                                                                                                                                                                                                                                                                                                       ['Fabric, Plastic', 'Based on the #1 New York Times Bestselling Twilight Book Series by Stephenie Meyer', 'Inspired by characters from final installment in the Twilight saga, Breaking Dawn', 'Esme makes her debut dressed in a black pencil skirt and purple top with ruffle accents', 'Recreate your favorite romance', 'Perfect for Barbie collectors and Twilight fans alike']   \n",
      "105367                                                                                                                                                                                                                                                                                                                                                                                                                                                                                                                                                                                                                                                                                                                                                                                                                                                                 ['100% brand new and high quality', 'Total line length: Appox. 100m', 'Red winder diameter: Appox. 9.4cm', 'Black handle length: Appox. 16cm', 'Color: As pictures show']   \n",
      "30458                                                                                                                                                                                                                                                                                                                                                                                                                                                                                                                                                                                                                                                                                                                                             ['Plastic', 'Imported', 'Tech Too Bilingual Calculator New', 'Ages 3 years and up', 'Bilingual English, Spanish', 'Requires 2 AAA batteries, batteries included', '4 games about: numbers, colors, basic calculations, quantities, counting', 'Real talking calculator with adjustable sound']   \n",
      "20797                                                                                                                                                                                                                                                                                                                                                                                                                                                                                                   ['6.5\" x 2\" Diameter', 'Handcrafted in Austria, each Mader top is made from woods native to Europe in limited quantities.', 'Each Mader top is beautifully balanced and includes their trademark burn line along its equator.', 'Mader tops are a clever conversation piece: display a collection of these little works-of-art atop a mirror on your coffee table or display a few on top of your desk and use them as stress relievers throughout the day.', 'Mader tops make unique and special gifts for children and adults alike.']   \n",
      "1478                                                                                                                                                                                                                                                                                                                                                                                                                                                                                                                                                                                                                                                                  ['Comes with bathtub separate shower stall toilet and sink with mirror', 'Made of natural hardwood for a classic look, fits most wooden dollhouses', 'Spiel Gut award Germany, The Good Toy award, UK Silver award, UK Petit Filous Right Start Magazine award and The Blue Chip Classic Toy award USA', 'This toy is made from all natural organic recycled rubber wood']   \n",
      "39739                                                                                                                                                                                                                                                                                                                                                                                                                                                                                                                                                                                                                                                                                                                                                                                                                                                                                          ['Includes: 6 bath crayons, sponge and BONUS bubbly tub colors.', 'Moms: Crayons are safe for kids and easy to clean up!', 'Nontoxic', 'Ages 3+']   \n",
      "11636                                                                                                                                                                                                                                                                                                                                                                                                                                                                                                                                                                                                                                                                                                                                                                                                                                                                                                [\"Accredited with BS-EN71 which sets the standards for children's products\", 'Metal bucket with bright colored enameled finish and handle']   \n",
      "108401  ['MATERIAL: Soft waterproof polyester fabrics and high-strength memory steel holder,also non-toxic, non-irritating odor,without any harmful for children. Easy to wipe cleans, durable.', 'SIZE: Unfold size: 47.2 * 23.6 * 29.5 inches; Folded sizediameter about 11 inches (28cm);weight: 400g - huge enough to hold more than 300 pit balls.', 'ADVANTAGE: Big capacity ball pit, can hold up to 300 ocean balls; A large quantity of balls can work as a cushion to protect your children from getting hurt;Full of fun for children or pets, a great space for your children to crawl, walk, jump and play, improves their independence and coordination.', 'DESIGN: Colorful and cute dolphin hexagon design ,playpen with basketball hoop and three airy mesh sides,kids can have they own fun;and also have their own indoor basketball field for shooting practice even when it rains outside', 'NOTE: folded product, please be careful when opening; Play balls are not included in the package; Adult supervision required']   \n",
      "9663                                                                                                                                                                                                                                                                                                                                                                                                                                                        ['Rody Jumping Horse: Color is Black. Original Rody by Ledraplastic, made and imported from Italy!', 'This jumping horse is a favorite of children, helping them learn balance and coordination while having a great bouncing time.', 'Made of super strong, latex-free vinyl. complies with all U.S. and Internationanal Safety Standards. Latex Free & no banned phthalates chemicals!', 'The Rody Jumping Horse inflates to a saddle height of up to 12\" with a regular hand or foot pump (not included), according to size and weight of child.', 'Recommended Ages: 2 Years +']   \n",
      "\n",
      "                                                                                                                                                                                                                                                                                                                                                                                                                                                                                                                                                                                                                                                                                                                                                                                                                                                                                                                                                                                                                                                                                                                                                                                                                                          description  \\\n",
      "87715                                                                                                                                                                                                                                                                                                                                                                                                                                                                                                                                                                                                                                                                                                                                                                                                        ['Size:22inch(55cm) Weight:about 1.2-1.4KG(2.6-3.0LB) <br> The doll will come with a magnetic pacifier to fit the mouth. <br> Head,arms and legs:Soft silicone,Body:Cloth filled with cotton,very soft. <br> Eyes:High Quality Acrylic,can not blink.Mouth:Magnetic. <br> Hair:High Quality Mohair,Manual implantation,can wash and dress up. <br> Cloth:Handmade.According to the doll size.The doll will come with the clothes. <br>']   \n",
      "46269   ['', '<strong>Barbie Collector The Twilight Saga: Breaking Dawn Part II Esme Doll</strong>', \"Part of the Barbie Pink Label Collection. Stephenie Meyer's story concludes with Breaking Dawn, the fourth and final installment in the Twilight saga. The Twilight Saga concludes with Breaking Dawn Part 2 late this year. This assortment completes its own series with the final three members of the Cullen vampire coven. Esme makes her debut dressed in a black pencil skirt and purple top with ruffle accents. Dark lipstick and flowing hair complete her enchanting look. A must have Barbie Collector doll.\", 'Product Features', \"Barbie Collector The Twilight Saga: Breaking Dawn Part II Esme Doll: Part of the Barbie Pink Label Collection. Stephenie Meyer's story concludes with Breaking Dawn, the fourth and final installment in the Twilight saga. The Twilight Saga concludes with Breaking Dawn Part 2 late this year. This assortment completes its own series with the final three members of the Cullen vampire coven. Esme makes her debut dressed in a black pencil skirt and purple top with ruffle accents. Dark lipstick and flowing hair complete her enchanting look. A must have Barbie Collector doll.\"]   \n",
      "105367                                                                                                                                                                                                                                                                                                                                                                                                                                                                                                                                                                                                                                                                                                                                                                                                                            ['', '<BR/><b>Description:</b>', '<BR/>100% brand new and high quality<br /><BR/>Total line length: Appox. 100m<br /><BR/>Red winder diameter: Appox. 9.4cm<br /><BR/>Black handle length: Appox. 16cm<br /><BR/>Color: As pictures show<br /><BR/>Good for single or dual line use<br /><BR/>', '<BR/><b>Package Includes:</b>', '<BR/>1 x Fire Wheel Kite Winder<br /><BR/>1 x 100M Flying Kite Line<br /><BR/>']   \n",
      "30458                                                                                                                                                                                                                                                                                                                                                                                                                                                                                                                                                                                                                                                                                                                                                                                                                                                                                                                                                                                                                                                                          ['A great 2 in 1 talking calculator for little ones. A real calculator with educational content. 4 game modes, calculator, discovery, simple quiz and advanced quiz.']   \n",
      "20797                                                                                                                                                                                                                                                                                                                                                                                                                                                                                                                                                                                     ['This Pull-String spinning top is a crowd pleaser.  The string winds around the stem and is pulled off as fast as you can.  The record running time is currently 4 _ minutes  can you beat it?  Each top comes complete with a wearless, plaited string for years of spinning.The unique coloring of the top base is achieved by color pouring which allows the grain of the wood to absorb the color.  The top is tripartite, extra long clinch gudgeon glued, providing an inseparable bond of each component, varnished, oil finished and complies with European safety standards.  You will find the companys trademark burn line along its equator.']   \n",
      "1478                                                                                                                                                                                                                                                                                                                                                                                                                                                                                                                                                                     ['901401 Features: -Set includes shower, toilet, bathtub and washbasin with a mirror. -Material: Rubberwood. -For ages 3 years and up. -Environmentally safe materials. Product Type: -Dollhouse furniture. Color: -Natural. Primary Material: -Wood. Age Group: -3 to 4 Years. Scale: -Play scale. Gender: -Unisex. Dimensions: Overall Product Weight: -0.95 Pounds.', 'Plan Toy Doll House Bathroom - Classic Style is a set of furniture children can enjoy decorating their dollhouse with while developing their imagination and creating more interest time. Set contains a bathtub, sink, toilet and shower. It is great fun for little hands, winner of 5 awards.']   \n",
      "39739                                                                                                                                                                                                                                                                                                                                                                                                                                                                                                                                                                                                                                                                                                                                                                                                                                                                                                                                                                                                                                                      ['34466 Features: -Body art.-Fits snug inside Mr. Bubble character sponge for clean up and storage. Includes: -Includes 6 crayon colors.-Bonus 9ct of bubbly tub color tablets included.']   \n",
      "11636                                                                                                                                                                                                                                                                                                                                                                                                                                                                                                                                                                                                                                                                                                                                                                                                                                                                                                                                    [\"The Little Garden Angels Children's Metal Gardening Bucket (Red #CBK022) is a product of ThreeSixty Innovation designed to introduce children to gardening in the great outdoors. It provides that children may enjoy the fun and excitement of growing their own plants. Suitable for children 3 yrs +.\"]   \n",
      "108401                                                                                                                                                                                                                                                                                                                                                                                                                                                                             [\"<b>Jiexing hexagon playpen ball pit pool is designed for holding pit balls to improve baby's ability of recognizing colors and physical coordination. </b><br><br> <b>JProduct Specifications :</b><br>  Material: Soft Waterproof polyester fabrics and high-strength memory steel holder.<br>  Shapehexagon<br>  Unfold size: 47.2 * 23.6 * 15.7 inches<br>  Folded package size: 7.8 inches in diameter<br>  Weight:1.1lb<br>  Recommended age: 6 months and up<br> <br> <b>Package List :</b><br>  1 x Ball pit<br>  1 x zippered storage bag (BALLS NOT INCLUDED)<br> <br> <b>How to use :</b><br>  Open the packaging and carefully to expand it. Note that the product will quickly bounce open.<br>  pay attention to product folding method.<br> <br>\"]   \n",
      "9663                                                                                                                                                                                                                                                                                                                                                                                                                                                                                                               ['Rody Jumping Horse: Color is Black. Original Rody by Ledraplastic, made and imported from Italy!\\nThis jumping horse is a favorite of children, helping them learn balance and coordination while having a great bouncing time. Made of super strong, latex-free vinyl. complies with all U.S. and Internationanal Safety Standards. Latex Free & no banned phthalates chemicals! The Rody Jumping Horse inflates to a saddle height of up to 12\" with a regular hand or foot pump (not included), according to size and weight of child.\\nThe Rody Jumping Horse inflates to a saddle height of up to 12\" with a regular hand or foot pump (not included), according to size and weight of child. Recommended Ages: 2 Years +']   \n",
      "\n",
      "         certification_labels                                     non_toxic_labels  has_age_label  \n",
      "87715   [ASTM F963 compliant]                                                 None              0  \n",
      "46269                    None                                          [non-toxic]              0  \n",
      "105367                   None                                         [lab tested]              0  \n",
      "30458                    None                                          [non-toxic]              0  \n",
      "20797             [CE marked]                                                 None              0  \n",
      "1478                     None                      [non-toxic, third-party tested]              0  \n",
      "39739                    None                                          [non-toxic]              1  \n",
      "11636       [EN 71 compliant]                                         [lab tested]              0  \n",
      "108401                   None                                          [non-toxic]              1  \n",
      "9663                     None  [phthalate free, latex free, non-toxic, lab tested]              1  \n"
     ]
    }
   ],
   "source": [
    "import pandas as pd\n",
    "\n",
    "pd.set_option('display.max_colwidth', None)\n",
    "pd.set_option('display.max_columns', None)\n",
    "pd.set_option('display.max_rows', 100)\n",
    "pd.set_option('display.width', 1000)\n",
    " \n",
    "filtered = sample_df[\n",
    "    sample_df['certification_labels'].apply(lambda x: bool(x)) |\n",
    "    sample_df['non_toxic_labels'].apply(lambda x: bool(x))\n",
    "]\n",
    "\n",
    "print(filtered[['feature', 'description', 'certification_labels', 'non_toxic_labels','has_age_label']].head(10))\n"
   ]
  }
 ],
 "metadata": {
  "kernelspec": {
   "display_name": "erdos_summer_2025",
   "language": "python",
   "name": "python3"
  },
  "language_info": {
   "codemirror_mode": {
    "name": "ipython",
    "version": 3
   },
   "file_extension": ".py",
   "mimetype": "text/x-python",
   "name": "python",
   "nbconvert_exporter": "python",
   "pygments_lexer": "ipython3",
   "version": "3.12.10"
  }
 },
 "nbformat": 4,
 "nbformat_minor": 5
}
