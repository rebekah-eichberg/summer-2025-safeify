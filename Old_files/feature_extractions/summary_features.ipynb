{
 "cells": [
  {
   "cell_type": "code",
   "execution_count": null,
   "id": "b32faeb9",
   "metadata": {},
   "outputs": [],
   "source": [
    "import nltk\n",
    "nltk.download('punkt')       \n",
    "nltk.download('stopwords') \n",
    "nltk.download('punkt_tab')  \n",
    "nltk.download('wordnet')\n",
    "nltk.download('averaged_perceptron_tagger')\n",
    "nltk.download('averaged_perceptron_tagger_eng')\n",
    "from nltk.sentiment.vader import SentimentIntensityAnalyzer\n",
    "import nltk\n",
    "nltk.download('vader_lexicon')\n",
    "import numpy as np\n",
    "import pandas as pd\n",
    "from sentence_transformers import SentenceTransformer\n",
    "from sklearn.metrics.pairwise import cosine_similarity\n",
    "from transformers import pipeline\n",
    "from nltk.corpus import stopwords, wordnet\n",
    "from nltk.tokenize import word_tokenize\n",
    "from nltk.stem import WordNetLemmatizer\n",
    "from nltk import pos_tag\n",
    "from collections import Counter\n",
    "import torch\n",
    "from transformers import AutoTokenizer, AutoModelForSequenceClassification\n",
    "from torch.nn.functional import softmax\n",
    "from tqdm import tqdm"
   ]
  },
  {
   "cell_type": "code",
   "execution_count": null,
   "id": "1ac8b443",
   "metadata": {},
   "outputs": [],
   "source": [
    "def load_clean_csv(path):\n",
    "    with open(path, 'r', encoding='utf-8') as f:\n",
    "        lines = f.readlines()\n",
    "\n",
    "    # Find the first line that contains all expected headers (starts with 'Report No.')\n",
    "    header_index = next(i for i, line in enumerate(lines) if 'Report No.' in line)\n",
    "\n",
    "    # Load CSV from that line forward\n",
    "    return pd.read_csv(path, skiprows=header_index)"
   ]
  },
  {
   "cell_type": "code",
   "execution_count": null,
   "id": "c544dc93",
   "metadata": {},
   "outputs": [],
   "source": [
    "# Load in Recall data\n",
    "\n",
    "# Paths to all three files\n",
    "recall_files = [\n",
    "    \"../Data/Current Version of Toys Incidence+Recall/Toysandchildren_ArtsandCrafts.csv\",\n",
    "    \"../Data/Current Version of Toys Incidence+Recall/Toysandchildren_Riding_Toys.csv\",\n",
    "    \"../Data/Current Version of Toys Incidence+Recall/Toysandchildren_Toys.csv\"\n",
    "]\n",
    "\n",
    "recall_dfs = [load_clean_csv(path) for path in recall_files]\n",
    "recalls_df = pd.concat(recall_dfs, ignore_index=True)\n"
   ]
  },
  {
   "cell_type": "code",
   "execution_count": null,
   "id": "1ac085a6",
   "metadata": {},
   "outputs": [],
   "source": [
    "# Load in reviews data\n",
    "reviews_df = pd.read_pickle('../rebekah-idea-testing/reviews_raw.pkl')\n"
   ]
  },
  {
   "cell_type": "markdown",
   "id": "68ec3261",
   "metadata": {},
   "source": [
    "Sample the Reviews Data \n",
    "- do not have enough computing power"
   ]
  },
  {
   "cell_type": "code",
   "execution_count": null,
   "id": "9e32b1e0",
   "metadata": {},
   "outputs": [],
   "source": [
    "reviews_sample_df = reviews_df.sample(5000)"
   ]
  },
  {
   "cell_type": "code",
   "execution_count": null,
   "id": "b21f7587",
   "metadata": {},
   "outputs": [],
   "source": [
    "# drop na in reviewtext, asin and summary column\n",
    "reviews_sample_df = reviews_sample_df[['asin', 'reviewText', 'summary' ,'overall']].copy()\n",
    "reviews_sample_df = reviews_sample_df.dropna(subset=['asin','reviewText', 'summary'])"
   ]
  },
  {
   "cell_type": "code",
   "execution_count": null,
   "id": "84315d7f",
   "metadata": {},
   "outputs": [],
   "source": [
    "# strip possible leading or trailing white space\n",
    "reviews_model_df = reviews_sample_df[reviews_sample_df['summary'].str.strip() != '']"
   ]
  },
  {
   "cell_type": "markdown",
   "id": "2459d6c6",
   "metadata": {},
   "source": [
    "Embed the Summaries Row by Row"
   ]
  },
  {
   "cell_type": "code",
   "execution_count": null,
   "id": "dd7534e7",
   "metadata": {},
   "outputs": [],
   "source": [
    "# initialize various packages to create embeddings on summary text\n",
    "model = SentenceTransformer('all-MiniLM-L6-v2')\n",
    "stop_words = set(stopwords.words('english'))\n",
    "lemmatizer = WordNetLemmatizer()"
   ]
  },
  {
   "cell_type": "code",
   "execution_count": null,
   "id": "e8690641",
   "metadata": {},
   "outputs": [],
   "source": [
    "# embed the summary with sentence transformers\n",
    "summary_embeddings = model.encode(\n",
    "    reviews_model_df['summary'].tolist(),\n",
    "    batch_size=32,              \n",
    "    show_progress_bar=True,\n",
    "    convert_to_numpy=True        \n",
    ")\n",
    "\n",
    "reviews_model_df['summary_embeddings'] = list(summary_embeddings)"
   ]
  },
  {
   "cell_type": "markdown",
   "id": "a0ed1ab1",
   "metadata": {},
   "source": [
    "Compute Sentiment of Summary "
   ]
  },
  {
   "cell_type": "code",
   "execution_count": null,
   "id": "c6985793",
   "metadata": {},
   "outputs": [],
   "source": [
    "# Load sentiment model\n",
    "model_name = 'cardiffnlp/twitter-roberta-base-sentiment'\n",
    "tokenizer = AutoTokenizer.from_pretrained(model_name)\n",
    "model_sent = AutoModelForSequenceClassification.from_pretrained(model_name)"
   ]
  },
  {
   "cell_type": "code",
   "execution_count": null,
   "id": "4863cc54",
   "metadata": {},
   "outputs": [],
   "source": [
    "def batched_sentiment_weights(texts, batch_size=64):\n",
    "    sentiment_scores = []\n",
    "\n",
    "    for i in tqdm(range(0, len(texts), batch_size)):\n",
    "        batch_texts = texts[i:i+batch_size]\n",
    "        inputs = tokenizer(batch_texts, return_tensors='pt', truncation=True, padding=True)\n",
    "        with torch.no_grad():\n",
    "            logits = model_sent(**inputs).logits\n",
    "        probs = softmax(logits, dim=1).cpu().numpy() \n",
    "        sentiment_scores.extend(probs[:, 0])  \n",
    "\n",
    "    return sentiment_scores\n"
   ]
  },
  {
   "cell_type": "code",
   "execution_count": null,
   "id": "04cf1ddc",
   "metadata": {},
   "outputs": [],
   "source": [
    "reviews_model_df['sentiment_weight'] = batched_sentiment_weights(reviews_model_df['summary'].tolist())\n"
   ]
  },
  {
   "cell_type": "markdown",
   "id": "66b57abe",
   "metadata": {},
   "source": [
    "Aggregate the Summary Embeddings"
   ]
  },
  {
   "cell_type": "code",
   "execution_count": null,
   "id": "3364bef4",
   "metadata": {},
   "outputs": [],
   "source": [
    "def weighted_avg_embedding(group):\n",
    "    weights = np.array(group['sentiment_weight'].tolist())\n",
    "    embeddings = np.stack(group['summary_embeddings'].tolist())\n",
    "    if weights.sum() == 0:\n",
    "        weights = np.ones_like(weights)\n",
    "    return np.average(embeddings, axis=0, weights=weights)"
   ]
  },
  {
   "cell_type": "code",
   "execution_count": null,
   "id": "5553da51",
   "metadata": {},
   "outputs": [],
   "source": [
    "agg_summary_embeddings = reviews_model_df.groupby('asin', group_keys=False).apply(\n",
    "    weighted_avg_embedding, include_groups=False).reset_index()\n"
   ]
  },
  {
   "cell_type": "code",
   "execution_count": null,
   "id": "cc47cdc0",
   "metadata": {},
   "outputs": [],
   "source": [
    "agg_summary_embeddings"
   ]
  },
  {
   "cell_type": "markdown",
   "id": "8df7cb38",
   "metadata": {},
   "source": [
    "Make 384 Columns for The Summary Embedding"
   ]
  },
  {
   "cell_type": "code",
   "execution_count": null,
   "id": "f9a26bcd",
   "metadata": {},
   "outputs": [],
   "source": [
    "expanded_df = pd.DataFrame(agg_summary_embeddings[0].tolist(), index=agg_summary_embeddings.index)"
   ]
  },
  {
   "cell_type": "code",
   "execution_count": null,
   "id": "cd6585bb",
   "metadata": {},
   "outputs": [],
   "source": [
    "expanded_df.columns = [f'embed_{i}' for i in range(384)]\n"
   ]
  },
  {
   "cell_type": "code",
   "execution_count": null,
   "id": "bc19d7bf",
   "metadata": {},
   "outputs": [],
   "source": [
    "final_df = pd.concat([agg_summary_embeddings['asin'], expanded_df], axis=1)"
   ]
  },
  {
   "cell_type": "code",
   "execution_count": null,
   "id": "9cac2bc3",
   "metadata": {},
   "outputs": [],
   "source": [
    "final_df"
   ]
  },
  {
   "cell_type": "code",
   "execution_count": null,
   "id": "4454c5ce",
   "metadata": {},
   "outputs": [],
   "source": []
  }
 ],
 "metadata": {
  "kernelspec": {
   "display_name": "erdos_summer_2025",
   "language": "python",
   "name": "python3"
  },
  "language_info": {
   "codemirror_mode": {
    "name": "ipython",
    "version": 3
   },
   "file_extension": ".py",
   "mimetype": "text/x-python",
   "name": "python",
   "nbconvert_exporter": "python",
   "pygments_lexer": "ipython3",
   "version": "3.12.10"
  }
 },
 "nbformat": 4,
 "nbformat_minor": 5
}
