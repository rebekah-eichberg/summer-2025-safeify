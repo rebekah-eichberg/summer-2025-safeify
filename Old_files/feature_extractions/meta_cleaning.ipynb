{
 "cells": [
  {
   "cell_type": "markdown",
   "id": "37de8394",
   "metadata": {},
   "source": [
    "# Cleaning Amazon Product Metadata\n",
    "\n",
    "This notebook processes and cleans the Amazon product metadata dataset for downstream analysis and modeling.  \n",
    "The main focus is on imputing missing values in the product ranking columns and cleaning other key features.\n",
    "\n",
    "**Workflow:**\n",
    "1. **Data Import:**  \n",
    "   - Loads raw metadata and selects relevant columns.\n",
    "\n",
    "2. **Rank Extraction and Cleaning:**  \n",
    "   - Parses the `rank` column into structured dictionaries.\n",
    "   - Focuses on extracting and imputing the 'Toys & Games' rank for each product.\n",
    "\n",
    "3. **Imputation of Missing Ranks:**  \n",
    "   - Uses K-Nearest Neighbors regression to predict missing 'Toys & Games' ranks based on overlap with other categories.\n",
    "   - For remaining missing values, imputes using the geometric mean of ranks from similar products (`also_buy` and `also_view`).\n",
    "\n",
    "4. **Category Cleaning:**  \n",
    "   - Extracts and imputes missing top-level categories using information from similar products.\n",
    "\n",
    "5. **Other Feature Cleaning:**  \n",
    "   - Cleans the `price` column and creates a `missing_price` indicator.\n",
    "   - Drops unnecessary columns and duplicate rows.\n",
    "\n",
    "6. **Export:**  \n",
    "   - Saves the cleaned metadata to a Parquet file for further use.\n",
    "\n",
    "**Outputs:**  \n",
    "- A cleaned metadata DataFrame with imputed ranks and categories, ready for modeling.\n",
    "\n"
   ]
  },
  {
   "cell_type": "code",
   "execution_count": 1,
   "id": "3005ed80",
   "metadata": {},
   "outputs": [],
   "source": [
    "import numpy as np\n",
    "import pandas as pd\n",
    "import matplotlib.pyplot as plt\n",
    "from sklearn.neighbors import KNeighborsRegressor\n",
    "from tqdm import tqdm\n",
    "tqdm.pandas()"
   ]
  },
  {
   "cell_type": "code",
   "execution_count": 2,
   "id": "fc73125d",
   "metadata": {},
   "outputs": [],
   "source": [
    "# Import the metadata. We'll only import the columns we need.\n",
    "\n",
    "meta_df=pd.read_pickle(\"../Data/metadata_raw.pkl\")"
   ]
  },
  {
   "cell_type": "code",
   "execution_count": 3,
   "id": "ca3b3e69",
   "metadata": {},
   "outputs": [
    {
     "data": {
      "application/vnd.microsoft.datawrangler.viewer.v0+json": {
       "columns": [
        {
         "name": "index",
         "rawType": "int64",
         "type": "integer"
        },
        {
         "name": "category",
         "rawType": "object",
         "type": "unknown"
        },
        {
         "name": "tech1",
         "rawType": "object",
         "type": "string"
        },
        {
         "name": "description",
         "rawType": "object",
         "type": "unknown"
        },
        {
         "name": "fit",
         "rawType": "object",
         "type": "string"
        },
        {
         "name": "title",
         "rawType": "object",
         "type": "string"
        },
        {
         "name": "also_buy",
         "rawType": "object",
         "type": "unknown"
        },
        {
         "name": "tech2",
         "rawType": "object",
         "type": "string"
        },
        {
         "name": "brand",
         "rawType": "object",
         "type": "string"
        },
        {
         "name": "feature",
         "rawType": "object",
         "type": "unknown"
        },
        {
         "name": "rank",
         "rawType": "object",
         "type": "unknown"
        },
        {
         "name": "also_view",
         "rawType": "object",
         "type": "unknown"
        },
        {
         "name": "main_cat",
         "rawType": "object",
         "type": "string"
        },
        {
         "name": "similar_item",
         "rawType": "object",
         "type": "string"
        },
        {
         "name": "date",
         "rawType": "object",
         "type": "string"
        },
        {
         "name": "price",
         "rawType": "object",
         "type": "string"
        },
        {
         "name": "asin",
         "rawType": "object",
         "type": "string"
        },
        {
         "name": "imageURL",
         "rawType": "object",
         "type": "unknown"
        },
        {
         "name": "imageURLHighRes",
         "rawType": "object",
         "type": "unknown"
        },
        {
         "name": "details",
         "rawType": "object",
         "type": "unknown"
        }
       ],
       "ref": "f39ef326-4933-4a93-a7be-25d9ff4daa84",
       "rows": [
        [
         "0",
         "['Toys & Games', 'Puzzles', 'Jigsaw Puzzles']",
         "",
         "[\"Three Dr. Suess' Puzzles: Green Eggs and Ham, Favorite Friends, and One Fish Two Fish Red Fish Blue Fish\"]",
         "",
         "Dr. Suess 19163 Dr. Seuss Puzzle 3 Pack Bundle",
         "[]",
         "",
         "Dr. Seuss",
         "['Three giant floor puzzles', 'Includes: Dr. Suess Green Eggs and Ham, Favorite Friends, and One Fish Two Fish Blue Fish', 'Each puzzle has 48 pieces', 'Ages 3 and up']",
         "['>#2,230,717 in Toys & Games (See Top 100 in Toys & Games)', '>#57,419 in Toys & Games > Puzzles > Jigsaw Puzzles']",
         "[]",
         "Toys & Games",
         "",
         "",
         "",
         "0000191639",
         "['https://images-na.ssl-images-amazon.com/images/I/51rn8TxbcoL._SS40_.jpg', 'https://images-na.ssl-images-amazon.com/images/I/51j1Fep1niL._SS40_.jpg']",
         "['https://images-na.ssl-images-amazon.com/images/I/51rn8TxbcoL.jpg', 'https://images-na.ssl-images-amazon.com/images/I/51j1Fep1niL.jpg']",
         null
        ],
        [
         "1",
         "[]",
         "",
         "['<b>Prepare to be Afraid!</b><br /><br />The Book of Beasts: Legendary Foes, the latest in the award-winning Book of Beast series, details the deadliest and most frightening monsters ever to grace your gaming table. Bring new life and peril to your mythic adventures with these fierce monsters and high level NPCs. Challenge your players at a whole new level with demigods and traps for the highest levels of gameplay from this 68-page, full-color monster tome.']",
         "",
         "Pathfinder: Book of Beasts - Legendary Foes",
         "[]",
         "",
         "Pathfinder Roleplaying Jon Brazer Productions",
         "[]",
         "['>#2,294,535 in Toys & Games (See Top 100 in Toys & Games)']",
         "[]",
         "Toys & Games",
         "",
         "",
         ".a-box-inner{background-color:#fff}#alohaBuyBoxWidget .selected{background-color:#fffbf3;border-color:#e77600;box-shadow:0 0 3px rgba(228,121,17,.5)}#alohaBuyBoxWidget .contract-not-available{color:gray}#aloha-cart-popover .aloha-cart{height:auto;overflow:hidden}#aloha-cart-popover #aloha-cartInfo{float:left}#aloha-cart-popover #aloha-cart-details{float:right;margin-top:1em}#aloha-cart-popover .deviceContainer{width:160px;float:left;padding-right:10px;border-right:1px solid #ddd}#aloha-cart-popover li:last-child{border-right:0}#aloha-cart-popover .aloha-device-title{height:3em;overflow:hidden}#aloha-cart-popover .aloha-thumbnail-container{height:100px;margin-bottom:1em;text-align:center}#aloha-cart-popover .aloha-price-container{text-align:center}#aloha-cart-popover .aloha-thumbnail-container img{height:inherit}#aloha-cart-popover .aloha-cart{border-top:1px solid #ddd;border-bottom:1px solid #ddd}#aloha-cart-popover #aloha-cart-info{margin-right:0}#alohaBuyBoxWidget .without-contract-subheading{margin-right:0}#aloha-bb-help-nodes .aloha-bb-contract-term-heading{color:gray;font-family:arial;margin-top:.5em;text-align:center;height:.7em;border-bottom:1px solid gray;margin-bottom:1.6em}#aloha-bb-help-nodes .aloha-bb-contract-term-heading span{background-color:#fff;padding:0 10px 0 10px}#alohaAvailabilityUS_feature_div .availability a{text-decoration:none}#alohaPricingWidget a{text-decoration:none}#alohaAvailabilityUS_feature_div .availability{margin-top:-4px;margin-bottom:0}#alohaBuyBoxWidget .select-transaction-alert .a-icon-alert{top:18px;left:3px}#alohaBuyBoxWidget .select-transaction-alert .a-alert-container{padding-left:39px;width:290px}#alohaBuyBoxUS_feature_div #alohaBuyBoxWidget .contract-container .contract-term-heading a{text-decoration:none}#alohaBuyBoxUS_feature_div #alohaBuyBoxWidget .annual-contract-box .a-icon-popover{display:none}#alohaBuyBoxUS_feature_div #alohaBuyBoxWidget .contract-container .annual-contract-box{cursor:pointer;cursor:hand}#alohaBuyBoxUS_feature_div #alohaBuyBoxWidget .aloha-buybox-price{font-size:15px}#alohaBuyBoxUS_feature_div #alohaBuyBoxWidget #linkOffSection a{text-decoration:none}#alohaBuyBoxUS_feature_div .lockedUsedBuyboxContainer{padding-left:3.5%}#alohaBuyBoxUS_feature_div .alohaBuyboxUtilsNoWrap{white-space:nowrap}.hidden{display:none}.simo-no-padding{padding:0}.carrier-reviews-cell{padding-left:10px}.carrier-reviews-bordered-cell{border:1px dotted #ccc}.carrier-reviews-selected-cell{background-color:#ffd}#aloha-carrier-compatibility-modal-table-description{margin-top:10px;margin-bottom:14px}.aloha-carrier-compatibility-sortable-header.carrier{min-width:97px}.aloha-carrier-compatibility-sortable-header.compatibility{min-width:156px}.aloha-carrier-compatibility-sortable-header div{float:left}.aloha-carrier-compatibility-sortable-header i.a-icon{margin-left:10px;margin-top:4px}#aloha-carrier-compatibility-overview-table.a-bordered.a-vertical-stripes td:nth-child(2n),#aloha-carrier-compatibility-overview-table.a-bordered.a-vertical-stripes th:nth-child(2n){background-color:initial}#aloha-carrier-compatibility-modal-table.a-bordered.a-vertical-stripes td:nth-child(2n),#aloha-carrier-compatibility-modal-table.a-bordered.a-vertical-stripes th:nth-child(2n){background-color:initial}#aloha-carrier-compatibility-table.a-bordered.a-vertical-stripes th:nth-child(2n),.aloha-carrier-compatibility-table.a-bordered.a-vertical-stripes td:nth-child(2n){background-color:transparent}.aloha-carrier-compatibility-column-gray{background-color:#f6f6f6}.aloha-carrier-compatibility-modal-table-row .aloha-carrier-compatibility-tech-text,.aloha-carrier-compatibility-modal-table-row .carrier-name,.aloha-carrier-compatibility-modal-table-row .carrier-rating-summary{min-height:27px;display:inline-block;cursor:default}.aloha-carrier-compatibility-modal-table-row .aloha-carrier-compatibility-tech-text:first-line,.aloha-carrier-compatibility-modal-table-row .carrier-name:first-line,.aloha-carrier-compatibility-modal-table-row .carrier-rating-summary:first-line{line-height:27px}.aloha-carrier-compatibility-modal-table-row .aloha-carrier-compatibility-icon{margin-top:6px}.aloha-carrier-compatibility-check-icon{width:30px;height:27px;background-position:-318px -35px;background-image:url(https://images-na.ssl-images-amazon.com/images/G/01/AUIClients/AmazonUIBaseCSS-sprite_2x-8e7ef370dc28a214b3f490c9620f4ac501d5a864._V2_.png);background-repeat:no-repeat;background-size:400px 650px;display:inline-block;vertical-align:top}.aloha-carrier-compatibility-hidden{display:none}.aloha-buybox-spaced-link{margin-top:12px;margin-bottom:7px;text-align:center}.popover-tab",
         "0004950763",
         "[]",
         "[]",
         null
        ],
        [
         "2",
         "[]",
         "",
         "[]",
         "",
         "Nursery Rhymes Felt Book",
         "[]",
         "",
         "Betty Lukens",
         "[]",
         "['>#2,871,983 in Toys & Games (See Top 100 in Toys & Games)']",
         "[]",
         "Toys & Games",
         "",
         "",
         ".a-box-inner{background-color:#fff}#alohaBuyBoxWidget .selected{background-color:#fffbf3;border-color:#e77600;box-shadow:0 0 3px rgba(228,121,17,.5)}#alohaBuyBoxWidget .contract-not-available{color:gray}#aloha-cart-popover .aloha-cart{height:auto;overflow:hidden}#aloha-cart-popover #aloha-cartInfo{float:left}#aloha-cart-popover #aloha-cart-details{float:right;margin-top:1em}#aloha-cart-popover .deviceContainer{width:160px;float:left;padding-right:10px;border-right:1px solid #ddd}#aloha-cart-popover li:last-child{border-right:0}#aloha-cart-popover .aloha-device-title{height:3em;overflow:hidden}#aloha-cart-popover .aloha-thumbnail-container{height:100px;margin-bottom:1em;text-align:center}#aloha-cart-popover .aloha-price-container{text-align:center}#aloha-cart-popover .aloha-thumbnail-container img{height:inherit}#aloha-cart-popover .aloha-cart{border-top:1px solid #ddd;border-bottom:1px solid #ddd}#aloha-cart-popover #aloha-cart-info{margin-right:0}#alohaBuyBoxWidget .without-contract-subheading{margin-right:0}#aloha-bb-help-nodes .aloha-bb-contract-term-heading{color:gray;font-family:arial;margin-top:.5em;text-align:center;height:.7em;border-bottom:1px solid gray;margin-bottom:1.6em}#aloha-bb-help-nodes .aloha-bb-contract-term-heading span{background-color:#fff;padding:0 10px 0 10px}#alohaAvailabilityUS_feature_div .availability a{text-decoration:none}#alohaPricingWidget a{text-decoration:none}#alohaAvailabilityUS_feature_div .availability{margin-top:-4px;margin-bottom:0}#alohaBuyBoxWidget .select-transaction-alert .a-icon-alert{top:18px;left:3px}#alohaBuyBoxWidget .select-transaction-alert .a-alert-container{padding-left:39px;width:290px}#alohaBuyBoxUS_feature_div #alohaBuyBoxWidget .contract-container .contract-term-heading a{text-decoration:none}#alohaBuyBoxUS_feature_div #alohaBuyBoxWidget .annual-contract-box .a-icon-popover{display:none}#alohaBuyBoxUS_feature_div #alohaBuyBoxWidget .contract-container .annual-contract-box{cursor:pointer;cursor:hand}#alohaBuyBoxUS_feature_div #alohaBuyBoxWidget .aloha-buybox-price{font-size:15px}#alohaBuyBoxUS_feature_div #alohaBuyBoxWidget #linkOffSection a{text-decoration:none}#alohaBuyBoxUS_feature_div .lockedUsedBuyboxContainer{padding-left:3.5%}#alohaBuyBoxUS_feature_div .alohaBuyboxUtilsNoWrap{white-space:nowrap}.hidden{display:none}.simo-no-padding{padding:0}.carrier-reviews-cell{padding-left:10px}.carrier-reviews-bordered-cell{border:1px dotted #ccc}.carrier-reviews-selected-cell{background-color:#ffd}#aloha-carrier-compatibility-modal-table-description{margin-top:10px;margin-bottom:14px}.aloha-carrier-compatibility-sortable-header.carrier{min-width:97px}.aloha-carrier-compatibility-sortable-header.compatibility{min-width:156px}.aloha-carrier-compatibility-sortable-header div{float:left}.aloha-carrier-compatibility-sortable-header i.a-icon{margin-left:10px;margin-top:4px}#aloha-carrier-compatibility-overview-table.a-bordered.a-vertical-stripes td:nth-child(2n),#aloha-carrier-compatibility-overview-table.a-bordered.a-vertical-stripes th:nth-child(2n){background-color:initial}#aloha-carrier-compatibility-modal-table.a-bordered.a-vertical-stripes td:nth-child(2n),#aloha-carrier-compatibility-modal-table.a-bordered.a-vertical-stripes th:nth-child(2n){background-color:initial}#aloha-carrier-compatibility-table.a-bordered.a-vertical-stripes th:nth-child(2n),.aloha-carrier-compatibility-table.a-bordered.a-vertical-stripes td:nth-child(2n){background-color:transparent}.aloha-carrier-compatibility-column-gray{background-color:#f6f6f6}.aloha-carrier-compatibility-modal-table-row .aloha-carrier-compatibility-tech-text,.aloha-carrier-compatibility-modal-table-row .carrier-name,.aloha-carrier-compatibility-modal-table-row .carrier-rating-summary{min-height:27px;display:inline-block;cursor:default}.aloha-carrier-compatibility-modal-table-row .aloha-carrier-compatibility-tech-text:first-line,.aloha-carrier-compatibility-modal-table-row .carrier-name:first-line,.aloha-carrier-compatibility-modal-table-row .carrier-rating-summary:first-line{line-height:27px}.aloha-carrier-compatibility-modal-table-row .aloha-carrier-compatibility-icon{margin-top:6px}.aloha-carrier-compatibility-check-icon{width:30px;height:27px;background-position:-318px -35px;background-image:url(https://images-na.ssl-images-amazon.com/images/G/01/AUIClients/AmazonUIBaseCSS-sprite_2x-8e7ef370dc28a214b3f490c9620f4ac501d5a864._V2_.png);background-repeat:no-repeat;background-size:400px 650px;display:inline-block;vertical-align:top}.aloha-carrier-compatibility-hidden{display:none}.aloha-buybox-spaced-link{margin-top:12px;margin-bottom:7px;text-align:center}.popover-tab",
         "0005069491",
         "[]",
         "[]",
         null
        ],
        [
         "3",
         "['Toys & Games', 'Games', 'Card Games']",
         "",
         "['Blitz Vintage Card Game']",
         "",
         "Dutch Blitz Card Game",
         "['B00WIIPQEC']",
         "",
         "Dutch Blitz Games Co",
         "[]",
         "['>#376,337 in Toys & Games (See Top 100 in Toys & Games)', '>#4,037 in Toys & Games > Games > Card Games']",
         "['B000BBU0KS', 'B00NQQTZ5G', 'B00WIIPQEC', 'B001VIWAO4', 'B004MU9V8Q', 'B00000IWD6', 'B003GZH0SG', 'B0037W5Y2W', 'B078T9WW2X', 'B001UK509U', 'B00JJ4PNHI', 'B07GX5W723', 'B016715XXY', 'B0077Q0NP2', 'B00G7S4V54', 'B003KTPO0Y', 'B003ZZUYIK', 'B00E4H14RI', 'B00000IV35', 'B002TBFVV6', 'B00336128W', 'B06XHFQ34D', 'B01FLADSZM', 'B06XHFMRP9', 'B007EVA3KA', 'B00GM3VXVE', 'B01JMYP3QK', 'B01CPQD4YK', 'B075HQSLDF', 'B01N5SGEEI', 'B07GY47S23', 'B01N9UVRZS', 'B01NAWDCO8', 'B01DPW4ZJ6', 'B01M4LXIRS', 'B01DPW2RCI', 'B01N7VDK9D', 'B01N5SGHOI', 'B01D5GFBMW', 'B0047QI500', 'B06XHX47FP', 'B06XHTW9R2', 'B078RGQL5B', 'B07GFVLRQW', 'B01MFEH9DO', 'B01HQZ99US', 'B078RHG711', 'B0747L8SV6', 'B07CG5D843', 'B00DZ1AZL0', 'B014Q1XX9S', 'B00I45GN5E', 'B015QBOOZE', 'B001FVPS0K', 'B004YNRHVO', 'B00000IT4A', 'B00004TZY8', 'B07FHL8GZ3', 'B07C73LM2G']",
         "Toys & Games",
         " class=\"a-bordered a-horizontal-stripes  a-spacing-extra-large a-size-base comparison_table\">\n\n\n\n            \n            \n            \n            \n            \n            <tr class=\"comparison_table_image_row\">\n                <td class=\"comparison_table_first_col\"></td>\n\n\n                <th class=\"comparison_image_title_cell\" role=\"columnheader\">\n                    <div class=\"a-row a-spacing-top-micro\">\n                        <center>\n                             <img alt=\"Dutch Blitz Card Game\" src=\"https://images-na.ssl-images-amazon.com/images/I/61CJ22DDWPL._SL500_AC_SS350_.jpg\" id=\"comparison_image\">\n                        </center>\n                    </div>\n                    <div class=\"a-row a-spacing-top-small\">\n                        <div id=\"comparison_title\" class=\"a-section a-spacing-none\">\n                            <span aria-hidden=\"true\" class=\"a-size-base a-color-base a-text-bold\">\n                                This item\n                            </span>\n                            <span aria-hidden=\"true\" class=\"a-size-base a-color-base\">Dutch Blitz Card Game</span>\n                        </div>\n                        \n                        \n                    </div>\n                </th>\n\n\n                \n                    <th class=\"comparison_image_title_cell comparable_item0\" role=\"columnheader\">\n                        <a class=\"a-link-normal\" target=\"_self\" rel=\"noopener\" href=\"/dp/B000BBU0KS/ref=psdc_166239011_t1_0004983289\">\n                          <div class=\"a-row a-spacing-top-micro\">\n                            <center>\n                                <img alt=\"\" src=\"https://images-na.ssl-images-amazon.com/images/I/51NSTYumQwL._SL500_AC_SS350_.jpg\" aria-hidden=\"true\" id=\"comparison_image0\">\n                            </center>\n                          </div>\n                          <div id=\"comparison_title0\" class=\"a-row a-spacing-top-small\">\n                            <span class=\"a-size-base\">Dutch Blitz</span>\n                          </div>\n                        </a>\n                        \n                        \n                    </th>\n                \n                    <th class=\"comparison_image_title_cell comparable_item1\" role=\"columnheader\">\n                        <a class=\"a-link-normal\" target=\"_self\" rel=\"noopener\" href=\"/dp/B00WIIPQEC/ref=psdc_166239011_t2_0004983289\">\n                          <div class=\"a-row a-spacing-top-micro\">\n                            <center>\n                                <img alt=\"\" src=\"https://images-na.ssl-images-amazon.com/images/I/51j0R-KuldL._SL500_AC_SS350_.jpg\" aria-hidden=\"true\" id=\"comparison_image1\">\n                            </center>\n                          </div>\n                          <div id=\"comparison_title1\" class=\"a-row a-spacing-top-small\">\n                            <span class=\"a-size-base\">Dutch Blitz Original and Expansion Pack Set Card Game</span>\n                          </div>\n                        </a>\n                        \n                        \n                    </th>\n                \n                    <th class=\"comparison_image_title_cell comparable_item2\" role=\"columnheader\">\n                        <a class=\"a-link-normal\" target=\"_self\" rel=\"noopener\" href=\"/dp/B001VIWAO4/ref=psdc_166239011_t3_0004983289\">\n                          <div class=\"a-row a-spacing-top-micro\">\n                            <center>\n                                <img alt=\"\" src=\"https://images-na.ssl-images-amazon.com/images/I/41uX0j4rpoL._SL500_AC_SS350_.jpg\" aria-hidden=\"true\" id=\"comparison_image2\">\n                            </center>\n                          </div>\n                          <div id=\"comparison_title2\" class=\"a-row a-spacing-top-small\">\n                            <span class=\"a-size-base\">Rook Card Game by Hasbro</span>\n                          </div>\n                        </a>\n                        \n                        \n                    </th>\n                \n                    <th class=\"comparison_image_title_cell comparable_item3\" role=\"columnheader\">\n                        <a class=\"a-link-normal\" target=\"_self\" rel=\"noopener\" href=\"/dp/B0077Q0NP2/ref=psdc_166239011_t4_0004983289\">\n                          <div class=\"a-row a-spacing-top-micro\">\n                            <center>\n                                <img alt=\"\" src=\"https://images-na.ssl-images-amazon.com/images/I/61Qpj1qEzhL._SL500_AC_SS350_.jpg\" aria-hidden=\"true\" id=\"comparison_image3\">\n                            </center>\n                          </div>\n                          <div id=\"comparison_title3\" class=\"a-row a-spacing-top-small\">\n                            <span class=\"a-size-base\">Grandpa Beck's Cover Your Assets: From the creators of Skull King and The Bears and The Bees</span>\n                          </div>\n                        </a>\n                        \n                        \n                    </th>\n                \n            </tr>\n\n\n            <tr></tr>\n\n\n            \n            \n            <tr>\n                <td class=\"comparison_table_first_col\"></td>\n\n\n                <td class=\"comparison_add_to_cart_button\">\n                    \n                        \n                        \n                        \n                            <span id=\"comparison_add_to_cart_button\" class=\"a-button a-spacing-small a-button-primary\"><span class=\"a-button-inner\"><a id=\"comparison_add_to_cart_button-announce\" href=\"/gp/item-dispatch/ref=psdc_166239011_a0_0004983289?ie=UTF8&amp;itemCount=1&amp;nodeID=165793011&amp;offeringID.1=sTP%252B5DRCg2ZadhJW60T7qXgw2urEOt%252ByIOU8N8Ue7y%252FjQG84ycAy07gqFZPoDNm2VVmjI2bncDBWeQX5AQ1IIrfr9Nj8wLbg3L%252Fm4W%252FRRlsxUFFCulnCYYzHwAvWm5VZITA7f%252BUMez6FyrQOQTf13VhCnzB6l2sI&amp;storeID=toys-and-games&amp;session-id=131-5516420-8139405&amp;submit.addToCart=addToCart&amp;signInToHUC=0\" class=\"a-button-text\" role=\"button\">Add to Cart</a></span></span>\n                        \n                    \n                </td>\n\n\n                \n                    <td class=\"a-text-left comparison_add_to_cart_button comparable_item0\">\n                        \n                            \n                            \n                                <span id=\"comparison_add_to_cart_button0\" class=\"a-button a-spacing-small a-button-primary\"><span class=\"a-button-inner\"><a id=\"comparison_add_to_cart_button0-announce\" href=\"/gp/item-dispatch/ref=psdc_166239011_a1_0004983289?ie=UTF8&amp;itemCount=1&amp;nodeID=165793011&amp;offeringID.1=sTP%252B5DRCg2b3LvncsokOZbXGthnGFiX9WD3AcFiCvPBpWCUjCWtdVarU76%252BSaTVRHr7HiFpxDjn9WuWpNWf6GnhezGdKXHYHTBCNjTLOmLEz63ItYcWNJw%253D%253D&amp;storeID=toys-and-games&amp;session-id=131-5516420-8139405&amp;submit.addToCart=addToCart&amp;signInToHUC=0\" class=\"a-button-text\" role=\"button\">Add to Cart</a></span></span>\n                            \n                        \n                    </td>\n                \n                    <td class=\"a-text-left comparison_add_to_cart_button comparable_item1\">\n                        \n                            \n                            \n                                <span id=\"comparison_add_to_cart_button1\" class=\"a-button a-spacing-small a-button-primary\"><span class=\"a-button-inner\"><a id=\"comparison_add_to_cart_button1-announce\" href=\"/gp/item-dispatch/ref=psdc_166239011_a2_0004983289?ie=UTF8&amp;itemCount=1&amp;nodeID=165793011&amp;offeringID.1=sTP%252B5DRCg2b3LvncsokOZYIevlcI1VWZ0Z%252FCGR1V8rNzQN8v9XQEKIxwPvDz4Tjipbf6uPKKEcE%252Bv%252Be8sODGCUyaEwqHk%252BwJMvqYkHmrwFESkhxQx%252Bm%252FqA%253D%253D&amp;storeID=toys-and-games&amp;session-id=131-5516420-8139405&amp;submit.addToCart=addToCart&amp;signInToHUC=0\" class=\"a-button-text\" role=\"button\">Add to Cart</a></span></span>\n                            \n                        \n                    </td>\n                \n                    <td class=\"a-text-left comparison_add_to_cart_button comparable_item2\">\n                        \n                            \n                            \n                                <span id=\"comparison_add_to_cart_button2\" class=\"a-button a-spacing-small a-button-primary\"><span class=\"a-button-inner\"><a id=\"comparison_add_to_cart_button2-announce\" href=\"/gp/item-dispatch/ref=psdc_166239011_a3_0004983289?ie=UTF8&amp;itemCount=1&amp;nodeID=165793011&amp;offeringID.1=FLHrQk84Z%252FfDBWeiyLzOqAVpPkTUfcUYdK0oaUEl%252BWtWSe6Hbh%252FkqhTFlAU7kQq2pnX%252By7F7SSaYBcmAdLsOIeDuroAcTTt1p0lVcwa1DXqURk1muFdgHHTsv7ZjFobXC49kMlVHaZ%252FFakWJ0tNPJg%253D%253D&amp;storeID=toys-and-games&amp;session-id=131-5516420-8139405&amp;submit.addToCart=addToCart&amp;signInToHUC=0\" class=\"a-button-text\" role=\"button\">Add to Cart</a></span></span>\n                            \n                        \n                    </td>\n                \n                    <td class=\"a-text-left comparison_add_to_cart_button comparable_item3\">\n                        \n                            \n                            \n                                <span id=\"comparison_add_to_cart_button3\" class=\"a-button a-spacing-small a-button-primary\"><span class=\"a-button-inner\"><a id=\"comparison_add_to_cart_button3-announce\" href=\"/gp/item-dispatch/ref=psdc_166239011_a4_0004983289?ie=UTF8&amp;itemCount=1&amp;nodeID=165793011&amp;offeringID.1=EN7IeGBuw5kReKzNTnPTe8eBfrvkKeBRRIAsj0se0rWVKfKsgV2NeOnu6y7RJ1uY3C%252ByCI9MBP%252BeA1i5tdPjKEGiEjNEntazUfBSPhc6Tz7Z7LMoh1yY4xPiyDkdlwwm%252F4XE793X3eNvJqMJeDbNxw%253D%253D&amp;storeID=toys-and-games&amp;session-id=131-5516420-8139405&amp;submit.addToCart=addToCart&amp;signInToHUC=0\" class=\"a-button-text\" role=\"button\">Add to Cart</a></span></span>\n                            \n                        \n                    </td>\n                \n            </tr>\n\n\n            <tr id=\"comparison_custormer_rating_row\">\n                \n                \n                \n                \n\n                <th class=\"comparison_attribute_name_column comparison_table_first_col\" role=\"rowheader\">\n                    <span class=\"a-size-base a-color-base\">Customer Rating</span>\n                </th>\n\n\n                <td class=\"comparison_baseitem_column\">\n                    \n                    \n                    \n                    <span>\n                        <span class=\"a-declarative\" data-action=\"a-popover\" data-a-popover=\"{&quot;max-width&quot;:&quot;700&quot;,&quot;closeButton&quot;:&quot;false&quot;,&quot;position&quot;:&quot;triggerBottom&quot;,&quot;url&quot;:&quot; /gp/customer-reviews/widgets/average-customer-review/popover/ref=acr_dpComparsion__popover?contextId=dpComparsion&amp;asin=0004983289 &quot;,&quot;restoreFocusOnHide&quot;:&quot;false&quot;}\">\n                            <i class=\"a-icon a-icon-star a-star-5 a-spacing-none\"><span class=\"a-icon-alt\">5 out of 5 stars</span></i>\n                        </span>\n                        <a class=\"a-link-normal\" target=\"_self\" rel=\"noopener\" href=\"/product-reviews/0004983289/ref=psdc_166239011_r0_0004983289?_encoding=UTF8&amp;showViewpoints=1\">(5)</a>\n                        <span class=\"a-letter-space\"></span>\n                    </span>\n                </td>\n\n\n                \n                    <td class=\"comparison_sim_items_column comparable_item0\">\n                        \n                        \n                        \n                        <span>\n                            <span class=\"a-declarative\" data-action=\"a-popover\" data-a-popover=\"{&quot;max-width&quot;:&quot;700&quot;,&quot;closeButton&quot;:&quot;false&quot;,&quot;position&quot;:&quot;triggerBottom&quot;,&quot;url&quot;:&quot; /gp/customer-reviews/widgets/average-customer-review/popover/ref=acr_dpComparsion__popover?contextId=dpComparsion&amp;asin=B000BBU0KS &quot;,&quot;restoreFocusOnHide&quot;:&quot;false&quot;}\">\n                                <i class=\"a-icon a-icon-star a-star-5 a-spacing-none\"><span class=\"a-icon-alt\">5 out of 5 stars</span></i>\n                            </span>\n                            <a class=\"a-link-normal\" target=\"_self\" rel=\"noopener\" href=\"/product-reviews/B000BBU0KS/ref=psdc_166239011_r1_0004983289?_encoding=UTF8&amp;showViewpoints=1\">(1125)</a>\n                            <span class=\"a-letter-space\"></span>\n                        </span>\n                    </td>\n                \n                    <td class=\"comparison_sim_items_column comparable_item1\">\n                        \n                        \n                        \n                        <span>\n                            <span class=\"a-declarative\" data-action=\"a-popover\" data-a-popover=\"{&quot;max-width&quot;:&quot;700&quot;,&quot;closeButton&quot;:&quot;false&quot;,&quot;position&quot;:&quot;triggerBottom&quot;,&quot;url&quot;:&quot; /gp/customer-reviews/widgets/average-customer-review/popover/ref=acr_dpComparsion__popover?contextId=dpComparsion&amp;asin=B00WIIPQEC &quot;,&quot;restoreFocusOnHide&quot;:&quot;false&quot;}\">\n                                <i class=\"a-icon a-icon-star a-star-5 a-spacing-none\"><span class=\"a-icon-alt\">5 out of 5 stars</span></i>\n                            </span>\n                            <a class=\"a-link-normal\" target=\"_self\" rel=\"noopener\" href=\"/product-reviews/B00WIIPQEC/ref=psdc_166239011_r2_0004983289?_encoding=UTF8&amp;showViewpoints=1\">(370)</a>\n                            <span class=\"a-letter-space\"></span>\n                        </span>\n                    </td>\n                \n                    <td class=\"comparison_sim_items_column comparable_item2\">\n                        \n                        \n                        \n                        <span>\n                            <span class=\"a-declarative\" data-action=\"a-popover\" data-a-popover=\"{&quot;max-width&quot;:&quot;700&quot;,&quot;closeButton&quot;:&quot;false&quot;,&quot;position&quot;:&quot;triggerBottom&quot;,&quot;url&quot;:&quot; /gp/customer-reviews/widgets/average-customer-review/popover/ref=acr_dpComparsion__popover?contextId=dpComparsion&amp;asin=B001VIWAO4 &quot;,&quot;restoreFocusOnHide&quot;:&quot;false&quot;}\">\n                                <i class=\"a-icon a-icon-star a-star-4 a-spacing-none\"><span class=\"a-icon-alt\">4 out of 5 stars</span></i>\n                            </span>\n                            <a class=\"a-link-normal\" target=\"_self\" rel=\"noopener\" href=\"/product-reviews/B001VIWAO4/ref=psdc_166239011_r3_0004983289?_encoding=UTF8&amp;showViewpoints=1\">(203)</a>\n                            <span class=\"a-letter-space\"></span>\n                        </span>\n                    </td>\n                \n                    <td class=\"comparison_sim_items_column comparable_item3\">\n                        \n                        \n                        \n                        <span>\n                            <span class=\"a-declarative\" data-action=\"a-popover\" data-a-popover=\"{&quot;max-width&quot;:&quot;700&quot;,&quot;closeButton&quot;:&quot;false&quot;,&quot;position&quot;:&quot;triggerBottom&quot;,&quot;url&quot;:&quot; /gp/customer-reviews/widgets/average-customer-review/popover/ref=acr_dpComparsion__popover?contextId=dpComparsion&amp;asin=B0077Q0NP2 &quot;,&quot;restoreFocusOnHide&quot;:&quot;false&quot;}\">\n                                <i class=\"a-icon a-icon-star a-star-5 a-spacing-none\"><span class=\"a-icon-alt\">5 out of 5 stars</span></i>\n                            </span>\n                            <a class=\"a-link-normal\" target=\"_self\" rel=\"noopener\" href=\"/product-reviews/B0077Q0NP2/ref=psdc_166239011_r4_0004983289?_encoding=UTF8&amp;showViewpoints=1\">(1251)</a>\n                            <span class=\"a-letter-space\"></span>\n                        </span>\n                    </td>\n                \n            </tr>\n\n\n            <tr id=\"comparison_price_row\">\n                <th class=\"comparison_attribute_name_column comparison_table_first_col\" role=\"rowheader\">\n                    <span class=\"a-size-base a-color-base\">Price</span>\n                </th>\n\n\n                <td class=\"comparison_baseitem_column\">\n                    \n                        \n                        \n                        \n                        \n                            \n                                \n                                    <span class=\"a-price\" data-a-size=\"l\" data-a-color=\"base\"><span class=\"a-offscreen\">$24.95</span><span aria-hidden=\"true\"><span class=\"a-price-symbol\">$</span><span class=\"a-price-whole\">24<span class=\"a-price-decimal\">\u0000</span></span><span class=\"a-price-fraction\">95</span></span></span>\n                                \n                                \n                            \n                        \n                    \n                </td>\n\n\n                \n                    <td class=\"comparison_sim_items_column comparable_item0\">\n                    \n                        \n                        \n                        \n                            \n                                \n                                    <span class=\"a-price\" data-a-size=\"l\" data-a-color=\"base\"><span class=\"a-offscreen\">$9.60</span><span aria-hidden=\"true\"><span class=\"a-price-symbol\">$</span><span class=\"a-price-whole\">9<span class=\"a-price-decimal\">\u0000</span></span><span class=\"a-price-fraction\">60</span></span></span>\n                                \n                                \n                            \n                        \n                    \n                    </td>\n                \n                    <td class=\"comparison_sim_items_column comparable_item1\">\n                    \n                        \n                        \n                        \n                            \n                                \n                                    <span class=\"a-price\" data-a-size=\"l\" data-a-color=\"base\"><span class=\"a-offscreen\">$21.09</span><span aria-hidden=\"true\"><span class=\"a-price-symbol\">$</span><span class=\"a-price-whole\">21<span class=\"a-price-decimal\">\u0000</span></span><span class=\"a-price-fraction\">09</span></span></span>\n                                \n                                \n                            \n                        \n                    \n                    </td>\n                \n                    <td class=\"comparison_sim_items_column comparable_item2\">\n                    \n                        \n                        \n                        \n                            \n                                \n                                    <span class=\"a-price\" data-a-size=\"l\" data-a-color=\"base\"><span class=\"a-offscreen\">$10.22</span><span aria-hidden=\"true\"><span class=\"a-price-symbol\">$</span><span class=\"a-price-whole\">10<span class=\"a-price-decimal\">\u0000</span></span><span class=\"a-price-fraction\">22</span></span></span>\n                                \n                                \n                            \n                        \n                    \n                    </td>\n                \n                    <td class=\"comparison_sim_items_column comparable_item3\">\n                    \n                        \n                        \n                        \n                            \n                                \n                                    <span class=\"a-price\" data-a-size=\"l\" data-a-color=\"base\"><span class=\"a-offscreen\">$14.99</span><span aria-hidden=\"true\"><span class=\"a-price-symbol\">$</span><span class=\"a-price-whole\">14<span class=\"a-price-decimal\">\u0000</span></span><span class=\"a-price-fraction\">99</span></span></span>\n                                \n                                \n                            \n                        \n                    \n                    </td>\n                \n            </tr>\n\n\n    \n                <tr id=\"comparison_shipping_info_row\">\n                    <th class=\"comparison_attribute_name_column comparison_table_first_col\" role=\"rowheader\">\n                        <span class=\"a-size-base a-color-base\">Shipping</span>\n                    </th>\n\n    \n                    <td class=\"comparison_baseitem_column\">\n                        \n                            \n                            \n                            \n                                <span class=\"a-size-base a-color-base\">Eligible for FREE Shipping</span>\n                            \n                            \n                            \n                            \n                            \n                        \n                    </td>\n\n    \n                    \n                        <td class=\"comparison_sim_items_column comparable_item0\">\n                            \n                                \n                                \n                                    <span class=\"a-size-base a-color-base\">Eligible for FREE Shipping</span>\n                                \n                                \n                                \n                                \n                                \n                            \n                        </td>\n                    \n                        <td class=\"comparison_sim_items_column comparable_item1\">\n                            \n                                \n                                \n                                    <span class=\"a-size-base a-color-base\">Eligible for FREE Shipping</span>\n                                \n                                \n                                \n                                \n                                \n                            \n                        </td>\n                    \n                        <td class=\"comparison_sim_items_column comparable_item2\">\n                            \n                                \n                                \n                                    <span class=\"a-size-base a-color-base\">Eligible for FREE Shipping</span>\n                                \n                                \n                                \n                                \n                                \n                            \n                        </td>\n                    \n                        <td class=\"comparison_sim_items_column comparable_item3\">\n                            \n                                \n                                \n                                    <span class=\"a-size-base a-color-base\">Eligible for FREE Shipping</span>\n                                \n                                \n                                \n                                \n                                \n                            \n                        </td>\n                    \n                </tr>\n\n\n\n            <tr id=\"comparison_sold_by_row\">\n                <th class=\"comparison_attribute_name_column comparison_table_first_col\" role=\"rowheader\">\n                    <span class=\"a-size-base a-color-base\">Sold By</span>\n                </th>\n\n  \n                <td class=\"comparison_baseitem_column\">\n                    \n                        \n                        \n                        \n                            <a class=\"a-spacing-top-small a-link-normal\" target=\"_self\" rel=\"noopener\" href=\"/gp/help/seller/at-a-glance.html/ref=psdc_166239011_s0_0004983289?ie=UTF8&amp;seller=A14A72EV0GA5L5\">Collectors Paradise Usa</a>\n                        \n                     \n                </td>\n\n\n                \n                    <td class=\"comparison_sim_items_column comparable_item0\">\n                         \n                            \n                                <span class=\"a-size-base a-color-base\">Amazon.com</span>\n                            \n                         \n                         \n                     </td>\n                \n                    <td class=\"comparison_sim_items_column comparable_item1\">\n                         \n                            \n                                <span class=\"a-size-base a-color-base\">Amazon.com</span>\n                            \n                         \n                         \n                     </td>\n                \n                    <td class=\"comparison_sim_items_column comparable_item2\">\n                         \n                            \n                         \n                             <a class=\"a-spacing-top-small a-link-normal\" target=\"_self\" rel=\"noopener\" href=\"/gp/help/seller/at-a-glance.html/ref=psdc_166239011_s3_0004983289?ie=UTF8&amp;seller=A21AWUBCOU7ODN&amp;isAmazonFulfilled=1\">BOXED</a>\n                         \n                         \n                     </td>\n                \n                    <td class=\"comparison_sim_items_column comparable_item3\">\n                         \n                            \n                         \n                             <a class=\"a-spacing-top-small a-link-normal\" target=\"_self\" rel=\"noopener\" href=\"/gp/help/seller/at-a-glance.html/ref=psdc_166239011_s4_0004983289?ie=UTF8&amp;seller=A3T0HXZK4MID3M&amp;isAmazonFulfilled=1\">Grandpa Beck's Games</a>\n                         \n                         \n                     </td>\n                \n             </tr>\n\n\n            \n                <tr>\n                    <th class=\"a-span3 comparison_attribute_name_column comparison_table_first_col\" role=\"rowheader\">\n                        <span class=\"a-size-base a-color-base\">Item Dimensions</span>\n                    </th>\n                    \n\n                    <td class=\"comparison_baseitem_column\">\n                     \n                        \n                            \n                            \n                                 <span class=\"a-size-base a-color-base\">5.31 x 3.64 x 1.23 in</span>\n                            \n                        \n                    </td>\n\n\n                    \n                        <td class=\"comparison_sim_items_column comparable_item0\">\n                            \n                            \n                            \n                               \n                                  \n                                  \n                                      <span class=\"a-size-base a-color-base\">6.2 x 3.5 x 1.2 in</span>\n                                  \n                               \n                        </td>\n                    \n                        <td class=\"comparison_sim_items_column comparable_item1\">\n                            \n                            \n                            \n                               \n                                  \n                                  \n                                      <span class=\"a-size-base a-color-base\">9.75 x 3.88 x 6.62 in</span>\n                                  \n                               \n                        </td>\n                    \n                        <td class=\"comparison_sim_items_column comparable_item2\">\n                            \n                            \n                            \n                               \n                                  \n                                  \n                                      <span class=\"a-size-base a-color-base\">0.79 x 3.62 x 5.63 in</span>\n                                  \n                               \n                        </td>\n                    \n                        <td class=\"comparison_sim_items_column comparable_item3\">\n                            \n                            \n                            \n                               \n                                  \n                                  \n                                      <span class=\"a-size-base a-color-base\">2.17 x 1.57 x 0.43 in</span>\n                                  \n                               \n                        </td>\n                    \n                </tr>\n            \n       ",
         "",
         "$24.95",
         "0004983289",
         "[]",
         "[]",
         null
        ],
        [
         "4",
         "[]",
         "",
         "['Marvel SuperHeroes themed \"magic ink\" coloring book.\\nFor ages 3 and up.']",
         "",
         "Magic Pen Painting (Marvel Super Heroes)",
         "['B009SB7TI8', 'B009SB8Z1I']",
         "",
         "Lee Publications",
         "[]",
         "['>#934,954 in Toys & Games (See Top 100 in Toys & Games)']",
         "[]",
         "Toys & Games",
         "",
         "",
         "$4.92",
         "0006466222",
         "[]",
         "[]",
         null
        ]
       ],
       "shape": {
        "columns": 19,
        "rows": 5
       }
      },
      "text/html": [
       "<div>\n",
       "<style scoped>\n",
       "    .dataframe tbody tr th:only-of-type {\n",
       "        vertical-align: middle;\n",
       "    }\n",
       "\n",
       "    .dataframe tbody tr th {\n",
       "        vertical-align: top;\n",
       "    }\n",
       "\n",
       "    .dataframe thead th {\n",
       "        text-align: right;\n",
       "    }\n",
       "</style>\n",
       "<table border=\"1\" class=\"dataframe\">\n",
       "  <thead>\n",
       "    <tr style=\"text-align: right;\">\n",
       "      <th></th>\n",
       "      <th>category</th>\n",
       "      <th>tech1</th>\n",
       "      <th>description</th>\n",
       "      <th>fit</th>\n",
       "      <th>title</th>\n",
       "      <th>also_buy</th>\n",
       "      <th>tech2</th>\n",
       "      <th>brand</th>\n",
       "      <th>feature</th>\n",
       "      <th>rank</th>\n",
       "      <th>also_view</th>\n",
       "      <th>main_cat</th>\n",
       "      <th>similar_item</th>\n",
       "      <th>date</th>\n",
       "      <th>price</th>\n",
       "      <th>asin</th>\n",
       "      <th>imageURL</th>\n",
       "      <th>imageURLHighRes</th>\n",
       "      <th>details</th>\n",
       "    </tr>\n",
       "  </thead>\n",
       "  <tbody>\n",
       "    <tr>\n",
       "      <th>0</th>\n",
       "      <td>[Toys &amp; Games, Puzzles, Jigsaw Puzzles]</td>\n",
       "      <td></td>\n",
       "      <td>[Three Dr. Suess' Puzzles: Green Eggs and Ham,...</td>\n",
       "      <td></td>\n",
       "      <td>Dr. Suess 19163 Dr. Seuss Puzzle 3 Pack Bundle</td>\n",
       "      <td>[]</td>\n",
       "      <td></td>\n",
       "      <td>Dr. Seuss</td>\n",
       "      <td>[Three giant floor puzzles, Includes: Dr. Sues...</td>\n",
       "      <td>[&gt;#2,230,717 in Toys &amp; Games (See Top 100 in T...</td>\n",
       "      <td>[]</td>\n",
       "      <td>Toys &amp; Games</td>\n",
       "      <td></td>\n",
       "      <td></td>\n",
       "      <td></td>\n",
       "      <td>0000191639</td>\n",
       "      <td>[https://images-na.ssl-images-amazon.com/image...</td>\n",
       "      <td>[https://images-na.ssl-images-amazon.com/image...</td>\n",
       "      <td>NaN</td>\n",
       "    </tr>\n",
       "    <tr>\n",
       "      <th>1</th>\n",
       "      <td>[]</td>\n",
       "      <td></td>\n",
       "      <td>[&lt;b&gt;Prepare to be Afraid!&lt;/b&gt;&lt;br /&gt;&lt;br /&gt;The B...</td>\n",
       "      <td></td>\n",
       "      <td>Pathfinder: Book of Beasts - Legendary Foes</td>\n",
       "      <td>[]</td>\n",
       "      <td></td>\n",
       "      <td>Pathfinder Roleplaying Jon Brazer Productions</td>\n",
       "      <td>[]</td>\n",
       "      <td>[&gt;#2,294,535 in Toys &amp; Games (See Top 100 in T...</td>\n",
       "      <td>[]</td>\n",
       "      <td>Toys &amp; Games</td>\n",
       "      <td></td>\n",
       "      <td></td>\n",
       "      <td>.a-box-inner{background-color:#fff}#alohaBuyBo...</td>\n",
       "      <td>0004950763</td>\n",
       "      <td>[]</td>\n",
       "      <td>[]</td>\n",
       "      <td>NaN</td>\n",
       "    </tr>\n",
       "    <tr>\n",
       "      <th>2</th>\n",
       "      <td>[]</td>\n",
       "      <td></td>\n",
       "      <td>[]</td>\n",
       "      <td></td>\n",
       "      <td>Nursery Rhymes Felt Book</td>\n",
       "      <td>[]</td>\n",
       "      <td></td>\n",
       "      <td>Betty Lukens</td>\n",
       "      <td>[]</td>\n",
       "      <td>[&gt;#2,871,983 in Toys &amp; Games (See Top 100 in T...</td>\n",
       "      <td>[]</td>\n",
       "      <td>Toys &amp; Games</td>\n",
       "      <td></td>\n",
       "      <td></td>\n",
       "      <td>.a-box-inner{background-color:#fff}#alohaBuyBo...</td>\n",
       "      <td>0005069491</td>\n",
       "      <td>[]</td>\n",
       "      <td>[]</td>\n",
       "      <td>NaN</td>\n",
       "    </tr>\n",
       "    <tr>\n",
       "      <th>3</th>\n",
       "      <td>[Toys &amp; Games, Games, Card Games]</td>\n",
       "      <td></td>\n",
       "      <td>[Blitz Vintage Card Game]</td>\n",
       "      <td></td>\n",
       "      <td>Dutch Blitz Card Game</td>\n",
       "      <td>[B00WIIPQEC]</td>\n",
       "      <td></td>\n",
       "      <td>Dutch Blitz Games Co</td>\n",
       "      <td>[]</td>\n",
       "      <td>[&gt;#376,337 in Toys &amp; Games (See Top 100 in Toy...</td>\n",
       "      <td>[B000BBU0KS, B00NQQTZ5G, B00WIIPQEC, B001VIWAO...</td>\n",
       "      <td>Toys &amp; Games</td>\n",
       "      <td>class=\"a-bordered a-horizontal-stripes  a-spa...</td>\n",
       "      <td></td>\n",
       "      <td>$24.95</td>\n",
       "      <td>0004983289</td>\n",
       "      <td>[]</td>\n",
       "      <td>[]</td>\n",
       "      <td>NaN</td>\n",
       "    </tr>\n",
       "    <tr>\n",
       "      <th>4</th>\n",
       "      <td>[]</td>\n",
       "      <td></td>\n",
       "      <td>[Marvel SuperHeroes themed \"magic ink\" colorin...</td>\n",
       "      <td></td>\n",
       "      <td>Magic Pen Painting (Marvel Super Heroes)</td>\n",
       "      <td>[B009SB7TI8, B009SB8Z1I]</td>\n",
       "      <td></td>\n",
       "      <td>Lee Publications</td>\n",
       "      <td>[]</td>\n",
       "      <td>[&gt;#934,954 in Toys &amp; Games (See Top 100 in Toy...</td>\n",
       "      <td>[]</td>\n",
       "      <td>Toys &amp; Games</td>\n",
       "      <td></td>\n",
       "      <td></td>\n",
       "      <td>$4.92</td>\n",
       "      <td>0006466222</td>\n",
       "      <td>[]</td>\n",
       "      <td>[]</td>\n",
       "      <td>NaN</td>\n",
       "    </tr>\n",
       "  </tbody>\n",
       "</table>\n",
       "</div>"
      ],
      "text/plain": [
       "                                  category tech1  \\\n",
       "0  [Toys & Games, Puzzles, Jigsaw Puzzles]         \n",
       "1                                       []         \n",
       "2                                       []         \n",
       "3        [Toys & Games, Games, Card Games]         \n",
       "4                                       []         \n",
       "\n",
       "                                         description fit  \\\n",
       "0  [Three Dr. Suess' Puzzles: Green Eggs and Ham,...       \n",
       "1  [<b>Prepare to be Afraid!</b><br /><br />The B...       \n",
       "2                                                 []       \n",
       "3                          [Blitz Vintage Card Game]       \n",
       "4  [Marvel SuperHeroes themed \"magic ink\" colorin...       \n",
       "\n",
       "                                            title                  also_buy  \\\n",
       "0  Dr. Suess 19163 Dr. Seuss Puzzle 3 Pack Bundle                        []   \n",
       "1     Pathfinder: Book of Beasts - Legendary Foes                        []   \n",
       "2                        Nursery Rhymes Felt Book                        []   \n",
       "3                           Dutch Blitz Card Game              [B00WIIPQEC]   \n",
       "4        Magic Pen Painting (Marvel Super Heroes)  [B009SB7TI8, B009SB8Z1I]   \n",
       "\n",
       "  tech2                                          brand  \\\n",
       "0                                            Dr. Seuss   \n",
       "1        Pathfinder Roleplaying Jon Brazer Productions   \n",
       "2                                         Betty Lukens   \n",
       "3                                 Dutch Blitz Games Co   \n",
       "4                                     Lee Publications   \n",
       "\n",
       "                                             feature  \\\n",
       "0  [Three giant floor puzzles, Includes: Dr. Sues...   \n",
       "1                                                 []   \n",
       "2                                                 []   \n",
       "3                                                 []   \n",
       "4                                                 []   \n",
       "\n",
       "                                                rank  \\\n",
       "0  [>#2,230,717 in Toys & Games (See Top 100 in T...   \n",
       "1  [>#2,294,535 in Toys & Games (See Top 100 in T...   \n",
       "2  [>#2,871,983 in Toys & Games (See Top 100 in T...   \n",
       "3  [>#376,337 in Toys & Games (See Top 100 in Toy...   \n",
       "4  [>#934,954 in Toys & Games (See Top 100 in Toy...   \n",
       "\n",
       "                                           also_view      main_cat  \\\n",
       "0                                                 []  Toys & Games   \n",
       "1                                                 []  Toys & Games   \n",
       "2                                                 []  Toys & Games   \n",
       "3  [B000BBU0KS, B00NQQTZ5G, B00WIIPQEC, B001VIWAO...  Toys & Games   \n",
       "4                                                 []  Toys & Games   \n",
       "\n",
       "                                        similar_item date  \\\n",
       "0                                                           \n",
       "1                                                           \n",
       "2                                                           \n",
       "3   class=\"a-bordered a-horizontal-stripes  a-spa...        \n",
       "4                                                           \n",
       "\n",
       "                                               price        asin  \\\n",
       "0                                                     0000191639   \n",
       "1  .a-box-inner{background-color:#fff}#alohaBuyBo...  0004950763   \n",
       "2  .a-box-inner{background-color:#fff}#alohaBuyBo...  0005069491   \n",
       "3                                             $24.95  0004983289   \n",
       "4                                              $4.92  0006466222   \n",
       "\n",
       "                                            imageURL  \\\n",
       "0  [https://images-na.ssl-images-amazon.com/image...   \n",
       "1                                                 []   \n",
       "2                                                 []   \n",
       "3                                                 []   \n",
       "4                                                 []   \n",
       "\n",
       "                                     imageURLHighRes details  \n",
       "0  [https://images-na.ssl-images-amazon.com/image...     NaN  \n",
       "1                                                 []     NaN  \n",
       "2                                                 []     NaN  \n",
       "3                                                 []     NaN  \n",
       "4                                                 []     NaN  "
      ]
     },
     "execution_count": 3,
     "metadata": {},
     "output_type": "execute_result"
    }
   ],
   "source": [
    "meta_df.head(5)"
   ]
  },
  {
   "cell_type": "markdown",
   "id": "0fdcd109",
   "metadata": {},
   "source": [
    "Many of these columns don't seem to contain useful data for our project, either because the data is irrelevant, or there are too many missing values. Thereforefore, many columns will be dropped."
   ]
  },
  {
   "cell_type": "code",
   "execution_count": 4,
   "id": "2057a2af",
   "metadata": {},
   "outputs": [],
   "source": [
    "columns=['asin','category', 'title', 'price','also_buy', 'also_view','rank']\n",
    "meta_df=meta_df[columns]"
   ]
  },
  {
   "cell_type": "code",
   "execution_count": 5,
   "id": "080c40eb",
   "metadata": {},
   "outputs": [
    {
     "data": {
      "application/vnd.microsoft.datawrangler.viewer.v0+json": {
       "columns": [
        {
         "name": "index",
         "rawType": "int64",
         "type": "integer"
        },
        {
         "name": "asin",
         "rawType": "object",
         "type": "string"
        },
        {
         "name": "category",
         "rawType": "object",
         "type": "unknown"
        },
        {
         "name": "title",
         "rawType": "object",
         "type": "string"
        },
        {
         "name": "price",
         "rawType": "object",
         "type": "string"
        },
        {
         "name": "also_buy",
         "rawType": "object",
         "type": "unknown"
        },
        {
         "name": "also_view",
         "rawType": "object",
         "type": "unknown"
        },
        {
         "name": "rank",
         "rawType": "object",
         "type": "string"
        }
       ],
       "ref": "d9cae527-626a-49e5-a6e3-72674dd56600",
       "rows": [
        [
         "42",
         "0547775520",
         "['Toys & Games', 'Learning & Education', 'Science', 'Geology & Earth Sciences']",
         "Focus on California Science Exam View Test Bank (Grades 6-8)",
         "",
         "[]",
         "[]",
         "56,123 in Software ("
        ],
        [
         "313",
         "0979818214",
         "['Toys & Games', 'Games', 'Standard Playing Card Decks']",
         "Shakespeare &quot;Insults&quot; Playing Cards",
         "$13.74",
         "['0979818206', '1452127751', 'B00H5E36DW', '0451533984', 'B0038TYV7I', '0982123272', '1452162476', 'B0192OEBHM', '0973950668', '1449491936', 'B079NHWHNP', 'B06Y5Y15SP', 'B01CT6DOVY', '0692678336', 'B07533Z9H2', 'B076VN74NV', 'B0002HYPVQ', 'B01ESWPIUM', 'B00GOIXT3M', '0973950722', 'B0192R0MOK', '0762462531', 'B004BTVNXE', 'B000BXHOYQ', '1591932424', '1594748284', 'B01AUXVI1G', 'B071DXS3NV', 'B013HJ9HEU', 'B00MYB8X0W', 'B01K9EQNU2', 'B076Y4P4KJ', 'B01N10KTWZ', 'B0083U1HTC', 'B001EVKQKS', 'B000NCV44Q', 'B00ISF3WBS', 'B00TSWJDX6', '1402769520', 'B01NAPLHA8', '1591933137', 'B01IU8F4CC', '1440585113', '1452128332', 'B07FKWS4R6', 'B0094Y5ZXU', 'B01B4ZAQ6M', 'B01FST8A90', 'B00CB1LQMM', '1423492757', '1506702546', 'B0011KD1PO', 'B00SCF3426', 'B00A9QOAA6', 'B00PRD5YX8', '0762442867', 'B00000J0JF', 'B00KQV9TEG', '0843172851', 'B00EA1QZ22', 'B01LDTT5OS', 'B01LW2INHK', 'B01HTKO7BG']",
         "[]",
         "22,195 in Sports & Outdoors ("
        ],
        [
         "314",
         "0979818206",
         "['Toys & Games', 'Games', 'Standard Playing Card Decks']",
         "Shakespeare &quot;Quotes&quot; Playing Cards",
         "$10.68",
         "['0979818214', '0451533984', '1452162476', 'B00MYB8X0W', '1452127751', 'B000BXHOYQ', 'B01CT6DOVY', 'B0038TYV7I', 'B076SRNWHY', 'B076Y4P4KJ', 'B00H5E36DW', 'B01IU8F4CC', 'B00K6IT6CY', 'B0772PGNF2', 'B07B31HDL1', 'B078Y2T8GZ', 'B00M02EXCM', 'B01NBFG547', 'B00TKKEJ2G']",
         "[]",
         "78,465 in Sports & Outdoors ("
        ],
        [
         "331",
         "0982123272",
         "['Toys & Games', 'Games', 'Standard Playing Card Decks']",
         "Jane Austen Playing Cards &quot;Gold Back&quot;",
         "$9.25",
         "['B00KSERAQA', 'B01BWWOXSE', '0736965181', 'B00H5E345C', '0979818214', 'B01IUAFTXY', 'B00JTJQZNO', '1423636708', '1419721496', '1524701122', '0979818222', 'B00MV0TTTK', 'B00364K6YW', '0358003911', '1531905331', 'B00NA7618U', '1250134560', 'B00H87Y97I', 'B071VM5DY5', 'B001QLHPNC', 'B06Y5Y15SP', 'B00M02EXCM', '1616893591', 'B0195MAVFC', 'B0727XNTBH', '0451496566', '0785148205', '1591932424', '0982123299', 'B075M6GBJF', '1589781317', 'B003WEAW18', 'B00AEFXO8Q', 'B00ANU0HPK', '1449401236', 'B01DAWMS0Y']",
         "[]",
         "160,397 in Sports & Outdoors ("
        ],
        [
         "332",
         "0982123299",
         "['Toys & Games', 'Games', 'Standard Playing Card Decks']",
         "Jane Austen Playing Cards &quot;Copper Back&quot;",
         "$9.25",
         "['1608423506', 'B00MH43KK4', 'B00KSERAQA', '0486297853', '0736965181', 'B01IUAFTXY']",
         "[]",
         "193,026 in Sports & Outdoors ("
        ],
        [
         "333",
         "0982123280",
         "['Toys & Games', 'Games', 'Standard Playing Card Decks']",
         "Prospero Art Native American Playing Cards ~ Edward Curtis",
         "$9.25",
         "['B000MY6BRK', '1572816198', '0979818230', '0982123264', '0635023989', '1572816163', '0982123213']",
         "[]",
         "467,536 in Sports & Outdoors ("
        ],
        [
         "406",
         "0994606710",
         "['Toys & Games', \"Kids' Electronics\", 'Electronic Learning Toys', 'EASY, FUN, GREAT TO SING ALONG: Read, listen, and hum along as Ditty Bird sings your favorite Childrens Songs. The electronic push button on every spread triggers one of the six best-selling childrens song, sung by children. The beautiful images will hold your babys attention even longer. Includes: The Wheels on the Bus, Five little Monkeys jumping on the Bed, If youre Happy and you know it, B-I-N-G-O, Head, Shoulders, Knees & Toes, and Five Little Ducks.', \"EDUCATIONAL & DEVELOP SKILLS: Reciting and singing songs is a great way to support children's language learning. The engaging music buttons help build early language ability and fine motor skills. The easy to turn pages and simple layout promotes manual dexterity, and early reading concepts. At the same time, it promotes lap time, bonding and helps to build relationship with your little one. Perfect toys for one year old girl boy.\", 'YOUR BABY DESERVES THE BEST: Our fantastic chunky sounds books for toddlers are designed to appeal to inquisitive little fingers and outlast even the roughest toddlers! Parents and children alike will be enchanted by these charming Ditty Bird interactive and learning toys which are distinguished by the exceptional quality of the tunes, and colorful illustrations featuring your new friend Ditty Bird.', 'PERFECT GIFT: These interactive musical baby books make great gifts for one year old boys or girls. Baby Shower. 1 year old Birthdays. Suitable for infants to toddlers. Perfect board books for 1 year old. Once a child has a love for reading, it is a lifetime gift! A Registry and Gift-Giving Favorite!', 'CUSTOMER SATISFACTION IS TOP PRIORITY: We guarantee hours of fun with our baby books first year! Our products come with a 1 month 100% MONEY BACK GUARANTEE. If you are not satisfied for any reason, return your book for a full, instant refund. Buy now while supplies last.']",
         "Our Best Interactive Children's Songs Book for Babies. Musical Toddler Book. Sound Books for one Year Old. Educational Toys for 1 Year Old boy Gifts. Gift for 1 Year Old Girl.",
         "$16.49",
         "['0994606737', '0994606796', '0648268500', '0994606702', 'B076Q4CW5H', '0648268519', '0994606729', '1680521233', '0994606761', '1680521217', '0994606753', '0312514212', '0385376715', 'B077BS24FS', 'B075TZSZFG', 'B071G5LF7F', 'B01GJJH580', 'B0722NM7KP', '0312508786', '1450874770', 'B00U2TP9G4', '1589256107', 'B0036WSVQ4', '141694737X', 'B00005C5H4', '0312510780', 'B078WM314M', '0312506430', 'B01N23WTR8', 'B07BMDW9YL', '1465473165', 'B0043D28B4', 'B00VXMY36G', 'B00N9WI5UI', '1503716953', 'B019RP6NSQ', '0545392551', 'B071ZBH6KZ', 'B00MYL9H8O', 'B0128PH4T4', '030797586X', '0991248244', 'B005537IFW', '0689835604', '0763663212', 'B01DGIKICC', '146544968X', '0312513461', 'B007XVYPS2', '0385374151', 'B07FNZDQLS', '0553537865', '0545261244', '0374300216', '0692054634', '0692568409', 'B004LL0VV2', 'B001AMK6G0', 'B072X7CYH4', 'B075XPHGHR', 'B012C0PFCS', 'B003P8QI8M', 'B0037UP9MY', 'B00EX5K1GG', 'B07DC8BR3B', '0312510810', 'B00G70DFC2', 'B075XK1YN3', '0811879542', '0887434959', 'B074GNN98J', 'B000BNCA4K', 'B00K89KU80', '1426307934', 'B00R3MYENC', 'B073PN1BN9', 'B074Y8RZFV', 'B079JKVJM3', 'B071CQWSX8', '0312499221', 'B00068Q7LC', '0811826023', 'B00SDJG51S', 'B06XFYDW2N', 'B004NCEL4M', 'B017IQZA76', 'B01K22RIHS', '0142405809', '0375851569']",
         "['0994606737', '0994606702', 'B076Q4CW5H', '0994606796', '0648268500', '0994606729', '0648268519', '0994606788', 'B00OZEXQ9E', '0994606753', '0994606761', 'B00RCXU5LW', 'B071G5LF7F', 'B012C0PFCS', 'B00MYL9H8O', 'B01H745HMW', '1680521233', 'B00O2WGP7O', '1524717703', 'B01H745LSW', '0648268527', '1680521217', 'B07H93M5X8', 'B00TEF3GSA', 'B06X6DJFJZ', '1680521470', '1450874770', '099460677X', '0312514212', '1680520326', '0763686484', 'B06WGN776Z', '1680520040', 'B01GXPW1JS', 'B01MTGKZ1L', 'B072PCF7XD', '1680521225', '1680521624', '1633223345', '0312513461', 'B01NCVR8QV', 'B000QY6A6I', 'B00CMNX7VM', '1499880294', '1450805752', '1412745535', '1465410686', 'B01GJJH580', '1503701603', 'B01N23WTR8', 'B00KB8V65E', 'B0027CS7BI', 'B01BCUUC90', 'B07JFMSM5Y', '0763686522', '162686652X']",
         "4,975 in Clothing, Shoes & Jewelry ("
        ],
        [
         "416",
         "1099007186",
         "['Toys & Games', 'Learning & Education', 'Mathematics & Counting']",
         "Vroot and Vroom",
         "",
         "['1099007178', '1887840982', '1887840796', '1932906177']",
         "[]",
         "11,856 in Software ("
        ],
        [
         "468",
         "1534000658",
         "['Toys & Games', 'Party Supplies', 'Party Hats']",
         "Meri Meri Paper Animal Ears",
         "",
         "['1534000712', 'B06X9F9WLC', 'B01MTB96LD', '1534000577', '1534000569', '1534000550', '1534000518', 'B009314ZSK', '1534000593', 'B01MR891HM', 'B00RZY62K6', 'B00WFSDMPU', 'B00T0NW0YC', '153400050X', 'B01N4C7SBS', 'B01N5Y1J8D']",
         "['1534000712', '1534000518', '1534000577', 'B06X9F9WLC', 'B01GCA7NCO', 'B01LZ3PPEM', 'B06XGLZTXS', 'B01MTB96LD', 'B015DGB9AU', '1534000593', '1534000569', 'B07FV6GC74', 'B0767PKX5H', 'B078BPHN81', 'B00DJV4Q8O', 'B008CC8UXC', 'B00BI1TWKO', 'B01MR891HM', '1534000550', 'B018JEKJ5Y', 'B07GBN3JR4', 'B01DOHZH62', 'B01BKSERH2', 'B06XT9B6LP', 'B07C1JS8GS', 'B073QSD7XT', 'B01B8AA51E', 'B073R9XRFJ', 'B0775S344W', 'B01MS9LP25']",
         "483,477 in Health & Household ("
        ],
        [
         "483",
         "1560214511",
         "['Toys & Games', 'Stuffed Animals & Plush Toys', 'Stuffed Animals & Teddy Bears']",
         "Nosy Barker Dog House with Cuddly Plush Dog and Board Book",
         "",
         "[]",
         "[]",
         "2,289,461 in Beauty & Personal Care ("
        ],
        [
         "487",
         "1564518124",
         "['Toys & Games', 'Arts & Crafts', 'Stickers']",
         "Carson Dellosa Ideal School Supply Pattern Blocks Stickers (1564518124)",
         "$12.48",
         "['B014F7TK4A', 'B004DJ65XK', 'B00M1HBEUU', 'B005FG5L12', 'B000XP25UA', 'B07F7KFX8V', '1936023393', 'B007VBXB48', 'B001D8OJ8W', '1771380160', '0525579648', '0399246533', '0761461809', '032507822X', 'B0017OE7PC', '0152063420', 'B07C3C55WD', '032507433X', 'B00CBAWIIY', 'B01N9R50K3', 'B0006PKZ18', 'B00009YOMM', 'B00UMD69PK', 'B000URL2NW', 'B07CQ5DQ1N', '1931636850', 'B00005NN5I', '0439206375', '0439152852', 'B003U6OVEM', 'B005V9W35K', '0140556400', 'B003U6KWM2', '158089061X', '1250152445', 'B0017D9BDG', 'B000OMI8OO', '1625310803', '0761456864', '0439459486', '1582460787', '0982993803', '0399234446', 'B00006IFH0', '0688091717', '1432953370', 'B00004WKPP', '160115318X', '0761455299', '0205580955', 'B003FQ1VMM', 'B06ZYWZPKF', 'B00OQQ01DK', 'B01G702ALS', '0769000592', '0545042208', 'B01N1UUHP4', '0823440559', 'B00006IQC9', '0618152415', 'B004LETI86', '0807575925', '0517885565', '0763626317', '0439554381', '1880000547', 'B000FA6AUE', '0325092508', 'B0013CDH8G', 'B015E7DXSO', '1503902587', '0823420140', 'B002DG50FY', '1570913889', '1452112339', '1558586741', '1976966175', 'B079SSQVML', '1931636869', '0689817223', 'B003U6VRXA', '1626723214', '1426317433', 'B07GXZ2GTG', 'B079WPVB4R', '1101996943', 'B00B7XWFC0', 'B014V0M624', 'B00361NV88', 'B0746CVHDN', 'B006SDC9VG']",
         "[]",
         "23,527 in Industrial & Scientific ("
        ],
        [
         "773",
         "1605380067",
         "['Toys & Games', 'Learning & Education', 'Mathematics & Counting']",
         "Thinkwell Calculus",
         "",
         "[]",
         "[]",
         "22,912 in Software ("
        ],
        [
         "781",
         "1607179598",
         "['Toys & Games', 'Learning & Education']",
         "Rosetta Stone Homeschool Japanese Level 1-3 Set including Audio Companion",
         "",
         "['4805311444', '1572229195', '1572229128']",
         "['0307478653', 'B07C132GJP', 'B07HGBDWG9', 'B07HGH8116', 'B07BWKMH62', '0743550722', 'B07GLW52G1', '0976998122']",
         "3,428 in Software ("
        ],
        [
         "1008",
         "1634060326",
         "['Toys & Games', 'Learning & Education', 'Mathematics & Counting']",
         "VersaTiles Math Books Grade 3 (Fractions: Fractions as Numbers)",
         "$9.95",
         "['1634060288', '1634062361', '1634061233', '1634062396', 'B01DTIFMRA', '1634062388', '1634060385', '1634062426', '163406237X']",
         "['B01DL7LUDY', '163406206X', 'B01N1UUHP4', 'B00I00NIDS', 'B01DTIFMSO', '1634061047', '1634061233']",
         "372,303 in Industrial & Scientific ("
        ],
        [
         "1029",
         "1843524317",
         "['Toys & Games', \"Kids' Electronics\", 'Electronic Learning Toys']",
         "EuroTalk Talk Now, Turkmen",
         "",
         "[]",
         "[]",
         "41,468 in Software ("
        ],
        [
         "1070",
         "1886846677",
         "['Toys & Games', 'Games', 'Board Games']",
         "CT-ART 4.0 Chess Tactics Training Software",
         "",
         "[]",
         "['B01EX7HHPG', 'B00H806QN0', 'B00023XXMM']",
         "12,994 in Software ("
        ],
        [
         "1096",
         "1928027849",
         "['Toys & Games', 'Games', 'Standard Playing Card Decks']",
         "Build Your Alef-Bet Hebrew Vowel Display Cards (11&quot;x8&quot;)",
         "$18.99",
         "[]",
         "[]",
         "1,892,840 in Sports & Outdoors ("
        ],
        [
         "1206",
         "1933622199",
         "['Toys & Games', 'Hobbies', 'Hobby Building Tools & Hardware', 'Magnifying Tools']",
         "Lighted Folding Magnifier",
         "$12.79",
         "[]",
         "['B012ID4XAE', 'B017MVQ0NU', 'B000C6YIT6', 'B01LWNE1DO', 'B01HM6RA8O', 'B00Z6T9TXE', 'B07DZTDRDR', 'B078XXN9YY', 'B071P9D34W', 'B01IWW5TD0', 'B073Y53GQ3', 'B013SYSQ6E', 'B07FZ7GY3B', 'B0734GS581', 'B018I1S2Q6', 'B01H4PNREY', 'B077W95VHB', 'B07C2QXZ5Q', 'B075XL5FB7', 'B07G55FSPX', 'B07BRVG9KL', 'B01A7IUZQ8', 'B077W1SBKW', 'B01N3KOS1E', 'B07F8PHLSN', 'B01FNK0FE2', 'B01EZU5852', '1935009656', 'B07CZ999CB', 'B01H5J8JT2', 'B00XJIN3WM', 'B074VDC2FN', 'B07BLYN9QQ', 'B07HZ1DLHM', 'B07F39XWVH', 'B01J7J41PE', 'B016FPFCQ0', 'B0140WO6KS', 'B00E1Y1OVA', 'B00VKVNS7A', 'B078GR7J9Z', 'B07DJ9GZKH', 'B071LH7GFB', 'B01M7YVH99', 'B06Y68D1GV', 'B01N5WWQZJ', 'B06XWN5FWR', 'B01MS1S06A', 'B06ZZ2P9YC', 'B07BLSLS7D', 'B01HP48ZAK', 'B07B9PXB8J', 'B075WRJPFN']",
         "98,831 in Health & Household ("
        ],
        [
         "1238",
         "1933898097",
         "['Toys & Games', 'Learning & Education', 'Mathematics & Counting']",
         "Bike Smart",
         "",
         "[]",
         "[]",
         "60,007 in Software ("
        ],
        [
         "1246",
         "1934026808",
         "['Toys & Games', 'Learning & Education']",
         "Interventions for All: Phonological Awareness K-2",
         "",
         "['1557663211', '0838805051', '1598571184', '1574712314', '1884548326', '1338113496', '1506326889', '1557664382', '1338298267', '1118845242', '1425806651', '0325108927', '1338257013', '1598570749', '1596470194', '164152104X', '1425811035', 'B00239J64C', 'B00W0J2RBE', '0545223792', '1570351260', 'B00245MO80', '1936981459', '0545074762', 'B00239M6XA', '1571284648', 'B000FA1P5O', '0983199639', '0590372319', '1338161113', '0325099251', '0062388789', '032507433X', '0439282314', '157471936X', '0062386697', '1462511996', '032507822X', 'B008RN7IL6', '1338163450', '0137021062', '1598570935', '0679781595', '0692886192', 'B01CIGX9YM', '1585361666', '0872075079', 'B01AXAO1GA', '1412972159', 'B07CJ2ZXFV', '0876593937', '0983199671', '1462508162', '0823416690', '1862092273', '1604189274', '0325026807', 'B002468D7A', '098319968X', '0205580963', '1462532888', '0325077886', '0134556437', '0134529790', '1849058849', '0153524855', '111908105X', 'B007VBXB48', '0941995321', '0899191630', '1338051962', '0439513839', '1119364914', '0689717385', 'B01KH1CC4I', '0448401681', '1582464502', 'B00AQURHDW', '047091551X', '0061857769', 'B00006IFH0', 'B001GIK6EU', 'B00KIGR9PU', '0590373730', '0325002703']",
         "['1574712314', '1557663211', '1598571184', '1884548326', '1557664382', '1506326889', '0838805051', '1425806651', '1462532888', 'B0157II13M', '1586504703', '0545124093', '0590372319', '1412972159', '0205392342', 'B00RKQUTTE', 'B01AXAO1GA', 'B00W0J2RBE', '0838802001', 'B00B1OOJL0', 'B01FKUSV3M', '1938221125', 'B01HUKVVS2', '1586508830', 'B075H4MH25', '0545067642', '0545074762', '0975957503', '1338113496', '1118845242', 'B00B48GJY8', '1574716921', '0205580955', '0325108927', '1586505246', '1462531512', '1425801447', 'B00GHNRAC0', '1506332358', '0872071804', '0134169786', '1562345249', '1598571621', 'B07B4CWLX6', '1338161113', '157128690X', 'B06Y2KLP4V']",
         "94,949 in Industrial & Scientific ("
        ],
        [
         "1259",
         "1934600105",
         "['Toys & Games', 'Games', 'Standard Playing Card Decks']",
         "Black America 52 Great African Americans Hero Deck Playing cards",
         "$14.50",
         "['B076W2B841', '1572814225', '038548576X', 'B01M6B9JV5', 'B079BYRC5F', 'B079KBSC8D', 'B004BTVNXE', 'B014YZHW4S', 'B00S9RS0W6', 'B00LK0NFMY', 'B0763G6BGS', 'B000NWDL7Y']",
         "['B079BYRC5F', '1572814225', 'B019C2TMFK', 'B000WQUMRI', 'B07L36TY6R', 'B079KBSC8D', 'B07HNN36CQ', 'B00MCU9SAE', 'B01MSZOOJ9', 'B07L37MCVK', 'B078HXWVP9', 'B004BTVNXE', 'B0018DPOMM', 'B01ESWPBE0', 'B014YZHW4S', 'B076W2B841', 'B000NWDL7Y', '087654488X', '1634178904', '0152085661', '0912517182', '0764903284', 'B0779SDD4Q', 'B006CVFT0W', 'B07BMWXCMV', 'B000JWKTNC', 'B000NWDL88', 'B00YYSCJ8K', '038548576X', 'B00ARBZJCQ', 'B00AYPD4U4', '0691058008', 'B071GNZMBV', 'B01L9UXB78', 'B0798HJF5D', 'B01ESWPPB4', '099659373X', 'B005FYG8H0', '1572814551', 'B0119K8ILW', 'B07CY7XCHT', 'B018OO7SU8', 'B07JNVG2N3', 'B071192JRT', 'B017L193RG', 'B008Z1XE3Q', 'B075M6GBJF', 'B018YRQ4W8', 'B000E8QVII', 'B078HLBMM4', 'B06XZTZ7GB']",
         "153,433 in Sports & Outdoors ("
        ],
        [
         "1260",
         "1934600237",
         "['Toys & Games', 'Games', 'Standard Playing Card Decks']",
         "HeroDecks - U.S. Marines Battle Heros Playing Cards - USMC",
         "$12.39",
         "['B00OCAH49O']",
         "['B00OCAH49O', 'B00M7PZC4U', 'B018YTW9LG', 'B01L9UXB78', 'B071LN4TQD', 'B01ESWPBE0', 'B07D5HJKKG', 'B00AYPD4U4', 'B00LMHAOUG', 'B00001QHVP', 'B00P1RFKVQ', 'B071CF1LT6', 'B01ESWPPB4', 'B0799J11ZD', 'B07CLD1G4Q', 'B0744M8GFC', 'B00JU3UNW8', 'B076SRNWHY', 'B07DGMJNJ1', 'B007EV0WFG', 'B073ZPWGMV', 'B01FSZ95EI', 'B076MQ26BS', 'B073WQC5XY', 'B0765K97CK', 'B00WIZ8MW8', 'B079P7PBR7', 'B01LWNUWRI', 'B0799HLMTY', 'B0799D7M8N', 'B077T244PS', 'B01EB7Z6L0', 'B078J11QR8', 'B01BH6UZJG', 'B001MUH10E', 'B00GXKETC6', 'B07CKF2X67', 'B003N346L0', 'B0798HGCTV', 'B073S145JY', 'B00ARBZJCQ', 'B0140U2CKQ', 'B01ESWPIH0', 'B071CPJVRC', 'B00MORX5VI', 'B0195MAVFC', 'B075M6GBJF', 'B01M3V14IL', 'B078HXWVP9', 'B07CBQVT1L']",
         "154,103 in Sports & Outdoors ("
        ],
        [
         "1264",
         "193550259X",
         "['Toys & Games', 'Learning & Education', 'Mathematics & Counting']",
         "Place Value Disks (1-3) 100 Hundreds Disks - Singapore Math (Crystal Springs Books)",
         "$13.43",
         "['1934026468', '193402645X', '1936266539', 'B01AXBHE1I', '1936266423', '1936266504', '1934026476', '1935502743', 'B00AQURHDW', '1936266555', 'B00006IEI4', '1936266369', 'B01N1ISUZ0', '1338161113', '1936266563', '1936266512', 'B000QDTYMQ', '0547199457', 'B01AXBHEJ0', '1934026506', 'B01HTL4OSQ', 'B00K6XJSWM', '0982993803', '006246776X', 'B016DU8R9Q']",
         "[]",
         "123,154 in Industrial & Scientific ("
        ],
        [
         "1266",
         "1935502948",
         "['Toys & Games', 'Learning & Education', 'Mathematics & Counting']",
         "Essential Learning Products Subitizing Cards",
         "",
         "['1935502921', 'B00AQURHDW', 'B016DU8RWS', '1583246770', 'B004DJ66CA', 'B01C4X6UY0', '1936266334', 'B06XCT8JDX', 'B01KXVBPEU', 'B00YW63V3Q', '1571107908', 'B000URFT90', 'B00HT5HCZA', '1935099655', 'B000F8T8VY', 'B00I00NK7M', '1425817289', 'B004DIZ7H6', 'B00I00NIDS', 'B0036ZSENQ', 'B01KZBBPKM', 'B0017D9BDG', 'B01GKHFMIG', '1934026263', '1935099752', '1338161113', 'B00W0J2RBE', 'B00K6XJSWM', 'B016DU8SM2', '0134556437', 'B00TP1UA00', 'B072WCN3F3', 'B005DS5MDO', 'B000F8R4TC', '1883672546', 'B006ZMO044', '1564517764', 'B01N1UUHP4', 'B00HT5HD8G', 'B000FA6DXS', 'B00CBAWIIY', '032507433X', 'B004DJ1CFQ', '1119358809', 'B0006MUBPQ', '032507822X', 'B014PA7CE2', '140484788X', 'B0034IQB80', '193402659X', 'B00006IFH6', '1604189274', 'B00005NN5I', 'B00006IFH0', 'B00006IEI4', '1771380160', 'B00405KCAE', '1402255446', '1483816974', '0152057447', 'B00004WKPM', '1582464502', 'B007VBXB48', '0395562333', 'B07KJKVNT6', 'B00N53UJ7S', 'B01AXCG18Y', '158324672X', 'B072P6DH9Y', '0941355772', '1483838455', 'B000F8V4SY', 'B0746CVHDN', 'B0015KA676']",
         "['1936266334', 'B01N1UUHP4', 'B06XCT8JDX', '1936266326', '1934026263', 'B01HUKH2SU', 'B00AQURHDW', 'B0036ZSENQ', 'B076M58QZ2', 'B06XCT8GYC', 'B07643FK83', 'B0792J1YX7', '1935502921', 'B06XD6RCTK', 'B00CFNFW0S', 'B00004WKPM', '1612438911', '1571107908', '1612437273', '1935099655', 'B078YM5N5L', 'B00004TDLD', 'B00YW63V3Q', 'B0786SKYY5', 'B00EBCDXCA', 'B016DU8SM2', 'B000F8VBBO', 'B0036ZQ8KC', 'B0746CVHDN', 'B004DIZ7H6', '111935871X', '0470894520', 'B000URL296', 'B0013CDGT6', 'B0131RG6VK']",
         "97,050 in Industrial & Scientific ("
        ],
        [
         "1268",
         "1935502603",
         "['Toys & Games', 'Learning & Education']",
         "Essential Learning Products Teach Like a Techie with Apps! Aid",
         "$15.85",
         "[]",
         "[]",
         "336,038 in Industrial & Scientific ("
        ],
        [
         "1293",
         "1936023407",
         "['Toys & Games', 'Party Supplies']",
         "Carson-Dellosa CD-101022 Graduation Crowns, Pack of 30",
         "$17.98",
         "['B000SMDZIO', 'B000GAUHIO', 'B0006HXTYQ', 'B0015KEOZQ', 'B001NNVXC2', '1936023393', 'B000NNFYUU', 'B00OV443FY', '0761458077', 'B000KIEHTW', 'B000F8XLLM', 'B00OQUGOKU', 'B007VBXB48', 'B004E2Q6KS', 'B0088PHTDK', 'B01BTXXNJQ', 'B078HHGMFT', 'B000NNNWSQ', 'B00IUK8HWK', 'B00CSUK1KY', 'B00CBAWIIY', 'B008XDXU44', '0142410608', 'B00CXAX96W', 'B00KMUVX18', 'B009D9Y6SG', '0448456249', 'B000QE09CE', 'B072J956X7', 'B000KIE8S2', 'B01AXBFJRO', '0020437501', '1718772114', 'B07FNXXZ9G', 'B0013CDGT6', 'B00006IEI4', 'B004QP486W', '1609965744', 'B00AQURG0Q', 'B00D5SW26E', '0439152852', '0142500194', '1416967885', 'B00620EIO6', 'B072FHQQKN', '0325062560', 'B01LC4IRHA', 'B003U6N1DE', 'B071ZFX9CG', 'B000FA1KJ0', 'B0002T3WLS', '1416967893', 'B0155IJH00', '193787043X', 'B00JM5GZGW', 'B000F8T8UU', 'B01N55CEUZ', '044842830X', 'B00JKHFRCU', 'B00BWU3HNY', 'B000F8XF8Q', '1604186666', 'B016IPL5MM', '0064432106', '0899191630', 'B01LWOIMJN', 'B004D9DMMW', 'B006SDC9VG', 'B002LARR76', 'B00361NV88', 'B000J07C1G', 'B013J8CWC8', 'B0194D3KW8']",
         "[]",
         "58,444 in Industrial & Scientific ("
        ],
        [
         "1343",
         "1936981564",
         "['Toys & Games', 'Learning & Education']",
         "SnapWords Mini-Lessons",
         "$14.95",
         "['B00239J64C', '1936981459', 'B00239M6XA', 'B00245MO80', 'B07CJ2ZXFV', 'B002468D7A', 'B002463W3K', 'B00BZ78HH0', 'B002460BVQ', 'B00BZ47ZGW', 'B001BJY7VC', 'B01NCNLLWD', 'B002466RTG', '1936981548', 'B0716K2WH2', '0982987307', 'B0015KCBJM', '0983199671', '0982987331', '1338161113', '0545842816', '0698115724', '1338256572', 'B00W0J2RBE', '1936981181', '1425816347', 'B01NBGYIUX', '0982987323', '1338298267', '1936981432', 'B006ZMO044', '1936981793', 'B01ETS3HGC', '0061692867', 'B00TP1UA00', 'B013HLF8ZA', 'B0015K7G1U', '0983199639', '1936981890', '1931636877', 'B001GIK6EU', '1338226789', 'B0024674GG', 'B002IXEFFI', 'B0029ZAUZO', '0761456864', '0743932250', '0838804918', '0152024808', '0325092508', '1934490989', '0838804896', 'B0792J1YX7', '0325089396', 'B00B7XWF7K', '0137057008', 'B01EARLHX2', '0439365627', 'B00JNO6YRM', '1506326889', '0325060789', 'B000CD0SRA', 'B00BZ4UPI2', '0062192264', 'B071NX7HPT', '0545019214', '1557996555', '032507822X', '0838814603', '1571107282', 'B005F5D6GU', '1423187547', '1338163450', '1947484001', 'B007VBXB48', '0763619612', '1934490431', 'B01LQRWIBO', 'B000URSHEE', 'B01EARLIVI', '1338132903', 'B06XXTLQNH', '1936981211', 'B004DJ52N4', 'B002S3RW62', 'B0015KA676', 'B002KIIGPQ', 'B007DYY5SO', 'B00W0J2QZ6', 'B01NCOV3NS']",
         "[]",
         "74,065 in Industrial & Scientific ("
        ],
        [
         "1424",
         "386681092X",
         "['Toys & Games', 'Games', 'Board Games']",
         "Chessbase 10 Starter Package",
         "",
         "[]",
         "[]",
         "31,547 in Software ("
        ],
        [
         "1429",
         "3870295813",
         "['Toys & Games', 'Hobbies', 'Models & Model Kits', 'Model Kits', 'Figure Kits']",
         "Aue Verlag Schreiber-Bogen Cardboard Villa Braun Metzingen",
         "",
         "[]",
         "[]",
         "678,911 in Industrial & Scientific ("
        ],
        [
         "1442",
         "5550048523",
         "['Toys & Games', 'Games', 'Standard Playing Card Decks']",
         "The U.S. Playing Card Co. Jeff Gordon Playing Cards in a Tin with 2 Decks",
         "$10.49",
         "[]",
         "[]",
         "1,057,049 in Sports & Outdoors ("
        ],
        [
         "1461",
         "6301589467",
         "['Toys & Games', 'Hobbies', 'Trains & Accessories', 'Accessories']",
         "History of Lionel Trains VHS",
         "",
         "[]",
         "[]",
         "335,741 in Movies & TV ("
        ],
        [
         "1462",
         "6306203230",
         "['Toys & Games', 'Games', 'DVD Games']",
         "Ben Hogan: In Pursuit Of Perfection DVD",
         "$28.45",
         "[]",
         "[]",
         "1,890,827 in Sports & Outdoors ("
        ],
        [
         "1508",
         "832520950X",
         "['Toys & Games', 'Hobbies', 'Models & Model Kits', 'Pre-Built & Diecast Models', 'Vehicles', 'Ground Vehicles']",
         "Renault 4CV - 1947 diecast 1:43 model (Amercom SD-10)",
         ".a-box-inner{background-color:#fff}#alohaBuyBoxWidget .selected{background-color:#fffbf3;border-color:#e77600;box-shadow:0 0 3px rgba(228,121,17,.5)}#alohaBuyBoxWidget .contract-not-available{color:gray}#aloha-cart-popover .aloha-cart{height:auto;overflow:hidden}#aloha-cart-popover #aloha-cartInfo{float:left}#aloha-cart-popover #aloha-cart-details{float:right;margin-top:1em}#aloha-cart-popover .deviceContainer{width:160px;float:left;padding-right:10px;border-right:1px solid #ddd}#aloha-cart-popover li:last-child{border-right:0}#aloha-cart-popover .aloha-device-title{height:3em;overflow:hidden}#aloha-cart-popover .aloha-thumbnail-container{height:100px;margin-bottom:1em;text-align:center}#aloha-cart-popover .aloha-price-container{text-align:center}#aloha-cart-popover .aloha-thumbnail-container img{height:inherit}#aloha-cart-popover .aloha-cart{border-top:1px solid #ddd;border-bottom:1px solid #ddd}#aloha-cart-popover #aloha-cart-info{margin-right:0}#alohaBuyBoxWidget .without-contract-subheading{margin-right:0}#aloha-bb-help-nodes .aloha-bb-contract-term-heading{color:gray;font-family:arial;margin-top:.5em;text-align:center;height:.7em;border-bottom:1px solid gray;margin-bottom:1.6em}#aloha-bb-help-nodes .aloha-bb-contract-term-heading span{background-color:#fff;padding:0 10px 0 10px}#alohaAvailabilityUS_feature_div .availability a{text-decoration:none}#alohaPricingWidget a{text-decoration:none}#alohaAvailabilityUS_feature_div .availability{margin-top:-4px;margin-bottom:0}#alohaBuyBoxWidget .select-transaction-alert .a-icon-alert{top:18px;left:3px}#alohaBuyBoxWidget .select-transaction-alert .a-alert-container{padding-left:39px;width:290px}#alohaBuyBoxUS_feature_div #alohaBuyBoxWidget .contract-container .contract-term-heading a{text-decoration:none}#alohaBuyBoxUS_feature_div #alohaBuyBoxWidget .annual-contract-box .a-icon-popover{display:none}#alohaBuyBoxUS_feature_div #alohaBuyBoxWidget .contract-container .annual-contract-box{cursor:pointer;cursor:hand}#alohaBuyBoxUS_feature_div #alohaBuyBoxWidget .aloha-buybox-price{font-size:15px}#alohaBuyBoxUS_feature_div #alohaBuyBoxWidget #linkOffSection a{text-decoration:none}#alohaBuyBoxUS_feature_div .lockedUsedBuyboxContainer{padding-left:3.5%}#alohaBuyBoxUS_feature_div .alohaBuyboxUtilsNoWrap{white-space:nowrap}.hidden{display:none}.simo-no-padding{padding:0}.carrier-reviews-cell{padding-left:10px}.carrier-reviews-bordered-cell{border:1px dotted #ccc}.carrier-reviews-selected-cell{background-color:#ffd}#aloha-carrier-compatibility-modal-table-description{margin-top:10px;margin-bottom:14px}.aloha-carrier-compatibility-sortable-header.carrier{min-width:97px}.aloha-carrier-compatibility-sortable-header.compatibility{min-width:156px}.aloha-carrier-compatibility-sortable-header div{float:left}.aloha-carrier-compatibility-sortable-header i.a-icon{margin-left:10px;margin-top:4px}#aloha-carrier-compatibility-overview-table.a-bordered.a-vertical-stripes td:nth-child(2n),#aloha-carrier-compatibility-overview-table.a-bordered.a-vertical-stripes th:nth-child(2n){background-color:initial}#aloha-carrier-compatibility-modal-table.a-bordered.a-vertical-stripes td:nth-child(2n),#aloha-carrier-compatibility-modal-table.a-bordered.a-vertical-stripes th:nth-child(2n){background-color:initial}#aloha-carrier-compatibility-table.a-bordered.a-vertical-stripes th:nth-child(2n),.aloha-carrier-compatibility-table.a-bordered.a-vertical-stripes td:nth-child(2n){background-color:transparent}.aloha-carrier-compatibility-column-gray{background-color:#f6f6f6}.aloha-carrier-compatibility-modal-table-row .aloha-carrier-compatibility-tech-text,.aloha-carrier-compatibility-modal-table-row .carrier-name,.aloha-carrier-compatibility-modal-table-row .carrier-rating-summary{min-height:27px;display:inline-block;cursor:default}.aloha-carrier-compatibility-modal-table-row .aloha-carrier-compatibility-tech-text:first-line,.aloha-carrier-compatibility-modal-table-row .carrier-name:first-line,.aloha-carrier-compatibility-modal-table-row .carrier-rating-summary:first-line{line-height:27px}.aloha-carrier-compatibility-modal-table-row .aloha-carrier-compatibility-icon{margin-top:6px}.aloha-carrier-compatibility-check-icon{width:30px;height:27px;background-position:-318px -35px;background-image:url(https://images-na.ssl-images-amazon.com/images/G/01/AUIClients/AmazonUIBaseCSS-sprite_2x-8e7ef370dc28a214b3f490c9620f4ac501d5a864._V2_.png);background-repeat:no-repeat;background-size:400px 650px;display:inline-block;vertical-align:top}.aloha-carrier-compatibility-hidden{display:none}.aloha-buybox-spaced-link{margin-top:12px;margin-bottom:7px;text-align:center}.popover-tab",
         "[]",
         "[]",
         "4,128,216 in Sports & Outdoors ("
        ],
        [
         "1560",
         "8325210370",
         "['Toys & Games', 'Toy Remote Control & Play Vehicles', 'Die-Cast Vehicles']",
         "ZIS 101A - 1940 diecast 1:43 model (Amercom SD-48)",
         "$19.95",
         "[]",
         "[]",
         "2,482,796 in Sports & Outdoors ("
        ],
        [
         "1594",
         "8325200278",
         "['Toys & Games', 'Toy Remote Control & Play Vehicles', 'Die-Cast Vehicles']",
         "Oshkosh Crash Fire Truck Diecast 1:64 Model (Amercom GB-3)",
         "$29.00",
         "['8325219327', '832522097X', '832521192X', '8325220929', '8325220953', '8325220902', '8325220945', '8325220899', '8325220937', 'B01N34YI5R', 'B007KO87KY', 'B0732YVSPN', 'B00C1ES7LW', 'B00LAEC9Z4', 'B010KFXN80', '8325200286', '8325220961', 'B01E9IZPQM']",
         "[]",
         "525,010 in Sports & Outdoors ("
        ],
        [
         "1616",
         "8326109568",
         "['Toys & Games', 'Hobbies', 'Models & Model Kits', 'Pre-Built & Diecast Models', 'Airplanes & Jets']",
         "Avro Vulcan B Mk 2 diecast 1:144 model (Amercom LB-6)",
         "$29.00",
         "['B01D6ODLDE', '8373852123', 'B01IO3IGSC', 'B00SARI5RA']",
         "['B01H98YJAW', 'B01D6ODLDE', 'B077HSLQ39', 'B01IO3IGSC', 'B0021L9C8W', 'B01MRKPAAU', 'B004VUL32E', '8326111066', '8373852123', '8325208724', 'B00SARHPVM', 'B00SARHP9O']",
         "328,987 in Sports & Outdoors ("
        ],
        [
         "1678",
         "8326109584",
         "['Toys & Games', 'Hobbies', 'Models & Model Kits', 'Pre-Built & Diecast Models', 'Airplanes & Jets']",
         "Dornier Do 17 diecast 1:144 model (Amercom LB-8)",
         ".a-box-inner{background-color:#fff}#alohaBuyBoxWidget .selected{background-color:#fffbf3;border-color:#e77600;box-shadow:0 0 3px rgba(228,121,17,.5)}#alohaBuyBoxWidget .contract-not-available{color:gray}#aloha-cart-popover .aloha-cart{height:auto;overflow:hidden}#aloha-cart-popover #aloha-cartInfo{float:left}#aloha-cart-popover #aloha-cart-details{float:right;margin-top:1em}#aloha-cart-popover .deviceContainer{width:160px;float:left;padding-right:10px;border-right:1px solid #ddd}#aloha-cart-popover li:last-child{border-right:0}#aloha-cart-popover .aloha-device-title{height:3em;overflow:hidden}#aloha-cart-popover .aloha-thumbnail-container{height:100px;margin-bottom:1em;text-align:center}#aloha-cart-popover .aloha-price-container{text-align:center}#aloha-cart-popover .aloha-thumbnail-container img{height:inherit}#aloha-cart-popover .aloha-cart{border-top:1px solid #ddd;border-bottom:1px solid #ddd}#aloha-cart-popover #aloha-cart-info{margin-right:0}#alohaBuyBoxWidget .without-contract-subheading{margin-right:0}#aloha-bb-help-nodes .aloha-bb-contract-term-heading{color:gray;font-family:arial;margin-top:.5em;text-align:center;height:.7em;border-bottom:1px solid gray;margin-bottom:1.6em}#aloha-bb-help-nodes .aloha-bb-contract-term-heading span{background-color:#fff;padding:0 10px 0 10px}#alohaAvailabilityUS_feature_div .availability a{text-decoration:none}#alohaPricingWidget a{text-decoration:none}#alohaAvailabilityUS_feature_div .availability{margin-top:-4px;margin-bottom:0}#alohaBuyBoxWidget .select-transaction-alert .a-icon-alert{top:18px;left:3px}#alohaBuyBoxWidget .select-transaction-alert .a-alert-container{padding-left:39px;width:290px}#alohaBuyBoxUS_feature_div #alohaBuyBoxWidget .contract-container .contract-term-heading a{text-decoration:none}#alohaBuyBoxUS_feature_div #alohaBuyBoxWidget .annual-contract-box .a-icon-popover{display:none}#alohaBuyBoxUS_feature_div #alohaBuyBoxWidget .contract-container .annual-contract-box{cursor:pointer;cursor:hand}#alohaBuyBoxUS_feature_div #alohaBuyBoxWidget .aloha-buybox-price{font-size:15px}#alohaBuyBoxUS_feature_div #alohaBuyBoxWidget #linkOffSection a{text-decoration:none}#alohaBuyBoxUS_feature_div .lockedUsedBuyboxContainer{padding-left:3.5%}#alohaBuyBoxUS_feature_div .alohaBuyboxUtilsNoWrap{white-space:nowrap}.hidden{display:none}.simo-no-padding{padding:0}.carrier-reviews-cell{padding-left:10px}.carrier-reviews-bordered-cell{border:1px dotted #ccc}.carrier-reviews-selected-cell{background-color:#ffd}#aloha-carrier-compatibility-modal-table-description{margin-top:10px;margin-bottom:14px}.aloha-carrier-compatibility-sortable-header.carrier{min-width:97px}.aloha-carrier-compatibility-sortable-header.compatibility{min-width:156px}.aloha-carrier-compatibility-sortable-header div{float:left}.aloha-carrier-compatibility-sortable-header i.a-icon{margin-left:10px;margin-top:4px}#aloha-carrier-compatibility-overview-table.a-bordered.a-vertical-stripes td:nth-child(2n),#aloha-carrier-compatibility-overview-table.a-bordered.a-vertical-stripes th:nth-child(2n){background-color:initial}#aloha-carrier-compatibility-modal-table.a-bordered.a-vertical-stripes td:nth-child(2n),#aloha-carrier-compatibility-modal-table.a-bordered.a-vertical-stripes th:nth-child(2n){background-color:initial}#aloha-carrier-compatibility-table.a-bordered.a-vertical-stripes th:nth-child(2n),.aloha-carrier-compatibility-table.a-bordered.a-vertical-stripes td:nth-child(2n){background-color:transparent}.aloha-carrier-compatibility-column-gray{background-color:#f6f6f6}.aloha-carrier-compatibility-modal-table-row .aloha-carrier-compatibility-tech-text,.aloha-carrier-compatibility-modal-table-row .carrier-name,.aloha-carrier-compatibility-modal-table-row .carrier-rating-summary{min-height:27px;display:inline-block;cursor:default}.aloha-carrier-compatibility-modal-table-row .aloha-carrier-compatibility-tech-text:first-line,.aloha-carrier-compatibility-modal-table-row .carrier-name:first-line,.aloha-carrier-compatibility-modal-table-row .carrier-rating-summary:first-line{line-height:27px}.aloha-carrier-compatibility-modal-table-row .aloha-carrier-compatibility-icon{margin-top:6px}.aloha-carrier-compatibility-check-icon{width:30px;height:27px;background-position:-318px -35px;background-image:url(https://images-na.ssl-images-amazon.com/images/G/01/AUIClients/AmazonUIBaseCSS-sprite_2x-8e7ef370dc28a214b3f490c9620f4ac501d5a864._V2_.png);background-repeat:no-repeat;background-size:400px 650px;display:inline-block;vertical-align:top}.aloha-carrier-compatibility-hidden{display:none}.aloha-buybox-spaced-link{margin-top:12px;margin-bottom:7px;text-align:center}.popover-tab",
         "['8373852123', 'B00VIDSBZE', '8326111066', '8325208813', '8325208724', '8326112127', 'B01IO3IGSC', '8326109576', '8325213159', 'B0006O225G', '8325208805', '8325217618', 'B0006MZP2K', '8326109525', 'B00TVFZLYU', 'B002OE1HV6', 'B01NBXQMQ9', 'B00SARI0R0', 'B017BDP0I0', '8325208325', '837385214X', 'B00SARIHMI', '8325213027', 'B00BQR4SF4', '8326111988', '8325213086', 'B074BBD677', 'B074B8QLK4', 'B00SARI5RA', 'B00I44DO98', 'B01D6ODCA6', 'B00SARHO2C']",
         "['B00VIDSBZE', 'B01D6ODS9Q', '8325208813', 'B071Z7B11W', 'B018QDWJVK', '8325213159', '8325217626', '8325213027', 'B07GCBH8T8', 'B071JDRLCP', 'B01IO3IGSC', '8326111066', 'B00SARHP2G', '8373852123', 'B0072HCK7U', 'B002NGHUNE', 'B078FHCJTY', 'B07G98X16D', 'B00TVFZLYU', 'B01D6ODCA6', '8326110310', '8325208805', 'B00I44DO98', 'B002OE1HV6']",
         "863,798 in Sports & Outdoors ("
        ],
        [
         "1691",
         "8326109592",
         "['Toys & Games', 'Hobbies', 'Models & Model Kits', 'Pre-Built & Diecast Models', 'Airplanes & Jets']",
         "Lockheed F-117 Nighthawk diecast 1:144 model (Amercom LB-9)",
         "",
         "['B00SARHP2G', 'B00SARHPVM', '8325212977', 'B01D6ODLDE', '8325208295', '8325213086']",
         "['B0723DYRJL']",
         "766,091 in Sports & Outdoors ("
        ],
        [
         "1712",
         "8373850651",
         "['Toys & Games', 'Hobbies', 'Trains & Accessories', 'Train Cars', 'Locomotives', 'Steam']",
         "No. 46203 Princess Margaret Rose - 1935 Diecast 1:76 Scale Locomotive Model (Amercom OO-19)",
         ".a-box-inner{background-color:#fff}#alohaBuyBoxWidget .selected{background-color:#fffbf3;border-color:#e77600;box-shadow:0 0 3px rgba(228,121,17,.5)}#alohaBuyBoxWidget .contract-not-available{color:gray}#aloha-cart-popover .aloha-cart{height:auto;overflow:hidden}#aloha-cart-popover #aloha-cartInfo{float:left}#aloha-cart-popover #aloha-cart-details{float:right;margin-top:1em}#aloha-cart-popover .deviceContainer{width:160px;float:left;padding-right:10px;border-right:1px solid #ddd}#aloha-cart-popover li:last-child{border-right:0}#aloha-cart-popover .aloha-device-title{height:3em;overflow:hidden}#aloha-cart-popover .aloha-thumbnail-container{height:100px;margin-bottom:1em;text-align:center}#aloha-cart-popover .aloha-price-container{text-align:center}#aloha-cart-popover .aloha-thumbnail-container img{height:inherit}#aloha-cart-popover .aloha-cart{border-top:1px solid #ddd;border-bottom:1px solid #ddd}#aloha-cart-popover #aloha-cart-info{margin-right:0}#alohaBuyBoxWidget .without-contract-subheading{margin-right:0}#aloha-bb-help-nodes .aloha-bb-contract-term-heading{color:gray;font-family:arial;margin-top:.5em;text-align:center;height:.7em;border-bottom:1px solid gray;margin-bottom:1.6em}#aloha-bb-help-nodes .aloha-bb-contract-term-heading span{background-color:#fff;padding:0 10px 0 10px}#alohaAvailabilityUS_feature_div .availability a{text-decoration:none}#alohaPricingWidget a{text-decoration:none}#alohaAvailabilityUS_feature_div .availability{margin-top:-4px;margin-bottom:0}#alohaBuyBoxWidget .select-transaction-alert .a-icon-alert{top:18px;left:3px}#alohaBuyBoxWidget .select-transaction-alert .a-alert-container{padding-left:39px;width:290px}#alohaBuyBoxUS_feature_div #alohaBuyBoxWidget .contract-container .contract-term-heading a{text-decoration:none}#alohaBuyBoxUS_feature_div #alohaBuyBoxWidget .annual-contract-box .a-icon-popover{display:none}#alohaBuyBoxUS_feature_div #alohaBuyBoxWidget .contract-container .annual-contract-box{cursor:pointer;cursor:hand}#alohaBuyBoxUS_feature_div #alohaBuyBoxWidget .aloha-buybox-price{font-size:15px}#alohaBuyBoxUS_feature_div #alohaBuyBoxWidget #linkOffSection a{text-decoration:none}#alohaBuyBoxUS_feature_div .lockedUsedBuyboxContainer{padding-left:3.5%}#alohaBuyBoxUS_feature_div .alohaBuyboxUtilsNoWrap{white-space:nowrap}.hidden{display:none}.simo-no-padding{padding:0}.carrier-reviews-cell{padding-left:10px}.carrier-reviews-bordered-cell{border:1px dotted #ccc}.carrier-reviews-selected-cell{background-color:#ffd}#aloha-carrier-compatibility-modal-table-description{margin-top:10px;margin-bottom:14px}.aloha-carrier-compatibility-sortable-header.carrier{min-width:97px}.aloha-carrier-compatibility-sortable-header.compatibility{min-width:156px}.aloha-carrier-compatibility-sortable-header div{float:left}.aloha-carrier-compatibility-sortable-header i.a-icon{margin-left:10px;margin-top:4px}#aloha-carrier-compatibility-overview-table.a-bordered.a-vertical-stripes td:nth-child(2n),#aloha-carrier-compatibility-overview-table.a-bordered.a-vertical-stripes th:nth-child(2n){background-color:initial}#aloha-carrier-compatibility-modal-table.a-bordered.a-vertical-stripes td:nth-child(2n),#aloha-carrier-compatibility-modal-table.a-bordered.a-vertical-stripes th:nth-child(2n){background-color:initial}#aloha-carrier-compatibility-table.a-bordered.a-vertical-stripes th:nth-child(2n),.aloha-carrier-compatibility-table.a-bordered.a-vertical-stripes td:nth-child(2n){background-color:transparent}.aloha-carrier-compatibility-column-gray{background-color:#f6f6f6}.aloha-carrier-compatibility-modal-table-row .aloha-carrier-compatibility-tech-text,.aloha-carrier-compatibility-modal-table-row .carrier-name,.aloha-carrier-compatibility-modal-table-row .carrier-rating-summary{min-height:27px;display:inline-block;cursor:default}.aloha-carrier-compatibility-modal-table-row .aloha-carrier-compatibility-tech-text:first-line,.aloha-carrier-compatibility-modal-table-row .carrier-name:first-line,.aloha-carrier-compatibility-modal-table-row .carrier-rating-summary:first-line{line-height:27px}.aloha-carrier-compatibility-modal-table-row .aloha-carrier-compatibility-icon{margin-top:6px}.aloha-carrier-compatibility-check-icon{width:30px;height:27px;background-position:-318px -35px;background-image:url(https://images-na.ssl-images-amazon.com/images/G/01/AUIClients/AmazonUIBaseCSS-sprite_2x-8e7ef370dc28a214b3f490c9620f4ac501d5a864._V2_.png);background-repeat:no-repeat;background-size:400px 650px;display:inline-block;vertical-align:top}.aloha-carrier-compatibility-hidden{display:none}.aloha-buybox-spaced-link{margin-top:12px;margin-bottom:7px;text-align:center}.popover-tab",
         "[]",
         "['8373852069', 'B0000WPADK']",
         "2,389,551 in Sports & Outdoors ("
        ],
        [
         "1860",
         "926980870X",
         "['Toys & Games', 'Hobbies', 'Remote & App Controlled Vehicles & Parts', 'Remote & App Controlled Vehicles', 'Cars']",
         "1/10th 2.4Ghz Exceed RC Brushless PRO 2.4Ghz Electric SunFire RTR Off Road Buggy (EE Red)",
         "",
         "[]",
         "[]",
         "1,589,741 in Sports & Outdoors ("
        ],
        [
         "2008",
         "B00000DMBJ",
         "['Toys & Games', 'Games', 'Board Games']",
         "Taboo by Milton Bradley",
         "",
         "[]",
         "[]",
         "753,235 in Pet Supplies ("
        ],
        [
         "2095",
         "B00000ISJA",
         "['Toys & Games', 'Learning & Education', 'Musical Instruments', 'Drums & Percussion']",
         "Musicblocks Rhythms of the World",
         "",
         "[]",
         "[]",
         "1,705,059 in Health & Household ("
        ],
        [
         "2367",
         "B00000IVOY",
         "['Toys & Games', 'Novelty & Gag Toys', 'Magic Kits & Accessories', '10 easy to learn magic tricks for young magicians', 'Easy instructions', 'Carry case included', 'Durable components', 'Entry-level magic tricks']",
         "My First Magic Set",
         "",
         "[]",
         "[]",
         "5,961,984 in Clothing, Shoes & Jewelry ("
        ],
        [
         "2504",
         "B00000J0B7",
         "['Toys & Games', 'Sports & Outdoor Play', 'Play Sets & Playground Equipment']",
         "Spring Swings Deluxe Fun Ride (Colors May Vary)",
         "",
         "[]",
         "[]",
         "432,656 in Sports & Outdoors ("
        ],
        [
         "2609",
         "B00000J4BN",
         "['Toys & Games', 'Sports & Outdoor Play', 'Play Sets & Playground Equipment']",
         "Spring Swings Fun Ride Original Zip Line",
         "",
         "[]",
         "['B00EAWMELM', 'B010E2LT6M', 'B00JRCGWZO', 'B0777N9GG6', 'B01HOTY0LO', 'B01IRM5U84', 'B017KQRVBC', 'B077YQF8MR', 'B010E49386', 'B075TKXGV4', 'B07CVV2RR6', 'B018JPJXYG', 'B0773B3LHC', 'B076DGY3K1', 'B07F6FQ9MQ', 'B077BQRPYC', 'B00AJR8D76', 'B077QTWNYD', 'B00Q2OE1R6']",
         "488,488 in Sports & Outdoors ("
        ],
        [
         "2715",
         "B00000JGK9",
         "['Toys & Games', 'Arts & Crafts', 'Drawing & Sketching Tablets']",
         "Weber Bob Ross Getting Started with Oil Colors VHS",
         "",
         "['B0027A3F6W', 'B0027AAMJK', 'B000CSSASE', 'B000NBAQSC', 'B000E9LEVQ']",
         "['B001U84ZE8', 'B0758HT3RV', 'B000CIF3U2', 'B000IK0EIA', 'B0035KZX9K', 'B00BY6XLW8', '0789332973', 'B008N5J2BW', 'B001CRIM14', '6301474376', 'B0031YPN4K', 'B00PNQNHRY', '1633226522', '6303037011', '1604186445', '0764958429', 'B013MGLRVY', '1586059807']",
         "158,361 in Movies & TV ("
        ],
        [
         "2804",
         "B00000JLR9",
         "['Toys & Games', 'Dolls & Accessories', 'Playsets']",
         "Barbie Cool Looks Fashion Designer",
         "",
         "[]",
         "[]",
         "22,807 in Software ("
        ],
        [
         "2922",
         "B00000K3PW",
         "['Toys & Games', 'Learning & Education', 'Musical Instruments', 'Drums & Percussion']",
         "Hohner 6 Piece Rhythm Instrument Set",
         "$5.24",
         "['B000EEJ6P2', 'B0002F5CQK', 'B0002IBTXW', 'B0002NP4OW', 'B0002F7KUG', 'B0044SAGTY', 'B0002F6Y94', 'B001TR0742', 'B0007ODH90', 'B0006LXW80', 'B000XP0CMS', 'B016TS9O8A', 'B076GXG8B2', 'B000KOZL5K', 'B06ZXRKGB2', 'B000KIHCB2', 'B000QJ02Q2', 'B00IHZYWE0', 'B01GAAGCWS']",
         "[]",
         "24,267 in Industrial & Scientific ("
        ],
        [
         "3081",
         "B00001QH0N",
         "['Toys & Games', 'Games', 'Standard Playing Card Decks']",
         "Limited Edition 1998 Coca-Cola Playing Cards in Collectible Tin Two Decks",
         "$14.50",
         "[]",
         "['B009X273IS']",
         "893,770 in Sports & Outdoors ("
        ],
        [
         "3100",
         "B00001TPWX",
         "['Toys & Games', 'Dress Up & Pretend Play', 'Hats', 'Hidden treasures, ghostly galleons and hero pirates swinging from the rigging will come to mind the minute you put on this skull and crossbones hat! Get ready to set sail!']",
         "Children's Pirate Hat with Skull &amp; Crossbones",
         "$0.59",
         "[]",
         "[]",
         "13,656,778 in Clothing, Shoes & Jewelry ("
        ]
       ],
       "shape": {
        "columns": 7,
        "rows": 19245
       }
      },
      "text/html": [
       "<div>\n",
       "<style scoped>\n",
       "    .dataframe tbody tr th:only-of-type {\n",
       "        vertical-align: middle;\n",
       "    }\n",
       "\n",
       "    .dataframe tbody tr th {\n",
       "        vertical-align: top;\n",
       "    }\n",
       "\n",
       "    .dataframe thead th {\n",
       "        text-align: right;\n",
       "    }\n",
       "</style>\n",
       "<table border=\"1\" class=\"dataframe\">\n",
       "  <thead>\n",
       "    <tr style=\"text-align: right;\">\n",
       "      <th></th>\n",
       "      <th>asin</th>\n",
       "      <th>category</th>\n",
       "      <th>title</th>\n",
       "      <th>price</th>\n",
       "      <th>also_buy</th>\n",
       "      <th>also_view</th>\n",
       "      <th>rank</th>\n",
       "    </tr>\n",
       "  </thead>\n",
       "  <tbody>\n",
       "    <tr>\n",
       "      <th>42</th>\n",
       "      <td>0547775520</td>\n",
       "      <td>[Toys &amp; Games, Learning &amp; Education, Science, ...</td>\n",
       "      <td>Focus on California Science Exam View Test Ban...</td>\n",
       "      <td></td>\n",
       "      <td>[]</td>\n",
       "      <td>[]</td>\n",
       "      <td>56,123 in Software (</td>\n",
       "    </tr>\n",
       "    <tr>\n",
       "      <th>313</th>\n",
       "      <td>0979818214</td>\n",
       "      <td>[Toys &amp; Games, Games, Standard Playing Card De...</td>\n",
       "      <td>Shakespeare &amp;quot;Insults&amp;quot; Playing Cards</td>\n",
       "      <td>$13.74</td>\n",
       "      <td>[0979818206, 1452127751, B00H5E36DW, 045153398...</td>\n",
       "      <td>[]</td>\n",
       "      <td>22,195 in Sports &amp; Outdoors (</td>\n",
       "    </tr>\n",
       "    <tr>\n",
       "      <th>314</th>\n",
       "      <td>0979818206</td>\n",
       "      <td>[Toys &amp; Games, Games, Standard Playing Card De...</td>\n",
       "      <td>Shakespeare &amp;quot;Quotes&amp;quot; Playing Cards</td>\n",
       "      <td>$10.68</td>\n",
       "      <td>[0979818214, 0451533984, 1452162476, B00MYB8X0...</td>\n",
       "      <td>[]</td>\n",
       "      <td>78,465 in Sports &amp; Outdoors (</td>\n",
       "    </tr>\n",
       "    <tr>\n",
       "      <th>331</th>\n",
       "      <td>0982123272</td>\n",
       "      <td>[Toys &amp; Games, Games, Standard Playing Card De...</td>\n",
       "      <td>Jane Austen Playing Cards &amp;quot;Gold Back&amp;quot;</td>\n",
       "      <td>$9.25</td>\n",
       "      <td>[B00KSERAQA, B01BWWOXSE, 0736965181, B00H5E345...</td>\n",
       "      <td>[]</td>\n",
       "      <td>160,397 in Sports &amp; Outdoors (</td>\n",
       "    </tr>\n",
       "    <tr>\n",
       "      <th>332</th>\n",
       "      <td>0982123299</td>\n",
       "      <td>[Toys &amp; Games, Games, Standard Playing Card De...</td>\n",
       "      <td>Jane Austen Playing Cards &amp;quot;Copper Back&amp;quot;</td>\n",
       "      <td>$9.25</td>\n",
       "      <td>[1608423506, B00MH43KK4, B00KSERAQA, 048629785...</td>\n",
       "      <td>[]</td>\n",
       "      <td>193,026 in Sports &amp; Outdoors (</td>\n",
       "    </tr>\n",
       "    <tr>\n",
       "      <th>...</th>\n",
       "      <td>...</td>\n",
       "      <td>...</td>\n",
       "      <td>...</td>\n",
       "      <td>...</td>\n",
       "      <td>...</td>\n",
       "      <td>...</td>\n",
       "      <td>...</td>\n",
       "    </tr>\n",
       "    <tr>\n",
       "      <th>633786</th>\n",
       "      <td>B01HIXLVWM</td>\n",
       "      <td>[Toys &amp; Games, Games, Standard Playing Card De...</td>\n",
       "      <td>Giant Faces Ace Authentic Limited Edition Play...</td>\n",
       "      <td>$20.00</td>\n",
       "      <td>[B00EILD36A, B003L90Z1Q, B000VKYIOI]</td>\n",
       "      <td>[B003L90Z1Q, B075TF75RB, B0087IYE4K, B00EILD36...</td>\n",
       "      <td>233,813 in Sports &amp; Outdoors (</td>\n",
       "    </tr>\n",
       "    <tr>\n",
       "      <th>633787</th>\n",
       "      <td>B01HIXPC0E</td>\n",
       "      <td>[Toys &amp; Games, Novelty &amp; Gag Toys, Miniatures]</td>\n",
       "      <td>US Toy Assorted Color and Design Tropical Fish...</td>\n",
       "      <td>$6.52</td>\n",
       "      <td>[B00362TS98, B01KN0L3O8, B00IA41NUY, B001BL897...</td>\n",
       "      <td>[]</td>\n",
       "      <td>106,544 in Toys &amp; Games (</td>\n",
       "    </tr>\n",
       "    <tr>\n",
       "      <th>633797</th>\n",
       "      <td>B01HIXPE48</td>\n",
       "      <td>[Toys &amp; Games, Action Figures &amp; Statues, Actio...</td>\n",
       "      <td>US Toy Mini Horses Action Figure (2-Pack of 12)</td>\n",
       "      <td>$8.27</td>\n",
       "      <td>[B003O6PYI0, B00HM1HDXW, B0016KVKB6, B01BJ8CJM...</td>\n",
       "      <td>[B01F5SE1II, B01N7B2GHG, B002I5I192, B07GDK5HB...</td>\n",
       "      <td>220,107 in Health &amp; Household (</td>\n",
       "    </tr>\n",
       "    <tr>\n",
       "      <th>633812</th>\n",
       "      <td>B01HIZFAPO</td>\n",
       "      <td>[Toys &amp; Games, Dress Up &amp; Pretend Play, Beauty...</td>\n",
       "      <td>U.S. Toy JA129 Jesus Loves Me Bracelets</td>\n",
       "      <td>$4.52</td>\n",
       "      <td>[B003ECWM0W, B005JST5AY, B0074CEIP0, B007F0ZIQ...</td>\n",
       "      <td>[]</td>\n",
       "      <td>109,325 in Toys &amp; Games (</td>\n",
       "    </tr>\n",
       "    <tr>\n",
       "      <th>633835</th>\n",
       "      <td>B01HJ8OOYI</td>\n",
       "      <td>[Toys &amp; Games, Sports &amp; Outdoor Play, Sports, ...</td>\n",
       "      <td>Aoneky Traditional Soccer Ball with Pump</td>\n",
       "      <td>$10.99 - $14.99</td>\n",
       "      <td>[B00XOXIGOC, B07538H158, B000A0A7YY, B000UUQTK...</td>\n",
       "      <td>[B002WM9HM6, B00YN5BNB8, B0718WWNBR, B07L3F2DH...</td>\n",
       "      <td>30,927 in Sports &amp; Outdoors (</td>\n",
       "    </tr>\n",
       "  </tbody>\n",
       "</table>\n",
       "<p>19245 rows × 7 columns</p>\n",
       "</div>"
      ],
      "text/plain": [
       "              asin                                           category  \\\n",
       "42      0547775520  [Toys & Games, Learning & Education, Science, ...   \n",
       "313     0979818214  [Toys & Games, Games, Standard Playing Card De...   \n",
       "314     0979818206  [Toys & Games, Games, Standard Playing Card De...   \n",
       "331     0982123272  [Toys & Games, Games, Standard Playing Card De...   \n",
       "332     0982123299  [Toys & Games, Games, Standard Playing Card De...   \n",
       "...            ...                                                ...   \n",
       "633786  B01HIXLVWM  [Toys & Games, Games, Standard Playing Card De...   \n",
       "633787  B01HIXPC0E     [Toys & Games, Novelty & Gag Toys, Miniatures]   \n",
       "633797  B01HIXPE48  [Toys & Games, Action Figures & Statues, Actio...   \n",
       "633812  B01HIZFAPO  [Toys & Games, Dress Up & Pretend Play, Beauty...   \n",
       "633835  B01HJ8OOYI  [Toys & Games, Sports & Outdoor Play, Sports, ...   \n",
       "\n",
       "                                                    title            price  \\\n",
       "42      Focus on California Science Exam View Test Ban...                    \n",
       "313         Shakespeare &quot;Insults&quot; Playing Cards           $13.74   \n",
       "314          Shakespeare &quot;Quotes&quot; Playing Cards           $10.68   \n",
       "331       Jane Austen Playing Cards &quot;Gold Back&quot;            $9.25   \n",
       "332     Jane Austen Playing Cards &quot;Copper Back&quot;            $9.25   \n",
       "...                                                   ...              ...   \n",
       "633786  Giant Faces Ace Authentic Limited Edition Play...           $20.00   \n",
       "633787  US Toy Assorted Color and Design Tropical Fish...            $6.52   \n",
       "633797    US Toy Mini Horses Action Figure (2-Pack of 12)            $8.27   \n",
       "633812            U.S. Toy JA129 Jesus Loves Me Bracelets            $4.52   \n",
       "633835           Aoneky Traditional Soccer Ball with Pump  $10.99 - $14.99   \n",
       "\n",
       "                                                 also_buy  \\\n",
       "42                                                     []   \n",
       "313     [0979818206, 1452127751, B00H5E36DW, 045153398...   \n",
       "314     [0979818214, 0451533984, 1452162476, B00MYB8X0...   \n",
       "331     [B00KSERAQA, B01BWWOXSE, 0736965181, B00H5E345...   \n",
       "332     [1608423506, B00MH43KK4, B00KSERAQA, 048629785...   \n",
       "...                                                   ...   \n",
       "633786               [B00EILD36A, B003L90Z1Q, B000VKYIOI]   \n",
       "633787  [B00362TS98, B01KN0L3O8, B00IA41NUY, B001BL897...   \n",
       "633797  [B003O6PYI0, B00HM1HDXW, B0016KVKB6, B01BJ8CJM...   \n",
       "633812  [B003ECWM0W, B005JST5AY, B0074CEIP0, B007F0ZIQ...   \n",
       "633835  [B00XOXIGOC, B07538H158, B000A0A7YY, B000UUQTK...   \n",
       "\n",
       "                                                also_view  \\\n",
       "42                                                     []   \n",
       "313                                                    []   \n",
       "314                                                    []   \n",
       "331                                                    []   \n",
       "332                                                    []   \n",
       "...                                                   ...   \n",
       "633786  [B003L90Z1Q, B075TF75RB, B0087IYE4K, B00EILD36...   \n",
       "633787                                                 []   \n",
       "633797  [B01F5SE1II, B01N7B2GHG, B002I5I192, B07GDK5HB...   \n",
       "633812                                                 []   \n",
       "633835  [B002WM9HM6, B00YN5BNB8, B0718WWNBR, B07L3F2DH...   \n",
       "\n",
       "                                   rank  \n",
       "42                 56,123 in Software (  \n",
       "313       22,195 in Sports & Outdoors (  \n",
       "314       78,465 in Sports & Outdoors (  \n",
       "331      160,397 in Sports & Outdoors (  \n",
       "332      193,026 in Sports & Outdoors (  \n",
       "...                                 ...  \n",
       "633786   233,813 in Sports & Outdoors (  \n",
       "633787        106,544 in Toys & Games (  \n",
       "633797  220,107 in Health & Household (  \n",
       "633812        109,325 in Toys & Games (  \n",
       "633835    30,927 in Sports & Outdoors (  \n",
       "\n",
       "[19245 rows x 7 columns]"
      ]
     },
     "execution_count": 5,
     "metadata": {},
     "output_type": "execute_result"
    }
   ],
   "source": [
    "meta_df[meta_df['rank'].apply(lambda x: type(x)==str)]"
   ]
  },
  {
   "cell_type": "markdown",
   "id": "72c6986f",
   "metadata": {},
   "source": [
    "We first define the ``extract_rank_dict`` function that processes the ``rank`` column of ``meta_df``.\n",
    "Here are a sample of entries from this column."
   ]
  },
  {
   "cell_type": "code",
   "execution_count": 6,
   "id": "b4b1dab5",
   "metadata": {},
   "outputs": [
    {
     "data": {
      "application/vnd.microsoft.datawrangler.viewer.v0+json": {
       "columns": [
        {
         "name": "index",
         "rawType": "int64",
         "type": "integer"
        },
        {
         "name": "rank",
         "rawType": "object",
         "type": "unknown"
        }
       ],
       "ref": "d65f018c-66ce-4ef2-83fe-c55f22aceb5e",
       "rows": [
        [
         "0",
         "['>#2,230,717 in Toys & Games (See Top 100 in Toys & Games)', '>#57,419 in Toys & Games > Puzzles > Jigsaw Puzzles']"
        ],
        [
         "1",
         "['>#2,294,535 in Toys & Games (See Top 100 in Toys & Games)']"
        ],
        [
         "2",
         "['>#2,871,983 in Toys & Games (See Top 100 in Toys & Games)']"
        ],
        [
         "42",
         "56,123 in Software ("
        ],
        [
         "1008",
         "372,303 in Industrial & Scientific ("
        ]
       ],
       "shape": {
        "columns": 1,
        "rows": 5
       }
      },
      "text/plain": [
       "0       [>#2,230,717 in Toys & Games (See Top 100 in T...\n",
       "1       [>#2,294,535 in Toys & Games (See Top 100 in T...\n",
       "2       [>#2,871,983 in Toys & Games (See Top 100 in T...\n",
       "42                                   56,123 in Software (\n",
       "1008                 372,303 in Industrial & Scientific (\n",
       "Name: rank, dtype: object"
      ]
     },
     "execution_count": 6,
     "metadata": {},
     "output_type": "execute_result"
    }
   ],
   "source": [
    "meta_df['rank'].iloc[[0,1,2,42,1008]]"
   ]
  },
  {
   "cell_type": "markdown",
   "id": "36dc65be",
   "metadata": {},
   "source": [
    "The 4th and 5th items displayed above possible have malformed `rank` data. "
   ]
  },
  {
   "cell_type": "markdown",
   "id": "2453f003",
   "metadata": {},
   "source": [
    "The following functions converts these into python ``dict``s, whose keys consist of the category name, and whose values are the rank."
   ]
  },
  {
   "cell_type": "code",
   "execution_count": 7,
   "id": "862e2da7",
   "metadata": {},
   "outputs": [],
   "source": [
    "def extract_rank_dict(rank_entry):\n",
    "    \"\"\"\n",
    "    Extracts product rankings from a string or list of strings into a dictionary.\n",
    "\n",
    "    Parameters:\n",
    "    -----------\n",
    "    rank_entry : str or list of str\n",
    "        A single rank string or a list of such strings. Each string is expected to contain \n",
    "        a rank (preceded by '#') and a category (after the word 'in').\n",
    "\n",
    "    Returns:\n",
    "    --------\n",
    "    dict or None\n",
    "        A dictionary mapping category names (str) to their ranks (int).\n",
    "        Returns None if input is invalid or not in an expected format.\n",
    "    \n",
    "    Examples:\n",
    "    ---------\n",
    "    >>> extract_rank_dict(\"56,123 in Software (\")\n",
    "    {'Software': 56123}\n",
    "\n",
    "    >>> extract_rank_dict([\"#1 in Toys & Games\", \"#23 in Educational Toys\"])\n",
    "    {'Toys & Games': 1, 'Educational Toys': 23}\n",
    "    \"\"\"\n",
    "    output=dict()\n",
    "    if type(rank_entry)==list:\n",
    "        if rank_entry==[]:\n",
    "            return None\n",
    "        for string in rank_entry:\n",
    "            index_in=string.find('in')\n",
    "            index_hash=string[:index_in].find('#')\n",
    "            if index_in==-1 or index_hash==-1:\n",
    "                return None\n",
    "            index_see=string.find('(See')\n",
    "            if index_see!=-1:\n",
    "                category=string[index_in+3:index_see-1]\n",
    "            else:\n",
    "                category=string[index_in+3:]\n",
    "            rank=int(string[index_hash+1:index_in].replace(',',''))\n",
    "            output[category]=rank\n",
    "        return output\n",
    "    if type(rank_entry)!=str:\n",
    "        return None\n",
    "    index_in=rank_entry.find('in')\n",
    "    if index_in==-1:\n",
    "        return None\n",
    "    string=rank_entry\n",
    "    index_in=string.find('in')\n",
    "    category=string[index_in+3:-2]\n",
    "    rank=int(string[:index_in-1].replace(',',''))\n",
    "    output[category]=rank\n",
    "    return output \n",
    "\n"
   ]
  },
  {
   "cell_type": "markdown",
   "id": "b4de2b75",
   "metadata": {},
   "source": [
    "We now apply this function to the rank column."
   ]
  },
  {
   "cell_type": "code",
   "execution_count": 8,
   "id": "95c8fb5f",
   "metadata": {},
   "outputs": [],
   "source": [
    "meta_df['rank_dict']=meta_df['rank'].apply(extract_rank_dict)"
   ]
  },
  {
   "cell_type": "markdown",
   "id": "6fcff005",
   "metadata": {},
   "source": [
    "The ranks in different (sub)categories are not directly comparable. For example, consider the following entry."
   ]
  },
  {
   "cell_type": "code",
   "execution_count": 9,
   "id": "eb7a02b5",
   "metadata": {},
   "outputs": [
    {
     "data": {
      "application/vnd.microsoft.datawrangler.viewer.v0+json": {
       "columns": [
        {
         "name": "index",
         "rawType": "object",
         "type": "string"
        },
        {
         "name": "5",
         "rawType": "object",
         "type": "unknown"
        }
       ],
       "ref": "e949e1bc-e02c-4def-ba84-b84e60d9eb3c",
       "rows": [
        [
         "title",
         "Dungeons &amp; Dragons - &quot;Storm Kings Thunder&quot; DM Screen"
        ],
        [
         "rank_dict",
         "{'Toys & Games': 178217, 'Toys & Games > Grown-Up Toys > Games': 284, 'Toys & Games > Games': 19863}"
        ]
       ],
       "shape": {
        "columns": 1,
        "rows": 2
       }
      },
      "text/plain": [
       "title        Dungeons &amp; Dragons - &quot;Storm Kings Thu...\n",
       "rank_dict    {'Toys & Games': 178217, 'Toys & Games > Grown...\n",
       "Name: 5, dtype: object"
      ]
     },
     "execution_count": 9,
     "metadata": {},
     "output_type": "execute_result"
    }
   ],
   "source": [
    "meta_df[['title','rank_dict']].iloc[5]"
   ]
  },
  {
   "cell_type": "markdown",
   "id": "78526e9b",
   "metadata": {},
   "source": [
    "This item has 3 rankings in different categories. The first ranking in the 'Toys & Games' category can be directly compared with the ranking of any other item that also has such a ranking, which consists of most entries in our dataframe.\n",
    "\n",
    "However, the 'Toys & Games > Grown-Up Toys > Games' ranking of 284 can only be compared to other items with a ranking in this subcategory, a very small proportion of the dataset.\n",
    "\n",
    "Therefore, we first focus on the entries that have a rank in the 'Toys & Games' category."
   ]
  },
  {
   "cell_type": "code",
   "execution_count": 10,
   "id": "4c6001e7",
   "metadata": {},
   "outputs": [],
   "source": [
    "# We mark entries that contain a 'Toys & Games' rank.\n",
    "def contains_tg(dict):\n",
    "    if dict==None:\n",
    "        return False\n",
    "    return 'Toys & Games' in dict.keys()\n",
    "meta_df['contains_tg']=meta_df.rank_dict.apply(contains_tg)"
   ]
  },
  {
   "cell_type": "code",
   "execution_count": 11,
   "id": "5710230c",
   "metadata": {},
   "outputs": [],
   "source": [
    "# We assign the 'Toys & Games' rank for each item where that rank exists.\n",
    "meta_df['item_rank']=meta_df[meta_df.contains_tg].rank_dict.apply(\n",
    "    lambda x: x['Toys & Games'])"
   ]
  },
  {
   "cell_type": "code",
   "execution_count": 12,
   "id": "c67e8466",
   "metadata": {},
   "outputs": [
    {
     "data": {
      "text/plain": [
       "90.03317646947465"
      ]
     },
     "execution_count": 12,
     "metadata": {},
     "output_type": "execute_result"
    }
   ],
   "source": [
    "# The percentage of values that now have a 'Toys & Games' rank\n",
    "meta_df[meta_df.item_rank.notna()].shape[0]/meta_df.shape[0]*100"
   ]
  },
  {
   "cell_type": "markdown",
   "id": "0f4cee97",
   "metadata": {},
   "source": [
    "We now fill in as many of the missing values as we can. To do this, we predict a 'Toys & Games' ranking of a product based on its ranking in another category, using K-Nearest Neighbors regression trained on overlapping entries."
   ]
  },
  {
   "cell_type": "code",
   "execution_count": 13,
   "id": "b38d798a",
   "metadata": {},
   "outputs": [],
   "source": [
    "# Explode rank_dict into a long DataFrame\n",
    "records = []\n",
    "for idx, row in meta_df.iterrows():\n",
    "    rank_dict = row.rank_dict\n",
    "    if isinstance(rank_dict, dict):\n",
    "        for cat, rank in rank_dict.items():\n",
    "            records.append((cat, idx, rank, row.contains_tg))\n",
    "\n",
    "cat_df = pd.DataFrame(records, columns=['category', 'index', 'rank', 'tg'])\n",
    "\n",
    "# Group by category and aggregate lists for index, rank, tg\n",
    "categories = (\n",
    "    cat_df.groupby('category')\n",
    "    .agg({'index': list, 'rank': list, 'tg': list})\n",
    ")\n",
    "\n",
    "# Convert each row to a DataFrame\n",
    "categories['df'] = categories.apply(lambda x: pd.DataFrame({'index': x['index'], 'rank': x['rank'], 'tg': x['tg']}), axis=1)\n",
    "\n",
    "# Add the size of each category (number of entries)\n",
    "categories['size'] = categories['index'].apply(len)\n",
    "\n",
    "# Add the number of entries in each category that have a 'Toys & Games' rank\n",
    "categories['num_tgs'] = categories['tg'].apply(lambda tg_list: sum(tg_list))\n",
    "\n",
    "# Keep only the required columns and convert to DataFrame with category as index\n",
    "categories = categories[['df', 'size', 'num_tgs']]"
   ]
  },
  {
   "cell_type": "code",
   "execution_count": 14,
   "id": "fa382421",
   "metadata": {},
   "outputs": [],
   "source": [
    "def max_intersect_category(rank_dict):\n",
    "    \"\"\"\n",
    "    Determines the category from `rank_dict` that has the highest overlap \n",
    "    with 'Toys & Games' based on previously computed statistics.\n",
    "\n",
    "    Parameters:\n",
    "    ----------\n",
    "    rank_dict : dict or None\n",
    "        A dictionary mapping category names to ranks for a given product.\n",
    "\n",
    "    Returns:\n",
    "    -------\n",
    "    tuple or None\n",
    "        Returns a tuple (max_count, category_name) where:\n",
    "        - max_count is the maximum number of products in that category \n",
    "          also associated with 'Toys & Games' (`num_tgs`).\n",
    "        - category_name is the name of the category with that maximum.\n",
    "        \n",
    "        Returns None if `rank_dict` is None or if no matching categories \n",
    "        exist in the `categories` DataFrame.\n",
    "    \n",
    "    Notes:\n",
    "    -----\n",
    "    - Relies on a global `categories` DataFrame that contains `num_tgs` values \n",
    "      for each category, which represent the number of times that category co-occurred \n",
    "      with 'Toys & Games'.\n",
    "    \"\"\"\n",
    "    if rank_dict is None:\n",
    "        return None\n",
    "\n",
    "    # Select num_tgs for all categories listed in rank_dict\n",
    "    intersects = categories.loc[rank_dict.keys()].num_tgs\n",
    "\n",
    "    if intersects.shape[0] == 0:\n",
    "        return None\n",
    "\n",
    "    # Return max intersection value and its corresponding category\n",
    "    return (int(intersects.max()), intersects.idxmax())"
   ]
  },
  {
   "cell_type": "code",
   "execution_count": 15,
   "id": "fab36246",
   "metadata": {},
   "outputs": [
    {
     "name": "stderr",
     "output_type": "stream",
     "text": [
      "100%|██████████| 63178/63178 [00:33<00:00, 1891.48it/s]\n"
     ]
    }
   ],
   "source": [
    "meta_df['max_intersect']=meta_df[meta_df.contains_tg==0].rank_dict.progress_apply(max_intersect_category)"
   ]
  },
  {
   "cell_type": "code",
   "execution_count": 16,
   "id": "8f2d3e93",
   "metadata": {},
   "outputs": [],
   "source": [
    "def predict_rank(entry):\n",
    "    \"\"\"\n",
    "    Predicts the 'Toys & Games' ranking of a product based on its ranking in another category,\n",
    "    using K-Nearest Neighbors regression trained on overlapping entries.\n",
    "\n",
    "    Parameters:\n",
    "    ----------\n",
    "    entry : pandas.Series\n",
    "        A row from `meta_df`, expected to have:\n",
    "        - `max_intersect`: a tuple (count, category) where `count` is the number of overlapping\n",
    "          entries with 'Toys & Games' in that category.\n",
    "        - `rank_dict`: a dictionary mapping category names to the product's rank in those categories.\n",
    "\n",
    "    Returns:\n",
    "    -------\n",
    "    float or None\n",
    "        The predicted rank in 'Toys & Games' based on nearest neighbors from a related category.\n",
    "        Returns None if the overlap count is less than 10 or if required data is missing.\n",
    "\n",
    "    Notes:\n",
    "    -----\n",
    "    - Uses a weighted KNN regressor (`weights='distance'`, `n_neighbors=5`).\n",
    "    - Merges the category DataFrame with 'Toys & Games' on the `index` column to find common entries.\n",
    "    - Assumes global access to a `categories` DataFrame with per-category sub-DataFrames under the 'df' column.\n",
    "    \"\"\"\n",
    "    # Do not predict if too few overlapping data points exist\n",
    "    if entry.max_intersect[0] < 10:\n",
    "        return None\n",
    "\n",
    "    category = entry.max_intersect[1]\n",
    "\n",
    "    # Merge category DataFrame with 'Toys & Games' on shared product indices\n",
    "    merged_df = categories.loc[category].df.merge(\n",
    "        categories.loc['Toys & Games'].df, on='index'\n",
    "    )\n",
    "\n",
    "    # Train a weighted K-Nearest Neighbors regressor\n",
    "    model = KNeighborsRegressor(n_neighbors=5, weights='distance')\n",
    "    model.fit(merged_df[['rank_x']].values, merged_df.rank_y)\n",
    "\n",
    "    # Predict 'Toys & Games' rank based on rank in the intersecting category\n",
    "    return model.predict(np.array(entry.rank_dict[category]).reshape(1, 1))[0]"
   ]
  },
  {
   "cell_type": "markdown",
   "id": "86dafada",
   "metadata": {},
   "source": [
    "We illustrate the procedure with the following item."
   ]
  },
  {
   "cell_type": "code",
   "execution_count": 17,
   "id": "acc36f85",
   "metadata": {},
   "outputs": [
    {
     "data": {
      "application/vnd.microsoft.datawrangler.viewer.v0+json": {
       "columns": [
        {
         "name": "index",
         "rawType": "object",
         "type": "string"
        },
        {
         "name": "24",
         "rawType": "object",
         "type": "unknown"
        }
       ],
       "ref": "a996d3e5-1f11-4f2c-adef-b39b90635a09",
       "rows": [
        [
         "title",
         "Little Red Tool Box: Alphabet Letters &amp; Pictures Super Set"
        ],
        [
         "rank_dict",
         "{'Office Products': 262028, 'Toys & Games > Learning & Education': 22641, 'Toys & Games > Preschool > Pre-Kindergarten Toys': 179438}"
        ],
        [
         "max_intersect",
         "(106438, 'Toys & Games > Preschool > Pre-Kindergarten Toys')"
        ]
       ],
       "shape": {
        "columns": 1,
        "rows": 3
       }
      },
      "text/plain": [
       "title            Little Red Tool Box: Alphabet Letters &amp; Pi...\n",
       "rank_dict        {'Office Products': 262028, 'Toys & Games > Le...\n",
       "max_intersect    (106438, Toys & Games > Preschool > Pre-Kinder...\n",
       "Name: 24, dtype: object"
      ]
     },
     "execution_count": 17,
     "metadata": {},
     "output_type": "execute_result"
    }
   ],
   "source": [
    "meta_df[['title','rank_dict','max_intersect']].iloc[24]"
   ]
  },
  {
   "cell_type": "markdown",
   "id": "8ab87f48",
   "metadata": {},
   "source": [
    "This \"Little Red Tool Box\" item has three rankings, but none of them are in the `Toys & Games` category. Nonetheless we can predict 'Toys & Games' ranking as follows. \n",
    "\n",
    "We first note that there are 106438 items in the dataset that contain both a `Toys & Games` rank and a `Toys & Games > Preschool > Pre-Kindergarten Toys` rank. This data is contained in the ``max_intersection'' field.\n",
    "\n",
    "Below, we show a scatter plot of the 'Toys & Games' rank versus the 'Toys & Games > Preschool > Pre-Kindergarten Toys' rank, for all items that have both ranks. Using the k-nearest neighbours model trained in these items, we can predict a ranking of `535300` for the \"Little Red Tool Box\"."
   ]
  },
  {
   "cell_type": "code",
   "execution_count": 18,
   "id": "20211159",
   "metadata": {},
   "outputs": [
    {
     "data": {
      "image/png": "[encoded data removed]",
      "text/plain": [
       "<Figure size 640x480 with 1 Axes>"
      ]
     },
     "metadata": {},
     "output_type": "display_data"
    }
   ],
   "source": [
    "i=24\n",
    "row = meta_df.iloc[i]\n",
    "key = row.max_intersect[1]\n",
    "merge=categories.loc[key].df.merge(categories.loc['Toys & Games'].df,on='index')\n",
    "plt.scatter(merge.rank_x,merge.rank_y,label='Rankings in the intersection')\n",
    "\n",
    "#\n",
    "x=row.rank_dict[key]\n",
    "y=predict_rank(row)\n",
    "plt.plot(x,y,'ro',label='Predicted ranking')\n",
    "plt.legend()\n",
    "plt.xlabel(f'\"{key}\" ranking')\n",
    "plt.ylabel('\"Toys & Games\" ranking')\n",
    "plt.title(f'Predicting the  \"Toys & Games\" rank for item {i}')\n",
    "plt.show()"
   ]
  },
  {
   "cell_type": "markdown",
   "id": "3ed4c07b",
   "metadata": {},
   "source": [
    "Despite, the shape of the graph, it is not the case that the `Toys & Games` rank is a strictly increasing function of the  the `Toys & Games > Preschool > Pre-Kindergarten Toys` rank. However, this appears to be approximately true, justifying our approach for imputing missing ranks. (We expect the reason the function is not strictly monotone is because the rankings are generated at slightly different times on constantly changing data.)"
   ]
  },
  {
   "cell_type": "markdown",
   "id": "4cdae942",
   "metadata": {},
   "source": [
    "Below, we plot six additonal such graphs for a random sample of 6 items with missing data."
   ]
  },
  {
   "cell_type": "code",
   "execution_count": 19,
   "id": "11c6799c",
   "metadata": {},
   "outputs": [
    {
     "data": {
      "image/png": "[encoded data removed]",
      "text/plain": [
       "<Figure size 1500x2000 with 6 Axes>"
      ]
     },
     "metadata": {},
     "output_type": "display_data"
    }
   ],
   "source": [
    "fig, axes = plt.subplots(3, 2, figsize=(15, 20))  \n",
    "axes = axes.flatten()\n",
    "\n",
    "predictable_rows=meta_df[meta_df.max_intersect.notna()]\n",
    "predictable_rows=predictable_rows[predictable_rows.max_intersect.apply(lambda x: x[0]>10)]\n",
    "rng=np.random.default_rng(seed=1066)\n",
    "rand=rng.integers(0,predictable_rows.shape[0],6)\n",
    "\n",
    "for i in range(6):\n",
    "    ax=axes[i]\n",
    "    row = predictable_rows.iloc[rand[i]]\n",
    "    key = row.max_intersect[1]\n",
    "    merge=categories.loc[key].df.merge(categories.loc['Toys & Games'].df,on='index')\n",
    "\n",
    "    ax.scatter(merge.rank_x,merge.rank_y,label='Intersection rankings')\n",
    "\n",
    "    x=row.rank_dict[key]\n",
    "    y=predict_rank(row)\n",
    "\n",
    "    ax.plot(x,y,'ro',label='Predicted ranking')\n",
    "    ax.legend()\n",
    "    ax.set_xlabel(f'\"{key}\" ranking')\n",
    "    ax.set_ylabel('\"Toys & Games\" ranking')\n",
    "    ax.set_title(f'Predicting the  \"Toys & Games\" rank for item {rand[i]}')\n",
    "plt.tight_layout()\n",
    "plt.show()"
   ]
  },
  {
   "cell_type": "markdown",
   "id": "3c4a6129",
   "metadata": {},
   "source": [
    "Since this method for filling in missing values gives good results, we fill in the rest of the missing values. We only do this for products that have a ranking for a category that has an overlap size with 'Toys & Games' of size at least 10."
   ]
  },
  {
   "cell_type": "code",
   "execution_count": 20,
   "id": "968fd5e8",
   "metadata": {},
   "outputs": [],
   "source": [
    "predictable_rows=meta_df[meta_df.max_intersect.notna()]\n",
    "predictable_rows=predictable_rows[predictable_rows.max_intersect.apply(lambda x: x[0]>=10)]"
   ]
  },
  {
   "cell_type": "code",
   "execution_count": 21,
   "id": "2db9c335",
   "metadata": {},
   "outputs": [
    {
     "name": "stderr",
     "output_type": "stream",
     "text": [
      "100%|██████████| 31027/31027 [14:19<00:00, 36.09it/s]\n"
     ]
    }
   ],
   "source": [
    "meta_df.loc[predictable_rows.index,'item_rank']=predictable_rows.progress_apply(predict_rank,axis=1)"
   ]
  },
  {
   "cell_type": "code",
   "execution_count": 22,
   "id": "dd4667e5",
   "metadata": {},
   "outputs": [
    {
     "data": {
      "text/plain": [
       "94.927928340088"
      ]
     },
     "execution_count": 22,
     "metadata": {},
     "output_type": "execute_result"
    }
   ],
   "source": [
    "# The percentage of values that now have a 'Toys & Games' rank\n",
    "meta_df[meta_df.item_rank.notna()].shape[0]/meta_df.shape[0]*100"
   ]
  },
  {
   "cell_type": "markdown",
   "id": "5fb0e5e8",
   "metadata": {},
   "source": [
    "We now have only about 5% missing values. "
   ]
  },
  {
   "cell_type": "markdown",
   "id": "1f5a63ef",
   "metadata": {},
   "source": [
    "We attempt to fill in remaining missing values by taking the geometric mean of ranks of 'similar' products. We use the items in also_buy or also_view columns."
   ]
  },
  {
   "cell_type": "code",
   "execution_count": 23,
   "id": "b1cc9fa7",
   "metadata": {},
   "outputs": [
    {
     "name": "stderr",
     "output_type": "stream",
     "text": [
      "100%|██████████| 633883/633883 [00:28<00:00, 22563.54it/s]\n"
     ]
    }
   ],
   "source": [
    "# Combine also_buy and also_view into a single list\n",
    "def combine(entry):\n",
    "    output=entry.also_buy+entry.also_view\n",
    "    output=list(set(output)) # Remove duplicates\n",
    "    if output==[]:\n",
    "        return None\n",
    "    return output\n",
    "    \n",
    "meta_df['similar']=meta_df.progress_apply(combine,axis=1)"
   ]
  },
  {
   "cell_type": "code",
   "execution_count": 24,
   "id": "721fe072",
   "metadata": {},
   "outputs": [],
   "source": [
    "# We create a lookup table of all items that already have a rank.\n",
    "lookup_rank=dict()\n",
    "for index,entry in meta_df[meta_df.item_rank.notna()].iterrows():\n",
    "    lookup_rank[entry.asin]=entry.item_rank"
   ]
  },
  {
   "cell_type": "code",
   "execution_count": 25,
   "id": "b2c7bf26",
   "metadata": {},
   "outputs": [],
   "source": [
    "# The following function predicts the rank using ranks of similar products.\n",
    "def predict_rank_similar_prods(entry):\n",
    "    if not np.isnan(entry.item_rank):\n",
    "        return entry.item_rank\n",
    "    similar_prods=entry.similar\n",
    "    if similar_prods==None:\n",
    "        return None\n",
    "    similar_ranks=[]\n",
    "    for prod in similar_prods:\n",
    "        rank=lookup_rank.get(prod,-1)\n",
    "        if rank!=-1:\n",
    "            similar_ranks.append(rank)\n",
    "    if len(similar_ranks)>0:\n",
    "        geometric_mean = np.exp(np.mean(np.log(similar_ranks)))\n",
    "        return geometric_mean\n",
    "    return None"
   ]
  },
  {
   "cell_type": "code",
   "execution_count": 26,
   "id": "b7f012c3",
   "metadata": {},
   "outputs": [],
   "source": [
    "meta_df.item_rank=meta_df.apply(predict_rank_similar_prods,axis=1)"
   ]
  },
  {
   "cell_type": "code",
   "execution_count": 27,
   "id": "f875bf55",
   "metadata": {},
   "outputs": [
    {
     "data": {
      "text/plain": [
       "96.42331471265202"
      ]
     },
     "execution_count": 27,
     "metadata": {},
     "output_type": "execute_result"
    }
   ],
   "source": [
    "# The percentage of values that now have a 'Toys & Games' rank\n",
    "meta_df[meta_df.item_rank.notna()].shape[0]/meta_df.shape[0]*100"
   ]
  },
  {
   "cell_type": "markdown",
   "id": "af6f96ea",
   "metadata": {},
   "source": [
    "We now have only about 3.8% missing values. "
   ]
  },
  {
   "cell_type": "code",
   "execution_count": 28,
   "id": "0a310028",
   "metadata": {},
   "outputs": [],
   "source": [
    "# Drop columns no longer needed\n",
    "meta_df=meta_df.drop(columns=['rank','rank_dict','max_intersect','contains_tg'])"
   ]
  },
  {
   "cell_type": "markdown",
   "id": "038cebf5",
   "metadata": {},
   "source": [
    "# Cleaning the remaining columns"
   ]
  },
  {
   "cell_type": "code",
   "execution_count": 29,
   "id": "1846d582",
   "metadata": {},
   "outputs": [],
   "source": [
    "# Remove price columns starting .a-box-inner\n",
    "\n",
    "def filter_junk(price):\n",
    "    if price=='':\n",
    "        return None\n",
    "    if len(price)>=12:\n",
    "        if price[0:12]=='.a-box-inner':\n",
    "            return None\n",
    "    return price\n",
    "\n",
    "meta_df.price=meta_df.price.apply(filter_junk)"
   ]
  },
  {
   "cell_type": "markdown",
   "id": "ccdcec3a",
   "metadata": {},
   "source": [
    "The `price` column has too many missing values to be used. However the absence of a price of an item may indicate the item is no longer for sale, is out of stock etc. We will therefore replace 'price' with missing price as a new feature."
   ]
  },
  {
   "cell_type": "code",
   "execution_count": 30,
   "id": "043a16a1",
   "metadata": {},
   "outputs": [],
   "source": [
    "# Add missing_price feature and remove price\n",
    "# Might indicate item is no longer for sale/out of stock?\n",
    "meta_df['price']=meta_df.price.isna()\n",
    "meta_df=meta_df.rename(columns={'price':'missing_price'})"
   ]
  },
  {
   "cell_type": "code",
   "execution_count": 31,
   "id": "28d130cd",
   "metadata": {},
   "outputs": [
    {
     "data": {
      "application/vnd.microsoft.datawrangler.viewer.v0+json": {
       "columns": [
        {
         "name": "index",
         "rawType": "int64",
         "type": "integer"
        },
        {
         "name": "asin",
         "rawType": "object",
         "type": "string"
        },
        {
         "name": "category",
         "rawType": "object",
         "type": "unknown"
        },
        {
         "name": "title",
         "rawType": "object",
         "type": "string"
        },
        {
         "name": "missing_price",
         "rawType": "bool",
         "type": "boolean"
        },
        {
         "name": "also_buy",
         "rawType": "object",
         "type": "unknown"
        },
        {
         "name": "also_view",
         "rawType": "object",
         "type": "unknown"
        },
        {
         "name": "item_rank",
         "rawType": "float64",
         "type": "float"
        },
        {
         "name": "similar",
         "rawType": "object",
         "type": "unknown"
        }
       ],
       "ref": "d73889d1-0009-4c24-b035-75be133cd676",
       "rows": [
        [
         "0",
         "0000191639",
         "['Toys & Games', 'Puzzles', 'Jigsaw Puzzles']",
         "Dr. Suess 19163 Dr. Seuss Puzzle 3 Pack Bundle",
         "True",
         "[]",
         "[]",
         "2230717.0",
         null
        ],
        [
         "1",
         "0004950763",
         "[]",
         "Pathfinder: Book of Beasts - Legendary Foes",
         "True",
         "[]",
         "[]",
         "2294535.0",
         null
        ],
        [
         "2",
         "0005069491",
         "[]",
         "Nursery Rhymes Felt Book",
         "True",
         "[]",
         "[]",
         "2871983.0",
         null
        ],
        [
         "3",
         "0004983289",
         "['Toys & Games', 'Games', 'Card Games']",
         "Dutch Blitz Card Game",
         "False",
         "['B00WIIPQEC']",
         "['B000BBU0KS', 'B00NQQTZ5G', 'B00WIIPQEC', 'B001VIWAO4', 'B004MU9V8Q', 'B00000IWD6', 'B003GZH0SG', 'B0037W5Y2W', 'B078T9WW2X', 'B001UK509U', 'B00JJ4PNHI', 'B07GX5W723', 'B016715XXY', 'B0077Q0NP2', 'B00G7S4V54', 'B003KTPO0Y', 'B003ZZUYIK', 'B00E4H14RI', 'B00000IV35', 'B002TBFVV6', 'B00336128W', 'B06XHFQ34D', 'B01FLADSZM', 'B06XHFMRP9', 'B007EVA3KA', 'B00GM3VXVE', 'B01JMYP3QK', 'B01CPQD4YK', 'B075HQSLDF', 'B01N5SGEEI', 'B07GY47S23', 'B01N9UVRZS', 'B01NAWDCO8', 'B01DPW4ZJ6', 'B01M4LXIRS', 'B01DPW2RCI', 'B01N7VDK9D', 'B01N5SGHOI', 'B01D5GFBMW', 'B0047QI500', 'B06XHX47FP', 'B06XHTW9R2', 'B078RGQL5B', 'B07GFVLRQW', 'B01MFEH9DO', 'B01HQZ99US', 'B078RHG711', 'B0747L8SV6', 'B07CG5D843', 'B00DZ1AZL0', 'B014Q1XX9S', 'B00I45GN5E', 'B015QBOOZE', 'B001FVPS0K', 'B004YNRHVO', 'B00000IT4A', 'B00004TZY8', 'B07FHL8GZ3', 'B07C73LM2G']",
         "376337.0",
         "['B00GM3VXVE', 'B00000IT4A', 'B07GY47S23', 'B00000IWD6', 'B015QBOOZE', 'B00336128W', 'B07C73LM2G', 'B07GX5W723', 'B01DPW4ZJ6', 'B00NQQTZ5G', 'B01MFEH9DO', 'B01FLADSZM', 'B01N9UVRZS', 'B06XHFMRP9', 'B0047QI500', 'B00DZ1AZL0', 'B004YNRHVO', 'B001VIWAO4', 'B06XHX47FP', 'B01DPW2RCI', 'B003ZZUYIK', 'B078RHG711', 'B014Q1XX9S', 'B078T9WW2X', 'B000BBU0KS', 'B002TBFVV6', 'B01HQZ99US', 'B001FVPS0K', 'B003GZH0SG', 'B00004TZY8', 'B00JJ4PNHI', 'B0077Q0NP2', 'B00E4H14RI', 'B078RGQL5B', 'B07CG5D843', 'B01JMYP3QK', 'B01M4LXIRS', 'B00I45GN5E', 'B00WIIPQEC', 'B075HQSLDF', 'B003KTPO0Y', 'B00000IV35', 'B01CPQD4YK', 'B0037W5Y2W', 'B06XHFQ34D', 'B01N5SGHOI', 'B01N5SGEEI', 'B001UK509U', 'B01D5GFBMW', 'B01NAWDCO8', 'B06XHTW9R2', 'B07FHL8GZ3', 'B007EVA3KA', 'B004MU9V8Q', 'B01N7VDK9D', 'B07GFVLRQW', 'B0747L8SV6', 'B00G7S4V54', 'B016715XXY']"
        ],
        [
         "4",
         "0006466222",
         "[]",
         "Magic Pen Painting (Marvel Super Heroes)",
         "False",
         "['B009SB7TI8', 'B009SB8Z1I']",
         "[]",
         "934954.0",
         "['B009SB7TI8', 'B009SB8Z1I']"
        ],
        [
         "5",
         "0020232233",
         "['Toys & Games', 'Grown-Up Toys', 'Games']",
         "Dungeons &amp; Dragons - &quot;Storm Kings Thunder&quot; DM Screen",
         "False",
         "['0786966009', '1945625937', 'B00P83JGZY', 'B07GTB2X7W', 'B01LYI6ZFD', 'B01ETU6T24', 'B00W9LD0J6', 'B01LXKZJ20', '0786965800', '0786966254', '0786966262', '0786966106', 'B01C05HZBE', '0786966246', '0786966653', '0786965614', '0786965622', '0786966114', '0786966289', 'B076QF8YCP', '0786966092', '0786966017', '0786965657', 'B01MRVJ1TB', '078696619X', 'B01N2RZVOU', '0786965789', '0786965649', '0786966599', '0786965606', '078696670X', 'B01N4C1EHP', '0786965819', 'B01MTYQMC9', '0786966718', 'B01N7VWIIB', '0786965983', 'B01MQU4K9U', '0786966726', 'B01MSX6KLW', '0786966319', '0786966300', '0786966211', '0786966793', '0786966610', '0786966297', '0786966602', 'B01MQHECUR', 'B07HFG969C', '1934547840', 'B079YWHSGT', 'B01M1CRRY3', 'B0727TB812', '0786966203', '0786966181', 'B0744HLXH5', 'B01ABST9S4', '0399582754', 'B0713VS9G9', 'B07191TB8W', 'B074WCBWQM', 'B07DWL5JZZ', 'B0015IQO2O', '0786965592', 'B072L54HL9', 'B07D5PRVQZ', 'B01DYGL39I', 'B07GT4NGVB', 'B00AWCVLXQ', 'B07D5N7C5Y', 'B01N307RIW', '1936781751', 'B0722N48N2', '1936781565', '0786964642', 'B01N6RQ3DT', 'B00X5UST5A', 'B07191VR9V', 'B01N5LRPE1', '0763693537', 'B079Y9DKYX', '1601255616', 'B07GX1DZRB', 'B0015IUAAG', 'B06XKDSFVZ', 'B06WLQP1SB', '1507208375', 'B07GT7N4PL', 'B01DUZ69NS', 'B00B4NALRO', '0399580948', 'B01N458GBK', '0786955570', 'B01M1HHRXK', '193678159X', 'B06XFN6ZGD', 'B01MTXRUUT', 'B0195NPHPK']",
         "['0786966009', 'B01LXM38OK', 'B00U911YTG', 'B00HF3Z4IS', 'B01ETU6T24', 'B00P83JGZY', 'B00VP707KA', 'B0195NPHPK', '1945625937', 'B00W9LD0J6', 'B00B4NALRO', 'B0744HLXH5', 'B079Y9DKYX', 'B01N7VWIIB', 'B01LXKZJ20', 'B0748LWTDX', 'B01LZJWJU5', 'B01DUZ69NS', '078696619X', '0786965630', 'B06W5JWDMX', 'B07D5N5LSQ', 'B07D5PRVQZ', 'B00IR7A2GA', 'B07GTB2X7W', 'B0742F13GD', 'B078BJNQVP', 'B076TYRR86', 'B07JHXNWFY', 'B075G15PMP', 'B00MR7XA8I', 'B00PSHI1T2', 'B01DYGL39I', 'B07GL3T973', 'B07DKZDH6P', 'B07CG81N5Q', 'B01C05HZBE', 'B00R3UD4A8', 'B01N307RIW', 'B074WCBWQM', 'B014I59H9M', 'B00LSZQXSY', 'B07954WJQY', 'B00HHB1HIO', 'B000WD41RS', 'B07D5N7C5Y', 'B00MJ1BWYQ', 'B0722N48N2', 'B00AWCVLXQ', 'B06WLQP1SB', 'B06W5JWBWX', 'B01LM254JQ', 'B07C418P49', 'B01M1CRRY3', 'B00P30WJ9W', 'B07GTGWZC8', 'B078241Q9M', 'B07BRBG8TY', 'B06X419QQS', 'B07HW1X7JZ']",
         "178217.0",
         "['B0015IUAAG', '0786965606', '0786966203', 'B01N2RZVOU', '0786966262', '0786966114', 'B0727TB812', 'B07JHXNWFY', 'B07DKZDH6P', 'B00X5UST5A', 'B00AWCVLXQ', 'B01ETU6T24', 'B06W5JWBWX', 'B078BJNQVP', '0763693537', '0786966181', 'B01M1HHRXK', 'B01MSX6KLW', 'B07GTB2X7W', 'B0015IQO2O', '1507208375', 'B01LM254JQ', 'B01DYGL39I', '0786965614', 'B01MTXRUUT', '0786966246', '0786966653', 'B00B4NALRO', 'B0748LWTDX', 'B0722N48N2', 'B076QF8YCP', '0399580948', 'B079Y9DKYX', '1936781751', '0786965789', '0786966106', '0399582754', 'B07CG81N5Q', 'B00HHB1HIO', '0786966289', '0786966599', 'B07DWL5JZZ', '0786965819', 'B00HF3Z4IS', 'B01N6RQ3DT', 'B07954WJQY', '0786966793', '0786955570', '0786966602', '0786965649', '078696670X', 'B07BRBG8TY', 'B01MQHECUR', '0786966254', 'B07191VR9V', 'B00U911YTG', '1945625937', '0786966092', 'B079YWHSGT', '193678159X', 'B076TYRR86', 'B00LSZQXSY', '0786965983', '1601255616', 'B00IR7A2GA', 'B01N7VWIIB', 'B01M1CRRY3', 'B07HFG969C', 'B01DUZ69NS', 'B00P30WJ9W', '0786966009', 'B0744HLXH5', '0786966610', 'B074WCBWQM', 'B00MR7XA8I', 'B00VP707KA', 'B0742F13GD', 'B01MTYQMC9', 'B00MJ1BWYQ', '0786966297', '0786966319', '0786966017', '0786966211', 'B075G15PMP', 'B01N4C1EHP', '1936781565', 'B07GL3T973', 'B01LXM38OK', 'B01LYI6ZFD', 'B014I59H9M', 'B07GX1DZRB', 'B01LZJWJU5', 'B00W9LD0J6', '0786965657', 'B072L54HL9', 'B0713VS9G9', '0786965630', '078696619X', 'B06XFN6ZGD', 'B00PSHI1T2', 'B07C418P49', '0786965592', '0786966300', 'B01N5LRPE1', 'B07D5PRVQZ', 'B0195NPHPK', 'B06X419QQS', 'B078241Q9M', 'B07D5N7C5Y', 'B07191TB8W', 'B01LXKZJ20', 'B01ABST9S4', 'B07D5N5LSQ', 'B07GTGWZC8', 'B07HW1X7JZ', 'B07GT4NGVB', 'B01MQU4K9U', '0786966726', '0786964642', '0786966718', 'B01C05HZBE', 'B06XKDSFVZ', 'B06WLQP1SB', 'B06W5JWDMX', 'B00R3UD4A8', 'B000WD41RS', '0786965800', '0786965622', '1934547840', 'B01N307RIW', 'B01MRVJ1TB', 'B00P83JGZY', 'B07GT7N4PL', 'B01N458GBK']"
        ],
        [
         "6",
         "0096737581",
         "['Toys & Games', 'Arts & Crafts']",
         "NUM NOMS figures Storage Case Organizer - holds 20 figures",
         "True",
         "[]",
         "[]",
         "989767.0",
         null
        ],
        [
         "7",
         "014002316X",
         "['Toys & Games', 'Toy Remote Control & Play Vehicles', 'Toy RC Vehicles & Batteries', 'Toy RC Vehicles']",
         "UDI U806 Infrared Remote Control Helicopter W/gyro - RED",
         "True",
         "[]",
         "[]",
         "3687991.0",
         null
        ],
        [
         "8",
         "0152014764",
         "[]",
         "Stellaluna Finger Puppet",
         "True",
         "[]",
         "[]",
         "3947818.0",
         null
        ],
        [
         "9",
         "019848710X",
         "[]",
         "Oxford Ort Packs Numicon Cuisenaire Rods Small Set",
         "False",
         "[]",
         "[]",
         "3449118.0",
         null
        ],
        [
         "10",
         "0198487126",
         "[]",
         "Oxford University Press Numicon: Number Rod Trays 1-10 &amp; 20",
         "False",
         "[]",
         "[]",
         "1701474.0",
         null
        ],
        [
         "11",
         "0298771357",
         "[]",
         "Taito - Peluche Dragon Quest - Coussin Slime 40cm - 9780298771356",
         "True",
         "[]",
         "[]",
         "2284447.0",
         null
        ],
        [
         "12",
         "0298772221",
         "[]",
         "Nemuneko Big Plush &quot;Stretching!&quot; Type-B Approx. 13&quot; length",
         "False",
         "[]",
         "[]",
         "1615208.0",
         null
        ],
        [
         "13",
         "0298752530",
         "[]",
         "Zou no Pororon Big Soft Elephant Plush - Pororon (Blue) 11&quot; height",
         "False",
         "[]",
         "['0298752549']",
         "1764465.0",
         "['0298752549']"
        ],
        [
         "14",
         "0298752697",
         "[]",
         "Touken Ranbu Online Vol. 3 Small Plush Mascot - Mikazuki Munechika (Blue) Approx 6&quot; height",
         "True",
         "[]",
         "[]",
         "2246880.0",
         null
        ],
        [
         "15",
         "0298770415",
         "[]",
         "Pokemon XY Korotto Manmaru Plush &quot;Relief Squad&quot; Igglybuff About 5&quot;",
         "True",
         "[]",
         "[]",
         "1625532.0",
         null
        ],
        [
         "16",
         "0298770377",
         "['Toys & Games', 'Stuffed Animals & Plush Toys', 'Plush Puppets']",
         "Pokemon XY Korotto Manmaru Plush &quot;Relief Squad&quot; Chansey About 5&quot;",
         "True",
         "[]",
         "[]",
         "1729890.0",
         null
        ],
        [
         "17",
         "0298771861",
         "['Toys & Games', 'Stuffed Animals & Plush Toys', 'Plush Figures']",
         "Sega Love Live School Idol Project Nico Yazawa Jumbo Stuffed Plush, 15&quot;",
         "True",
         "['029877187X', '0298771810', '0298771829', '0298771497', 'B01M0965PC', 'B00WA1XYSM', 'B00Z4YSDLK', 'B01LZ9WAZN', 'B0193MP45Q', 'B01N54AS2B', 'B0722SBX7N', 'B01LY8TY1U', '0298771853', 'B06Y2HJYLV', 'B01H5IK90A', 'B00YSAGFKC', 'B013JS02TS', 'B010XXE6PI', 'B075V1SNYM', 'B01BM4T07G', 'B01M25QJE7', 'B01NAIPFBO', 'B00OE8XVJ6', 'B00T4IHKVG', 'B0160UE70C', 'B01HRRQO9Y']",
         "['B07GZLD9L5', 'B01LY8TY1U', 'B01N54AS2B', 'B01LZ9WAZN', 'B01H5IK90A', 'B06XJLQLKM', 'B00YSAGFKC', '0298771810', 'B01M0965PC', 'B00Z4YSDLK', 'B010XXE6PI', 'B00MH2NJDY', 'B013JS02TS', 'B01DSRWL80', 'B00OE8XVJ6', 'B01KBW7P8G', '0298771829', 'B0178YEPTW', 'B00YT6IQQQ', 'B01M13Y9MU', 'B01CFIIIZS', 'B01IP6DVQK', 'B01LJNI97M', 'B072F4VD4R', 'B00T4IHKVG', 'B00WA1XYSM', 'B00VHK2S84', 'B073X2GB2S', 'B01LJNLHLC', 'B01DSRWKYK', 'B00KRNYZKQ', '029877187X', 'B0195YWVJ4', 'B07464V95Z', 'B06Y2HJYLV', 'B07BZFRXP3', 'B06XG1YBRC', 'B00ZCI28J6', 'B01CWNG95W', 'B0193MP45Q', 'B01HRRQO9Y', 'B0772SW22R', 'B0160UE70C', 'B00GM6N562', '0298771853', 'B077XH1C9C', 'B01M6ACNHI', 'B01EPSNK7M', 'B077SB639W', 'B079KW8CJH', 'B07FDLQBQC', 'B00N60XWYM', 'B01LPGHLQS', 'B06XJSJ87T', 'B06XPVFH4D', 'B07D55DXLR', 'B06Y6G2BDF', 'B075FZFXMZ', 'B00WV06JY8']",
         "361527.0",
         "['B00WV06JY8', 'B077SB639W', 'B01LY8TY1U', 'B01DSRWKYK', 'B00WA1XYSM', 'B07464V95Z', 'B00Z4YSDLK', 'B00ZCI28J6', 'B06XJSJ87T', 'B07D55DXLR', 'B0772SW22R', '0298771497', 'B01NAIPFBO', 'B0160UE70C', 'B01CFIIIZS', 'B00VHK2S84', 'B01M6ACNHI', 'B01IP6DVQK', 'B01LPGHLQS', 'B01EPSNK7M', 'B00OE8XVJ6', 'B010XXE6PI', 'B0193MP45Q', 'B01H5IK90A', 'B00T4IHKVG', 'B079KW8CJH', 'B01N54AS2B', 'B01HRRQO9Y', 'B06Y2HJYLV', '0298771853', 'B00YSAGFKC', 'B00KRNYZKQ', 'B07GZLD9L5', 'B00N60XWYM', 'B072F4VD4R', 'B07FDLQBQC', 'B01M0965PC', 'B01CWNG95W', 'B013JS02TS', 'B07BZFRXP3', 'B0195YWVJ4', 'B06Y6G2BDF', 'B01LJNLHLC', '029877187X', 'B01BM4T07G', 'B06XJLQLKM', 'B00GM6N562', '0298771810', 'B01M25QJE7', 'B0722SBX7N', 'B075FZFXMZ', 'B075V1SNYM', 'B06XG1YBRC', 'B0178YEPTW', 'B00YT6IQQQ', 'B01LJNI97M', 'B073X2GB2S', 'B06XPVFH4D', 'B01LZ9WAZN', 'B01M13Y9MU', '0298771829', 'B00MH2NJDY', 'B01KBW7P8G', 'B077XH1C9C', 'B01DSRWL80']"
        ],
        [
         "18",
         "0298765705",
         "['Toys & Games', 'Action Figures & Statues', 'Action Figures']",
         "Sega Love, Chunibyo &amp; Other Delusions: Rikka Takanashi Premium Summer Beach Figure",
         "False",
         "['B074GV3RVT', 'B00Q8S6YL2', 'B07CJQB179', 'B00L9OYWJQ', 'B00YSAGFKC']",
         "['B00L9OYWJQ', 'B00ILPW0RM', 'B00Q8S6YL2', 'B01LXLBAGO', 'B01LZJL8IU', 'B00ZHKFJNQ', 'B01IH8P5EC', 'B00JUEFJKI', 'B07196JCLW', 'B0778H7QX3', 'B00GXGSKEI', 'B074KHP159', 'B00M0F9DWE', 'B07DD9SJR8', 'B073T12PN6', 'B01N5L0UVX', 'B07CJQB179', 'B073R738KH', 'B06XTF9SGK', 'B0725RG3FZ', 'B01N5L7QWW', 'B06XKNGZGW', 'B01KTCH542', 'B078KJKDPN', 'B0718YYM5B', 'B00KGQ8SB6', 'B01MRFMJM7', 'B0776VXTTJ', 'B01CFK21WW', 'B0016G8I3S', 'B01HRRQO9Y', 'B0778H4HKX', 'B00KO3DPT6', 'B01M6Y99IR', 'B01FUAU2LQ', 'B0749JSDMM', 'B0179APSPK', 'B01AOKXDU4', 'B07CMZCHXF', 'B00O5M0Y7I', 'B00AW72NVA', 'B00YBC1G0Q', 'B01HPJM2XQ', 'B079D7WHX9', 'B06XCM3ZXR', 'B00LVE5GP8', 'B01JFPZG9K', 'B01KPHP21O', 'B0721JKX87', 'B0160UE70C', 'B002MAR2Q6', 'B017EJ8ZN8', 'B01N4P96WD', 'B075SCFXQV', 'B012ROLWF8', 'B00NAM5RA8']",
         "550503.0",
         "['B01N4P96WD', 'B012ROLWF8', 'B07DD9SJR8', 'B00NAM5RA8', 'B0776VXTTJ', 'B079D7WHX9', 'B0721JKX87', 'B07CMZCHXF', 'B00Q8S6YL2', 'B00YBC1G0Q', 'B0160UE70C', 'B01N5L0UVX', 'B07196JCLW', 'B0179APSPK', 'B0778H7QX3', 'B0749JSDMM', 'B00JUEFJKI', 'B00KO3DPT6', 'B00KGQ8SB6', 'B00LVE5GP8', 'B01AOKXDU4', 'B01JFPZG9K', 'B0016G8I3S', 'B01HRRQO9Y', 'B00YSAGFKC', 'B01KTCH542', 'B0718YYM5B', 'B00O5M0Y7I', 'B075SCFXQV', 'B073T12PN6', 'B01M6Y99IR', 'B074KHP159', 'B073R738KH', 'B01FUAU2LQ', 'B07CJQB179', 'B0778H4HKX', 'B00ILPW0RM', 'B01IH8P5EC', 'B00GXGSKEI', 'B06XTF9SGK', 'B01MRFMJM7', 'B078KJKDPN', 'B00AW72NVA', 'B0725RG3FZ', 'B01LZJL8IU', 'B01N5L7QWW', 'B002MAR2Q6', 'B017EJ8ZN8', 'B01HPJM2XQ', 'B00ZHKFJNQ', 'B00L9OYWJQ', 'B01LXLBAGO', 'B01KPHP21O', 'B01CFK21WW', 'B06XKNGZGW', 'B06XCM3ZXR', 'B00M0F9DWE', 'B074GV3RVT']"
        ],
        [
         "19",
         "0298770504",
         "['Toys & Games', 'Action Figures & Statues', 'Action Figures']",
         "Furyu 6.7&quot; Love Live!: Honoka Kousaka Complete Figure",
         "False",
         "['B00N60XWYM', 'B00TPYAQYM', 'B00PT3QW6E', 'B00TPYAS2C', 'B00RAIO7LS', 'B00N612QNO', 'B00PT3QTLM', '0298765594', 'B01ANOBYL6', 'B01DGK3HZA', 'B00YZ5CDME', 'B00MNUJSX0', 'B00HOCXFBS', 'B017PAPX5E', 'B01CMHFOD6', 'B016MV1D3I', 'B00ZH9QM6U', 'B00B72CZLM', 'B00VRW8WAK', 'B01EM9DXPS', 'B017FQRX60', 'B01MYNHYPX']",
         "['B00TPYAQYM', 'B00MNUJSX0', 'B00ZH9QM6U', 'B00YZ5CDME', 'B01JOL03PC', 'B01CJR1XHU', 'B01DGK3HZA', 'B00B72CZLM', 'B00KHH90IY', 'B016MV1D3I', 'B00OE8XVJ6', 'B073SB3CVY', 'B00N60XWYM', 'B00HOCXFBS', 'B07123VFWS', 'B017FI2EDA', 'B00GIFU5XS', 'B01HRRQO9Y', 'B01ANOBYL6', 'B073X2GB2S', 'B01N0185EH', 'B01MQT3JL7', 'B01IP6DVQK', 'B01MQIW91G', 'B01MRL1RPJ', 'B01FK26JD4', 'B01M6ACNHI', 'B01A1XJPDS', 'B01M25QJE7', 'B00TTZWEWE', 'B01N0989GL', 'B0722KJLNC', 'B01M0WV7G2', 'B01H0LYZK2', 'B0799HS9TH', 'B072SQKG1C', 'B01N2JJORU', 'B073MB9LGT', 'B00TLRU6GG', 'B00O5M18P0']",
         "422996.0",
         "['B016MV1D3I', 'B01MRL1RPJ', 'B00VRW8WAK', 'B00KHH90IY', '0298765594', 'B00MNUJSX0', 'B01CJR1XHU', 'B01N0185EH', 'B0799HS9TH', 'B01M6ACNHI', 'B01IP6DVQK', 'B00OE8XVJ6', 'B01CMHFOD6', 'B01A1XJPDS', 'B00YZ5CDME', 'B00ZH9QM6U', 'B00RAIO7LS', 'B017FQRX60', 'B01N2JJORU', 'B01H0LYZK2', 'B00PT3QTLM', 'B072SQKG1C', 'B01FK26JD4', 'B00B72CZLM', 'B01HRRQO9Y', 'B07123VFWS', 'B017FI2EDA', 'B073MB9LGT', 'B00N60XWYM', 'B00HOCXFBS', 'B01EM9DXPS', 'B01DGK3HZA', 'B00TPYAQYM', 'B00TLRU6GG', 'B0722KJLNC', 'B00GIFU5XS', 'B01JOL03PC', 'B01MQIW91G', 'B01M25QJE7', 'B00TTZWEWE', 'B01ANOBYL6', 'B00PT3QW6E', 'B01M0WV7G2', 'B017PAPX5E', 'B073SB3CVY', 'B073X2GB2S', 'B01MQT3JL7', 'B00O5M18P0', 'B00N612QNO', 'B01MYNHYPX', 'B01N0989GL', 'B00TPYAS2C']"
        ],
        [
         "20",
         "0298770016",
         "['Toys & Games', 'Stuffed Animals & Plush Toys', 'Plush Puppets']",
         "Nemuneko Honey Heart Big Plush Type-B About 14&quot;",
         "True",
         "[]",
         "[]",
         "1684714.0",
         null
        ],
        [
         "21",
         "038536539X",
         "['Toys & Games', 'Games', 'Card Games']",
         "Penguin Random House Punderdome Deluxe Card Game",
         "True",
         "['1592406750', 'B01N77VKWI', '1101905654', '076119343X', '1250075408', '1452144168', 'B076MFY2LK', '0762453214', '1499704763', '0062495607', '145217380X', 'B071GS97RT', 'B014Q1XX9S', 'B010TQY7A8', 'B01G5HR8TC']",
         "['1101905654', '0525615563', 'B00B1UM8HQ', 'B000NDMDHC', 'B00E5QL2AC', 'B01JF1VQY8', 'B01HH0NTOE', 'B00065IN8U', '1589781449', 'B00Q6U2LP0', 'B0749DGWPQ', 'B01FY6FJAU', 'B01IA9R2TY', 'B00363B5FC', 'B076MFY2LK', 'B077BFRMG2', 'B01LYRPDQQ', 'B01IO4ABG6', 'B01MQUBFVL', '1909313289', 'B07BKTQJ47', 'B01N2TNB4L', '1592406750', 'B0778WX5JW', '1542536510', 'B07B4GV3N5', 'B01HH0NSW2', 'B01H1NIQP4', '2914849656', 'B014Q1XX9S', 'B00LGYO398', 'B00M3A860G', 'B00N36C6BE', 'B008A2BA8G', 'B001N11OI2', 'B009SAAV0C', 'B00GDI4HX4', 'B07146ZQPP', 'B06Y3NLK6Q', 'B072BR5T4N', 'B01FXCT99C', 'B07BMLQBM1', 'B00IZEUFIA', 'B003D7F4YY', 'B01J2RYK8E', 'B01JKD4HYC', 'B00HS7GG5G', 'B01FSV380Y', 'B00A2HD40E', 'B010TQY7A8', 'B010TU7LP2', 'B01MRG7T0D', 'B075CVZ4KY', 'B07BKLT9B5', 'B00PJKCXJC', 'B00V155S46', 'B004S8F7QM', 'B003HC9734', 'B077MZ2MPW']",
         "387552.0",
         "['B07B4GV3N5', '1101905654', 'B01H1NIQP4', 'B076MFY2LK', 'B00A2HD40E', '1452144168', 'B01FXCT99C', '076119343X', '0762453214', 'B00LGYO398', 'B003HC9734', 'B00HS7GG5G', 'B00GDI4HX4', 'B003D7F4YY', '145217380X', 'B07BKLT9B5', '1909313289', 'B001N11OI2', '0062495607', 'B00Q6U2LP0', '1592406750', 'B01HH0NTOE', 'B071GS97RT', 'B01FY6FJAU', 'B075CVZ4KY', 'B00PJKCXJC', 'B00363B5FC', 'B014Q1XX9S', '2914849656', 'B07BMLQBM1', 'B01N2TNB4L', 'B06Y3NLK6Q', 'B010TQY7A8', '1589781449', 'B008A2BA8G', 'B07146ZQPP', 'B00V155S46', 'B00IZEUFIA', 'B01N77VKWI', 'B000NDMDHC', 'B01HH0NSW2', 'B0749DGWPQ', 'B00065IN8U', 'B01IA9R2TY', 'B010TU7LP2', 'B077MZ2MPW', 'B00B1UM8HQ', 'B01FSV380Y', '1542536510', 'B01G5HR8TC', 'B01JF1VQY8', 'B00N36C6BE', '1499704763', 'B01IO4ABG6', 'B00E5QL2AC', 'B072BR5T4N', '1250075408', 'B01JKD4HYC', 'B01J2RYK8E', 'B01MRG7T0D', 'B004S8F7QM', 'B0778WX5JW', 'B01MQUBFVL', 'B077BFRMG2', 'B00M3A860G', '0525615563', 'B07BKTQJ47', 'B009SAAV0C', 'B01LYRPDQQ']"
        ],
        [
         "22",
         "0399232133",
         "[]",
         "Goodnight, Gorilla plush",
         "True",
         "[]",
         "[]",
         "2407470.0",
         null
        ],
        [
         "23",
         "0425066169",
         "['Toys & Games', 'Games', 'Board Games']",
         "Sanctuary: The Thieves' World Boardgame [BOX SET]",
         "True",
         "[]",
         "['0441971202']",
         "2093393.0",
         "['0441971202']"
        ],
        [
         "24",
         "0439838649",
         "['Toys & Games', 'Learning & Education']",
         "Little Red Tool Box: Alphabet Letters &amp; Pictures Super Set",
         "False",
         "['B0035EQDUY', '0439838657', '0439893577']",
         "[]",
         "535300.4848910751",
         "['B0035EQDUY', '0439838657', '0439893577']"
        ],
        [
         "25",
         "0439927277",
         "['Toys & Games', 'Puppets', 'Hand Puppets']",
         "YOTTOY Magalina Dog 10&quot; Puppet",
         "True",
         "[]",
         "[]",
         "1737049.0",
         null
        ],
        [
         "26",
         "0448447088",
         "['Toys & Games', 'Stuffed Animals & Plush Toys', 'Stuffed Animals & Teddy Bears']",
         "&quot;Miss Spider's Web&quot; Stuffed Toy &amp; Book",
         "True",
         "[]",
         "[]",
         "2626578.0",
         null
        ],
        [
         "27",
         "0486277577",
         "['Toys & Games', 'Novelty & Gag Toys', 'Magic Kits & Accessories']",
         "MMS Card Control by Arthur H Buckley - Book",
         "False",
         "['0486217558', '0486408434', '0486242587', '0486285979', 'B003QINI8O', '0486205398', '0486212521', 'B01ESX0AOU', '0486281248', '0486427358', '0486233340', '1614278644', '0945296479', 'B002MI1BG0', 'B00168B6QM', '1905026358', '163286424X', '1944686274', 'B01FOTFSYY', 'B001AMO8A0', '1937620026', 'B01ESWPBE0', 'B000JQQMD4', 'B00535VJ4S', 'B06Y2MPBPD', '0486244261', '0762414553', 'B00DOX7A9O', 'B001AY29V8', '095584763X', 'B06XB7B8ZT', 'B074KM7F28', 'B01EA8I9G4', 'B019MR3AD0', '0486238067', 'B000JQQKJA', 'B0036ZJ336', 'B01LZT43TZ', 'B00M4KLCKG', '0981916686', '1935909983', 'B00MBEDOT2', 'B008Z26NDS', 'B07281PYVR', 'B000K269PS', 'B0076FJ7SS', 'B00XKNQ0KS', 'B01J92AJX2', 'B01MYHE4KV', '048623911X', '0486405303', 'B008Z22HM4', 'B000JPN0JY', '0945296223', 'B071SH3572', 'B003B0WWSO', 'B002BCICOQ', '0945296150', '1434436454', 'B074SLMJ6M', '0486478912', '0486410870', 'B00BJ5F9HY', '0394727665', '0809839210', 'B008Z1Y3ZY', '0486230600', '0486269310', 'B00M4KLCKQ', 'B00M4KL6RU', '1566191246', '1614278741', 'B000J44A9O', '0941599183', 'B007OWXSII', '1905026579', 'B01FWNYEEM', 'B000JXTT3C']",
         "['0486217558', '0486408434', '0486285979', '0486242587', 'B003QINI8O', '0486427358', 'B00168B6QM', 'B0006Y9V1E', 'B07CY7XCHT', '0911996389', '0486212521', '0945296479', '1614278644', '0486205398', 'B000JQQMD4', '0486281248', '0945296096', '0915181215', 'B0007E82R2', 'B00CBEO0GI', '0435070169', 'B01EB7Z6L0', '0762414553', 'B072VVLYGL', 'B00FM0HAJ2', 'B008Z24JV6', 'B0016C1WQC', 'B0018DPOMM', 'B075L42PYZ', '048623911X', 'B077XT1BSD', '0911996400', 'B00M4KL6RU', 'B0798HGCTV', 'B078J11QR8', '0972926305', '1937620026', 'B00XM1HK3O', '1944686266', 'B000E8QVII', '0486244261', '0945296185', 'B001OVN8OY', '0451127218', '0486230600', '1905026358', '163286424X', '1935909983', 'B01FOTFSYY', '0486478912', 'B07872D3DH', 'B0195MS910', 'B00A9QOAA6', '0486245802', '0486238067']",
         "271059.0",
         "['B00XKNQ0KS', '0486281248', 'B000K269PS', 'B000E8QVII', '0486212521', '1944686274', '0486244261', '1935909983', 'B007OWXSII', '1937620026', '0486285979', '0762414553', 'B00XM1HK3O', 'B074SLMJ6M', '0486242587', '0981916686', 'B072VVLYGL', 'B001OVN8OY', '0486238067', 'B0018DPOMM', '163286424X', '0486245802', 'B0016C1WQC', 'B077XT1BSD', '0809839210', 'B00M4KLCKQ', 'B00M4KL6RU', '0486205398', '0945296223', 'B00535VJ4S', 'B000J44A9O', 'B001AMO8A0', 'B0007E82R2', '0945296479', '1566191246', 'B0036ZJ336', 'B071SH3572', '0435070169', 'B07281PYVR', 'B000JQQMD4', '0486217558', '0945296185', 'B0195MS910', '0486233340', 'B00BJ5F9HY', '0486478912', 'B00DOX7A9O', 'B01ESX0AOU', 'B07872D3DH', '095584763X', '0486410870', 'B0798HGCTV', 'B01FWNYEEM', 'B01FOTFSYY', '048623911X', 'B0076FJ7SS', 'B06XB7B8ZT', 'B008Z1Y3ZY', '1614278741', 'B01J92AJX2', 'B01MYHE4KV', 'B06Y2MPBPD', 'B00CBEO0GI', '1944686266', 'B003QINI8O', '0911996400', '1905026358', '1614278644', 'B008Z26NDS', 'B008Z22HM4', 'B00A9QOAA6', 'B000JPN0JY', '0451127218', 'B00FM0HAJ2', '0941599183', 'B001AY29V8', '1434436454', 'B000JXTT3C', '0945296096', 'B078J11QR8', 'B00MBEDOT2', 'B01ESWPBE0', 'B074KM7F28', 'B075L42PYZ', 'B003B0WWSO', '0915181215', '0486408434', '0945296150', '1905026579', 'B01EB7Z6L0', '0972926305', 'B002BCICOQ', 'B00168B6QM', 'B0006Y9V1E', 'B008Z24JV6', '0486230600', 'B01EA8I9G4', 'B07CY7XCHT', 'B01LZT43TZ', '0394727665', '0486269310', '0486427358', 'B000JQQKJA', '0486405303', 'B00M4KLCKG', 'B019MR3AD0', '0911996389', 'B002MI1BG0']"
        ],
        [
         "28",
         "0486284115",
         "['Toys & Games', 'Novelty & Gag Toys', 'Temporary Tattoos']",
         "Dinosaur Tattoos",
         "False",
         "['B00272N8DU', '0486407721', '0486449971', '0486456536', 'B00OZUG7YE', '0761174842', 'B0033UWNDQ', 'B00TTXAF2W', 'B007QTB6U6', 'B002AGEP6C', '0486468011', 'B01GOP71DI', 'B01EN2ALUE', 'B00TTXAH2U', '0486400867', 'B0056HG3LW', '0486473759', '1426317735', '0486402436', 'B00BSN1CAU', 'B00272N8T4', 'B01MUEYLET', 'B001DN8I0M', 'B01D65AA32', 'B00TTX9TJC', '0439649498', 'B00HX9VZ7I', 'B00HWHO3ZW', '0553496816', 'B00SG2ZD1K', '0736430806', 'B00TTX9N34', '0545153530', 'B01KTBO21M', '0486402029', 'B003LSE19O', 'B00QFJJ06K', 'B000PEJFMK']",
         "['B003FPSKP4', 'B001859AOS', 'B00374BIRK']",
         "429285.5",
         "['B00TTXAF2W', 'B01GOP71DI', '0545153530', 'B01KTBO21M', 'B003LSE19O', 'B01EN2ALUE', '0486402436', 'B00SG2ZD1K', '0486402029', '1426317735', 'B01MUEYLET', 'B003FPSKP4', 'B00HWHO3ZW', 'B000PEJFMK', 'B00QFJJ06K', 'B00TTXAH2U', '0553496816', 'B0033UWNDQ', 'B001859AOS', 'B001DN8I0M', '0486456536', 'B00BSN1CAU', '0486468011', 'B00TTX9N34', 'B00OZUG7YE', '0761174842', 'B00HX9VZ7I', 'B002AGEP6C', '0486407721', 'B00374BIRK', '0439649498', 'B007QTB6U6', '0736430806', '0486400867', 'B00272N8T4', '0486449971', 'B01D65AA32', '0486473759', 'B00TTX9TJC', 'B00272N8DU', 'B0056HG3LW']"
        ],
        [
         "29",
         "0486402029",
         "['Toys & Games', 'Novelty & Gag Toys', 'Temporary Tattoos']",
         "Pirates Tattoos",
         "False",
         "['0486468054']",
         "['B00TR4OZ56', '0486465675', 'B000R39M8G', 'B00L0UZBYO', 'B07BDBVTJ3', 'B07GC5K4XJ', 'B01ICAVY2M', 'B00NIWP804', 'B005KOBF64', 'B013KOTDPU']",
         "696751.0",
         "['0486468054', 'B000R39M8G', 'B07BDBVTJ3', 'B07GC5K4XJ', 'B00L0UZBYO', '0486465675', 'B013KOTDPU', 'B01ICAVY2M', 'B00NIWP804', 'B005KOBF64', 'B00TR4OZ56']"
        ],
        [
         "30",
         "0486427706",
         "['Toys & Games', 'Arts & Crafts', 'Drawing & Painting Supplies', 'Drawing & Sketch Pads']",
         "DOVER PUBLICATIONS Stained Glass Color Book Wizards And Dragons (427706)",
         "False",
         "['0486409708', '0486465551', '0486423883', '0486277100', '0486281906', '0486270106', '0486446689', '0486486494', '0486441822', '0486269825', '0486469948', '0486444600', '0486264920', '0486263118', '0486420574', '0486478025', '0486494454', '0486264971', '0486285308', '048626792X', '1441319778', '0486430014', '0486263134', '0486260496', '048647688X', '0486438465', '0486449238', '0486421880', '0486473724', '0486280950', '0486449378', '0486426181', '048643527X', '0486479102', '0486479366', '048643690X', '048627456X', '0486274810', '0486480259', '0486293416', '0486287823', '0486499421', '0486265005', '0486280969', '1547107855', 'B012WE4THG', '0486257347', '0486207072', '0486438449', '1544102054', '0486456668', '1338214489', '0486469956', '0486272257', '1514617706', '0486497925', '1600583989', '0486260526', '0486498077', '0994355432', 'B07259LQPM', '0486451720', '0486475336', '0486416224', '0486437051', '0486412563', '0486476545', '0486796043', '1338214438', 'B01B1TIQN6', '0486412571', '0486401758', '0486283518', '0486430499', '0486456773', '0486483126', '0545449367', 'B074CNL7WB']",
         "[]",
         "251065.25174825176",
         "['0486280969', '0486270106', '0486478025', '0486412571', '0486438449', '0486264971', '0486796043', 'B074CNL7WB', '0486280950', '0486283518', '0486498077', '1338214489', '0486426181', '0486264920', '0486483126', '0486437051', '1338214438', '0486465551', '0486469956', '0486207072', '1441319778', '0486430499', '0486451720', '0486420574', '048643690X', '0486479102', 'B012WE4THG', '0486444600', '0486269825', '0486449238', '0486285308', '0486475336', '0486499421', '0994355432', '048647688X', '0486441822', '0486446689', '0486260526', '0486449378', '0486423883', '048643527X', '0486430014', '0486272257', '1514617706', '0486287823', '0486479366', '0486438465', '0486494454', '0486421880', '0486416224', '0486497925', '048626792X', '0486480259', '0486274810', '0486473724', '0486456773', '1600583989', '0486409708', '0486265005', '1547107855', '0545449367', '0486401758', '0486260496', '0486412563', '0486293416', '048627456X', '1544102054', '0486263134', '0486476545', 'B01B1TIQN6', '0486281906', '0486277100', '0486257347', '0486486494', '0486469948', '0486456668', '0486263118', 'B07259LQPM']"
        ],
        [
         "31",
         "0486448789",
         "['Toys & Games', 'Arts & Crafts', 'Stickers']",
         "Dover Publications-Create Your Own Robot Stickers",
         "False",
         "[]",
         "['1426331800', '1609960653', 'B01C4OTAXC', '0449810798', 'B00T3DEFO2', 'B071YLMTH5', 'B005DS5DC4', 'B007JY4NU8', 'B01N5SN8W3', 'B0147YXSK8', 'B003D2PZMU', 'B076P9JGW7', 'B00Q23DWXG', 'B078LDPQ6X', '0486472272', 'B01ES0MGYA', 'B00EJAEWW4', 'B01EKCKBZ2', '0486482766', 'B015Q2WWL6', 'B072KGVYF7', 'B006Y3RP14', '1426313446', 'B01J9L96MS', 'B004PBN9BC', '0794523870', 'B01MTMVKBY', 'B003XHWKRS', 'B079QRL2PP', 'B005IR88MM', 'B07FWFSV4J', 'B007ZXKG8G', 'B076CLYP66', 'B07DFCYTK2', 'B00BD8VPKC', 'B005NHT092', 'B006WCN61K', '0545819806', 'B01NBMYOJG', 'B004OFBY7K', 'B07195FGQG', 'B003QZMC1Q', 'B075ZN5H5J', 'B00GGLA87C', 'B017Y96OL8', 'B00TKYEJSQ', 'B079JFRJSH', 'B079DQDF4B', 'B00I0D2ZG6', 'B003IKN4OS', 'B07G5QC24Z', 'B002O1BSRC', 'B01CNSPHL8', 'B00UAY65QE', 'B00DEFBTGC', 'B0062LWSQK']",
         "89922.54873646211",
         "['B006Y3RP14', '1609960653', 'B078LDPQ6X', '1426313446', 'B004OFBY7K', 'B00GGLA87C', 'B00EJAEWW4', 'B01MTMVKBY', 'B07FWFSV4J', 'B079DQDF4B', 'B006WCN61K', 'B01NBMYOJG', 'B07DFCYTK2', 'B00I0D2ZG6', '0449810798', '1426331800', 'B00T3DEFO2', 'B005NHT092', 'B07195FGQG', 'B002O1BSRC', '0486482766', 'B00DEFBTGC', 'B01J9L96MS', '0794523870', 'B076CLYP66', 'B079QRL2PP', 'B07G5QC24Z', 'B005DS5DC4', 'B00TKYEJSQ', 'B003XHWKRS', 'B00BD8VPKC', 'B00Q23DWXG', 'B007ZXKG8G', 'B075ZN5H5J', 'B005IR88MM', '0545819806', 'B003QZMC1Q', 'B01EKCKBZ2', 'B0147YXSK8', 'B0062LWSQK', 'B017Y96OL8', '0486472272', 'B071YLMTH5', 'B004PBN9BC', 'B01ES0MGYA', 'B00UAY65QE', 'B072KGVYF7', 'B015Q2WWL6', 'B076P9JGW7', 'B007JY4NU8', 'B003IKN4OS', 'B01CNSPHL8', 'B003D2PZMU', 'B01N5SN8W3', 'B01C4OTAXC', 'B079JFRJSH']"
        ],
        [
         "32",
         "0545020832",
         "['Toys & Games', \"Kids' Electronics\", 'Systems & Accessories', 'Electronic Software & Books']",
         "Talk-to-Me Amazing Animals Phonics Boxed Set With Magic Talking Pen &amp; 10 Books",
         "True",
         "[]",
         "['B00KNT6NCW', '0545231493']",
         "1847632.0",
         "['0545231493', 'B00KNT6NCW']"
        ],
        [
         "33",
         "0545325234",
         "['Toys & Games', 'Dress Up & Pretend Play', 'Pretend Play']",
         "Pound a Peg Wooden Pounding Bench with Hammer",
         "True",
         "[]",
         "[]",
         "891183.0",
         null
        ],
        [
         "34",
         "0545346193",
         "['Toys & Games', 'Arts & Crafts', 'Craft Kits']",
         "Klutz Draw DC Universe: Learn to Draw The Heroes &amp; The Villains Craft Kit",
         "False",
         "['1633226611', '0671530771', '1338137212', '0794433162', '1539660419', '1530200415', '0823098451', '0545703247', '0823000834', 'B01MRUE1BN', '0823030830', '0823010287', '0615991424', '1429629177', 'B000HTBBO8', 'B0722YLZTY', 'B0743J9GFH']",
         "['0671530771', '1338137212', 'B0743J9GFH', '1780676220', '1633226611', '1541302834', 'B000HZDFHS', '1539660419', '1623702313', 'B01LPDZ50U', '0545703247', '0823098451', '1978214960', '0823000834', '0794433162', '1981816828', '1633225127', '147006460X', '1402784740', '1982905972', 'B00KSM0PZ0', 'B01LPF075Q', 'B006ESRNV6', '0545647797', '054549284X', 'B007EYCGYS', '1570540004', '1722426454', '154809689X', '1560103299', 'B00TLFTTB6', '1530200415', 'B0013JPVN8', '0385344724', '1543515622', 'B07GJBK9VJ', 'B0071ATILE', '1596431318', 'B002VRDHPU', 'B011BER1NW', 'B0071AVHR2', '194724339X', 'B01DPIMCK4', 'B01E0SKZZC', '1948209276', 'B00FDMSC3W', 'B07H2QLB3Q', '1729673937']",
         "128315.0",
         "['B07GJBK9VJ', '1722426454', '1978214960', '1541302834', 'B011BER1NW', 'B01DPIMCK4', 'B000HTBBO8', 'B0071ATILE', '1981816828', '0385344724', 'B007EYCGYS', 'B0722YLZTY', 'B00KSM0PZ0', '0615991424', '1402784740', '1982905972', '1596431318', '1948209276', '0671530771', '194724339X', '1729673937', '0823098451', '054549284X', 'B01LPDZ50U', '0823030830', '0545703247', 'B0071AVHR2', '1560103299', '1633225127', '1338137212', 'B01MRUE1BN', '1570540004', 'B01E0SKZZC', '1633226611', '1530200415', 'B0013JPVN8', 'B006ESRNV6', 'B002VRDHPU', 'B00FDMSC3W', '147006460X', '0794433162', '1429629177', '1539660419', 'B000HZDFHS', 'B0743J9GFH', '1623702313', '0823000834', 'B00TLFTTB6', '1780676220', '154809689X', 'B07H2QLB3Q', '1543515622', 'B01LPF075Q', '0545647797', '0823010287']"
        ],
        [
         "35",
         "0545449448",
         "['Toys & Games', 'Arts & Crafts', 'Craft Kits']",
         "Klutz Paper Fashions Craft Kit",
         "False",
         "['1591745829', '0545449359', '1338037528', '1591745195', '1591748925', 'B002CSQDZY', '1591746132', '1570545340', 'B00000J0HG']",
         "['0545449359', '1570545340', '0545650534', '0545703212', '1591745195', 'B00UY1061I', 'B000GJ58PW', 'B00NHLCEGW', 'B00CNNPOHG', 'B00K18YIOU', 'B000WZEX4M', '1591747007', '1591745829', 'B003HUY3JY', 'B000QY696E', '1618933744', 'B000P6Q7MY', 'B004Q3JJEK', 'B003SLC3IU', 'B000GDGWWQ', '0545703190', 'B005OM0O6E', 'B00DHCZ4HM', 'B0007KLH1Y', 'B06XG8519L', 'B00LCLKAE2', 'B007ATOMNK', 'B017M18JLG', 'B079SPMPBL', 'B00136IZ7U', 'B017M01UFE', 'B071185XCM', 'B00R7P7XVA', 'B00OUX6U6G', 'B0079RSDMO', 'B07L2B4K1L', 'B00006JZCS', '0545798647', 'B06XZMTST2', '0545692148', '0545498562', 'B002CSQDZY', 'B00IWPKC4Y', 'B00IZN74H6', 'B06WVQ5PK1', '1338037528', '0545906490', 'B0062MEVGO', 'B002CSRZKQ', 'B00V8YMCQW', '1591748925', '1338159607', 'B00G03GQ7M', 'B000CBR4X8', 'B000FZ4T5C', 'B07KS1XF89']",
         "428964.0",
         "['0545449359', 'B00R7P7XVA', 'B000GJ58PW', '1338159607', 'B06XZMTST2', 'B00G03GQ7M', 'B000QY696E', 'B000WZEX4M', 'B000GDGWWQ', 'B071185XCM', 'B00DHCZ4HM', '1570545340', 'B00006JZCS', 'B00OUX6U6G', 'B00CNNPOHG', 'B00000J0HG', 'B00V8YMCQW', 'B00LCLKAE2', 'B00IWPKC4Y', 'B00K18YIOU', 'B007ATOMNK', 'B0007KLH1Y', 'B07KS1XF89', '0545798647', 'B00NHLCEGW', 'B002CSQDZY', '1618933744', 'B06XG8519L', 'B004Q3JJEK', 'B06WVQ5PK1', 'B00UY1061I', 'B00IZN74H6', '1338037528', '0545906490', 'B002CSRZKQ', '0545703212', 'B0079RSDMO', '0545498562', 'B003HUY3JY', 'B000FZ4T5C', 'B017M18JLG', '0545692148', '0545650534', 'B005OM0O6E', '1591747007', '1591748925', 'B017M01UFE', 'B07L2B4K1L', '1591745195', 'B0062MEVGO', 'B003SLC3IU', 'B000P6Q7MY', 'B00136IZ7U', 'B000CBR4X8', '1591745829', '1591746132', 'B079SPMPBL', '0545703190']"
        ],
        [
         "36",
         "0545561647",
         "['Toys & Games', 'Arts & Crafts', 'Craft Kits']",
         "Klutz Pom-Pom Puppies: Make Your Own Adorable Dogs Craft Kit",
         "False",
         "['1338106430', '0545703190', '0545906520', '1338106449', '1338158856', '1338037552', '1338271059', '0545703212', '0545498562', '1338210203', 'B076WVQDJZ', '1338037501', '1338159569', 'B06XY4RMGZ', '1546678441', '0545647967', 'B01D52PZ4K', '1338159607', '4865051260', '133821019X', 'B01CK62DEC', '1338106457', '054549284X', 'B07D83QCN9', '0986223530', '0843182938', '1338158813', 'B01LZLCW0P', '0545858461', '1338137204', 'B07C87YND5', 'B01LBLBVQS', 'B004PBOGRS', '159174427X', 'B004MU723M', '0545396344', 'B07JQ6N5KZ', 'B07CG8BZX6', '1681192187', 'B01D6R5O0Y', '1591747007', 'B00IUAAK2A', '1591749263', 'B07787FMRM', 'B075NQ25WX', 'B0749S6HK6', '1338236571', '1497203228', 'B078WD6NN5', 'B072C1N3FY', 'B074K7CSR5', '1574212125', 'B001BCNTTU', 'B075JH3YMH', '1591747694', '0545703301', 'B01A7JCYX4', '1583228691', 'B01CRFU26W', 'B01CEY3NPI', 'B012WE5C40', 'B07CLC8SR2', '1465402454', '1912286432', 'B01D52PX92', 'B00J0U7590', '1524788716', 'B07BKPKT2X', 'B077ZLDHGT', 'B0722YMDHK', 'B001TC0UGC', 'B072N2ZDD8', 'B01MRI21QA', 'B00141DA6U', 'B008B7BC8S', 'B00XVK5RHW', 'B07B4CJFK9', 'B01FST8A90', '0515157090', 'B071RF3QH2', 'B075R94T1L', 'B0176IEUH2', '1623159423', 'B07895KFP9', 'B0016ISNW2', '0399162720', 'B000F3V2MW', 'B071FK9TFC', '1609580427', 'B00I4VTUQW', 'B079D5CD19', 'B005K0B8WO', 'B07D4BKB2B', '1338271121', '1338167626', '0545858453', 'B0787JFG5Q']",
         "['0545703190', '1338159569', '1338106430', 'B076WVQDJZ', 'B06XY4RMGZ', '1338106449', '1338158856', '0545647967', '0545906520', '1338271059', '1338210203', '1338159607', '0545703212', '1338271180', '1338037552', '0545798647', 'B01D52Q7XS', '0545498562', '1338037501', 'B01NCE4FCJ', '0545858461', 'B0158VSZ2U', '1338158848', 'B01A7J2P9M', '1454703865', 'B00UY10MQC', '133815883X', '0545561663', '0545932440', '1338271121', '1784942596', '0545647762', 'B01A7JCYX4', 'B01D52PZ4K', 'B00MYUE3L6', '1338106384', 'B07C87YND5', '0545805473', 'B01CK62DEC', '0545906504', '1338210181', '0545805449', 'B07CG6752H', 'B076MD9Q2M', 'B01ALL7SI4', '1338158813', 'B0749WGD9K', '1591747481', '0545858453', '4865051260', 'B07C7TTKP6', '054534624X', 'B074834L5S', '1338106457', '157054428X', '1684125251', '0545647770', '4805314850']",
         "10615.0",
         "['B078WD6NN5', '1784942596', 'B079D5CD19', '0545906504', 'B01CEY3NPI', '0545805449', '1338271059', '133821019X', 'B07B4CJFK9', '157054428X', '1465402454', 'B07C7TTKP6', 'B071RF3QH2', 'B00IUAAK2A', '0545858453', '0515157090', 'B07C87YND5', '1524788716', 'B071FK9TFC', '1338137204', '1338210203', 'B000F3V2MW', '1591747007', '1591749263', '133815883X', 'B07D83QCN9', '1338158848', 'B01ALL7SI4', 'B076MD9Q2M', 'B00MYUE3L6', '1338159607', 'B072N2ZDD8', 'B01D6R5O0Y', 'B06XY4RMGZ', 'B001BCNTTU', 'B01CRFU26W', 'B01LZLCW0P', 'B00I4VTUQW', '1338159569', 'B01LBLBVQS', 'B012WE5C40', '159174427X', 'B01A7J2P9M', '054549284X', 'B00141DA6U', 'B074834L5S', 'B07JQ6N5KZ', 'B077ZLDHGT', '0545932440', '1338106430', '1338037552', 'B07BKPKT2X', '054534624X', '0545647762', '1591747694', 'B01CK62DEC', '4865051260', 'B0749WGD9K', 'B008B7BC8S', 'B01D52PZ4K', 'B01D52PX92', 'B001TC0UGC', 'B07D4BKB2B', '1338106449', 'B075NQ25WX', '0545703190', 'B01A7JCYX4', '0545647967', 'B004MU723M', 'B00J0U7590', '1338210181', '1609580427', '0545396344', 'B07CG8BZX6', 'B01NCE4FCJ', '1497203228', '1623159423', 'B07CG6752H', 'B005K0B8WO', '0545561663', '0545798647', 'B01FST8A90', '0399162720', 'B0176IEUH2', 'B07CLC8SR2', '1338106457', '1591747481', '0545906520', '1454703865', '1338037501', '0545858461', 'B004PBOGRS', 'B0158VSZ2U', '1912286432', '1546678441', 'B0016ISNW2', 'B00UY10MQC', 'B07895KFP9', '0545703301', 'B075R94T1L', '1681192187', 'B0787JFG5Q', 'B01MRI21QA', 'B01D52Q7XS', 'B076WVQDJZ', '1583228691', 'B07787FMRM', 'B075JH3YMH', 'B0722YMDHK', '0545647770', '1338236571', 'B072C1N3FY', '1338271180', 'B00XVK5RHW', '0545703212', 'B074K7CSR5', '0545498562', '0986223530', '1684125251', '1338271121', '1338158813', 'B0749S6HK6', '0843182938', '1338158856', '4805314850', '1338167626', '1574212125', '0545805473', '1338106384']"
        ],
        [
         "37",
         "0545647770",
         "['Toys & Games', 'Arts & Crafts', 'Craft Kits']",
         "Klutz Tissue Paper Crafts: Colorful Decorations Craft Kit",
         "False",
         "['0545703190', '157054428X', '0545647967', '133821019X', '0545906520', '0545561663', '0545561647', '0545703212', '1338106449', '0545858461', '1338037552', '1338106430', '1338037501', '0545932440', '1338158813', 'B013TRSB6U', 'B00OA6T8TO', '1338158805', 'B000HV2TY2', '074602987X', '0746009763', 'B01MZIOBSY']",
         "[]",
         "227332.0",
         "['B000HV2TY2', 'B01MZIOBSY', '0545647967', 'B013TRSB6U', '157054428X', '133821019X', '0545561647', '0545561663', '074602987X', '0545932440', '0545703212', '0746009763', '1338106430', '1338037552', '1338158805', '0545906520', '1338158813', 'B00OA6T8TO', '1338037501', '0545858461', '1338106449', '0545703190']"
        ],
        [
         "38",
         "0545647789",
         "['Toys & Games', 'Arts & Crafts', 'Craft Kits']",
         "Klutz Air Power: Rocket Science Made Simple Craft Kit",
         "False",
         "['0545647797', '1338106422', '1591747694', '0545906482', '1570548307', '1338106368', '0545396344', '0545703301', '054549284X', 'B074KZZGMQ', '1465458964', '1338158856', '0545805937', 'B01E78WLCU', '1593276885', 'B007WDGZLQ', '1569756414', 'B000FPZSZW', 'B071VNCXQV', '1338106457', '0545449367']",
         "['0545647797', '1338106368', '0545805937', '1570548307', '1591747694', '1338106406', '0545449367', '0545906482', '1338271245', '1338106422', '1338159550', '0545396344', '1338159658', '1338159666', '1338159607', '054549284X', '1338271237', '1338219634', '1338137204', '1338167626', '0545805457', '1338158856', '0545703301', '1338137212', '1591749263', '1591747775', '0545561663', '0545647967', '1338216244', '1338271296', '1338159569', '0545932467', '1878257536', '133827127X', '1338037552', '1338216252', '0545703247', '1591744482', 'B00H3WV9DK', '1338037498', '1591746809', '0545498562', '1338264672', 'B007BTTDSI', '1591748798', '1338271180', '1338210181', '0545906520', '0545561647', '1570544077', '0545939666', 'B017Y5VW78', '0545805449', '1338210211', '0545703190', '1338106392', 'B000ODAIOG', '0545906504', 'B004SRTMGO']",
         "224661.0",
         "['0545703301', 'B074KZZGMQ', '1338106368', '1338159550', '1593276885', '1338159607', '0545805937', '1338106392', '0545805457', '0545906504', '1338106406', '0545647967', '0545805449', 'B007BTTDSI', '1338210181', '1338106422', '1338210211', '1465458964', '1338159569', '0545561647', '0545396344', 'B071VNCXQV', 'B000ODAIOG', '1338271237', '0545561663', '0545906482', '1338271296', 'B017Y5VW78', '1338159666', '1338159658', '054549284X', '1338216244', '0545703247', '1338264672', 'B01E78WLCU', '1878257536', '1338137212', '1591748798', '1338271180', '1570548307', '0545932467', 'B00H3WV9DK', 'B000FPZSZW', '1338271245', '1338137204', '1338037552', '1591747775', '0545498562', '1591744482', '1338216252', '1338106457', '0545449367', '0545906520', '1338037498', '1591749263', '1591747694', '1338158856', 'B007WDGZLQ', '1591746809', '0545939666', 'B004SRTMGO', '1338167626', '1569756414', '133827127X', '1338219634', '1570544077', '0545647797', '0545703190']"
        ],
        [
         "39",
         "0545747325",
         "['Toys & Games', 'Puzzles', 'Floor Puzzles']",
         "Pete the Cat Floor Puzzle 35 Pieces",
         "False",
         "['B00KDGWKZO']",
         "['B00KDGWKZO', 'B00BTZFTTC', 'B00SCB515S', 'B077LRKT8L', '1575618079', 'B00ZQ2QBE6', 'B074P7T3LS', 'B01N12IU6J', 'B00S2VU24I', '157982269X', 'B00UHZ9A6S', 'B078X2GCKX', '0062404415', '1579823645', '0062304240', '0062872591', '1579823106', 'B003ZLZ236', '0062110586', '0062404474', 'B012WFKE74', 'B01N16WQTM', 'B07HD6T8M7', '0062675273', '0062304348', 'B002UBJAO4', 'B00UVSLYX8', '1579822827', '1579824137', 'B01MTAPTEZ', 'B012UTR2E0', '0062304232', 'B00004WHN9', 'B01MU4SA6K', '0062304429', '0061906220']",
         "170291.0",
         "['0062304232', '0062304429', '0062110586', '0062304348', '1579824137', 'B00KDGWKZO', 'B012UTR2E0', 'B01N12IU6J', '1579823645', 'B077LRKT8L', 'B00004WHN9', 'B07HD6T8M7', 'B074P7T3LS', '0062675273', 'B012WFKE74', 'B01MTAPTEZ', '157982269X', '0062404415', '0062872591', 'B00UHZ9A6S', 'B00ZQ2QBE6', 'B00S2VU24I', 'B002UBJAO4', 'B00UVSLYX8', 'B00BTZFTTC', '0062304240', 'B003ZLZ236', '1579822827', 'B00SCB515S', '1579823106', 'B01N16WQTM', 'B01MU4SA6K', '0062404474', '1575618079', 'B078X2GCKX', '0061906220']"
        ],
        [
         "40",
         "0545858437",
         "['Toys & Games', 'Arts & Crafts', 'Craft Kits']",
         "Klutz Design &amp; Dye with No-Heat Batik Craft Kit",
         "False",
         "['0545498562']",
         "['0545858453', '1338106449', '1338158813', '0545805473', '1338158856', '0545906504', '0545650534', '1338106384', '1591749352', '1338037528', '0545906520', '1338210203', 'B079FYYG2V', '0545561663', '1338271121', '1338271180', '1338271261', '1338210173', '1338037501', '0545858631', '0545449359', '133821019X', 'B000QY696E', '0545346207', '0545805457', '0545703182', 'B0060LLICC', '0545498562', 'B071FK9TFC', '1338106457']",
         "321477.0",
         "['0545449359', '0545858631', '0545805457', '0545906504', 'B000QY696E', '1338210173', '0545346207', '133821019X', 'B0060LLICC', '0545561663', '0545858453', 'B079FYYG2V', '1338271180', '1338037528', 'B071FK9TFC', '1591749352', '0545498562', '1338210203', '0545650534', '1338106457', '1338271121', '0545906520', '1338158813', '1338158856', '1338037501', '0545703182', '1338271261', '0545805473', '1338106384', '1338106449']"
        ],
        [
         "41",
         "0545862582",
         "[]",
         "Pete the Cat&rsquo;s Groovy Shoe Tying Kit",
         "True",
         "[]",
         "['B072HFKZQW', '0812065530', '1782448241', 'B000F9ISX2', '042528865X', '0545612888', '1575618079', '006267529X', '0062404458', '1492664359', '1338028367', '0545865026', '0062675273', '1338228765', '054584925X', '0399162836', '0764132199', '1627796401', '0316045470', '031612656X', '0590930028', '0545371570', '1419725300', '1338260979', '1338245457', '006219870X', '0803736800', 'B00NHQFA1I']",
         "1118310.0",
         "['0803736800', 'B000F9ISX2', '0812065530', '042528865X', '1338260979', '0062404458', 'B072HFKZQW', '1627796401', '0545371570', '1492664359', '0399162836', '0545612888', '0062675273', '1782448241', '1419725300', '0590930028', '054584925X', '006267529X', '1338245457', '1338228765', '031612656X', 'B00NHQFA1I', '1338028367', '0764132199', '0316045470', '0545865026', '1575618079', '006219870X']"
        ],
        [
         "42",
         "0547775520",
         "['Toys & Games', 'Learning & Education', 'Science', 'Geology & Earth Sciences']",
         "Focus on California Science Exam View Test Bank (Grades 6-8)",
         "True",
         "[]",
         "[]",
         null,
         null
        ],
        [
         "43",
         "0615343287",
         "['Toys & Games', 'Games', 'Board Games']",
         "Healing Blade",
         "True",
         "[]",
         "[]",
         "1685585.0",
         null
        ],
        [
         "44",
         "0615638996",
         "['Toys & Games', 'Games', 'Card Games']",
         "Mad Dragon: An Anger Control Card Game",
         "False",
         "['B01MREOLRC', 'B07GYRDRX8', '0641699840', '1683730755', 'B016VGFLSC', 'B013J5RPHI', '1575423596', 'B07DP9P4T3', 'B001G4ISMQ', 'B002V7456A', 'B00004W4ZP', 'B07BYYNKCY', '1575429136', '1575429187', '1683731220', 'B000MBE3S2', 'B000JVWPL2', 'B000BXKSFI', 'B00BUV10M0', 'B01N1VPACX', 'B01N4JIK4J', 'B000BXJZ16', 'B001SH7SS6', 'B07BK9YRQF', 'B01HU792YA', 'B07FKSQV47', '1641520922', 'B000HQ8PTK', 'B011SE5G3M', '1572246065', '1572247665', 'B07664DNNC', '1937870510', '1575428989', '1557987017', 'B002V7OFUG', 'B00R9S0WTA', '0968519946', 'B075XK7975', '0641801041', '1782853278', 'B07F9FMSS6', '1591474833', '0995172501', 'B009D62AKU', '0811871452', '157542360X', 'B01GF08O4C', 'B009B2P3M8', 'B002KZVV6A', 'B00OGWZZT4', 'B01CTODEBQ', '1575424207', '0641801033', '0980345537', '1631982028', '1575424495', '0983625689', '1936128306', '1937870014', 'B01CP326ME', '099895800X', 'B000BXJZ0W', 'B01MS86IUP', 'B0027HGQHA', 'B004JPKFRU', '1575423901', 'B002YAL5RG', '0968519997', 'B075F2NM1B', '1683731557', '1683731123', '0966234138', '1575422174', '1586509411', '1602681309', '1934490903', 'B0773KRCCL', '1948040077', 'B001G073QM', '168373145X', 'B000QX9Y9O', 'B00W999NLW', 'B00NH9E4LW', 'B07FB3GPHD', '1575424940', '099524720X', '1934490806', '0875167349', '1683730623', '006268776X', '0692914374', 'B07F7KJNKK', '9659256167', 'B07FNTN9RP', 'B07C63V2YZ', 'B07665SDWC', 'B07FMZZT2K']",
         "['B01MREOLRC', 'B0773KRCCL', 'B01N4JIK4J', 'B013J5RPHI', 'B07DP9P4T3', 'B07BYYNKCY', '0641699840', 'B07GYRDRX8', 'B001G4ISMQ', 'B002V7456A', 'B000JVWPL2', 'B01N1VPACX', '0641801041', 'B000HQ8PTK', 'B016VGFLSC', 'B000MBE3S2', 'B07C63V2YZ', 'B00BUV10M0', 'B000BXKSFI', '1575423596', 'B07BK9YRQF', 'B07FMZZT2K', 'B07FNTN9RP', '1683730755', 'B075XK7975', 'B07D4NSSY9', 'B01FL1816C', 'B07BH7BWL8', 'B001SH7SS6', '9659256167', 'B0147GUZ0C', 'B00004W4ZP', '1575429187', 'B01GF08O4C', 'B00322LHUA', 'B0045V3C50', 'B01HU792YA', '1575429136', '1683731220', 'B07FKSQV47', 'B002V7OFUG', 'B000BXJZ0W', 'B01LXSOZ8W', 'B00960LPY0', 'B0037IJU3U', 'B000PCME9I', 'B000BXJZ16', 'B07665SDWC', 'B00W999NLW', 'B015G40GZS', '0966234154', 'B005AKP046', 'B002KZVV6A', 'B008NB3XUW', 'B00NH9E4LW', 'B06X9Q4WMF', 'B01G96KZR6']",
         "10932.0",
         "['B00BUV10M0', '0641801033', 'B0027HGQHA', '1572247665', 'B00322LHUA', '0641801041', 'B0773KRCCL', '1934490806', 'B005AKP046', 'B07BK9YRQF', '1575424940', 'B07FB3GPHD', 'B001G4ISMQ', 'B00960LPY0', '1575429136', '168373145X', 'B01CTODEBQ', 'B001G073QM', '1937870510', 'B01HU792YA', '0966234138', '1575424207', 'B01MS86IUP', '1641520922', 'B000BXJZ0W', '1948040077', 'B000BXKSFI', '157542360X', 'B002KZVV6A', '0980345537', '0875167349', 'B01N1VPACX', 'B01GF08O4C', 'B011SE5G3M', '1683730623', 'B07BYYNKCY', '1782853278', '0811871452', '0641699840', 'B016VGFLSC', 'B01N4JIK4J', 'B009D62AKU', 'B002V7456A', '1575429187', 'B000QX9Y9O', 'B002YAL5RG', 'B000HQ8PTK', '1557987017', 'B01FL1816C', 'B013J5RPHI', 'B000PCME9I', '1586509411', 'B00OGWZZT4', '1683731220', 'B00W999NLW', 'B0037IJU3U', '1683731557', 'B015G40GZS', 'B000MBE3S2', '1575422174', 'B07FNTN9RP', '1575424495', '1936128306', 'B07FKSQV47', 'B06X9Q4WMF', 'B00R9S0WTA', '1683731123', 'B07664DNNC', 'B07DP9P4T3', '9659256167', '1683730755', 'B009B2P3M8', '0968519997', '1572246065', 'B000JVWPL2', 'B075XK7975', 'B075F2NM1B', '1631982028', '1591474833', '099524720X', 'B00NH9E4LW', 'B01G96KZR6', '0692914374', 'B07BH7BWL8', '1575428989', 'B00004W4ZP', '1937870014', 'B07D4NSSY9', '0966234154', 'B07C63V2YZ', 'B01LXSOZ8W', 'B07FMZZT2K', 'B07665SDWC', '006268776X', 'B002V7OFUG', 'B01MREOLRC', 'B07F9FMSS6', 'B000BXJZ16', 'B004JPKFRU', '0995172501', 'B01CP326ME', '1934490903', 'B0045V3C50', 'B008NB3XUW', '1575423901', '1575423596', 'B0147GUZ0C', 'B07GYRDRX8', '099895800X', '0968519946', 'B07F7KJNKK', '0983625689', '1602681309', 'B001SH7SS6']"
        ],
        [
         "45",
         "064157388X",
         "['Toys & Games', 'Stuffed Animals & Plush Toys', 'Stuffed Animals & Teddy Bears']",
         "Douglas Cuddle Toys Airedale Stuffed Animal Plush Dog 9&quot; L",
         "True",
         "[]",
         "[]",
         "1729910.0",
         null
        ],
        [
         "46",
         "0641742126",
         "['Toys & Games', 'Games', 'Board Games']",
         "Eragon, The official Motion Picture Board Game",
         "False",
         "[]",
         "['B000HVXFTA', 'B000L3UK4C']",
         "426930.0",
         "['B000L3UK4C', 'B000HVXFTA']"
        ],
        [
         "47",
         "0641869665",
         "['Toys & Games', 'Stuffed Animals & Plush Toys', 'Plush Figures']",
         "Don't Let the Pigeon Drive the Bus 6&quot; Pigeon Plush Doll (Mo Willems)",
         "False",
         "['B007RH5E1Y', 'B001E1IVBE', '078681988X', '1423190874', '1484725840', '0641932642', '1423151283', '0786818697', '1423109600', '0786837462', '0786836504', '1423133102', '0786836512', 'B001BRFFAQ', 'B0757R3BDD', 'B005B0QYMW', 'B0018BO4PW', 'B01DUSG1T2', 'B003P7150O', 'B0757RWXXL', '1406315508', '1579822630', 'B00MPK6O12', '1484798163', 'B002C9ZL06', '0439686172', '1406357782', 'B07JPGVY82', '0439800129', '136802131X', 'B000UEI12K', '1368046452', 'B007I6TJLU', '1423106865', '1423114116', '1423164822', '157982269X', '1423113489', '054531836X', '1423133080', '1368024572', '1423119908', '0545041805', 'B073SHHRC6', '1484799674', 'B077NN46DZ', '0786818700', '1423114108', 'B01EAMF332', '1579822428', '1423143434', 'B005316334', '1423178289', 'B074PFWJL2', '1579823874', '1368019013', '1579822177', '1423113470', '1423154045', '0061929573', 'B00YLBKXEM', '142319957X', '1423109619', 'B0000A1Z5K', '1423109627', '1423106873', 'B00009IMCT', '1423102959', '1423179587', '1423140524', '1423183053', '1579823106', '140634009X', 'B00BSHYWI0', '0439490278', '157982322X', '1423102991', '1423119916', 'B00MPK6UMK', '1423133099', '0062304186', '1579824005', 'B0089NB1ZS', 'B07HM95PP1', '006219870X', '1484716302', '006229427X', '1484726464', '1423143426', '1423174917', '1223069125', 'B002UBJAO4', '1579822576', 'B073SH7XPJ', '1579823939']",
         "['B003P7150O', 'B0018BO4PW', 'B01DUSG1T2', 'B073SHHRC6', '1579822576', '1579822630', '0641932642', 'B073SH7XPJ', 'B007RH5E1Y', 'B001E1IVBE', '1579822096', '1484725840', 'B001BRFFAQ', 'B002UBJAO4', '078681988X', '1579824129', 'B01EAMF332', 'B01M5EHS9O', '0786836504', 'B00JGBA4SM', '0786836512', '1423190874', '1423151283', '0786837462', '0786818697', '1423109600', 'B002NDXH34', '054531836X', 'B07H6KJWBJ', '1368046452', '1579822339', 'B01LZV3SWQ', 'B00SDMQLMI', 'B00D484BS2', '1423133102', '157982269X', 'B0757R3BDD', 'B0757RWXXL', 'B01LX87ZXI', 'B07F7GZVW6', 'B005B0QYMW', 'B0007WHYC8', 'B07JP3K5JG', 'B073SGXGRG', '1579824005', '136802131X', '1484798163', 'B07GKLT37W', 'B007I6TJLU', 'B000UEI12K', 'B000HYN6QO', 'B00009IMCT', 'B073SH1K1B', '0439809258']",
         "66147.0",
         "['B07F7GZVW6', '1368019013', '0786836504', 'B005B0QYMW', '1423109627', '1579822630', '0061929573', '157982269X', 'B01EAMF332', 'B073SH1K1B', '1423190874', '1579822339', 'B003P7150O', 'B007I6TJLU', '1423109600', '0641932642', '142319957X', '1579822096', '0545041805', 'B07HM95PP1', 'B07JPGVY82', '1406315508', '1423114116', '1223069125', '1423113470', '1484716302', 'B007RH5E1Y', '006229427X', 'B001BRFFAQ', 'B005316334', 'B0018BO4PW', '1423106873', '157982322X', '1423109619', '1368024572', 'B074PFWJL2', 'B01M5EHS9O', '140634009X', '1423151283', 'B00D484BS2', '1484798163', '0786836512', '1406357782', 'B073SHHRC6', '1423164822', '0786818700', 'B0007WHYC8', 'B00MPK6UMK', '1423178289', '1423133102', 'B00YLBKXEM', '1484726464', '0439686172', '1423119908', '1423102991', 'B0757R3BDD', 'B00MPK6O12', '1423183053', '1423133099', '1423143426', '1579824129', 'B002NDXH34', 'B00BSHYWI0', '1423133080', '1423140524', '0439809258', '1423113489', '0786818697', '1579823874', '1423102959', 'B002UBJAO4', '0062304186', '1579823939', '136802131X', 'B073SH7XPJ', 'B07GKLT37W', '1579824005', 'B001E1IVBE', '1368046452', '1423154045', '006219870X', '078681988X', '1579822177', 'B0757RWXXL', 'B07H6KJWBJ', '0439800129', 'B0089NB1ZS', '1579822576', '0786837462', 'B073SGXGRG', '1423119916', 'B07JP3K5JG', 'B01DUSG1T2', '1423174917', '1423143434', '1484799674', 'B00SDMQLMI', 'B077NN46DZ', '1423179587', '1423114108', '0439490278', 'B000HYN6QO', 'B00009IMCT', '1579822428', '1423106865', 'B01LZV3SWQ', 'B00JGBA4SM', 'B0000A1Z5K', '054531836X', '1484725840', '1579823106', 'B01LX87ZXI', 'B000UEI12K', 'B002C9ZL06']"
        ],
        [
         "48",
         "0641832613",
         "['Toys & Games', 'Stuffed Animals & Plush Toys', 'Plush Puppets']",
         "Mistletoe the Holiday Kitten Plush Toy",
         "True",
         "[]",
         "['0545775175']",
         "735062.0",
         "['0545775175']"
        ],
        [
         "49",
         "0681309016",
         "['Toys & Games', 'Arts & Crafts', 'Drawing & Painting Supplies', 'Drawing & Sketch Pads']",
         "Strawberry Shortcake Coloring Book Multipack (Assorted, Designs Vary)",
         "False",
         "['B00GHJSHEY', 'B00CIZZOEM']",
         "['1453059814']",
         "211556.0",
         "['1453059814', 'B00GHJSHEY', 'B00CIZZOEM']"
        ]
       ],
       "shape": {
        "columns": 8,
        "rows": 633883
       }
      },
      "text/html": [
       "<div>\n",
       "<style scoped>\n",
       "    .dataframe tbody tr th:only-of-type {\n",
       "        vertical-align: middle;\n",
       "    }\n",
       "\n",
       "    .dataframe tbody tr th {\n",
       "        vertical-align: top;\n",
       "    }\n",
       "\n",
       "    .dataframe thead th {\n",
       "        text-align: right;\n",
       "    }\n",
       "</style>\n",
       "<table border=\"1\" class=\"dataframe\">\n",
       "  <thead>\n",
       "    <tr style=\"text-align: right;\">\n",
       "      <th></th>\n",
       "      <th>asin</th>\n",
       "      <th>category</th>\n",
       "      <th>title</th>\n",
       "      <th>missing_price</th>\n",
       "      <th>also_buy</th>\n",
       "      <th>also_view</th>\n",
       "      <th>item_rank</th>\n",
       "      <th>similar</th>\n",
       "    </tr>\n",
       "  </thead>\n",
       "  <tbody>\n",
       "    <tr>\n",
       "      <th>0</th>\n",
       "      <td>0000191639</td>\n",
       "      <td>[Toys &amp; Games, Puzzles, Jigsaw Puzzles]</td>\n",
       "      <td>Dr. Suess 19163 Dr. Seuss Puzzle 3 Pack Bundle</td>\n",
       "      <td>True</td>\n",
       "      <td>[]</td>\n",
       "      <td>[]</td>\n",
       "      <td>2230717.0</td>\n",
       "      <td>None</td>\n",
       "    </tr>\n",
       "    <tr>\n",
       "      <th>1</th>\n",
       "      <td>0004950763</td>\n",
       "      <td>[]</td>\n",
       "      <td>Pathfinder: Book of Beasts - Legendary Foes</td>\n",
       "      <td>True</td>\n",
       "      <td>[]</td>\n",
       "      <td>[]</td>\n",
       "      <td>2294535.0</td>\n",
       "      <td>None</td>\n",
       "    </tr>\n",
       "    <tr>\n",
       "      <th>2</th>\n",
       "      <td>0005069491</td>\n",
       "      <td>[]</td>\n",
       "      <td>Nursery Rhymes Felt Book</td>\n",
       "      <td>True</td>\n",
       "      <td>[]</td>\n",
       "      <td>[]</td>\n",
       "      <td>2871983.0</td>\n",
       "      <td>None</td>\n",
       "    </tr>\n",
       "    <tr>\n",
       "      <th>3</th>\n",
       "      <td>0004983289</td>\n",
       "      <td>[Toys &amp; Games, Games, Card Games]</td>\n",
       "      <td>Dutch Blitz Card Game</td>\n",
       "      <td>False</td>\n",
       "      <td>[B00WIIPQEC]</td>\n",
       "      <td>[B000BBU0KS, B00NQQTZ5G, B00WIIPQEC, B001VIWAO...</td>\n",
       "      <td>376337.0</td>\n",
       "      <td>[B00GM3VXVE, B00000IT4A, B07GY47S23, B00000IWD...</td>\n",
       "    </tr>\n",
       "    <tr>\n",
       "      <th>4</th>\n",
       "      <td>0006466222</td>\n",
       "      <td>[]</td>\n",
       "      <td>Magic Pen Painting (Marvel Super Heroes)</td>\n",
       "      <td>False</td>\n",
       "      <td>[B009SB7TI8, B009SB8Z1I]</td>\n",
       "      <td>[]</td>\n",
       "      <td>934954.0</td>\n",
       "      <td>[B009SB7TI8, B009SB8Z1I]</td>\n",
       "    </tr>\n",
       "    <tr>\n",
       "      <th>...</th>\n",
       "      <td>...</td>\n",
       "      <td>...</td>\n",
       "      <td>...</td>\n",
       "      <td>...</td>\n",
       "      <td>...</td>\n",
       "      <td>...</td>\n",
       "      <td>...</td>\n",
       "      <td>...</td>\n",
       "    </tr>\n",
       "    <tr>\n",
       "      <th>633878</th>\n",
       "      <td>B01HJDFWDK</td>\n",
       "      <td>[Toys &amp; Games, Hobbies, Remote &amp; App Controlle...</td>\n",
       "      <td>Geilienergy 6V 2000mAh NiMH RX Battery Packs w...</td>\n",
       "      <td>False</td>\n",
       "      <td>[B003MXMJX8, B001BCOWLY, B01BQURNBQ, B07GS2S7W...</td>\n",
       "      <td>[]</td>\n",
       "      <td>350404.0</td>\n",
       "      <td>[B000UZEPQK, B014KMHSW6, B01F7R4452, B00USQVIH...</td>\n",
       "    </tr>\n",
       "    <tr>\n",
       "      <th>633879</th>\n",
       "      <td>B01HJDGVFS</td>\n",
       "      <td>[Toys &amp; Games, Sports &amp; Outdoor Play, Pools &amp; ...</td>\n",
       "      <td>Micord Baby Float Toddler Swimming Inflatable ...</td>\n",
       "      <td>True</td>\n",
       "      <td>[]</td>\n",
       "      <td>[]</td>\n",
       "      <td>652169.0</td>\n",
       "      <td>None</td>\n",
       "    </tr>\n",
       "    <tr>\n",
       "      <th>633880</th>\n",
       "      <td>B01HJDUNRU</td>\n",
       "      <td>[Toys &amp; Games, Sports &amp; Outdoor Play, Pools &amp; ...</td>\n",
       "      <td>Premium Swimming Pool Float Hammock, Inflatabl...</td>\n",
       "      <td>False</td>\n",
       "      <td>[B01HQCD5XI, B0023NVVAU, B0023NVVAK, B0007P6MP...</td>\n",
       "      <td>[B0023NVVAK, B073WMYP6M, B01CETEZ78, B073WMLBG...</td>\n",
       "      <td>253066.0</td>\n",
       "      <td>[B0001ILKBE, B01N7FHWPY, B002GMVU4K, B01IBPOO9...</td>\n",
       "    </tr>\n",
       "    <tr>\n",
       "      <th>633881</th>\n",
       "      <td>B01HJFAGJI</td>\n",
       "      <td>[Toys &amp; Games, Learning &amp; Education, Early Dev...</td>\n",
       "      <td>Lewo Wooden Baby Toddler Toys Circle First Bea...</td>\n",
       "      <td>False</td>\n",
       "      <td>[]</td>\n",
       "      <td>[]</td>\n",
       "      <td>36248.0</td>\n",
       "      <td>None</td>\n",
       "    </tr>\n",
       "    <tr>\n",
       "      <th>633882</th>\n",
       "      <td>B01HJHA7GI</td>\n",
       "      <td>[Toys &amp; Games, Baby &amp; Toddler Toys, Music &amp; So...</td>\n",
       "      <td>Baby Einstein Take Along Tunes Musical Toy</td>\n",
       "      <td>True</td>\n",
       "      <td>[]</td>\n",
       "      <td>[]</td>\n",
       "      <td>NaN</td>\n",
       "      <td>None</td>\n",
       "    </tr>\n",
       "  </tbody>\n",
       "</table>\n",
       "<p>633883 rows × 8 columns</p>\n",
       "</div>"
      ],
      "text/plain": [
       "              asin                                           category  \\\n",
       "0       0000191639            [Toys & Games, Puzzles, Jigsaw Puzzles]   \n",
       "1       0004950763                                                 []   \n",
       "2       0005069491                                                 []   \n",
       "3       0004983289                  [Toys & Games, Games, Card Games]   \n",
       "4       0006466222                                                 []   \n",
       "...            ...                                                ...   \n",
       "633878  B01HJDFWDK  [Toys & Games, Hobbies, Remote & App Controlle...   \n",
       "633879  B01HJDGVFS  [Toys & Games, Sports & Outdoor Play, Pools & ...   \n",
       "633880  B01HJDUNRU  [Toys & Games, Sports & Outdoor Play, Pools & ...   \n",
       "633881  B01HJFAGJI  [Toys & Games, Learning & Education, Early Dev...   \n",
       "633882  B01HJHA7GI  [Toys & Games, Baby & Toddler Toys, Music & So...   \n",
       "\n",
       "                                                    title  missing_price  \\\n",
       "0          Dr. Suess 19163 Dr. Seuss Puzzle 3 Pack Bundle           True   \n",
       "1             Pathfinder: Book of Beasts - Legendary Foes           True   \n",
       "2                                Nursery Rhymes Felt Book           True   \n",
       "3                                   Dutch Blitz Card Game          False   \n",
       "4                Magic Pen Painting (Marvel Super Heroes)          False   \n",
       "...                                                   ...            ...   \n",
       "633878  Geilienergy 6V 2000mAh NiMH RX Battery Packs w...          False   \n",
       "633879  Micord Baby Float Toddler Swimming Inflatable ...           True   \n",
       "633880  Premium Swimming Pool Float Hammock, Inflatabl...          False   \n",
       "633881  Lewo Wooden Baby Toddler Toys Circle First Bea...          False   \n",
       "633882         Baby Einstein Take Along Tunes Musical Toy           True   \n",
       "\n",
       "                                                 also_buy  \\\n",
       "0                                                      []   \n",
       "1                                                      []   \n",
       "2                                                      []   \n",
       "3                                            [B00WIIPQEC]   \n",
       "4                                [B009SB7TI8, B009SB8Z1I]   \n",
       "...                                                   ...   \n",
       "633878  [B003MXMJX8, B001BCOWLY, B01BQURNBQ, B07GS2S7W...   \n",
       "633879                                                 []   \n",
       "633880  [B01HQCD5XI, B0023NVVAU, B0023NVVAK, B0007P6MP...   \n",
       "633881                                                 []   \n",
       "633882                                                 []   \n",
       "\n",
       "                                                also_view  item_rank  \\\n",
       "0                                                      []  2230717.0   \n",
       "1                                                      []  2294535.0   \n",
       "2                                                      []  2871983.0   \n",
       "3       [B000BBU0KS, B00NQQTZ5G, B00WIIPQEC, B001VIWAO...   376337.0   \n",
       "4                                                      []   934954.0   \n",
       "...                                                   ...        ...   \n",
       "633878                                                 []   350404.0   \n",
       "633879                                                 []   652169.0   \n",
       "633880  [B0023NVVAK, B073WMYP6M, B01CETEZ78, B073WMLBG...   253066.0   \n",
       "633881                                                 []    36248.0   \n",
       "633882                                                 []        NaN   \n",
       "\n",
       "                                                  similar  \n",
       "0                                                    None  \n",
       "1                                                    None  \n",
       "2                                                    None  \n",
       "3       [B00GM3VXVE, B00000IT4A, B07GY47S23, B00000IWD...  \n",
       "4                                [B009SB7TI8, B009SB8Z1I]  \n",
       "...                                                   ...  \n",
       "633878  [B000UZEPQK, B014KMHSW6, B01F7R4452, B00USQVIH...  \n",
       "633879                                               None  \n",
       "633880  [B0001ILKBE, B01N7FHWPY, B002GMVU4K, B01IBPOO9...  \n",
       "633881                                               None  \n",
       "633882                                               None  \n",
       "\n",
       "[633883 rows x 8 columns]"
      ]
     },
     "execution_count": 31,
     "metadata": {},
     "output_type": "execute_result"
    }
   ],
   "source": [
    "meta_df"
   ]
  },
  {
   "cell_type": "code",
   "execution_count": 32,
   "id": "6f9227f9",
   "metadata": {},
   "outputs": [
    {
     "name": "stderr",
     "output_type": "stream",
     "text": [
      "100%|██████████| 633883/633883 [00:02<00:00, 301729.10it/s]\n"
     ]
    }
   ],
   "source": [
    "# Replace category with top-level subcategory\n",
    "def extract_subcategory(cat):\n",
    "    if len(cat)>0:\n",
    "        return cat[1]\n",
    "    return None\n",
    "\n",
    "meta_df['category']=meta_df.category.progress_apply(extract_subcategory)"
   ]
  },
  {
   "cell_type": "code",
   "execution_count": 33,
   "id": "f85b2ced",
   "metadata": {},
   "outputs": [],
   "source": [
    "# We now fill in missing categories\n",
    "# We create a lookup table of all items that already have a category.\n",
    "lookup_cat=dict()\n",
    "for index,entry in meta_df[meta_df.category.notna()].iterrows():\n",
    "    lookup_cat[entry.asin]=entry.category"
   ]
  },
  {
   "cell_type": "code",
   "execution_count": 34,
   "id": "f359406c",
   "metadata": {},
   "outputs": [],
   "source": [
    "# The following function predicts the category using the category of similar (also_view or also_buy) products.\n",
    "# We pick the most frequently ocurring such category\n",
    "from collections import Counter\n",
    "\n",
    "def most_frequent(lst):\n",
    "    return Counter(lst).most_common(1)[0][0]\n",
    "\n",
    "def predict_category_similar_prods(entry):\n",
    "    if entry.category!=None:\n",
    "        return entry.category\n",
    "    similar_prods=entry.similar\n",
    "    if similar_prods==None:\n",
    "        return None\n",
    "    similar_categories=[]\n",
    "    for prod in similar_prods:\n",
    "        category=lookup_cat.get(prod,-1)\n",
    "        if category!=-1:\n",
    "            similar_categories.append(category)\n",
    "    if len(similar_categories)>0:\n",
    "        return most_frequent(similar_categories)\n",
    "    return None"
   ]
  },
  {
   "cell_type": "code",
   "execution_count": 35,
   "id": "3ee3053a",
   "metadata": {},
   "outputs": [],
   "source": [
    "# Fill in as many missing category values as possible\n",
    "meta_df.category=meta_df.apply(predict_category_similar_prods,axis=1)"
   ]
  },
  {
   "cell_type": "code",
   "execution_count": 36,
   "id": "0466a8cf",
   "metadata": {},
   "outputs": [],
   "source": [
    "# Drop non-hashable columns that are no longer needed\n",
    "meta_df=meta_df.drop(columns=['also_buy','also_view','similar'])"
   ]
  },
  {
   "cell_type": "code",
   "execution_count": 37,
   "id": "49f7c346",
   "metadata": {},
   "outputs": [],
   "source": [
    "# Drop duplicate rows\n",
    "meta_df=meta_df.drop_duplicates()"
   ]
  },
  {
   "cell_type": "code",
   "execution_count": 38,
   "id": "15109b8b",
   "metadata": {},
   "outputs": [],
   "source": [
    "# Verify asins are unique\n",
    "assert(meta_df.asin.duplicated().unique()==[False])"
   ]
  },
  {
   "cell_type": "code",
   "execution_count": 39,
   "id": "90932c57",
   "metadata": {},
   "outputs": [],
   "source": [
    "# Drop missing items with missing rank or missing category\n",
    "pd.DataFrame.dropna(meta_df,axis=0,subset=['category','item_rank'],inplace=True)"
   ]
  },
  {
   "cell_type": "code",
   "execution_count": 40,
   "id": "53f94930",
   "metadata": {},
   "outputs": [],
   "source": [
    "# Export metadata feature\n",
    "meta_df.to_parquet(\"../Data/metadata_cleaned.parquet\")"
   ]
  },
  {
   "cell_type": "code",
   "execution_count": null,
   "id": "bd63a73e",
   "metadata": {},
   "outputs": [],
   "source": []
  }
 ],
 "metadata": {
  "kernelspec": {
   "display_name": "erdos_summer_2025",
   "language": "python",
   "name": "python3"
  },
  "language_info": {
   "codemirror_mode": {
    "name": "ipython",
    "version": 3
   },
   "file_extension": ".py",
   "mimetype": "text/x-python",
   "name": "python",
   "nbconvert_exporter": "python",
   "pygments_lexer": "ipython3",
   "version": "3.12.11"
  }
 },
 "nbformat": 4,
 "nbformat_minor": 5
}
